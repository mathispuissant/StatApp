{
 "metadata": {
  "language_info": {
   "codemirror_mode": {
    "name": "ipython",
    "version": 3
   },
   "file_extension": ".py",
   "mimetype": "text/x-python",
   "name": "python",
   "nbconvert_exporter": "python",
   "pygments_lexer": "ipython3",
   "version": "3.7.4-final"
  },
  "orig_nbformat": 2,
  "kernelspec": {
   "name": "python3",
   "display_name": "Python 3"
  }
 },
 "nbformat": 4,
 "nbformat_minor": 2,
 "cells": [
  {
   "cell_type": "code",
   "execution_count": 1,
   "metadata": {},
   "outputs": [],
   "source": [
    "import pandas as pd\n",
    "import numpy as np\n",
    "import matplotlib.pyplot as plt\n",
    "from json import loads #pour lire des dicos dans des strings"
   ]
  },
  {
   "cell_type": "code",
   "execution_count": 2,
   "metadata": {},
   "outputs": [],
   "source": [
    "path = \"velib_358.csv\"\n",
    "velib = pd.read_csv(path, sep = ';')"
   ]
  },
  {
   "cell_type": "code",
   "execution_count": 3,
   "metadata": {},
   "outputs": [],
   "source": [
    "\n",
    "\n",
    "def to_dictionary(jour):\n",
    "    \"\"\"transformer le format chelou en dico\"\"\"\n",
    "\n",
    "    dia = '{' + jour[2:-2].replace('{','').replace('}','').replace(\"'\",'\"') + '}'\n",
    "    try :\n",
    "        dictionary = loads(dia)\n",
    "    except:\n",
    "        dictionary = {'mechanical': 0, 'ebike': 0}\n",
    "    \n",
    "    return dictionary\n",
    "    return dictionary\n",
    "\n",
    "col = velib.columns"
   ]
  },
  {
   "cell_type": "code",
   "execution_count": 16,
   "metadata": {},
   "outputs": [
    {
     "output_type": "error",
     "ename": "Error",
     "evalue": "KeyboardInterrupt",
     "traceback": [
      "Error: KeyboardInterrupt",
      "at E.parseConnectInfo (c:\\Users\\mathi\\.vscode\\extensions\\ms-python.python-2020.10.332292344\\out\\client\\extension.js:56:424168)",
      "at E.connectToLocal (c:\\Users\\mathi\\.vscode\\extensions\\ms-python.python-2020.10.332292344\\out\\client\\extension.js:56:424771)",
      "at async E.connect (c:\\Users\\mathi\\.vscode\\extensions\\ms-python.python-2020.10.332292344\\out\\client\\extension.js:56:420346)",
      "at async E.startDebugSession (c:\\Users\\mathi\\.vscode\\extensions\\ms-python.python-2020.10.332292344\\out\\client\\extension.js:56:419346)",
      "at async f.submitCode (c:\\Users\\mathi\\.vscode\\extensions\\ms-python.python-2020.10.332292344\\out\\client\\extension.js:32:572760)",
      "at async f.handleRunByLine (c:\\Users\\mathi\\.vscode\\extensions\\ms-python.python-2020.10.332292344\\out\\client\\extension.js:17:124782)"
     ]
    }
   ],
   "source": []
  },
  {
   "cell_type": "code",
   "execution_count": 4,
   "metadata": {},
   "outputs": [],
   "source": [
    "velib = velib.set_index(\"station_id\")"
   ]
  },
  {
   "cell_type": "code",
   "execution_count": null,
   "metadata": {},
   "outputs": [],
   "source": [
    "velib.head()"
   ]
  }
 ]
}