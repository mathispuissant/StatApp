{
 "metadata": {
  "language_info": {
   "codemirror_mode": {
    "name": "ipython",
    "version": 3
   },
   "file_extension": ".py",
   "mimetype": "text/x-python",
   "name": "python",
   "nbconvert_exporter": "python",
   "pygments_lexer": "ipython3",
   "version": "3.7.4-final"
  },
  "orig_nbformat": 2,
  "kernelspec": {
   "name": "python3",
   "display_name": "Python 3"
  }
 },
 "nbformat": 4,
 "nbformat_minor": 2,
 "cells": [
  {
   "source": [
    "# Exploration de la base de données vélib fournie par Depersin et Schreuder"
   ],
   "cell_type": "markdown",
   "metadata": {}
  },
  {
   "cell_type": "code",
   "execution_count": 9,
   "metadata": {},
   "outputs": [],
   "source": [
    "import pandas as pd\n",
    "import numpy as np\n",
    "import matplotlib.pyplot as plt\n",
    "from json import loads #pour lire des dicos dans des strings"
   ]
  },
  {
   "cell_type": "code",
   "execution_count": 2,
   "metadata": {},
   "outputs": [],
   "source": [
    "path = \"velib_358.csv\"\n",
    "velib = pd.read_csv(path, sep = ';')"
   ]
  },
  {
   "cell_type": "code",
   "execution_count": 3,
   "metadata": {},
   "outputs": [],
   "source": [
    "def to_dictionary(jour):\n",
    "    \"\"\"transformer le format chelou en dico\"\"\"\n",
    "\n",
    "    dia = '{' + jour[2:-2].replace('{','').replace('}','').replace(\"'\",'\"') + '}'\n",
    "    try :\n",
    "        dictionary = loads(dia)\n",
    "    except:\n",
    "        dictionary = {'mechanical': 0, 'ebike': 0}\n",
    "    \n",
    "    return dictionary\n",
    "\n",
    "col = velib.columns"
   ]
  },
  {
   "cell_type": "code",
   "execution_count": 4,
   "metadata": {},
   "outputs": [],
   "source": [
    "velib = velib.set_index(\"station_id\")"
   ]
  },
  {
   "cell_type": "code",
   "execution_count": 5,
   "metadata": {},
   "outputs": [
    {
     "output_type": "execute_result",
     "data": {
      "text/plain": [
       "                             10/19/20;18:01:51  \\\n",
       "station_id                                       \n",
       "213688169    [{'mechanical': 0}, {'ebike': 2}]   \n",
       "99950133    [{'mechanical': 41}, {'ebike': 5}]   \n",
       "516709288    [{'mechanical': 0}, {'ebike': 1}]   \n",
       "36255        [{'mechanical': 0}, {'ebike': 0}]   \n",
       "37815204     [{'mechanical': 4}, {'ebike': 1}]   \n",
       "\n",
       "                             10/19/20;18:06:52  \\\n",
       "station_id                                       \n",
       "213688169    [{'mechanical': 0}, {'ebike': 2}]   \n",
       "99950133    [{'mechanical': 41}, {'ebike': 5}]   \n",
       "516709288    [{'mechanical': 0}, {'ebike': 1}]   \n",
       "36255        [{'mechanical': 0}, {'ebike': 0}]   \n",
       "37815204     [{'mechanical': 3}, {'ebike': 1}]   \n",
       "\n",
       "                             10/19/20;18:11:52  \\\n",
       "station_id                                       \n",
       "213688169    [{'mechanical': 0}, {'ebike': 2}]   \n",
       "99950133    [{'mechanical': 42}, {'ebike': 5}]   \n",
       "516709288    [{'mechanical': 0}, {'ebike': 1}]   \n",
       "36255        [{'mechanical': 0}, {'ebike': 0}]   \n",
       "37815204     [{'mechanical': 1}, {'ebike': 1}]   \n",
       "\n",
       "                             10/19/20;18:16:52  \\\n",
       "station_id                                       \n",
       "213688169    [{'mechanical': 0}, {'ebike': 3}]   \n",
       "99950133    [{'mechanical': 42}, {'ebike': 7}]   \n",
       "516709288    [{'mechanical': 1}, {'ebike': 1}]   \n",
       "36255        [{'mechanical': 0}, {'ebike': 0}]   \n",
       "37815204     [{'mechanical': 1}, {'ebike': 1}]   \n",
       "\n",
       "                             10/19/20;18:21:52  \\\n",
       "station_id                                       \n",
       "213688169    [{'mechanical': 0}, {'ebike': 3}]   \n",
       "99950133    [{'mechanical': 41}, {'ebike': 5}]   \n",
       "516709288    [{'mechanical': 1}, {'ebike': 1}]   \n",
       "36255        [{'mechanical': 0}, {'ebike': 2}]   \n",
       "37815204     [{'mechanical': 2}, {'ebike': 1}]   \n",
       "\n",
       "                             10/19/20;18:26:53  \\\n",
       "station_id                                       \n",
       "213688169    [{'mechanical': 1}, {'ebike': 2}]   \n",
       "99950133    [{'mechanical': 40}, {'ebike': 4}]   \n",
       "516709288    [{'mechanical': 1}, {'ebike': 1}]   \n",
       "36255        [{'mechanical': 0}, {'ebike': 4}]   \n",
       "37815204     [{'mechanical': 3}, {'ebike': 1}]   \n",
       "\n",
       "                             10/19/20;18:31:53  \\\n",
       "station_id                                       \n",
       "213688169    [{'mechanical': 0}, {'ebike': 1}]   \n",
       "99950133    [{'mechanical': 38}, {'ebike': 5}]   \n",
       "516709288    [{'mechanical': 2}, {'ebike': 1}]   \n",
       "36255        [{'mechanical': 0}, {'ebike': 4}]   \n",
       "37815204     [{'mechanical': 3}, {'ebike': 2}]   \n",
       "\n",
       "                             10/19/20;18:36:53  \\\n",
       "station_id                                       \n",
       "213688169    [{'mechanical': 0}, {'ebike': 1}]   \n",
       "99950133    [{'mechanical': 39}, {'ebike': 4}]   \n",
       "516709288    [{'mechanical': 0}, {'ebike': 1}]   \n",
       "36255        [{'mechanical': 0}, {'ebike': 4}]   \n",
       "37815204     [{'mechanical': 2}, {'ebike': 0}]   \n",
       "\n",
       "                             10/19/20;18:41:54  \\\n",
       "station_id                                       \n",
       "213688169    [{'mechanical': 0}, {'ebike': 1}]   \n",
       "99950133    [{'mechanical': 40}, {'ebike': 5}]   \n",
       "516709288    [{'mechanical': 0}, {'ebike': 1}]   \n",
       "36255        [{'mechanical': 1}, {'ebike': 3}]   \n",
       "37815204     [{'mechanical': 2}, {'ebike': 0}]   \n",
       "\n",
       "                             10/19/20;18:46:54  ...  \\\n",
       "station_id                                      ...   \n",
       "213688169    [{'mechanical': 0}, {'ebike': 2}]  ...   \n",
       "99950133    [{'mechanical': 37}, {'ebike': 6}]  ...   \n",
       "516709288    [{'mechanical': 0}, {'ebike': 1}]  ...   \n",
       "36255        [{'mechanical': 2}, {'ebike': 2}]  ...   \n",
       "37815204     [{'mechanical': 4}, {'ebike': 0}]  ...   \n",
       "\n",
       "                            11/03/20;16:01:46  \\\n",
       "station_id                                      \n",
       "213688169   [{'mechanical': 4}, {'ebike': 6}]   \n",
       "99950133    [{'mechanical': 2}, {'ebike': 0}]   \n",
       "516709288   [{'mechanical': 1}, {'ebike': 2}]   \n",
       "36255       [{'mechanical': 0}, {'ebike': 3}]   \n",
       "37815204    [{'mechanical': 6}, {'ebike': 0}]   \n",
       "\n",
       "                            11/03/20;16:06:47  \\\n",
       "station_id                                      \n",
       "213688169   [{'mechanical': 4}, {'ebike': 6}]   \n",
       "99950133    [{'mechanical': 2}, {'ebike': 0}]   \n",
       "516709288   [{'mechanical': 1}, {'ebike': 2}]   \n",
       "36255       [{'mechanical': 0}, {'ebike': 3}]   \n",
       "37815204    [{'mechanical': 7}, {'ebike': 0}]   \n",
       "\n",
       "                            11/03/20;16:11:47  \\\n",
       "station_id                                      \n",
       "213688169   [{'mechanical': 3}, {'ebike': 6}]   \n",
       "99950133    [{'mechanical': 2}, {'ebike': 0}]   \n",
       "516709288   [{'mechanical': 1}, {'ebike': 2}]   \n",
       "36255       [{'mechanical': 0}, {'ebike': 3}]   \n",
       "37815204    [{'mechanical': 7}, {'ebike': 0}]   \n",
       "\n",
       "                            11/03/20;16:16:47  \\\n",
       "station_id                                      \n",
       "213688169   [{'mechanical': 4}, {'ebike': 7}]   \n",
       "99950133    [{'mechanical': 2}, {'ebike': 1}]   \n",
       "516709288   [{'mechanical': 1}, {'ebike': 2}]   \n",
       "36255       [{'mechanical': 0}, {'ebike': 3}]   \n",
       "37815204    [{'mechanical': 7}, {'ebike': 1}]   \n",
       "\n",
       "                            11/03/20;16:21:48  \\\n",
       "station_id                                      \n",
       "213688169   [{'mechanical': 5}, {'ebike': 7}]   \n",
       "99950133    [{'mechanical': 2}, {'ebike': 1}]   \n",
       "516709288   [{'mechanical': 1}, {'ebike': 2}]   \n",
       "36255       [{'mechanical': 0}, {'ebike': 2}]   \n",
       "37815204    [{'mechanical': 7}, {'ebike': 1}]   \n",
       "\n",
       "                            11/03/20;16:26:48  \\\n",
       "station_id                                      \n",
       "213688169   [{'mechanical': 5}, {'ebike': 7}]   \n",
       "99950133    [{'mechanical': 2}, {'ebike': 0}]   \n",
       "516709288   [{'mechanical': 1}, {'ebike': 3}]   \n",
       "36255       [{'mechanical': 0}, {'ebike': 2}]   \n",
       "37815204    [{'mechanical': 8}, {'ebike': 1}]   \n",
       "\n",
       "                            11/03/20;16:31:48  \\\n",
       "station_id                                      \n",
       "213688169   [{'mechanical': 5}, {'ebike': 8}]   \n",
       "99950133    [{'mechanical': 2}, {'ebike': 0}]   \n",
       "516709288   [{'mechanical': 1}, {'ebike': 2}]   \n",
       "36255       [{'mechanical': 0}, {'ebike': 3}]   \n",
       "37815204    [{'mechanical': 9}, {'ebike': 0}]   \n",
       "\n",
       "                             11/03/20;16:36:49  \\\n",
       "station_id                                       \n",
       "213688169    [{'mechanical': 5}, {'ebike': 8}]   \n",
       "99950133     [{'mechanical': 2}, {'ebike': 0}]   \n",
       "516709288    [{'mechanical': 1}, {'ebike': 3}]   \n",
       "36255        [{'mechanical': 0}, {'ebike': 3}]   \n",
       "37815204    [{'mechanical': 10}, {'ebike': 0}]   \n",
       "\n",
       "                            11/03/20;16:41:49  \\\n",
       "station_id                                      \n",
       "213688169   [{'mechanical': 5}, {'ebike': 8}]   \n",
       "99950133    [{'mechanical': 2}, {'ebike': 0}]   \n",
       "516709288   [{'mechanical': 1}, {'ebike': 3}]   \n",
       "36255       [{'mechanical': 0}, {'ebike': 3}]   \n",
       "37815204    [{'mechanical': 9}, {'ebike': 0}]   \n",
       "\n",
       "                            11/03/20;16:46:49  \n",
       "station_id                                     \n",
       "213688169   [{'mechanical': 5}, {'ebike': 7}]  \n",
       "99950133    [{'mechanical': 2}, {'ebike': 0}]  \n",
       "516709288   [{'mechanical': 1}, {'ebike': 3}]  \n",
       "36255       [{'mechanical': 0}, {'ebike': 2}]  \n",
       "37815204    [{'mechanical': 9}, {'ebike': 0}]  \n",
       "\n",
       "[5 rows x 4297 columns]"
      ],
      "text/html": "<div>\n<style scoped>\n    .dataframe tbody tr th:only-of-type {\n        vertical-align: middle;\n    }\n\n    .dataframe tbody tr th {\n        vertical-align: top;\n    }\n\n    .dataframe thead th {\n        text-align: right;\n    }\n</style>\n<table border=\"1\" class=\"dataframe\">\n  <thead>\n    <tr style=\"text-align: right;\">\n      <th></th>\n      <th>10/19/20;18:01:51</th>\n      <th>10/19/20;18:06:52</th>\n      <th>10/19/20;18:11:52</th>\n      <th>10/19/20;18:16:52</th>\n      <th>10/19/20;18:21:52</th>\n      <th>10/19/20;18:26:53</th>\n      <th>10/19/20;18:31:53</th>\n      <th>10/19/20;18:36:53</th>\n      <th>10/19/20;18:41:54</th>\n      <th>10/19/20;18:46:54</th>\n      <th>...</th>\n      <th>11/03/20;16:01:46</th>\n      <th>11/03/20;16:06:47</th>\n      <th>11/03/20;16:11:47</th>\n      <th>11/03/20;16:16:47</th>\n      <th>11/03/20;16:21:48</th>\n      <th>11/03/20;16:26:48</th>\n      <th>11/03/20;16:31:48</th>\n      <th>11/03/20;16:36:49</th>\n      <th>11/03/20;16:41:49</th>\n      <th>11/03/20;16:46:49</th>\n    </tr>\n    <tr>\n      <th>station_id</th>\n      <th></th>\n      <th></th>\n      <th></th>\n      <th></th>\n      <th></th>\n      <th></th>\n      <th></th>\n      <th></th>\n      <th></th>\n      <th></th>\n      <th></th>\n      <th></th>\n      <th></th>\n      <th></th>\n      <th></th>\n      <th></th>\n      <th></th>\n      <th></th>\n      <th></th>\n      <th></th>\n      <th></th>\n    </tr>\n  </thead>\n  <tbody>\n    <tr>\n      <th>213688169</th>\n      <td>[{'mechanical': 0}, {'ebike': 2}]</td>\n      <td>[{'mechanical': 0}, {'ebike': 2}]</td>\n      <td>[{'mechanical': 0}, {'ebike': 2}]</td>\n      <td>[{'mechanical': 0}, {'ebike': 3}]</td>\n      <td>[{'mechanical': 0}, {'ebike': 3}]</td>\n      <td>[{'mechanical': 1}, {'ebike': 2}]</td>\n      <td>[{'mechanical': 0}, {'ebike': 1}]</td>\n      <td>[{'mechanical': 0}, {'ebike': 1}]</td>\n      <td>[{'mechanical': 0}, {'ebike': 1}]</td>\n      <td>[{'mechanical': 0}, {'ebike': 2}]</td>\n      <td>...</td>\n      <td>[{'mechanical': 4}, {'ebike': 6}]</td>\n      <td>[{'mechanical': 4}, {'ebike': 6}]</td>\n      <td>[{'mechanical': 3}, {'ebike': 6}]</td>\n      <td>[{'mechanical': 4}, {'ebike': 7}]</td>\n      <td>[{'mechanical': 5}, {'ebike': 7}]</td>\n      <td>[{'mechanical': 5}, {'ebike': 7}]</td>\n      <td>[{'mechanical': 5}, {'ebike': 8}]</td>\n      <td>[{'mechanical': 5}, {'ebike': 8}]</td>\n      <td>[{'mechanical': 5}, {'ebike': 8}]</td>\n      <td>[{'mechanical': 5}, {'ebike': 7}]</td>\n    </tr>\n    <tr>\n      <th>99950133</th>\n      <td>[{'mechanical': 41}, {'ebike': 5}]</td>\n      <td>[{'mechanical': 41}, {'ebike': 5}]</td>\n      <td>[{'mechanical': 42}, {'ebike': 5}]</td>\n      <td>[{'mechanical': 42}, {'ebike': 7}]</td>\n      <td>[{'mechanical': 41}, {'ebike': 5}]</td>\n      <td>[{'mechanical': 40}, {'ebike': 4}]</td>\n      <td>[{'mechanical': 38}, {'ebike': 5}]</td>\n      <td>[{'mechanical': 39}, {'ebike': 4}]</td>\n      <td>[{'mechanical': 40}, {'ebike': 5}]</td>\n      <td>[{'mechanical': 37}, {'ebike': 6}]</td>\n      <td>...</td>\n      <td>[{'mechanical': 2}, {'ebike': 0}]</td>\n      <td>[{'mechanical': 2}, {'ebike': 0}]</td>\n      <td>[{'mechanical': 2}, {'ebike': 0}]</td>\n      <td>[{'mechanical': 2}, {'ebike': 1}]</td>\n      <td>[{'mechanical': 2}, {'ebike': 1}]</td>\n      <td>[{'mechanical': 2}, {'ebike': 0}]</td>\n      <td>[{'mechanical': 2}, {'ebike': 0}]</td>\n      <td>[{'mechanical': 2}, {'ebike': 0}]</td>\n      <td>[{'mechanical': 2}, {'ebike': 0}]</td>\n      <td>[{'mechanical': 2}, {'ebike': 0}]</td>\n    </tr>\n    <tr>\n      <th>516709288</th>\n      <td>[{'mechanical': 0}, {'ebike': 1}]</td>\n      <td>[{'mechanical': 0}, {'ebike': 1}]</td>\n      <td>[{'mechanical': 0}, {'ebike': 1}]</td>\n      <td>[{'mechanical': 1}, {'ebike': 1}]</td>\n      <td>[{'mechanical': 1}, {'ebike': 1}]</td>\n      <td>[{'mechanical': 1}, {'ebike': 1}]</td>\n      <td>[{'mechanical': 2}, {'ebike': 1}]</td>\n      <td>[{'mechanical': 0}, {'ebike': 1}]</td>\n      <td>[{'mechanical': 0}, {'ebike': 1}]</td>\n      <td>[{'mechanical': 0}, {'ebike': 1}]</td>\n      <td>...</td>\n      <td>[{'mechanical': 1}, {'ebike': 2}]</td>\n      <td>[{'mechanical': 1}, {'ebike': 2}]</td>\n      <td>[{'mechanical': 1}, {'ebike': 2}]</td>\n      <td>[{'mechanical': 1}, {'ebike': 2}]</td>\n      <td>[{'mechanical': 1}, {'ebike': 2}]</td>\n      <td>[{'mechanical': 1}, {'ebike': 3}]</td>\n      <td>[{'mechanical': 1}, {'ebike': 2}]</td>\n      <td>[{'mechanical': 1}, {'ebike': 3}]</td>\n      <td>[{'mechanical': 1}, {'ebike': 3}]</td>\n      <td>[{'mechanical': 1}, {'ebike': 3}]</td>\n    </tr>\n    <tr>\n      <th>36255</th>\n      <td>[{'mechanical': 0}, {'ebike': 0}]</td>\n      <td>[{'mechanical': 0}, {'ebike': 0}]</td>\n      <td>[{'mechanical': 0}, {'ebike': 0}]</td>\n      <td>[{'mechanical': 0}, {'ebike': 0}]</td>\n      <td>[{'mechanical': 0}, {'ebike': 2}]</td>\n      <td>[{'mechanical': 0}, {'ebike': 4}]</td>\n      <td>[{'mechanical': 0}, {'ebike': 4}]</td>\n      <td>[{'mechanical': 0}, {'ebike': 4}]</td>\n      <td>[{'mechanical': 1}, {'ebike': 3}]</td>\n      <td>[{'mechanical': 2}, {'ebike': 2}]</td>\n      <td>...</td>\n      <td>[{'mechanical': 0}, {'ebike': 3}]</td>\n      <td>[{'mechanical': 0}, {'ebike': 3}]</td>\n      <td>[{'mechanical': 0}, {'ebike': 3}]</td>\n      <td>[{'mechanical': 0}, {'ebike': 3}]</td>\n      <td>[{'mechanical': 0}, {'ebike': 2}]</td>\n      <td>[{'mechanical': 0}, {'ebike': 2}]</td>\n      <td>[{'mechanical': 0}, {'ebike': 3}]</td>\n      <td>[{'mechanical': 0}, {'ebike': 3}]</td>\n      <td>[{'mechanical': 0}, {'ebike': 3}]</td>\n      <td>[{'mechanical': 0}, {'ebike': 2}]</td>\n    </tr>\n    <tr>\n      <th>37815204</th>\n      <td>[{'mechanical': 4}, {'ebike': 1}]</td>\n      <td>[{'mechanical': 3}, {'ebike': 1}]</td>\n      <td>[{'mechanical': 1}, {'ebike': 1}]</td>\n      <td>[{'mechanical': 1}, {'ebike': 1}]</td>\n      <td>[{'mechanical': 2}, {'ebike': 1}]</td>\n      <td>[{'mechanical': 3}, {'ebike': 1}]</td>\n      <td>[{'mechanical': 3}, {'ebike': 2}]</td>\n      <td>[{'mechanical': 2}, {'ebike': 0}]</td>\n      <td>[{'mechanical': 2}, {'ebike': 0}]</td>\n      <td>[{'mechanical': 4}, {'ebike': 0}]</td>\n      <td>...</td>\n      <td>[{'mechanical': 6}, {'ebike': 0}]</td>\n      <td>[{'mechanical': 7}, {'ebike': 0}]</td>\n      <td>[{'mechanical': 7}, {'ebike': 0}]</td>\n      <td>[{'mechanical': 7}, {'ebike': 1}]</td>\n      <td>[{'mechanical': 7}, {'ebike': 1}]</td>\n      <td>[{'mechanical': 8}, {'ebike': 1}]</td>\n      <td>[{'mechanical': 9}, {'ebike': 0}]</td>\n      <td>[{'mechanical': 10}, {'ebike': 0}]</td>\n      <td>[{'mechanical': 9}, {'ebike': 0}]</td>\n      <td>[{'mechanical': 9}, {'ebike': 0}]</td>\n    </tr>\n  </tbody>\n</table>\n<p>5 rows × 4297 columns</p>\n</div>"
     },
     "metadata": {},
     "execution_count": 5
    }
   ],
   "source": [
    "velib.head()"
   ]
  },
  {
   "source": [
    "# Pour connaître le nom du projet et son fuseau horaire : table `system_formation` avec :\n",
    "- language : langue utilisée dans l’ensemble des fichiers\n",
    "- name : nom du système\n",
    "- system_id : identifiant unique du système\n",
    "- timezone : zone horaire associée au système\n",
    "- url :adresse associée au système\n",
    "- lastUpdatedOther : date de dernière mis-à jour des informations de la ville\n",
    "- ttl : « time to live » , durée de vie de l’information au-delà de laquelle elle doit être considérée comme obsolète\n"
   ],
   "cell_type": "markdown",
   "metadata": {}
  },
  {
   "cell_type": "code",
   "execution_count": 17,
   "metadata": {},
   "outputs": [
    {
     "output_type": "execute_result",
     "data": {
      "text/plain": [
       "  system_id   name url      timezone language\n",
       "0     Paris  Paris      Europe/Paris       en"
      ],
      "text/html": "<div>\n<style scoped>\n    .dataframe tbody tr th:only-of-type {\n        vertical-align: middle;\n    }\n\n    .dataframe tbody tr th {\n        vertical-align: top;\n    }\n\n    .dataframe thead th {\n        text-align: right;\n    }\n</style>\n<table border=\"1\" class=\"dataframe\">\n  <thead>\n    <tr style=\"text-align: right;\">\n      <th></th>\n      <th>system_id</th>\n      <th>name</th>\n      <th>url</th>\n      <th>timezone</th>\n      <th>language</th>\n    </tr>\n  </thead>\n  <tbody>\n    <tr>\n      <th>0</th>\n      <td>Paris</td>\n      <td>Paris</td>\n      <td></td>\n      <td>Europe/Paris</td>\n      <td>en</td>\n    </tr>\n  </tbody>\n</table>\n</div>"
     },
     "metadata": {},
     "execution_count": 17
    }
   ],
   "source": [
    "import urllib.request\n",
    "import json\n",
    "from pandas.io.json import json_normalize\n",
    "\n",
    "request= urllib.request.Request('https://velib-metropole-opendata.smoove.pro/opendata/Velib_Metropole/system_information.json')\n",
    "response = urllib.request.urlopen(request)\n",
    "station_info = response.read()\n",
    "data = json.loads(station_info)\n",
    "df_station_info = json_normalize(data['data'])\n",
    "df_station_info.head()"
   ]
  },
  {
   "source": [
    "# Pour connaître les flux existants : la table `gbfs`\n",
    "\n"
   ],
   "cell_type": "markdown",
   "metadata": {}
  },
  {
   "cell_type": "code",
   "execution_count": 12,
   "metadata": {},
   "outputs": [
    {
     "output_type": "execute_result",
     "data": {
      "text/plain": [
       "                  name                                                url\n",
       "0                 gbfs  https://velib-metropole-opendata.smoove.pro/op...\n",
       "1   system_information  https://velib-metropole-opendata.smoove.pro/op...\n",
       "2  station_information  https://velib-metropole-opendata.smoove.pro/op...\n",
       "3       station_status  https://velib-metropole-opendata.smoove.pro/op..."
      ],
      "text/html": "<div>\n<style scoped>\n    .dataframe tbody tr th:only-of-type {\n        vertical-align: middle;\n    }\n\n    .dataframe tbody tr th {\n        vertical-align: top;\n    }\n\n    .dataframe thead th {\n        text-align: right;\n    }\n</style>\n<table border=\"1\" class=\"dataframe\">\n  <thead>\n    <tr style=\"text-align: right;\">\n      <th></th>\n      <th>name</th>\n      <th>url</th>\n    </tr>\n  </thead>\n  <tbody>\n    <tr>\n      <th>0</th>\n      <td>gbfs</td>\n      <td>https://velib-metropole-opendata.smoove.pro/op...</td>\n    </tr>\n    <tr>\n      <th>1</th>\n      <td>system_information</td>\n      <td>https://velib-metropole-opendata.smoove.pro/op...</td>\n    </tr>\n    <tr>\n      <th>2</th>\n      <td>station_information</td>\n      <td>https://velib-metropole-opendata.smoove.pro/op...</td>\n    </tr>\n    <tr>\n      <th>3</th>\n      <td>station_status</td>\n      <td>https://velib-metropole-opendata.smoove.pro/op...</td>\n    </tr>\n  </tbody>\n</table>\n</div>"
     },
     "metadata": {},
     "execution_count": 12
    }
   ],
   "source": [
    "request= urllib.request.Request('https://velib-metropole-opendata.smoove.pro/opendata/Velib_Metropole/gbfs.json')\n",
    "response = urllib.request.urlopen(request)\n",
    "flux_existants = response.read()\n",
    "data = json.loads(flux_existants)\n",
    "df_flux = json_normalize(data['data']['en']['feeds'])\n",
    "df_flux"
   ]
  },
  {
   "source": [
    "# Information sur les stations avec la table `station_information` : \n",
    "- capacity : nombre de bornettes dans la station\n",
    "- lat : latitude de la station (au format WGS84)\n",
    "- lon : longitude de la station (au format WGS84)\n",
    "- name : nom de la station\n",
    "- station_id : identifiant unique associé à la station. Ce numéro identifie la station au sein du service Vélib’ Métropole"
   ],
   "cell_type": "markdown",
   "metadata": {}
  },
  {
   "cell_type": "code",
   "execution_count": 13,
   "metadata": {},
   "outputs": [
    {
     "output_type": "execute_result",
     "data": {
      "text/plain": [
       "   station_id                                 name        lat       lon  \\\n",
       "0   213688169        Benjamin Godard - Victor Hugo  48.865983  2.275725   \n",
       "1    99950133   André Mazet - Saint-André des Arts  48.853756  2.339096   \n",
       "2   516709288  Charonne - Robert et Sonia Delauney  48.855908  2.392571   \n",
       "3       36255                   Toudouze - Clauzel  48.879296  2.337360   \n",
       "4    37815204                      Mairie du 12ème  48.840855  2.387555   \n",
       "\n",
       "   capacity stationCode rental_methods  \n",
       "0        35       16107            NaN  \n",
       "1        55        6015   [CREDITCARD]  \n",
       "2        20       11104            NaN  \n",
       "3        21        9020   [CREDITCARD]  \n",
       "4        30       12109            NaN  "
      ],
      "text/html": "<div>\n<style scoped>\n    .dataframe tbody tr th:only-of-type {\n        vertical-align: middle;\n    }\n\n    .dataframe tbody tr th {\n        vertical-align: top;\n    }\n\n    .dataframe thead th {\n        text-align: right;\n    }\n</style>\n<table border=\"1\" class=\"dataframe\">\n  <thead>\n    <tr style=\"text-align: right;\">\n      <th></th>\n      <th>station_id</th>\n      <th>name</th>\n      <th>lat</th>\n      <th>lon</th>\n      <th>capacity</th>\n      <th>stationCode</th>\n      <th>rental_methods</th>\n    </tr>\n  </thead>\n  <tbody>\n    <tr>\n      <th>0</th>\n      <td>213688169</td>\n      <td>Benjamin Godard - Victor Hugo</td>\n      <td>48.865983</td>\n      <td>2.275725</td>\n      <td>35</td>\n      <td>16107</td>\n      <td>NaN</td>\n    </tr>\n    <tr>\n      <th>1</th>\n      <td>99950133</td>\n      <td>André Mazet - Saint-André des Arts</td>\n      <td>48.853756</td>\n      <td>2.339096</td>\n      <td>55</td>\n      <td>6015</td>\n      <td>[CREDITCARD]</td>\n    </tr>\n    <tr>\n      <th>2</th>\n      <td>516709288</td>\n      <td>Charonne - Robert et Sonia Delauney</td>\n      <td>48.855908</td>\n      <td>2.392571</td>\n      <td>20</td>\n      <td>11104</td>\n      <td>NaN</td>\n    </tr>\n    <tr>\n      <th>3</th>\n      <td>36255</td>\n      <td>Toudouze - Clauzel</td>\n      <td>48.879296</td>\n      <td>2.337360</td>\n      <td>21</td>\n      <td>9020</td>\n      <td>[CREDITCARD]</td>\n    </tr>\n    <tr>\n      <th>4</th>\n      <td>37815204</td>\n      <td>Mairie du 12ème</td>\n      <td>48.840855</td>\n      <td>2.387555</td>\n      <td>30</td>\n      <td>12109</td>\n      <td>NaN</td>\n    </tr>\n  </tbody>\n</table>\n</div>"
     },
     "metadata": {},
     "execution_count": 13
    }
   ],
   "source": [
    "request= urllib.request.Request('https://velib-metropole-opendata.smoove.pro/opendata/Velib_Metropole/station_information.json')\n",
    "response = urllib.request.urlopen(request)\n",
    "station_info = response.read()\n",
    "data = json.loads(station_info)\n",
    "df_station_info = json_normalize(data['data']['stations'])\n",
    "df_station_info.head()"
   ]
  },
  {
   "source": [
    "# Nombre de vélos et de bornettes disponibles par station avec la table `stations_status` avec :\n",
    "- station_id: numéro unique d’identification de la station. Ce numéro identifie la station au sein du service Vélib’ Métropole\n",
    "- is_installed: variable binaire indiquant si la station est. La station a déjà été déployée (1) ou est encore en cours de déploiement (0) \n",
    "- is_renting: variable binaire indiquant si la station peut louer des vélos (is_renting=1 si le statut de la station est Operative)\n",
    "- is_returning: variable binaire indiquant si la station peut recevoir des vélos (is_renting=1 si le statut de la station est Operative)\n",
    "- last_reported : date de la dernière mise-à-jour \n",
    "- numBikesAvailable: nombre de vélos disponibles\n",
    "- numDocksAvailable: nombre de bornettes disponibles\n",
    "- num_bikes_available: nombre de vélos disponibles\n",
    "- num_bikes_available_types: nombre de vélos disponibles avec distinctions entre Vélib’ mécanique et électrique"
   ],
   "cell_type": "markdown",
   "metadata": {}
  },
  {
   "cell_type": "code",
   "execution_count": 18,
   "metadata": {},
   "outputs": [
    {
     "output_type": "execute_result",
     "data": {
      "text/plain": [
       "     stationCode  station_id  num_bikes_available  numBikesAvailable  \\\n",
       "0          16107   213688169                    3                  3   \n",
       "1           6015    99950133                   14                 14   \n",
       "2          11104   516709288                    9                  9   \n",
       "3           9020       36255                   10                 10   \n",
       "4          12109    37815204                   15                 15   \n",
       "...          ...         ...                  ...                ...   \n",
       "1392       12039    27415004                   20                 20   \n",
       "1393       13037    27415128                    8                  8   \n",
       "1394       12017    27414937                   34                 34   \n",
       "1395       13013    66507230                   14                 14   \n",
       "1396        6009   100227241                    6                  6   \n",
       "\n",
       "                num_bikes_available_types  num_docks_available  \\\n",
       "0       [{'mechanical': 1}, {'ebike': 2}]                   30   \n",
       "1      [{'mechanical': 11}, {'ebike': 3}]                   41   \n",
       "2       [{'mechanical': 6}, {'ebike': 3}]                   11   \n",
       "3       [{'mechanical': 8}, {'ebike': 2}]                    9   \n",
       "4       [{'mechanical': 7}, {'ebike': 8}]                   14   \n",
       "...                                   ...                  ...   \n",
       "1392   [{'mechanical': 14}, {'ebike': 6}]                   16   \n",
       "1393    [{'mechanical': 2}, {'ebike': 6}]                   12   \n",
       "1394  [{'mechanical': 21}, {'ebike': 13}]                    5   \n",
       "1395   [{'mechanical': 13}, {'ebike': 1}]                    7   \n",
       "1396    [{'mechanical': 4}, {'ebike': 2}]                   30   \n",
       "\n",
       "      numDocksAvailable  is_installed  is_returning  is_renting  last_reported  \n",
       "0                    30             1             1           1     1605558138  \n",
       "1                    41             1             1           1     1605558381  \n",
       "2                    11             1             1           1     1605558299  \n",
       "3                     9             1             1           1     1605558511  \n",
       "4                    14             1             1           1     1605558498  \n",
       "...                 ...           ...           ...         ...            ...  \n",
       "1392                 16             1             1           1     1605558296  \n",
       "1393                 12             1             1           1     1605558367  \n",
       "1394                  5             1             1           1     1605558409  \n",
       "1395                  7             1             1           1     1605558488  \n",
       "1396                 30             1             1           1     1605558344  \n",
       "\n",
       "[1397 rows x 11 columns]"
      ],
      "text/html": "<div>\n<style scoped>\n    .dataframe tbody tr th:only-of-type {\n        vertical-align: middle;\n    }\n\n    .dataframe tbody tr th {\n        vertical-align: top;\n    }\n\n    .dataframe thead th {\n        text-align: right;\n    }\n</style>\n<table border=\"1\" class=\"dataframe\">\n  <thead>\n    <tr style=\"text-align: right;\">\n      <th></th>\n      <th>stationCode</th>\n      <th>station_id</th>\n      <th>num_bikes_available</th>\n      <th>numBikesAvailable</th>\n      <th>num_bikes_available_types</th>\n      <th>num_docks_available</th>\n      <th>numDocksAvailable</th>\n      <th>is_installed</th>\n      <th>is_returning</th>\n      <th>is_renting</th>\n      <th>last_reported</th>\n    </tr>\n  </thead>\n  <tbody>\n    <tr>\n      <th>0</th>\n      <td>16107</td>\n      <td>213688169</td>\n      <td>3</td>\n      <td>3</td>\n      <td>[{'mechanical': 1}, {'ebike': 2}]</td>\n      <td>30</td>\n      <td>30</td>\n      <td>1</td>\n      <td>1</td>\n      <td>1</td>\n      <td>1605558138</td>\n    </tr>\n    <tr>\n      <th>1</th>\n      <td>6015</td>\n      <td>99950133</td>\n      <td>14</td>\n      <td>14</td>\n      <td>[{'mechanical': 11}, {'ebike': 3}]</td>\n      <td>41</td>\n      <td>41</td>\n      <td>1</td>\n      <td>1</td>\n      <td>1</td>\n      <td>1605558381</td>\n    </tr>\n    <tr>\n      <th>2</th>\n      <td>11104</td>\n      <td>516709288</td>\n      <td>9</td>\n      <td>9</td>\n      <td>[{'mechanical': 6}, {'ebike': 3}]</td>\n      <td>11</td>\n      <td>11</td>\n      <td>1</td>\n      <td>1</td>\n      <td>1</td>\n      <td>1605558299</td>\n    </tr>\n    <tr>\n      <th>3</th>\n      <td>9020</td>\n      <td>36255</td>\n      <td>10</td>\n      <td>10</td>\n      <td>[{'mechanical': 8}, {'ebike': 2}]</td>\n      <td>9</td>\n      <td>9</td>\n      <td>1</td>\n      <td>1</td>\n      <td>1</td>\n      <td>1605558511</td>\n    </tr>\n    <tr>\n      <th>4</th>\n      <td>12109</td>\n      <td>37815204</td>\n      <td>15</td>\n      <td>15</td>\n      <td>[{'mechanical': 7}, {'ebike': 8}]</td>\n      <td>14</td>\n      <td>14</td>\n      <td>1</td>\n      <td>1</td>\n      <td>1</td>\n      <td>1605558498</td>\n    </tr>\n    <tr>\n      <th>...</th>\n      <td>...</td>\n      <td>...</td>\n      <td>...</td>\n      <td>...</td>\n      <td>...</td>\n      <td>...</td>\n      <td>...</td>\n      <td>...</td>\n      <td>...</td>\n      <td>...</td>\n      <td>...</td>\n    </tr>\n    <tr>\n      <th>1392</th>\n      <td>12039</td>\n      <td>27415004</td>\n      <td>20</td>\n      <td>20</td>\n      <td>[{'mechanical': 14}, {'ebike': 6}]</td>\n      <td>16</td>\n      <td>16</td>\n      <td>1</td>\n      <td>1</td>\n      <td>1</td>\n      <td>1605558296</td>\n    </tr>\n    <tr>\n      <th>1393</th>\n      <td>13037</td>\n      <td>27415128</td>\n      <td>8</td>\n      <td>8</td>\n      <td>[{'mechanical': 2}, {'ebike': 6}]</td>\n      <td>12</td>\n      <td>12</td>\n      <td>1</td>\n      <td>1</td>\n      <td>1</td>\n      <td>1605558367</td>\n    </tr>\n    <tr>\n      <th>1394</th>\n      <td>12017</td>\n      <td>27414937</td>\n      <td>34</td>\n      <td>34</td>\n      <td>[{'mechanical': 21}, {'ebike': 13}]</td>\n      <td>5</td>\n      <td>5</td>\n      <td>1</td>\n      <td>1</td>\n      <td>1</td>\n      <td>1605558409</td>\n    </tr>\n    <tr>\n      <th>1395</th>\n      <td>13013</td>\n      <td>66507230</td>\n      <td>14</td>\n      <td>14</td>\n      <td>[{'mechanical': 13}, {'ebike': 1}]</td>\n      <td>7</td>\n      <td>7</td>\n      <td>1</td>\n      <td>1</td>\n      <td>1</td>\n      <td>1605558488</td>\n    </tr>\n    <tr>\n      <th>1396</th>\n      <td>6009</td>\n      <td>100227241</td>\n      <td>6</td>\n      <td>6</td>\n      <td>[{'mechanical': 4}, {'ebike': 2}]</td>\n      <td>30</td>\n      <td>30</td>\n      <td>1</td>\n      <td>1</td>\n      <td>1</td>\n      <td>1605558344</td>\n    </tr>\n  </tbody>\n</table>\n<p>1397 rows × 11 columns</p>\n</div>"
     },
     "metadata": {},
     "execution_count": 18
    }
   ],
   "source": [
    "request= urllib.request.Request('https://velib-metropole-opendata.smoove.pro/opendata/Velib_Metropole/station_status.json')\n",
    "response = urllib.request.urlopen(request)\n",
    "velib_stations = response.read()\n",
    "data = json.loads(velib_stations)\n",
    "df = json_normalize(data['data']['stations'])\n",
    "df\n"
   ]
  },
  {
   "source": [
    "Dans ce dataframe `df`, on peut rajouter 2 colonnes : mechanical & ebike au lieu de `num_bikes_available_types`"
   ],
   "cell_type": "markdown",
   "metadata": {}
  },
  {
   "cell_type": "code",
   "execution_count": 15,
   "metadata": {},
   "outputs": [
    {
     "output_type": "execute_result",
     "data": {
      "text/plain": [
       "   station_id               10/19/20;18:01:51               10/19/20;18:06:52  \\\n",
       "0   213688169   {'mechanical': 0, 'ebike': 2}   {'mechanical': 0, 'ebike': 2}   \n",
       "1    99950133  {'mechanical': 41, 'ebike': 5}  {'mechanical': 41, 'ebike': 5}   \n",
       "2   516709288   {'mechanical': 0, 'ebike': 1}   {'mechanical': 0, 'ebike': 1}   \n",
       "3       36255   {'mechanical': 0, 'ebike': 0}   {'mechanical': 0, 'ebike': 0}   \n",
       "4    37815204   {'mechanical': 4, 'ebike': 1}   {'mechanical': 3, 'ebike': 1}   \n",
       "\n",
       "                10/19/20;18:11:52               10/19/20;18:16:52  \\\n",
       "0   {'mechanical': 0, 'ebike': 2}   {'mechanical': 0, 'ebike': 3}   \n",
       "1  {'mechanical': 42, 'ebike': 5}  {'mechanical': 42, 'ebike': 7}   \n",
       "2   {'mechanical': 0, 'ebike': 1}   {'mechanical': 1, 'ebike': 1}   \n",
       "3   {'mechanical': 0, 'ebike': 0}   {'mechanical': 0, 'ebike': 0}   \n",
       "4   {'mechanical': 1, 'ebike': 1}   {'mechanical': 1, 'ebike': 1}   \n",
       "\n",
       "                10/19/20;18:21:52               10/19/20;18:26:53  \\\n",
       "0   {'mechanical': 0, 'ebike': 3}   {'mechanical': 1, 'ebike': 2}   \n",
       "1  {'mechanical': 41, 'ebike': 5}  {'mechanical': 40, 'ebike': 4}   \n",
       "2   {'mechanical': 1, 'ebike': 1}   {'mechanical': 1, 'ebike': 1}   \n",
       "3   {'mechanical': 0, 'ebike': 2}   {'mechanical': 0, 'ebike': 4}   \n",
       "4   {'mechanical': 2, 'ebike': 1}   {'mechanical': 3, 'ebike': 1}   \n",
       "\n",
       "                10/19/20;18:31:53               10/19/20;18:36:53  \\\n",
       "0   {'mechanical': 0, 'ebike': 1}   {'mechanical': 0, 'ebike': 1}   \n",
       "1  {'mechanical': 38, 'ebike': 5}  {'mechanical': 39, 'ebike': 4}   \n",
       "2   {'mechanical': 2, 'ebike': 1}   {'mechanical': 0, 'ebike': 1}   \n",
       "3   {'mechanical': 0, 'ebike': 4}   {'mechanical': 0, 'ebike': 4}   \n",
       "4   {'mechanical': 3, 'ebike': 2}   {'mechanical': 2, 'ebike': 0}   \n",
       "\n",
       "                10/19/20;18:41:54  ...              11/03/20;16:01:46  \\\n",
       "0   {'mechanical': 0, 'ebike': 1}  ...  {'mechanical': 4, 'ebike': 6}   \n",
       "1  {'mechanical': 40, 'ebike': 5}  ...  {'mechanical': 2, 'ebike': 0}   \n",
       "2   {'mechanical': 0, 'ebike': 1}  ...  {'mechanical': 1, 'ebike': 2}   \n",
       "3   {'mechanical': 1, 'ebike': 3}  ...  {'mechanical': 0, 'ebike': 3}   \n",
       "4   {'mechanical': 2, 'ebike': 0}  ...  {'mechanical': 6, 'ebike': 0}   \n",
       "\n",
       "               11/03/20;16:06:47              11/03/20;16:11:47  \\\n",
       "0  {'mechanical': 4, 'ebike': 6}  {'mechanical': 3, 'ebike': 6}   \n",
       "1  {'mechanical': 2, 'ebike': 0}  {'mechanical': 2, 'ebike': 0}   \n",
       "2  {'mechanical': 1, 'ebike': 2}  {'mechanical': 1, 'ebike': 2}   \n",
       "3  {'mechanical': 0, 'ebike': 3}  {'mechanical': 0, 'ebike': 3}   \n",
       "4  {'mechanical': 7, 'ebike': 0}  {'mechanical': 7, 'ebike': 0}   \n",
       "\n",
       "               11/03/20;16:16:47              11/03/20;16:21:48  \\\n",
       "0  {'mechanical': 4, 'ebike': 7}  {'mechanical': 5, 'ebike': 7}   \n",
       "1  {'mechanical': 2, 'ebike': 1}  {'mechanical': 2, 'ebike': 1}   \n",
       "2  {'mechanical': 1, 'ebike': 2}  {'mechanical': 1, 'ebike': 2}   \n",
       "3  {'mechanical': 0, 'ebike': 3}  {'mechanical': 0, 'ebike': 2}   \n",
       "4  {'mechanical': 7, 'ebike': 1}  {'mechanical': 7, 'ebike': 1}   \n",
       "\n",
       "               11/03/20;16:26:48              11/03/20;16:31:48  \\\n",
       "0  {'mechanical': 5, 'ebike': 7}  {'mechanical': 5, 'ebike': 8}   \n",
       "1  {'mechanical': 2, 'ebike': 0}  {'mechanical': 2, 'ebike': 0}   \n",
       "2  {'mechanical': 1, 'ebike': 3}  {'mechanical': 1, 'ebike': 2}   \n",
       "3  {'mechanical': 0, 'ebike': 2}  {'mechanical': 0, 'ebike': 3}   \n",
       "4  {'mechanical': 8, 'ebike': 1}  {'mechanical': 9, 'ebike': 0}   \n",
       "\n",
       "                11/03/20;16:36:49              11/03/20;16:41:49  \\\n",
       "0   {'mechanical': 5, 'ebike': 8}  {'mechanical': 5, 'ebike': 8}   \n",
       "1   {'mechanical': 2, 'ebike': 0}  {'mechanical': 2, 'ebike': 0}   \n",
       "2   {'mechanical': 1, 'ebike': 3}  {'mechanical': 1, 'ebike': 3}   \n",
       "3   {'mechanical': 0, 'ebike': 3}  {'mechanical': 0, 'ebike': 3}   \n",
       "4  {'mechanical': 10, 'ebike': 0}  {'mechanical': 9, 'ebike': 0}   \n",
       "\n",
       "               11/03/20;16:46:49  \n",
       "0  {'mechanical': 5, 'ebike': 7}  \n",
       "1  {'mechanical': 2, 'ebike': 0}  \n",
       "2  {'mechanical': 1, 'ebike': 3}  \n",
       "3  {'mechanical': 0, 'ebike': 2}  \n",
       "4  {'mechanical': 9, 'ebike': 0}  \n",
       "\n",
       "[5 rows x 4295 columns]"
      ],
      "text/html": "<div>\n<style scoped>\n    .dataframe tbody tr th:only-of-type {\n        vertical-align: middle;\n    }\n\n    .dataframe tbody tr th {\n        vertical-align: top;\n    }\n\n    .dataframe thead th {\n        text-align: right;\n    }\n</style>\n<table border=\"1\" class=\"dataframe\">\n  <thead>\n    <tr style=\"text-align: right;\">\n      <th></th>\n      <th>station_id</th>\n      <th>10/19/20;18:01:51</th>\n      <th>10/19/20;18:06:52</th>\n      <th>10/19/20;18:11:52</th>\n      <th>10/19/20;18:16:52</th>\n      <th>10/19/20;18:21:52</th>\n      <th>10/19/20;18:26:53</th>\n      <th>10/19/20;18:31:53</th>\n      <th>10/19/20;18:36:53</th>\n      <th>10/19/20;18:41:54</th>\n      <th>...</th>\n      <th>11/03/20;16:01:46</th>\n      <th>11/03/20;16:06:47</th>\n      <th>11/03/20;16:11:47</th>\n      <th>11/03/20;16:16:47</th>\n      <th>11/03/20;16:21:48</th>\n      <th>11/03/20;16:26:48</th>\n      <th>11/03/20;16:31:48</th>\n      <th>11/03/20;16:36:49</th>\n      <th>11/03/20;16:41:49</th>\n      <th>11/03/20;16:46:49</th>\n    </tr>\n  </thead>\n  <tbody>\n    <tr>\n      <th>0</th>\n      <td>213688169</td>\n      <td>{'mechanical': 0, 'ebike': 2}</td>\n      <td>{'mechanical': 0, 'ebike': 2}</td>\n      <td>{'mechanical': 0, 'ebike': 2}</td>\n      <td>{'mechanical': 0, 'ebike': 3}</td>\n      <td>{'mechanical': 0, 'ebike': 3}</td>\n      <td>{'mechanical': 1, 'ebike': 2}</td>\n      <td>{'mechanical': 0, 'ebike': 1}</td>\n      <td>{'mechanical': 0, 'ebike': 1}</td>\n      <td>{'mechanical': 0, 'ebike': 1}</td>\n      <td>...</td>\n      <td>{'mechanical': 4, 'ebike': 6}</td>\n      <td>{'mechanical': 4, 'ebike': 6}</td>\n      <td>{'mechanical': 3, 'ebike': 6}</td>\n      <td>{'mechanical': 4, 'ebike': 7}</td>\n      <td>{'mechanical': 5, 'ebike': 7}</td>\n      <td>{'mechanical': 5, 'ebike': 7}</td>\n      <td>{'mechanical': 5, 'ebike': 8}</td>\n      <td>{'mechanical': 5, 'ebike': 8}</td>\n      <td>{'mechanical': 5, 'ebike': 8}</td>\n      <td>{'mechanical': 5, 'ebike': 7}</td>\n    </tr>\n    <tr>\n      <th>1</th>\n      <td>99950133</td>\n      <td>{'mechanical': 41, 'ebike': 5}</td>\n      <td>{'mechanical': 41, 'ebike': 5}</td>\n      <td>{'mechanical': 42, 'ebike': 5}</td>\n      <td>{'mechanical': 42, 'ebike': 7}</td>\n      <td>{'mechanical': 41, 'ebike': 5}</td>\n      <td>{'mechanical': 40, 'ebike': 4}</td>\n      <td>{'mechanical': 38, 'ebike': 5}</td>\n      <td>{'mechanical': 39, 'ebike': 4}</td>\n      <td>{'mechanical': 40, 'ebike': 5}</td>\n      <td>...</td>\n      <td>{'mechanical': 2, 'ebike': 0}</td>\n      <td>{'mechanical': 2, 'ebike': 0}</td>\n      <td>{'mechanical': 2, 'ebike': 0}</td>\n      <td>{'mechanical': 2, 'ebike': 1}</td>\n      <td>{'mechanical': 2, 'ebike': 1}</td>\n      <td>{'mechanical': 2, 'ebike': 0}</td>\n      <td>{'mechanical': 2, 'ebike': 0}</td>\n      <td>{'mechanical': 2, 'ebike': 0}</td>\n      <td>{'mechanical': 2, 'ebike': 0}</td>\n      <td>{'mechanical': 2, 'ebike': 0}</td>\n    </tr>\n    <tr>\n      <th>2</th>\n      <td>516709288</td>\n      <td>{'mechanical': 0, 'ebike': 1}</td>\n      <td>{'mechanical': 0, 'ebike': 1}</td>\n      <td>{'mechanical': 0, 'ebike': 1}</td>\n      <td>{'mechanical': 1, 'ebike': 1}</td>\n      <td>{'mechanical': 1, 'ebike': 1}</td>\n      <td>{'mechanical': 1, 'ebike': 1}</td>\n      <td>{'mechanical': 2, 'ebike': 1}</td>\n      <td>{'mechanical': 0, 'ebike': 1}</td>\n      <td>{'mechanical': 0, 'ebike': 1}</td>\n      <td>...</td>\n      <td>{'mechanical': 1, 'ebike': 2}</td>\n      <td>{'mechanical': 1, 'ebike': 2}</td>\n      <td>{'mechanical': 1, 'ebike': 2}</td>\n      <td>{'mechanical': 1, 'ebike': 2}</td>\n      <td>{'mechanical': 1, 'ebike': 2}</td>\n      <td>{'mechanical': 1, 'ebike': 3}</td>\n      <td>{'mechanical': 1, 'ebike': 2}</td>\n      <td>{'mechanical': 1, 'ebike': 3}</td>\n      <td>{'mechanical': 1, 'ebike': 3}</td>\n      <td>{'mechanical': 1, 'ebike': 3}</td>\n    </tr>\n    <tr>\n      <th>3</th>\n      <td>36255</td>\n      <td>{'mechanical': 0, 'ebike': 0}</td>\n      <td>{'mechanical': 0, 'ebike': 0}</td>\n      <td>{'mechanical': 0, 'ebike': 0}</td>\n      <td>{'mechanical': 0, 'ebike': 0}</td>\n      <td>{'mechanical': 0, 'ebike': 2}</td>\n      <td>{'mechanical': 0, 'ebike': 4}</td>\n      <td>{'mechanical': 0, 'ebike': 4}</td>\n      <td>{'mechanical': 0, 'ebike': 4}</td>\n      <td>{'mechanical': 1, 'ebike': 3}</td>\n      <td>...</td>\n      <td>{'mechanical': 0, 'ebike': 3}</td>\n      <td>{'mechanical': 0, 'ebike': 3}</td>\n      <td>{'mechanical': 0, 'ebike': 3}</td>\n      <td>{'mechanical': 0, 'ebike': 3}</td>\n      <td>{'mechanical': 0, 'ebike': 2}</td>\n      <td>{'mechanical': 0, 'ebike': 2}</td>\n      <td>{'mechanical': 0, 'ebike': 3}</td>\n      <td>{'mechanical': 0, 'ebike': 3}</td>\n      <td>{'mechanical': 0, 'ebike': 3}</td>\n      <td>{'mechanical': 0, 'ebike': 2}</td>\n    </tr>\n    <tr>\n      <th>4</th>\n      <td>37815204</td>\n      <td>{'mechanical': 4, 'ebike': 1}</td>\n      <td>{'mechanical': 3, 'ebike': 1}</td>\n      <td>{'mechanical': 1, 'ebike': 1}</td>\n      <td>{'mechanical': 1, 'ebike': 1}</td>\n      <td>{'mechanical': 2, 'ebike': 1}</td>\n      <td>{'mechanical': 3, 'ebike': 1}</td>\n      <td>{'mechanical': 3, 'ebike': 2}</td>\n      <td>{'mechanical': 2, 'ebike': 0}</td>\n      <td>{'mechanical': 2, 'ebike': 0}</td>\n      <td>...</td>\n      <td>{'mechanical': 6, 'ebike': 0}</td>\n      <td>{'mechanical': 7, 'ebike': 0}</td>\n      <td>{'mechanical': 7, 'ebike': 0}</td>\n      <td>{'mechanical': 7, 'ebike': 1}</td>\n      <td>{'mechanical': 7, 'ebike': 1}</td>\n      <td>{'mechanical': 8, 'ebike': 1}</td>\n      <td>{'mechanical': 9, 'ebike': 0}</td>\n      <td>{'mechanical': 10, 'ebike': 0}</td>\n      <td>{'mechanical': 9, 'ebike': 0}</td>\n      <td>{'mechanical': 9, 'ebike': 0}</td>\n    </tr>\n  </tbody>\n</table>\n<p>5 rows × 4295 columns</p>\n</div>"
     },
     "metadata": {},
     "execution_count": 15
    }
   ],
   "source": [
    "velib_clean = pd.read_csv('velib_clean.csv')\n",
    "velib_clean.head()"
   ]
  },
  {
   "cell_type": "code",
   "execution_count": null,
   "metadata": {},
   "outputs": [],
   "source": []
  }
 ]
}