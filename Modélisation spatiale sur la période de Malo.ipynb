{
 "cells": [
  {
   "cell_type": "markdown",
   "metadata": {},
   "source": [
    "# Modèles prédictifs du nombre de vélibs d'un point de vue spatial du 4 janvier 2021 au 12 février 2021"
   ]
  },
  {
   "cell_type": "code",
   "execution_count": 189,
   "metadata": {},
   "outputs": [],
   "source": [
    "import pandas as pd\n",
    "import numpy as np\n",
    "import matplotlib.pyplot as plt\n",
    "import seaborn as sns\n",
    "import plotly \n",
    "import plotly.express as px\n",
    "import plotly.graph_objects as go\n",
    "\n",
    "\n",
    "from sklearn.model_selection import train_test_split\n",
    "from sklearn.linear_model import LinearRegression\n",
    "from sklearn.metrics import mean_squared_error, mean_absolute_error\n",
    "from sklearn.metrics import accuracy_score\n",
    "from sklearn.metrics import f1_score, confusion_matrix, accuracy_score, recall_score, precision_score\n",
    "from sklearn.preprocessing import PolynomialFeatures\n",
    "from sklearn.metrics import mean_squared_error\n",
    "from sklearn.tree import DecisionTreeRegressor\n",
    "from sklearn.ensemble import RandomForestRegressor\n",
    "\n",
    "import prettytable as ptbl"
   ]
  },
  {
   "cell_type": "code",
   "execution_count": 9,
   "metadata": {},
   "outputs": [
    {
     "output_type": "execute_result",
     "data": {
      "text/plain": [
       "      10/19/20;18:56:54  10/19/20;19:56:58  10/19/20;20:57:02  \\\n",
       "0                     1                  2                  5   \n",
       "1                    45                 48                 49   \n",
       "2                     2                  3                 10   \n",
       "3                     6                  9                 10   \n",
       "4                     7                 16                 25   \n",
       "...                 ...                ...                ...   \n",
       "1393                 15                 25                 27   \n",
       "1394                  2                  2                  0   \n",
       "1395                  6                 15                 29   \n",
       "1396                 17                 15                 12   \n",
       "1397                 17                 13                  5   \n",
       "\n",
       "      10/19/20;21:57:05  10/19/20;22:57:14  10/19/20;23:57:18  \\\n",
       "0                     4                  3                  3   \n",
       "1                    51                 52                 52   \n",
       "2                     9                 11                  9   \n",
       "3                    12                 10                 10   \n",
       "4                    24                 23                 24   \n",
       "...                 ...                ...                ...   \n",
       "1393                 31                 32                 33   \n",
       "1394                 14                 16                 16   \n",
       "1395                 34                 35                 35   \n",
       "1396                 15                 12                 12   \n",
       "1397                  6                  7                  7   \n",
       "\n",
       "      10/20/20;00:57:22  10/20/20;01:57:26  10/20/20;02:57:30  \\\n",
       "0                     3                  3                  2   \n",
       "1                    52                 52                 52   \n",
       "2                     9                  9                  9   \n",
       "3                    11                 11                 11   \n",
       "4                    24                 24                 24   \n",
       "...                 ...                ...                ...   \n",
       "1393                 33                 32                 32   \n",
       "1394                 16                 16                 16   \n",
       "1395                 35                 35                 35   \n",
       "1396                 12                 12                 12   \n",
       "1397                  7                  7                  7   \n",
       "\n",
       "      10/20/20;03:57:34  ...  02/15/21;11:49:48  02/15/21;12:53:25  \\\n",
       "0                     2  ...                  2                  2   \n",
       "1                    45  ...                 37                 37   \n",
       "2                     9  ...                  1                  1   \n",
       "3                    11  ...                  6                  5   \n",
       "4                    24  ...                  6                  3   \n",
       "...                 ...  ...                ...                ...   \n",
       "1393                 33  ...                 22                 21   \n",
       "1394                 16  ...                  2                  3   \n",
       "1395                 35  ...                  8                  8   \n",
       "1396                 12  ...                 11                 11   \n",
       "1397                  7  ...                 21                 18   \n",
       "\n",
       "      02/15/21;13:56:59  02/15/21;15:00:34  02/15/21;16:04:08  \\\n",
       "0                     2                  1                  2   \n",
       "1                    39                 41                 40   \n",
       "2                     0                  4                  4   \n",
       "3                     8                  8                  5   \n",
       "4                     4                  2                  2   \n",
       "...                 ...                ...                ...   \n",
       "1393                 21                 19                 21   \n",
       "1394                  3                  4                  5   \n",
       "1395                 13                  9                  8   \n",
       "1396                 16                 14                 14   \n",
       "1397                 22                 22                 22   \n",
       "\n",
       "      02/15/21;17:07:43  02/15/21;18:11:18  02/15/21;19:16:38  \\\n",
       "0                     4                  2                  5   \n",
       "1                    38                 32                 25   \n",
       "2                     1                  1                  4   \n",
       "3                     4                  6                  4   \n",
       "4                     4                  6                 11   \n",
       "...                 ...                ...                ...   \n",
       "1393                 23                 30                 34   \n",
       "1394                  6                  8                  9   \n",
       "1395                  7                 10                 22   \n",
       "1396                 14                 15                  7   \n",
       "1397                 22                 11                  6   \n",
       "\n",
       "      02/15/21;20:20:06  02/15/21;21:23:35  \n",
       "0                     3                  4  \n",
       "1                    24                 24  \n",
       "2                     5                  3  \n",
       "3                     5                  8  \n",
       "4                    17                 18  \n",
       "...                 ...                ...  \n",
       "1393                 36                 36  \n",
       "1394                  9                 11  \n",
       "1395                 25                 29  \n",
       "1396                  9                  8  \n",
       "1397                  5                  5  \n",
       "\n",
       "[1398 rows x 2778 columns]"
      ],
      "text/html": "<div>\n<style scoped>\n    .dataframe tbody tr th:only-of-type {\n        vertical-align: middle;\n    }\n\n    .dataframe tbody tr th {\n        vertical-align: top;\n    }\n\n    .dataframe thead th {\n        text-align: right;\n    }\n</style>\n<table border=\"1\" class=\"dataframe\">\n  <thead>\n    <tr style=\"text-align: right;\">\n      <th></th>\n      <th>10/19/20;18:56:54</th>\n      <th>10/19/20;19:56:58</th>\n      <th>10/19/20;20:57:02</th>\n      <th>10/19/20;21:57:05</th>\n      <th>10/19/20;22:57:14</th>\n      <th>10/19/20;23:57:18</th>\n      <th>10/20/20;00:57:22</th>\n      <th>10/20/20;01:57:26</th>\n      <th>10/20/20;02:57:30</th>\n      <th>10/20/20;03:57:34</th>\n      <th>...</th>\n      <th>02/15/21;11:49:48</th>\n      <th>02/15/21;12:53:25</th>\n      <th>02/15/21;13:56:59</th>\n      <th>02/15/21;15:00:34</th>\n      <th>02/15/21;16:04:08</th>\n      <th>02/15/21;17:07:43</th>\n      <th>02/15/21;18:11:18</th>\n      <th>02/15/21;19:16:38</th>\n      <th>02/15/21;20:20:06</th>\n      <th>02/15/21;21:23:35</th>\n    </tr>\n  </thead>\n  <tbody>\n    <tr>\n      <th>0</th>\n      <td>1</td>\n      <td>2</td>\n      <td>5</td>\n      <td>4</td>\n      <td>3</td>\n      <td>3</td>\n      <td>3</td>\n      <td>3</td>\n      <td>2</td>\n      <td>2</td>\n      <td>...</td>\n      <td>2</td>\n      <td>2</td>\n      <td>2</td>\n      <td>1</td>\n      <td>2</td>\n      <td>4</td>\n      <td>2</td>\n      <td>5</td>\n      <td>3</td>\n      <td>4</td>\n    </tr>\n    <tr>\n      <th>1</th>\n      <td>45</td>\n      <td>48</td>\n      <td>49</td>\n      <td>51</td>\n      <td>52</td>\n      <td>52</td>\n      <td>52</td>\n      <td>52</td>\n      <td>52</td>\n      <td>45</td>\n      <td>...</td>\n      <td>37</td>\n      <td>37</td>\n      <td>39</td>\n      <td>41</td>\n      <td>40</td>\n      <td>38</td>\n      <td>32</td>\n      <td>25</td>\n      <td>24</td>\n      <td>24</td>\n    </tr>\n    <tr>\n      <th>2</th>\n      <td>2</td>\n      <td>3</td>\n      <td>10</td>\n      <td>9</td>\n      <td>11</td>\n      <td>9</td>\n      <td>9</td>\n      <td>9</td>\n      <td>9</td>\n      <td>9</td>\n      <td>...</td>\n      <td>1</td>\n      <td>1</td>\n      <td>0</td>\n      <td>4</td>\n      <td>4</td>\n      <td>1</td>\n      <td>1</td>\n      <td>4</td>\n      <td>5</td>\n      <td>3</td>\n    </tr>\n    <tr>\n      <th>3</th>\n      <td>6</td>\n      <td>9</td>\n      <td>10</td>\n      <td>12</td>\n      <td>10</td>\n      <td>10</td>\n      <td>11</td>\n      <td>11</td>\n      <td>11</td>\n      <td>11</td>\n      <td>...</td>\n      <td>6</td>\n      <td>5</td>\n      <td>8</td>\n      <td>8</td>\n      <td>5</td>\n      <td>4</td>\n      <td>6</td>\n      <td>4</td>\n      <td>5</td>\n      <td>8</td>\n    </tr>\n    <tr>\n      <th>4</th>\n      <td>7</td>\n      <td>16</td>\n      <td>25</td>\n      <td>24</td>\n      <td>23</td>\n      <td>24</td>\n      <td>24</td>\n      <td>24</td>\n      <td>24</td>\n      <td>24</td>\n      <td>...</td>\n      <td>6</td>\n      <td>3</td>\n      <td>4</td>\n      <td>2</td>\n      <td>2</td>\n      <td>4</td>\n      <td>6</td>\n      <td>11</td>\n      <td>17</td>\n      <td>18</td>\n    </tr>\n    <tr>\n      <th>...</th>\n      <td>...</td>\n      <td>...</td>\n      <td>...</td>\n      <td>...</td>\n      <td>...</td>\n      <td>...</td>\n      <td>...</td>\n      <td>...</td>\n      <td>...</td>\n      <td>...</td>\n      <td>...</td>\n      <td>...</td>\n      <td>...</td>\n      <td>...</td>\n      <td>...</td>\n      <td>...</td>\n      <td>...</td>\n      <td>...</td>\n      <td>...</td>\n      <td>...</td>\n      <td>...</td>\n    </tr>\n    <tr>\n      <th>1393</th>\n      <td>15</td>\n      <td>25</td>\n      <td>27</td>\n      <td>31</td>\n      <td>32</td>\n      <td>33</td>\n      <td>33</td>\n      <td>32</td>\n      <td>32</td>\n      <td>33</td>\n      <td>...</td>\n      <td>22</td>\n      <td>21</td>\n      <td>21</td>\n      <td>19</td>\n      <td>21</td>\n      <td>23</td>\n      <td>30</td>\n      <td>34</td>\n      <td>36</td>\n      <td>36</td>\n    </tr>\n    <tr>\n      <th>1394</th>\n      <td>2</td>\n      <td>2</td>\n      <td>0</td>\n      <td>14</td>\n      <td>16</td>\n      <td>16</td>\n      <td>16</td>\n      <td>16</td>\n      <td>16</td>\n      <td>16</td>\n      <td>...</td>\n      <td>2</td>\n      <td>3</td>\n      <td>3</td>\n      <td>4</td>\n      <td>5</td>\n      <td>6</td>\n      <td>8</td>\n      <td>9</td>\n      <td>9</td>\n      <td>11</td>\n    </tr>\n    <tr>\n      <th>1395</th>\n      <td>6</td>\n      <td>15</td>\n      <td>29</td>\n      <td>34</td>\n      <td>35</td>\n      <td>35</td>\n      <td>35</td>\n      <td>35</td>\n      <td>35</td>\n      <td>35</td>\n      <td>...</td>\n      <td>8</td>\n      <td>8</td>\n      <td>13</td>\n      <td>9</td>\n      <td>8</td>\n      <td>7</td>\n      <td>10</td>\n      <td>22</td>\n      <td>25</td>\n      <td>29</td>\n    </tr>\n    <tr>\n      <th>1396</th>\n      <td>17</td>\n      <td>15</td>\n      <td>12</td>\n      <td>15</td>\n      <td>12</td>\n      <td>12</td>\n      <td>12</td>\n      <td>12</td>\n      <td>12</td>\n      <td>12</td>\n      <td>...</td>\n      <td>11</td>\n      <td>11</td>\n      <td>16</td>\n      <td>14</td>\n      <td>14</td>\n      <td>14</td>\n      <td>15</td>\n      <td>7</td>\n      <td>9</td>\n      <td>8</td>\n    </tr>\n    <tr>\n      <th>1397</th>\n      <td>17</td>\n      <td>13</td>\n      <td>5</td>\n      <td>6</td>\n      <td>7</td>\n      <td>7</td>\n      <td>7</td>\n      <td>7</td>\n      <td>7</td>\n      <td>7</td>\n      <td>...</td>\n      <td>21</td>\n      <td>18</td>\n      <td>22</td>\n      <td>22</td>\n      <td>22</td>\n      <td>22</td>\n      <td>11</td>\n      <td>6</td>\n      <td>5</td>\n      <td>5</td>\n    </tr>\n  </tbody>\n</table>\n<p>1398 rows × 2778 columns</p>\n</div>"
     },
     "metadata": {},
     "execution_count": 9
    }
   ],
   "source": [
    "velib = pd.read_csv(r\"/Users/Romain/Documents/Romain/ENSAE 2A 2020-2021/Stat'App/Github Stat'App/velib_nombre.csv\")\n",
    "velib = velib.drop(['Unnamed: 0'], axis = 1)\n",
    "velib"
   ]
  },
  {
   "source": [
    "On dispose d'une base de données nettoyées avec un échantillonnage par heure sur toutes les stations Vélib d'Ile-de-France. \n",
    "\n",
    "Avant de commencer les analyses, on garde toutefois le numéro des stations ainsi que leurs informations : "
   ],
   "cell_type": "markdown",
   "metadata": {}
  },
  {
   "cell_type": "code",
   "execution_count": 10,
   "metadata": {},
   "outputs": [],
   "source": [
    "# Import des librairies pour importer les données open data au format Json\n",
    "import urllib.request\n",
    "import json\n",
    "from pandas.io.json import json_normalize"
   ]
  },
  {
   "cell_type": "code",
   "execution_count": 11,
   "metadata": {},
   "outputs": [
    {
     "output_type": "execute_result",
     "data": {
      "text/plain": [
       "   station_id                                 name        lat       lon  \\\n",
       "0   213688169        Benjamin Godard - Victor Hugo  48.865983  2.275725   \n",
       "1    99950133   André Mazet - Saint-André des Arts  48.853756  2.339096   \n",
       "2   516709288  Charonne - Robert et Sonia Delauney  48.855908  2.392571   \n",
       "3       36255                   Toudouze - Clauzel  48.879296  2.337360   \n",
       "4    37815204                      Mairie du 12ème  48.840855  2.387555   \n",
       "\n",
       "   capacity stationCode rental_methods  \n",
       "0        35       16107            NaN  \n",
       "1        55        6015   [CREDITCARD]  \n",
       "2        20       11104            NaN  \n",
       "3        21        9020   [CREDITCARD]  \n",
       "4        30       12109            NaN  "
      ],
      "text/html": "<div>\n<style scoped>\n    .dataframe tbody tr th:only-of-type {\n        vertical-align: middle;\n    }\n\n    .dataframe tbody tr th {\n        vertical-align: top;\n    }\n\n    .dataframe thead th {\n        text-align: right;\n    }\n</style>\n<table border=\"1\" class=\"dataframe\">\n  <thead>\n    <tr style=\"text-align: right;\">\n      <th></th>\n      <th>station_id</th>\n      <th>name</th>\n      <th>lat</th>\n      <th>lon</th>\n      <th>capacity</th>\n      <th>stationCode</th>\n      <th>rental_methods</th>\n    </tr>\n  </thead>\n  <tbody>\n    <tr>\n      <th>0</th>\n      <td>213688169</td>\n      <td>Benjamin Godard - Victor Hugo</td>\n      <td>48.865983</td>\n      <td>2.275725</td>\n      <td>35</td>\n      <td>16107</td>\n      <td>NaN</td>\n    </tr>\n    <tr>\n      <th>1</th>\n      <td>99950133</td>\n      <td>André Mazet - Saint-André des Arts</td>\n      <td>48.853756</td>\n      <td>2.339096</td>\n      <td>55</td>\n      <td>6015</td>\n      <td>[CREDITCARD]</td>\n    </tr>\n    <tr>\n      <th>2</th>\n      <td>516709288</td>\n      <td>Charonne - Robert et Sonia Delauney</td>\n      <td>48.855908</td>\n      <td>2.392571</td>\n      <td>20</td>\n      <td>11104</td>\n      <td>NaN</td>\n    </tr>\n    <tr>\n      <th>3</th>\n      <td>36255</td>\n      <td>Toudouze - Clauzel</td>\n      <td>48.879296</td>\n      <td>2.337360</td>\n      <td>21</td>\n      <td>9020</td>\n      <td>[CREDITCARD]</td>\n    </tr>\n    <tr>\n      <th>4</th>\n      <td>37815204</td>\n      <td>Mairie du 12ème</td>\n      <td>48.840855</td>\n      <td>2.387555</td>\n      <td>30</td>\n      <td>12109</td>\n      <td>NaN</td>\n    </tr>\n  </tbody>\n</table>\n</div>"
     },
     "metadata": {},
     "execution_count": 11
    }
   ],
   "source": [
    "request= urllib.request.Request('https://velib-metropole-opendata.smoove.pro/opendata/Velib_Metropole/station_information.json')\n",
    "response = urllib.request.urlopen(request)\n",
    "station_info = response.read()\n",
    "data = json.loads(station_info)\n",
    "df_station_info = json_normalize(data['data']['stations'])\n",
    "df_station_info.head()"
   ]
  },
  {
   "cell_type": "code",
   "execution_count": 12,
   "metadata": {},
   "outputs": [],
   "source": [
    "df_id_name_capacity = df_station_info[[\"station_id\", \"lat\", \"lon\", \"name\", \"capacity\"]]\n",
    "velib_details = df_id_name_capacity.merge(velib, how = \"inner\", left_index=True, right_index=True)\n",
    "#velib_w_capacity = velib_w_capacity[velib_w_capacity[\"capacity\"] != 0]"
   ]
  },
  {
   "cell_type": "code",
   "execution_count": 13,
   "metadata": {},
   "outputs": [
    {
     "output_type": "execute_result",
     "data": {
      "text/plain": [
       "   station_id        lat       lon                                 name  \\\n",
       "0   213688169  48.865983  2.275725        Benjamin Godard - Victor Hugo   \n",
       "1    99950133  48.853756  2.339096   André Mazet - Saint-André des Arts   \n",
       "2   516709288  48.855908  2.392571  Charonne - Robert et Sonia Delauney   \n",
       "3       36255  48.879296  2.337360                   Toudouze - Clauzel   \n",
       "4    37815204  48.840855  2.387555                      Mairie du 12ème   \n",
       "5   100769544  48.851519  2.343670                Harpe - Saint-Germain   \n",
       "6    85002689  48.819428  2.343335             Jourdan - Stade Charléty   \n",
       "7    54000559  48.881973  2.301132           Jouffroy d'Abbans - Wagram   \n",
       "8    85043758  48.882878  2.287667         Guersant - Gouvion-Saint-Cyr   \n",
       "9   123095125  48.871044  2.366104                   Alibert - Jemmapes   \n",
       "\n",
       "   capacity  10/19/20;18:56:54  10/19/20;19:56:58  10/19/20;20:57:02  \\\n",
       "0        35                  1                  2                  5   \n",
       "1        55                 45                 48                 49   \n",
       "2        20                  2                  3                 10   \n",
       "3        21                  6                  9                 10   \n",
       "4        30                  7                 16                 25   \n",
       "5        46                 38                 26                 18   \n",
       "6        60                 19                 23                 19   \n",
       "7        40                  9                  8                  5   \n",
       "8        29                  4                 10                 11   \n",
       "9        60                 13                 25                 37   \n",
       "\n",
       "   10/19/20;21:57:05  10/19/20;22:57:14  ...  02/15/21;11:49:48  \\\n",
       "0                  4                  3  ...                  2   \n",
       "1                 51                 52  ...                 37   \n",
       "2                  9                 11  ...                  1   \n",
       "3                 12                 10  ...                  6   \n",
       "4                 24                 23  ...                  6   \n",
       "5                 20                 24  ...                 26   \n",
       "6                 29                 30  ...                  6   \n",
       "7                  7                  7  ...                 13   \n",
       "8                 14                 14  ...                 29   \n",
       "9                 36                 36  ...                 25   \n",
       "\n",
       "   02/15/21;12:53:25  02/15/21;13:56:59  02/15/21;15:00:34  02/15/21;16:04:08  \\\n",
       "0                  2                  2                  1                  2   \n",
       "1                 37                 39                 41                 40   \n",
       "2                  1                  0                  4                  4   \n",
       "3                  5                  8                  8                  5   \n",
       "4                  3                  4                  2                  2   \n",
       "5                 25                 29                 26                 27   \n",
       "6                 11                 11                 10                 10   \n",
       "7                 13                 15                 10                 10   \n",
       "8                 27                 29                 28                 30   \n",
       "9                 22                 18                 13                 14   \n",
       "\n",
       "   02/15/21;17:07:43  02/15/21;18:11:18  02/15/21;19:16:38  02/15/21;20:20:06  \\\n",
       "0                  4                  2                  5                  3   \n",
       "1                 38                 32                 25                 24   \n",
       "2                  1                  1                  4                  5   \n",
       "3                  4                  6                  4                  5   \n",
       "4                  4                  6                 11                 17   \n",
       "5                 27                 28                 28                 28   \n",
       "6                  9                 11                 17                 18   \n",
       "7                 10                 17                 17                 15   \n",
       "8                 31                 35                 37                 38   \n",
       "9                 13                 21                 26                 28   \n",
       "\n",
       "   02/15/21;21:23:35  \n",
       "0                  4  \n",
       "1                 24  \n",
       "2                  3  \n",
       "3                  8  \n",
       "4                 18  \n",
       "5                 29  \n",
       "6                 20  \n",
       "7                 15  \n",
       "8                 38  \n",
       "9                 33  \n",
       "\n",
       "[10 rows x 2783 columns]"
      ],
      "text/html": "<div>\n<style scoped>\n    .dataframe tbody tr th:only-of-type {\n        vertical-align: middle;\n    }\n\n    .dataframe tbody tr th {\n        vertical-align: top;\n    }\n\n    .dataframe thead th {\n        text-align: right;\n    }\n</style>\n<table border=\"1\" class=\"dataframe\">\n  <thead>\n    <tr style=\"text-align: right;\">\n      <th></th>\n      <th>station_id</th>\n      <th>lat</th>\n      <th>lon</th>\n      <th>name</th>\n      <th>capacity</th>\n      <th>10/19/20;18:56:54</th>\n      <th>10/19/20;19:56:58</th>\n      <th>10/19/20;20:57:02</th>\n      <th>10/19/20;21:57:05</th>\n      <th>10/19/20;22:57:14</th>\n      <th>...</th>\n      <th>02/15/21;11:49:48</th>\n      <th>02/15/21;12:53:25</th>\n      <th>02/15/21;13:56:59</th>\n      <th>02/15/21;15:00:34</th>\n      <th>02/15/21;16:04:08</th>\n      <th>02/15/21;17:07:43</th>\n      <th>02/15/21;18:11:18</th>\n      <th>02/15/21;19:16:38</th>\n      <th>02/15/21;20:20:06</th>\n      <th>02/15/21;21:23:35</th>\n    </tr>\n  </thead>\n  <tbody>\n    <tr>\n      <th>0</th>\n      <td>213688169</td>\n      <td>48.865983</td>\n      <td>2.275725</td>\n      <td>Benjamin Godard - Victor Hugo</td>\n      <td>35</td>\n      <td>1</td>\n      <td>2</td>\n      <td>5</td>\n      <td>4</td>\n      <td>3</td>\n      <td>...</td>\n      <td>2</td>\n      <td>2</td>\n      <td>2</td>\n      <td>1</td>\n      <td>2</td>\n      <td>4</td>\n      <td>2</td>\n      <td>5</td>\n      <td>3</td>\n      <td>4</td>\n    </tr>\n    <tr>\n      <th>1</th>\n      <td>99950133</td>\n      <td>48.853756</td>\n      <td>2.339096</td>\n      <td>André Mazet - Saint-André des Arts</td>\n      <td>55</td>\n      <td>45</td>\n      <td>48</td>\n      <td>49</td>\n      <td>51</td>\n      <td>52</td>\n      <td>...</td>\n      <td>37</td>\n      <td>37</td>\n      <td>39</td>\n      <td>41</td>\n      <td>40</td>\n      <td>38</td>\n      <td>32</td>\n      <td>25</td>\n      <td>24</td>\n      <td>24</td>\n    </tr>\n    <tr>\n      <th>2</th>\n      <td>516709288</td>\n      <td>48.855908</td>\n      <td>2.392571</td>\n      <td>Charonne - Robert et Sonia Delauney</td>\n      <td>20</td>\n      <td>2</td>\n      <td>3</td>\n      <td>10</td>\n      <td>9</td>\n      <td>11</td>\n      <td>...</td>\n      <td>1</td>\n      <td>1</td>\n      <td>0</td>\n      <td>4</td>\n      <td>4</td>\n      <td>1</td>\n      <td>1</td>\n      <td>4</td>\n      <td>5</td>\n      <td>3</td>\n    </tr>\n    <tr>\n      <th>3</th>\n      <td>36255</td>\n      <td>48.879296</td>\n      <td>2.337360</td>\n      <td>Toudouze - Clauzel</td>\n      <td>21</td>\n      <td>6</td>\n      <td>9</td>\n      <td>10</td>\n      <td>12</td>\n      <td>10</td>\n      <td>...</td>\n      <td>6</td>\n      <td>5</td>\n      <td>8</td>\n      <td>8</td>\n      <td>5</td>\n      <td>4</td>\n      <td>6</td>\n      <td>4</td>\n      <td>5</td>\n      <td>8</td>\n    </tr>\n    <tr>\n      <th>4</th>\n      <td>37815204</td>\n      <td>48.840855</td>\n      <td>2.387555</td>\n      <td>Mairie du 12ème</td>\n      <td>30</td>\n      <td>7</td>\n      <td>16</td>\n      <td>25</td>\n      <td>24</td>\n      <td>23</td>\n      <td>...</td>\n      <td>6</td>\n      <td>3</td>\n      <td>4</td>\n      <td>2</td>\n      <td>2</td>\n      <td>4</td>\n      <td>6</td>\n      <td>11</td>\n      <td>17</td>\n      <td>18</td>\n    </tr>\n    <tr>\n      <th>5</th>\n      <td>100769544</td>\n      <td>48.851519</td>\n      <td>2.343670</td>\n      <td>Harpe - Saint-Germain</td>\n      <td>46</td>\n      <td>38</td>\n      <td>26</td>\n      <td>18</td>\n      <td>20</td>\n      <td>24</td>\n      <td>...</td>\n      <td>26</td>\n      <td>25</td>\n      <td>29</td>\n      <td>26</td>\n      <td>27</td>\n      <td>27</td>\n      <td>28</td>\n      <td>28</td>\n      <td>28</td>\n      <td>29</td>\n    </tr>\n    <tr>\n      <th>6</th>\n      <td>85002689</td>\n      <td>48.819428</td>\n      <td>2.343335</td>\n      <td>Jourdan - Stade Charléty</td>\n      <td>60</td>\n      <td>19</td>\n      <td>23</td>\n      <td>19</td>\n      <td>29</td>\n      <td>30</td>\n      <td>...</td>\n      <td>6</td>\n      <td>11</td>\n      <td>11</td>\n      <td>10</td>\n      <td>10</td>\n      <td>9</td>\n      <td>11</td>\n      <td>17</td>\n      <td>18</td>\n      <td>20</td>\n    </tr>\n    <tr>\n      <th>7</th>\n      <td>54000559</td>\n      <td>48.881973</td>\n      <td>2.301132</td>\n      <td>Jouffroy d'Abbans - Wagram</td>\n      <td>40</td>\n      <td>9</td>\n      <td>8</td>\n      <td>5</td>\n      <td>7</td>\n      <td>7</td>\n      <td>...</td>\n      <td>13</td>\n      <td>13</td>\n      <td>15</td>\n      <td>10</td>\n      <td>10</td>\n      <td>10</td>\n      <td>17</td>\n      <td>17</td>\n      <td>15</td>\n      <td>15</td>\n    </tr>\n    <tr>\n      <th>8</th>\n      <td>85043758</td>\n      <td>48.882878</td>\n      <td>2.287667</td>\n      <td>Guersant - Gouvion-Saint-Cyr</td>\n      <td>29</td>\n      <td>4</td>\n      <td>10</td>\n      <td>11</td>\n      <td>14</td>\n      <td>14</td>\n      <td>...</td>\n      <td>29</td>\n      <td>27</td>\n      <td>29</td>\n      <td>28</td>\n      <td>30</td>\n      <td>31</td>\n      <td>35</td>\n      <td>37</td>\n      <td>38</td>\n      <td>38</td>\n    </tr>\n    <tr>\n      <th>9</th>\n      <td>123095125</td>\n      <td>48.871044</td>\n      <td>2.366104</td>\n      <td>Alibert - Jemmapes</td>\n      <td>60</td>\n      <td>13</td>\n      <td>25</td>\n      <td>37</td>\n      <td>36</td>\n      <td>36</td>\n      <td>...</td>\n      <td>25</td>\n      <td>22</td>\n      <td>18</td>\n      <td>13</td>\n      <td>14</td>\n      <td>13</td>\n      <td>21</td>\n      <td>26</td>\n      <td>28</td>\n      <td>33</td>\n    </tr>\n  </tbody>\n</table>\n<p>10 rows × 2783 columns</p>\n</div>"
     },
     "metadata": {},
     "execution_count": 13
    }
   ],
   "source": [
    "velib_details[:10]"
   ]
  },
  {
   "cell_type": "code",
   "execution_count": 14,
   "metadata": {},
   "outputs": [
    {
     "output_type": "execute_result",
     "data": {
      "text/plain": [
       "                   0     1     2     3     4     5     6     7     8     9     \\\n",
       "10/19/20;18:56:54     1    45     2     6     7    38    19     9     4    13   \n",
       "10/19/20;19:56:58     2    48     3     9    16    26    23     8    10    25   \n",
       "10/19/20;20:57:02     5    49    10    10    25    18    19     5    11    37   \n",
       "10/19/20;21:57:05     4    51     9    12    24    20    29     7    14    36   \n",
       "10/19/20;22:57:14     3    52    11    10    23    24    30     7    14    36   \n",
       "...                 ...   ...   ...   ...   ...   ...   ...   ...   ...   ...   \n",
       "02/15/21;17:07:43     4    38     1     4     4    27     9    10    31    13   \n",
       "02/15/21;18:11:18     2    32     1     6     6    28    11    17    35    21   \n",
       "02/15/21;19:16:38     5    25     4     4    11    28    17    17    37    26   \n",
       "02/15/21;20:20:06     3    24     5     5    17    28    18    15    38    28   \n",
       "02/15/21;21:23:35     4    24     3     8    18    29    20    15    38    33   \n",
       "\n",
       "                   ...  1388  1389  1390  1391  1392  1393  1394  1395  1396  \\\n",
       "10/19/20;18:56:54  ...     6     4     2    38    18    15     2     6    17   \n",
       "10/19/20;19:56:58  ...     7     6     1    21    20    25     2    15    15   \n",
       "10/19/20;20:57:02  ...     5    12     1    18    17    27     0    29    12   \n",
       "10/19/20;21:57:05  ...     6    14     2    17    19    31    14    34    15   \n",
       "10/19/20;22:57:14  ...     6    13     0    18    19    32    16    35    12   \n",
       "...                ...   ...   ...   ...   ...   ...   ...   ...   ...   ...   \n",
       "02/15/21;17:07:43  ...     3    10     2    15    11    23     6     7    14   \n",
       "02/15/21;18:11:18  ...     5    11     2    11    11    30     8    10    15   \n",
       "02/15/21;19:16:38  ...    11    16     3    11    12    34     9    22     7   \n",
       "02/15/21;20:20:06  ...    10    18     1    13    12    36     9    25     9   \n",
       "02/15/21;21:23:35  ...    11    19     1    11    12    36    11    29     8   \n",
       "\n",
       "                   1397  \n",
       "10/19/20;18:56:54    17  \n",
       "10/19/20;19:56:58    13  \n",
       "10/19/20;20:57:02     5  \n",
       "10/19/20;21:57:05     6  \n",
       "10/19/20;22:57:14     7  \n",
       "...                 ...  \n",
       "02/15/21;17:07:43    22  \n",
       "02/15/21;18:11:18    11  \n",
       "02/15/21;19:16:38     6  \n",
       "02/15/21;20:20:06     5  \n",
       "02/15/21;21:23:35     5  \n",
       "\n",
       "[2778 rows x 1398 columns]"
      ],
      "text/html": "<div>\n<style scoped>\n    .dataframe tbody tr th:only-of-type {\n        vertical-align: middle;\n    }\n\n    .dataframe tbody tr th {\n        vertical-align: top;\n    }\n\n    .dataframe thead th {\n        text-align: right;\n    }\n</style>\n<table border=\"1\" class=\"dataframe\">\n  <thead>\n    <tr style=\"text-align: right;\">\n      <th></th>\n      <th>0</th>\n      <th>1</th>\n      <th>2</th>\n      <th>3</th>\n      <th>4</th>\n      <th>5</th>\n      <th>6</th>\n      <th>7</th>\n      <th>8</th>\n      <th>9</th>\n      <th>...</th>\n      <th>1388</th>\n      <th>1389</th>\n      <th>1390</th>\n      <th>1391</th>\n      <th>1392</th>\n      <th>1393</th>\n      <th>1394</th>\n      <th>1395</th>\n      <th>1396</th>\n      <th>1397</th>\n    </tr>\n  </thead>\n  <tbody>\n    <tr>\n      <th>10/19/20;18:56:54</th>\n      <td>1</td>\n      <td>45</td>\n      <td>2</td>\n      <td>6</td>\n      <td>7</td>\n      <td>38</td>\n      <td>19</td>\n      <td>9</td>\n      <td>4</td>\n      <td>13</td>\n      <td>...</td>\n      <td>6</td>\n      <td>4</td>\n      <td>2</td>\n      <td>38</td>\n      <td>18</td>\n      <td>15</td>\n      <td>2</td>\n      <td>6</td>\n      <td>17</td>\n      <td>17</td>\n    </tr>\n    <tr>\n      <th>10/19/20;19:56:58</th>\n      <td>2</td>\n      <td>48</td>\n      <td>3</td>\n      <td>9</td>\n      <td>16</td>\n      <td>26</td>\n      <td>23</td>\n      <td>8</td>\n      <td>10</td>\n      <td>25</td>\n      <td>...</td>\n      <td>7</td>\n      <td>6</td>\n      <td>1</td>\n      <td>21</td>\n      <td>20</td>\n      <td>25</td>\n      <td>2</td>\n      <td>15</td>\n      <td>15</td>\n      <td>13</td>\n    </tr>\n    <tr>\n      <th>10/19/20;20:57:02</th>\n      <td>5</td>\n      <td>49</td>\n      <td>10</td>\n      <td>10</td>\n      <td>25</td>\n      <td>18</td>\n      <td>19</td>\n      <td>5</td>\n      <td>11</td>\n      <td>37</td>\n      <td>...</td>\n      <td>5</td>\n      <td>12</td>\n      <td>1</td>\n      <td>18</td>\n      <td>17</td>\n      <td>27</td>\n      <td>0</td>\n      <td>29</td>\n      <td>12</td>\n      <td>5</td>\n    </tr>\n    <tr>\n      <th>10/19/20;21:57:05</th>\n      <td>4</td>\n      <td>51</td>\n      <td>9</td>\n      <td>12</td>\n      <td>24</td>\n      <td>20</td>\n      <td>29</td>\n      <td>7</td>\n      <td>14</td>\n      <td>36</td>\n      <td>...</td>\n      <td>6</td>\n      <td>14</td>\n      <td>2</td>\n      <td>17</td>\n      <td>19</td>\n      <td>31</td>\n      <td>14</td>\n      <td>34</td>\n      <td>15</td>\n      <td>6</td>\n    </tr>\n    <tr>\n      <th>10/19/20;22:57:14</th>\n      <td>3</td>\n      <td>52</td>\n      <td>11</td>\n      <td>10</td>\n      <td>23</td>\n      <td>24</td>\n      <td>30</td>\n      <td>7</td>\n      <td>14</td>\n      <td>36</td>\n      <td>...</td>\n      <td>6</td>\n      <td>13</td>\n      <td>0</td>\n      <td>18</td>\n      <td>19</td>\n      <td>32</td>\n      <td>16</td>\n      <td>35</td>\n      <td>12</td>\n      <td>7</td>\n    </tr>\n    <tr>\n      <th>...</th>\n      <td>...</td>\n      <td>...</td>\n      <td>...</td>\n      <td>...</td>\n      <td>...</td>\n      <td>...</td>\n      <td>...</td>\n      <td>...</td>\n      <td>...</td>\n      <td>...</td>\n      <td>...</td>\n      <td>...</td>\n      <td>...</td>\n      <td>...</td>\n      <td>...</td>\n      <td>...</td>\n      <td>...</td>\n      <td>...</td>\n      <td>...</td>\n      <td>...</td>\n      <td>...</td>\n    </tr>\n    <tr>\n      <th>02/15/21;17:07:43</th>\n      <td>4</td>\n      <td>38</td>\n      <td>1</td>\n      <td>4</td>\n      <td>4</td>\n      <td>27</td>\n      <td>9</td>\n      <td>10</td>\n      <td>31</td>\n      <td>13</td>\n      <td>...</td>\n      <td>3</td>\n      <td>10</td>\n      <td>2</td>\n      <td>15</td>\n      <td>11</td>\n      <td>23</td>\n      <td>6</td>\n      <td>7</td>\n      <td>14</td>\n      <td>22</td>\n    </tr>\n    <tr>\n      <th>02/15/21;18:11:18</th>\n      <td>2</td>\n      <td>32</td>\n      <td>1</td>\n      <td>6</td>\n      <td>6</td>\n      <td>28</td>\n      <td>11</td>\n      <td>17</td>\n      <td>35</td>\n      <td>21</td>\n      <td>...</td>\n      <td>5</td>\n      <td>11</td>\n      <td>2</td>\n      <td>11</td>\n      <td>11</td>\n      <td>30</td>\n      <td>8</td>\n      <td>10</td>\n      <td>15</td>\n      <td>11</td>\n    </tr>\n    <tr>\n      <th>02/15/21;19:16:38</th>\n      <td>5</td>\n      <td>25</td>\n      <td>4</td>\n      <td>4</td>\n      <td>11</td>\n      <td>28</td>\n      <td>17</td>\n      <td>17</td>\n      <td>37</td>\n      <td>26</td>\n      <td>...</td>\n      <td>11</td>\n      <td>16</td>\n      <td>3</td>\n      <td>11</td>\n      <td>12</td>\n      <td>34</td>\n      <td>9</td>\n      <td>22</td>\n      <td>7</td>\n      <td>6</td>\n    </tr>\n    <tr>\n      <th>02/15/21;20:20:06</th>\n      <td>3</td>\n      <td>24</td>\n      <td>5</td>\n      <td>5</td>\n      <td>17</td>\n      <td>28</td>\n      <td>18</td>\n      <td>15</td>\n      <td>38</td>\n      <td>28</td>\n      <td>...</td>\n      <td>10</td>\n      <td>18</td>\n      <td>1</td>\n      <td>13</td>\n      <td>12</td>\n      <td>36</td>\n      <td>9</td>\n      <td>25</td>\n      <td>9</td>\n      <td>5</td>\n    </tr>\n    <tr>\n      <th>02/15/21;21:23:35</th>\n      <td>4</td>\n      <td>24</td>\n      <td>3</td>\n      <td>8</td>\n      <td>18</td>\n      <td>29</td>\n      <td>20</td>\n      <td>15</td>\n      <td>38</td>\n      <td>33</td>\n      <td>...</td>\n      <td>11</td>\n      <td>19</td>\n      <td>1</td>\n      <td>11</td>\n      <td>12</td>\n      <td>36</td>\n      <td>11</td>\n      <td>29</td>\n      <td>8</td>\n      <td>5</td>\n    </tr>\n  </tbody>\n</table>\n<p>2778 rows × 1398 columns</p>\n</div>"
     },
     "metadata": {},
     "execution_count": 14
    }
   ],
   "source": [
    "df_velib = velib.transpose()\n",
    "df_velib"
   ]
  },
  {
   "cell_type": "code",
   "execution_count": 15,
   "metadata": {},
   "outputs": [
    {
     "output_type": "execute_result",
     "data": {
      "text/plain": [
       "                   0     1     2     3     4     5     6     7     8     9     \\\n",
       "01/04/21;00:03:28     7    25     5     5    21    37     3    20    20    17   \n",
       "01/04/21;01:05:43     7    25     5     5    21    37     3    20    19    17   \n",
       "01/04/21;02:07:51     7    25     5     5    21    37     3    20    19    18   \n",
       "01/04/21;03:10:01     7    25     5     5    22    24     3    20    19    18   \n",
       "01/04/21;04:12:06     7    25     5     6    22    25    16    20    19    18   \n",
       "...                 ...   ...   ...   ...   ...   ...   ...   ...   ...   ...   \n",
       "02/12/21;18:13:07     4    27     2    15     9    32    12     6    23    41   \n",
       "02/12/21;19:16:34     4    26     5    10    15    24    19    10    26    39   \n",
       "02/12/21;20:20:05     4    23     2    11    13    25    19     9    28    41   \n",
       "02/12/21;21:23:31     4    24     3    12    12    25    17    12    29    43   \n",
       "02/12/21;22:26:58     4    23     3    12    13    27    16    13    32    48   \n",
       "\n",
       "                   ...  1388  1389  1390  1391  1392  1393  1394  1395  1396  \\\n",
       "01/04/21;00:03:28  ...    12    16     5    21    10    33     3    26    10   \n",
       "01/04/21;01:05:43  ...    13    16     5    19    10    33     4    27    10   \n",
       "01/04/21;02:07:51  ...    13    16     5    19    10    22     4    27    10   \n",
       "01/04/21;03:10:01  ...    13    17     5    19    10     9     4    15    10   \n",
       "01/04/21;04:12:06  ...    13    17     5    19    10     9     4    15    10   \n",
       "...                ...   ...   ...   ...   ...   ...   ...   ...   ...   ...   \n",
       "02/12/21;18:13:07  ...     5    15     4    19    13     9     7    21    19   \n",
       "02/12/21;19:16:34  ...     9    18     2    16    12     8     7    25    19   \n",
       "02/12/21;20:20:05  ...     9    18     1    17    13    13     7    26    16   \n",
       "02/12/21;21:23:31  ...    12    20     0    19    13    15     8    26    16   \n",
       "02/12/21;22:26:58  ...    12    19     1    18    13    14     8    28    17   \n",
       "\n",
       "                   1397  \n",
       "01/04/21;00:03:28    20  \n",
       "01/04/21;01:05:43    20  \n",
       "01/04/21;02:07:51    20  \n",
       "01/04/21;03:10:01    20  \n",
       "01/04/21;04:12:06    20  \n",
       "...                 ...  \n",
       "02/12/21;18:13:07     5  \n",
       "02/12/21;19:16:34     6  \n",
       "02/12/21;20:20:05     4  \n",
       "02/12/21;21:23:31     4  \n",
       "02/12/21;22:26:58     4  \n",
       "\n",
       "[914 rows x 1398 columns]"
      ],
      "text/html": "<div>\n<style scoped>\n    .dataframe tbody tr th:only-of-type {\n        vertical-align: middle;\n    }\n\n    .dataframe tbody tr th {\n        vertical-align: top;\n    }\n\n    .dataframe thead th {\n        text-align: right;\n    }\n</style>\n<table border=\"1\" class=\"dataframe\">\n  <thead>\n    <tr style=\"text-align: right;\">\n      <th></th>\n      <th>0</th>\n      <th>1</th>\n      <th>2</th>\n      <th>3</th>\n      <th>4</th>\n      <th>5</th>\n      <th>6</th>\n      <th>7</th>\n      <th>8</th>\n      <th>9</th>\n      <th>...</th>\n      <th>1388</th>\n      <th>1389</th>\n      <th>1390</th>\n      <th>1391</th>\n      <th>1392</th>\n      <th>1393</th>\n      <th>1394</th>\n      <th>1395</th>\n      <th>1396</th>\n      <th>1397</th>\n    </tr>\n  </thead>\n  <tbody>\n    <tr>\n      <th>01/04/21;00:03:28</th>\n      <td>7</td>\n      <td>25</td>\n      <td>5</td>\n      <td>5</td>\n      <td>21</td>\n      <td>37</td>\n      <td>3</td>\n      <td>20</td>\n      <td>20</td>\n      <td>17</td>\n      <td>...</td>\n      <td>12</td>\n      <td>16</td>\n      <td>5</td>\n      <td>21</td>\n      <td>10</td>\n      <td>33</td>\n      <td>3</td>\n      <td>26</td>\n      <td>10</td>\n      <td>20</td>\n    </tr>\n    <tr>\n      <th>01/04/21;01:05:43</th>\n      <td>7</td>\n      <td>25</td>\n      <td>5</td>\n      <td>5</td>\n      <td>21</td>\n      <td>37</td>\n      <td>3</td>\n      <td>20</td>\n      <td>19</td>\n      <td>17</td>\n      <td>...</td>\n      <td>13</td>\n      <td>16</td>\n      <td>5</td>\n      <td>19</td>\n      <td>10</td>\n      <td>33</td>\n      <td>4</td>\n      <td>27</td>\n      <td>10</td>\n      <td>20</td>\n    </tr>\n    <tr>\n      <th>01/04/21;02:07:51</th>\n      <td>7</td>\n      <td>25</td>\n      <td>5</td>\n      <td>5</td>\n      <td>21</td>\n      <td>37</td>\n      <td>3</td>\n      <td>20</td>\n      <td>19</td>\n      <td>18</td>\n      <td>...</td>\n      <td>13</td>\n      <td>16</td>\n      <td>5</td>\n      <td>19</td>\n      <td>10</td>\n      <td>22</td>\n      <td>4</td>\n      <td>27</td>\n      <td>10</td>\n      <td>20</td>\n    </tr>\n    <tr>\n      <th>01/04/21;03:10:01</th>\n      <td>7</td>\n      <td>25</td>\n      <td>5</td>\n      <td>5</td>\n      <td>22</td>\n      <td>24</td>\n      <td>3</td>\n      <td>20</td>\n      <td>19</td>\n      <td>18</td>\n      <td>...</td>\n      <td>13</td>\n      <td>17</td>\n      <td>5</td>\n      <td>19</td>\n      <td>10</td>\n      <td>9</td>\n      <td>4</td>\n      <td>15</td>\n      <td>10</td>\n      <td>20</td>\n    </tr>\n    <tr>\n      <th>01/04/21;04:12:06</th>\n      <td>7</td>\n      <td>25</td>\n      <td>5</td>\n      <td>6</td>\n      <td>22</td>\n      <td>25</td>\n      <td>16</td>\n      <td>20</td>\n      <td>19</td>\n      <td>18</td>\n      <td>...</td>\n      <td>13</td>\n      <td>17</td>\n      <td>5</td>\n      <td>19</td>\n      <td>10</td>\n      <td>9</td>\n      <td>4</td>\n      <td>15</td>\n      <td>10</td>\n      <td>20</td>\n    </tr>\n    <tr>\n      <th>...</th>\n      <td>...</td>\n      <td>...</td>\n      <td>...</td>\n      <td>...</td>\n      <td>...</td>\n      <td>...</td>\n      <td>...</td>\n      <td>...</td>\n      <td>...</td>\n      <td>...</td>\n      <td>...</td>\n      <td>...</td>\n      <td>...</td>\n      <td>...</td>\n      <td>...</td>\n      <td>...</td>\n      <td>...</td>\n      <td>...</td>\n      <td>...</td>\n      <td>...</td>\n      <td>...</td>\n    </tr>\n    <tr>\n      <th>02/12/21;18:13:07</th>\n      <td>4</td>\n      <td>27</td>\n      <td>2</td>\n      <td>15</td>\n      <td>9</td>\n      <td>32</td>\n      <td>12</td>\n      <td>6</td>\n      <td>23</td>\n      <td>41</td>\n      <td>...</td>\n      <td>5</td>\n      <td>15</td>\n      <td>4</td>\n      <td>19</td>\n      <td>13</td>\n      <td>9</td>\n      <td>7</td>\n      <td>21</td>\n      <td>19</td>\n      <td>5</td>\n    </tr>\n    <tr>\n      <th>02/12/21;19:16:34</th>\n      <td>4</td>\n      <td>26</td>\n      <td>5</td>\n      <td>10</td>\n      <td>15</td>\n      <td>24</td>\n      <td>19</td>\n      <td>10</td>\n      <td>26</td>\n      <td>39</td>\n      <td>...</td>\n      <td>9</td>\n      <td>18</td>\n      <td>2</td>\n      <td>16</td>\n      <td>12</td>\n      <td>8</td>\n      <td>7</td>\n      <td>25</td>\n      <td>19</td>\n      <td>6</td>\n    </tr>\n    <tr>\n      <th>02/12/21;20:20:05</th>\n      <td>4</td>\n      <td>23</td>\n      <td>2</td>\n      <td>11</td>\n      <td>13</td>\n      <td>25</td>\n      <td>19</td>\n      <td>9</td>\n      <td>28</td>\n      <td>41</td>\n      <td>...</td>\n      <td>9</td>\n      <td>18</td>\n      <td>1</td>\n      <td>17</td>\n      <td>13</td>\n      <td>13</td>\n      <td>7</td>\n      <td>26</td>\n      <td>16</td>\n      <td>4</td>\n    </tr>\n    <tr>\n      <th>02/12/21;21:23:31</th>\n      <td>4</td>\n      <td>24</td>\n      <td>3</td>\n      <td>12</td>\n      <td>12</td>\n      <td>25</td>\n      <td>17</td>\n      <td>12</td>\n      <td>29</td>\n      <td>43</td>\n      <td>...</td>\n      <td>12</td>\n      <td>20</td>\n      <td>0</td>\n      <td>19</td>\n      <td>13</td>\n      <td>15</td>\n      <td>8</td>\n      <td>26</td>\n      <td>16</td>\n      <td>4</td>\n    </tr>\n    <tr>\n      <th>02/12/21;22:26:58</th>\n      <td>4</td>\n      <td>23</td>\n      <td>3</td>\n      <td>12</td>\n      <td>13</td>\n      <td>27</td>\n      <td>16</td>\n      <td>13</td>\n      <td>32</td>\n      <td>48</td>\n      <td>...</td>\n      <td>12</td>\n      <td>19</td>\n      <td>1</td>\n      <td>18</td>\n      <td>13</td>\n      <td>14</td>\n      <td>8</td>\n      <td>28</td>\n      <td>17</td>\n      <td>4</td>\n    </tr>\n  </tbody>\n</table>\n<p>914 rows × 1398 columns</p>\n</div>"
     },
     "metadata": {},
     "execution_count": 15
    }
   ],
   "source": [
    "def choix_dates(start,end,df):\n",
    "    \"\"\"\n",
    "    start : jour du début des observations\n",
    "    end : jour de fi des observations\n",
    "    df : le dataframe des stations avec l'heure de pointage en index \n",
    "\n",
    "    Renvoie un sous dataframe indexé avec les dates qui nous intéressent\n",
    "    \"\"\"\n",
    "    toutes_les_dates = df.index.tolist() #toutes les dates du dataframe\n",
    "    dates_choisies = [] # contiendra le jour de début et de fin qui nous intéressent\n",
    "\n",
    "    for index in df.index:\n",
    "        if index.startswith(start):\n",
    "            dates_choisies.append(index)\n",
    "        elif index.startswith(end):\n",
    "            dates_choisies.append(index)\n",
    "    # On a donc une liste qui contient toutes les heures du jour de début et celles du jour de fin\n",
    "\n",
    "    index_debut = toutes_les_dates.index(dates_choisies[0])\n",
    "    index_fin = toutes_les_dates.index(dates_choisies[-1])\n",
    "    liste_dates_choisies = toutes_les_dates[index_debut:index_fin]\n",
    "\n",
    "    return(df.loc[liste_dates_choisies,:])\n",
    "\n",
    "# On l'applique\n",
    "df_velib_court = choix_dates('01/04/21', '02/12/21', df_velib)\n",
    "df_velib_court"
   ]
  },
  {
   "source": [
    "## Construction de la variable à prédire : le nombre de vélos dans une station target **1 jour** plus tard"
   ],
   "cell_type": "markdown",
   "metadata": {}
  },
  {
   "cell_type": "code",
   "execution_count": 16,
   "metadata": {},
   "outputs": [
    {
     "output_type": "execute_result",
     "data": {
      "text/plain": [
       "                   0   1  2   3   4   5   6   7   8   9  ...  1389  1390  \\\n",
       "01/04/21;00:03:28  7  25  5   5  21  37   3  20  20  17  ...    16     5   \n",
       "01/04/21;01:05:43  7  25  5   5  21  37   3  20  19  17  ...    16     5   \n",
       "01/04/21;02:07:51  7  25  5   5  21  37   3  20  19  18  ...    16     5   \n",
       "01/04/21;03:10:01  7  25  5   5  22  24   3  20  19  18  ...    17     5   \n",
       "01/04/21;04:12:06  7  25  5   6  22  25  16  20  19  18  ...    17     5   \n",
       "...               ..  .. ..  ..  ..  ..  ..  ..  ..  ..  ...   ...   ...   \n",
       "02/12/21;18:13:07  4  27  2  15   9  32  12   6  23  41  ...    15     4   \n",
       "02/12/21;19:16:34  4  26  5  10  15  24  19  10  26  39  ...    18     2   \n",
       "02/12/21;20:20:05  4  23  2  11  13  25  19   9  28  41  ...    18     1   \n",
       "02/12/21;21:23:31  4  24  3  12  12  25  17  12  29  43  ...    20     0   \n",
       "02/12/21;22:26:58  4  23  3  12  13  27  16  13  32  48  ...    19     1   \n",
       "\n",
       "                   1391  1392  1393  1394  1395  1396  1397  y  \n",
       "01/04/21;00:03:28    21    10    33     3    26    10    20  7  \n",
       "01/04/21;01:05:43    19    10    33     4    27    10    20  7  \n",
       "01/04/21;02:07:51    19    10    22     4    27    10    20  7  \n",
       "01/04/21;03:10:01    19    10     9     4    15    10    20  7  \n",
       "01/04/21;04:12:06    19    10     9     4    15    10    20  7  \n",
       "...                 ...   ...   ...   ...   ...   ...   ... ..  \n",
       "02/12/21;18:13:07    19    13     9     7    21    19     5  4  \n",
       "02/12/21;19:16:34    16    12     8     7    25    19     6  4  \n",
       "02/12/21;20:20:05    17    13    13     7    26    16     4  4  \n",
       "02/12/21;21:23:31    19    13    15     8    26    16     4  4  \n",
       "02/12/21;22:26:58    18    13    14     8    28    17     4  4  \n",
       "\n",
       "[914 rows x 1399 columns]"
      ],
      "text/html": "<div>\n<style scoped>\n    .dataframe tbody tr th:only-of-type {\n        vertical-align: middle;\n    }\n\n    .dataframe tbody tr th {\n        vertical-align: top;\n    }\n\n    .dataframe thead th {\n        text-align: right;\n    }\n</style>\n<table border=\"1\" class=\"dataframe\">\n  <thead>\n    <tr style=\"text-align: right;\">\n      <th></th>\n      <th>0</th>\n      <th>1</th>\n      <th>2</th>\n      <th>3</th>\n      <th>4</th>\n      <th>5</th>\n      <th>6</th>\n      <th>7</th>\n      <th>8</th>\n      <th>9</th>\n      <th>...</th>\n      <th>1389</th>\n      <th>1390</th>\n      <th>1391</th>\n      <th>1392</th>\n      <th>1393</th>\n      <th>1394</th>\n      <th>1395</th>\n      <th>1396</th>\n      <th>1397</th>\n      <th>y</th>\n    </tr>\n  </thead>\n  <tbody>\n    <tr>\n      <th>01/04/21;00:03:28</th>\n      <td>7</td>\n      <td>25</td>\n      <td>5</td>\n      <td>5</td>\n      <td>21</td>\n      <td>37</td>\n      <td>3</td>\n      <td>20</td>\n      <td>20</td>\n      <td>17</td>\n      <td>...</td>\n      <td>16</td>\n      <td>5</td>\n      <td>21</td>\n      <td>10</td>\n      <td>33</td>\n      <td>3</td>\n      <td>26</td>\n      <td>10</td>\n      <td>20</td>\n      <td>7</td>\n    </tr>\n    <tr>\n      <th>01/04/21;01:05:43</th>\n      <td>7</td>\n      <td>25</td>\n      <td>5</td>\n      <td>5</td>\n      <td>21</td>\n      <td>37</td>\n      <td>3</td>\n      <td>20</td>\n      <td>19</td>\n      <td>17</td>\n      <td>...</td>\n      <td>16</td>\n      <td>5</td>\n      <td>19</td>\n      <td>10</td>\n      <td>33</td>\n      <td>4</td>\n      <td>27</td>\n      <td>10</td>\n      <td>20</td>\n      <td>7</td>\n    </tr>\n    <tr>\n      <th>01/04/21;02:07:51</th>\n      <td>7</td>\n      <td>25</td>\n      <td>5</td>\n      <td>5</td>\n      <td>21</td>\n      <td>37</td>\n      <td>3</td>\n      <td>20</td>\n      <td>19</td>\n      <td>18</td>\n      <td>...</td>\n      <td>16</td>\n      <td>5</td>\n      <td>19</td>\n      <td>10</td>\n      <td>22</td>\n      <td>4</td>\n      <td>27</td>\n      <td>10</td>\n      <td>20</td>\n      <td>7</td>\n    </tr>\n    <tr>\n      <th>01/04/21;03:10:01</th>\n      <td>7</td>\n      <td>25</td>\n      <td>5</td>\n      <td>5</td>\n      <td>22</td>\n      <td>24</td>\n      <td>3</td>\n      <td>20</td>\n      <td>19</td>\n      <td>18</td>\n      <td>...</td>\n      <td>17</td>\n      <td>5</td>\n      <td>19</td>\n      <td>10</td>\n      <td>9</td>\n      <td>4</td>\n      <td>15</td>\n      <td>10</td>\n      <td>20</td>\n      <td>7</td>\n    </tr>\n    <tr>\n      <th>01/04/21;04:12:06</th>\n      <td>7</td>\n      <td>25</td>\n      <td>5</td>\n      <td>6</td>\n      <td>22</td>\n      <td>25</td>\n      <td>16</td>\n      <td>20</td>\n      <td>19</td>\n      <td>18</td>\n      <td>...</td>\n      <td>17</td>\n      <td>5</td>\n      <td>19</td>\n      <td>10</td>\n      <td>9</td>\n      <td>4</td>\n      <td>15</td>\n      <td>10</td>\n      <td>20</td>\n      <td>7</td>\n    </tr>\n    <tr>\n      <th>...</th>\n      <td>...</td>\n      <td>...</td>\n      <td>...</td>\n      <td>...</td>\n      <td>...</td>\n      <td>...</td>\n      <td>...</td>\n      <td>...</td>\n      <td>...</td>\n      <td>...</td>\n      <td>...</td>\n      <td>...</td>\n      <td>...</td>\n      <td>...</td>\n      <td>...</td>\n      <td>...</td>\n      <td>...</td>\n      <td>...</td>\n      <td>...</td>\n      <td>...</td>\n      <td>...</td>\n    </tr>\n    <tr>\n      <th>02/12/21;18:13:07</th>\n      <td>4</td>\n      <td>27</td>\n      <td>2</td>\n      <td>15</td>\n      <td>9</td>\n      <td>32</td>\n      <td>12</td>\n      <td>6</td>\n      <td>23</td>\n      <td>41</td>\n      <td>...</td>\n      <td>15</td>\n      <td>4</td>\n      <td>19</td>\n      <td>13</td>\n      <td>9</td>\n      <td>7</td>\n      <td>21</td>\n      <td>19</td>\n      <td>5</td>\n      <td>4</td>\n    </tr>\n    <tr>\n      <th>02/12/21;19:16:34</th>\n      <td>4</td>\n      <td>26</td>\n      <td>5</td>\n      <td>10</td>\n      <td>15</td>\n      <td>24</td>\n      <td>19</td>\n      <td>10</td>\n      <td>26</td>\n      <td>39</td>\n      <td>...</td>\n      <td>18</td>\n      <td>2</td>\n      <td>16</td>\n      <td>12</td>\n      <td>8</td>\n      <td>7</td>\n      <td>25</td>\n      <td>19</td>\n      <td>6</td>\n      <td>4</td>\n    </tr>\n    <tr>\n      <th>02/12/21;20:20:05</th>\n      <td>4</td>\n      <td>23</td>\n      <td>2</td>\n      <td>11</td>\n      <td>13</td>\n      <td>25</td>\n      <td>19</td>\n      <td>9</td>\n      <td>28</td>\n      <td>41</td>\n      <td>...</td>\n      <td>18</td>\n      <td>1</td>\n      <td>17</td>\n      <td>13</td>\n      <td>13</td>\n      <td>7</td>\n      <td>26</td>\n      <td>16</td>\n      <td>4</td>\n      <td>4</td>\n    </tr>\n    <tr>\n      <th>02/12/21;21:23:31</th>\n      <td>4</td>\n      <td>24</td>\n      <td>3</td>\n      <td>12</td>\n      <td>12</td>\n      <td>25</td>\n      <td>17</td>\n      <td>12</td>\n      <td>29</td>\n      <td>43</td>\n      <td>...</td>\n      <td>20</td>\n      <td>0</td>\n      <td>19</td>\n      <td>13</td>\n      <td>15</td>\n      <td>8</td>\n      <td>26</td>\n      <td>16</td>\n      <td>4</td>\n      <td>4</td>\n    </tr>\n    <tr>\n      <th>02/12/21;22:26:58</th>\n      <td>4</td>\n      <td>23</td>\n      <td>3</td>\n      <td>12</td>\n      <td>13</td>\n      <td>27</td>\n      <td>16</td>\n      <td>13</td>\n      <td>32</td>\n      <td>48</td>\n      <td>...</td>\n      <td>19</td>\n      <td>1</td>\n      <td>18</td>\n      <td>13</td>\n      <td>14</td>\n      <td>8</td>\n      <td>28</td>\n      <td>17</td>\n      <td>4</td>\n      <td>4</td>\n    </tr>\n  </tbody>\n</table>\n<p>914 rows × 1399 columns</p>\n</div>"
     },
     "metadata": {},
     "execution_count": 16
    }
   ],
   "source": [
    "df = df_velib_court.copy()\n",
    "df['y'] = df[0]\n",
    "df"
   ]
  },
  {
   "cell_type": "code",
   "execution_count": 17,
   "metadata": {},
   "outputs": [
    {
     "output_type": "execute_result",
     "data": {
      "text/plain": [
       "                   0   1  2  3   4   5   6   7   8   9  ...  1389  1390  1391  \\\n",
       "01/04/21;00:03:28  7  25  5  5  21  37   3  20  20  17  ...    16     5    21   \n",
       "01/04/21;01:05:43  7  25  5  5  21  37   3  20  19  17  ...    16     5    19   \n",
       "01/04/21;02:07:51  7  25  5  5  21  37   3  20  19  18  ...    16     5    19   \n",
       "01/04/21;03:10:01  7  25  5  5  22  24   3  20  19  18  ...    17     5    19   \n",
       "01/04/21;04:12:06  7  25  5  6  22  25  16  20  19  18  ...    17     5    19   \n",
       "...               ..  .. .. ..  ..  ..  ..  ..  ..  ..  ...   ...   ...   ...   \n",
       "02/11/21;16:50:25  8  20  3  5  17  45   9  23  18  47  ...     6     1     4   \n",
       "02/11/21;17:53:56  5  22  4  8  22  40  10  21  22  47  ...    11     1     5   \n",
       "02/11/21;18:57:19  8  18  7  8  29  42  12  19  23  44  ...    11     1     2   \n",
       "02/11/21;20:00:43  3  17  5  9  30  42  20  14  27  49  ...    18     0     7   \n",
       "02/11/21;21:04:07  2  18  4  8  30  42  19  13  30  49  ...    19     0     7   \n",
       "\n",
       "                   1392  1393  1394  1395  1396  1397   y  \n",
       "01/04/21;00:03:28    10    33     3    26    10    20  10  \n",
       "01/04/21;01:05:43    10    33     4    27    10    20  10  \n",
       "01/04/21;02:07:51    10    22     4    27    10    20  10  \n",
       "01/04/21;03:10:01    10     9     4    15    10    20  10  \n",
       "01/04/21;04:12:06    10     9     4    15    10    20  10  \n",
       "...                 ...   ...   ...   ...   ...   ...  ..  \n",
       "02/11/21;16:50:25    16     5     7    11    14    26   4  \n",
       "02/11/21;17:53:56    18     8     8     9    19    30   4  \n",
       "02/11/21;18:57:19    18     7     9    12    20    21   4  \n",
       "02/11/21;20:00:43    18    13     9    16    20    24   4  \n",
       "02/11/21;21:04:07    19    19    10    22    20    27   4  \n",
       "\n",
       "[890 rows x 1399 columns]"
      ],
      "text/html": "<div>\n<style scoped>\n    .dataframe tbody tr th:only-of-type {\n        vertical-align: middle;\n    }\n\n    .dataframe tbody tr th {\n        vertical-align: top;\n    }\n\n    .dataframe thead th {\n        text-align: right;\n    }\n</style>\n<table border=\"1\" class=\"dataframe\">\n  <thead>\n    <tr style=\"text-align: right;\">\n      <th></th>\n      <th>0</th>\n      <th>1</th>\n      <th>2</th>\n      <th>3</th>\n      <th>4</th>\n      <th>5</th>\n      <th>6</th>\n      <th>7</th>\n      <th>8</th>\n      <th>9</th>\n      <th>...</th>\n      <th>1389</th>\n      <th>1390</th>\n      <th>1391</th>\n      <th>1392</th>\n      <th>1393</th>\n      <th>1394</th>\n      <th>1395</th>\n      <th>1396</th>\n      <th>1397</th>\n      <th>y</th>\n    </tr>\n  </thead>\n  <tbody>\n    <tr>\n      <th>01/04/21;00:03:28</th>\n      <td>7</td>\n      <td>25</td>\n      <td>5</td>\n      <td>5</td>\n      <td>21</td>\n      <td>37</td>\n      <td>3</td>\n      <td>20</td>\n      <td>20</td>\n      <td>17</td>\n      <td>...</td>\n      <td>16</td>\n      <td>5</td>\n      <td>21</td>\n      <td>10</td>\n      <td>33</td>\n      <td>3</td>\n      <td>26</td>\n      <td>10</td>\n      <td>20</td>\n      <td>10</td>\n    </tr>\n    <tr>\n      <th>01/04/21;01:05:43</th>\n      <td>7</td>\n      <td>25</td>\n      <td>5</td>\n      <td>5</td>\n      <td>21</td>\n      <td>37</td>\n      <td>3</td>\n      <td>20</td>\n      <td>19</td>\n      <td>17</td>\n      <td>...</td>\n      <td>16</td>\n      <td>5</td>\n      <td>19</td>\n      <td>10</td>\n      <td>33</td>\n      <td>4</td>\n      <td>27</td>\n      <td>10</td>\n      <td>20</td>\n      <td>10</td>\n    </tr>\n    <tr>\n      <th>01/04/21;02:07:51</th>\n      <td>7</td>\n      <td>25</td>\n      <td>5</td>\n      <td>5</td>\n      <td>21</td>\n      <td>37</td>\n      <td>3</td>\n      <td>20</td>\n      <td>19</td>\n      <td>18</td>\n      <td>...</td>\n      <td>16</td>\n      <td>5</td>\n      <td>19</td>\n      <td>10</td>\n      <td>22</td>\n      <td>4</td>\n      <td>27</td>\n      <td>10</td>\n      <td>20</td>\n      <td>10</td>\n    </tr>\n    <tr>\n      <th>01/04/21;03:10:01</th>\n      <td>7</td>\n      <td>25</td>\n      <td>5</td>\n      <td>5</td>\n      <td>22</td>\n      <td>24</td>\n      <td>3</td>\n      <td>20</td>\n      <td>19</td>\n      <td>18</td>\n      <td>...</td>\n      <td>17</td>\n      <td>5</td>\n      <td>19</td>\n      <td>10</td>\n      <td>9</td>\n      <td>4</td>\n      <td>15</td>\n      <td>10</td>\n      <td>20</td>\n      <td>10</td>\n    </tr>\n    <tr>\n      <th>01/04/21;04:12:06</th>\n      <td>7</td>\n      <td>25</td>\n      <td>5</td>\n      <td>6</td>\n      <td>22</td>\n      <td>25</td>\n      <td>16</td>\n      <td>20</td>\n      <td>19</td>\n      <td>18</td>\n      <td>...</td>\n      <td>17</td>\n      <td>5</td>\n      <td>19</td>\n      <td>10</td>\n      <td>9</td>\n      <td>4</td>\n      <td>15</td>\n      <td>10</td>\n      <td>20</td>\n      <td>10</td>\n    </tr>\n    <tr>\n      <th>...</th>\n      <td>...</td>\n      <td>...</td>\n      <td>...</td>\n      <td>...</td>\n      <td>...</td>\n      <td>...</td>\n      <td>...</td>\n      <td>...</td>\n      <td>...</td>\n      <td>...</td>\n      <td>...</td>\n      <td>...</td>\n      <td>...</td>\n      <td>...</td>\n      <td>...</td>\n      <td>...</td>\n      <td>...</td>\n      <td>...</td>\n      <td>...</td>\n      <td>...</td>\n      <td>...</td>\n    </tr>\n    <tr>\n      <th>02/11/21;16:50:25</th>\n      <td>8</td>\n      <td>20</td>\n      <td>3</td>\n      <td>5</td>\n      <td>17</td>\n      <td>45</td>\n      <td>9</td>\n      <td>23</td>\n      <td>18</td>\n      <td>47</td>\n      <td>...</td>\n      <td>6</td>\n      <td>1</td>\n      <td>4</td>\n      <td>16</td>\n      <td>5</td>\n      <td>7</td>\n      <td>11</td>\n      <td>14</td>\n      <td>26</td>\n      <td>4</td>\n    </tr>\n    <tr>\n      <th>02/11/21;17:53:56</th>\n      <td>5</td>\n      <td>22</td>\n      <td>4</td>\n      <td>8</td>\n      <td>22</td>\n      <td>40</td>\n      <td>10</td>\n      <td>21</td>\n      <td>22</td>\n      <td>47</td>\n      <td>...</td>\n      <td>11</td>\n      <td>1</td>\n      <td>5</td>\n      <td>18</td>\n      <td>8</td>\n      <td>8</td>\n      <td>9</td>\n      <td>19</td>\n      <td>30</td>\n      <td>4</td>\n    </tr>\n    <tr>\n      <th>02/11/21;18:57:19</th>\n      <td>8</td>\n      <td>18</td>\n      <td>7</td>\n      <td>8</td>\n      <td>29</td>\n      <td>42</td>\n      <td>12</td>\n      <td>19</td>\n      <td>23</td>\n      <td>44</td>\n      <td>...</td>\n      <td>11</td>\n      <td>1</td>\n      <td>2</td>\n      <td>18</td>\n      <td>7</td>\n      <td>9</td>\n      <td>12</td>\n      <td>20</td>\n      <td>21</td>\n      <td>4</td>\n    </tr>\n    <tr>\n      <th>02/11/21;20:00:43</th>\n      <td>3</td>\n      <td>17</td>\n      <td>5</td>\n      <td>9</td>\n      <td>30</td>\n      <td>42</td>\n      <td>20</td>\n      <td>14</td>\n      <td>27</td>\n      <td>49</td>\n      <td>...</td>\n      <td>18</td>\n      <td>0</td>\n      <td>7</td>\n      <td>18</td>\n      <td>13</td>\n      <td>9</td>\n      <td>16</td>\n      <td>20</td>\n      <td>24</td>\n      <td>4</td>\n    </tr>\n    <tr>\n      <th>02/11/21;21:04:07</th>\n      <td>2</td>\n      <td>18</td>\n      <td>4</td>\n      <td>8</td>\n      <td>30</td>\n      <td>42</td>\n      <td>19</td>\n      <td>13</td>\n      <td>30</td>\n      <td>49</td>\n      <td>...</td>\n      <td>19</td>\n      <td>0</td>\n      <td>7</td>\n      <td>19</td>\n      <td>19</td>\n      <td>10</td>\n      <td>22</td>\n      <td>20</td>\n      <td>27</td>\n      <td>4</td>\n    </tr>\n  </tbody>\n</table>\n<p>890 rows × 1399 columns</p>\n</div>"
     },
     "metadata": {},
     "execution_count": 17
    }
   ],
   "source": [
    "axis = df_velib_court.index\n",
    "\n",
    "# Boucle qui met dans Y toutes les données 24h plus tard\n",
    "for i in range(len(df)-24):\n",
    "    df['y'][axis[i]] = df[0][axis[i+24]]\n",
    "\n",
    "# Puis on supprime les 24 dernières lignes qui ne peuvent pas être complétées\n",
    "df.drop(axis[-24:], inplace = True)\n",
    "df"
   ]
  },
  {
   "source": [
    "## Machine Learning basique : regarder ce qu'il se passe sur une station"
   ],
   "cell_type": "markdown",
   "metadata": {}
  },
  {
   "cell_type": "code",
   "execution_count": 18,
   "metadata": {},
   "outputs": [],
   "source": [
    "# Choix des features\n",
    "stations = [i for i in df.columns if i != 'y']\n",
    "X = df[stations]\n",
    "\n",
    "# Préparation de la target\n",
    "y = df['y']"
   ]
  },
  {
   "cell_type": "code",
   "execution_count": 19,
   "metadata": {},
   "outputs": [
    {
     "output_type": "stream",
     "name": "stdout",
     "text": [
      "Le MAE du modèle est 5.06 avec la régression linéaire\n"
     ]
    }
   ],
   "source": [
    "# Régression linéaire simple\n",
    "X_train, X_test, y_train, y_test = train_test_split(X, y, test_size=0.3, shuffle = False)\n",
    "regressor = LinearRegression()\n",
    "regressor.fit(X_train, y_train)\n",
    "y_prediction = regressor.predict(X_test)\n",
    "\n",
    "print(\"Le MAE du modèle est \"+str(round(mean_absolute_error(y_test, y_prediction),3))+\" avec la régression linéaire\")"
   ]
  },
  {
   "cell_type": "code",
   "execution_count": 22,
   "metadata": {},
   "outputs": [
    {
     "output_type": "stream",
     "name": "stdout",
     "text": [
      "Le MAE du modèle est 4.015 avec random forest\n"
     ]
    }
   ],
   "source": [
    "# Random Forest\n",
    "X_train, X_test, y_train, y_test = train_test_split(X, y, test_size=0.3, shuffle = False)\n",
    "regressor = RandomForestRegressor(max_depth = 5, min_samples_split = 4, n_estimators = 50)\n",
    "regressor.fit(X_train, y_train)\n",
    "y_prediction = regressor.predict(X_test)\n",
    "\n",
    "print(\"Le MAE du modèle est \"+str(round(mean_absolute_error(y_test, y_prediction),3))+\" avec random forest\")"
   ]
  },
  {
   "source": [
    "## Réalisation d'un apprentissage pour 10 stations aléatoires (les premières dans l'ordre des données) : automatisation"
   ],
   "cell_type": "markdown",
   "metadata": {}
  },
  {
   "cell_type": "code",
   "execution_count": 23,
   "metadata": {},
   "outputs": [],
   "source": [
    "# Import du module de visualisation des résultats\n",
    "from prettytable import PrettyTable"
   ]
  },
  {
   "cell_type": "code",
   "execution_count": 24,
   "metadata": {},
   "outputs": [
    {
     "output_type": "execute_result",
     "data": {
      "text/plain": [
       "['station_0',\n",
       " 'station_1',\n",
       " 'station_2',\n",
       " 'station_3',\n",
       " 'station_4',\n",
       " 'station_5',\n",
       " 'station_6',\n",
       " 'station_7',\n",
       " 'station_8',\n",
       " 'station_9']"
      ]
     },
     "metadata": {},
     "execution_count": 24
    }
   ],
   "source": [
    "# Liste des stations cibles\n",
    "stations_tests = []\n",
    "for i in range(10):\n",
    "    stations_tests.append(\"station_\"+str(i))\n",
    "stations_tests"
   ]
  },
  {
   "source": [
    "## Visualisation des données sélectionnées"
   ],
   "cell_type": "markdown",
   "metadata": {}
  },
  {
   "cell_type": "code",
   "execution_count": 25,
   "metadata": {},
   "outputs": [
    {
     "output_type": "execute_result",
     "data": {
      "text/plain": [
       "<folium.folium.Map at 0x7fd23f488650>"
      ],
      "text/html": "<div style=\"width:100%;\"><div style=\"position:relative;width:100%;height:0;padding-bottom:60%;\"><span style=\"color:#565656\">Make this Notebook Trusted to load map: File -> Trust Notebook</span><iframe src=\"about:blank\" style=\"position:absolute;width:100%;height:100%;left:0;top:0;border:none !important;\" data-html=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 onload=\"this.contentDocument.open();this.contentDocument.write(atob(this.getAttribute('data-html')));this.contentDocument.close();\" allowfullscreen webkitallowfullscreen mozallowfullscreen></iframe></div></div>"
     },
     "metadata": {},
     "execution_count": 25
    }
   ],
   "source": [
    "import folium\n",
    "\n",
    "# Titre : \n",
    "loc = 'Les 10 stations Velib selectionnees'\n",
    "title_html = '''\n",
    "             <h3 align=\"center\" style=\"font-size:16px\"><b>{}</b></h3>\n",
    "             '''.format(loc)   \n",
    "\n",
    "stations_velib_paris = folium.Map(location = [48.856578, 2.351828], zoom_start = 12.5) # On centre sur Paris\n",
    "for i in range(10): # Affichage des 10 premières stations considérées\n",
    "    \n",
    "    test_mark  = '<head><meta http-equiv=\"Content-Type\" content=\"text/html; charset=windows-1252\"></head>'\n",
    "    test_mark += '<strong>'+stations_tests[i] + \" \" + df_station_info['name'][i] + \". Capacite = \"+str(velib_details['capacity'][i])+'<strong>'\n",
    "\n",
    "    folium.Marker(\n",
    "        np.array([df_station_info['lat'][i],df_station_info['lon'][i]]).tolist(),\n",
    "        #popup = stations_tests[i] + \" \" + df_station_info['name'][i] + \". Capacite = \"+str(velib_details['capacity'][i]), \n",
    "        popup = test_mark, \n",
    "        icon=folium.Icon(color='red', icon='info-sign')\n",
    "        ).add_to(stations_velib_paris)\n",
    "\n",
    "stations_velib_paris.get_root().html.add_child(folium.Element(title_html))\n",
    "\n",
    "stations_velib_paris"
   ]
  },
  {
   "source": [
    "## Machine Learning"
   ],
   "cell_type": "markdown",
   "metadata": {}
  },
  {
   "cell_type": "code",
   "execution_count": 47,
   "metadata": {},
   "outputs": [
    {
     "output_type": "stream",
     "name": "stdout",
     "text": [
      "+----------------+-------------------------+------------------------+---------------+---------------+------------------------------+\n| Station target | Mean(Occupation) - test | Std(Occupation) - test | MAE LR - test | MAE RF - test | MAE méthode intuitive - test |\n+----------------+-------------------------+------------------------+---------------+---------------+------------------------------+\n|   station_0    |           5.07          |          3.69          |      5.06     |      3.95     |             3.98             |\n|   station_1    |          35.32          |         10.49          |     18.27     |      9.47     |             6.9              |\n|   station_2    |           5.12          |          3.41          |      4.25     |      2.44     |             3.53             |\n|   station_3    |           6.47          |          3.56          |      5.99     |      2.62     |             3.94             |\n|   station_4    |          16.21          |          8.42          |     10.19     |      6.15     |             6.99             |\n|   station_5    |          25.05          |         12.42          |     10.35     |      12.6     |             9.31             |\n|   station_6    |          15.45          |          9.34          |     10.43     |      6.75     |             9.16             |\n|   station_7    |          11.42          |          6.48          |      8.21     |      5.06     |             6.19             |\n|   station_8    |          20.71          |          7.75          |      7.37     |      5.49     |             4.85             |\n|   station_9    |          32.13          |         11.89          |     12.26     |     12.14     |             7.91             |\n+----------------+-------------------------+------------------------+---------------+---------------+------------------------------+\nRésultats des MAE sur le test\n"
     ]
    }
   ],
   "source": [
    "# Stockage des index du dataframe\n",
    "axis = df_velib_court.index\n",
    "# Préparation des résultats à stocker : pour chaque station, on garde le numéro de la station dans le dataframe df_velib, le modèle de \n",
    "# régression linéaire et de random forest\n",
    "resultats = {}\n",
    "\n",
    "# Préparation de la visualisation des résultats :\n",
    "ptbl = PrettyTable()\n",
    "ptbl.field_names = [\"Station target\", \"Mean(Occupation) - test\", \"Std(Occupation) - test\", \"MAE LR - test\", \"MAE RF - test\", \"MAE méthode intuitive - test\"]\n",
    "\n",
    "# Dataframe pour la Régression Linéaire et le Random Forest\n",
    "for i in range(len(stations_tests)):\n",
    "    df = df_velib_court.copy()\n",
    "    df['y'] = df[i]\n",
    "\n",
    "    for j in range(len(df)-24):\n",
    "        df['y'][axis[j]] = df[i][axis[j+24]]\n",
    "        \n",
    "    # Puis on supprime les 24 dernières lignes qui ne peuvent pas être complétées\n",
    "    df.drop(axis[-24:], inplace = True)\n",
    "\n",
    "    # Machine Learning\n",
    "    stations_features = [i for i in df.columns if i != 'y']\n",
    "    X = df[stations_features]\n",
    "    # Préparation de la target\n",
    "    y = df['y']\n",
    "    # Séparation en données de test et d'entrainement\n",
    "    X_train, X_test, y_train, y_test = train_test_split(X, y, test_size=0.3, shuffle = False)\n",
    "    \n",
    "    # 1- Régression linéaire\n",
    "    lr = LinearRegression()\n",
    "    lr.fit(X_train, y_train)\n",
    "    y_prediction_lr = lr.predict(X_test)\n",
    "    MAE_lr = round(mean_absolute_error(y_test, y_prediction_lr),2)\n",
    "\n",
    "    # 2- Random Forest\n",
    "    rf = RandomForestRegressor(max_depth = 30, min_samples_split = 7, n_estimators = 600)\n",
    "    rf.fit(X_train, y_train)\n",
    "    y_prediction_rf = rf.predict(X_test)\n",
    "    MAE_rf = round(mean_absolute_error(y_test, y_prediction_rf),2)\n",
    "\n",
    "    # 3- Méthode naïve ou bien \"intuitive\" c'est-à-dire prédire que ce qui se passe 1 jour plus tard est exactement la même chose que la            veille\n",
    "    df_naif = X_test.copy()\n",
    "    #MAE_naif = round(abs(X_test[i]-y_test).mean() , 2)\n",
    "    MAE_naif = round(mean_absolute_error(X_test[i], y_test),2)\n",
    "\n",
    "    # Capacité moyenne de la station sur la période observée\n",
    "    occupation_moyenne = round(X_test[i].mean(),2)\n",
    "    # Variance de la capacité sur la période observée\n",
    "    variance_occupation = round(X_test[i].std(),2)\n",
    "\n",
    "    # Mise en forme des résultats\n",
    "    y_test = pd.DataFrame(y_test)\n",
    "    index = y_test.index\n",
    "    # Renommer pour plus de clarté\n",
    "    y_prediction_lr = pd.DataFrame(y_prediction_lr, index = index)\n",
    "    y_prediction_rf = pd.DataFrame(y_prediction_rf, index = index)\n",
    "    y_naif = pd.DataFrame(X_test[i])\n",
    "    y_prediction_naif = y_test\n",
    "\n",
    "    # Stockage des résultats : numéro de la station, les modèles, et les MAE de chaque modèle\n",
    "    resultats[stations_tests[i]] = [i, X, y, lr, MAE_lr, rf, MAE_rf, df_naif, MAE_naif, occupation_moyenne, y_test, y_prediction_lr, y_prediction_rf, y_naif, y_prediction_naif, variance_occupation]\n",
    "\n",
    "    # Visualisation des performances avec Prettytable\n",
    "    ptbl.add_row([stations_tests[i], occupation_moyenne, variance_occupation, MAE_lr, MAE_rf, MAE_naif])\n",
    "    \n",
    "print(ptbl)\n",
    "print(\"Résultats des MAE sur le test\")"
   ]
  },
  {
   "source": [
    "On s'intéresse à présent à la moyenne des erreurs de prédiction des modèles : la moyenne des MAE"
   ],
   "cell_type": "markdown",
   "metadata": {}
  },
  {
   "cell_type": "code",
   "execution_count": 48,
   "metadata": {},
   "outputs": [
    {
     "output_type": "stream",
     "name": "stdout",
     "text": [
      "+-------------------------+------------------------+--------------------------------+--------------------------------+----------------------------------+\n| Mean(Occupation) - test | Std(Occupation) - test | Mean(MAE) LR - 1 modèle - test | Mean(MAE) RF - 1 modèle - test | Mean(MAE) naïf - 1 modèle - test |\n+-------------------------+------------------------+--------------------------------+--------------------------------+----------------------------------+\n|          17.29          |          7.75          |              9.24              |              6.67              |               6.28               |\n+-------------------------+------------------------+--------------------------------+--------------------------------+----------------------------------+\n"
     ]
    }
   ],
   "source": [
    "ptbl1 = PrettyTable()\n",
    "#ptbl.field_names = [\"Occupation moyenne des stations cibles\", \"Moyenne MAE LR\", \"Moyenne MAE RF\", \"Moyenne MAE méthode naïve\"]\n",
    "ptbl1.field_names = [\"Mean(Occupation) - test\", \"Std(Occupation) - test\",\"Mean(MAE) LR - 1 modèle - test\", \"Mean(MAE) RF - 1 modèle - test\", \"Mean(MAE) naïf - 1 modèle - test\"]\n",
    "\n",
    "mean_occupation1 = 0\n",
    "mean_std_occupation1 = 0\n",
    "mean_MAE_lr = 0\n",
    "mean_MAE_rf = 0\n",
    "mean_MAE_naif = 0\n",
    "\n",
    "# Parcourir le dictionnaire des résultats pour calculer la moyenne des indicateurs\n",
    "for key, item in resultats.items():\n",
    "    mean_occupation1 += resultats[key][9]\n",
    "    mean_std_occupation1 += resultats[key][15]\n",
    "    mean_MAE_lr += resultats[key][4]\n",
    "    mean_MAE_rf += resultats[key][6]\n",
    "    mean_MAE_naif += resultats[key][8]\n",
    "\n",
    "# On divise par le nombre total de stations tests pour obtenir la moyenne\n",
    "mean_occupation1 = round(mean_occupation1/len(resultats),2)\n",
    "mean_std_occupation1 = round(mean_std_occupation1/len(resultats),2)\n",
    "mean_MAE_lr = round(mean_MAE_lr/len(resultats),2)\n",
    "mean_MAE_rf = round(mean_MAE_rf/len(resultats),2)\n",
    "mean_MAE_naif = round(mean_MAE_naif/len(resultats),2)\n",
    "\n",
    "# Visualisation des performances avec Prettytable\n",
    "ptbl1.add_row([mean_occupation1, mean_std_occupation1, mean_MAE_lr, mean_MAE_rf, mean_MAE_naif])\n",
    "print(ptbl1)"
   ]
  },
  {
   "source": [
    "On regarde ensuite à quelle heure de la journée est-ce que nous faisons le plus d'erreurs de prédiction."
   ],
   "cell_type": "markdown",
   "metadata": {}
  },
  {
   "source": [
    "## Moyenne des erreurs par heure\n",
    "\n",
    "On rappelle que, pour la station i, \n",
    "- `resultats[stations_tests[i]][10]` contient `y_test` du ML et colonne a le nom `y`\n",
    "- `resultats[stations_tests[i]][11]` contient les prédictions de `y_test` avec LR et colonne a le nom `0`\n",
    "- `resultats[stations_tests[i]][12]` contient les prédictions de `y_test` avec LR et colonne a le nom `0`\n",
    "- `resultats[stations_tests[i]][13]` contient `y_test` de la méthode naïve et colonne a le nom `i`\n",
    "- `resultats[stations_tests[i]][14]` contient les prédictions de `y_test` avec méthode naïve et colonne a le nom `y`"
   ],
   "cell_type": "markdown",
   "metadata": {}
  },
  {
   "source": [
    "Fonction qui indique l'heure du pointage dans une nouvelle colonne `heure`"
   ],
   "cell_type": "markdown",
   "metadata": {}
  },
  {
   "cell_type": "code",
   "execution_count": 49,
   "metadata": {},
   "outputs": [],
   "source": [
    "def get_heure(df):\n",
    "    df['heure'] = df.index \n",
    "    for i in df.index:\n",
    "        df['heure'][i] = float(df['heure'][i][9]+df['heure'][i][10])"
   ]
  },
  {
   "source": [
    "On applique à présent cette fonction sur tous les dataframes des tests :"
   ],
   "cell_type": "markdown",
   "metadata": {}
  },
  {
   "cell_type": "code",
   "execution_count": 50,
   "metadata": {},
   "outputs": [],
   "source": [
    "for i in stations_tests:\n",
    "    get_heure(resultats[i][10])\n",
    "    get_heure(resultats[i][11])\n",
    "    get_heure(resultats[i][12])\n",
    "    get_heure(resultats[i][13])\n",
    "    get_heure(resultats[i][14])"
   ]
  },
  {
   "source": [
    "On crée maintenant le dataframe de chaque station qui contient les erreurs de prédiction à chaque date en valeur absolue"
   ],
   "cell_type": "markdown",
   "metadata": {}
  },
  {
   "cell_type": "code",
   "execution_count": 51,
   "metadata": {
    "tags": []
   },
   "outputs": [],
   "source": [
    "for i in range(len(stations_tests)):\n",
    "    # Initialisation\n",
    "    resultats[stations_tests[i]][10]['erreur_pred_lr'] = 0\n",
    "    resultats[stations_tests[i]][10]['erreur_pred_rf'] = 0\n",
    "    resultats[stations_tests[i]][10]['erreur_pred_naif'] = 0\n",
    "    # On stocke les erreurs en valeur absolue\n",
    "    resultats[stations_tests[i]][10]['erreur_pred_lr'] = abs(resultats[stations_tests[i]][11][0] - resultats[stations_tests[i]][10]['y'])\n",
    "    resultats[stations_tests[i]][10]['erreur_pred_rf'] = abs(resultats[stations_tests[i]][12][0] - resultats[stations_tests[i]][10]['y'])\n",
    "    resultats[stations_tests[i]][10]['erreur_pred_naif'] = abs(resultats[stations_tests[i]][13][i] - resultats[stations_tests[i]][14]['y'])"
   ]
  },
  {
   "source": [
    "On crée à présent le dataframe de toutes les erreurs de prédiction suivant les différents modèles sur les 10 stations"
   ],
   "cell_type": "markdown",
   "metadata": {}
  },
  {
   "cell_type": "code",
   "execution_count": 52,
   "metadata": {},
   "outputs": [
    {
     "output_type": "execute_result",
     "data": {
      "text/plain": [
       "                   y heure  erreur_pred_lr  erreur_pred_rf  erreur_pred_naif\n",
       "01/31/21;03:40:41  3     3        1.111694        0.446251                 6\n",
       "01/31/21;04:43:42  3     4        2.542588        0.363754                 6\n",
       "01/31/21;05:46:46  3     5        3.032736        0.422328                 6\n",
       "01/31/21;06:49:50  2     6        4.545158        1.603620                 7\n",
       "01/31/21;07:52:53  3     7        2.927713        0.704693                 7"
      ],
      "text/html": "<div>\n<style scoped>\n    .dataframe tbody tr th:only-of-type {\n        vertical-align: middle;\n    }\n\n    .dataframe tbody tr th {\n        vertical-align: top;\n    }\n\n    .dataframe thead th {\n        text-align: right;\n    }\n</style>\n<table border=\"1\" class=\"dataframe\">\n  <thead>\n    <tr style=\"text-align: right;\">\n      <th></th>\n      <th>y</th>\n      <th>heure</th>\n      <th>erreur_pred_lr</th>\n      <th>erreur_pred_rf</th>\n      <th>erreur_pred_naif</th>\n    </tr>\n  </thead>\n  <tbody>\n    <tr>\n      <th>01/31/21;03:40:41</th>\n      <td>3</td>\n      <td>3</td>\n      <td>1.111694</td>\n      <td>0.446251</td>\n      <td>6</td>\n    </tr>\n    <tr>\n      <th>01/31/21;04:43:42</th>\n      <td>3</td>\n      <td>4</td>\n      <td>2.542588</td>\n      <td>0.363754</td>\n      <td>6</td>\n    </tr>\n    <tr>\n      <th>01/31/21;05:46:46</th>\n      <td>3</td>\n      <td>5</td>\n      <td>3.032736</td>\n      <td>0.422328</td>\n      <td>6</td>\n    </tr>\n    <tr>\n      <th>01/31/21;06:49:50</th>\n      <td>2</td>\n      <td>6</td>\n      <td>4.545158</td>\n      <td>1.603620</td>\n      <td>7</td>\n    </tr>\n    <tr>\n      <th>01/31/21;07:52:53</th>\n      <td>3</td>\n      <td>7</td>\n      <td>2.927713</td>\n      <td>0.704693</td>\n      <td>7</td>\n    </tr>\n  </tbody>\n</table>\n</div>"
     },
     "metadata": {},
     "execution_count": 52
    }
   ],
   "source": [
    "# Initialisation\n",
    "df_pred_errors = resultats[stations_tests[0]][10]\n",
    "\n",
    "for i in stations_tests[1:]:\n",
    "    df_pred_errors = pd.concat([df_pred_errors, resultats[i][10]])\n",
    "\n",
    "df_pred_errors.head(5)"
   ]
  },
  {
   "cell_type": "code",
   "execution_count": 53,
   "metadata": {},
   "outputs": [
    {
     "output_type": "execute_result",
     "data": {
      "text/plain": [
       "           y  erreur_pred_lr  erreur_pred_rf  erreur_pred_naif\n",
       "heure                                                         \n",
       "0.0    19.67            9.77            7.12              6.34\n",
       "1.0    19.84           10.09            7.32              6.65\n",
       "2.0    19.52            9.93            7.02              6.56\n",
       "3.0    19.33            9.08            6.51              6.39\n",
       "4.0    19.26            9.32            6.55              6.31\n",
       "5.0    19.20            9.34            6.65              6.29\n",
       "6.0    16.94            9.45            6.23              6.26\n",
       "7.0    16.88           10.04            6.71              6.91\n",
       "8.0    15.48           10.35            6.90              6.82\n",
       "9.0    14.92            9.45            6.97              6.69\n",
       "10.0   14.35            9.72            6.96              6.43\n",
       "11.0   13.64            9.35            6.65              6.28\n",
       "12.0   14.56            8.46            6.23              5.92\n",
       "13.0   15.22            8.38            6.08              5.66\n",
       "14.0   15.65            8.37            6.20              5.86\n",
       "15.0   15.45            8.01            5.76              5.72\n",
       "16.0   16.07            8.47            5.91              5.78\n",
       "17.0   17.18            8.64            6.55              6.46\n",
       "18.0   17.63            8.59            6.67              6.38\n",
       "19.0   18.67            9.59            6.98              6.68\n",
       "20.0   19.18            8.94            7.12              6.10\n",
       "21.0   19.54            9.60            7.36              5.83\n",
       "22.0   19.44            9.55            6.81              6.17\n",
       "23.0   19.81            9.72            6.96              6.26"
      ],
      "text/html": "<div>\n<style scoped>\n    .dataframe tbody tr th:only-of-type {\n        vertical-align: middle;\n    }\n\n    .dataframe tbody tr th {\n        vertical-align: top;\n    }\n\n    .dataframe thead th {\n        text-align: right;\n    }\n</style>\n<table border=\"1\" class=\"dataframe\">\n  <thead>\n    <tr style=\"text-align: right;\">\n      <th></th>\n      <th>y</th>\n      <th>erreur_pred_lr</th>\n      <th>erreur_pred_rf</th>\n      <th>erreur_pred_naif</th>\n    </tr>\n    <tr>\n      <th>heure</th>\n      <th></th>\n      <th></th>\n      <th></th>\n      <th></th>\n    </tr>\n  </thead>\n  <tbody>\n    <tr>\n      <th>0.0</th>\n      <td>19.67</td>\n      <td>9.77</td>\n      <td>7.12</td>\n      <td>6.34</td>\n    </tr>\n    <tr>\n      <th>1.0</th>\n      <td>19.84</td>\n      <td>10.09</td>\n      <td>7.32</td>\n      <td>6.65</td>\n    </tr>\n    <tr>\n      <th>2.0</th>\n      <td>19.52</td>\n      <td>9.93</td>\n      <td>7.02</td>\n      <td>6.56</td>\n    </tr>\n    <tr>\n      <th>3.0</th>\n      <td>19.33</td>\n      <td>9.08</td>\n      <td>6.51</td>\n      <td>6.39</td>\n    </tr>\n    <tr>\n      <th>4.0</th>\n      <td>19.26</td>\n      <td>9.32</td>\n      <td>6.55</td>\n      <td>6.31</td>\n    </tr>\n    <tr>\n      <th>5.0</th>\n      <td>19.20</td>\n      <td>9.34</td>\n      <td>6.65</td>\n      <td>6.29</td>\n    </tr>\n    <tr>\n      <th>6.0</th>\n      <td>16.94</td>\n      <td>9.45</td>\n      <td>6.23</td>\n      <td>6.26</td>\n    </tr>\n    <tr>\n      <th>7.0</th>\n      <td>16.88</td>\n      <td>10.04</td>\n      <td>6.71</td>\n      <td>6.91</td>\n    </tr>\n    <tr>\n      <th>8.0</th>\n      <td>15.48</td>\n      <td>10.35</td>\n      <td>6.90</td>\n      <td>6.82</td>\n    </tr>\n    <tr>\n      <th>9.0</th>\n      <td>14.92</td>\n      <td>9.45</td>\n      <td>6.97</td>\n      <td>6.69</td>\n    </tr>\n    <tr>\n      <th>10.0</th>\n      <td>14.35</td>\n      <td>9.72</td>\n      <td>6.96</td>\n      <td>6.43</td>\n    </tr>\n    <tr>\n      <th>11.0</th>\n      <td>13.64</td>\n      <td>9.35</td>\n      <td>6.65</td>\n      <td>6.28</td>\n    </tr>\n    <tr>\n      <th>12.0</th>\n      <td>14.56</td>\n      <td>8.46</td>\n      <td>6.23</td>\n      <td>5.92</td>\n    </tr>\n    <tr>\n      <th>13.0</th>\n      <td>15.22</td>\n      <td>8.38</td>\n      <td>6.08</td>\n      <td>5.66</td>\n    </tr>\n    <tr>\n      <th>14.0</th>\n      <td>15.65</td>\n      <td>8.37</td>\n      <td>6.20</td>\n      <td>5.86</td>\n    </tr>\n    <tr>\n      <th>15.0</th>\n      <td>15.45</td>\n      <td>8.01</td>\n      <td>5.76</td>\n      <td>5.72</td>\n    </tr>\n    <tr>\n      <th>16.0</th>\n      <td>16.07</td>\n      <td>8.47</td>\n      <td>5.91</td>\n      <td>5.78</td>\n    </tr>\n    <tr>\n      <th>17.0</th>\n      <td>17.18</td>\n      <td>8.64</td>\n      <td>6.55</td>\n      <td>6.46</td>\n    </tr>\n    <tr>\n      <th>18.0</th>\n      <td>17.63</td>\n      <td>8.59</td>\n      <td>6.67</td>\n      <td>6.38</td>\n    </tr>\n    <tr>\n      <th>19.0</th>\n      <td>18.67</td>\n      <td>9.59</td>\n      <td>6.98</td>\n      <td>6.68</td>\n    </tr>\n    <tr>\n      <th>20.0</th>\n      <td>19.18</td>\n      <td>8.94</td>\n      <td>7.12</td>\n      <td>6.10</td>\n    </tr>\n    <tr>\n      <th>21.0</th>\n      <td>19.54</td>\n      <td>9.60</td>\n      <td>7.36</td>\n      <td>5.83</td>\n    </tr>\n    <tr>\n      <th>22.0</th>\n      <td>19.44</td>\n      <td>9.55</td>\n      <td>6.81</td>\n      <td>6.17</td>\n    </tr>\n    <tr>\n      <th>23.0</th>\n      <td>19.81</td>\n      <td>9.72</td>\n      <td>6.96</td>\n      <td>6.26</td>\n    </tr>\n  </tbody>\n</table>\n</div>"
     },
     "metadata": {},
     "execution_count": 53
    }
   ],
   "source": [
    "mean_erreur_par_heure = round(df_pred_errors.groupby('heure').mean(),2)\n",
    "mean_erreur_par_heure"
   ]
  },
  {
   "cell_type": "code",
   "execution_count": 54,
   "metadata": {},
   "outputs": [
    {
     "output_type": "display_data",
     "data": {
      "application/vnd.plotly.v1+json": {
       "config": {
        "plotlyServerURL": "https://plot.ly"
       },
       "data": [
        {
         "name": "Erreur moyenne avec Régression Linéaire",
         "type": "scatter",
         "x": [
          0,
          1,
          2,
          3,
          4,
          5,
          6,
          7,
          8,
          9,
          10,
          11,
          12,
          13,
          14,
          15,
          16,
          17,
          18,
          19,
          20,
          21,
          22,
          23
         ],
         "y": [
          9.77,
          10.09,
          9.93,
          9.08,
          9.32,
          9.34,
          9.45,
          10.04,
          10.35,
          9.45,
          9.72,
          9.35,
          8.46,
          8.38,
          8.37,
          8.01,
          8.47,
          8.64,
          8.59,
          9.59,
          8.94,
          9.6,
          9.55,
          9.72
         ]
        },
        {
         "name": "Erreur moyenne avec Forêt aléatoire",
         "type": "scatter",
         "x": [
          0,
          1,
          2,
          3,
          4,
          5,
          6,
          7,
          8,
          9,
          10,
          11,
          12,
          13,
          14,
          15,
          16,
          17,
          18,
          19,
          20,
          21,
          22,
          23
         ],
         "y": [
          7.12,
          7.32,
          7.02,
          6.51,
          6.55,
          6.65,
          6.23,
          6.71,
          6.9,
          6.97,
          6.96,
          6.65,
          6.23,
          6.08,
          6.2,
          5.76,
          5.91,
          6.55,
          6.67,
          6.98,
          7.12,
          7.36,
          6.81,
          6.96
         ]
        },
        {
         "name": "Erreur moyenne avec la méthode naïve",
         "type": "scatter",
         "x": [
          0,
          1,
          2,
          3,
          4,
          5,
          6,
          7,
          8,
          9,
          10,
          11,
          12,
          13,
          14,
          15,
          16,
          17,
          18,
          19,
          20,
          21,
          22,
          23
         ],
         "y": [
          6.34,
          6.65,
          6.56,
          6.39,
          6.31,
          6.29,
          6.26,
          6.91,
          6.82,
          6.69,
          6.43,
          6.28,
          5.92,
          5.66,
          5.86,
          5.72,
          5.78,
          6.46,
          6.38,
          6.68,
          6.1,
          5.83,
          6.17,
          6.26
         ]
        }
       ],
       "layout": {
        "autosize": false,
        "height": 500,
        "legend": {
         "title": {
          "text": ""
         }
        },
        "template": {
         "data": {
          "bar": [
           {
            "error_x": {
             "color": "#2a3f5f"
            },
            "error_y": {
             "color": "#2a3f5f"
            },
            "marker": {
             "line": {
              "color": "#E5ECF6",
              "width": 0.5
             }
            },
            "type": "bar"
           }
          ],
          "barpolar": [
           {
            "marker": {
             "line": {
              "color": "#E5ECF6",
              "width": 0.5
             }
            },
            "type": "barpolar"
           }
          ],
          "carpet": [
           {
            "aaxis": {
             "endlinecolor": "#2a3f5f",
             "gridcolor": "white",
             "linecolor": "white",
             "minorgridcolor": "white",
             "startlinecolor": "#2a3f5f"
            },
            "baxis": {
             "endlinecolor": "#2a3f5f",
             "gridcolor": "white",
             "linecolor": "white",
             "minorgridcolor": "white",
             "startlinecolor": "#2a3f5f"
            },
            "type": "carpet"
           }
          ],
          "choropleth": [
           {
            "colorbar": {
             "outlinewidth": 0,
             "ticks": ""
            },
            "type": "choropleth"
           }
          ],
          "contour": [
           {
            "colorbar": {
             "outlinewidth": 0,
             "ticks": ""
            },
            "colorscale": [
             [
              0,
              "#0d0887"
             ],
             [
              0.1111111111111111,
              "#46039f"
             ],
             [
              0.2222222222222222,
              "#7201a8"
             ],
             [
              0.3333333333333333,
              "#9c179e"
             ],
             [
              0.4444444444444444,
              "#bd3786"
             ],
             [
              0.5555555555555556,
              "#d8576b"
             ],
             [
              0.6666666666666666,
              "#ed7953"
             ],
             [
              0.7777777777777778,
              "#fb9f3a"
             ],
             [
              0.8888888888888888,
              "#fdca26"
             ],
             [
              1,
              "#f0f921"
             ]
            ],
            "type": "contour"
           }
          ],
          "contourcarpet": [
           {
            "colorbar": {
             "outlinewidth": 0,
             "ticks": ""
            },
            "type": "contourcarpet"
           }
          ],
          "heatmap": [
           {
            "colorbar": {
             "outlinewidth": 0,
             "ticks": ""
            },
            "colorscale": [
             [
              0,
              "#0d0887"
             ],
             [
              0.1111111111111111,
              "#46039f"
             ],
             [
              0.2222222222222222,
              "#7201a8"
             ],
             [
              0.3333333333333333,
              "#9c179e"
             ],
             [
              0.4444444444444444,
              "#bd3786"
             ],
             [
              0.5555555555555556,
              "#d8576b"
             ],
             [
              0.6666666666666666,
              "#ed7953"
             ],
             [
              0.7777777777777778,
              "#fb9f3a"
             ],
             [
              0.8888888888888888,
              "#fdca26"
             ],
             [
              1,
              "#f0f921"
             ]
            ],
            "type": "heatmap"
           }
          ],
          "heatmapgl": [
           {
            "colorbar": {
             "outlinewidth": 0,
             "ticks": ""
            },
            "colorscale": [
             [
              0,
              "#0d0887"
             ],
             [
              0.1111111111111111,
              "#46039f"
             ],
             [
              0.2222222222222222,
              "#7201a8"
             ],
             [
              0.3333333333333333,
              "#9c179e"
             ],
             [
              0.4444444444444444,
              "#bd3786"
             ],
             [
              0.5555555555555556,
              "#d8576b"
             ],
             [
              0.6666666666666666,
              "#ed7953"
             ],
             [
              0.7777777777777778,
              "#fb9f3a"
             ],
             [
              0.8888888888888888,
              "#fdca26"
             ],
             [
              1,
              "#f0f921"
             ]
            ],
            "type": "heatmapgl"
           }
          ],
          "histogram": [
           {
            "marker": {
             "colorbar": {
              "outlinewidth": 0,
              "ticks": ""
             }
            },
            "type": "histogram"
           }
          ],
          "histogram2d": [
           {
            "colorbar": {
             "outlinewidth": 0,
             "ticks": ""
            },
            "colorscale": [
             [
              0,
              "#0d0887"
             ],
             [
              0.1111111111111111,
              "#46039f"
             ],
             [
              0.2222222222222222,
              "#7201a8"
             ],
             [
              0.3333333333333333,
              "#9c179e"
             ],
             [
              0.4444444444444444,
              "#bd3786"
             ],
             [
              0.5555555555555556,
              "#d8576b"
             ],
             [
              0.6666666666666666,
              "#ed7953"
             ],
             [
              0.7777777777777778,
              "#fb9f3a"
             ],
             [
              0.8888888888888888,
              "#fdca26"
             ],
             [
              1,
              "#f0f921"
             ]
            ],
            "type": "histogram2d"
           }
          ],
          "histogram2dcontour": [
           {
            "colorbar": {
             "outlinewidth": 0,
             "ticks": ""
            },
            "colorscale": [
             [
              0,
              "#0d0887"
             ],
             [
              0.1111111111111111,
              "#46039f"
             ],
             [
              0.2222222222222222,
              "#7201a8"
             ],
             [
              0.3333333333333333,
              "#9c179e"
             ],
             [
              0.4444444444444444,
              "#bd3786"
             ],
             [
              0.5555555555555556,
              "#d8576b"
             ],
             [
              0.6666666666666666,
              "#ed7953"
             ],
             [
              0.7777777777777778,
              "#fb9f3a"
             ],
             [
              0.8888888888888888,
              "#fdca26"
             ],
             [
              1,
              "#f0f921"
             ]
            ],
            "type": "histogram2dcontour"
           }
          ],
          "mesh3d": [
           {
            "colorbar": {
             "outlinewidth": 0,
             "ticks": ""
            },
            "type": "mesh3d"
           }
          ],
          "parcoords": [
           {
            "line": {
             "colorbar": {
              "outlinewidth": 0,
              "ticks": ""
             }
            },
            "type": "parcoords"
           }
          ],
          "pie": [
           {
            "automargin": true,
            "type": "pie"
           }
          ],
          "scatter": [
           {
            "marker": {
             "colorbar": {
              "outlinewidth": 0,
              "ticks": ""
             }
            },
            "type": "scatter"
           }
          ],
          "scatter3d": [
           {
            "line": {
             "colorbar": {
              "outlinewidth": 0,
              "ticks": ""
             }
            },
            "marker": {
             "colorbar": {
              "outlinewidth": 0,
              "ticks": ""
             }
            },
            "type": "scatter3d"
           }
          ],
          "scattercarpet": [
           {
            "marker": {
             "colorbar": {
              "outlinewidth": 0,
              "ticks": ""
             }
            },
            "type": "scattercarpet"
           }
          ],
          "scattergeo": [
           {
            "marker": {
             "colorbar": {
              "outlinewidth": 0,
              "ticks": ""
             }
            },
            "type": "scattergeo"
           }
          ],
          "scattergl": [
           {
            "marker": {
             "colorbar": {
              "outlinewidth": 0,
              "ticks": ""
             }
            },
            "type": "scattergl"
           }
          ],
          "scattermapbox": [
           {
            "marker": {
             "colorbar": {
              "outlinewidth": 0,
              "ticks": ""
             }
            },
            "type": "scattermapbox"
           }
          ],
          "scatterpolar": [
           {
            "marker": {
             "colorbar": {
              "outlinewidth": 0,
              "ticks": ""
             }
            },
            "type": "scatterpolar"
           }
          ],
          "scatterpolargl": [
           {
            "marker": {
             "colorbar": {
              "outlinewidth": 0,
              "ticks": ""
             }
            },
            "type": "scatterpolargl"
           }
          ],
          "scatterternary": [
           {
            "marker": {
             "colorbar": {
              "outlinewidth": 0,
              "ticks": ""
             }
            },
            "type": "scatterternary"
           }
          ],
          "surface": [
           {
            "colorbar": {
             "outlinewidth": 0,
             "ticks": ""
            },
            "colorscale": [
             [
              0,
              "#0d0887"
             ],
             [
              0.1111111111111111,
              "#46039f"
             ],
             [
              0.2222222222222222,
              "#7201a8"
             ],
             [
              0.3333333333333333,
              "#9c179e"
             ],
             [
              0.4444444444444444,
              "#bd3786"
             ],
             [
              0.5555555555555556,
              "#d8576b"
             ],
             [
              0.6666666666666666,
              "#ed7953"
             ],
             [
              0.7777777777777778,
              "#fb9f3a"
             ],
             [
              0.8888888888888888,
              "#fdca26"
             ],
             [
              1,
              "#f0f921"
             ]
            ],
            "type": "surface"
           }
          ],
          "table": [
           {
            "cells": {
             "fill": {
              "color": "#EBF0F8"
             },
             "line": {
              "color": "white"
             }
            },
            "header": {
             "fill": {
              "color": "#C8D4E3"
             },
             "line": {
              "color": "white"
             }
            },
            "type": "table"
           }
          ]
         },
         "layout": {
          "annotationdefaults": {
           "arrowcolor": "#2a3f5f",
           "arrowhead": 0,
           "arrowwidth": 1
          },
          "autotypenumbers": "strict",
          "coloraxis": {
           "colorbar": {
            "outlinewidth": 0,
            "ticks": ""
           }
          },
          "colorscale": {
           "diverging": [
            [
             0,
             "#8e0152"
            ],
            [
             0.1,
             "#c51b7d"
            ],
            [
             0.2,
             "#de77ae"
            ],
            [
             0.3,
             "#f1b6da"
            ],
            [
             0.4,
             "#fde0ef"
            ],
            [
             0.5,
             "#f7f7f7"
            ],
            [
             0.6,
             "#e6f5d0"
            ],
            [
             0.7,
             "#b8e186"
            ],
            [
             0.8,
             "#7fbc41"
            ],
            [
             0.9,
             "#4d9221"
            ],
            [
             1,
             "#276419"
            ]
           ],
           "sequential": [
            [
             0,
             "#0d0887"
            ],
            [
             0.1111111111111111,
             "#46039f"
            ],
            [
             0.2222222222222222,
             "#7201a8"
            ],
            [
             0.3333333333333333,
             "#9c179e"
            ],
            [
             0.4444444444444444,
             "#bd3786"
            ],
            [
             0.5555555555555556,
             "#d8576b"
            ],
            [
             0.6666666666666666,
             "#ed7953"
            ],
            [
             0.7777777777777778,
             "#fb9f3a"
            ],
            [
             0.8888888888888888,
             "#fdca26"
            ],
            [
             1,
             "#f0f921"
            ]
           ],
           "sequentialminus": [
            [
             0,
             "#0d0887"
            ],
            [
             0.1111111111111111,
             "#46039f"
            ],
            [
             0.2222222222222222,
             "#7201a8"
            ],
            [
             0.3333333333333333,
             "#9c179e"
            ],
            [
             0.4444444444444444,
             "#bd3786"
            ],
            [
             0.5555555555555556,
             "#d8576b"
            ],
            [
             0.6666666666666666,
             "#ed7953"
            ],
            [
             0.7777777777777778,
             "#fb9f3a"
            ],
            [
             0.8888888888888888,
             "#fdca26"
            ],
            [
             1,
             "#f0f921"
            ]
           ]
          },
          "colorway": [
           "#636efa",
           "#EF553B",
           "#00cc96",
           "#ab63fa",
           "#FFA15A",
           "#19d3f3",
           "#FF6692",
           "#B6E880",
           "#FF97FF",
           "#FECB52"
          ],
          "font": {
           "color": "#2a3f5f"
          },
          "geo": {
           "bgcolor": "white",
           "lakecolor": "white",
           "landcolor": "#E5ECF6",
           "showlakes": true,
           "showland": true,
           "subunitcolor": "white"
          },
          "hoverlabel": {
           "align": "left"
          },
          "hovermode": "closest",
          "mapbox": {
           "style": "light"
          },
          "paper_bgcolor": "white",
          "plot_bgcolor": "#E5ECF6",
          "polar": {
           "angularaxis": {
            "gridcolor": "white",
            "linecolor": "white",
            "ticks": ""
           },
           "bgcolor": "#E5ECF6",
           "radialaxis": {
            "gridcolor": "white",
            "linecolor": "white",
            "ticks": ""
           }
          },
          "scene": {
           "xaxis": {
            "backgroundcolor": "#E5ECF6",
            "gridcolor": "white",
            "gridwidth": 2,
            "linecolor": "white",
            "showbackground": true,
            "ticks": "",
            "zerolinecolor": "white"
           },
           "yaxis": {
            "backgroundcolor": "#E5ECF6",
            "gridcolor": "white",
            "gridwidth": 2,
            "linecolor": "white",
            "showbackground": true,
            "ticks": "",
            "zerolinecolor": "white"
           },
           "zaxis": {
            "backgroundcolor": "#E5ECF6",
            "gridcolor": "white",
            "gridwidth": 2,
            "linecolor": "white",
            "showbackground": true,
            "ticks": "",
            "zerolinecolor": "white"
           }
          },
          "shapedefaults": {
           "line": {
            "color": "#2a3f5f"
           }
          },
          "ternary": {
           "aaxis": {
            "gridcolor": "white",
            "linecolor": "white",
            "ticks": ""
           },
           "baxis": {
            "gridcolor": "white",
            "linecolor": "white",
            "ticks": ""
           },
           "bgcolor": "#E5ECF6",
           "caxis": {
            "gridcolor": "white",
            "linecolor": "white",
            "ticks": ""
           }
          },
          "title": {
           "x": 0.05
          },
          "xaxis": {
           "automargin": true,
           "gridcolor": "white",
           "linecolor": "white",
           "ticks": "",
           "title": {
            "standoff": 15
           },
           "zerolinecolor": "white",
           "zerolinewidth": 2
          },
          "yaxis": {
           "automargin": true,
           "gridcolor": "white",
           "linecolor": "white",
           "ticks": "",
           "title": {
            "standoff": 15
           },
           "zerolinecolor": "white",
           "zerolinewidth": 2
          }
         }
        },
        "title": {
         "text": "Moyenne des erreurs de prédiction par heure sur 10 stations"
        },
        "width": 1000,
        "xaxis": {
         "title": {
          "text": "Heure"
         }
        },
        "yaxis": {
         "title": {
          "text": "Erreur moyenne"
         }
        }
       }
      }
     },
     "metadata": {}
    }
   ],
   "source": [
    "fig = go.Figure()\n",
    "\n",
    "fig.add_trace(go.Scatter(\n",
    "    x=mean_erreur_par_heure.index,\n",
    "    y=mean_erreur_par_heure['erreur_pred_lr'],\n",
    "    name=\"Erreur moyenne avec Régression Linéaire\"      \n",
    "))\n",
    "\n",
    "\n",
    "fig.add_trace(go.Scatter(\n",
    "    x=mean_erreur_par_heure.index,\n",
    "    y=mean_erreur_par_heure['erreur_pred_rf'],\n",
    "    name=\"Erreur moyenne avec Forêt aléatoire\"     \n",
    "))\n",
    "\n",
    "fig.add_trace(go.Scatter(\n",
    "    x=mean_erreur_par_heure.index,\n",
    "    y=mean_erreur_par_heure['erreur_pred_naif'],\n",
    "    name=\"Erreur moyenne avec la méthode naïve\"     \n",
    "))\n",
    "\n",
    "\n",
    "fig.update_layout(\n",
    "    title=\"Moyenne des erreurs de prédiction par heure sur 10 stations\",\n",
    "    xaxis_title=\"Heure\",\n",
    "    yaxis_title=\"Erreur moyenne\",\n",
    "    legend_title=\"\",\n",
    "    autosize=False,\n",
    "    width=1000,\n",
    "    height=500\n",
    ")\n",
    "\n",
    "fig.show()"
   ]
  },
  {
   "cell_type": "code",
   "execution_count": 264,
   "metadata": {},
   "outputs": [
    {
     "output_type": "display_data",
     "data": {
      "application/vnd.plotly.v1+json": {
       "config": {
        "plotlyServerURL": "https://plot.ly"
       },
       "data": [
        {
         "name": "Erreur moyenne avec Régression Linéaire",
         "type": "scatter",
         "x": [
          0,
          1,
          2,
          3,
          4,
          5,
          6,
          7,
          8,
          9,
          10,
          11,
          12,
          13,
          14,
          15,
          16,
          17,
          18,
          19,
          20,
          21,
          22,
          23
         ],
         "y": [
          9.77,
          10.09,
          9.93,
          9.08,
          9.32,
          9.34,
          9.45,
          10.04,
          10.35,
          9.45,
          9.72,
          9.35,
          8.46,
          8.38,
          8.37,
          8.01,
          8.47,
          8.64,
          8.59,
          9.59,
          8.94,
          9.6,
          9.55,
          9.72
         ]
        },
        {
         "name": "Erreur moyenne avec Forêt aléatoire",
         "type": "scatter",
         "x": [
          0,
          1,
          2,
          3,
          4,
          5,
          6,
          7,
          8,
          9,
          10,
          11,
          12,
          13,
          14,
          15,
          16,
          17,
          18,
          19,
          20,
          21,
          22,
          23
         ],
         "y": [
          7.12,
          7.32,
          7.02,
          6.51,
          6.55,
          6.65,
          6.23,
          6.71,
          6.9,
          6.97,
          6.96,
          6.65,
          6.23,
          6.08,
          6.2,
          5.76,
          5.91,
          6.55,
          6.67,
          6.98,
          7.12,
          7.36,
          6.81,
          6.96
         ]
        },
        {
         "name": "Erreur moyenne avec la méthode naïve",
         "type": "scatter",
         "x": [
          0,
          1,
          2,
          3,
          4,
          5,
          6,
          7,
          8,
          9,
          10,
          11,
          12,
          13,
          14,
          15,
          16,
          17,
          18,
          19,
          20,
          21,
          22,
          23
         ],
         "y": [
          6.34,
          6.65,
          6.56,
          6.39,
          6.31,
          6.29,
          6.26,
          6.91,
          6.82,
          6.69,
          6.43,
          6.28,
          5.92,
          5.66,
          5.86,
          5.72,
          5.78,
          6.46,
          6.38,
          6.68,
          6.1,
          5.83,
          6.17,
          6.26
         ]
        },
        {
         "mode": "text",
         "showlegend": false,
         "text": [
          "Nuit",
          "19h-5h59",
          "Journée",
          "6h-18h59"
         ],
         "type": "scatter",
         "x": [
          4,
          4,
          12.5,
          12.5
         ],
         "y": [
          11,
          10.5,
          11,
          10.5
         ]
        }
       ],
       "layout": {
        "autosize": false,
        "height": 500,
        "legend": {
         "title": {
          "text": ""
         }
        },
        "shapes": [
         {
          "line": {
           "color": "black",
           "dash": "dot",
           "width": 2
          },
          "type": "line",
          "x0": 6,
          "x1": 6,
          "y0": 0,
          "y1": 12.5
         },
         {
          "line": {
           "color": "black",
           "dash": "dot",
           "width": 2
          },
          "type": "line",
          "x0": 19,
          "x1": 19,
          "y0": 0,
          "y1": 12.5
         }
        ],
        "template": {
         "data": {
          "bar": [
           {
            "error_x": {
             "color": "#2a3f5f"
            },
            "error_y": {
             "color": "#2a3f5f"
            },
            "marker": {
             "line": {
              "color": "#E5ECF6",
              "width": 0.5
             }
            },
            "type": "bar"
           }
          ],
          "barpolar": [
           {
            "marker": {
             "line": {
              "color": "#E5ECF6",
              "width": 0.5
             }
            },
            "type": "barpolar"
           }
          ],
          "carpet": [
           {
            "aaxis": {
             "endlinecolor": "#2a3f5f",
             "gridcolor": "white",
             "linecolor": "white",
             "minorgridcolor": "white",
             "startlinecolor": "#2a3f5f"
            },
            "baxis": {
             "endlinecolor": "#2a3f5f",
             "gridcolor": "white",
             "linecolor": "white",
             "minorgridcolor": "white",
             "startlinecolor": "#2a3f5f"
            },
            "type": "carpet"
           }
          ],
          "choropleth": [
           {
            "colorbar": {
             "outlinewidth": 0,
             "ticks": ""
            },
            "type": "choropleth"
           }
          ],
          "contour": [
           {
            "colorbar": {
             "outlinewidth": 0,
             "ticks": ""
            },
            "colorscale": [
             [
              0,
              "#0d0887"
             ],
             [
              0.1111111111111111,
              "#46039f"
             ],
             [
              0.2222222222222222,
              "#7201a8"
             ],
             [
              0.3333333333333333,
              "#9c179e"
             ],
             [
              0.4444444444444444,
              "#bd3786"
             ],
             [
              0.5555555555555556,
              "#d8576b"
             ],
             [
              0.6666666666666666,
              "#ed7953"
             ],
             [
              0.7777777777777778,
              "#fb9f3a"
             ],
             [
              0.8888888888888888,
              "#fdca26"
             ],
             [
              1,
              "#f0f921"
             ]
            ],
            "type": "contour"
           }
          ],
          "contourcarpet": [
           {
            "colorbar": {
             "outlinewidth": 0,
             "ticks": ""
            },
            "type": "contourcarpet"
           }
          ],
          "heatmap": [
           {
            "colorbar": {
             "outlinewidth": 0,
             "ticks": ""
            },
            "colorscale": [
             [
              0,
              "#0d0887"
             ],
             [
              0.1111111111111111,
              "#46039f"
             ],
             [
              0.2222222222222222,
              "#7201a8"
             ],
             [
              0.3333333333333333,
              "#9c179e"
             ],
             [
              0.4444444444444444,
              "#bd3786"
             ],
             [
              0.5555555555555556,
              "#d8576b"
             ],
             [
              0.6666666666666666,
              "#ed7953"
             ],
             [
              0.7777777777777778,
              "#fb9f3a"
             ],
             [
              0.8888888888888888,
              "#fdca26"
             ],
             [
              1,
              "#f0f921"
             ]
            ],
            "type": "heatmap"
           }
          ],
          "heatmapgl": [
           {
            "colorbar": {
             "outlinewidth": 0,
             "ticks": ""
            },
            "colorscale": [
             [
              0,
              "#0d0887"
             ],
             [
              0.1111111111111111,
              "#46039f"
             ],
             [
              0.2222222222222222,
              "#7201a8"
             ],
             [
              0.3333333333333333,
              "#9c179e"
             ],
             [
              0.4444444444444444,
              "#bd3786"
             ],
             [
              0.5555555555555556,
              "#d8576b"
             ],
             [
              0.6666666666666666,
              "#ed7953"
             ],
             [
              0.7777777777777778,
              "#fb9f3a"
             ],
             [
              0.8888888888888888,
              "#fdca26"
             ],
             [
              1,
              "#f0f921"
             ]
            ],
            "type": "heatmapgl"
           }
          ],
          "histogram": [
           {
            "marker": {
             "colorbar": {
              "outlinewidth": 0,
              "ticks": ""
             }
            },
            "type": "histogram"
           }
          ],
          "histogram2d": [
           {
            "colorbar": {
             "outlinewidth": 0,
             "ticks": ""
            },
            "colorscale": [
             [
              0,
              "#0d0887"
             ],
             [
              0.1111111111111111,
              "#46039f"
             ],
             [
              0.2222222222222222,
              "#7201a8"
             ],
             [
              0.3333333333333333,
              "#9c179e"
             ],
             [
              0.4444444444444444,
              "#bd3786"
             ],
             [
              0.5555555555555556,
              "#d8576b"
             ],
             [
              0.6666666666666666,
              "#ed7953"
             ],
             [
              0.7777777777777778,
              "#fb9f3a"
             ],
             [
              0.8888888888888888,
              "#fdca26"
             ],
             [
              1,
              "#f0f921"
             ]
            ],
            "type": "histogram2d"
           }
          ],
          "histogram2dcontour": [
           {
            "colorbar": {
             "outlinewidth": 0,
             "ticks": ""
            },
            "colorscale": [
             [
              0,
              "#0d0887"
             ],
             [
              0.1111111111111111,
              "#46039f"
             ],
             [
              0.2222222222222222,
              "#7201a8"
             ],
             [
              0.3333333333333333,
              "#9c179e"
             ],
             [
              0.4444444444444444,
              "#bd3786"
             ],
             [
              0.5555555555555556,
              "#d8576b"
             ],
             [
              0.6666666666666666,
              "#ed7953"
             ],
             [
              0.7777777777777778,
              "#fb9f3a"
             ],
             [
              0.8888888888888888,
              "#fdca26"
             ],
             [
              1,
              "#f0f921"
             ]
            ],
            "type": "histogram2dcontour"
           }
          ],
          "mesh3d": [
           {
            "colorbar": {
             "outlinewidth": 0,
             "ticks": ""
            },
            "type": "mesh3d"
           }
          ],
          "parcoords": [
           {
            "line": {
             "colorbar": {
              "outlinewidth": 0,
              "ticks": ""
             }
            },
            "type": "parcoords"
           }
          ],
          "pie": [
           {
            "automargin": true,
            "type": "pie"
           }
          ],
          "scatter": [
           {
            "marker": {
             "colorbar": {
              "outlinewidth": 0,
              "ticks": ""
             }
            },
            "type": "scatter"
           }
          ],
          "scatter3d": [
           {
            "line": {
             "colorbar": {
              "outlinewidth": 0,
              "ticks": ""
             }
            },
            "marker": {
             "colorbar": {
              "outlinewidth": 0,
              "ticks": ""
             }
            },
            "type": "scatter3d"
           }
          ],
          "scattercarpet": [
           {
            "marker": {
             "colorbar": {
              "outlinewidth": 0,
              "ticks": ""
             }
            },
            "type": "scattercarpet"
           }
          ],
          "scattergeo": [
           {
            "marker": {
             "colorbar": {
              "outlinewidth": 0,
              "ticks": ""
             }
            },
            "type": "scattergeo"
           }
          ],
          "scattergl": [
           {
            "marker": {
             "colorbar": {
              "outlinewidth": 0,
              "ticks": ""
             }
            },
            "type": "scattergl"
           }
          ],
          "scattermapbox": [
           {
            "marker": {
             "colorbar": {
              "outlinewidth": 0,
              "ticks": ""
             }
            },
            "type": "scattermapbox"
           }
          ],
          "scatterpolar": [
           {
            "marker": {
             "colorbar": {
              "outlinewidth": 0,
              "ticks": ""
             }
            },
            "type": "scatterpolar"
           }
          ],
          "scatterpolargl": [
           {
            "marker": {
             "colorbar": {
              "outlinewidth": 0,
              "ticks": ""
             }
            },
            "type": "scatterpolargl"
           }
          ],
          "scatterternary": [
           {
            "marker": {
             "colorbar": {
              "outlinewidth": 0,
              "ticks": ""
             }
            },
            "type": "scatterternary"
           }
          ],
          "surface": [
           {
            "colorbar": {
             "outlinewidth": 0,
             "ticks": ""
            },
            "colorscale": [
             [
              0,
              "#0d0887"
             ],
             [
              0.1111111111111111,
              "#46039f"
             ],
             [
              0.2222222222222222,
              "#7201a8"
             ],
             [
              0.3333333333333333,
              "#9c179e"
             ],
             [
              0.4444444444444444,
              "#bd3786"
             ],
             [
              0.5555555555555556,
              "#d8576b"
             ],
             [
              0.6666666666666666,
              "#ed7953"
             ],
             [
              0.7777777777777778,
              "#fb9f3a"
             ],
             [
              0.8888888888888888,
              "#fdca26"
             ],
             [
              1,
              "#f0f921"
             ]
            ],
            "type": "surface"
           }
          ],
          "table": [
           {
            "cells": {
             "fill": {
              "color": "#EBF0F8"
             },
             "line": {
              "color": "white"
             }
            },
            "header": {
             "fill": {
              "color": "#C8D4E3"
             },
             "line": {
              "color": "white"
             }
            },
            "type": "table"
           }
          ]
         },
         "layout": {
          "annotationdefaults": {
           "arrowcolor": "#2a3f5f",
           "arrowhead": 0,
           "arrowwidth": 1
          },
          "autotypenumbers": "strict",
          "coloraxis": {
           "colorbar": {
            "outlinewidth": 0,
            "ticks": ""
           }
          },
          "colorscale": {
           "diverging": [
            [
             0,
             "#8e0152"
            ],
            [
             0.1,
             "#c51b7d"
            ],
            [
             0.2,
             "#de77ae"
            ],
            [
             0.3,
             "#f1b6da"
            ],
            [
             0.4,
             "#fde0ef"
            ],
            [
             0.5,
             "#f7f7f7"
            ],
            [
             0.6,
             "#e6f5d0"
            ],
            [
             0.7,
             "#b8e186"
            ],
            [
             0.8,
             "#7fbc41"
            ],
            [
             0.9,
             "#4d9221"
            ],
            [
             1,
             "#276419"
            ]
           ],
           "sequential": [
            [
             0,
             "#0d0887"
            ],
            [
             0.1111111111111111,
             "#46039f"
            ],
            [
             0.2222222222222222,
             "#7201a8"
            ],
            [
             0.3333333333333333,
             "#9c179e"
            ],
            [
             0.4444444444444444,
             "#bd3786"
            ],
            [
             0.5555555555555556,
             "#d8576b"
            ],
            [
             0.6666666666666666,
             "#ed7953"
            ],
            [
             0.7777777777777778,
             "#fb9f3a"
            ],
            [
             0.8888888888888888,
             "#fdca26"
            ],
            [
             1,
             "#f0f921"
            ]
           ],
           "sequentialminus": [
            [
             0,
             "#0d0887"
            ],
            [
             0.1111111111111111,
             "#46039f"
            ],
            [
             0.2222222222222222,
             "#7201a8"
            ],
            [
             0.3333333333333333,
             "#9c179e"
            ],
            [
             0.4444444444444444,
             "#bd3786"
            ],
            [
             0.5555555555555556,
             "#d8576b"
            ],
            [
             0.6666666666666666,
             "#ed7953"
            ],
            [
             0.7777777777777778,
             "#fb9f3a"
            ],
            [
             0.8888888888888888,
             "#fdca26"
            ],
            [
             1,
             "#f0f921"
            ]
           ]
          },
          "colorway": [
           "#636efa",
           "#EF553B",
           "#00cc96",
           "#ab63fa",
           "#FFA15A",
           "#19d3f3",
           "#FF6692",
           "#B6E880",
           "#FF97FF",
           "#FECB52"
          ],
          "font": {
           "color": "#2a3f5f"
          },
          "geo": {
           "bgcolor": "white",
           "lakecolor": "white",
           "landcolor": "#E5ECF6",
           "showlakes": true,
           "showland": true,
           "subunitcolor": "white"
          },
          "hoverlabel": {
           "align": "left"
          },
          "hovermode": "closest",
          "mapbox": {
           "style": "light"
          },
          "paper_bgcolor": "white",
          "plot_bgcolor": "#E5ECF6",
          "polar": {
           "angularaxis": {
            "gridcolor": "white",
            "linecolor": "white",
            "ticks": ""
           },
           "bgcolor": "#E5ECF6",
           "radialaxis": {
            "gridcolor": "white",
            "linecolor": "white",
            "ticks": ""
           }
          },
          "scene": {
           "xaxis": {
            "backgroundcolor": "#E5ECF6",
            "gridcolor": "white",
            "gridwidth": 2,
            "linecolor": "white",
            "showbackground": true,
            "ticks": "",
            "zerolinecolor": "white"
           },
           "yaxis": {
            "backgroundcolor": "#E5ECF6",
            "gridcolor": "white",
            "gridwidth": 2,
            "linecolor": "white",
            "showbackground": true,
            "ticks": "",
            "zerolinecolor": "white"
           },
           "zaxis": {
            "backgroundcolor": "#E5ECF6",
            "gridcolor": "white",
            "gridwidth": 2,
            "linecolor": "white",
            "showbackground": true,
            "ticks": "",
            "zerolinecolor": "white"
           }
          },
          "shapedefaults": {
           "line": {
            "color": "#2a3f5f"
           }
          },
          "ternary": {
           "aaxis": {
            "gridcolor": "white",
            "linecolor": "white",
            "ticks": ""
           },
           "baxis": {
            "gridcolor": "white",
            "linecolor": "white",
            "ticks": ""
           },
           "bgcolor": "#E5ECF6",
           "caxis": {
            "gridcolor": "white",
            "linecolor": "white",
            "ticks": ""
           }
          },
          "title": {
           "x": 0.05
          },
          "xaxis": {
           "automargin": true,
           "gridcolor": "white",
           "linecolor": "white",
           "ticks": "",
           "title": {
            "standoff": 15
           },
           "zerolinecolor": "white",
           "zerolinewidth": 2
          },
          "yaxis": {
           "automargin": true,
           "gridcolor": "white",
           "linecolor": "white",
           "ticks": "",
           "title": {
            "standoff": 15
           },
           "zerolinecolor": "white",
           "zerolinewidth": 2
          }
         }
        },
        "title": {
         "text": "Erreurs de prédictions sur les 10 stations du 04/01/21 au 12/02/21"
        },
        "width": 1000,
        "xaxis": {
         "range": [
          0,
          23
         ],
         "title": {
          "text": "Heure"
         }
        },
        "yaxis": {
         "range": [
          5,
          12.5
         ],
         "title": {
          "text": "Erreur moyenne"
         }
        }
       }
      }
     },
     "metadata": {}
    }
   ],
   "source": [
    "fig = go.Figure()\n",
    "\n",
    "fig.add_trace(go.Scatter(\n",
    "    x=mean_erreur_par_heure.index,\n",
    "    y=mean_erreur_par_heure['erreur_pred_lr'],\n",
    "    name=\"Erreur moyenne avec Régression Linéaire\"      \n",
    "))\n",
    "\n",
    "\n",
    "fig.add_trace(go.Scatter(\n",
    "    x=mean_erreur_par_heure.index,\n",
    "    y=mean_erreur_par_heure['erreur_pred_rf'],\n",
    "    name=\"Erreur moyenne avec Forêt aléatoire\"     \n",
    "))\n",
    "\n",
    "fig.add_trace(go.Scatter(\n",
    "    x=mean_erreur_par_heure.index,\n",
    "    y=mean_erreur_par_heure['erreur_pred_naif'],\n",
    "    name=\"Erreur moyenne avec la méthode naïve\"     \n",
    "))\n",
    "\n",
    "\n",
    "# Create scatter trace of text labels\n",
    "fig.add_trace(go.Scatter(\n",
    "    x=[4,4, 12.5,12.5],\n",
    "    y=[11,10.5, 11, 10.5],\n",
    "    text=[\"Nuit\", \"19h-5h59\",\n",
    "          \"Journée\", \"6h-18h59\"],\n",
    "    mode=\"text\",\n",
    "    showlegend = False\n",
    "\n",
    "))\n",
    "\n",
    "# Set axes ranges\n",
    "fig.update_xaxes(range=[0, 23])\n",
    "fig.update_yaxes(range=[5, 12.5])\n",
    "\n",
    "# Add shapes\n",
    "fig.add_shape(type=\"line\",\n",
    "    x0=6, y0=0, x1=6, y1=12.5,\n",
    "    line=dict(\n",
    "        color=\"black\",\n",
    "        width=2,\n",
    "        dash=\"dot\"\n",
    "    )\n",
    ")\n",
    "\n",
    "fig.add_shape(type=\"line\",\n",
    "    x0=19, y0=0, x1=19, y1=12.5,\n",
    "    line=dict(\n",
    "        color=\"black\",\n",
    "        width=2,\n",
    "        dash=\"dot\"\n",
    "    )\n",
    ")\n",
    "\n",
    "\n",
    "\n",
    "\n",
    "fig.update_layout(\n",
    "    title=\"Erreurs de prédictions sur les 10 stations du 04/01/21 au 12/02/21\",\n",
    "    xaxis_title=\"Heure\",\n",
    "    yaxis_title=\"Erreur moyenne\",\n",
    "    legend_title=\"\",\n",
    "    autosize=False,\n",
    "    width=1000,\n",
    "    height=500\n",
    ")\n",
    "\n",
    "fig.show()"
   ]
  },
  {
   "source": [
    "# Tuning des hyperparamètres du Random Forest : essai avec la 1ère station"
   ],
   "cell_type": "markdown",
   "metadata": {}
  },
  {
   "cell_type": "code",
   "execution_count": 35,
   "metadata": {},
   "outputs": [
    {
     "output_type": "execute_result",
     "data": {
      "text/plain": [
       "                   0   1  2   3   4   5   6   7   8   9  ...  1389  1390  \\\n",
       "01/04/21;00:03:28  7  25  5   5  21  37   3  20  20  17  ...    16     5   \n",
       "01/04/21;01:05:43  7  25  5   5  21  37   3  20  19  17  ...    16     5   \n",
       "01/04/21;02:07:51  7  25  5   5  21  37   3  20  19  18  ...    16     5   \n",
       "01/04/21;03:10:01  7  25  5   5  22  24   3  20  19  18  ...    17     5   \n",
       "01/04/21;04:12:06  7  25  5   6  22  25  16  20  19  18  ...    17     5   \n",
       "...               ..  .. ..  ..  ..  ..  ..  ..  ..  ..  ...   ...   ...   \n",
       "02/12/21;18:13:07  4  27  2  15   9  32  12   6  23  41  ...    15     4   \n",
       "02/12/21;19:16:34  4  26  5  10  15  24  19  10  26  39  ...    18     2   \n",
       "02/12/21;20:20:05  4  23  2  11  13  25  19   9  28  41  ...    18     1   \n",
       "02/12/21;21:23:31  4  24  3  12  12  25  17  12  29  43  ...    20     0   \n",
       "02/12/21;22:26:58  4  23  3  12  13  27  16  13  32  48  ...    19     1   \n",
       "\n",
       "                   1391  1392  1393  1394  1395  1396  1397  y  \n",
       "01/04/21;00:03:28    21    10    33     3    26    10    20  7  \n",
       "01/04/21;01:05:43    19    10    33     4    27    10    20  7  \n",
       "01/04/21;02:07:51    19    10    22     4    27    10    20  7  \n",
       "01/04/21;03:10:01    19    10     9     4    15    10    20  7  \n",
       "01/04/21;04:12:06    19    10     9     4    15    10    20  7  \n",
       "...                 ...   ...   ...   ...   ...   ...   ... ..  \n",
       "02/12/21;18:13:07    19    13     9     7    21    19     5  4  \n",
       "02/12/21;19:16:34    16    12     8     7    25    19     6  4  \n",
       "02/12/21;20:20:05    17    13    13     7    26    16     4  4  \n",
       "02/12/21;21:23:31    19    13    15     8    26    16     4  4  \n",
       "02/12/21;22:26:58    18    13    14     8    28    17     4  4  \n",
       "\n",
       "[914 rows x 1399 columns]"
      ],
      "text/html": "<div>\n<style scoped>\n    .dataframe tbody tr th:only-of-type {\n        vertical-align: middle;\n    }\n\n    .dataframe tbody tr th {\n        vertical-align: top;\n    }\n\n    .dataframe thead th {\n        text-align: right;\n    }\n</style>\n<table border=\"1\" class=\"dataframe\">\n  <thead>\n    <tr style=\"text-align: right;\">\n      <th></th>\n      <th>0</th>\n      <th>1</th>\n      <th>2</th>\n      <th>3</th>\n      <th>4</th>\n      <th>5</th>\n      <th>6</th>\n      <th>7</th>\n      <th>8</th>\n      <th>9</th>\n      <th>...</th>\n      <th>1389</th>\n      <th>1390</th>\n      <th>1391</th>\n      <th>1392</th>\n      <th>1393</th>\n      <th>1394</th>\n      <th>1395</th>\n      <th>1396</th>\n      <th>1397</th>\n      <th>y</th>\n    </tr>\n  </thead>\n  <tbody>\n    <tr>\n      <th>01/04/21;00:03:28</th>\n      <td>7</td>\n      <td>25</td>\n      <td>5</td>\n      <td>5</td>\n      <td>21</td>\n      <td>37</td>\n      <td>3</td>\n      <td>20</td>\n      <td>20</td>\n      <td>17</td>\n      <td>...</td>\n      <td>16</td>\n      <td>5</td>\n      <td>21</td>\n      <td>10</td>\n      <td>33</td>\n      <td>3</td>\n      <td>26</td>\n      <td>10</td>\n      <td>20</td>\n      <td>7</td>\n    </tr>\n    <tr>\n      <th>01/04/21;01:05:43</th>\n      <td>7</td>\n      <td>25</td>\n      <td>5</td>\n      <td>5</td>\n      <td>21</td>\n      <td>37</td>\n      <td>3</td>\n      <td>20</td>\n      <td>19</td>\n      <td>17</td>\n      <td>...</td>\n      <td>16</td>\n      <td>5</td>\n      <td>19</td>\n      <td>10</td>\n      <td>33</td>\n      <td>4</td>\n      <td>27</td>\n      <td>10</td>\n      <td>20</td>\n      <td>7</td>\n    </tr>\n    <tr>\n      <th>01/04/21;02:07:51</th>\n      <td>7</td>\n      <td>25</td>\n      <td>5</td>\n      <td>5</td>\n      <td>21</td>\n      <td>37</td>\n      <td>3</td>\n      <td>20</td>\n      <td>19</td>\n      <td>18</td>\n      <td>...</td>\n      <td>16</td>\n      <td>5</td>\n      <td>19</td>\n      <td>10</td>\n      <td>22</td>\n      <td>4</td>\n      <td>27</td>\n      <td>10</td>\n      <td>20</td>\n      <td>7</td>\n    </tr>\n    <tr>\n      <th>01/04/21;03:10:01</th>\n      <td>7</td>\n      <td>25</td>\n      <td>5</td>\n      <td>5</td>\n      <td>22</td>\n      <td>24</td>\n      <td>3</td>\n      <td>20</td>\n      <td>19</td>\n      <td>18</td>\n      <td>...</td>\n      <td>17</td>\n      <td>5</td>\n      <td>19</td>\n      <td>10</td>\n      <td>9</td>\n      <td>4</td>\n      <td>15</td>\n      <td>10</td>\n      <td>20</td>\n      <td>7</td>\n    </tr>\n    <tr>\n      <th>01/04/21;04:12:06</th>\n      <td>7</td>\n      <td>25</td>\n      <td>5</td>\n      <td>6</td>\n      <td>22</td>\n      <td>25</td>\n      <td>16</td>\n      <td>20</td>\n      <td>19</td>\n      <td>18</td>\n      <td>...</td>\n      <td>17</td>\n      <td>5</td>\n      <td>19</td>\n      <td>10</td>\n      <td>9</td>\n      <td>4</td>\n      <td>15</td>\n      <td>10</td>\n      <td>20</td>\n      <td>7</td>\n    </tr>\n    <tr>\n      <th>...</th>\n      <td>...</td>\n      <td>...</td>\n      <td>...</td>\n      <td>...</td>\n      <td>...</td>\n      <td>...</td>\n      <td>...</td>\n      <td>...</td>\n      <td>...</td>\n      <td>...</td>\n      <td>...</td>\n      <td>...</td>\n      <td>...</td>\n      <td>...</td>\n      <td>...</td>\n      <td>...</td>\n      <td>...</td>\n      <td>...</td>\n      <td>...</td>\n      <td>...</td>\n      <td>...</td>\n    </tr>\n    <tr>\n      <th>02/12/21;18:13:07</th>\n      <td>4</td>\n      <td>27</td>\n      <td>2</td>\n      <td>15</td>\n      <td>9</td>\n      <td>32</td>\n      <td>12</td>\n      <td>6</td>\n      <td>23</td>\n      <td>41</td>\n      <td>...</td>\n      <td>15</td>\n      <td>4</td>\n      <td>19</td>\n      <td>13</td>\n      <td>9</td>\n      <td>7</td>\n      <td>21</td>\n      <td>19</td>\n      <td>5</td>\n      <td>4</td>\n    </tr>\n    <tr>\n      <th>02/12/21;19:16:34</th>\n      <td>4</td>\n      <td>26</td>\n      <td>5</td>\n      <td>10</td>\n      <td>15</td>\n      <td>24</td>\n      <td>19</td>\n      <td>10</td>\n      <td>26</td>\n      <td>39</td>\n      <td>...</td>\n      <td>18</td>\n      <td>2</td>\n      <td>16</td>\n      <td>12</td>\n      <td>8</td>\n      <td>7</td>\n      <td>25</td>\n      <td>19</td>\n      <td>6</td>\n      <td>4</td>\n    </tr>\n    <tr>\n      <th>02/12/21;20:20:05</th>\n      <td>4</td>\n      <td>23</td>\n      <td>2</td>\n      <td>11</td>\n      <td>13</td>\n      <td>25</td>\n      <td>19</td>\n      <td>9</td>\n      <td>28</td>\n      <td>41</td>\n      <td>...</td>\n      <td>18</td>\n      <td>1</td>\n      <td>17</td>\n      <td>13</td>\n      <td>13</td>\n      <td>7</td>\n      <td>26</td>\n      <td>16</td>\n      <td>4</td>\n      <td>4</td>\n    </tr>\n    <tr>\n      <th>02/12/21;21:23:31</th>\n      <td>4</td>\n      <td>24</td>\n      <td>3</td>\n      <td>12</td>\n      <td>12</td>\n      <td>25</td>\n      <td>17</td>\n      <td>12</td>\n      <td>29</td>\n      <td>43</td>\n      <td>...</td>\n      <td>20</td>\n      <td>0</td>\n      <td>19</td>\n      <td>13</td>\n      <td>15</td>\n      <td>8</td>\n      <td>26</td>\n      <td>16</td>\n      <td>4</td>\n      <td>4</td>\n    </tr>\n    <tr>\n      <th>02/12/21;22:26:58</th>\n      <td>4</td>\n      <td>23</td>\n      <td>3</td>\n      <td>12</td>\n      <td>13</td>\n      <td>27</td>\n      <td>16</td>\n      <td>13</td>\n      <td>32</td>\n      <td>48</td>\n      <td>...</td>\n      <td>19</td>\n      <td>1</td>\n      <td>18</td>\n      <td>13</td>\n      <td>14</td>\n      <td>8</td>\n      <td>28</td>\n      <td>17</td>\n      <td>4</td>\n      <td>4</td>\n    </tr>\n  </tbody>\n</table>\n<p>914 rows × 1399 columns</p>\n</div>"
     },
     "metadata": {},
     "execution_count": 35
    }
   ],
   "source": [
    "df = df_velib_court.copy()\n",
    "df['y'] = df[0]\n",
    "df"
   ]
  },
  {
   "cell_type": "code",
   "execution_count": 36,
   "metadata": {},
   "outputs": [
    {
     "output_type": "execute_result",
     "data": {
      "text/plain": [
       "                   0   1  2  3   4   5   6   7   8   9  ...  1389  1390  1391  \\\n",
       "01/04/21;00:03:28  7  25  5  5  21  37   3  20  20  17  ...    16     5    21   \n",
       "01/04/21;01:05:43  7  25  5  5  21  37   3  20  19  17  ...    16     5    19   \n",
       "01/04/21;02:07:51  7  25  5  5  21  37   3  20  19  18  ...    16     5    19   \n",
       "01/04/21;03:10:01  7  25  5  5  22  24   3  20  19  18  ...    17     5    19   \n",
       "01/04/21;04:12:06  7  25  5  6  22  25  16  20  19  18  ...    17     5    19   \n",
       "\n",
       "                   1392  1393  1394  1395  1396  1397   y  \n",
       "01/04/21;00:03:28    10    33     3    26    10    20  10  \n",
       "01/04/21;01:05:43    10    33     4    27    10    20  10  \n",
       "01/04/21;02:07:51    10    22     4    27    10    20  10  \n",
       "01/04/21;03:10:01    10     9     4    15    10    20  10  \n",
       "01/04/21;04:12:06    10     9     4    15    10    20  10  \n",
       "\n",
       "[5 rows x 1399 columns]"
      ],
      "text/html": "<div>\n<style scoped>\n    .dataframe tbody tr th:only-of-type {\n        vertical-align: middle;\n    }\n\n    .dataframe tbody tr th {\n        vertical-align: top;\n    }\n\n    .dataframe thead th {\n        text-align: right;\n    }\n</style>\n<table border=\"1\" class=\"dataframe\">\n  <thead>\n    <tr style=\"text-align: right;\">\n      <th></th>\n      <th>0</th>\n      <th>1</th>\n      <th>2</th>\n      <th>3</th>\n      <th>4</th>\n      <th>5</th>\n      <th>6</th>\n      <th>7</th>\n      <th>8</th>\n      <th>9</th>\n      <th>...</th>\n      <th>1389</th>\n      <th>1390</th>\n      <th>1391</th>\n      <th>1392</th>\n      <th>1393</th>\n      <th>1394</th>\n      <th>1395</th>\n      <th>1396</th>\n      <th>1397</th>\n      <th>y</th>\n    </tr>\n  </thead>\n  <tbody>\n    <tr>\n      <th>01/04/21;00:03:28</th>\n      <td>7</td>\n      <td>25</td>\n      <td>5</td>\n      <td>5</td>\n      <td>21</td>\n      <td>37</td>\n      <td>3</td>\n      <td>20</td>\n      <td>20</td>\n      <td>17</td>\n      <td>...</td>\n      <td>16</td>\n      <td>5</td>\n      <td>21</td>\n      <td>10</td>\n      <td>33</td>\n      <td>3</td>\n      <td>26</td>\n      <td>10</td>\n      <td>20</td>\n      <td>10</td>\n    </tr>\n    <tr>\n      <th>01/04/21;01:05:43</th>\n      <td>7</td>\n      <td>25</td>\n      <td>5</td>\n      <td>5</td>\n      <td>21</td>\n      <td>37</td>\n      <td>3</td>\n      <td>20</td>\n      <td>19</td>\n      <td>17</td>\n      <td>...</td>\n      <td>16</td>\n      <td>5</td>\n      <td>19</td>\n      <td>10</td>\n      <td>33</td>\n      <td>4</td>\n      <td>27</td>\n      <td>10</td>\n      <td>20</td>\n      <td>10</td>\n    </tr>\n    <tr>\n      <th>01/04/21;02:07:51</th>\n      <td>7</td>\n      <td>25</td>\n      <td>5</td>\n      <td>5</td>\n      <td>21</td>\n      <td>37</td>\n      <td>3</td>\n      <td>20</td>\n      <td>19</td>\n      <td>18</td>\n      <td>...</td>\n      <td>16</td>\n      <td>5</td>\n      <td>19</td>\n      <td>10</td>\n      <td>22</td>\n      <td>4</td>\n      <td>27</td>\n      <td>10</td>\n      <td>20</td>\n      <td>10</td>\n    </tr>\n    <tr>\n      <th>01/04/21;03:10:01</th>\n      <td>7</td>\n      <td>25</td>\n      <td>5</td>\n      <td>5</td>\n      <td>22</td>\n      <td>24</td>\n      <td>3</td>\n      <td>20</td>\n      <td>19</td>\n      <td>18</td>\n      <td>...</td>\n      <td>17</td>\n      <td>5</td>\n      <td>19</td>\n      <td>10</td>\n      <td>9</td>\n      <td>4</td>\n      <td>15</td>\n      <td>10</td>\n      <td>20</td>\n      <td>10</td>\n    </tr>\n    <tr>\n      <th>01/04/21;04:12:06</th>\n      <td>7</td>\n      <td>25</td>\n      <td>5</td>\n      <td>6</td>\n      <td>22</td>\n      <td>25</td>\n      <td>16</td>\n      <td>20</td>\n      <td>19</td>\n      <td>18</td>\n      <td>...</td>\n      <td>17</td>\n      <td>5</td>\n      <td>19</td>\n      <td>10</td>\n      <td>9</td>\n      <td>4</td>\n      <td>15</td>\n      <td>10</td>\n      <td>20</td>\n      <td>10</td>\n    </tr>\n  </tbody>\n</table>\n<p>5 rows × 1399 columns</p>\n</div>"
     },
     "metadata": {},
     "execution_count": 36
    }
   ],
   "source": [
    "axis = df_velib_court.index\n",
    "\n",
    "# Boucle qui met dans Y toutes les données 24h plus tard\n",
    "for i in range(len(df)-24):\n",
    "    df['y'][axis[i]] = df[0][axis[i+24]]\n",
    "\n",
    "# Puis on supprime les 24 dernières lignes qui ne peuvent pas être complétées\n",
    "df.drop(axis[-24:], inplace = True)\n",
    "df.head(5)"
   ]
  },
  {
   "cell_type": "code",
   "execution_count": 37,
   "metadata": {},
   "outputs": [],
   "source": [
    "# Choix des features\n",
    "stations = [i for i in df.columns if i != 'y']\n",
    "X = df[stations]\n",
    "\n",
    "# Préparation de la target\n",
    "y = df['y']\n",
    "\n",
    "# Séparation en données de test et d'entrainement\n",
    "X_train, X_test, y_train, y_test = train_test_split(X, y, test_size=0.3, shuffle = False)"
   ]
  },
  {
   "source": [
    "## Random Search Cross Validation"
   ],
   "cell_type": "markdown",
   "metadata": {}
  },
  {
   "cell_type": "code",
   "execution_count": 38,
   "metadata": {},
   "outputs": [
    {
     "output_type": "stream",
     "name": "stdout",
     "text": [
      "Parameters currently in use:\n\n{'bootstrap': True,\n 'criterion': 'mae',\n 'max_depth': None,\n 'max_features': 'auto',\n 'max_leaf_nodes': None,\n 'min_impurity_decrease': 0.0,\n 'min_impurity_split': None,\n 'min_samples_leaf': 1,\n 'min_samples_split': 2,\n 'min_weight_fraction_leaf': 0.0,\n 'n_estimators': 'warn',\n 'n_jobs': None,\n 'oob_score': False,\n 'random_state': 42,\n 'verbose': 0,\n 'warm_start': False}\n"
     ]
    }
   ],
   "source": [
    "rf = RandomForestRegressor(random_state = 42, criterion = 'mae')\n",
    "from pprint import pprint\n",
    "# Look at parameters used by our current forest\n",
    "print('Parameters currently in use:\\n')\n",
    "pprint(rf.get_params())"
   ]
  },
  {
   "source": [
    "### Random Hyperparameter Grid"
   ],
   "cell_type": "markdown",
   "metadata": {}
  },
  {
   "cell_type": "code",
   "execution_count": 39,
   "metadata": {},
   "outputs": [
    {
     "output_type": "stream",
     "name": "stdout",
     "text": [
      "{'bootstrap': [True, False],\n 'max_depth': [10, 20, 30, 40, 50, 60, 70, 80, 90, 100, 110, None],\n 'max_features': ['auto', 'sqrt'],\n 'min_samples_leaf': [1, 2, 4],\n 'min_samples_split': [2, 5, 10],\n 'n_estimators': [200, 400, 600, 800, 1000, 1200, 1400, 1600, 1800, 2000]}\n"
     ]
    }
   ],
   "source": [
    "from sklearn.model_selection import RandomizedSearchCV\n",
    "# Number of trees in random forest\n",
    "n_estimators = [int(x) for x in np.linspace(start = 200, stop = 2000, num = 10)]\n",
    "# Number of features to consider at every split\n",
    "max_features = ['auto', 'sqrt']\n",
    "# Maximum number of levels in tree\n",
    "max_depth = [int(x) for x in np.linspace(10, 110, num = 11)]\n",
    "max_depth.append(None)\n",
    "# Minimum number of samples required to split a node\n",
    "min_samples_split = [2, 5, 10]\n",
    "# Minimum number of samples required at each leaf node\n",
    "min_samples_leaf = [1, 2, 4]\n",
    "# Method of selecting samples for training each tree\n",
    "bootstrap = [True, False]\n",
    "# Create the random grid\n",
    "random_grid = {'n_estimators': n_estimators,\n",
    "               'max_features': max_features,\n",
    "               'max_depth': max_depth,\n",
    "               'min_samples_split': min_samples_split,\n",
    "               'min_samples_leaf': min_samples_leaf,\n",
    "               'bootstrap': bootstrap}\n",
    "pprint(random_grid)"
   ]
  },
  {
   "source": [
    "### Random Search training"
   ],
   "cell_type": "markdown",
   "metadata": {}
  },
  {
   "cell_type": "code",
   "execution_count": 40,
   "metadata": {},
   "outputs": [
    {
     "output_type": "stream",
     "name": "stdout",
     "text": [
      "Fitting 3 folds for each of 10 candidates, totalling 30 fits\n",
      "[Parallel(n_jobs=-1)]: Using backend LokyBackend with 4 concurrent workers.\n",
      "/Applications/anaconda3/lib/python3.7/site-packages/sklearn/externals/joblib/numpy_pickle.py:104: DeprecationWarning:\n",
      "\n",
      "tostring() is deprecated. Use tobytes() instead.\n",
      "\n",
      "[Parallel(n_jobs=-1)]: Done  30 out of  30 | elapsed:  9.4min finished\n",
      "/Applications/anaconda3/lib/python3.7/site-packages/sklearn/model_selection/_search.py:841: DeprecationWarning:\n",
      "\n",
      "The default of the `iid` parameter will change from True to False in version 0.22 and will be removed in 0.24. This will change numeric results when test-set sizes are unequal.\n",
      "\n"
     ]
    },
    {
     "output_type": "execute_result",
     "data": {
      "text/plain": [
       "RandomizedSearchCV(cv=3, error_score='raise-deprecating',\n",
       "          estimator=RandomForestRegressor(bootstrap=True, criterion='mse', max_depth=None,\n",
       "           max_features='auto', max_leaf_nodes=None,\n",
       "           min_impurity_decrease=0.0, min_impurity_split=None,\n",
       "           min_samples_leaf=1, min_samples_split=2,\n",
       "           min_weight_fraction_leaf=0.0, n_estimators='warn', n_jobs=None,\n",
       "           oob_score=False, random_state=None, verbose=0, warm_start=False),\n",
       "          fit_params=None, iid='warn', n_iter=10, n_jobs=-1,\n",
       "          param_distributions={'n_estimators': [200, 400, 600, 800, 1000, 1200, 1400, 1600, 1800, 2000], 'max_features': ['auto', 'sqrt'], 'max_depth': [10, 20, 30, 40, 50, 60, 70, 80, 90, 100, 110, None], 'min_samples_split': [2, 5, 10], 'min_samples_leaf': [1, 2, 4], 'bootstrap': [True, False]},\n",
       "          pre_dispatch='2*n_jobs', random_state=42, refit=True,\n",
       "          return_train_score='warn', scoring=None, verbose=2)"
      ]
     },
     "metadata": {},
     "execution_count": 40
    }
   ],
   "source": [
    "# Use the random grid to search for best hyperparameters\n",
    "# First create the base model to tune\n",
    "rf = RandomForestRegressor()\n",
    "# Random search of parameters, using 3 fold cross validation, \n",
    "# search across 100 different combinations, and use all available cores\n",
    "rf_random = RandomizedSearchCV(estimator = rf, param_distributions = random_grid, n_iter = 10, cv = 3, verbose=2, random_state=42, n_jobs = -1)\n",
    "# Fit the random search model\n",
    "rf_random.fit(X_train[:100], y_train[:100])\n"
   ]
  },
  {
   "source": [
    "On regarde les mailleurs paramètres avec la recherche aléatoire"
   ],
   "cell_type": "markdown",
   "metadata": {}
  },
  {
   "cell_type": "code",
   "execution_count": 41,
   "metadata": {},
   "outputs": [
    {
     "output_type": "execute_result",
     "data": {
      "text/plain": [
       "{'n_estimators': 400,\n",
       " 'min_samples_split': 10,\n",
       " 'min_samples_leaf': 1,\n",
       " 'max_features': 'sqrt',\n",
       " 'max_depth': 60,\n",
       " 'bootstrap': False}"
      ]
     },
     "metadata": {},
     "execution_count": 41
    }
   ],
   "source": [
    "rf_random.best_params_"
   ]
  },
  {
   "source": [
    "### GridSearch"
   ],
   "cell_type": "markdown",
   "metadata": {}
  },
  {
   "cell_type": "code",
   "execution_count": null,
   "metadata": {},
   "outputs": [],
   "source": [
    "{'n_estimators': 400,\n",
    " 'min_samples_split': 10,\n",
    " 'min_samples_leaf': 1,\n",
    " 'max_features': 'sqrt',\n",
    " 'max_depth': 60,\n",
    " 'bootstrap': False}"
   ]
  },
  {
   "cell_type": "code",
   "execution_count": 42,
   "metadata": {},
   "outputs": [],
   "source": [
    "from sklearn.model_selection import GridSearchCV\n",
    "\n",
    "# Create the parameter grid based on the results of random search \n",
    "param_grid = {\n",
    "    'bootstrap': [False],\n",
    "    'max_depth': [30, 40, 70, 100],\n",
    "    #'max_features': [2, 3],\n",
    "    'min_samples_split': [7, 9, 10, 12],\n",
    "    'n_estimators': [100, 200, 400, 600]\n",
    "}\n",
    "\n",
    "# Create a base model\n",
    "rf = RandomForestRegressor(random_state = 42)\n",
    "\n",
    "# Instantiate the grid search model\n",
    "grid_search = GridSearchCV(estimator = rf, param_grid = param_grid, cv = 10, n_jobs = -1, verbose = 2, return_train_score=True)"
   ]
  },
  {
   "cell_type": "code",
   "execution_count": 43,
   "metadata": {},
   "outputs": [
    {
     "output_type": "stream",
     "name": "stdout",
     "text": [
      "Fitting 10 folds for each of 64 candidates, totalling 640 fits\n",
      "[Parallel(n_jobs=-1)]: Using backend LokyBackend with 4 concurrent workers.\n",
      "/Applications/anaconda3/lib/python3.7/site-packages/sklearn/externals/joblib/numpy_pickle.py:104: DeprecationWarning:\n",
      "\n",
      "tostring() is deprecated. Use tobytes() instead.\n",
      "\n",
      "[Parallel(n_jobs=-1)]: Done  33 tasks      | elapsed:  2.6min\n",
      "[Parallel(n_jobs=-1)]: Done 154 tasks      | elapsed:  9.0min\n",
      "[Parallel(n_jobs=-1)]: Done 357 tasks      | elapsed: 23.7min\n",
      "[Parallel(n_jobs=-1)]: Done 640 out of 640 | elapsed: 40.6min finished\n"
     ]
    },
    {
     "output_type": "execute_result",
     "data": {
      "text/plain": [
       "GridSearchCV(cv=10, error_score='raise-deprecating',\n",
       "       estimator=RandomForestRegressor(bootstrap=True, criterion='mse', max_depth=None,\n",
       "           max_features='auto', max_leaf_nodes=None,\n",
       "           min_impurity_decrease=0.0, min_impurity_split=None,\n",
       "           min_samples_leaf=1, min_samples_split=2,\n",
       "           min_weight_fraction_leaf=0.0, n_estimators='warn', n_jobs=None,\n",
       "           oob_score=False, random_state=42, verbose=0, warm_start=False),\n",
       "       fit_params=None, iid='warn', n_jobs=-1,\n",
       "       param_grid={'bootstrap': [False], 'max_depth': [30, 40, 70, 100], 'min_samples_split': [7, 9, 10, 12], 'n_estimators': [100, 200, 400, 600]},\n",
       "       pre_dispatch='2*n_jobs', refit=True, return_train_score=True,\n",
       "       scoring=None, verbose=2)"
      ]
     },
     "metadata": {},
     "execution_count": 43
    }
   ],
   "source": [
    "# Fit the grid search to the data\n",
    "grid_search.fit(X_train[:100], y_train[:100])"
   ]
  },
  {
   "cell_type": "code",
   "execution_count": 44,
   "metadata": {},
   "outputs": [
    {
     "output_type": "execute_result",
     "data": {
      "text/plain": [
       "{'bootstrap': False,\n",
       " 'max_depth': 30,\n",
       " 'min_samples_split': 7,\n",
       " 'n_estimators': 600}"
      ]
     },
     "metadata": {},
     "execution_count": 44
    }
   ],
   "source": [
    "grid_search.best_params_"
   ]
  },
  {
   "source": [
    "**Quelle amélioration ?**"
   ],
   "cell_type": "markdown",
   "metadata": {}
  },
  {
   "cell_type": "code",
   "execution_count": 45,
   "metadata": {},
   "outputs": [
    {
     "output_type": "stream",
     "name": "stdout",
     "text": [
      "Le MAE du modèle simple est 4.408 avec random forest\nLe MAE du modèle boosté est 3.844 avec random forest\n"
     ]
    }
   ],
   "source": [
    "X_train, X_test, y_train, y_test = train_test_split(X, y, test_size=0.3, shuffle = False)\n",
    "rf_simple = RandomForestRegressor()\n",
    "rf_boost = RandomForestRegressor(max_depth = 30, min_samples_split = 7, n_estimators = 600)\n",
    "rf_simple.fit(X_train, y_train)\n",
    "rf_boost.fit(X_train, y_train)\n",
    "\n",
    "y_prediction_simple = rf_simple.predict(X_test)\n",
    "y_prediction_boost = rf_boost.predict(X_test)\n",
    "\n",
    "MAE_simple = mean_absolute_error(y_test, y_prediction_simple)\n",
    "MAE_boost = mean_absolute_error(y_test, y_prediction_boost)\n",
    "\n",
    "print(\"Le MAE du modèle simple est \"+str(round(MAE_simple,3))+\" avec random forest\")\n",
    "print(\"Le MAE du modèle boosté est \"+str(round(MAE_boost,3))+\" avec random forest\")"
   ]
  },
  {
   "source": [
    "**Soit un gain de ...**"
   ],
   "cell_type": "markdown",
   "metadata": {}
  },
  {
   "cell_type": "code",
   "execution_count": 77,
   "metadata": {},
   "outputs": [
    {
     "output_type": "stream",
     "name": "stdout",
     "text": [
      "L'optimisation des paramètres du Random Forest a conduit à une variation de -12.8% du MAE\n"
     ]
    }
   ],
   "source": [
    "print(\"L'optimisation des paramètres du Random Forest a conduit à une variation de \"+str(round((MAE_boost - MAE_simple) / MAE_simple *100,2))+\"%\"+\" du MAE\")"
   ]
  },
  {
   "source": [
    "## Machine Learning sur les périodes choisies"
   ],
   "cell_type": "markdown",
   "metadata": {}
  },
  {
   "cell_type": "code",
   "execution_count": 120,
   "metadata": {},
   "outputs": [
    {
     "output_type": "execute_result",
     "data": {
      "text/plain": [
       "                   0     1     2     3     4     5     6     7     8     9     \\\n",
       "01/04/21;00:03:28     7    25     5     5    21    37     3    20    20    17   \n",
       "01/04/21;01:05:43     7    25     5     5    21    37     3    20    19    17   \n",
       "01/04/21;02:07:51     7    25     5     5    21    37     3    20    19    18   \n",
       "01/04/21;03:10:01     7    25     5     5    22    24     3    20    19    18   \n",
       "01/04/21;04:12:06     7    25     5     6    22    25    16    20    19    18   \n",
       "\n",
       "                   ...  1388  1389  1390  1391  1392  1393  1394  1395  1396  \\\n",
       "01/04/21;00:03:28  ...    12    16     5    21    10    33     3    26    10   \n",
       "01/04/21;01:05:43  ...    13    16     5    19    10    33     4    27    10   \n",
       "01/04/21;02:07:51  ...    13    16     5    19    10    22     4    27    10   \n",
       "01/04/21;03:10:01  ...    13    17     5    19    10     9     4    15    10   \n",
       "01/04/21;04:12:06  ...    13    17     5    19    10     9     4    15    10   \n",
       "\n",
       "                   1397  \n",
       "01/04/21;00:03:28    20  \n",
       "01/04/21;01:05:43    20  \n",
       "01/04/21;02:07:51    20  \n",
       "01/04/21;03:10:01    20  \n",
       "01/04/21;04:12:06    20  \n",
       "\n",
       "[5 rows x 1398 columns]"
      ],
      "text/html": "<div>\n<style scoped>\n    .dataframe tbody tr th:only-of-type {\n        vertical-align: middle;\n    }\n\n    .dataframe tbody tr th {\n        vertical-align: top;\n    }\n\n    .dataframe thead th {\n        text-align: right;\n    }\n</style>\n<table border=\"1\" class=\"dataframe\">\n  <thead>\n    <tr style=\"text-align: right;\">\n      <th></th>\n      <th>0</th>\n      <th>1</th>\n      <th>2</th>\n      <th>3</th>\n      <th>4</th>\n      <th>5</th>\n      <th>6</th>\n      <th>7</th>\n      <th>8</th>\n      <th>9</th>\n      <th>...</th>\n      <th>1388</th>\n      <th>1389</th>\n      <th>1390</th>\n      <th>1391</th>\n      <th>1392</th>\n      <th>1393</th>\n      <th>1394</th>\n      <th>1395</th>\n      <th>1396</th>\n      <th>1397</th>\n    </tr>\n  </thead>\n  <tbody>\n    <tr>\n      <th>01/04/21;00:03:28</th>\n      <td>7</td>\n      <td>25</td>\n      <td>5</td>\n      <td>5</td>\n      <td>21</td>\n      <td>37</td>\n      <td>3</td>\n      <td>20</td>\n      <td>20</td>\n      <td>17</td>\n      <td>...</td>\n      <td>12</td>\n      <td>16</td>\n      <td>5</td>\n      <td>21</td>\n      <td>10</td>\n      <td>33</td>\n      <td>3</td>\n      <td>26</td>\n      <td>10</td>\n      <td>20</td>\n    </tr>\n    <tr>\n      <th>01/04/21;01:05:43</th>\n      <td>7</td>\n      <td>25</td>\n      <td>5</td>\n      <td>5</td>\n      <td>21</td>\n      <td>37</td>\n      <td>3</td>\n      <td>20</td>\n      <td>19</td>\n      <td>17</td>\n      <td>...</td>\n      <td>13</td>\n      <td>16</td>\n      <td>5</td>\n      <td>19</td>\n      <td>10</td>\n      <td>33</td>\n      <td>4</td>\n      <td>27</td>\n      <td>10</td>\n      <td>20</td>\n    </tr>\n    <tr>\n      <th>01/04/21;02:07:51</th>\n      <td>7</td>\n      <td>25</td>\n      <td>5</td>\n      <td>5</td>\n      <td>21</td>\n      <td>37</td>\n      <td>3</td>\n      <td>20</td>\n      <td>19</td>\n      <td>18</td>\n      <td>...</td>\n      <td>13</td>\n      <td>16</td>\n      <td>5</td>\n      <td>19</td>\n      <td>10</td>\n      <td>22</td>\n      <td>4</td>\n      <td>27</td>\n      <td>10</td>\n      <td>20</td>\n    </tr>\n    <tr>\n      <th>01/04/21;03:10:01</th>\n      <td>7</td>\n      <td>25</td>\n      <td>5</td>\n      <td>5</td>\n      <td>22</td>\n      <td>24</td>\n      <td>3</td>\n      <td>20</td>\n      <td>19</td>\n      <td>18</td>\n      <td>...</td>\n      <td>13</td>\n      <td>17</td>\n      <td>5</td>\n      <td>19</td>\n      <td>10</td>\n      <td>9</td>\n      <td>4</td>\n      <td>15</td>\n      <td>10</td>\n      <td>20</td>\n    </tr>\n    <tr>\n      <th>01/04/21;04:12:06</th>\n      <td>7</td>\n      <td>25</td>\n      <td>5</td>\n      <td>6</td>\n      <td>22</td>\n      <td>25</td>\n      <td>16</td>\n      <td>20</td>\n      <td>19</td>\n      <td>18</td>\n      <td>...</td>\n      <td>13</td>\n      <td>17</td>\n      <td>5</td>\n      <td>19</td>\n      <td>10</td>\n      <td>9</td>\n      <td>4</td>\n      <td>15</td>\n      <td>10</td>\n      <td>20</td>\n    </tr>\n  </tbody>\n</table>\n<p>5 rows × 1398 columns</p>\n</div>"
     },
     "metadata": {},
     "execution_count": 120
    }
   ],
   "source": [
    "df_velib_court.head(5)"
   ]
  },
  {
   "cell_type": "code",
   "execution_count": 121,
   "metadata": {},
   "outputs": [
    {
     "output_type": "execute_result",
     "data": {
      "text/plain": [
       "                   0   1  2  3   4   5   6   7   8   9  ...  1389  1390  1391  \\\n",
       "01/04/21;00:03:28  7  25  5  5  21  37   3  20  20  17  ...    16     5    21   \n",
       "01/04/21;01:05:43  7  25  5  5  21  37   3  20  19  17  ...    16     5    19   \n",
       "01/04/21;02:07:51  7  25  5  5  21  37   3  20  19  18  ...    16     5    19   \n",
       "01/04/21;03:10:01  7  25  5  5  22  24   3  20  19  18  ...    17     5    19   \n",
       "01/04/21;04:12:06  7  25  5  6  22  25  16  20  19  18  ...    17     5    19   \n",
       "\n",
       "                   1392  1393  1394  1395  1396  1397              heure  \n",
       "01/04/21;00:03:28    10    33     3    26    10    20  01/04/21;00:03:28  \n",
       "01/04/21;01:05:43    10    33     4    27    10    20  01/04/21;01:05:43  \n",
       "01/04/21;02:07:51    10    22     4    27    10    20  01/04/21;02:07:51  \n",
       "01/04/21;03:10:01    10     9     4    15    10    20  01/04/21;03:10:01  \n",
       "01/04/21;04:12:06    10     9     4    15    10    20  01/04/21;04:12:06  \n",
       "\n",
       "[5 rows x 1399 columns]"
      ],
      "text/html": "<div>\n<style scoped>\n    .dataframe tbody tr th:only-of-type {\n        vertical-align: middle;\n    }\n\n    .dataframe tbody tr th {\n        vertical-align: top;\n    }\n\n    .dataframe thead th {\n        text-align: right;\n    }\n</style>\n<table border=\"1\" class=\"dataframe\">\n  <thead>\n    <tr style=\"text-align: right;\">\n      <th></th>\n      <th>0</th>\n      <th>1</th>\n      <th>2</th>\n      <th>3</th>\n      <th>4</th>\n      <th>5</th>\n      <th>6</th>\n      <th>7</th>\n      <th>8</th>\n      <th>9</th>\n      <th>...</th>\n      <th>1389</th>\n      <th>1390</th>\n      <th>1391</th>\n      <th>1392</th>\n      <th>1393</th>\n      <th>1394</th>\n      <th>1395</th>\n      <th>1396</th>\n      <th>1397</th>\n      <th>heure</th>\n    </tr>\n  </thead>\n  <tbody>\n    <tr>\n      <th>01/04/21;00:03:28</th>\n      <td>7</td>\n      <td>25</td>\n      <td>5</td>\n      <td>5</td>\n      <td>21</td>\n      <td>37</td>\n      <td>3</td>\n      <td>20</td>\n      <td>20</td>\n      <td>17</td>\n      <td>...</td>\n      <td>16</td>\n      <td>5</td>\n      <td>21</td>\n      <td>10</td>\n      <td>33</td>\n      <td>3</td>\n      <td>26</td>\n      <td>10</td>\n      <td>20</td>\n      <td>01/04/21;00:03:28</td>\n    </tr>\n    <tr>\n      <th>01/04/21;01:05:43</th>\n      <td>7</td>\n      <td>25</td>\n      <td>5</td>\n      <td>5</td>\n      <td>21</td>\n      <td>37</td>\n      <td>3</td>\n      <td>20</td>\n      <td>19</td>\n      <td>17</td>\n      <td>...</td>\n      <td>16</td>\n      <td>5</td>\n      <td>19</td>\n      <td>10</td>\n      <td>33</td>\n      <td>4</td>\n      <td>27</td>\n      <td>10</td>\n      <td>20</td>\n      <td>01/04/21;01:05:43</td>\n    </tr>\n    <tr>\n      <th>01/04/21;02:07:51</th>\n      <td>7</td>\n      <td>25</td>\n      <td>5</td>\n      <td>5</td>\n      <td>21</td>\n      <td>37</td>\n      <td>3</td>\n      <td>20</td>\n      <td>19</td>\n      <td>18</td>\n      <td>...</td>\n      <td>16</td>\n      <td>5</td>\n      <td>19</td>\n      <td>10</td>\n      <td>22</td>\n      <td>4</td>\n      <td>27</td>\n      <td>10</td>\n      <td>20</td>\n      <td>01/04/21;02:07:51</td>\n    </tr>\n    <tr>\n      <th>01/04/21;03:10:01</th>\n      <td>7</td>\n      <td>25</td>\n      <td>5</td>\n      <td>5</td>\n      <td>22</td>\n      <td>24</td>\n      <td>3</td>\n      <td>20</td>\n      <td>19</td>\n      <td>18</td>\n      <td>...</td>\n      <td>17</td>\n      <td>5</td>\n      <td>19</td>\n      <td>10</td>\n      <td>9</td>\n      <td>4</td>\n      <td>15</td>\n      <td>10</td>\n      <td>20</td>\n      <td>01/04/21;03:10:01</td>\n    </tr>\n    <tr>\n      <th>01/04/21;04:12:06</th>\n      <td>7</td>\n      <td>25</td>\n      <td>5</td>\n      <td>6</td>\n      <td>22</td>\n      <td>25</td>\n      <td>16</td>\n      <td>20</td>\n      <td>19</td>\n      <td>18</td>\n      <td>...</td>\n      <td>17</td>\n      <td>5</td>\n      <td>19</td>\n      <td>10</td>\n      <td>9</td>\n      <td>4</td>\n      <td>15</td>\n      <td>10</td>\n      <td>20</td>\n      <td>01/04/21;04:12:06</td>\n    </tr>\n  </tbody>\n</table>\n<p>5 rows × 1399 columns</p>\n</div>"
     },
     "metadata": {},
     "execution_count": 121
    }
   ],
   "source": [
    "df_h = df_velib_court.copy()\n",
    "df_h['heure'] = df_velib_court.index\n",
    "df_h.head(5)"
   ]
  },
  {
   "cell_type": "code",
   "execution_count": 122,
   "metadata": {},
   "outputs": [
    {
     "output_type": "execute_result",
     "data": {
      "text/plain": [
       "                   0   1  2  3   4   5   6   7   8   9  ...  1389  1390  1391  \\\n",
       "01/04/21;00:03:28  7  25  5  5  21  37   3  20  20  17  ...    16     5    21   \n",
       "01/04/21;01:05:43  7  25  5  5  21  37   3  20  19  17  ...    16     5    19   \n",
       "01/04/21;02:07:51  7  25  5  5  21  37   3  20  19  18  ...    16     5    19   \n",
       "01/04/21;03:10:01  7  25  5  5  22  24   3  20  19  18  ...    17     5    19   \n",
       "01/04/21;04:12:06  7  25  5  6  22  25  16  20  19  18  ...    17     5    19   \n",
       "\n",
       "                   1392  1393  1394  1395  1396  1397  heure  \n",
       "01/04/21;00:03:28    10    33     3    26    10    20      0  \n",
       "01/04/21;01:05:43    10    33     4    27    10    20      1  \n",
       "01/04/21;02:07:51    10    22     4    27    10    20      2  \n",
       "01/04/21;03:10:01    10     9     4    15    10    20      3  \n",
       "01/04/21;04:12:06    10     9     4    15    10    20      4  \n",
       "\n",
       "[5 rows x 1399 columns]"
      ],
      "text/html": "<div>\n<style scoped>\n    .dataframe tbody tr th:only-of-type {\n        vertical-align: middle;\n    }\n\n    .dataframe tbody tr th {\n        vertical-align: top;\n    }\n\n    .dataframe thead th {\n        text-align: right;\n    }\n</style>\n<table border=\"1\" class=\"dataframe\">\n  <thead>\n    <tr style=\"text-align: right;\">\n      <th></th>\n      <th>0</th>\n      <th>1</th>\n      <th>2</th>\n      <th>3</th>\n      <th>4</th>\n      <th>5</th>\n      <th>6</th>\n      <th>7</th>\n      <th>8</th>\n      <th>9</th>\n      <th>...</th>\n      <th>1389</th>\n      <th>1390</th>\n      <th>1391</th>\n      <th>1392</th>\n      <th>1393</th>\n      <th>1394</th>\n      <th>1395</th>\n      <th>1396</th>\n      <th>1397</th>\n      <th>heure</th>\n    </tr>\n  </thead>\n  <tbody>\n    <tr>\n      <th>01/04/21;00:03:28</th>\n      <td>7</td>\n      <td>25</td>\n      <td>5</td>\n      <td>5</td>\n      <td>21</td>\n      <td>37</td>\n      <td>3</td>\n      <td>20</td>\n      <td>20</td>\n      <td>17</td>\n      <td>...</td>\n      <td>16</td>\n      <td>5</td>\n      <td>21</td>\n      <td>10</td>\n      <td>33</td>\n      <td>3</td>\n      <td>26</td>\n      <td>10</td>\n      <td>20</td>\n      <td>0</td>\n    </tr>\n    <tr>\n      <th>01/04/21;01:05:43</th>\n      <td>7</td>\n      <td>25</td>\n      <td>5</td>\n      <td>5</td>\n      <td>21</td>\n      <td>37</td>\n      <td>3</td>\n      <td>20</td>\n      <td>19</td>\n      <td>17</td>\n      <td>...</td>\n      <td>16</td>\n      <td>5</td>\n      <td>19</td>\n      <td>10</td>\n      <td>33</td>\n      <td>4</td>\n      <td>27</td>\n      <td>10</td>\n      <td>20</td>\n      <td>1</td>\n    </tr>\n    <tr>\n      <th>01/04/21;02:07:51</th>\n      <td>7</td>\n      <td>25</td>\n      <td>5</td>\n      <td>5</td>\n      <td>21</td>\n      <td>37</td>\n      <td>3</td>\n      <td>20</td>\n      <td>19</td>\n      <td>18</td>\n      <td>...</td>\n      <td>16</td>\n      <td>5</td>\n      <td>19</td>\n      <td>10</td>\n      <td>22</td>\n      <td>4</td>\n      <td>27</td>\n      <td>10</td>\n      <td>20</td>\n      <td>2</td>\n    </tr>\n    <tr>\n      <th>01/04/21;03:10:01</th>\n      <td>7</td>\n      <td>25</td>\n      <td>5</td>\n      <td>5</td>\n      <td>22</td>\n      <td>24</td>\n      <td>3</td>\n      <td>20</td>\n      <td>19</td>\n      <td>18</td>\n      <td>...</td>\n      <td>17</td>\n      <td>5</td>\n      <td>19</td>\n      <td>10</td>\n      <td>9</td>\n      <td>4</td>\n      <td>15</td>\n      <td>10</td>\n      <td>20</td>\n      <td>3</td>\n    </tr>\n    <tr>\n      <th>01/04/21;04:12:06</th>\n      <td>7</td>\n      <td>25</td>\n      <td>5</td>\n      <td>6</td>\n      <td>22</td>\n      <td>25</td>\n      <td>16</td>\n      <td>20</td>\n      <td>19</td>\n      <td>18</td>\n      <td>...</td>\n      <td>17</td>\n      <td>5</td>\n      <td>19</td>\n      <td>10</td>\n      <td>9</td>\n      <td>4</td>\n      <td>15</td>\n      <td>10</td>\n      <td>20</td>\n      <td>4</td>\n    </tr>\n  </tbody>\n</table>\n<p>5 rows × 1399 columns</p>\n</div>"
     },
     "metadata": {},
     "execution_count": 122
    }
   ],
   "source": [
    "# On ne garde que les heures dans la date\n",
    "for i in range(len(df_h)):\n",
    "    df_h['heure'][i] = int(df_h['heure'][i][9]+df_h['heure'][i][10])\n",
    "\n",
    "df_h.head(5)"
   ]
  },
  {
   "source": [
    "# Modèles prédictifs la journée (6h00-18h59) heure par heure"
   ],
   "cell_type": "markdown",
   "metadata": {}
  },
  {
   "cell_type": "code",
   "execution_count": 123,
   "metadata": {},
   "outputs": [],
   "source": [
    "heures = np.linspace(0,23,24)\n",
    "heures_jour = np.linspace(6,18,13)"
   ]
  },
  {
   "cell_type": "code",
   "execution_count": 139,
   "metadata": {},
   "outputs": [],
   "source": [
    "def sous_df_1h(df, h):\n",
    "    \"\"\"\n",
    "    Renvoie le sous dataframe avec l'heure target\n",
    "\n",
    "    h : l'heure target\n",
    "    df : le dataframe court sur la période choisie par Malo\n",
    "    \"\"\"\n",
    "    pas_les_bonnes_heures = list(np.linspace(0,23,24))\n",
    "    pas_les_bonnes_heures.remove(h)\n",
    "    df_c = df.copy()\n",
    "    test = df_c.isin({'heure': pas_les_bonnes_heures})\n",
    "\n",
    "    for i in df_c.index:\n",
    "        if test['heure'][i] == True:\n",
    "            df_c.drop(i,0,inplace = True)\n",
    "\n",
    "    # Et on supprime la colonne des heures\n",
    "    del df_c['heure']\n",
    "\n",
    "    return df_c"
   ]
  },
  {
   "cell_type": "code",
   "execution_count": 134,
   "metadata": {},
   "outputs": [],
   "source": [
    "def sous_df_ml(df_1h, num_station):\n",
    "    \"\"\"\n",
    "    Renvoie le dataframe avec la variable target 'y' : PRÉPARATION AU ML\n",
    "\n",
    "    num_station : le numéro de la station cible\n",
    "    df : le sous_df\n",
    "    \"\"\"\n",
    "    axis = df_1h.index\n",
    "    df_c = df_1h.copy()\n",
    "    df_c['y'] = df_c[num_station]\n",
    "\n",
    "    for j in range(len(df_c)-24):\n",
    "        df_c['y'][axis[j]] = df_c[num_station][axis[j+24]]\n",
    "\n",
    "    # Puis on supprime les 24 dernières lignes qui ne peuvent pas être complétées\n",
    "    df_c.drop(axis[-24:], inplace = True)\n",
    "\n",
    "    return df_c"
   ]
  },
  {
   "source": [
    "# Résultats 0h"
   ],
   "cell_type": "markdown",
   "metadata": {}
  },
  {
   "cell_type": "code",
   "execution_count": 200,
   "metadata": {},
   "outputs": [
    {
     "output_type": "stream",
     "name": "stdout",
     "text": [
      "+----------------+-----------------------+----------------------+-------------+-------------+----------------------------+\n| Station target | Mean(Occupation) - 0h | Std(Occupation) - 0h | MAE LR - 0h | MAE RF - 0h | MAE méthode intuitive - 0h |\n+----------------+-----------------------+----------------------+-------------+-------------+----------------------------+\n|   station_0    |          5.2          |         3.03         |     5.35    |     3.93    |            5.2             |\n|   station_1    |          42.2         |         5.72         |    16.37    |    17.06    |            18.8            |\n|   station_2    |          3.8          |         3.11         |     2.23    |     1.24    |            1.6             |\n|   station_3    |          6.4          |         4.88         |     2.79    |     2.68    |            5.8             |\n|   station_4    |          24.2         |         5.89         |     5.53    |     5.14    |            6.6             |\n|   station_5    |          40.8         |         3.27         |    14.44    |    14.76    |            5.6             |\n|   station_6    |          18.4         |         6.95         |     4.6     |     4.92    |            8.6             |\n|   station_7    |          9.6          |         2.7          |     7.51    |     6.56    |            6.6             |\n|   station_8    |          10.6         |         2.79         |     5.51    |     3.35    |            13.2            |\n|   station_9    |          25.0         |         7.11         |    13.03    |    13.74    |            20.6            |\n+----------------+-----------------------+----------------------+-------------+-------------+----------------------------+\n"
     ]
    }
   ],
   "source": [
    "# Pour chaque station, on garde le numéro de la station dans le dataframe df_velib, les modèle lr et rf\n",
    "resultats_0h = {}\n",
    "# Préparation de la visualisation des résultats :\n",
    "ptbl = PrettyTable()\n",
    "ptbl.field_names = [\"Station target\", \"Mean(Occupation) - 0h\", \"Std(Occupation) - 0h\", \"MAE LR - 0h\", \"MAE RF - 0h\", \"MAE méthode intuitive - 0h\"]\n",
    "\n",
    "# Dataframe pour la Régression Linéaire et le Random Forest\n",
    "for num_station in range(len(stations_tests)):\n",
    "    \n",
    "    # Préparation du sous_df pour le ML pour 0h\n",
    "    df_1h = sous_df_1h(df_h,0)\n",
    "    df_ml = sous_df_ml(df_1h, num_station)\n",
    "\n",
    "\n",
    "    # Machine Learning\n",
    "    stations_features = [i for i in df_ml.columns if i != 'y']\n",
    "    X = df_ml[stations_features]\n",
    "    # Préparation de la target\n",
    "    y = df_ml['y']\n",
    "    # Séparation en données de test et d'entrainement\n",
    "    X_train, X_test, y_train, y_test = train_test_split(X, y, test_size=0.3, shuffle = False)\n",
    "    \n",
    "    # 1- Régression linéaire\n",
    "    lr = LinearRegression()\n",
    "    lr.fit(X_train, y_train)\n",
    "    y_prediction_lr = lr.predict(X_test)\n",
    "    MAE_lr = round(mean_absolute_error(y_test, y_prediction_lr),2)\n",
    "\n",
    "    # 2- Random Forest\n",
    "    rf = RandomForestRegressor(max_depth = 30, min_samples_split = 7, n_estimators = 600)\n",
    "    rf.fit(X_train, y_train)\n",
    "    y_prediction_rf = rf.predict(X_test)\n",
    "    MAE_rf = round(mean_absolute_error(y_test, y_prediction_rf),2)\n",
    "\n",
    "    # 3- Méthode naïve ou bien \"intuitive\" c'est-à-dire prédire que ce qui se passe 1 jour plus tard est exactement la même chose que la            veille\n",
    "    df_naif = X_test.copy()\n",
    "    #MAE_naif = round(abs(X_test[i]-y_test).mean() , 2)\n",
    "    MAE_naif = round(mean_absolute_error(X_test[num_station], y_test),2)\n",
    "\n",
    "    # Capacité moyenne de la station sur la période observée\n",
    "    occupation_moyenne = round(X_test[num_station].mean(),2)\n",
    "    # Variance de la capacité sur la période observée\n",
    "    variance_occupation = round(X_test[num_station].std(),2)\n",
    "\n",
    "    # Mise en forme des résultats\n",
    "    y_test = pd.DataFrame(y_test)\n",
    "    index = y_test.index\n",
    "    # Renommer pour plus de clarté\n",
    "    y_prediction_lr = pd.DataFrame(y_prediction_lr, index = index)\n",
    "    y_prediction_rf = pd.DataFrame(y_prediction_rf, index = index)\n",
    "    y_naif = pd.DataFrame(X_test[num_station])\n",
    "    y_prediction_naif = y_test\n",
    "\n",
    "    # Stockage des résultats : numéro de la station, les modèles, et les MAE de chaque modèle\n",
    "    resultats_0h[stations_tests[num_station]] = [i, X, y, lr, MAE_lr, rf, MAE_rf, df_naif, MAE_naif, occupation_moyenne, y_test, y_prediction_lr, y_prediction_rf, y_naif, y_prediction_naif, variance_occupation]\n",
    "\n",
    "    # Visualisation des performances avec Prettytable\n",
    "    ptbl.add_row([stations_tests[num_station], occupation_moyenne, variance_occupation, MAE_lr, MAE_rf, MAE_naif])\n",
    "    \n",
    "print(ptbl)"
   ]
  },
  {
   "cell_type": "code",
   "execution_count": 201,
   "metadata": {},
   "outputs": [
    {
     "output_type": "stream",
     "name": "stdout",
     "text": [
      "+-----------------------+----------------------------+---------------------+---------------------+--------------------------------+\n| Mean(Occupation) / 0h | Mean(Std(Occupation)) / 0h | Moyenne MAE LR / 0h | Moyenne MAE RF / 0h | Moyenne MAE méthode naïve / 0h |\n+-----------------------+----------------------------+---------------------+---------------------+--------------------------------+\n|         18.62         |            4.54            |         7.74        |         7.34        |              9.26              |\n+-----------------------+----------------------------+---------------------+---------------------+--------------------------------+\n"
     ]
    }
   ],
   "source": [
    "ptbl = PrettyTable()\n",
    "ptbl.field_names = [\"Mean(Occupation) / 0h\", \"Mean(Std(Occupation)) / 0h\", \"Moyenne MAE LR / 0h\", \"Moyenne MAE RF / 0h\", \"Moyenne MAE méthode naïve / 0h\"]\n",
    "mean_capacity_0h = 0\n",
    "mean_std_occupation_0h = 0\n",
    "mean_MAE_lr_0h = 0\n",
    "mean_MAE_rf_0h = 0\n",
    "mean_MAE_naif_0h = 0\n",
    "\n",
    "# Parcourir le dictionnaire des résultats pour calculer la moyenne des indicateurs\n",
    "for key, item in resultats_0h.items():\n",
    "    mean_capacity_0h += resultats_0h[key][9]\n",
    "    mean_std_occupation_0h += resultats_0h[key][15]\n",
    "    mean_MAE_lr_0h += resultats_0h[key][4]\n",
    "    mean_MAE_rf_0h += resultats_0h[key][6]\n",
    "    mean_MAE_naif_0h += resultats_0h[key][8]\n",
    "\n",
    "# On divise par le nombre total de stations tests pour obtenir la moyenne\n",
    "mean_capacity_0h = round(mean_capacity_0h/len(resultats_0h),2)\n",
    "mean_std_occupation_0h = round(mean_std_occupation_0h/len(resultats_0h),2)\n",
    "mean_MAE_lr_0h = round(mean_MAE_lr_0h/len(resultats_0h),2)\n",
    "mean_MAE_rf_0h = round(mean_MAE_rf_0h/len(resultats_0h),2)\n",
    "mean_MAE_naif_0h = round(mean_MAE_naif_0h/len(resultats_0h),2)\n",
    "\n",
    "# Visualisation des performances avec Prettytable\n",
    "ptbl.add_row([mean_capacity_0h, mean_std_occupation_0h, mean_MAE_lr_0h, mean_MAE_rf_0h, mean_MAE_naif_0h])\n",
    "print(ptbl)"
   ]
  },
  {
   "source": [
    "# Résultats 1h"
   ],
   "cell_type": "markdown",
   "metadata": {}
  },
  {
   "cell_type": "code",
   "execution_count": 202,
   "metadata": {},
   "outputs": [
    {
     "output_type": "stream",
     "name": "stdout",
     "text": [
      "+----------------+-----------------------+----------------------+-------------+-------------+----------------------------+\n| Station target | Mean(Occupation) - 1h | Std(Occupation) - 1h | MAE LR - 1h | MAE RF - 1h | MAE méthode intuitive - 1h |\n+----------------+-----------------------+----------------------+-------------+-------------+----------------------------+\n|   station_0    |          5.2          |         2.59         |     4.54    |     4.35    |            5.2             |\n|   station_1    |          42.4         |         5.18         |    17.65    |    15.32    |            18.8            |\n|   station_2    |          4.0          |         3.08         |     2.35    |     1.16    |            1.4             |\n|   station_3    |          7.2          |         4.38         |     2.71    |     3.18    |            6.0             |\n|   station_4    |          23.8         |         5.59         |     4.27    |     4.79    |            6.2             |\n|   station_5    |          41.4         |         3.78         |    19.44    |    14.65    |            5.8             |\n|   station_6    |          18.6         |         7.33         |     5.1     |     5.11    |            9.4             |\n|   station_7    |          9.2          |         2.49         |     7.98    |     6.66    |            7.4             |\n|   station_8    |          11.6         |         2.79         |     4.12    |     3.26    |            12.8            |\n|   station_9    |          26.8         |         6.46         |     9.54    |    11.98    |            19.4            |\n+----------------+-----------------------+----------------------+-------------+-------------+----------------------------+\n"
     ]
    }
   ],
   "source": [
    "# Pour chaque station, on garde le numéro de la station dans le dataframe df_velib, les modèle lr et rf\n",
    "resultats_1h = {}\n",
    "# Préparation de la visualisation des résultats :\n",
    "ptbl = PrettyTable()\n",
    "ptbl.field_names = [\"Station target\", \"Mean(Occupation) - 1h\", \"Std(Occupation) - 1h\", \"MAE LR - 1h\", \"MAE RF - 1h\", \"MAE méthode intuitive - 1h\"]\n",
    "\n",
    "# Dataframe pour la Régression Linéaire et le Random Forest\n",
    "for num_station in range(len(stations_tests)):\n",
    "    \n",
    "    # Préparation du sous_df pour le ML pour 1h\n",
    "    df_1h = sous_df_1h(df_h,1)\n",
    "    df_ml = sous_df_ml(df_1h, num_station)\n",
    "\n",
    "\n",
    "    # Machine Learning\n",
    "    stations_features = [i for i in df_ml.columns if i != 'y']\n",
    "    X = df_ml[stations_features]\n",
    "    # Préparation de la target\n",
    "    y = df_ml['y']\n",
    "    # Séparation en données de test et d'entrainement\n",
    "    X_train, X_test, y_train, y_test = train_test_split(X, y, test_size=0.3, shuffle = False)\n",
    "    \n",
    "    # 1- Régression linéaire\n",
    "    lr = LinearRegression()\n",
    "    lr.fit(X_train, y_train)\n",
    "    y_prediction_lr = lr.predict(X_test)\n",
    "    MAE_lr = round(mean_absolute_error(y_test, y_prediction_lr),2)\n",
    "\n",
    "    # 2- Random Forest\n",
    "    rf = RandomForestRegressor(max_depth = 30, min_samples_split = 7, n_estimators = 600)\n",
    "    rf.fit(X_train, y_train)\n",
    "    y_prediction_rf = rf.predict(X_test)\n",
    "    MAE_rf = round(mean_absolute_error(y_test, y_prediction_rf),2)\n",
    "\n",
    "    # 3- Méthode naïve ou bien \"intuitive\" c'est-à-dire prédire que ce qui se passe 1 jour plus tard est exactement la même chose que la            veille\n",
    "    df_naif = X_test.copy()\n",
    "    #MAE_naif = round(abs(X_test[i]-y_test).mean() , 2)\n",
    "    MAE_naif = round(mean_absolute_error(X_test[num_station], y_test),2)\n",
    "\n",
    "    # Capacité moyenne de la station sur la période observée\n",
    "    occupation_moyenne = round(X_test[num_station].mean(),2)\n",
    "    # Variance de la capacité sur la période observée\n",
    "    variance_occupation = round(X_test[num_station].std(),2)\n",
    "\n",
    "    # Mise en forme des résultats\n",
    "    y_test = pd.DataFrame(y_test)\n",
    "    index = y_test.index\n",
    "    # Renommer pour plus de clarté\n",
    "    y_prediction_lr = pd.DataFrame(y_prediction_lr, index = index)\n",
    "    y_prediction_rf = pd.DataFrame(y_prediction_rf, index = index)\n",
    "    y_naif = pd.DataFrame(X_test[num_station])\n",
    "    y_prediction_naif = y_test\n",
    "\n",
    "    # Stockage des résultats : numéro de la station, les modèles, et les MAE de chaque modèle\n",
    "    resultats_1h[stations_tests[num_station]] = [i, X, y, lr, MAE_lr, rf, MAE_rf, df_naif, MAE_naif, occupation_moyenne, y_test, y_prediction_lr, y_prediction_rf, y_naif, y_prediction_naif, variance_occupation]\n",
    "\n",
    "    # Visualisation des performances avec Prettytable\n",
    "    ptbl.add_row([stations_tests[num_station], occupation_moyenne, variance_occupation, MAE_lr, MAE_rf, MAE_naif])\n",
    "    \n",
    "print(ptbl)"
   ]
  },
  {
   "cell_type": "code",
   "execution_count": 203,
   "metadata": {},
   "outputs": [
    {
     "output_type": "stream",
     "name": "stdout",
     "text": [
      "+-----------------------+----------------------------+---------------------+---------------------+--------------------------------+\n| Mean(Occupation) / 1h | Mean(Std(Occupation)) / 1h | Moyenne MAE LR / 1h | Moyenne MAE RF / 1h | Moyenne MAE méthode naïve / 1h |\n+-----------------------+----------------------------+---------------------+---------------------+--------------------------------+\n|         19.02         |            4.37            |         7.77        |         7.05        |              9.24              |\n+-----------------------+----------------------------+---------------------+---------------------+--------------------------------+\n"
     ]
    }
   ],
   "source": [
    "ptbl = PrettyTable()\n",
    "ptbl.field_names = [\"Mean(Occupation) / 1h\", \"Mean(Std(Occupation)) / 1h\", \"Moyenne MAE LR / 1h\", \"Moyenne MAE RF / 1h\", \"Moyenne MAE méthode naïve / 1h\"]\n",
    "mean_capacity_1h = 0\n",
    "mean_std_occupation_1h = 0\n",
    "mean_MAE_lr_1h = 0\n",
    "mean_MAE_rf_1h = 0\n",
    "mean_MAE_naif_1h = 0\n",
    "\n",
    "# Parcourir le dictionnaire des résultats pour calculer la moyenne des indicateurs\n",
    "for key, item in resultats_1h.items():\n",
    "    mean_capacity_1h += resultats_1h[key][9]\n",
    "    mean_std_occupation_1h += resultats_1h[key][15]\n",
    "    mean_MAE_lr_1h += resultats_1h[key][4]\n",
    "    mean_MAE_rf_1h += resultats_1h[key][6]\n",
    "    mean_MAE_naif_1h += resultats_1h[key][8]\n",
    "\n",
    "# On divise par le nombre total de stations tests pour obtenir la moyenne\n",
    "mean_capacity_1h = round(mean_capacity_1h/len(resultats_1h),2)\n",
    "mean_std_occupation_1h = round(mean_std_occupation_1h/len(resultats_1h),2)\n",
    "mean_MAE_lr_1h = round(mean_MAE_lr_1h/len(resultats_1h),2)\n",
    "mean_MAE_rf_1h = round(mean_MAE_rf_1h/len(resultats_1h),2)\n",
    "mean_MAE_naif_1h = round(mean_MAE_naif_1h/len(resultats_1h),2)\n",
    "\n",
    "# Visualisation des performances avec Prettytable\n",
    "ptbl.add_row([mean_capacity_1h, mean_std_occupation_1h, mean_MAE_lr_1h, mean_MAE_rf_1h, mean_MAE_naif_1h])\n",
    "print(ptbl)"
   ]
  },
  {
   "source": [
    "# Résultats 2h"
   ],
   "cell_type": "markdown",
   "metadata": {}
  },
  {
   "cell_type": "code",
   "execution_count": 204,
   "metadata": {},
   "outputs": [
    {
     "output_type": "stream",
     "name": "stdout",
     "text": [
      "+----------------+-----------------------+----------------------+-------------+-------------+----------------------------+\n| Station target | Mean(Occupation) - 2h | Std(Occupation) - 2h | MAE LR - 2h | MAE RF - 2h | MAE méthode intuitive - 2h |\n+----------------+-----------------------+----------------------+-------------+-------------+----------------------------+\n|   station_0    |          6.2          |         2.17         |     3.76    |     4.1     |            4.6             |\n|   station_1    |          33.4         |         16.1         |    17.04    |    14.17    |            13.6            |\n|   station_2    |          4.4          |         2.07         |     3.68    |     2.85    |            1.0             |\n|   station_3    |          5.4          |         4.28         |     4.5     |     4.4     |            5.2             |\n|   station_4    |          20.6         |         7.54         |     5.56    |     4.84    |            5.2             |\n|   station_5    |          38.4         |         7.33         |    13.67    |    12.66    |            10.8            |\n|   station_6    |          18.4         |         7.57         |     4.83    |     5.34    |            4.0             |\n|   station_7    |          9.2          |         2.17         |     6.29    |     6.07    |            7.8             |\n|   station_8    |          10.4         |         1.67         |     4.59    |     3.59    |            14.2            |\n|   station_9    |          29.8         |         8.07         |    13.63    |    12.57    |            16.8            |\n+----------------+-----------------------+----------------------+-------------+-------------+----------------------------+\n"
     ]
    }
   ],
   "source": [
    "# Pour chaque station, on garde le numéro de la station dans le dataframe df_velib, les modèle lr et rf\n",
    "resultats_2h = {}\n",
    "# Préparation de la visualisation des résultats :\n",
    "ptbl = PrettyTable()\n",
    "ptbl.field_names = [\"Station target\", \"Mean(Occupation) - 2h\", \"Std(Occupation) - 2h\", \"MAE LR - 2h\", \"MAE RF - 2h\", \"MAE méthode intuitive - 2h\"]\n",
    "\n",
    "# Dataframe pour la Régression Linéaire et le Random Forest\n",
    "for num_station in range(len(stations_tests)):\n",
    "    \n",
    "    # Préparation du sous_df pour le ML pour 2h\n",
    "    df_1h = sous_df_1h(df_h,2)\n",
    "    df_ml = sous_df_ml(df_1h, num_station)\n",
    "\n",
    "\n",
    "    # Machine Learning\n",
    "    stations_features = [i for i in df_ml.columns if i != 'y']\n",
    "    X = df_ml[stations_features]\n",
    "    # Préparation de la target\n",
    "    y = df_ml['y']\n",
    "    # Séparation en données de test et d'entrainement\n",
    "    X_train, X_test, y_train, y_test = train_test_split(X, y, test_size=0.3, shuffle = False)\n",
    "    \n",
    "    # 1- Régression linéaire\n",
    "    lr = LinearRegression()\n",
    "    lr.fit(X_train, y_train)\n",
    "    y_prediction_lr = lr.predict(X_test)\n",
    "    MAE_lr = round(mean_absolute_error(y_test, y_prediction_lr),2)\n",
    "\n",
    "    # 2- Random Forest\n",
    "    rf = RandomForestRegressor(max_depth = 30, min_samples_split = 7, n_estimators = 600)\n",
    "    rf.fit(X_train, y_train)\n",
    "    y_prediction_rf = rf.predict(X_test)\n",
    "    MAE_rf = round(mean_absolute_error(y_test, y_prediction_rf),2)\n",
    "\n",
    "    # 3- Méthode naïve ou bien \"intuitive\" c'est-à-dire prédire que ce qui se passe 1 jour plus tard est exactement la même chose que la            veille\n",
    "    df_naif = X_test.copy()\n",
    "    #MAE_naif = round(abs(X_test[i]-y_test).mean() , 2)\n",
    "    MAE_naif = round(mean_absolute_error(X_test[num_station], y_test),2)\n",
    "\n",
    "    # Capacité moyenne de la station sur la période observée\n",
    "    occupation_moyenne = round(X_test[num_station].mean(),2)\n",
    "    # Variance de la capacité sur la période observée\n",
    "    variance_occupation = round(X_test[num_station].std(),2)\n",
    "\n",
    "    # Mise en forme des résultats\n",
    "    y_test = pd.DataFrame(y_test)\n",
    "    index = y_test.index\n",
    "    # Renommer pour plus de clarté\n",
    "    y_prediction_lr = pd.DataFrame(y_prediction_lr, index = index)\n",
    "    y_prediction_rf = pd.DataFrame(y_prediction_rf, index = index)\n",
    "    y_naif = pd.DataFrame(X_test[num_station])\n",
    "    y_prediction_naif = y_test\n",
    "\n",
    "    # Stockage des résultats : numéro de la station, les modèles, et les MAE de chaque modèle\n",
    "    resultats_2h[stations_tests[num_station]] = [i, X, y, lr, MAE_lr, rf, MAE_rf, df_naif, MAE_naif, occupation_moyenne, y_test, y_prediction_lr, y_prediction_rf, y_naif, y_prediction_naif, variance_occupation]\n",
    "\n",
    "    # Visualisation des performances avec Prettytable\n",
    "    ptbl.add_row([stations_tests[num_station], occupation_moyenne, variance_occupation, MAE_lr, MAE_rf, MAE_naif])\n",
    "    \n",
    "print(ptbl)"
   ]
  },
  {
   "cell_type": "code",
   "execution_count": 205,
   "metadata": {},
   "outputs": [
    {
     "output_type": "stream",
     "name": "stdout",
     "text": [
      "+-----------------------+----------------------------+---------------------+---------------------+--------------------------------+\n| Mean(Occupation) / 2h | Mean(Std(Occupation)) / 2h | Moyenne MAE LR / 2h | Moyenne MAE RF / 2h | Moyenne MAE méthode naïve / 2h |\n+-----------------------+----------------------------+---------------------+---------------------+--------------------------------+\n|         17.62         |            5.9             |         7.76        |         7.06        |              8.32              |\n+-----------------------+----------------------------+---------------------+---------------------+--------------------------------+\n"
     ]
    }
   ],
   "source": [
    "ptbl = PrettyTable()\n",
    "ptbl.field_names = [\"Mean(Occupation) / 2h\", \"Mean(Std(Occupation)) / 2h\", \"Moyenne MAE LR / 2h\", \"Moyenne MAE RF / 2h\", \"Moyenne MAE méthode naïve / 2h\"]\n",
    "mean_capacity_2h = 0\n",
    "mean_std_occupation_2h = 0\n",
    "mean_MAE_lr_2h = 0\n",
    "mean_MAE_rf_2h = 0\n",
    "mean_MAE_naif_2h = 0\n",
    "\n",
    "# Parcourir le dictionnaire des résultats pour calculer la moyenne des indicateurs\n",
    "for key, item in resultats_2h.items():\n",
    "    mean_capacity_2h += resultats_2h[key][9]\n",
    "    mean_std_occupation_2h += resultats_2h[key][15]\n",
    "    mean_MAE_lr_2h += resultats_2h[key][4]\n",
    "    mean_MAE_rf_2h += resultats_2h[key][6]\n",
    "    mean_MAE_naif_2h += resultats_2h[key][8]\n",
    "\n",
    "# On divise par le nombre total de stations tests pour obtenir la moyenne\n",
    "mean_capacity_2h = round(mean_capacity_2h/len(resultats_2h),2)\n",
    "mean_std_occupation_2h = round(mean_std_occupation_2h/len(resultats_2h),2)\n",
    "mean_MAE_lr_2h = round(mean_MAE_lr_2h/len(resultats_2h),2)\n",
    "mean_MAE_rf_2h = round(mean_MAE_rf_2h/len(resultats_2h),2)\n",
    "mean_MAE_naif_2h = round(mean_MAE_naif_2h/len(resultats_2h),2)\n",
    "\n",
    "# Visualisation des performances avec Prettytable\n",
    "ptbl.add_row([mean_capacity_2h, mean_std_occupation_2h, mean_MAE_lr_2h, mean_MAE_rf_2h, mean_MAE_naif_2h])\n",
    "print(ptbl)"
   ]
  },
  {
   "source": [
    "# Résultats 3h"
   ],
   "cell_type": "markdown",
   "metadata": {}
  },
  {
   "cell_type": "code",
   "execution_count": 206,
   "metadata": {},
   "outputs": [
    {
     "output_type": "stream",
     "name": "stdout",
     "text": [
      "+----------------+-----------------------+----------------------+-------------+-------------+----------------------------+\n| Station target | Mean(Occupation) - 3h | Std(Occupation) - 3h | MAE LR - 3h | MAE RF - 3h | MAE méthode intuitive - 3h |\n+----------------+-----------------------+----------------------+-------------+-------------+----------------------------+\n|   station_0    |          4.75         |         1.71         |     4.79    |     4.66    |            4.25            |\n|   station_1    |          33.0         |        11.66         |    20.51    |    19.58    |            18.0            |\n|   station_2    |          4.25         |         1.89         |     3.52    |     2.98    |            4.0             |\n|   station_3    |          9.5          |         1.0          |     4.35    |     4.25    |            3.75            |\n|   station_4    |          19.5         |         5.45         |     5.99    |     7.69    |            8.75            |\n|   station_5    |          41.5         |         3.11         |    21.84    |    19.26    |            7.25            |\n|   station_6    |          15.0         |        10.92         |     4.25    |     4.26    |            6.75            |\n|   station_7    |          7.25         |         3.3          |     9.86    |    10.21    |            10.5            |\n|   station_8    |          11.0         |         2.71         |     6.91    |     4.82    |           15.25            |\n|   station_9    |         28.75         |         9.71         |    10.23    |    12.03    |           19.75            |\n+----------------+-----------------------+----------------------+-------------+-------------+----------------------------+\n"
     ]
    }
   ],
   "source": [
    "# Pour chaque station, on garde le numéro de la station dans le dataframe df_velib, les modèle lr et rf\n",
    "resultats_3h = {}\n",
    "# Préparation de la visualisation des résultats :\n",
    "ptbl = PrettyTable()\n",
    "ptbl.field_names = [\"Station target\", \"Mean(Occupation) - 3h\", \"Std(Occupation) - 3h\", \"MAE LR - 3h\", \"MAE RF - 3h\", \"MAE méthode intuitive - 3h\"]\n",
    "\n",
    "# Dataframe pour la Régression Linéaire et le Random Forest\n",
    "for num_station in range(len(stations_tests)):\n",
    "    \n",
    "    # Préparation du sous_df pour le ML pour 3h\n",
    "    df_1h = sous_df_1h(df_h,3)\n",
    "    df_ml = sous_df_ml(df_1h, num_station)\n",
    "\n",
    "\n",
    "    # Machine Learning\n",
    "    stations_features = [i for i in df_ml.columns if i != 'y']\n",
    "    X = df_ml[stations_features]\n",
    "    # Préparation de la target\n",
    "    y = df_ml['y']\n",
    "    # Séparation en données de test et d'entrainement\n",
    "    X_train, X_test, y_train, y_test = train_test_split(X, y, test_size=0.3, shuffle = False)\n",
    "    \n",
    "    # 1- Régression linéaire\n",
    "    lr = LinearRegression()\n",
    "    lr.fit(X_train, y_train)\n",
    "    y_prediction_lr = lr.predict(X_test)\n",
    "    MAE_lr = round(mean_absolute_error(y_test, y_prediction_lr),2)\n",
    "\n",
    "    # 2- Random Forest\n",
    "    rf = RandomForestRegressor(max_depth = 30, min_samples_split = 7, n_estimators = 600)\n",
    "    rf.fit(X_train, y_train)\n",
    "    y_prediction_rf = rf.predict(X_test)\n",
    "    MAE_rf = round(mean_absolute_error(y_test, y_prediction_rf),2)\n",
    "\n",
    "    # 3- Méthode naïve ou bien \"intuitive\" c'est-à-dire prédire que ce qui se passe 1 jour plus tard est exactement la même chose que la            veille\n",
    "    df_naif = X_test.copy()\n",
    "    #MAE_naif = round(abs(X_test[i]-y_test).mean() , 2)\n",
    "    MAE_naif = round(mean_absolute_error(X_test[num_station], y_test),2)\n",
    "\n",
    "    # Capacité moyenne de la station sur la période observée\n",
    "    occupation_moyenne = round(X_test[num_station].mean(),2)\n",
    "    # Variance de la capacité sur la période observée\n",
    "    variance_occupation = round(X_test[num_station].std(),2)\n",
    "\n",
    "    # Mise en forme des résultats\n",
    "    y_test = pd.DataFrame(y_test)\n",
    "    index = y_test.index\n",
    "    # Renommer pour plus de clarté\n",
    "    y_prediction_lr = pd.DataFrame(y_prediction_lr, index = index)\n",
    "    y_prediction_rf = pd.DataFrame(y_prediction_rf, index = index)\n",
    "    y_naif = pd.DataFrame(X_test[num_station])\n",
    "    y_prediction_naif = y_test\n",
    "\n",
    "    # Stockage des résultats : numéro de la station, les modèles, et les MAE de chaque modèle\n",
    "    resultats_3h[stations_tests[num_station]] = [i, X, y, lr, MAE_lr, rf, MAE_rf, df_naif, MAE_naif, occupation_moyenne, y_test, y_prediction_lr, y_prediction_rf, y_naif, y_prediction_naif, variance_occupation]\n",
    "\n",
    "    # Visualisation des performances avec Prettytable\n",
    "    ptbl.add_row([stations_tests[num_station], occupation_moyenne, variance_occupation, MAE_lr, MAE_rf, MAE_naif])\n",
    "    \n",
    "print(ptbl)"
   ]
  },
  {
   "cell_type": "code",
   "execution_count": 207,
   "metadata": {},
   "outputs": [
    {
     "output_type": "stream",
     "name": "stdout",
     "text": [
      "+-----------------------+----------------------------+---------------------+---------------------+--------------------------------+\n| Mean(Occupation) / 3h | Mean(Std(Occupation)) / 3h | Moyenne MAE LR / 3h | Moyenne MAE RF / 3h | Moyenne MAE méthode naïve / 3h |\n+-----------------------+----------------------------+---------------------+---------------------+--------------------------------+\n|         17.45         |            5.15            |         9.22        |         8.97        |              9.82              |\n+-----------------------+----------------------------+---------------------+---------------------+--------------------------------+\n"
     ]
    }
   ],
   "source": [
    "ptbl = PrettyTable()\n",
    "ptbl.field_names = [\"Mean(Occupation) / 3h\", \"Mean(Std(Occupation)) / 3h\", \"Moyenne MAE LR / 3h\", \"Moyenne MAE RF / 3h\", \"Moyenne MAE méthode naïve / 3h\"]\n",
    "mean_capacity_3h = 0\n",
    "mean_std_occupation_3h = 0\n",
    "mean_MAE_lr_3h = 0\n",
    "mean_MAE_rf_3h = 0\n",
    "mean_MAE_naif_3h = 0\n",
    "\n",
    "# Parcourir le dictionnaire des résultats pour calculer la moyenne des indicateurs\n",
    "for key, item in resultats_3h.items():\n",
    "    mean_capacity_3h += resultats_3h[key][9]\n",
    "    mean_std_occupation_3h += resultats_3h[key][15]\n",
    "    mean_MAE_lr_3h += resultats_3h[key][4]\n",
    "    mean_MAE_rf_3h += resultats_3h[key][6]\n",
    "    mean_MAE_naif_3h += resultats_3h[key][8]\n",
    "\n",
    "# On divise par le nombre total de stations tests pour obtenir la moyenne\n",
    "mean_capacity_3h = round(mean_capacity_3h/len(resultats_3h),2)\n",
    "mean_std_occupation_3h = round(mean_std_occupation_3h/len(resultats_3h),2)\n",
    "mean_MAE_lr_3h = round(mean_MAE_lr_3h/len(resultats_3h),2)\n",
    "mean_MAE_rf_3h = round(mean_MAE_rf_3h/len(resultats_3h),2)\n",
    "mean_MAE_naif_3h = round(mean_MAE_naif_3h/len(resultats_3h),2)\n",
    "\n",
    "# Visualisation des performances avec Prettytable\n",
    "ptbl.add_row([mean_capacity_3h, mean_std_occupation_3h, mean_MAE_lr_3h, mean_MAE_rf_3h, mean_MAE_naif_3h])\n",
    "print(ptbl)"
   ]
  },
  {
   "source": [
    "# Résultats 4h"
   ],
   "cell_type": "markdown",
   "metadata": {}
  },
  {
   "cell_type": "code",
   "execution_count": 208,
   "metadata": {},
   "outputs": [
    {
     "output_type": "stream",
     "name": "stdout",
     "text": [
      "+----------------+-----------------------+----------------------+-------------+-------------+----------------------------+\n| Station target | Mean(Occupation) - 4h | Std(Occupation) - 4h | MAE LR - 4h | MAE RF - 4h | MAE méthode intuitive - 4h |\n+----------------+-----------------------+----------------------+-------------+-------------+----------------------------+\n|   station_0    |          4.5          |         2.65         |     4.37    |     4.48    |            6.0             |\n|   station_1    |          32.5         |        16.13         |    15.83    |    17.49    |           16.25            |\n|   station_2    |          4.25         |         2.5          |     3.82    |     3.53    |            2.75            |\n|   station_3    |          7.5          |         3.87         |     3.91    |     4.21    |            4.25            |\n|   station_4    |         24.25         |         2.5          |     6.14    |     7.0     |            3.0             |\n|   station_5    |          38.0         |         5.72         |    18.92    |     16.8    |            6.5             |\n|   station_6    |         15.75         |         6.45         |     6.24    |     4.58    |            5.5             |\n|   station_7    |          8.25         |         2.36         |    10.63    |     9.23    |            9.5             |\n|   station_8    |         10.75         |         2.22         |     6.62    |     3.19    |            15.5            |\n|   station_9    |          28.5         |         9.15         |    10.71    |    14.98    |           20.25            |\n+----------------+-----------------------+----------------------+-------------+-------------+----------------------------+\n"
     ]
    }
   ],
   "source": [
    "# Pour chaque station, on garde le numéro de la station dans le dataframe df_velib, les modèle lr et rf\n",
    "resultats_4h = {}\n",
    "# Préparation de la visualisation des résultats :\n",
    "ptbl = PrettyTable()\n",
    "ptbl.field_names = [\"Station target\", \"Mean(Occupation) - 4h\", \"Std(Occupation) - 4h\", \"MAE LR - 4h\", \"MAE RF - 4h\", \"MAE méthode intuitive - 4h\"]\n",
    "\n",
    "# Dataframe pour la Régression Linéaire et le Random Forest\n",
    "for num_station in range(len(stations_tests)):\n",
    "    \n",
    "    # Préparation du sous_df pour le ML pour 4h\n",
    "    df_1h = sous_df_1h(df_h,4)\n",
    "    df_ml = sous_df_ml(df_1h, num_station)\n",
    "\n",
    "\n",
    "    # Machine Learning\n",
    "    stations_features = [i for i in df_ml.columns if i != 'y']\n",
    "    X = df_ml[stations_features]\n",
    "    # Préparation de la target\n",
    "    y = df_ml['y']\n",
    "    # Séparation en données de test et d'entrainement\n",
    "    X_train, X_test, y_train, y_test = train_test_split(X, y, test_size=0.3, shuffle = False)\n",
    "    \n",
    "    # 1- Régression linéaire\n",
    "    lr = LinearRegression()\n",
    "    lr.fit(X_train, y_train)\n",
    "    y_prediction_lr = lr.predict(X_test)\n",
    "    MAE_lr = round(mean_absolute_error(y_test, y_prediction_lr),2)\n",
    "\n",
    "    # 2- Random Forest\n",
    "    rf = RandomForestRegressor(max_depth = 30, min_samples_split = 7, n_estimators = 600)\n",
    "    rf.fit(X_train, y_train)\n",
    "    y_prediction_rf = rf.predict(X_test)\n",
    "    MAE_rf = round(mean_absolute_error(y_test, y_prediction_rf),2)\n",
    "\n",
    "    # 3- Méthode naïve ou bien \"intuitive\" c'est-à-dire prédire que ce qui se passe 1 jour plus tard est exactement la même chose que la            veille\n",
    "    df_naif = X_test.copy()\n",
    "    #MAE_naif = round(abs(X_test[i]-y_test).mean() , 2)\n",
    "    MAE_naif = round(mean_absolute_error(X_test[num_station], y_test),2)\n",
    "\n",
    "    # Capacité moyenne de la station sur la période observée\n",
    "    occupation_moyenne = round(X_test[num_station].mean(),2)\n",
    "    # Variance de la capacité sur la période observée\n",
    "    variance_occupation = round(X_test[num_station].std(),2)\n",
    "\n",
    "    # Mise en forme des résultats\n",
    "    y_test = pd.DataFrame(y_test)\n",
    "    index = y_test.index\n",
    "    # Renommer pour plus de clarté\n",
    "    y_prediction_lr = pd.DataFrame(y_prediction_lr, index = index)\n",
    "    y_prediction_rf = pd.DataFrame(y_prediction_rf, index = index)\n",
    "    y_naif = pd.DataFrame(X_test[num_station])\n",
    "    y_prediction_naif = y_test\n",
    "\n",
    "    # Stockage des résultats : numéro de la station, les modèles, et les MAE de chaque modèle\n",
    "    resultats_4h[stations_tests[num_station]] = [i, X, y, lr, MAE_lr, rf, MAE_rf, df_naif, MAE_naif, occupation_moyenne, y_test, y_prediction_lr, y_prediction_rf, y_naif, y_prediction_naif, variance_occupation]\n",
    "\n",
    "    # Visualisation des performances avec Prettytable\n",
    "    ptbl.add_row([stations_tests[num_station], occupation_moyenne, variance_occupation, MAE_lr, MAE_rf, MAE_naif])\n",
    "    \n",
    "print(ptbl)"
   ]
  },
  {
   "cell_type": "code",
   "execution_count": 209,
   "metadata": {},
   "outputs": [
    {
     "output_type": "stream",
     "name": "stdout",
     "text": [
      "+-----------------------+----------------------------+---------------------+---------------------+--------------------------------+\n| Mean(Occupation) / 4h | Mean(Std(Occupation)) / 4h | Moyenne MAE LR / 4h | Moyenne MAE RF / 4h | Moyenne MAE méthode naïve / 4h |\n+-----------------------+----------------------------+---------------------+---------------------+--------------------------------+\n|         17.43         |            5.35            |         8.72        |         8.55        |              8.95              |\n+-----------------------+----------------------------+---------------------+---------------------+--------------------------------+\n"
     ]
    }
   ],
   "source": [
    "ptbl = PrettyTable()\n",
    "ptbl.field_names = [\"Mean(Occupation) / 4h\", \"Mean(Std(Occupation)) / 4h\", \"Moyenne MAE LR / 4h\", \"Moyenne MAE RF / 4h\", \"Moyenne MAE méthode naïve / 4h\"]\n",
    "mean_capacity_4h = 0\n",
    "mean_std_occupation_4h = 0\n",
    "mean_MAE_lr_4h = 0\n",
    "mean_MAE_rf_4h = 0\n",
    "mean_MAE_naif_4h = 0\n",
    "\n",
    "# Parcourir le dictionnaire des résultats pour calculer la moyenne des indicateurs\n",
    "for key, item in resultats_4h.items():\n",
    "    mean_capacity_4h += resultats_4h[key][9]\n",
    "    mean_std_occupation_4h += resultats_4h[key][15]\n",
    "    mean_MAE_lr_4h += resultats_4h[key][4]\n",
    "    mean_MAE_rf_4h += resultats_4h[key][6]\n",
    "    mean_MAE_naif_4h += resultats_4h[key][8]\n",
    "\n",
    "# On divise par le nombre total de stations tests pour obtenir la moyenne\n",
    "mean_capacity_4h = round(mean_capacity_4h/len(resultats_4h),2)\n",
    "mean_std_occupation_4h = round(mean_std_occupation_4h/len(resultats_4h),2)\n",
    "mean_MAE_lr_4h = round(mean_MAE_lr_4h/len(resultats_4h),2)\n",
    "mean_MAE_rf_4h = round(mean_MAE_rf_4h/len(resultats_4h),2)\n",
    "mean_MAE_naif_4h = round(mean_MAE_naif_4h/len(resultats_4h),2)\n",
    "\n",
    "# Visualisation des performances avec Prettytable\n",
    "ptbl.add_row([mean_capacity_4h, mean_std_occupation_4h, mean_MAE_lr_4h, mean_MAE_rf_4h, mean_MAE_naif_4h])\n",
    "print(ptbl)"
   ]
  },
  {
   "source": [
    "# Résultats 5h"
   ],
   "cell_type": "markdown",
   "metadata": {}
  },
  {
   "cell_type": "code",
   "execution_count": 210,
   "metadata": {},
   "outputs": [
    {
     "output_type": "stream",
     "name": "stdout",
     "text": [
      "+----------------+-----------------------+----------------------+-------------+-------------+----------------------------+\n| Station target | Mean(Occupation) - 5h | Std(Occupation) - 5h | MAE LR - 5h | MAE RF - 5h | MAE méthode intuitive - 5h |\n+----------------+-----------------------+----------------------+-------------+-------------+----------------------------+\n|   station_0    |          3.75         |         2.22         |     5.06    |     4.33    |            4.0             |\n|   station_1    |         40.75         |         7.59         |    16.52    |     15.1    |            20.0            |\n|   station_2    |          3.5          |         2.52         |     3.32    |     3.61    |            2.75            |\n|   station_3    |          8.0          |         3.56         |     4.7     |     4.56    |            3.5             |\n|   station_4    |          21.5         |         6.95         |     7.75    |     5.75    |            7.5             |\n|   station_5    |         40.25         |         3.77         |    18.75    |    13.77    |            9.0             |\n|   station_6    |         18.75         |         9.98         |     5.99    |     4.4     |            5.0             |\n|   station_7    |          8.0          |         2.94         |     9.54    |     8.42    |           10.75            |\n|   station_8    |          11.5         |         2.38         |     4.54    |     2.2     |           14.75            |\n|   station_9    |          22.5         |         3.0          |    14.76    |    17.22    |            27.0            |\n+----------------+-----------------------+----------------------+-------------+-------------+----------------------------+\n"
     ]
    }
   ],
   "source": [
    "# Pour chaque station, on garde le numéro de la station dans le dataframe df_velib, les modèle lr et rf\n",
    "resultats_5h = {}\n",
    "# Préparation de la visualisation des résultats :\n",
    "ptbl = PrettyTable()\n",
    "ptbl.field_names = [\"Station target\", \"Mean(Occupation) - 5h\", \"Std(Occupation) - 5h\", \"MAE LR - 5h\", \"MAE RF - 5h\", \"MAE méthode intuitive - 5h\"]\n",
    "\n",
    "# Dataframe pour la Régression Linéaire et le Random Forest\n",
    "for num_station in range(len(stations_tests)):\n",
    "    \n",
    "    # Préparation du sous_df pour le ML pour 5h\n",
    "    df_1h = sous_df_1h(df_h,5)\n",
    "    df_ml = sous_df_ml(df_1h, num_station)\n",
    "\n",
    "\n",
    "    # Machine Learning\n",
    "    stations_features = [i for i in df_ml.columns if i != 'y']\n",
    "    X = df_ml[stations_features]\n",
    "    # Préparation de la target\n",
    "    y = df_ml['y']\n",
    "    # Séparation en données de test et d'entrainement\n",
    "    X_train, X_test, y_train, y_test = train_test_split(X, y, test_size=0.3, shuffle = False)\n",
    "    \n",
    "    # 1- Régression linéaire\n",
    "    lr = LinearRegression()\n",
    "    lr.fit(X_train, y_train)\n",
    "    y_prediction_lr = lr.predict(X_test)\n",
    "    MAE_lr = round(mean_absolute_error(y_test, y_prediction_lr),2)\n",
    "\n",
    "    # 2- Random Forest\n",
    "    rf = RandomForestRegressor(max_depth = 30, min_samples_split = 7, n_estimators = 600)\n",
    "    rf.fit(X_train, y_train)\n",
    "    y_prediction_rf = rf.predict(X_test)\n",
    "    MAE_rf = round(mean_absolute_error(y_test, y_prediction_rf),2)\n",
    "\n",
    "    # 3- Méthode naïve ou bien \"intuitive\" c'est-à-dire prédire que ce qui se passe 1 jour plus tard est exactement la même chose que la            veille\n",
    "    df_naif = X_test.copy()\n",
    "    #MAE_naif = round(abs(X_test[i]-y_test).mean() , 2)\n",
    "    MAE_naif = round(mean_absolute_error(X_test[num_station], y_test),2)\n",
    "\n",
    "    # Capacité moyenne de la station sur la période observée\n",
    "    occupation_moyenne = round(X_test[num_station].mean(),2)\n",
    "    # Variance de la capacité sur la période observée\n",
    "    variance_occupation = round(X_test[num_station].std(),2)\n",
    "\n",
    "    # Mise en forme des résultats\n",
    "    y_test = pd.DataFrame(y_test)\n",
    "    index = y_test.index\n",
    "    # Renommer pour plus de clarté\n",
    "    y_prediction_lr = pd.DataFrame(y_prediction_lr, index = index)\n",
    "    y_prediction_rf = pd.DataFrame(y_prediction_rf, index = index)\n",
    "    y_naif = pd.DataFrame(X_test[num_station])\n",
    "    y_prediction_naif = y_test\n",
    "\n",
    "    # Stockage des résultats : numéro de la station, les modèles, et les MAE de chaque modèle\n",
    "    resultats_5h[stations_tests[num_station]] = [i, X, y, lr, MAE_lr, rf, MAE_rf, df_naif, MAE_naif, occupation_moyenne, y_test, y_prediction_lr, y_prediction_rf, y_naif, y_prediction_naif, variance_occupation]\n",
    "\n",
    "    # Visualisation des performances avec Prettytable\n",
    "    ptbl.add_row([stations_tests[num_station], occupation_moyenne, variance_occupation, MAE_lr, MAE_rf, MAE_naif])\n",
    "    \n",
    "print(ptbl)"
   ]
  },
  {
   "cell_type": "code",
   "execution_count": 211,
   "metadata": {},
   "outputs": [
    {
     "output_type": "stream",
     "name": "stdout",
     "text": [
      "+-----------------------+----------------------------+---------------------+---------------------+--------------------------------+\n| Mean(Occupation) / 5h | Mean(Std(Occupation)) / 5h | Moyenne MAE LR / 5h | Moyenne MAE RF / 5h | Moyenne MAE méthode naïve / 5h |\n+-----------------------+----------------------------+---------------------+---------------------+--------------------------------+\n|         17.85         |            4.49            |         9.09        |         7.94        |             10.42              |\n+-----------------------+----------------------------+---------------------+---------------------+--------------------------------+\n"
     ]
    }
   ],
   "source": [
    "ptbl = PrettyTable()\n",
    "ptbl.field_names = [\"Mean(Occupation) / 5h\", \"Mean(Std(Occupation)) / 5h\", \"Moyenne MAE LR / 5h\", \"Moyenne MAE RF / 5h\", \"Moyenne MAE méthode naïve / 5h\"]\n",
    "mean_capacity_5h = 0\n",
    "mean_std_occupation_5h = 0\n",
    "mean_MAE_lr_5h = 0\n",
    "mean_MAE_rf_5h = 0\n",
    "mean_MAE_naif_5h = 0\n",
    "\n",
    "# Parcourir le dictionnaire des résultats pour calculer la moyenne des indicateurs\n",
    "for key, item in resultats_5h.items():\n",
    "    mean_capacity_5h += resultats_5h[key][9]\n",
    "    mean_std_occupation_5h += resultats_5h[key][15]\n",
    "    mean_MAE_lr_5h += resultats_5h[key][4]\n",
    "    mean_MAE_rf_5h += resultats_5h[key][6]\n",
    "    mean_MAE_naif_5h += resultats_5h[key][8]\n",
    "\n",
    "# On divise par le nombre total de stations tests pour obtenir la moyenne\n",
    "mean_capacity_5h = round(mean_capacity_5h/len(resultats_5h),2)\n",
    "mean_std_occupation_5h = round(mean_std_occupation_5h/len(resultats_5h),2)\n",
    "mean_MAE_lr_5h = round(mean_MAE_lr_5h/len(resultats_5h),2)\n",
    "mean_MAE_rf_5h = round(mean_MAE_rf_5h/len(resultats_5h),2)\n",
    "mean_MAE_naif_5h = round(mean_MAE_naif_5h/len(resultats_5h),2)\n",
    "\n",
    "# Visualisation des performances avec Prettytable\n",
    "ptbl.add_row([mean_capacity_5h, mean_std_occupation_5h, mean_MAE_lr_5h, mean_MAE_rf_5h, mean_MAE_naif_5h])\n",
    "print(ptbl)"
   ]
  },
  {
   "source": [
    "# Résultats à 6h"
   ],
   "cell_type": "markdown",
   "metadata": {}
  },
  {
   "cell_type": "code",
   "execution_count": 212,
   "metadata": {},
   "outputs": [
    {
     "output_type": "stream",
     "name": "stdout",
     "text": [
      "+----------------+-----------------------+----------------------+-------------+-------------+----------------------------+\n| Station target | Mean(Occupation) - 6h | Std(Occupation) - 6h | MAE LR - 6h | MAE RF - 6h | MAE méthode intuitive - 6h |\n+----------------+-----------------------+----------------------+-------------+-------------+----------------------------+\n|   station_0    |          3.75         |         2.63         |     4.52    |     4.59    |            2.25            |\n|   station_1    |          39.0         |         4.69         |     6.99    |     7.07    |           11.25            |\n|   station_2    |          4.0          |         2.58         |     3.93    |     3.84    |            4.0             |\n|   station_3    |          9.5          |         1.29         |     4.57    |     4.54    |            4.25            |\n|   station_4    |          21.0         |         6.38         |     3.35    |     5.16    |            9.75            |\n|   station_5    |         40.75         |         4.35         |     9.94    |     7.49    |            14.5            |\n|   station_6    |          18.5         |        10.15         |     5.41    |     6.07    |            13.0            |\n|   station_7    |         10.25         |         2.36         |     5.14    |     3.77    |            5.25            |\n|   station_8    |          10.5         |         2.38         |     6.19    |     6.59    |            9.25            |\n|   station_9    |          25.0         |         6.16         |     7.84    |     7.48    |           15.25            |\n+----------------+-----------------------+----------------------+-------------+-------------+----------------------------+\n"
     ]
    }
   ],
   "source": [
    "# Pour chaque station, on garde le numéro de la station dans le dataframe df_velib, les modèle lr et rf\n",
    "resultats_6h = {}\n",
    "# Préparation de la visualisation des résultats :\n",
    "ptbl = PrettyTable()\n",
    "ptbl.field_names = [\"Station target\", \"Mean(Occupation) - 6h\", \"Std(Occupation) - 6h\", \"MAE LR - 6h\", \"MAE RF - 6h\", \"MAE méthode intuitive - 6h\"]\n",
    "\n",
    "# Dataframe pour la Régression Linéaire et le Random Forest\n",
    "for num_station in range(len(stations_tests)):\n",
    "    \n",
    "    # Préparation du sous_df pour le ML pour 6h\n",
    "    df_1h = sous_df_1h(df_h,6)\n",
    "    df_ml = sous_df_ml(df_1h, num_station)\n",
    "\n",
    "\n",
    "    # Machine Learning\n",
    "    stations_features = [i for i in df_ml.columns if i != 'y']\n",
    "    X = df_ml[stations_features]\n",
    "    # Préparation de la target\n",
    "    y = df_ml['y']\n",
    "    # Séparation en données de test et d'entrainement\n",
    "    X_train, X_test, y_train, y_test = train_test_split(X, y, test_size=0.3, shuffle = False)\n",
    "    \n",
    "    # 1- Régression linéaire\n",
    "    lr = LinearRegression()\n",
    "    lr.fit(X_train, y_train)\n",
    "    y_prediction_lr = lr.predict(X_test)\n",
    "    MAE_lr = round(mean_absolute_error(y_test, y_prediction_lr),2)\n",
    "\n",
    "    # 2- Random Forest\n",
    "    rf = RandomForestRegressor(max_depth = 30, min_samples_split = 7, n_estimators = 600)\n",
    "    rf.fit(X_train, y_train)\n",
    "    y_prediction_rf = rf.predict(X_test)\n",
    "    MAE_rf = round(mean_absolute_error(y_test, y_prediction_rf),2)\n",
    "\n",
    "    # 3- Méthode naïve ou bien \"intuitive\" c'est-à-dire prédire que ce qui se passe 1 jour plus tard est exactement la même chose que la            veille\n",
    "    df_naif = X_test.copy()\n",
    "    #MAE_naif = round(abs(X_test[i]-y_test).mean() , 2)\n",
    "    MAE_naif = round(mean_absolute_error(X_test[num_station], y_test),2)\n",
    "\n",
    "    # Capacité moyenne de la station sur la période observée\n",
    "    occupation_moyenne = round(X_test[num_station].mean(),2)\n",
    "    # Variance de la capacité sur la période observée\n",
    "    variance_occupation = round(X_test[num_station].std(),2)\n",
    "\n",
    "    # Mise en forme des résultats\n",
    "    y_test = pd.DataFrame(y_test)\n",
    "    index = y_test.index\n",
    "    # Renommer pour plus de clarté\n",
    "    y_prediction_lr = pd.DataFrame(y_prediction_lr, index = index)\n",
    "    y_prediction_rf = pd.DataFrame(y_prediction_rf, index = index)\n",
    "    y_naif = pd.DataFrame(X_test[num_station])\n",
    "    y_prediction_naif = y_test\n",
    "\n",
    "    # Stockage des résultats : numéro de la station, les modèles, et les MAE de chaque modèle\n",
    "    resultats_6h[stations_tests[num_station]] = [i, X, y, lr, MAE_lr, rf, MAE_rf, df_naif, MAE_naif, occupation_moyenne, y_test, y_prediction_lr, y_prediction_rf, y_naif, y_prediction_naif, variance_occupation]\n",
    "\n",
    "    # Visualisation des performances avec Prettytable\n",
    "    ptbl.add_row([stations_tests[num_station], occupation_moyenne, variance_occupation, MAE_lr, MAE_rf, MAE_naif])\n",
    "    \n",
    "print(ptbl)"
   ]
  },
  {
   "cell_type": "code",
   "execution_count": 213,
   "metadata": {},
   "outputs": [
    {
     "output_type": "stream",
     "name": "stdout",
     "text": [
      "+-----------------------+----------------------------+---------------------+---------------------+--------------------------------+\n| Mean(Occupation) / 6h | Mean(Std(Occupation)) / 6h | Moyenne MAE LR / 6h | Moyenne MAE RF / 6h | Moyenne MAE méthode naïve / 6h |\n+-----------------------+----------------------------+---------------------+---------------------+--------------------------------+\n|         18.23         |            4.3             |         5.79        |         5.66        |              8.88              |\n+-----------------------+----------------------------+---------------------+---------------------+--------------------------------+\n"
     ]
    }
   ],
   "source": [
    "ptbl = PrettyTable()\n",
    "ptbl.field_names = [\"Mean(Occupation) / 6h\", \"Mean(Std(Occupation)) / 6h\", \"Moyenne MAE LR / 6h\", \"Moyenne MAE RF / 6h\", \"Moyenne MAE méthode naïve / 6h\"]\n",
    "mean_capacity_6h = 0\n",
    "mean_std_occupation_6h = 0\n",
    "mean_MAE_lr_6h = 0\n",
    "mean_MAE_rf_6h = 0\n",
    "mean_MAE_naif_6h = 0\n",
    "\n",
    "# Parcourir le dictionnaire des résultats pour calculer la moyenne des indicateurs\n",
    "for key, item in resultats_6h.items():\n",
    "    mean_capacity_6h += resultats_6h[key][9]\n",
    "    mean_std_occupation_6h += resultats_6h[key][15]\n",
    "    mean_MAE_lr_6h += resultats_6h[key][4]\n",
    "    mean_MAE_rf_6h += resultats_6h[key][6]\n",
    "    mean_MAE_naif_6h += resultats_6h[key][8]\n",
    "\n",
    "# On divise par le nombre total de stations tests pour obtenir la moyenne\n",
    "mean_capacity_6h = round(mean_capacity_6h/len(resultats_6h),2)\n",
    "mean_std_occupation_6h = round(mean_std_occupation_6h/len(resultats_6h),2)\n",
    "mean_MAE_lr_6h = round(mean_MAE_lr_6h/len(resultats_6h),2)\n",
    "mean_MAE_rf_6h = round(mean_MAE_rf_6h/len(resultats_6h),2)\n",
    "mean_MAE_naif_6h = round(mean_MAE_naif_6h/len(resultats_6h),2)\n",
    "\n",
    "# Visualisation des performances avec Prettytable\n",
    "ptbl.add_row([mean_capacity_6h, mean_std_occupation_6h, mean_MAE_lr_6h, mean_MAE_rf_6h, mean_MAE_naif_6h])\n",
    "print(ptbl)"
   ]
  },
  {
   "source": [
    "# Résultats à 7h"
   ],
   "cell_type": "markdown",
   "metadata": {}
  },
  {
   "cell_type": "code",
   "execution_count": 214,
   "metadata": {},
   "outputs": [
    {
     "output_type": "stream",
     "name": "stdout",
     "text": [
      "+----------------+-----------------------+----------------------+-------------+-------------+----------------------------+\n| Station target | Mean(Occupation) - 7h | Std(Occupation) - 7h | MAE LR - 7h | MAE RF - 7h | MAE méthode intuitive - 7h |\n+----------------+-----------------------+----------------------+-------------+-------------+----------------------------+\n|   station_0    |          5.6          |         1.52         |     4.03    |     4.01    |            4.8             |\n|   station_1    |          32.2         |        18.19         |    14.94    |    11.29    |            14.8            |\n|   station_2    |          3.8          |         1.64         |     2.42    |     2.3     |            2.6             |\n|   station_3    |          5.2          |         3.27         |     3.96    |     4.13    |            4.0             |\n|   station_4    |          19.8         |         7.63         |     5.32    |     6.03    |            6.4             |\n|   station_5    |          38.4         |         7.27         |    11.74    |    11.19    |            11.2            |\n|   station_6    |          19.0         |         7.38         |     4.52    |     5.26    |            4.6             |\n|   station_7    |          11.0         |         3.54         |     7.04    |     7.07    |            8.8             |\n|   station_8    |          9.4          |         2.61         |     4.04    |     3.22    |            13.8            |\n|   station_9    |          31.6         |         7.89         |    13.07    |    12.82    |            14.4            |\n+----------------+-----------------------+----------------------+-------------+-------------+----------------------------+\n"
     ]
    }
   ],
   "source": [
    "# Pour chaque station, on garde le numéro de la station dans le dataframe df_velib, les modèle lr et rf\n",
    "resultats_7h = {}\n",
    "# Préparation de la visualisation des résultats :\n",
    "ptbl = PrettyTable()\n",
    "ptbl.field_names = [\"Station target\", \"Mean(Occupation) - 7h\", \"Std(Occupation) - 7h\", \"MAE LR - 7h\", \"MAE RF - 7h\", \"MAE méthode intuitive - 7h\"]\n",
    "\n",
    "# Dataframe pour la Régression Linéaire et le Random Forest\n",
    "for num_station in range(len(stations_tests)):\n",
    "    \n",
    "    # Préparation du sous_df pour le ML pour 7h\n",
    "    df_1h = sous_df_1h(df_h,7)\n",
    "    df_ml = sous_df_ml(df_1h, num_station)\n",
    "\n",
    "\n",
    "    # Machine Learning\n",
    "    stations_features = [i for i in df_ml.columns if i != 'y']\n",
    "    X = df_ml[stations_features]\n",
    "    # Préparation de la target\n",
    "    y = df_ml['y']\n",
    "    # Séparation en données de test et d'entrainement\n",
    "    X_train, X_test, y_train, y_test = train_test_split(X, y, test_size=0.3, shuffle = False)\n",
    "    \n",
    "    # 1- Régression linéaire\n",
    "    lr = LinearRegression()\n",
    "    lr.fit(X_train, y_train)\n",
    "    y_prediction_lr = lr.predict(X_test)\n",
    "    MAE_lr = round(mean_absolute_error(y_test, y_prediction_lr),2)\n",
    "\n",
    "    # 2- Random Forest\n",
    "    rf = RandomForestRegressor(max_depth = 30, min_samples_split = 7, n_estimators = 600)\n",
    "    rf.fit(X_train, y_train)\n",
    "    y_prediction_rf = rf.predict(X_test)\n",
    "    MAE_rf = round(mean_absolute_error(y_test, y_prediction_rf),2)\n",
    "\n",
    "    # 3- Méthode naïve ou bien \"intuitive\" c'est-à-dire prédire que ce qui se passe 1 jour plus tard est exactement la même chose que la            veille\n",
    "    df_naif = X_test.copy()\n",
    "    #MAE_naif = round(abs(X_test[i]-y_test).mean() , 2)\n",
    "    MAE_naif = round(mean_absolute_error(X_test[num_station], y_test),2)\n",
    "\n",
    "    # Capacité moyenne de la station sur la période observée\n",
    "    occupation_moyenne = round(X_test[num_station].mean(),2)\n",
    "    # Variance de la capacité sur la période observée\n",
    "    variance_occupation = round(X_test[num_station].std(),2)\n",
    "\n",
    "    # Mise en forme des résultats\n",
    "    y_test = pd.DataFrame(y_test)\n",
    "    index = y_test.index\n",
    "    # Renommer pour plus de clarté\n",
    "    y_prediction_lr = pd.DataFrame(y_prediction_lr, index = index)\n",
    "    y_prediction_rf = pd.DataFrame(y_prediction_rf, index = index)\n",
    "    y_naif = pd.DataFrame(X_test[num_station])\n",
    "    y_prediction_naif = y_test\n",
    "\n",
    "    # Stockage des résultats : numéro de la station, les modèles, et les MAE de chaque modèle\n",
    "    resultats_7h[stations_tests[num_station]] = [i, X, y, lr, MAE_lr, rf, MAE_rf, df_naif, MAE_naif, occupation_moyenne, y_test, y_prediction_lr, y_prediction_rf, y_naif, y_prediction_naif, variance_occupation]\n",
    "\n",
    "    # Visualisation des performances avec Prettytable\n",
    "    ptbl.add_row([stations_tests[num_station], occupation_moyenne, variance_occupation, MAE_lr, MAE_rf, MAE_naif])\n",
    "    \n",
    "print(ptbl)"
   ]
  },
  {
   "cell_type": "code",
   "execution_count": 215,
   "metadata": {},
   "outputs": [
    {
     "output_type": "stream",
     "name": "stdout",
     "text": [
      "+-----------------------+----------------------------+---------------------+---------------------+--------------------------------+\n| Mean(Occupation) / 7h | Mean(Std(Occupation)) / 7h | Moyenne MAE LR / 7h | Moyenne MAE RF / 7h | Moyenne MAE méthode naïve / 7h |\n+-----------------------+----------------------------+---------------------+---------------------+--------------------------------+\n|          17.6         |            6.09            |         7.11        |         6.73        |              8.54              |\n+-----------------------+----------------------------+---------------------+---------------------+--------------------------------+\n"
     ]
    }
   ],
   "source": [
    "ptbl = PrettyTable()\n",
    "ptbl.field_names = [\"Mean(Occupation) / 7h\", \"Mean(Std(Occupation)) / 7h\", \"Moyenne MAE LR / 7h\", \"Moyenne MAE RF / 7h\", \"Moyenne MAE méthode naïve / 7h\"]\n",
    "mean_capacity_7h = 0\n",
    "mean_std_occupation_7h = 0\n",
    "mean_MAE_lr_7h = 0\n",
    "mean_MAE_rf_7h = 0\n",
    "mean_MAE_naif_7h = 0\n",
    "\n",
    "# Parcourir le dictionnaire des résultats pour calculer la moyenne des indicateurs\n",
    "for key, item in resultats_7h.items():\n",
    "    mean_capacity_7h += resultats_7h[key][9]\n",
    "    mean_std_occupation_7h += resultats_7h[key][15]\n",
    "    mean_MAE_lr_7h += resultats_7h[key][4]\n",
    "    mean_MAE_rf_7h += resultats_7h[key][6]\n",
    "    mean_MAE_naif_7h += resultats_7h[key][8]\n",
    "\n",
    "# On divise par le nombre total de stations tests pour obtenir la moyenne\n",
    "mean_capacity_7h = round(mean_capacity_7h/len(resultats_7h),2)\n",
    "mean_std_occupation_7h = round(mean_std_occupation_7h/len(resultats_7h),2)\n",
    "mean_MAE_lr_7h = round(mean_MAE_lr_7h/len(resultats_7h),2)\n",
    "mean_MAE_rf_7h = round(mean_MAE_rf_7h/len(resultats_7h),2)\n",
    "mean_MAE_naif_7h = round(mean_MAE_naif_7h/len(resultats_7h),2)\n",
    "\n",
    "# Visualisation des performances avec Prettytable\n",
    "ptbl.add_row([mean_capacity_7h, mean_std_occupation_7h, mean_MAE_lr_7h, mean_MAE_rf_7h, mean_MAE_naif_7h])\n",
    "print(ptbl)"
   ]
  },
  {
   "source": [
    "# Résultats à 8h"
   ],
   "cell_type": "markdown",
   "metadata": {}
  },
  {
   "cell_type": "code",
   "execution_count": 216,
   "metadata": {},
   "outputs": [
    {
     "output_type": "stream",
     "name": "stdout",
     "text": [
      "+----------------+-----------------------+----------------------+-------------+-------------+----------------------------+\n| Station target | Mean(Occupation) - 8h | Std(Occupation) - 8h | MAE LR - 8h | MAE RF - 8h | MAE méthode intuitive - 8h |\n+----------------+-----------------------+----------------------+-------------+-------------+----------------------------+\n|   station_0    |          4.2          |         2.77         |     4.0     |     3.38    |            2.8             |\n|   station_1    |          38.2         |        10.31         |    18.18    |     15.1    |            17.6            |\n|   station_2    |          4.0          |         1.58         |     2.34    |     1.91    |            3.2             |\n|   station_3    |          4.6          |         2.88         |     3.16    |     3.45    |            3.8             |\n|   station_4    |          15.6         |        10.01         |     6.98    |     7.61    |            4.4             |\n|   station_5    |          38.2         |         6.61         |    15.04    |    13.26    |            8.4             |\n|   station_6    |          18.6         |         6.58         |     5.78    |     3.4     |            7.0             |\n|   station_7    |          6.8          |         1.92         |     9.12    |     8.44    |            8.4             |\n|   station_8    |          9.2          |         4.09         |     6.58    |     4.58    |            12.6            |\n|   station_9    |          25.0         |         8.92         |    13.54    |    15.76    |            18.8            |\n+----------------+-----------------------+----------------------+-------------+-------------+----------------------------+\n"
     ]
    }
   ],
   "source": [
    "# Pour chaque station, on garde le numéro de la station dans le dataframe df_velib, les modèle lr et rf\n",
    "resultats_8h = {}\n",
    "# Préparation de la visualisation des résultats :\n",
    "ptbl = PrettyTable()\n",
    "ptbl.field_names = [\"Station target\", \"Mean(Occupation) - 8h\", \"Std(Occupation) - 8h\", \"MAE LR - 8h\", \"MAE RF - 8h\", \"MAE méthode intuitive - 8h\"]\n",
    "\n",
    "# Dataframe pour la Régression Linéaire et le Random Forest\n",
    "for num_station in range(len(stations_tests)):\n",
    "    \n",
    "    # Préparation du sous_df pour le ML pour 8h\n",
    "    df_1h = sous_df_1h(df_h,8)\n",
    "    df_ml = sous_df_ml(df_1h, num_station)\n",
    "\n",
    "\n",
    "    # Machine Learning\n",
    "    stations_features = [i for i in df_ml.columns if i != 'y']\n",
    "    X = df_ml[stations_features]\n",
    "    # Préparation de la target\n",
    "    y = df_ml['y']\n",
    "    # Séparation en données de test et d'entrainement\n",
    "    X_train, X_test, y_train, y_test = train_test_split(X, y, test_size=0.3, shuffle = False)\n",
    "    \n",
    "    # 1- Régression linéaire\n",
    "    lr = LinearRegression()\n",
    "    lr.fit(X_train, y_train)\n",
    "    y_prediction_lr = lr.predict(X_test)\n",
    "    MAE_lr = round(mean_absolute_error(y_test, y_prediction_lr),2)\n",
    "\n",
    "    # 2- Random Forest\n",
    "    rf = RandomForestRegressor(max_depth = 30, min_samples_split = 7, n_estimators = 600)\n",
    "    rf.fit(X_train, y_train)\n",
    "    y_prediction_rf = rf.predict(X_test)\n",
    "    MAE_rf = round(mean_absolute_error(y_test, y_prediction_rf),2)\n",
    "\n",
    "    # 3- Méthode naïve ou bien \"intuitive\" c'est-à-dire prédire que ce qui se passe 1 jour plus tard est exactement la même chose que la            veille\n",
    "    df_naif = X_test.copy()\n",
    "    #MAE_naif = round(abs(X_test[i]-y_test).mean() , 2)\n",
    "    MAE_naif = round(mean_absolute_error(X_test[num_station], y_test),2)\n",
    "\n",
    "    # Capacité moyenne de la station sur la période observée\n",
    "    occupation_moyenne = round(X_test[num_station].mean(),2)\n",
    "    # Variance de la capacité sur la période observée\n",
    "    variance_occupation = round(X_test[num_station].std(),2)\n",
    "\n",
    "    # Mise en forme des résultats\n",
    "    y_test = pd.DataFrame(y_test)\n",
    "    index = y_test.index\n",
    "    # Renommer pour plus de clarté\n",
    "    y_prediction_lr = pd.DataFrame(y_prediction_lr, index = index)\n",
    "    y_prediction_rf = pd.DataFrame(y_prediction_rf, index = index)\n",
    "    y_naif = pd.DataFrame(X_test[num_station])\n",
    "    y_prediction_naif = y_test\n",
    "\n",
    "    # Stockage des résultats : numéro de la station, les modèles, et les MAE de chaque modèle\n",
    "    resultats_8h[stations_tests[num_station]] = [i, X, y, lr, MAE_lr, rf, MAE_rf, df_naif, MAE_naif, occupation_moyenne, y_test, y_prediction_lr, y_prediction_rf, y_naif, y_prediction_naif, variance_occupation]\n",
    "\n",
    "    # Visualisation des performances avec Prettytable\n",
    "    ptbl.add_row([stations_tests[num_station], occupation_moyenne, variance_occupation, MAE_lr, MAE_rf, MAE_naif])\n",
    "    \n",
    "print(ptbl)"
   ]
  },
  {
   "cell_type": "code",
   "execution_count": 217,
   "metadata": {},
   "outputs": [
    {
     "output_type": "stream",
     "name": "stdout",
     "text": [
      "+-----------------------+----------------------------+---------------------+---------------------+--------------------------------+\n| Mean(Occupation) / 8h | Mean(Std(Occupation)) / 9h | Moyenne MAE LR / 8h | Moyenne MAE RF / 8h | Moyenne MAE méthode naïve / 8h |\n+-----------------------+----------------------------+---------------------+---------------------+--------------------------------+\n|         16.44         |            5.57            |         8.47        |         7.69        |              8.7               |\n+-----------------------+----------------------------+---------------------+---------------------+--------------------------------+\n"
     ]
    }
   ],
   "source": [
    "ptbl = PrettyTable()\n",
    "ptbl.field_names = [\"Mean(Occupation) / 8h\", \"Mean(Std(Occupation)) / 9h\", \"Moyenne MAE LR / 8h\", \"Moyenne MAE RF / 8h\", \"Moyenne MAE méthode naïve / 8h\"]\n",
    "mean_capacity_8h = 0\n",
    "mean_std_occupation_8h = 0\n",
    "mean_MAE_lr_8h = 0\n",
    "mean_MAE_rf_8h = 0\n",
    "mean_MAE_naif_8h = 0\n",
    "\n",
    "# Parcourir le dictionnaire des résultats pour calculer la moyenne des indicateurs\n",
    "for key, item in resultats_8h.items():\n",
    "    mean_capacity_8h += resultats_8h[key][9]\n",
    "    mean_std_occupation_8h += resultats_8h[key][15]\n",
    "    mean_MAE_lr_8h += resultats_8h[key][4]\n",
    "    mean_MAE_rf_8h += resultats_8h[key][6]\n",
    "    mean_MAE_naif_8h += resultats_8h[key][8]\n",
    "\n",
    "# On divise par le nombre total de stations tests pour obtenir la moyenne\n",
    "mean_capacity_8h = round(mean_capacity_8h/len(resultats_8h),2)\n",
    "mean_std_occupation_8h = round(mean_std_occupation_8h/len(resultats_8h),2)\n",
    "mean_MAE_lr_8h = round(mean_MAE_lr_8h/len(resultats_8h),2)\n",
    "mean_MAE_rf_8h = round(mean_MAE_rf_8h/len(resultats_8h),2)\n",
    "mean_MAE_naif_8h = round(mean_MAE_naif_8h/len(resultats_8h),2)\n",
    "\n",
    "# Visualisation des performances avec Prettytable\n",
    "ptbl.add_row([mean_capacity_8h, mean_std_occupation_8h, mean_MAE_lr_8h, mean_MAE_rf_8h, mean_MAE_naif_8h])\n",
    "print(ptbl)"
   ]
  },
  {
   "source": [
    "# Résultats à 9h"
   ],
   "cell_type": "markdown",
   "metadata": {}
  },
  {
   "cell_type": "code",
   "execution_count": 218,
   "metadata": {},
   "outputs": [
    {
     "output_type": "stream",
     "name": "stdout",
     "text": [
      "+----------------+-----------------------+----------------------+-------------+-------------+----------------------------+\n| Station target | Mean(Occupation) - 9h | Std(Occupation) - 9h | MAE LR - 9h | MAE RF - 9h | MAE méthode intuitive - 9h |\n+----------------+-----------------------+----------------------+-------------+-------------+----------------------------+\n|   station_0    |          4.4          |         1.52         |     3.96    |     3.65    |            3.4             |\n|   station_1    |          35.2         |        15.12         |    14.19    |     9.53    |            13.2            |\n|   station_2    |          4.2          |         3.11         |     3.59    |     3.96    |            3.2             |\n|   station_3    |          1.6          |         1.52         |     2.07    |     1.56    |            2.2             |\n|   station_4    |          14.8         |        11.56         |     6.53    |     6.74    |            9.8             |\n|   station_5    |          36.8         |         7.26         |    16.81    |    14.55    |            12.6            |\n|   station_6    |          17.8         |         6.26         |     6.62    |     5.72    |            11.2            |\n|   station_7    |          7.4          |         2.97         |     6.48    |     7.14    |            7.8             |\n|   station_8    |          6.4          |         4.39         |     4.53    |     4.24    |            14.8            |\n|   station_9    |          25.2         |         8.67         |    14.36    |    15.01    |            16.8            |\n+----------------+-----------------------+----------------------+-------------+-------------+----------------------------+\n"
     ]
    }
   ],
   "source": [
    "# Pour chaque station, on garde le numéro de la station dans le dataframe df_velib, les modèle lr et rf\n",
    "resultats_9h = {}\n",
    "# Préparation de la visualisation des résultats :\n",
    "ptbl = PrettyTable()\n",
    "ptbl.field_names = [\"Station target\", \"Mean(Occupation) - 9h\", \"Std(Occupation) - 9h\", \"MAE LR - 9h\", \"MAE RF - 9h\", \"MAE méthode intuitive - 9h\"]\n",
    "\n",
    "# Dataframe pour la Régression Linéaire et le Random Forest\n",
    "for num_station in range(len(stations_tests)):\n",
    "    \n",
    "    # Préparation du sous_df pour le ML pour 9h\n",
    "    df_1h = sous_df_1h(df_h,9)\n",
    "    df_ml = sous_df_ml(df_1h, num_station)\n",
    "\n",
    "\n",
    "    # Machine Learning\n",
    "    stations_features = [i for i in df_ml.columns if i != 'y']\n",
    "    X = df_ml[stations_features]\n",
    "    # Préparation de la target\n",
    "    y = df_ml['y']\n",
    "    # Séparation en données de test et d'entrainement\n",
    "    X_train, X_test, y_train, y_test = train_test_split(X, y, test_size=0.3, shuffle = False)\n",
    "    \n",
    "    # 1- Régression linéaire\n",
    "    lr = LinearRegression()\n",
    "    lr.fit(X_train, y_train)\n",
    "    y_prediction_lr = lr.predict(X_test)\n",
    "    MAE_lr = round(mean_absolute_error(y_test, y_prediction_lr),2)\n",
    "\n",
    "    # 2- Random Forest\n",
    "    rf = RandomForestRegressor(max_depth = 30, min_samples_split = 7, n_estimators = 600)\n",
    "    rf.fit(X_train, y_train)\n",
    "    y_prediction_rf = rf.predict(X_test)\n",
    "    MAE_rf = round(mean_absolute_error(y_test, y_prediction_rf),2)\n",
    "\n",
    "    # 3- Méthode naïve ou bien \"intuitive\" c'est-à-dire prédire que ce qui se passe 1 jour plus tard est exactement la même chose que la            veille\n",
    "    df_naif = X_test.copy()\n",
    "    #MAE_naif = round(abs(X_test[i]-y_test).mean() , 2)\n",
    "    MAE_naif = round(mean_absolute_error(X_test[num_station], y_test),2)\n",
    "\n",
    "    # Capacité moyenne de la station sur la période observée\n",
    "    occupation_moyenne = round(X_test[num_station].mean(),2)\n",
    "    # Variance de la capacité sur la période observée\n",
    "    variance_occupation = round(X_test[num_station].std(),2)\n",
    "\n",
    "    # Mise en forme des résultats\n",
    "    y_test = pd.DataFrame(y_test)\n",
    "    index = y_test.index\n",
    "    # Renommer pour plus de clarté\n",
    "    y_prediction_lr = pd.DataFrame(y_prediction_lr, index = index)\n",
    "    y_prediction_rf = pd.DataFrame(y_prediction_rf, index = index)\n",
    "    y_naif = pd.DataFrame(X_test[num_station])\n",
    "    y_prediction_naif = y_test\n",
    "\n",
    "    # Stockage des résultats : numéro de la station, les modèles, et les MAE de chaque modèle\n",
    "    resultats_9h[stations_tests[num_station]] = [i, X, y, lr, MAE_lr, rf, MAE_rf, df_naif, MAE_naif, occupation_moyenne, y_test, y_prediction_lr, y_prediction_rf, y_naif, y_prediction_naif, variance_occupation]\n",
    "\n",
    "    # Visualisation des performances avec Prettytable\n",
    "    ptbl.add_row([stations_tests[num_station], occupation_moyenne, variance_occupation, MAE_lr, MAE_rf, MAE_naif])\n",
    "    \n",
    "print(ptbl)"
   ]
  },
  {
   "cell_type": "code",
   "execution_count": 219,
   "metadata": {},
   "outputs": [
    {
     "output_type": "stream",
     "name": "stdout",
     "text": [
      "+-----------------------+----------------------------+---------------------+---------------------+--------------------------------+\n| Mean(Occupation) / 9h | Mean(Std(Occupation)) / 9h | Moyenne MAE LR / 9h | Moyenne MAE RF / 9h | Moyenne MAE méthode naïve / 9h |\n+-----------------------+----------------------------+---------------------+---------------------+--------------------------------+\n|         15.38         |            6.24            |         7.91        |         7.21        |              9.5               |\n+-----------------------+----------------------------+---------------------+---------------------+--------------------------------+\n"
     ]
    }
   ],
   "source": [
    "ptbl = PrettyTable()\n",
    "ptbl.field_names = [\"Mean(Occupation) / 9h\", \"Mean(Std(Occupation)) / 9h\", \"Moyenne MAE LR / 9h\", \"Moyenne MAE RF / 9h\", \"Moyenne MAE méthode naïve / 9h\"]\n",
    "mean_capacity_9h = 0\n",
    "mean_std_occupation_9h = 0\n",
    "mean_MAE_lr_9h = 0\n",
    "mean_MAE_rf_9h = 0\n",
    "mean_MAE_naif_9h = 0\n",
    "\n",
    "# Parcourir le dictionnaire des résultats pour calculer la moyenne des indicateurs\n",
    "for key, item in resultats_9h.items():\n",
    "    mean_capacity_9h += resultats_9h[key][9]\n",
    "    mean_std_occupation_9h += resultats_9h[key][15]\n",
    "    mean_MAE_lr_9h += resultats_9h[key][4]\n",
    "    mean_MAE_rf_9h += resultats_9h[key][6]\n",
    "    mean_MAE_naif_9h += resultats_9h[key][8]\n",
    "\n",
    "# On divise par le nombre total de stations tests pour obtenir la moyenne\n",
    "mean_capacity_9h = round(mean_capacity_9h/len(resultats_9h),2)\n",
    "mean_std_occupation_9h = round(mean_std_occupation_9h/len(resultats_9h),2)\n",
    "mean_MAE_lr_9h = round(mean_MAE_lr_9h/len(resultats_9h),2)\n",
    "mean_MAE_rf_9h = round(mean_MAE_rf_9h/len(resultats_9h),2)\n",
    "mean_MAE_naif_9h = round(mean_MAE_naif_9h/len(resultats_9h),2)\n",
    "\n",
    "# Visualisation des performances avec Prettytable\n",
    "ptbl.add_row([mean_capacity_9h, mean_std_occupation_9h, mean_MAE_lr_9h, mean_MAE_rf_9h, mean_MAE_naif_9h])\n",
    "print(ptbl)"
   ]
  },
  {
   "source": [
    "# Résultats à 10h"
   ],
   "cell_type": "markdown",
   "metadata": {}
  },
  {
   "cell_type": "code",
   "execution_count": 220,
   "metadata": {},
   "outputs": [
    {
     "output_type": "stream",
     "name": "stdout",
     "text": [
      "+----------------+------------------------+-----------------------+--------------+--------------+-----------------------------+\n| Station target | Mean(Occupation) - 10h | Std(Occupation) - 10h | MAE LR - 10h | MAE RF - 10h | MAE méthode intuitive - 10h |\n+----------------+------------------------+-----------------------+--------------+--------------+-----------------------------+\n|   station_0    |          3.25          |          0.5          |     4.31     |     3.01     |             3.75            |\n|   station_1    |          40.5          |          5.32         |    16.26     |    14.42     |            21.25            |\n|   station_2    |          3.5           |          3.7          |     3.61     |     3.33     |             5.25            |\n|   station_3    |          4.25          |          2.22         |     2.59     |     2.97     |             4.75            |\n|   station_4    |         10.75          |          12.2         |     7.21     |     6.77     |             15.0            |\n|   station_5    |          41.5          |          5.74         |    21.37     |    16.06     |             10.0            |\n|   station_6    |          10.5          |          5.74         |     6.44     |     6.43     |             5.0             |\n|   station_7    |          7.75          |          1.26         |     7.83     |     9.37     |            10.25            |\n|   station_8    |          8.0           |          2.45         |     9.81     |     6.89     |            16.25            |\n|   station_9    |          15.0          |          7.87         |    21.37     |    21.28     |            28.25            |\n+----------------+------------------------+-----------------------+--------------+--------------+-----------------------------+\n"
     ]
    }
   ],
   "source": [
    "# Pour chaque station, on garde le numéro de la station dans le dataframe df_velib, les modèle lr et rf\n",
    "resultats_10h = {}\n",
    "# Préparation de la visualisation des résultats :\n",
    "ptbl = PrettyTable()\n",
    "ptbl.field_names = [\"Station target\", \"Mean(Occupation) - 10h\", \"Std(Occupation) - 10h\", \"MAE LR - 10h\", \"MAE RF - 10h\", \"MAE méthode intuitive - 10h\"]\n",
    "\n",
    "# Dataframe pour la Régression Linéaire et le Random Forest\n",
    "for num_station in range(len(stations_tests)):\n",
    "    \n",
    "    # Préparation du sous_df pour le ML pour 10h\n",
    "    df_1h = sous_df_1h(df_h,10)\n",
    "    df_ml = sous_df_ml(df_1h, num_station)\n",
    "\n",
    "\n",
    "    # Machine Learning\n",
    "    stations_features = [i for i in df_ml.columns if i != 'y']\n",
    "    X = df_ml[stations_features]\n",
    "    # Préparation de la target\n",
    "    y = df_ml['y']\n",
    "    # Séparation en données de test et d'entrainement\n",
    "    X_train, X_test, y_train, y_test = train_test_split(X, y, test_size=0.3, shuffle = False)\n",
    "    \n",
    "    # 1- Régression linéaire\n",
    "    lr = LinearRegression()\n",
    "    lr.fit(X_train, y_train)\n",
    "    y_prediction_lr = lr.predict(X_test)\n",
    "    MAE_lr = round(mean_absolute_error(y_test, y_prediction_lr),2)\n",
    "\n",
    "    # 2- Random Forest\n",
    "    rf = RandomForestRegressor(max_depth = 30, min_samples_split = 7, n_estimators = 600)\n",
    "    rf.fit(X_train, y_train)\n",
    "    y_prediction_rf = rf.predict(X_test)\n",
    "    MAE_rf = round(mean_absolute_error(y_test, y_prediction_rf),2)\n",
    "\n",
    "    # 3- Méthode naïve ou bien \"intuitive\" c'est-à-dire prédire que ce qui se passe 1 jour plus tard est exactement la même chose que la            veille\n",
    "    df_naif = X_test.copy()\n",
    "    #MAE_naif = round(abs(X_test[i]-y_test).mean() , 2)\n",
    "    MAE_naif = round(mean_absolute_error(X_test[num_station], y_test),2)\n",
    "\n",
    "    # Capacité moyenne de la station sur la période observée\n",
    "    occupation_moyenne = round(X_test[num_station].mean(),2)\n",
    "    # Variance de la capacité sur la période observée\n",
    "    variance_occupation = round(X_test[num_station].std(),2)\n",
    "\n",
    "    # Mise en forme des résultats\n",
    "    y_test = pd.DataFrame(y_test)\n",
    "    index = y_test.index\n",
    "    # Renommer pour plus de clarté\n",
    "    y_prediction_lr = pd.DataFrame(y_prediction_lr, index = index)\n",
    "    y_prediction_rf = pd.DataFrame(y_prediction_rf, index = index)\n",
    "    y_naif = pd.DataFrame(X_test[num_station])\n",
    "    y_prediction_naif = y_test\n",
    "\n",
    "    # Stockage des résultats : numéro de la station, les modèles, et les MAE de chaque modèle\n",
    "    resultats_10h[stations_tests[num_station]] = [i, X, y, lr, MAE_lr, rf, MAE_rf, df_naif, MAE_naif, occupation_moyenne, y_test, y_prediction_lr, y_prediction_rf, y_naif, y_prediction_naif, variance_occupation]\n",
    "\n",
    "    # Visualisation des performances avec Prettytable\n",
    "    ptbl.add_row([stations_tests[num_station], occupation_moyenne, variance_occupation, MAE_lr, MAE_rf, MAE_naif])\n",
    "    \n",
    "print(ptbl)"
   ]
  },
  {
   "cell_type": "code",
   "execution_count": 221,
   "metadata": {},
   "outputs": [
    {
     "output_type": "stream",
     "name": "stdout",
     "text": [
      "+------------------------+-----------------------------+----------------------+----------------------+---------------------------------+\n| Mean(Occupation) / 10h | Mean(Std(Occupation)) / 10h | Moyenne MAE LR / 10h | Moyenne MAE RF / 10h | Moyenne MAE méthode naïve / 10h |\n+------------------------+-----------------------------+----------------------+----------------------+---------------------------------+\n|          14.5          |             4.7             |        10.08         |         9.05         |              11.98              |\n+------------------------+-----------------------------+----------------------+----------------------+---------------------------------+\n"
     ]
    }
   ],
   "source": [
    "ptbl = PrettyTable()\n",
    "ptbl.field_names = [\"Mean(Occupation) / 10h\", \"Mean(Std(Occupation)) / 10h\", \"Moyenne MAE LR / 10h\", \"Moyenne MAE RF / 10h\", \"Moyenne MAE méthode naïve / 10h\"]\n",
    "mean_capacity_10h = 0\n",
    "mean_std_occupation_10h = 0\n",
    "mean_MAE_lr_10h = 0\n",
    "mean_MAE_rf_10h = 0\n",
    "mean_MAE_naif_10h = 0\n",
    "\n",
    "# Parcourir le dictionnaire des résultats pour calculer la moyenne des indicateurs\n",
    "for key, item in resultats_10h.items():\n",
    "    mean_capacity_10h += resultats_10h[key][9]\n",
    "    mean_std_occupation_10h += resultats_10h[key][15]\n",
    "    mean_MAE_lr_10h += resultats_10h[key][4]\n",
    "    mean_MAE_rf_10h += resultats_10h[key][6]\n",
    "    mean_MAE_naif_10h += resultats_10h[key][8]\n",
    "\n",
    "# On divise par le nombre total de stations tests pour obtenir la moyenne\n",
    "mean_capacity_10h = round(mean_capacity_10h/len(resultats_10h),2)\n",
    "mean_std_occupation_10h = round(mean_std_occupation_10h/len(resultats_10h),2)\n",
    "mean_MAE_lr_10h = round(mean_MAE_lr_10h/len(resultats_10h),2)\n",
    "mean_MAE_rf_10h = round(mean_MAE_rf_10h/len(resultats_10h),2)\n",
    "mean_MAE_naif_10h = round(mean_MAE_naif_10h/len(resultats_10h),2)\n",
    "\n",
    "# Visualisation des performances avec Prettytable\n",
    "ptbl.add_row([mean_capacity_10h, mean_std_occupation_10h, mean_MAE_lr_10h, mean_MAE_rf_10h, mean_MAE_naif_10h])\n",
    "print(ptbl)"
   ]
  },
  {
   "source": [
    "# Résultats à 11h"
   ],
   "cell_type": "markdown",
   "metadata": {}
  },
  {
   "cell_type": "code",
   "execution_count": 222,
   "metadata": {},
   "outputs": [
    {
     "output_type": "stream",
     "name": "stdout",
     "text": [
      "+----------------+------------------------+-----------------------+--------------+--------------+-----------------------------+\n| Station target | Mean(Occupation) - 11h | Std(Occupation) - 11h | MAE LR - 11h | MAE RF - 11h | MAE méthode intuitive - 11h |\n+----------------+------------------------+-----------------------+--------------+--------------+-----------------------------+\n|   station_0    |          3.4           |          1.14         |     4.12     |     4.38     |             3.6             |\n|   station_1    |          38.0          |         11.77         |    14.48     |     12.4     |             18.0            |\n|   station_2    |          3.0           |          2.65         |     2.35     |     1.89     |             3.8             |\n|   station_3    |          4.8           |          4.66         |     3.14     |     3.38     |             3.8             |\n|   station_4    |          13.2          |         12.91         |     5.68     |     6.45     |             4.6             |\n|   station_5    |          39.6          |          4.56         |    16.02     |    14.27     |             10.0            |\n|   station_6    |          11.0          |          3.54         |     9.35     |     9.26     |             6.6             |\n|   station_7    |          5.4           |          2.61         |     6.77     |     6.86     |             10.2            |\n|   station_8    |          8.8           |          4.66         |     4.73     |     4.83     |             8.6             |\n|   station_9    |          18.0          |          8.6          |    20.16     |    20.94     |             22.0            |\n+----------------+------------------------+-----------------------+--------------+--------------+-----------------------------+\n"
     ]
    }
   ],
   "source": [
    "# Pour chaque station, on garde le numéro de la station dans le dataframe df_velib, les modèle lr et rf\n",
    "resultats_11h = {}\n",
    "# Préparation de la visualisation des résultats :\n",
    "ptbl = PrettyTable()\n",
    "ptbl.field_names = [\"Station target\", \"Mean(Occupation) - 11h\", \"Std(Occupation) - 11h\", \"MAE LR - 11h\", \"MAE RF - 11h\", \"MAE méthode intuitive - 11h\"]\n",
    "\n",
    "# Dataframe pour la Régression Linéaire et le Random Forest\n",
    "for num_station in range(len(stations_tests)):\n",
    "    \n",
    "    # Préparation du sous_df pour le ML pour 11h\n",
    "    df_1h = sous_df_1h(df_h,11)\n",
    "    df_ml = sous_df_ml(df_1h, num_station)\n",
    "\n",
    "\n",
    "    # Machine Learning\n",
    "    stations_features = [i for i in df_ml.columns if i != 'y']\n",
    "    X = df_ml[stations_features]\n",
    "    # Préparation de la target\n",
    "    y = df_ml['y']\n",
    "    # Séparation en données de test et d'entrainement\n",
    "    X_train, X_test, y_train, y_test = train_test_split(X, y, test_size=0.3, shuffle = False)\n",
    "    \n",
    "    # 1- Régression linéaire\n",
    "    lr = LinearRegression()\n",
    "    lr.fit(X_train, y_train)\n",
    "    y_prediction_lr = lr.predict(X_test)\n",
    "    MAE_lr = round(mean_absolute_error(y_test, y_prediction_lr),2)\n",
    "\n",
    "    # 2- Random Forest\n",
    "    rf = RandomForestRegressor(max_depth = 30, min_samples_split = 7, n_estimators = 600)\n",
    "    rf.fit(X_train, y_train)\n",
    "    y_prediction_rf = rf.predict(X_test)\n",
    "    MAE_rf = round(mean_absolute_error(y_test, y_prediction_rf),2)\n",
    "\n",
    "    # 3- Méthode naïve ou bien \"intuitive\" c'est-à-dire prédire que ce qui se passe 1 jour plus tard est exactement la même chose que la            veille\n",
    "    df_naif = X_test.copy()\n",
    "    #MAE_naif = round(abs(X_test[i]-y_test).mean() , 2)\n",
    "    MAE_naif = round(mean_absolute_error(X_test[num_station], y_test),2)\n",
    "\n",
    "    # Capacité moyenne de la station sur la période observée\n",
    "    occupation_moyenne = round(X_test[num_station].mean(),2)\n",
    "    # Variance de la capacité sur la période observée\n",
    "    variance_occupation = round(X_test[num_station].std(),2)\n",
    "\n",
    "    # Mise en forme des résultats\n",
    "    y_test = pd.DataFrame(y_test)\n",
    "    index = y_test.index\n",
    "    # Renommer pour plus de clarté\n",
    "    y_prediction_lr = pd.DataFrame(y_prediction_lr, index = index)\n",
    "    y_prediction_rf = pd.DataFrame(y_prediction_rf, index = index)\n",
    "    y_naif = pd.DataFrame(X_test[num_station])\n",
    "    y_prediction_naif = y_test\n",
    "\n",
    "    # Stockage des résultats : numéro de la station, les modèles, et les MAE de chaque modèle\n",
    "    resultats_11h[stations_tests[num_station]] = [i, X, y, lr, MAE_lr, rf, MAE_rf, df_naif, MAE_naif, occupation_moyenne, y_test, y_prediction_lr, y_prediction_rf, y_naif, y_prediction_naif, variance_occupation]\n",
    "\n",
    "    # Visualisation des performances avec Prettytable\n",
    "    ptbl.add_row([stations_tests[num_station], occupation_moyenne, variance_occupation, MAE_lr, MAE_rf, MAE_naif])\n",
    "    \n",
    "print(ptbl)"
   ]
  },
  {
   "cell_type": "code",
   "execution_count": 223,
   "metadata": {},
   "outputs": [
    {
     "output_type": "stream",
     "name": "stdout",
     "text": [
      "+------------------------+-----------------------------+----------------------+----------------------+---------------------------------+\n| Mean(Occupation) / 11h | Mean(Std(Occupation)) / 11h | Moyenne MAE LR / 11h | Moyenne MAE RF / 11h | Moyenne MAE méthode naïve / 11h |\n+------------------------+-----------------------------+----------------------+----------------------+---------------------------------+\n|         14.52          |             5.71            |         8.68         |         8.47         |               9.12              |\n+------------------------+-----------------------------+----------------------+----------------------+---------------------------------+\n"
     ]
    }
   ],
   "source": [
    "ptbl = PrettyTable()\n",
    "ptbl.field_names = [\"Mean(Occupation) / 11h\", \"Mean(Std(Occupation)) / 11h\", \"Moyenne MAE LR / 11h\", \"Moyenne MAE RF / 11h\", \"Moyenne MAE méthode naïve / 11h\"]\n",
    "mean_capacity_11h = 0\n",
    "mean_std_occupation_11h = 0\n",
    "mean_MAE_lr_11h = 0\n",
    "mean_MAE_rf_11h = 0\n",
    "mean_MAE_naif_11h = 0\n",
    "\n",
    "# Parcourir le dictionnaire des résultats pour calculer la moyenne des indicateurs\n",
    "for key, item in resultats_11h.items():\n",
    "    mean_capacity_11h += resultats_11h[key][9]\n",
    "    mean_std_occupation_11h += resultats_11h[key][15]\n",
    "    mean_MAE_lr_11h += resultats_11h[key][4]\n",
    "    mean_MAE_rf_11h += resultats_11h[key][6]\n",
    "    mean_MAE_naif_11h += resultats_11h[key][8]\n",
    "\n",
    "# On divise par le nombre total de stations tests pour obtenir la moyenne\n",
    "mean_capacity_11h = round(mean_capacity_11h/len(resultats_11h),2)\n",
    "mean_std_occupation_11h = round(mean_std_occupation_11h/len(resultats_11h),2)\n",
    "mean_MAE_lr_11h = round(mean_MAE_lr_11h/len(resultats_11h),2)\n",
    "mean_MAE_rf_11h = round(mean_MAE_rf_11h/len(resultats_11h),2)\n",
    "mean_MAE_naif_11h = round(mean_MAE_naif_11h/len(resultats_11h),2)\n",
    "\n",
    "# Visualisation des performances avec Prettytable\n",
    "ptbl.add_row([mean_capacity_11h, mean_std_occupation_11h, mean_MAE_lr_11h, mean_MAE_rf_11h, mean_MAE_naif_11h])\n",
    "print(ptbl)"
   ]
  },
  {
   "source": [
    "# Résultats à 12h"
   ],
   "cell_type": "markdown",
   "metadata": {}
  },
  {
   "cell_type": "code",
   "execution_count": 224,
   "metadata": {},
   "outputs": [
    {
     "output_type": "stream",
     "name": "stdout",
     "text": [
      "+----------------+------------------------+-----------------------+--------------+--------------+-----------------------------+\n| Station target | Mean(Occupation) - 12h | Std(Occupation) - 12h | MAE LR - 12h | MAE RF - 12h | MAE méthode intuitive - 12h |\n+----------------+------------------------+-----------------------+--------------+--------------+-----------------------------+\n|   station_0    |          1.8           |          1.1          |     2.42     |     1.88     |             3.6             |\n|   station_1    |          39.4          |         11.87         |    19.15     |    18.08     |             19.6            |\n|   station_2    |          2.4           |          2.07         |     3.33     |     2.91     |             3.4             |\n|   station_3    |          3.8           |          4.97         |     3.76     |     4.04     |             4.2             |\n|   station_4    |          13.6          |         10.53         |     5.91     |     5.7      |             3.0             |\n|   station_5    |          36.4          |          6.11         |     13.3     |    11.76     |             8.0             |\n|   station_6    |          9.0           |          4.24         |     7.9      |     4.42     |             2.2             |\n|   station_7    |          5.0           |          3.32         |     8.17     |     8.08     |             9.6             |\n|   station_8    |          9.2           |          4.82         |     6.14     |     4.49     |             11.8            |\n|   station_9    |          17.8          |         11.03         |    15.78     |    18.19     |             17.4            |\n+----------------+------------------------+-----------------------+--------------+--------------+-----------------------------+\n"
     ]
    }
   ],
   "source": [
    "# Pour chaque station, on garde le numéro de la station dans le dataframe df_velib, les modèle lr et rf\n",
    "resultats_12h = {}\n",
    "# Préparation de la visualisation des résultats :\n",
    "ptbl = PrettyTable()\n",
    "ptbl.field_names = [\"Station target\", \"Mean(Occupation) - 12h\", \"Std(Occupation) - 12h\", \"MAE LR - 12h\", \"MAE RF - 12h\", \"MAE méthode intuitive - 12h\"]\n",
    "\n",
    "# Dataframe pour la Régression Linéaire et le Random Forest\n",
    "for num_station in range(len(stations_tests)):\n",
    "    \n",
    "    # Préparation du sous_df pour le ML pour 12h\n",
    "    df_1h = sous_df_1h(df_h,12)\n",
    "    df_ml = sous_df_ml(df_1h, num_station)\n",
    "\n",
    "\n",
    "    # Machine Learning\n",
    "    stations_features = [i for i in df_ml.columns if i != 'y']\n",
    "    X = df_ml[stations_features]\n",
    "    # Préparation de la target\n",
    "    y = df_ml['y']\n",
    "    # Séparation en données de test et d'entrainement\n",
    "    X_train, X_test, y_train, y_test = train_test_split(X, y, test_size=0.3, shuffle = False)\n",
    "    \n",
    "    # 1- Régression linéaire\n",
    "    lr = LinearRegression()\n",
    "    lr.fit(X_train, y_train)\n",
    "    y_prediction_lr = lr.predict(X_test)\n",
    "    MAE_lr = round(mean_absolute_error(y_test, y_prediction_lr),2)\n",
    "\n",
    "    # 2- Random Forest\n",
    "    rf = RandomForestRegressor(max_depth = 30, min_samples_split = 7, n_estimators = 600)\n",
    "    rf.fit(X_train, y_train)\n",
    "    y_prediction_rf = rf.predict(X_test)\n",
    "    MAE_rf = round(mean_absolute_error(y_test, y_prediction_rf),2)\n",
    "\n",
    "    # 3- Méthode naïve ou bien \"intuitive\" c'est-à-dire prédire que ce qui se passe 1 jour plus tard est exactement la même chose que la            veille\n",
    "    df_naif = X_test.copy()\n",
    "    #MAE_naif = round(abs(X_test[i]-y_test).mean() , 2)\n",
    "    MAE_naif = round(mean_absolute_error(X_test[num_station], y_test),2)\n",
    "\n",
    "    # Capacité moyenne de la station sur la période observée\n",
    "    occupation_moyenne = round(X_test[num_station].mean(),2)\n",
    "    # Variance de la capacité sur la période observée\n",
    "    variance_occupation = round(X_test[num_station].std(),2)\n",
    "\n",
    "    # Mise en forme des résultats\n",
    "    y_test = pd.DataFrame(y_test)\n",
    "    index = y_test.index\n",
    "    # Renommer pour plus de clarté\n",
    "    y_prediction_lr = pd.DataFrame(y_prediction_lr, index = index)\n",
    "    y_prediction_rf = pd.DataFrame(y_prediction_rf, index = index)\n",
    "    y_naif = pd.DataFrame(X_test[num_station])\n",
    "    y_prediction_naif = y_test\n",
    "\n",
    "    # Stockage des résultats : numéro de la station, les modèles, et les MAE de chaque modèle\n",
    "    resultats_12h[stations_tests[num_station]] = [i, X, y, lr, MAE_lr, rf, MAE_rf, df_naif, MAE_naif, occupation_moyenne, y_test, y_prediction_lr, y_prediction_rf, y_naif, y_prediction_naif, variance_occupation]\n",
    "\n",
    "    # Visualisation des performances avec Prettytable\n",
    "    ptbl.add_row([stations_tests[num_station], occupation_moyenne, variance_occupation, MAE_lr, MAE_rf, MAE_naif])\n",
    "    \n",
    "print(ptbl)"
   ]
  },
  {
   "cell_type": "code",
   "execution_count": 225,
   "metadata": {},
   "outputs": [
    {
     "output_type": "stream",
     "name": "stdout",
     "text": [
      "+------------------------+-----------------------------+----------------------+----------------------+---------------------------------+\n| Mean(Occupation) / 12h | Mean(Std(Occupation)) / 12h | Moyenne MAE LR / 12h | Moyenne MAE RF / 12h | Moyenne MAE méthode naïve / 12h |\n+------------------------+-----------------------------+----------------------+----------------------+---------------------------------+\n|         13.84          |             6.01            |         8.59         |         7.96         |               8.28              |\n+------------------------+-----------------------------+----------------------+----------------------+---------------------------------+\n"
     ]
    }
   ],
   "source": [
    "ptbl = PrettyTable()\n",
    "ptbl.field_names = [\"Mean(Occupation) / 12h\", \"Mean(Std(Occupation)) / 12h\", \"Moyenne MAE LR / 12h\", \"Moyenne MAE RF / 12h\", \"Moyenne MAE méthode naïve / 12h\"]\n",
    "mean_capacity_12h = 0\n",
    "mean_std_occupation_12h = 0\n",
    "mean_MAE_lr_12h = 0\n",
    "mean_MAE_rf_12h = 0\n",
    "mean_MAE_naif_12h = 0\n",
    "\n",
    "# Parcourir le dictionnaire des résultats pour calculer la moyenne des indicateurs\n",
    "for key, item in resultats_12h.items():\n",
    "    mean_capacity_12h += resultats_12h[key][9]\n",
    "    mean_std_occupation_12h += resultats_12h[key][15]\n",
    "    mean_MAE_lr_12h += resultats_12h[key][4]\n",
    "    mean_MAE_rf_12h += resultats_12h[key][6]\n",
    "    mean_MAE_naif_12h += resultats_12h[key][8]\n",
    "\n",
    "# On divise par le nombre total de stations tests pour obtenir la moyenne\n",
    "mean_capacity_12h = round(mean_capacity_12h/len(resultats_12h),2)\n",
    "mean_std_occupation_12h = round(mean_std_occupation_12h/len(resultats_12h),2)\n",
    "mean_MAE_lr_12h = round(mean_MAE_lr_12h/len(resultats_12h),2)\n",
    "mean_MAE_rf_12h = round(mean_MAE_rf_12h/len(resultats_12h),2)\n",
    "mean_MAE_naif_12h = round(mean_MAE_naif_12h/len(resultats_12h),2)\n",
    "\n",
    "# Visualisation des performances avec Prettytable\n",
    "ptbl.add_row([mean_capacity_12h, mean_std_occupation_12h, mean_MAE_lr_12h, mean_MAE_rf_12h, mean_MAE_naif_12h])\n",
    "print(ptbl)"
   ]
  },
  {
   "source": [
    "# Résultats à 13h"
   ],
   "cell_type": "markdown",
   "metadata": {}
  },
  {
   "cell_type": "code",
   "execution_count": 226,
   "metadata": {},
   "outputs": [
    {
     "output_type": "stream",
     "name": "stdout",
     "text": [
      "+----------------+------------------------+-----------------------+--------------+--------------+-----------------------------+\n| Station target | Mean(Occupation) - 13h | Std(Occupation) - 13h | MAE LR - 13h | MAE RF - 13h | MAE méthode intuitive - 13h |\n+----------------+------------------------+-----------------------+--------------+--------------+-----------------------------+\n|   station_0    |          3.6           |          2.3          |     2.52     |     2.12     |             4.0             |\n|   station_1    |          38.6          |         10.74         |    18.33     |     14.3     |             17.4            |\n|   station_2    |          2.8           |          1.64         |     2.35     |     1.89     |             2.4             |\n|   station_3    |          2.4           |          2.88         |     2.6      |     2.56     |             3.0             |\n|   station_4    |          12.0          |         10.54         |     5.9      |     6.65     |             3.6             |\n|   station_5    |          36.8          |          8.53         |    12.47     |    10.91     |             8.6             |\n|   station_6    |          8.4           |          5.03         |     6.95     |     4.7      |             2.6             |\n|   station_7    |          7.6           |          2.07         |     7.29     |     7.35     |             6.8             |\n|   station_8    |          7.8           |          5.36         |     8.07     |     4.5      |             13.0            |\n|   station_9    |          16.4          |         11.06         |    15.69     |    15.77     |             20.0            |\n+----------------+------------------------+-----------------------+--------------+--------------+-----------------------------+\n"
     ]
    }
   ],
   "source": [
    "# Pour chaque station, on garde le numéro de la station dans le dataframe df_velib, les modèle lr et rf\n",
    "resultats_13h = {}\n",
    "# Préparation de la visualisation des résultats :\n",
    "ptbl = PrettyTable()\n",
    "ptbl.field_names = [\"Station target\", \"Mean(Occupation) - 13h\", \"Std(Occupation) - 13h\", \"MAE LR - 13h\", \"MAE RF - 13h\", \"MAE méthode intuitive - 13h\"]\n",
    "\n",
    "# Dataframe pour la Régression Linéaire et le Random Forest\n",
    "for num_station in range(len(stations_tests)):\n",
    "    \n",
    "    # Préparation du sous_df pour le ML pour 13h\n",
    "    df_1h = sous_df_1h(df_h,13)\n",
    "    df_ml = sous_df_ml(df_1h, num_station)\n",
    "\n",
    "\n",
    "    # Machine Learning\n",
    "    stations_features = [i for i in df_ml.columns if i != 'y']\n",
    "    X = df_ml[stations_features]\n",
    "    # Préparation de la target\n",
    "    y = df_ml['y']\n",
    "    # Séparation en données de test et d'entrainement\n",
    "    X_train, X_test, y_train, y_test = train_test_split(X, y, test_size=0.3, shuffle = False)\n",
    "    \n",
    "    # 1- Régression linéaire\n",
    "    lr = LinearRegression()\n",
    "    lr.fit(X_train, y_train)\n",
    "    y_prediction_lr = lr.predict(X_test)\n",
    "    MAE_lr = round(mean_absolute_error(y_test, y_prediction_lr),2)\n",
    "\n",
    "    # 2- Random Forest\n",
    "    rf = RandomForestRegressor(max_depth = 30, min_samples_split = 7, n_estimators = 600)\n",
    "    rf.fit(X_train, y_train)\n",
    "    y_prediction_rf = rf.predict(X_test)\n",
    "    MAE_rf = round(mean_absolute_error(y_test, y_prediction_rf),2)\n",
    "\n",
    "    # 3- Méthode naïve ou bien \"intuitive\" c'est-à-dire prédire que ce qui se passe 1 jour plus tard est exactement la même chose que la            veille\n",
    "    df_naif = X_test.copy()\n",
    "    #MAE_naif = round(abs(X_test[i]-y_test).mean() , 2)\n",
    "    MAE_naif = round(mean_absolute_error(X_test[num_station], y_test),2)\n",
    "\n",
    "    # Capacité moyenne de la station sur la période observée\n",
    "    occupation_moyenne = round(X_test[num_station].mean(),2)\n",
    "    # Variance de la capacité sur la période observée\n",
    "    variance_occupation = round(X_test[num_station].std(),2)\n",
    "\n",
    "    # Mise en forme des résultats\n",
    "    y_test = pd.DataFrame(y_test)\n",
    "    index = y_test.index\n",
    "    # Renommer pour plus de clarté\n",
    "    y_prediction_lr = pd.DataFrame(y_prediction_lr, index = index)\n",
    "    y_prediction_rf = pd.DataFrame(y_prediction_rf, index = index)\n",
    "    y_naif = pd.DataFrame(X_test[num_station])\n",
    "    y_prediction_naif = y_test\n",
    "\n",
    "    # Stockage des résultats : numéro de la station, les modèles, et les MAE de chaque modèle\n",
    "    resultats_13h[stations_tests[num_station]] = [i, X, y, lr, MAE_lr, rf, MAE_rf, df_naif, MAE_naif, occupation_moyenne, y_test, y_prediction_lr, y_prediction_rf, y_naif, y_prediction_naif, variance_occupation]\n",
    "\n",
    "    # Visualisation des performances avec Prettytable\n",
    "    ptbl.add_row([stations_tests[num_station], occupation_moyenne, variance_occupation, MAE_lr, MAE_rf, MAE_naif])\n",
    "    \n",
    "print(ptbl)"
   ]
  },
  {
   "cell_type": "code",
   "execution_count": 227,
   "metadata": {},
   "outputs": [
    {
     "output_type": "stream",
     "name": "stdout",
     "text": [
      "+------------------------+-----------------------------+----------------------+----------------------+---------------------------------+\n| Mean(Occupation) / 13h | Mean(Std(Occupation)) / 13h | Moyenne MAE LR / 13h | Moyenne MAE RF / 13h | Moyenne MAE méthode naïve / 13h |\n+------------------------+-----------------------------+----------------------+----------------------+---------------------------------+\n|         13.64          |             6.01            |         8.22         |         7.08         |               8.14              |\n+------------------------+-----------------------------+----------------------+----------------------+---------------------------------+\n"
     ]
    }
   ],
   "source": [
    "ptbl = PrettyTable()\n",
    "ptbl.field_names = [\"Mean(Occupation) / 13h\", \"Mean(Std(Occupation)) / 13h\", \"Moyenne MAE LR / 13h\", \"Moyenne MAE RF / 13h\", \"Moyenne MAE méthode naïve / 13h\"]\n",
    "mean_capacity_13h = 0\n",
    "mean_std_occupation_13h = 0\n",
    "mean_MAE_lr_13h = 0\n",
    "mean_MAE_rf_13h = 0\n",
    "mean_MAE_naif_13h = 0\n",
    "\n",
    "# Parcourir le dictionnaire des résultats pour calculer la moyenne des indicateurs\n",
    "for key, item in resultats_13h.items():\n",
    "    mean_capacity_13h += resultats_13h[key][9]\n",
    "    mean_std_occupation_13h += resultats_13h[key][15]\n",
    "    mean_MAE_lr_13h += resultats_13h[key][4]\n",
    "    mean_MAE_rf_13h += resultats_13h[key][6]\n",
    "    mean_MAE_naif_13h += resultats_13h[key][8]\n",
    "\n",
    "# On divise par le nombre total de stations tests pour obtenir la moyenne\n",
    "mean_capacity_13h = round(mean_capacity_13h/len(resultats_13h),2)\n",
    "mean_std_occupation_13h = round(mean_std_occupation_13h/len(resultats_13h),2)\n",
    "mean_MAE_lr_13h = round(mean_MAE_lr_13h/len(resultats_13h),2)\n",
    "mean_MAE_rf_13h = round(mean_MAE_rf_13h/len(resultats_13h),2)\n",
    "mean_MAE_naif_13h = round(mean_MAE_naif_13h/len(resultats_13h),2)\n",
    "\n",
    "# Visualisation des performances avec Prettytable\n",
    "ptbl.add_row([mean_capacity_13h, mean_std_occupation_13h, mean_MAE_lr_13h, mean_MAE_rf_13h, mean_MAE_naif_13h])\n",
    "print(ptbl)"
   ]
  },
  {
   "source": [
    "# Résultats à 14h"
   ],
   "cell_type": "markdown",
   "metadata": {}
  },
  {
   "cell_type": "code",
   "execution_count": 228,
   "metadata": {},
   "outputs": [
    {
     "output_type": "stream",
     "name": "stdout",
     "text": [
      "+----------------+------------------------+-----------------------+--------------+--------------+-----------------------------+\n| Station target | Mean(Occupation) - 14h | Std(Occupation) - 14h | MAE LR - 14h | MAE RF - 14h | MAE méthode intuitive - 14h |\n+----------------+------------------------+-----------------------+--------------+--------------+-----------------------------+\n|   station_0    |          4.0           |          1.58         |     2.7      |     2.57     |             3.8             |\n|   station_1    |          45.8          |          5.85         |     15.9     |    13.25     |             19.2            |\n|   station_2    |          2.8           |          2.05         |     1.81     |     1.34     |             1.0             |\n|   station_3    |          3.0           |          2.55         |     2.24     |     2.34     |             3.2             |\n|   station_4    |          12.4          |         11.63         |     6.91     |     6.55     |             4.4             |\n|   station_5    |          44.4          |          0.55         |     8.66     |     6.77     |             11.2            |\n|   station_6    |          7.4           |          6.15         |     5.61     |     7.27     |             7.0             |\n|   station_7    |          8.6           |          2.3          |     6.32     |     7.14     |             6.8             |\n|   station_8    |          7.6           |          5.98         |     4.38     |     4.2      |             11.8            |\n|   station_9    |          15.8          |          8.58         |     8.62     |    10.93     |             17.2            |\n+----------------+------------------------+-----------------------+--------------+--------------+-----------------------------+\n"
     ]
    }
   ],
   "source": [
    "# Pour chaque station, on garde le numéro de la station dans le dataframe df_velib, les modèle lr et rf\n",
    "resultats_14h = {}\n",
    "# Préparation de la visualisation des résultats :\n",
    "ptbl = PrettyTable()\n",
    "ptbl.field_names = [\"Station target\", \"Mean(Occupation) - 14h\", \"Std(Occupation) - 14h\", \"MAE LR - 14h\", \"MAE RF - 14h\", \"MAE méthode intuitive - 14h\"]\n",
    "\n",
    "# Dataframe pour la Régression Linéaire et le Random Forest\n",
    "for num_station in range(len(stations_tests)):\n",
    "    \n",
    "    # Préparation du sous_df pour le ML pour 14h\n",
    "    df_1h = sous_df_1h(df_h,14)\n",
    "    df_ml = sous_df_ml(df_1h, num_station)\n",
    "\n",
    "\n",
    "    # Machine Learning\n",
    "    stations_features = [i for i in df_ml.columns if i != 'y']\n",
    "    X = df_ml[stations_features]\n",
    "    # Préparation de la target\n",
    "    y = df_ml['y']\n",
    "    # Séparation en données de test et d'entrainement\n",
    "    X_train, X_test, y_train, y_test = train_test_split(X, y, test_size=0.3, shuffle = False)\n",
    "    \n",
    "    # 1- Régression linéaire\n",
    "    lr = LinearRegression()\n",
    "    lr.fit(X_train, y_train)\n",
    "    y_prediction_lr = lr.predict(X_test)\n",
    "    MAE_lr = round(mean_absolute_error(y_test, y_prediction_lr),2)\n",
    "\n",
    "    # 2- Random Forest\n",
    "    rf = RandomForestRegressor(max_depth = 30, min_samples_split = 7, n_estimators = 600)\n",
    "    rf.fit(X_train, y_train)\n",
    "    y_prediction_rf = rf.predict(X_test)\n",
    "    MAE_rf = round(mean_absolute_error(y_test, y_prediction_rf),2)\n",
    "\n",
    "    # 3- Méthode naïve ou bien \"intuitive\" c'est-à-dire prédire que ce qui se passe 1 jour plus tard est exactement la même chose que la            veille\n",
    "    df_naif = X_test.copy()\n",
    "    #MAE_naif = round(abs(X_test[i]-y_test).mean() , 2)\n",
    "    MAE_naif = round(mean_absolute_error(X_test[num_station], y_test),2)\n",
    "\n",
    "    # Capacité moyenne de la station sur la période observée\n",
    "    occupation_moyenne = round(X_test[num_station].mean(),2)\n",
    "    # Variance de la capacité sur la période observée\n",
    "    variance_occupation = round(X_test[num_station].std(),2)\n",
    "\n",
    "    # Mise en forme des résultats\n",
    "    y_test = pd.DataFrame(y_test)\n",
    "    index = y_test.index\n",
    "    # Renommer pour plus de clarté\n",
    "    y_prediction_lr = pd.DataFrame(y_prediction_lr, index = index)\n",
    "    y_prediction_rf = pd.DataFrame(y_prediction_rf, index = index)\n",
    "    y_naif = pd.DataFrame(X_test[num_station])\n",
    "    y_prediction_naif = y_test\n",
    "\n",
    "    # Stockage des résultats : numéro de la station, les modèles, et les MAE de chaque modèle\n",
    "    resultats_14h[stations_tests[num_station]] = [i, X, y, lr, MAE_lr, rf, MAE_rf, df_naif, MAE_naif, occupation_moyenne, y_test, y_prediction_lr, y_prediction_rf, y_naif, y_prediction_naif, variance_occupation]\n",
    "\n",
    "    # Visualisation des performances avec Prettytable\n",
    "    ptbl.add_row([stations_tests[num_station], occupation_moyenne, variance_occupation, MAE_lr, MAE_rf, MAE_naif])\n",
    "    \n",
    "print(ptbl)"
   ]
  },
  {
   "cell_type": "code",
   "execution_count": 229,
   "metadata": {},
   "outputs": [
    {
     "output_type": "stream",
     "name": "stdout",
     "text": [
      "+------------------------+-----------------------------+----------------------+----------------------+---------------------------------+\n| Mean(Occupation) / 14h | Mean(Std(Occupation)) / 14h | Moyenne MAE LR / 14h | Moyenne MAE RF / 14h | Moyenne MAE méthode naïve / 14h |\n+------------------------+-----------------------------+----------------------+----------------------+---------------------------------+\n|         15.18          |             4.72            |         6.32         |         6.24         |               8.56              |\n+------------------------+-----------------------------+----------------------+----------------------+---------------------------------+\n"
     ]
    }
   ],
   "source": [
    "ptbl = PrettyTable()\n",
    "ptbl.field_names = [\"Mean(Occupation) / 14h\", \"Mean(Std(Occupation)) / 14h\", \"Moyenne MAE LR / 14h\", \"Moyenne MAE RF / 14h\", \"Moyenne MAE méthode naïve / 14h\"]\n",
    "mean_capacity_14h = 0\n",
    "mean_std_occupation_14h = 0\n",
    "mean_MAE_lr_14h = 0\n",
    "mean_MAE_rf_14h = 0\n",
    "mean_MAE_naif_14h = 0\n",
    "\n",
    "# Parcourir le dictionnaire des résultats pour calculer la moyenne des indicateurs\n",
    "for key, item in resultats_14h.items():\n",
    "    mean_capacity_14h += resultats_14h[key][9]\n",
    "    mean_std_occupation_14h += resultats_14h[key][15]\n",
    "    mean_MAE_lr_14h += resultats_14h[key][4]\n",
    "    mean_MAE_rf_14h += resultats_14h[key][6]\n",
    "    mean_MAE_naif_14h += resultats_14h[key][8]\n",
    "\n",
    "# On divise par le nombre total de stations tests pour obtenir la moyenne\n",
    "mean_capacity_14h = round(mean_capacity_14h/len(resultats_14h),2)\n",
    "mean_std_occupation_14h = round(mean_std_occupation_14h/len(resultats_14h),2)\n",
    "mean_MAE_lr_14h = round(mean_MAE_lr_14h/len(resultats_14h),2)\n",
    "mean_MAE_rf_14h = round(mean_MAE_rf_14h/len(resultats_14h),2)\n",
    "mean_MAE_naif_14h = round(mean_MAE_naif_14h/len(resultats_14h),2)\n",
    "\n",
    "# Visualisation des performances avec Prettytable\n",
    "ptbl.add_row([mean_capacity_14h, mean_std_occupation_14h, mean_MAE_lr_14h, mean_MAE_rf_14h, mean_MAE_naif_14h])\n",
    "print(ptbl)"
   ]
  },
  {
   "source": [
    "# Résultats à 15h"
   ],
   "cell_type": "markdown",
   "metadata": {}
  },
  {
   "cell_type": "code",
   "execution_count": 230,
   "metadata": {},
   "outputs": [
    {
     "output_type": "stream",
     "name": "stdout",
     "text": [
      "+----------------+------------------------+-----------------------+--------------+--------------+-----------------------------+\n| Station target | Mean(Occupation) - 15h | Std(Occupation) - 15h | MAE LR - 15h | MAE RF - 15h | MAE méthode intuitive - 15h |\n+----------------+------------------------+-----------------------+--------------+--------------+-----------------------------+\n|   station_0    |          2.4           |          1.95         |     3.16     |     3.23     |             2.8             |\n|   station_1    |          38.8          |         14.96         |    18.51     |    15.89     |             17.0            |\n|   station_2    |          2.4           |          2.07         |     3.12     |     2.08     |             2.2             |\n|   station_3    |          2.0           |          2.0          |     2.28     |     1.98     |             2.8             |\n|   station_4    |          14.8          |         11.45         |     9.5      |     9.64     |             12.0            |\n|   station_5    |          37.0          |         10.22         |    12.57     |    10.77     |             10.0            |\n|   station_6    |          5.8           |          3.27         |     7.52     |     3.74     |             3.4             |\n|   station_7    |          7.0           |          3.74         |     5.95     |     6.06     |             9.6             |\n|   station_8    |          6.8           |          6.1          |     6.62     |     4.4      |             14.0            |\n|   station_9    |          17.6          |         11.37         |    13.35     |     14.7     |             21.6            |\n+----------------+------------------------+-----------------------+--------------+--------------+-----------------------------+\n"
     ]
    }
   ],
   "source": [
    "# Pour chaque station, on garde le numéro de la station dans le dataframe df_velib, les modèle lr et rf\n",
    "resultats_15h = {}\n",
    "# Préparation de la visualisation des résultats :\n",
    "ptbl = PrettyTable()\n",
    "ptbl.field_names = [\"Station target\", \"Mean(Occupation) - 15h\", \"Std(Occupation) - 15h\", \"MAE LR - 15h\", \"MAE RF - 15h\", \"MAE méthode intuitive - 15h\"]\n",
    "\n",
    "# Dataframe pour la Régression Linéaire et le Random Forest\n",
    "for num_station in range(len(stations_tests)):\n",
    "    \n",
    "    # Préparation du sous_df pour le ML pour 15h\n",
    "    df_1h = sous_df_1h(df_h,15)\n",
    "    df_ml = sous_df_ml(df_1h, num_station)\n",
    "\n",
    "\n",
    "    # Machine Learning\n",
    "    stations_features = [i for i in df_ml.columns if i != 'y']\n",
    "    X = df_ml[stations_features]\n",
    "    # Préparation de la target\n",
    "    y = df_ml['y']\n",
    "    # Séparation en données de test et d'entrainement\n",
    "    X_train, X_test, y_train, y_test = train_test_split(X, y, test_size=0.3, shuffle = False)\n",
    "    \n",
    "    # 1- Régression linéaire\n",
    "    lr = LinearRegression()\n",
    "    lr.fit(X_train, y_train)\n",
    "    y_prediction_lr = lr.predict(X_test)\n",
    "    MAE_lr = round(mean_absolute_error(y_test, y_prediction_lr),2)\n",
    "\n",
    "    # 2- Random Forest\n",
    "    rf = RandomForestRegressor(max_depth = 30, min_samples_split = 7, n_estimators = 600)\n",
    "    rf.fit(X_train, y_train)\n",
    "    y_prediction_rf = rf.predict(X_test)\n",
    "    MAE_rf = round(mean_absolute_error(y_test, y_prediction_rf),2)\n",
    "\n",
    "    # 3- Méthode naïve ou bien \"intuitive\" c'est-à-dire prédire que ce qui se passe 1 jour plus tard est exactement la même chose que la            veille\n",
    "    df_naif = X_test.copy()\n",
    "    #MAE_naif = round(abs(X_test[i]-y_test).mean() , 2)\n",
    "    MAE_naif = round(mean_absolute_error(X_test[num_station], y_test),2)\n",
    "\n",
    "    # Capacité moyenne de la station sur la période observée\n",
    "    occupation_moyenne = round(X_test[num_station].mean(),2)\n",
    "    # Variance de la capacité sur la période observée\n",
    "    variance_occupation = round(X_test[num_station].std(),2)\n",
    "\n",
    "    # Mise en forme des résultats\n",
    "    y_test = pd.DataFrame(y_test)\n",
    "    index = y_test.index\n",
    "    # Renommer pour plus de clarté\n",
    "    y_prediction_lr = pd.DataFrame(y_prediction_lr, index = index)\n",
    "    y_prediction_rf = pd.DataFrame(y_prediction_rf, index = index)\n",
    "    y_naif = pd.DataFrame(X_test[num_station])\n",
    "    y_prediction_naif = y_test\n",
    "\n",
    "    # Stockage des résultats : numéro de la station, les modèles, et les MAE de chaque modèle\n",
    "    resultats_15h[stations_tests[num_station]] = [i, X, y, lr, MAE_lr, rf, MAE_rf, df_naif, MAE_naif, occupation_moyenne, y_test, y_prediction_lr, y_prediction_rf, y_naif, y_prediction_naif, variance_occupation]\n",
    "\n",
    "    # Visualisation des performances avec Prettytable\n",
    "    ptbl.add_row([stations_tests[num_station], occupation_moyenne, variance_occupation, MAE_lr, MAE_rf, MAE_naif])\n",
    "    \n",
    "print(ptbl)"
   ]
  },
  {
   "cell_type": "code",
   "execution_count": 231,
   "metadata": {},
   "outputs": [
    {
     "output_type": "stream",
     "name": "stdout",
     "text": [
      "+------------------------+-----------------------------+----------------------+----------------------+---------------------------------+\n| Mean(Occupation) / 15h | Mean(Std(Occupation)) / 15h | Moyenne MAE LR / 15h | Moyenne MAE RF / 15h | Moyenne MAE méthode naïve / 15h |\n+------------------------+-----------------------------+----------------------+----------------------+---------------------------------+\n|         13.46          |             6.71            |         8.26         |         7.25         |               9.54              |\n+------------------------+-----------------------------+----------------------+----------------------+---------------------------------+\n"
     ]
    }
   ],
   "source": [
    "ptbl = PrettyTable()\n",
    "ptbl.field_names = [\"Mean(Occupation) / 15h\", \"Mean(Std(Occupation)) / 15h\", \"Moyenne MAE LR / 15h\", \"Moyenne MAE RF / 15h\", \"Moyenne MAE méthode naïve / 15h\"]\n",
    "mean_capacity_15h = 0\n",
    "mean_std_occupation_15h = 0\n",
    "mean_MAE_lr_15h = 0\n",
    "mean_MAE_rf_15h = 0\n",
    "mean_MAE_naif_15h = 0\n",
    "\n",
    "# Parcourir le dictionnaire des résultats pour calculer la moyenne des indicateurs\n",
    "for key, item in resultats_15h.items():\n",
    "    mean_capacity_15h += resultats_15h[key][9]\n",
    "    mean_std_occupation_15h += resultats_15h[key][15]\n",
    "    mean_MAE_lr_15h += resultats_15h[key][4]\n",
    "    mean_MAE_rf_15h += resultats_15h[key][6]\n",
    "    mean_MAE_naif_15h += resultats_15h[key][8]\n",
    "\n",
    "# On divise par le nombre total de stations tests pour obtenir la moyenne\n",
    "mean_capacity_15h = round(mean_capacity_15h/len(resultats_15h),2)\n",
    "mean_std_occupation_15h = round(mean_std_occupation_15h/len(resultats_15h),2)\n",
    "mean_MAE_lr_15h = round(mean_MAE_lr_15h/len(resultats_15h),2)\n",
    "mean_MAE_rf_15h = round(mean_MAE_rf_15h/len(resultats_15h),2)\n",
    "mean_MAE_naif_15h = round(mean_MAE_naif_15h/len(resultats_15h),2)\n",
    "\n",
    "# Visualisation des performances avec Prettytable\n",
    "ptbl.add_row([mean_capacity_15h, mean_std_occupation_15h, mean_MAE_lr_15h, mean_MAE_rf_15h, mean_MAE_naif_15h])\n",
    "print(ptbl)"
   ]
  },
  {
   "source": [
    "# Résultats à 16h"
   ],
   "cell_type": "markdown",
   "metadata": {}
  },
  {
   "cell_type": "code",
   "execution_count": 232,
   "metadata": {},
   "outputs": [
    {
     "output_type": "stream",
     "name": "stdout",
     "text": [
      "+----------------+------------------------+-----------------------+--------------+--------------+-----------------------------+\n| Station target | Mean(Occupation) - 16h | Std(Occupation) - 16h | MAE LR - 16h | MAE RF - 16h | MAE méthode intuitive - 16h |\n+----------------+------------------------+-----------------------+--------------+--------------+-----------------------------+\n|   station_0    |          4.25          |          1.89         |     3.77     |     4.0      |             3.25            |\n|   station_1    |          46.0          |          4.9          |    23.24     |     23.1     |            25.25            |\n|   station_2    |          2.0           |          1.41         |     3.19     |     2.08     |             1.75            |\n|   station_3    |          3.0           |          1.41         |     1.53     |     1.73     |             3.25            |\n|   station_4    |         12.75          |         12.53         |     9.42     |     9.81     |            15.75            |\n|   station_5    |          44.5          |          1.0          |    14.67     |    13.64     |             3.0             |\n|   station_6    |          3.75          |          1.26         |     9.42     |     3.28     |             2.75            |\n|   station_7    |          5.5           |          1.73         |     8.98     |     9.27     |            10.75            |\n|   station_8    |          6.0           |          6.06         |     9.19     |     4.68     |            13.75            |\n|   station_9    |          15.0          |          8.04         |    16.38     |    17.55     |             23.5            |\n+----------------+------------------------+-----------------------+--------------+--------------+-----------------------------+\n"
     ]
    }
   ],
   "source": [
    "# Pour chaque station, on garde le numéro de la station dans le dataframe df_velib, les modèle lr et rf\n",
    "resultats_16h = {}\n",
    "# Préparation de la visualisation des résultats :\n",
    "ptbl = PrettyTable()\n",
    "ptbl.field_names = [\"Station target\", \"Mean(Occupation) - 16h\", \"Std(Occupation) - 16h\", \"MAE LR - 16h\", \"MAE RF - 16h\", \"MAE méthode intuitive - 16h\"]\n",
    "\n",
    "# Dataframe pour la Régression Linéaire et le Random Forest\n",
    "for num_station in range(len(stations_tests)):\n",
    "    \n",
    "    # Préparation du sous_df pour le ML pour 16h\n",
    "    df_1h = sous_df_1h(df_h,16)\n",
    "    df_ml = sous_df_ml(df_1h, num_station)\n",
    "\n",
    "\n",
    "    # Machine Learning\n",
    "    stations_features = [i for i in df_ml.columns if i != 'y']\n",
    "    X = df_ml[stations_features]\n",
    "    # Préparation de la target\n",
    "    y = df_ml['y']\n",
    "    # Séparation en données de test et d'entrainement\n",
    "    X_train, X_test, y_train, y_test = train_test_split(X, y, test_size=0.3, shuffle = False)\n",
    "    \n",
    "    # 1- Régression linéaire\n",
    "    lr = LinearRegression()\n",
    "    lr.fit(X_train, y_train)\n",
    "    y_prediction_lr = lr.predict(X_test)\n",
    "    MAE_lr = round(mean_absolute_error(y_test, y_prediction_lr),2)\n",
    "\n",
    "    # 2- Random Forest\n",
    "    rf = RandomForestRegressor(max_depth = 30, min_samples_split = 7, n_estimators = 600)\n",
    "    rf.fit(X_train, y_train)\n",
    "    y_prediction_rf = rf.predict(X_test)\n",
    "    MAE_rf = round(mean_absolute_error(y_test, y_prediction_rf),2)\n",
    "\n",
    "    # 3- Méthode naïve ou bien \"intuitive\" c'est-à-dire prédire que ce qui se passe 1 jour plus tard est exactement la même chose que la            veille\n",
    "    df_naif = X_test.copy()\n",
    "    #MAE_naif = round(abs(X_test[i]-y_test).mean() , 2)\n",
    "    MAE_naif = round(mean_absolute_error(X_test[num_station], y_test),2)\n",
    "\n",
    "    # Capacité moyenne de la station sur la période observée\n",
    "    occupation_moyenne = round(X_test[num_station].mean(),2)\n",
    "    # Variance de la capacité sur la période observée\n",
    "    variance_occupation = round(X_test[num_station].std(),2)\n",
    "\n",
    "    # Mise en forme des résultats\n",
    "    y_test = pd.DataFrame(y_test)\n",
    "    index = y_test.index\n",
    "    # Renommer pour plus de clarté\n",
    "    y_prediction_lr = pd.DataFrame(y_prediction_lr, index = index)\n",
    "    y_prediction_rf = pd.DataFrame(y_prediction_rf, index = index)\n",
    "    y_naif = pd.DataFrame(X_test[num_station])\n",
    "    y_prediction_naif = y_test\n",
    "\n",
    "    # Stockage des résultats : numéro de la station, les modèles, et les MAE de chaque modèle\n",
    "    resultats_16h[stations_tests[num_station]] = [i, X, y, lr, MAE_lr, rf, MAE_rf, df_naif, MAE_naif, occupation_moyenne, y_test, y_prediction_lr, y_prediction_rf, y_naif, y_prediction_naif, variance_occupation]\n",
    "\n",
    "    # Visualisation des performances avec Prettytable\n",
    "    ptbl.add_row([stations_tests[num_station], occupation_moyenne, variance_occupation, MAE_lr, MAE_rf, MAE_naif])\n",
    "    \n",
    "print(ptbl)"
   ]
  },
  {
   "cell_type": "code",
   "execution_count": 233,
   "metadata": {},
   "outputs": [
    {
     "output_type": "stream",
     "name": "stdout",
     "text": [
      "+------------------------+-----------------------------+----------------------+----------------------+---------------------------------+\n| Mean(Occupation) / 16h | Mean(Std(Occupation)) / 16h | Moyenne MAE LR / 16h | Moyenne MAE RF / 16h | Moyenne MAE méthode naïve / 16h |\n+------------------------+-----------------------------+----------------------+----------------------+---------------------------------+\n|         14.28          |             4.02            |         9.98         |         8.91         |               10.3              |\n+------------------------+-----------------------------+----------------------+----------------------+---------------------------------+\n"
     ]
    }
   ],
   "source": [
    "ptbl = PrettyTable()\n",
    "ptbl.field_names = [\"Mean(Occupation) / 16h\", \"Mean(Std(Occupation)) / 16h\", \"Moyenne MAE LR / 16h\", \"Moyenne MAE RF / 16h\", \"Moyenne MAE méthode naïve / 16h\"]\n",
    "mean_capacity_16h = 0\n",
    "mean_std_occupation_16h = 0\n",
    "mean_MAE_lr_16h = 0\n",
    "mean_MAE_rf_16h = 0\n",
    "mean_MAE_naif_16h = 0\n",
    "\n",
    "# Parcourir le dictionnaire des résultats pour calculer la moyenne des indicateurs\n",
    "for key, item in resultats_16h.items():\n",
    "    mean_capacity_16h += resultats_16h[key][9]\n",
    "    mean_std_occupation_16h += resultats_16h[key][15]\n",
    "    mean_MAE_lr_16h += resultats_16h[key][4]\n",
    "    mean_MAE_rf_16h += resultats_16h[key][6]\n",
    "    mean_MAE_naif_16h += resultats_16h[key][8]\n",
    "\n",
    "# On divise par le nombre total de stations tests pour obtenir la moyenne\n",
    "mean_capacity_16h = round(mean_capacity_16h/len(resultats_16h),2)\n",
    "mean_std_occupation_16h = round(mean_std_occupation_16h/len(resultats_16h),2)\n",
    "mean_MAE_lr_16h = round(mean_MAE_lr_16h/len(resultats_16h),2)\n",
    "mean_MAE_rf_16h = round(mean_MAE_rf_16h/len(resultats_16h),2)\n",
    "mean_MAE_naif_16h = round(mean_MAE_naif_16h/len(resultats_16h),2)\n",
    "\n",
    "# Visualisation des performances avec Prettytable\n",
    "ptbl.add_row([mean_capacity_16h, mean_std_occupation_16h, mean_MAE_lr_16h, mean_MAE_rf_16h, mean_MAE_naif_16h])\n",
    "print(ptbl)"
   ]
  },
  {
   "source": [
    "# Résultats à 17h"
   ],
   "cell_type": "markdown",
   "metadata": {}
  },
  {
   "cell_type": "code",
   "execution_count": 234,
   "metadata": {},
   "outputs": [
    {
     "output_type": "stream",
     "name": "stdout",
     "text": [
      "+----------------+------------------------+-----------------------+--------------+--------------+-----------------------------+\n| Station target | Mean(Occupation) - 17h | Std(Occupation) - 17h | MAE LR - 17h | MAE RF - 17h | MAE méthode intuitive - 17h |\n+----------------+------------------------+-----------------------+--------------+--------------+-----------------------------+\n|   station_0    |          4.2           |          2.59         |     2.82     |     2.96     |             3.6             |\n|   station_1    |          44.6          |          12.1         |    20.18     |    18.88     |             21.4            |\n|   station_2    |          3.2           |          2.17         |     3.76     |     3.29     |             2.6             |\n|   station_3    |          2.0           |          0.71         |     3.02     |     3.25     |             3.6             |\n|   station_4    |          14.6          |         10.38         |     8.91     |     9.2      |             2.6             |\n|   station_5    |          41.6          |          3.85         |    10.98     |     9.74     |             6.2             |\n|   station_6    |          6.6           |          5.27         |     7.53     |     3.72     |             3.4             |\n|   station_7    |          9.8           |          2.39         |     9.44     |     8.34     |             8.2             |\n|   station_8    |          5.2           |          5.72         |     7.42     |     4.47     |             15.8            |\n|   station_9    |          17.4          |          6.58         |    13.35     |    14.85     |             16.8            |\n+----------------+------------------------+-----------------------+--------------+--------------+-----------------------------+\n"
     ]
    }
   ],
   "source": [
    "# Pour chaque station, on garde le numéro de la station dans le dataframe df_velib, les modèle lr et rf\n",
    "resultats_17h = {}\n",
    "# Préparation de la visualisation des résultats :\n",
    "ptbl = PrettyTable()\n",
    "ptbl.field_names = [\"Station target\", \"Mean(Occupation) - 17h\", \"Std(Occupation) - 17h\", \"MAE LR - 17h\", \"MAE RF - 17h\", \"MAE méthode intuitive - 17h\"]\n",
    "\n",
    "# Dataframe pour la Régression Linéaire et le Random Forest\n",
    "for num_station in range(len(stations_tests)):\n",
    "    \n",
    "    # Préparation du sous_df pour le ML pour 17h\n",
    "    df_1h = sous_df_1h(df_h,17)\n",
    "    df_ml = sous_df_ml(df_1h, num_station)\n",
    "\n",
    "\n",
    "    # Machine Learning\n",
    "    stations_features = [i for i in df_ml.columns if i != 'y']\n",
    "    X = df_ml[stations_features]\n",
    "    # Préparation de la target\n",
    "    y = df_ml['y']\n",
    "    # Séparation en données de test et d'entrainement\n",
    "    X_train, X_test, y_train, y_test = train_test_split(X, y, test_size=0.3, shuffle = False)\n",
    "    \n",
    "    # 1- Régression linéaire\n",
    "    lr = LinearRegression()\n",
    "    lr.fit(X_train, y_train)\n",
    "    y_prediction_lr = lr.predict(X_test)\n",
    "    MAE_lr = round(mean_absolute_error(y_test, y_prediction_lr),2)\n",
    "\n",
    "    # 2- Random Forest\n",
    "    rf = RandomForestRegressor(max_depth = 30, min_samples_split = 7, n_estimators = 600)\n",
    "    rf.fit(X_train, y_train)\n",
    "    y_prediction_rf = rf.predict(X_test)\n",
    "    MAE_rf = round(mean_absolute_error(y_test, y_prediction_rf),2)\n",
    "\n",
    "    # 3- Méthode naïve ou bien \"intuitive\" c'est-à-dire prédire que ce qui se passe 1 jour plus tard est exactement la même chose que la            veille\n",
    "    df_naif = X_test.copy()\n",
    "    #MAE_naif = round(abs(X_test[i]-y_test).mean() , 2)\n",
    "    MAE_naif = round(mean_absolute_error(X_test[num_station], y_test),2)\n",
    "\n",
    "    # Capacité moyenne de la station sur la période observée\n",
    "    occupation_moyenne = round(X_test[num_station].mean(),2)\n",
    "    # Variance de la capacité sur la période observée\n",
    "    variance_occupation = round(X_test[num_station].std(),2)\n",
    "\n",
    "    # Mise en forme des résultats\n",
    "    y_test = pd.DataFrame(y_test)\n",
    "    index = y_test.index\n",
    "    # Renommer pour plus de clarté\n",
    "    y_prediction_lr = pd.DataFrame(y_prediction_lr, index = index)\n",
    "    y_prediction_rf = pd.DataFrame(y_prediction_rf, index = index)\n",
    "    y_naif = pd.DataFrame(X_test[num_station])\n",
    "    y_prediction_naif = y_test\n",
    "\n",
    "    # Stockage des résultats : numéro de la station, les modèles, et les MAE de chaque modèle\n",
    "    resultats_17h[stations_tests[num_station]] = [i, X, y, lr, MAE_lr, rf, MAE_rf, df_naif, MAE_naif, occupation_moyenne, y_test, y_prediction_lr, y_prediction_rf, y_naif, y_prediction_naif, variance_occupation]\n",
    "\n",
    "    # Visualisation des performances avec Prettytable\n",
    "    ptbl.add_row([stations_tests[num_station], occupation_moyenne, variance_occupation, MAE_lr, MAE_rf, MAE_naif])\n",
    "    \n",
    "print(ptbl)"
   ]
  },
  {
   "cell_type": "code",
   "execution_count": 235,
   "metadata": {},
   "outputs": [
    {
     "output_type": "stream",
     "name": "stdout",
     "text": [
      "+------------------------+-----------------------------+----------------------+----------------------+---------------------------------+\n| Mean(Occupation) / 17h | Mean(Std(Occupation)) / 17h | Moyenne MAE LR / 17h | Moyenne MAE RF / 17h | Moyenne MAE méthode naïve / 17h |\n+------------------------+-----------------------------+----------------------+----------------------+---------------------------------+\n|         14.92          |             5.18            |         8.74         |         7.87         |               8.42              |\n+------------------------+-----------------------------+----------------------+----------------------+---------------------------------+\n"
     ]
    }
   ],
   "source": [
    "ptbl = PrettyTable()\n",
    "ptbl.field_names = [\"Mean(Occupation) / 17h\", \"Mean(Std(Occupation)) / 17h\", \"Moyenne MAE LR / 17h\", \"Moyenne MAE RF / 17h\", \"Moyenne MAE méthode naïve / 17h\"]\n",
    "mean_capacity_17h = 0\n",
    "mean_std_occupation_17h = 0\n",
    "mean_MAE_lr_17h = 0\n",
    "mean_MAE_rf_17h = 0\n",
    "mean_MAE_naif_17h = 0\n",
    "\n",
    "# Parcourir le dictionnaire des résultats pour calculer la moyenne des indicateurs\n",
    "for key, item in resultats_17h.items():\n",
    "    mean_capacity_17h += resultats_17h[key][9]\n",
    "    mean_std_occupation_17h += resultats_17h[key][15]\n",
    "    mean_MAE_lr_17h += resultats_17h[key][4]\n",
    "    mean_MAE_rf_17h += resultats_17h[key][6]\n",
    "    mean_MAE_naif_17h += resultats_17h[key][8]\n",
    "\n",
    "# On divise par le nombre total de stations tests pour obtenir la moyenne\n",
    "mean_capacity_17h = round(mean_capacity_17h/len(resultats_17h),2)\n",
    "mean_std_occupation_17h = round(mean_std_occupation_17h/len(resultats_17h),2)\n",
    "mean_MAE_lr_17h = round(mean_MAE_lr_17h/len(resultats_17h),2)\n",
    "mean_MAE_rf_17h = round(mean_MAE_rf_17h/len(resultats_17h),2)\n",
    "mean_MAE_naif_17h = round(mean_MAE_naif_17h/len(resultats_17h),2)\n",
    "\n",
    "# Visualisation des performances avec Prettytable\n",
    "ptbl.add_row([mean_capacity_17h, mean_std_occupation_17h, mean_MAE_lr_17h, mean_MAE_rf_17h, mean_MAE_naif_17h])\n",
    "print(ptbl)"
   ]
  },
  {
   "source": [
    "# Résultats à 18h"
   ],
   "cell_type": "markdown",
   "metadata": {}
  },
  {
   "cell_type": "code",
   "execution_count": 251,
   "metadata": {},
   "outputs": [
    {
     "output_type": "stream",
     "name": "stdout",
     "text": [
      "+----------------+------------------------+-----------------------+--------------+--------------+-----------------------------+\n| Station target | Mean(Occupation) - 18h | Std(Occupation) - 18h | MAE LR - 18h | MAE RF - 18h | MAE méthode intuitive - 18h |\n+----------------+------------------------+-----------------------+--------------+--------------+-----------------------------+\n|   station_0    |          6.0           |          2.83         |     3.73     |     2.96     |             3.0             |\n|   station_1    |          41.6          |         15.09         |    16.34     |    14.35     |             18.2            |\n|   station_2    |          4.2           |          2.17         |     1.52     |     1.49     |             2.8             |\n|   station_3    |          2.4           |          2.3          |     4.61     |     4.86     |             5.4             |\n|   station_4    |          24.2          |          5.5          |     8.8      |     9.06     |             9.6             |\n|   station_5    |          34.8          |          7.12         |    12.41     |     10.6     |             7.0             |\n|   station_6    |          12.8          |          4.15         |     8.65     |     5.96     |             3.6             |\n|   station_7    |          12.8          |          6.61         |     7.72     |     6.62     |             10.0            |\n|   station_8    |          8.4           |          4.04         |     6.7      |     3.23     |             14.0            |\n|   station_9    |          24.6          |          7.3          |    14.63     |    15.66     |             13.0            |\n+----------------+------------------------+-----------------------+--------------+--------------+-----------------------------+\n"
     ]
    }
   ],
   "source": [
    "# Pour chaque station, on garde le numéro de la station dans le dataframe df_velib, les modèle lr et rf\n",
    "resultats_18h = {}\n",
    "# Préparation de la visualisation des résultats :\n",
    "ptbl = PrettyTable()\n",
    "ptbl.field_names = [\"Station target\", \"Mean(Occupation) - 18h\", \"Std(Occupation) - 18h\", \"MAE LR - 18h\", \"MAE RF - 18h\", \"MAE méthode intuitive - 18h\"]\n",
    "\n",
    "# Dataframe pour la Régression Linéaire et le Random Forest\n",
    "for num_station in range(len(stations_tests)):\n",
    "    \n",
    "    # Préparation du sous_df pour le ML pour 18h\n",
    "    df_1h = sous_df_1h(df_h,18)\n",
    "    df_ml = sous_df_ml(df_1h, num_station)\n",
    "\n",
    "\n",
    "    # Machine Learning\n",
    "    stations_features = [i for i in df_ml.columns if i != 'y']\n",
    "    X = df_ml[stations_features]\n",
    "    # Préparation de la target\n",
    "    y = df_ml['y']\n",
    "    # Séparation en données de test et d'entrainement\n",
    "    X_train, X_test, y_train, y_test = train_test_split(X, y, test_size=0.3, shuffle = False)\n",
    "    \n",
    "    # 1- Régression linéaire\n",
    "    lr = LinearRegression()\n",
    "    lr.fit(X_train, y_train)\n",
    "    y_prediction_lr = lr.predict(X_test)\n",
    "    MAE_lr = round(mean_absolute_error(y_test, y_prediction_lr),2)\n",
    "\n",
    "    # 2- Random Forest\n",
    "    rf = RandomForestRegressor(max_depth = 30, min_samples_split = 7, n_estimators = 600)\n",
    "    rf.fit(X_train, y_train)\n",
    "    y_prediction_rf = rf.predict(X_test)\n",
    "    MAE_rf = round(mean_absolute_error(y_test, y_prediction_rf),2)\n",
    "\n",
    "    # 3- Méthode naïve ou bien \"intuitive\" c'est-à-dire prédire que ce qui se passe 1 jour plus tard est exactement la même chose que la            veille\n",
    "    df_naif = X_test.copy()\n",
    "    #MAE_naif = round(abs(X_test[i]-y_test).mean() , 2)\n",
    "    MAE_naif = round(mean_absolute_error(X_test[num_station], y_test),2)\n",
    "\n",
    "    # Capacité moyenne de la station sur la période observée\n",
    "    occupation_moyenne = round(X_test[num_station].mean(),2)\n",
    "    # Variance de la capacité sur la période observée\n",
    "    variance_occupation = round(X_test[num_station].std(),2)\n",
    "\n",
    "    # Mise en forme des résultats\n",
    "    y_test = pd.DataFrame(y_test)\n",
    "    index = y_test.index\n",
    "    # Renommer pour plus de clarté\n",
    "    y_prediction_lr = pd.DataFrame(y_prediction_lr, index = index)\n",
    "    y_prediction_rf = pd.DataFrame(y_prediction_rf, index = index)\n",
    "    y_naif = pd.DataFrame(X_test[num_station])\n",
    "    y_prediction_naif = y_test\n",
    "\n",
    "    # Stockage des résultats : numéro de la station, les modèles, et les MAE de chaque modèle\n",
    "    resultats_18h[stations_tests[num_station]] = [i, X, y, lr, MAE_lr, rf, MAE_rf, df_naif, MAE_naif, occupation_moyenne, y_test, y_prediction_lr, y_prediction_rf, y_naif, y_prediction_naif, variance_occupation]\n",
    "\n",
    "    # Visualisation des performances avec Prettytable\n",
    "    ptbl.add_row([stations_tests[num_station], occupation_moyenne, variance_occupation, MAE_lr, MAE_rf, MAE_naif])\n",
    "    \n",
    "print(ptbl)"
   ]
  },
  {
   "cell_type": "code",
   "execution_count": 252,
   "metadata": {},
   "outputs": [
    {
     "output_type": "stream",
     "name": "stdout",
     "text": [
      "+------------------------+-----------------------------+----------------------+----------------------+---------------------------------+\n| Mean(Occupation) / 18h | Mean(Std(Occupation)) / 18h | Moyenne MAE LR / 18h | Moyenne MAE RF / 18h | Moyenne MAE méthode naïve / 18h |\n+------------------------+-----------------------------+----------------------+----------------------+---------------------------------+\n|         17.18          |             5.71            |         8.51         |         7.48         |               8.66              |\n+------------------------+-----------------------------+----------------------+----------------------+---------------------------------+\n"
     ]
    }
   ],
   "source": [
    "ptbl = PrettyTable()\n",
    "ptbl.field_names = [\"Mean(Occupation) / 18h\", \"Mean(Std(Occupation)) / 18h\", \"Moyenne MAE LR / 18h\", \"Moyenne MAE RF / 18h\", \"Moyenne MAE méthode naïve / 18h\"]\n",
    "mean_capacity_18h = 0\n",
    "mean_std_occupation_18h = 0\n",
    "mean_MAE_lr_18h = 0\n",
    "mean_MAE_rf_18h = 0\n",
    "mean_MAE_naif_18h = 0\n",
    "\n",
    "# Parcourir le dictionnaire des résultats pour calculer la moyenne des indicateurs\n",
    "for key, item in resultats_18h.items():\n",
    "    mean_capacity_18h += resultats_18h[key][9]\n",
    "    mean_std_occupation_18h += resultats_18h[key][15]\n",
    "    mean_MAE_lr_18h += resultats_18h[key][4]\n",
    "    mean_MAE_rf_18h += resultats_18h[key][6]\n",
    "    mean_MAE_naif_18h += resultats_18h[key][8]\n",
    "\n",
    "# On divise par le nombre total de stations tests pour obtenir la moyenne\n",
    "mean_capacity_18h = round(mean_capacity_18h/len(resultats_18h),2)\n",
    "mean_std_occupation_18h = round(mean_std_occupation_18h/len(resultats_18h),2)\n",
    "mean_MAE_lr_18h = round(mean_MAE_lr_18h/len(resultats_18h),2)\n",
    "mean_MAE_rf_18h = round(mean_MAE_rf_18h/len(resultats_18h),2)\n",
    "mean_MAE_naif_18h = round(mean_MAE_naif_18h/len(resultats_18h),2)\n",
    "\n",
    "# Visualisation des performances avec Prettytable\n",
    "ptbl.add_row([mean_capacity_18h, mean_std_occupation_18h, mean_MAE_lr_18h, mean_MAE_rf_18h, mean_MAE_naif_18h])\n",
    "print(ptbl)"
   ]
  },
  {
   "source": [
    "# Résultats à 19h"
   ],
   "cell_type": "markdown",
   "metadata": {}
  },
  {
   "cell_type": "code",
   "execution_count": 238,
   "metadata": {},
   "outputs": [
    {
     "output_type": "stream",
     "name": "stdout",
     "text": [
      "+----------------+------------------------+-----------------------+--------------+--------------+-----------------------------+\n| Station target | Mean(Occupation) - 19h | Std(Occupation) - 19h | MAE LR - 19h | MAE RF - 19h | MAE méthode intuitive - 19h |\n+----------------+------------------------+-----------------------+--------------+--------------+-----------------------------+\n|   station_0    |          4.5           |          1.29         |     3.42     |     2.5      |             2.5             |\n|   station_1    |         41.25          |          3.59         |    13.24     |    14.11     |            13.75            |\n|   station_2    |          2.0           |          1.83         |     1.35     |     1.25     |             2.25            |\n|   station_3    |          4.75          |          1.89         |     4.2      |     4.05     |             4.5             |\n|   station_4    |          16.5          |          3.32         |     3.45     |     3.0      |             4.5             |\n|   station_5    |          35.5          |          4.12         |     7.07     |     5.46     |             9.0             |\n|   station_6    |         14.75          |          6.85         |     6.19     |     6.24     |             9.5             |\n|   station_7    |          6.25          |          3.2          |     3.55     |     3.5      |             4.75            |\n|   station_8    |          5.75          |          3.5          |     5.81     |     5.48     |            15.25            |\n|   station_9    |         13.75          |          5.12         |     6.93     |     8.6      |            18.75            |\n+----------------+------------------------+-----------------------+--------------+--------------+-----------------------------+\n"
     ]
    }
   ],
   "source": [
    "# Pour chaque station, on garde le numéro de la station dans le dataframe df_velib, les modèle lr et rf\n",
    "resultats_19h = {}\n",
    "# Préparation de la visualisation des résultats :\n",
    "ptbl = PrettyTable()\n",
    "ptbl.field_names = [\"Station target\", \"Mean(Occupation) - 19h\", \"Std(Occupation) - 19h\", \"MAE LR - 19h\", \"MAE RF - 19h\", \"MAE méthode intuitive - 19h\"]\n",
    "\n",
    "# Dataframe pour la Régression Linéaire et le Random Forest\n",
    "for num_station in range(len(stations_tests)):\n",
    "    \n",
    "    # Préparation du sous_df pour le ML pour 19h\n",
    "    df_1h = sous_df_1h(df_h,19)\n",
    "    df_ml = sous_df_ml(df_1h, num_station)\n",
    "\n",
    "\n",
    "    # Machine Learning\n",
    "    stations_features = [i for i in df_ml.columns if i != 'y']\n",
    "    X = df_ml[stations_features]\n",
    "    # Préparation de la target\n",
    "    y = df_ml['y']\n",
    "    # Séparation en données de test et d'entrainement\n",
    "    X_train, X_test, y_train, y_test = train_test_split(X, y, test_size=0.3, shuffle = False)\n",
    "    \n",
    "    # 1- Régression linéaire\n",
    "    lr = LinearRegression()\n",
    "    lr.fit(X_train, y_train)\n",
    "    y_prediction_lr = lr.predict(X_test)\n",
    "    MAE_lr = round(mean_absolute_error(y_test, y_prediction_lr),2)\n",
    "\n",
    "    # 2- Random Forest\n",
    "    rf = RandomForestRegressor(max_depth = 30, min_samples_split = 7, n_estimators = 600)\n",
    "    rf.fit(X_train, y_train)\n",
    "    y_prediction_rf = rf.predict(X_test)\n",
    "    MAE_rf = round(mean_absolute_error(y_test, y_prediction_rf),2)\n",
    "\n",
    "    # 3- Méthode naïve ou bien \"intuitive\" c'est-à-dire prédire que ce qui se passe 1 jour plus tard est exactement la même chose que la            veille\n",
    "    df_naif = X_test.copy()\n",
    "    #MAE_naif = round(abs(X_test[i]-y_test).mean() , 2)\n",
    "    MAE_naif = round(mean_absolute_error(X_test[num_station], y_test),2)\n",
    "\n",
    "    # Capacité moyenne de la station sur la période observée\n",
    "    occupation_moyenne = round(X_test[num_station].mean(),2)\n",
    "    # Variance de la capacité sur la période observée\n",
    "    variance_occupation = round(X_test[num_station].std(),2)\n",
    "\n",
    "    # Mise en forme des résultats\n",
    "    y_test = pd.DataFrame(y_test)\n",
    "    index = y_test.index\n",
    "    # Renommer pour plus de clarté\n",
    "    y_prediction_lr = pd.DataFrame(y_prediction_lr, index = index)\n",
    "    y_prediction_rf = pd.DataFrame(y_prediction_rf, index = index)\n",
    "    y_naif = pd.DataFrame(X_test[num_station])\n",
    "    y_prediction_naif = y_test\n",
    "\n",
    "    # Stockage des résultats : numéro de la station, les modèles, et les MAE de chaque modèle\n",
    "    resultats_19h[stations_tests[num_station]] = [i, X, y, lr, MAE_lr, rf, MAE_rf, df_naif, MAE_naif, occupation_moyenne, y_test, y_prediction_lr, y_prediction_rf, y_naif, y_prediction_naif, variance_occupation]\n",
    "\n",
    "    # Visualisation des performances avec Prettytable\n",
    "    ptbl.add_row([stations_tests[num_station], occupation_moyenne, variance_occupation, MAE_lr, MAE_rf, MAE_naif])\n",
    "    \n",
    "print(ptbl)"
   ]
  },
  {
   "cell_type": "code",
   "execution_count": 239,
   "metadata": {},
   "outputs": [
    {
     "output_type": "stream",
     "name": "stdout",
     "text": [
      "+------------------------+-----------------------------+----------------------+----------------------+---------------------------------+\n| Mean(Occupation) / 19h | Mean(Std(Occupation)) / 19h | Moyenne MAE LR / 19h | Moyenne MAE RF / 19h | Moyenne MAE méthode naïve / 19h |\n+------------------------+-----------------------------+----------------------+----------------------+---------------------------------+\n|          14.5          |             3.47            |         5.52         |         5.42         |               8.48              |\n+------------------------+-----------------------------+----------------------+----------------------+---------------------------------+\n"
     ]
    }
   ],
   "source": [
    "ptbl = PrettyTable()\n",
    "ptbl.field_names = [\"Mean(Occupation) / 19h\", \"Mean(Std(Occupation)) / 19h\", \"Moyenne MAE LR / 19h\", \"Moyenne MAE RF / 19h\", \"Moyenne MAE méthode naïve / 19h\"]\n",
    "mean_capacity_19h = 0\n",
    "mean_std_occupation_19h = 0\n",
    "mean_MAE_lr_19h = 0\n",
    "mean_MAE_rf_19h = 0\n",
    "mean_MAE_naif_19h = 0\n",
    "\n",
    "# Parcourir le dictionnaire des résultats pour calculer la moyenne des indicateurs\n",
    "for key, item in resultats_19h.items():\n",
    "    mean_capacity_19h += resultats_19h[key][9]\n",
    "    mean_std_occupation_19h += resultats_19h[key][15]\n",
    "    mean_MAE_lr_19h += resultats_19h[key][4]\n",
    "    mean_MAE_rf_19h += resultats_19h[key][6]\n",
    "    mean_MAE_naif_19h += resultats_19h[key][8]\n",
    "\n",
    "# On divise par le nombre total de stations tests pour obtenir la moyenne\n",
    "mean_capacity_19h = round(mean_capacity_19h/len(resultats_19h),2)\n",
    "mean_std_occupation_19h = round(mean_std_occupation_19h/len(resultats_19h),2)\n",
    "mean_MAE_lr_19h = round(mean_MAE_lr_19h/len(resultats_19h),2)\n",
    "mean_MAE_rf_19h = round(mean_MAE_rf_19h/len(resultats_19h),2)\n",
    "mean_MAE_naif_19h = round(mean_MAE_naif_19h/len(resultats_19h),2)\n",
    "\n",
    "# Visualisation des performances avec Prettytable\n",
    "ptbl.add_row([mean_capacity_19h, mean_std_occupation_19h, mean_MAE_lr_19h, mean_MAE_rf_19h, mean_MAE_naif_19h])\n",
    "print(ptbl)"
   ]
  },
  {
   "source": [
    "# Résultats à 20h"
   ],
   "cell_type": "markdown",
   "metadata": {}
  },
  {
   "cell_type": "code",
   "execution_count": 240,
   "metadata": {},
   "outputs": [
    {
     "output_type": "stream",
     "name": "stdout",
     "text": [
      "+----------------+------------------------+-----------------------+--------------+--------------+-----------------------------+\n| Station target | Mean(Occupation) - 20h | Std(Occupation) - 20h | MAE LR - 20h | MAE RF - 20h | MAE méthode intuitive - 20h |\n+----------------+------------------------+-----------------------+--------------+--------------+-----------------------------+\n|   station_0    |          6.4           |          3.13         |     5.04     |     4.64     |             5.6             |\n|   station_1    |          36.4          |         18.66         |    19.87     |     17.5     |             19.2            |\n|   station_2    |          3.6           |          2.3          |     1.21     |     1.09     |             2.0             |\n|   station_3    |          4.6           |          2.97         |     2.47     |     2.48     |             5.2             |\n|   station_4    |          26.6          |          3.21         |     9.14     |     8.98     |             5.6             |\n|   station_5    |          32.4          |          8.26         |    11.54     |    11.31     |             7.4             |\n|   station_6    |          17.0          |          4.06         |     6.27     |     3.7      |             3.8             |\n|   station_7    |          10.2          |          4.55         |     6.51     |     5.36     |             8.2             |\n|   station_8    |          11.2          |          4.87         |     6.54     |     4.65     |             14.6            |\n|   station_9    |          28.8          |          8.17         |    10.61     |    11.06     |             12.2            |\n+----------------+------------------------+-----------------------+--------------+--------------+-----------------------------+\n"
     ]
    }
   ],
   "source": [
    "# Pour chaque station, on garde le numéro de la station dans le dataframe df_velib, les modèle lr et rf\n",
    "resultats_20h = {}\n",
    "# Préparation de la visualisation des résultats :\n",
    "ptbl = PrettyTable()\n",
    "ptbl.field_names = [\"Station target\", \"Mean(Occupation) - 20h\", \"Std(Occupation) - 20h\", \"MAE LR - 20h\", \"MAE RF - 20h\", \"MAE méthode intuitive - 20h\"]\n",
    "\n",
    "# Dataframe pour la Régression Linéaire et le Random Forest\n",
    "for num_station in range(len(stations_tests)):\n",
    "    \n",
    "    # Préparation du sous_df pour le ML pour 20h\n",
    "    df_1h = sous_df_1h(df_h,20)\n",
    "    df_ml = sous_df_ml(df_1h, num_station)\n",
    "\n",
    "\n",
    "    # Machine Learning\n",
    "    stations_features = [i for i in df_ml.columns if i != 'y']\n",
    "    X = df_ml[stations_features]\n",
    "    # Préparation de la target\n",
    "    y = df_ml['y']\n",
    "    # Séparation en données de test et d'entrainement\n",
    "    X_train, X_test, y_train, y_test = train_test_split(X, y, test_size=0.3, shuffle = False)\n",
    "    \n",
    "    # 1- Régression linéaire\n",
    "    lr = LinearRegression()\n",
    "    lr.fit(X_train, y_train)\n",
    "    y_prediction_lr = lr.predict(X_test)\n",
    "    MAE_lr = round(mean_absolute_error(y_test, y_prediction_lr),2)\n",
    "\n",
    "    # 2- Random Forest\n",
    "    rf = RandomForestRegressor(max_depth = 30, min_samples_split = 7, n_estimators = 600)\n",
    "    rf.fit(X_train, y_train)\n",
    "    y_prediction_rf = rf.predict(X_test)\n",
    "    MAE_rf = round(mean_absolute_error(y_test, y_prediction_rf),2)\n",
    "\n",
    "    # 3- Méthode naïve ou bien \"intuitive\" c'est-à-dire prédire que ce qui se passe 1 jour plus tard est exactement la même chose que la            veille\n",
    "    df_naif = X_test.copy()\n",
    "    #MAE_naif = round(abs(X_test[i]-y_test).mean() , 2)\n",
    "    MAE_naif = round(mean_absolute_error(X_test[num_station], y_test),2)\n",
    "\n",
    "    # Capacité moyenne de la station sur la période observée\n",
    "    occupation_moyenne = round(X_test[num_station].mean(),2)\n",
    "    # Variance de la capacité sur la période observée\n",
    "    variance_occupation = round(X_test[num_station].std(),2)\n",
    "\n",
    "    # Mise en forme des résultats\n",
    "    y_test = pd.DataFrame(y_test)\n",
    "    index = y_test.index\n",
    "    # Renommer pour plus de clarté\n",
    "    y_prediction_lr = pd.DataFrame(y_prediction_lr, index = index)\n",
    "    y_prediction_rf = pd.DataFrame(y_prediction_rf, index = index)\n",
    "    y_naif = pd.DataFrame(X_test[num_station])\n",
    "    y_prediction_naif = y_test\n",
    "\n",
    "    # Stockage des résultats : numéro de la station, les modèles, et les MAE de chaque modèle\n",
    "    resultats_20h[stations_tests[num_station]] = [i, X, y, lr, MAE_lr, rf, MAE_rf, df_naif, MAE_naif, occupation_moyenne, y_test, y_prediction_lr, y_prediction_rf, y_naif, y_prediction_naif, variance_occupation]\n",
    "\n",
    "    # Visualisation des performances avec Prettytable\n",
    "    ptbl.add_row([stations_tests[num_station], occupation_moyenne, variance_occupation, MAE_lr, MAE_rf, MAE_naif])\n",
    "    \n",
    "print(ptbl)"
   ]
  },
  {
   "cell_type": "code",
   "execution_count": 241,
   "metadata": {},
   "outputs": [
    {
     "output_type": "stream",
     "name": "stdout",
     "text": [
      "+------------------------+-----------------------------+----------------------+----------------------+---------------------------------+\n| Mean(Occupation) / 20h | Mean(Std(Occupation)) / 20h | Moyenne MAE LR / 20h | Moyenne MAE RF / 20h | Moyenne MAE méthode naïve / 20h |\n+------------------------+-----------------------------+----------------------+----------------------+---------------------------------+\n|         17.72          |             6.02            |         7.92         |         7.08         |               8.38              |\n+------------------------+-----------------------------+----------------------+----------------------+---------------------------------+\n"
     ]
    }
   ],
   "source": [
    "ptbl = PrettyTable()\n",
    "ptbl.field_names = [\"Mean(Occupation) / 20h\", \"Mean(Std(Occupation)) / 20h\", \"Moyenne MAE LR / 20h\", \"Moyenne MAE RF / 20h\", \"Moyenne MAE méthode naïve / 20h\"]\n",
    "mean_capacity_20h = 0\n",
    "mean_std_occupation_20h = 0\n",
    "mean_MAE_lr_20h = 0\n",
    "mean_MAE_rf_20h = 0\n",
    "mean_MAE_naif_20h = 0\n",
    "\n",
    "# Parcourir le dictionnaire des résultats pour calculer la moyenne des indicateurs\n",
    "for key, item in resultats_20h.items():\n",
    "    mean_capacity_20h += resultats_20h[key][9]\n",
    "    mean_std_occupation_20h += resultats_20h[key][15]\n",
    "    mean_MAE_lr_20h += resultats_20h[key][4]\n",
    "    mean_MAE_rf_20h += resultats_20h[key][6]\n",
    "    mean_MAE_naif_20h += resultats_20h[key][8]\n",
    "\n",
    "# On divise par le nombre total de stations tests pour obtenir la moyenne\n",
    "mean_capacity_20h = round(mean_capacity_20h/len(resultats_20h),2)\n",
    "mean_std_occupation_20h = round(mean_std_occupation_20h/len(resultats_20h),2)\n",
    "mean_MAE_lr_20h = round(mean_MAE_lr_20h/len(resultats_20h),2)\n",
    "mean_MAE_rf_20h = round(mean_MAE_rf_20h/len(resultats_20h),2)\n",
    "mean_MAE_naif_20h = round(mean_MAE_naif_20h/len(resultats_20h),2)\n",
    "\n",
    "# Visualisation des performances avec Prettytable\n",
    "ptbl.add_row([mean_capacity_20h, mean_std_occupation_20h, mean_MAE_lr_20h, mean_MAE_rf_20h, mean_MAE_naif_20h])\n",
    "print(ptbl)"
   ]
  },
  {
   "source": [
    "# Résultats à 21h"
   ],
   "cell_type": "markdown",
   "metadata": {}
  },
  {
   "cell_type": "code",
   "execution_count": 242,
   "metadata": {},
   "outputs": [
    {
     "output_type": "stream",
     "name": "stdout",
     "text": [
      "+----------------+------------------------+-----------------------+--------------+--------------+-----------------------------+\n| Station target | Mean(Occupation) - 21h | Std(Occupation) - 21h | MAE LR - 21h | MAE RF - 21h | MAE méthode intuitive - 21h |\n+----------------+------------------------+-----------------------+--------------+--------------+-----------------------------+\n|   station_0    |          6.8           |          1.79         |     4.19     |     3.85     |             4.4             |\n|   station_1    |          39.4          |         16.36         |     18.4     |    16.29     |             24.0            |\n|   station_2    |          3.8           |          2.39         |     2.62     |     1.71     |             1.8             |\n|   station_3    |          5.6           |          4.28         |     2.93     |     2.98     |             6.8             |\n|   station_4    |          23.6          |          7.3          |     8.33     |     7.85     |             6.4             |\n|   station_5    |          38.0          |          6.36         |    13.61     |     12.5     |             7.4             |\n|   station_6    |          18.2          |          6.1          |     5.33     |     2.97     |             7.4             |\n|   station_7    |          9.0           |          1.0          |     5.0      |     4.84     |             6.2             |\n|   station_8    |          9.4           |          2.61         |     6.8      |     3.74     |             17.2            |\n|   station_9    |          26.6          |          7.89         |    11.41     |    12.17     |             18.4            |\n+----------------+------------------------+-----------------------+--------------+--------------+-----------------------------+\n"
     ]
    }
   ],
   "source": [
    "# Pour chaque station, on garde le numéro de la station dans le dataframe df_velib, les modèle lr et rf\n",
    "resultats_21h = {}\n",
    "# Préparation de la visualisation des résultats :\n",
    "ptbl = PrettyTable()\n",
    "ptbl.field_names = [\"Station target\", \"Mean(Occupation) - 21h\", \"Std(Occupation) - 21h\", \"MAE LR - 21h\", \"MAE RF - 21h\", \"MAE méthode intuitive - 21h\"]\n",
    "\n",
    "# Dataframe pour la Régression Linéaire et le Random Forest\n",
    "for num_station in range(len(stations_tests)):\n",
    "    \n",
    "    # Préparation du sous_df pour le ML pour 21h\n",
    "    df_1h = sous_df_1h(df_h,21)\n",
    "    df_ml = sous_df_ml(df_1h, num_station)\n",
    "\n",
    "\n",
    "    # Machine Learning\n",
    "    stations_features = [i for i in df_ml.columns if i != 'y']\n",
    "    X = df_ml[stations_features]\n",
    "    # Préparation de la target\n",
    "    y = df_ml['y']\n",
    "    # Séparation en données de test et d'entrainement\n",
    "    X_train, X_test, y_train, y_test = train_test_split(X, y, test_size=0.3, shuffle = False)\n",
    "    \n",
    "    # 1- Régression linéaire\n",
    "    lr = LinearRegression()\n",
    "    lr.fit(X_train, y_train)\n",
    "    y_prediction_lr = lr.predict(X_test)\n",
    "    MAE_lr = round(mean_absolute_error(y_test, y_prediction_lr),2)\n",
    "\n",
    "    # 2- Random Forest\n",
    "    rf = RandomForestRegressor(max_depth = 30, min_samples_split = 7, n_estimators = 600)\n",
    "    rf.fit(X_train, y_train)\n",
    "    y_prediction_rf = rf.predict(X_test)\n",
    "    MAE_rf = round(mean_absolute_error(y_test, y_prediction_rf),2)\n",
    "\n",
    "    # 3- Méthode naïve ou bien \"intuitive\" c'est-à-dire prédire que ce qui se passe 1 jour plus tard est exactement la même chose que la            veille\n",
    "    df_naif = X_test.copy()\n",
    "    #MAE_naif = round(abs(X_test[i]-y_test).mean() , 2)\n",
    "    MAE_naif = round(mean_absolute_error(X_test[num_station], y_test),2)\n",
    "\n",
    "    # Capacité moyenne de la station sur la période observée\n",
    "    occupation_moyenne = round(X_test[num_station].mean(),2)\n",
    "    # Variance de la capacité sur la période observée\n",
    "    variance_occupation = round(X_test[num_station].std(),2)\n",
    "\n",
    "    # Mise en forme des résultats\n",
    "    y_test = pd.DataFrame(y_test)\n",
    "    index = y_test.index\n",
    "    # Renommer pour plus de clarté\n",
    "    y_prediction_lr = pd.DataFrame(y_prediction_lr, index = index)\n",
    "    y_prediction_rf = pd.DataFrame(y_prediction_rf, index = index)\n",
    "    y_naif = pd.DataFrame(X_test[num_station])\n",
    "    y_prediction_naif = y_test\n",
    "\n",
    "    # Stockage des résultats : numéro de la station, les modèles, et les MAE de chaque modèle\n",
    "    resultats_21h[stations_tests[num_station]] = [i, X, y, lr, MAE_lr, rf, MAE_rf, df_naif, MAE_naif, occupation_moyenne, y_test, y_prediction_lr, y_prediction_rf, y_naif, y_prediction_naif, variance_occupation]\n",
    "\n",
    "    # Visualisation des performances avec Prettytable\n",
    "    ptbl.add_row([stations_tests[num_station], occupation_moyenne, variance_occupation, MAE_lr, MAE_rf, MAE_naif])\n",
    "    \n",
    "print(ptbl)"
   ]
  },
  {
   "cell_type": "code",
   "execution_count": 243,
   "metadata": {},
   "outputs": [
    {
     "output_type": "stream",
     "name": "stdout",
     "text": [
      "+------------------------+-----------------------------+----------------------+----------------------+---------------------------------+\n| Mean(Occupation) / 21h | Mean(Std(Occupation)) / 21h | Moyenne MAE LR / 21h | Moyenne MAE RF / 21h | Moyenne MAE méthode naïve / 21h |\n+------------------------+-----------------------------+----------------------+----------------------+---------------------------------+\n|         18.04          |             5.61            |         7.86         |         6.89         |               10.0              |\n+------------------------+-----------------------------+----------------------+----------------------+---------------------------------+\n"
     ]
    }
   ],
   "source": [
    "ptbl = PrettyTable()\n",
    "ptbl.field_names = [\"Mean(Occupation) / 21h\", \"Mean(Std(Occupation)) / 21h\", \"Moyenne MAE LR / 21h\", \"Moyenne MAE RF / 21h\", \"Moyenne MAE méthode naïve / 21h\"]\n",
    "mean_capacity_21h = 0\n",
    "mean_std_occupation_21h = 0\n",
    "mean_MAE_lr_21h = 0\n",
    "mean_MAE_rf_21h = 0\n",
    "mean_MAE_naif_21h = 0\n",
    "\n",
    "# Parcourir le dictionnaire des résultats pour calculer la moyenne des indicateurs\n",
    "for key, item in resultats_21h.items():\n",
    "    mean_capacity_21h += resultats_21h[key][9]\n",
    "    mean_std_occupation_21h += resultats_21h[key][15]\n",
    "    mean_MAE_lr_21h += resultats_21h[key][4]\n",
    "    mean_MAE_rf_21h += resultats_21h[key][6]\n",
    "    mean_MAE_naif_21h += resultats_21h[key][8]\n",
    "\n",
    "# On divise par le nombre total de stations tests pour obtenir la moyenne\n",
    "mean_capacity_21h = round(mean_capacity_21h/len(resultats_18h),2)\n",
    "mean_std_occupation_21h = round(mean_std_occupation_21h/len(resultats_18h),2)\n",
    "mean_MAE_lr_21h = round(mean_MAE_lr_21h/len(resultats_18h),2)\n",
    "mean_MAE_rf_21h = round(mean_MAE_rf_21h/len(resultats_18h),2)\n",
    "mean_MAE_naif_21h = round(mean_MAE_naif_21h/len(resultats_18h),2)\n",
    "\n",
    "# Visualisation des performances avec Prettytable\n",
    "ptbl.add_row([mean_capacity_21h, mean_std_occupation_21h, mean_MAE_lr_21h, mean_MAE_rf_21h, mean_MAE_naif_21h])\n",
    "print(ptbl)"
   ]
  },
  {
   "source": [
    "# Résultats à 22h"
   ],
   "cell_type": "markdown",
   "metadata": {}
  },
  {
   "cell_type": "code",
   "execution_count": 244,
   "metadata": {},
   "outputs": [
    {
     "output_type": "stream",
     "name": "stdout",
     "text": [
      "+----------------+------------------------+-----------------------+--------------+--------------+-----------------------------+\n| Station target | Mean(Occupation) - 22h | Std(Occupation) - 22h | MAE LR - 22h | MAE RF - 22h | MAE méthode intuitive - 22h |\n+----------------+------------------------+-----------------------+--------------+--------------+-----------------------------+\n|   station_0    |          4.75          |          3.3          |     4.67     |     4.54     |             5.75            |\n|   station_1    |         42.75          |          5.56         |    15.91     |     19.1     |            24.25            |\n|   station_2    |          2.25          |          1.89         |     2.03     |     1.62     |             3.0             |\n|   station_3    |          8.25          |          5.56         |     3.6      |     3.52     |             5.75            |\n|   station_4    |         23.75          |          6.65         |     7.3      |     7.46     |             8.5             |\n|   station_5    |          41.5          |          4.36         |    17.18     |     19.4     |             7.5             |\n|   station_6    |         18.75          |          7.23         |     2.98     |     3.13     |             4.75            |\n|   station_7    |          8.5           |          3.11         |     7.79     |     8.35     |             8.5             |\n|   station_8    |          9.75          |          2.5          |     8.45     |     7.28     |            17.25            |\n|   station_9    |         20.25          |          2.99         |    12.83     |    12.45     |             29.5            |\n+----------------+------------------------+-----------------------+--------------+--------------+-----------------------------+\n"
     ]
    }
   ],
   "source": [
    "# Pour chaque station, on garde le numéro de la station dans le dataframe df_velib, les modèle lr et rf\n",
    "resultats_22h = {}\n",
    "# Préparation de la visualisation des résultats :\n",
    "ptbl = PrettyTable()\n",
    "ptbl.field_names = [\"Station target\", \"Mean(Occupation) - 22h\", \"Std(Occupation) - 22h\", \"MAE LR - 22h\", \"MAE RF - 22h\", \"MAE méthode intuitive - 22h\"]\n",
    "\n",
    "# Dataframe pour la Régression Linéaire et le Random Forest\n",
    "for num_station in range(len(stations_tests)):\n",
    "    \n",
    "    # Préparation du sous_df pour le ML pour 22h\n",
    "    df_1h = sous_df_1h(df_h,22)\n",
    "    df_ml = sous_df_ml(df_1h, num_station)\n",
    "\n",
    "\n",
    "    # Machine Learning\n",
    "    stations_features = [i for i in df_ml.columns if i != 'y']\n",
    "    X = df_ml[stations_features]\n",
    "    # Préparation de la target\n",
    "    y = df_ml['y']\n",
    "    # Séparation en données de test et d'entrainement\n",
    "    X_train, X_test, y_train, y_test = train_test_split(X, y, test_size=0.3, shuffle = False)\n",
    "    \n",
    "    # 1- Régression linéaire\n",
    "    lr = LinearRegression()\n",
    "    lr.fit(X_train, y_train)\n",
    "    y_prediction_lr = lr.predict(X_test)\n",
    "    MAE_lr = round(mean_absolute_error(y_test, y_prediction_lr),2)\n",
    "\n",
    "    # 2- Random Forest\n",
    "    rf = RandomForestRegressor(max_depth = 30, min_samples_split = 7, n_estimators = 600)\n",
    "    rf.fit(X_train, y_train)\n",
    "    y_prediction_rf = rf.predict(X_test)\n",
    "    MAE_rf = round(mean_absolute_error(y_test, y_prediction_rf),2)\n",
    "\n",
    "    # 3- Méthode naïve ou bien \"intuitive\" c'est-à-dire prédire que ce qui se passe 1 jour plus tard est exactement la même chose que la            veille\n",
    "    df_naif = X_test.copy()\n",
    "    #MAE_naif = round(abs(X_test[i]-y_test).mean() , 2)\n",
    "    MAE_naif = round(mean_absolute_error(X_test[num_station], y_test),2)\n",
    "\n",
    "    # Capacité moyenne de la station sur la période observée\n",
    "    occupation_moyenne = round(X_test[num_station].mean(),2)\n",
    "    # Variance de la capacité sur la période observée\n",
    "    variance_occupation = round(X_test[num_station].std(),2)\n",
    "\n",
    "    # Mise en forme des résultats\n",
    "    y_test = pd.DataFrame(y_test)\n",
    "    index = y_test.index\n",
    "    # Renommer pour plus de clarté\n",
    "    y_prediction_lr = pd.DataFrame(y_prediction_lr, index = index)\n",
    "    y_prediction_rf = pd.DataFrame(y_prediction_rf, index = index)\n",
    "    y_naif = pd.DataFrame(X_test[num_station])\n",
    "    y_prediction_naif = y_test\n",
    "\n",
    "    # Stockage des résultats : numéro de la station, les modèles, et les MAE de chaque modèle\n",
    "    resultats_22h[stations_tests[num_station]] = [i, X, y, lr, MAE_lr, rf, MAE_rf, df_naif, MAE_naif, occupation_moyenne, y_test, y_prediction_lr, y_prediction_rf, y_naif, y_prediction_naif, variance_occupation]\n",
    "\n",
    "    # Visualisation des performances avec Prettytable\n",
    "    ptbl.add_row([stations_tests[num_station], occupation_moyenne, variance_occupation, MAE_lr, MAE_rf, MAE_naif])\n",
    "    \n",
    "print(ptbl)"
   ]
  },
  {
   "cell_type": "code",
   "execution_count": 245,
   "metadata": {},
   "outputs": [
    {
     "output_type": "stream",
     "name": "stdout",
     "text": [
      "+------------------------+-----------------------------+----------------------+----------------------+---------------------------------+\n| Mean(Occupation) / 22h | Mean(Std(Occupation)) / 22h | Moyenne MAE LR / 22h | Moyenne MAE RF / 22h | Moyenne MAE méthode naïve / 22h |\n+------------------------+-----------------------------+----------------------+----------------------+---------------------------------+\n|         18.05          |             4.31            |         8.27         |         8.68         |              11.48              |\n+------------------------+-----------------------------+----------------------+----------------------+---------------------------------+\n"
     ]
    }
   ],
   "source": [
    "ptbl = PrettyTable()\n",
    "ptbl.field_names = [\"Mean(Occupation) / 22h\", \"Mean(Std(Occupation)) / 22h\", \"Moyenne MAE LR / 22h\", \"Moyenne MAE RF / 22h\", \"Moyenne MAE méthode naïve / 22h\"]\n",
    "mean_capacity_22h = 0\n",
    "mean_std_occupation_22h = 0\n",
    "mean_MAE_lr_22h = 0\n",
    "mean_MAE_rf_22h = 0\n",
    "mean_MAE_naif_22h = 0\n",
    "\n",
    "# Parcourir le dictionnaire des résultats pour calculer la moyenne des indicateurs\n",
    "for key, item in resultats_22h.items():\n",
    "    mean_capacity_22h += resultats_22h[key][9]\n",
    "    mean_std_occupation_22h += resultats_22h[key][15]\n",
    "    mean_MAE_lr_22h += resultats_22h[key][4]\n",
    "    mean_MAE_rf_22h += resultats_22h[key][6]\n",
    "    mean_MAE_naif_22h += resultats_22h[key][8]\n",
    "\n",
    "# On divise par le nombre total de stations tests pour obtenir la moyenne\n",
    "mean_capacity_22h = round(mean_capacity_22h/len(resultats_18h),2)\n",
    "mean_std_occupation_22h = round(mean_std_occupation_22h/len(resultats_18h),2)\n",
    "mean_MAE_lr_22h = round(mean_MAE_lr_22h/len(resultats_18h),2)\n",
    "mean_MAE_rf_22h = round(mean_MAE_rf_22h/len(resultats_18h),2)\n",
    "mean_MAE_naif_22h = round(mean_MAE_naif_22h/len(resultats_18h),2)\n",
    "\n",
    "# Visualisation des performances avec Prettytable\n",
    "ptbl.add_row([mean_capacity_22h, mean_std_occupation_22h, mean_MAE_lr_22h, mean_MAE_rf_22h, mean_MAE_naif_22h])\n",
    "print(ptbl)"
   ]
  },
  {
   "source": [
    "# Résultats à 23h"
   ],
   "cell_type": "markdown",
   "metadata": {}
  },
  {
   "cell_type": "code",
   "execution_count": 253,
   "metadata": {},
   "outputs": [
    {
     "output_type": "stream",
     "name": "stdout",
     "text": [
      "+----------------+------------------------+-----------------------+--------------+--------------+-----------------------------+\n| Station target | Mean(Occupation) - 23h | Std(Occupation) - 23h | MAE LR - 23h | MAE RF - 23h | MAE méthode intuitive - 23h |\n+----------------+------------------------+-----------------------+--------------+--------------+-----------------------------+\n|   station_0    |          5.4           |          3.21         |     4.43     |     4.02     |             4.8             |\n|   station_1    |          44.8          |          6.76         |    15.45     |    16.01     |             22.2            |\n|   station_2    |          3.8           |          3.03         |     1.57     |     1.25     |             1.4             |\n|   station_3    |          6.4           |          4.88         |     1.42     |     2.17     |             5.2             |\n|   station_4    |          24.6          |          5.59         |     7.07     |     6.68     |             5.6             |\n|   station_5    |          41.0          |          3.39         |    12.43     |    10.56     |             6.0             |\n|   station_6    |          18.4          |          6.77         |     4.5      |     4.38     |             8.4             |\n|   station_7    |          9.6           |          2.61         |     7.05     |     6.23     |             7.2             |\n|   station_8    |          10.6          |          2.79         |     5.8      |     4.52     |             13.4            |\n|   station_9    |          24.2          |          6.69         |     13.5     |    14.26     |             21.8            |\n+----------------+------------------------+-----------------------+--------------+--------------+-----------------------------+\n"
     ]
    }
   ],
   "source": [
    "# Pour chaque station, on garde le numéro de la station dans le dataframe df_velib, les modèle lr et rf\n",
    "resultats_23h = {}\n",
    "# Préparation de la visualisation des résultats :\n",
    "ptbl = PrettyTable()\n",
    "ptbl.field_names = [\"Station target\", \"Mean(Occupation) - 23h\", \"Std(Occupation) - 23h\", \"MAE LR - 23h\", \"MAE RF - 23h\", \"MAE méthode intuitive - 23h\"]\n",
    "\n",
    "# Dataframe pour la Régression Linéaire et le Random Forest\n",
    "for num_station in range(len(stations_tests)):\n",
    "    \n",
    "    # Préparation du sous_df pour le ML pour 23h\n",
    "    df_1h = sous_df_1h(df_h,23)\n",
    "    df_ml = sous_df_ml(df_1h, num_station)\n",
    "\n",
    "\n",
    "    # Machine Learning\n",
    "    stations_features = [i for i in df_ml.columns if i != 'y']\n",
    "    X = df_ml[stations_features]\n",
    "    # Préparation de la target\n",
    "    y = df_ml['y']\n",
    "    # Séparation en données de test et d'entrainement\n",
    "    X_train, X_test, y_train, y_test = train_test_split(X, y, test_size=0.3, shuffle = False)\n",
    "    \n",
    "    # 1- Régression linéaire\n",
    "    lr = LinearRegression()\n",
    "    lr.fit(X_train, y_train)\n",
    "    y_prediction_lr = lr.predict(X_test)\n",
    "    MAE_lr = round(mean_absolute_error(y_test, y_prediction_lr),2)\n",
    "\n",
    "    # 2- Random Forest\n",
    "    rf = RandomForestRegressor(max_depth = 30, min_samples_split = 7, n_estimators = 600)\n",
    "    rf.fit(X_train, y_train)\n",
    "    y_prediction_rf = rf.predict(X_test)\n",
    "    MAE_rf = round(mean_absolute_error(y_test, y_prediction_rf),2)\n",
    "\n",
    "    # 3- Méthode naïve ou bien \"intuitive\" c'est-à-dire prédire que ce qui se passe 1 jour plus tard est exactement la même chose que la            veille\n",
    "    df_naif = X_test.copy()\n",
    "    #MAE_naif = round(abs(X_test[i]-y_test).mean() , 2)\n",
    "    MAE_naif = round(mean_absolute_error(X_test[num_station], y_test),2)\n",
    "\n",
    "    # Capacité moyenne de la station sur la période observée\n",
    "    occupation_moyenne = round(X_test[num_station].mean(),2)\n",
    "    # Variance de la capacité sur la période observée\n",
    "    variance_occupation = round(X_test[num_station].std(),2)\n",
    "\n",
    "    # Mise en forme des résultats\n",
    "    y_test = pd.DataFrame(y_test)\n",
    "    index = y_test.index\n",
    "    # Renommer pour plus de clarté\n",
    "    y_prediction_lr = pd.DataFrame(y_prediction_lr, index = index)\n",
    "    y_prediction_rf = pd.DataFrame(y_prediction_rf, index = index)\n",
    "    y_naif = pd.DataFrame(X_test[num_station])\n",
    "    y_prediction_naif = y_test\n",
    "\n",
    "    # Stockage des résultats : numéro de la station, les modèles, et les MAE de chaque modèle\n",
    "    resultats_23h[stations_tests[num_station]] = [i, X, y, lr, MAE_lr, rf, MAE_rf, df_naif, MAE_naif, occupation_moyenne, y_test, y_prediction_lr, y_prediction_rf, y_naif, y_prediction_naif, variance_occupation]\n",
    "\n",
    "    # Visualisation des performances avec Prettytable\n",
    "    ptbl.add_row([stations_tests[num_station], occupation_moyenne, variance_occupation, MAE_lr, MAE_rf, MAE_naif])\n",
    "    \n",
    "print(ptbl)"
   ]
  },
  {
   "cell_type": "code",
   "execution_count": 254,
   "metadata": {},
   "outputs": [
    {
     "output_type": "stream",
     "name": "stdout",
     "text": [
      "+------------------------+-----------------------------+----------------------+----------------------+---------------------------------+\n| Mean(Occupation) / 23h | Mean(Std(Occupation)) / 23h | Moyenne MAE LR / 23h | Moyenne MAE RF / 23h | Moyenne MAE méthode naïve / 23h |\n+------------------------+-----------------------------+----------------------+----------------------+---------------------------------+\n|         18.88          |             4.57            |         7.32         |         7.01         |               9.6               |\n+------------------------+-----------------------------+----------------------+----------------------+---------------------------------+\n"
     ]
    }
   ],
   "source": [
    "ptbl = PrettyTable()\n",
    "ptbl.field_names = [\"Mean(Occupation) / 23h\", \"Mean(Std(Occupation)) / 23h\", \"Moyenne MAE LR / 23h\", \"Moyenne MAE RF / 23h\", \"Moyenne MAE méthode naïve / 23h\"]\n",
    "mean_capacity_23h = 0\n",
    "mean_std_occupation_23h = 0\n",
    "mean_MAE_lr_23h = 0\n",
    "mean_MAE_rf_23h = 0\n",
    "mean_MAE_naif_23h = 0\n",
    "\n",
    "# Parcourir le dictionnaire des résultats pour calculer la moyenne des indicateurs\n",
    "for key, item in resultats_23h.items():\n",
    "    mean_capacity_23h += resultats_23h[key][9]\n",
    "    mean_std_occupation_23h += resultats_23h[key][15]\n",
    "    mean_MAE_lr_23h += resultats_23h[key][4]\n",
    "    mean_MAE_rf_23h += resultats_23h[key][6]\n",
    "    mean_MAE_naif_23h += resultats_23h[key][8]\n",
    "\n",
    "# On divise par le nombre total de stations tests pour obtenir la moyenne\n",
    "mean_capacity_23h = round(mean_capacity_23h/len(resultats_23h),2)\n",
    "mean_std_occupation_23h = round(mean_std_occupation_23h/len(resultats_23h),2)\n",
    "mean_MAE_lr_23h = round(mean_MAE_lr_23h/len(resultats_23h),2)\n",
    "mean_MAE_rf_23h = round(mean_MAE_rf_23h/len(resultats_23h),2)\n",
    "mean_MAE_naif_23h = round(mean_MAE_naif_23h/len(resultats_23h),2)\n",
    "\n",
    "# Visualisation des performances avec Prettytable\n",
    "ptbl.add_row([mean_capacity_23h, mean_std_occupation_23h, mean_MAE_lr_23h, mean_MAE_rf_23h, mean_MAE_naif_23h])\n",
    "print(ptbl)"
   ]
  },
  {
   "cell_type": "code",
   "execution_count": 248,
   "metadata": {},
   "outputs": [
    {
     "output_type": "execute_result",
     "data": {
      "text/plain": [
       "array([ 0.,  1.,  2.,  3.,  4.,  5.,  6.,  7.,  8.,  9., 10., 11., 12.,\n",
       "       13., 14., 15., 16., 17., 18., 19., 20., 21., 22., 23.])"
      ]
     },
     "metadata": {},
     "execution_count": 248
    }
   ],
   "source": [
    "heures"
   ]
  },
  {
   "cell_type": "code",
   "execution_count": 255,
   "metadata": {},
   "outputs": [],
   "source": [
    "erreur_pred_lr_h_par_h = [mean_MAE_lr_0h, mean_MAE_lr_1h, mean_MAE_lr_2h, mean_MAE_lr_3h, mean_MAE_lr_4h, mean_MAE_lr_5h, mean_MAE_lr_6h, mean_MAE_lr_7h, mean_MAE_lr_8h, mean_MAE_lr_9h, mean_MAE_lr_10h, mean_MAE_lr_11h, mean_MAE_lr_12h, mean_MAE_lr_13h, mean_MAE_lr_14h, mean_MAE_lr_15h, mean_MAE_lr_16h, mean_MAE_lr_17h, mean_MAE_lr_18h, mean_MAE_lr_19h, mean_MAE_lr_20h, mean_MAE_lr_21h, mean_MAE_lr_22h, mean_MAE_lr_23h]\n",
    "\n",
    "erreur_pred_rf_h_par_h = [mean_MAE_rf_0h, mean_MAE_rf_1h, mean_MAE_rf_2h, mean_MAE_rf_3h, mean_MAE_rf_4h, mean_MAE_rf_5h, mean_MAE_rf_6h, mean_MAE_rf_7h, mean_MAE_rf_8h, mean_MAE_rf_9h, mean_MAE_rf_10h, mean_MAE_rf_11h, mean_MAE_rf_12h, mean_MAE_rf_13h, mean_MAE_rf_14h, mean_MAE_rf_15h, mean_MAE_rf_16h, mean_MAE_rf_17h, mean_MAE_rf_18h, mean_MAE_rf_19h, mean_MAE_rf_20h, mean_MAE_rf_21h, mean_MAE_rf_22h, mean_MAE_rf_23h]\n",
    "\n",
    "erreur_pred_naif_h_par_h = [mean_MAE_naif_0h, mean_MAE_naif_1h, mean_MAE_naif_2h, mean_MAE_naif_3h, mean_MAE_naif_4h, mean_MAE_naif_5h, mean_MAE_naif_6h, mean_MAE_naif_7h, mean_MAE_naif_8h, mean_MAE_naif_9h, mean_MAE_naif_10h, mean_MAE_naif_11h, mean_MAE_naif_12h, mean_MAE_naif_13h, mean_MAE_naif_14h, mean_MAE_naif_15h, mean_MAE_naif_16h, mean_MAE_naif_17h, mean_MAE_naif_18h, mean_MAE_naif_19h, mean_MAE_naif_20h, mean_MAE_naif_21h, mean_MAE_naif_22h, mean_MAE_naif_23h]"
   ]
  },
  {
   "cell_type": "code",
   "execution_count": 263,
   "metadata": {},
   "outputs": [
    {
     "output_type": "display_data",
     "data": {
      "application/vnd.plotly.v1+json": {
       "config": {
        "plotlyServerURL": "https://plot.ly"
       },
       "data": [
        {
         "line": {
          "color": "#636EFA"
         },
         "name": "Erreur moyenne avec Régression Linéaire",
         "type": "scatter",
         "x": [
          0,
          1,
          2,
          3,
          4,
          5,
          6,
          7,
          8,
          9,
          10,
          11,
          12,
          13,
          14,
          15,
          16,
          17,
          18,
          19,
          20,
          21,
          22,
          23
         ],
         "y": [
          9.77,
          10.09,
          9.93,
          9.08,
          9.32,
          9.34,
          9.45,
          10.04,
          10.35,
          9.45,
          9.72,
          9.35,
          8.46,
          8.38,
          8.37,
          8.01,
          8.47,
          8.64,
          8.59,
          9.59,
          8.94,
          9.6,
          9.55,
          9.72
         ]
        },
        {
         "line": {
          "color": "#636EFA",
          "dash": "dot",
          "width": 1
         },
         "name": "Erreur moyenne avec Régression Linéaire / 1 modèle par heure",
         "type": "scatter",
         "x": [
          0,
          1,
          2,
          3,
          4,
          5,
          6,
          7,
          8,
          9,
          10,
          11,
          12,
          13,
          14,
          15,
          16,
          17,
          18,
          19,
          20,
          21,
          22,
          23
         ],
         "y": [
          7.74,
          7.77,
          7.76,
          9.22,
          8.72,
          9.09,
          5.79,
          7.11,
          8.47,
          7.91,
          10.08,
          8.68,
          8.59,
          8.22,
          6.32,
          8.26,
          9.98,
          8.74,
          8.51,
          5.52,
          7.92,
          7.86,
          8.27,
          7.32
         ]
        },
        {
         "line": {
          "color": "#EF553B"
         },
         "name": "Erreur moyenne avec Forêt aléatoire",
         "type": "scatter",
         "x": [
          0,
          1,
          2,
          3,
          4,
          5,
          6,
          7,
          8,
          9,
          10,
          11,
          12,
          13,
          14,
          15,
          16,
          17,
          18,
          19,
          20,
          21,
          22,
          23
         ],
         "y": [
          7.12,
          7.32,
          7.02,
          6.51,
          6.55,
          6.65,
          6.23,
          6.71,
          6.9,
          6.97,
          6.96,
          6.65,
          6.23,
          6.08,
          6.2,
          5.76,
          5.91,
          6.55,
          6.67,
          6.98,
          7.12,
          7.36,
          6.81,
          6.96
         ]
        },
        {
         "line": {
          "color": "#EF553B",
          "dash": "dot",
          "width": 1
         },
         "name": "Erreur moyenne avec Forêt aléatoire / 1 modèle par heure",
         "type": "scatter",
         "x": [
          0,
          1,
          2,
          3,
          4,
          5,
          6,
          7,
          8,
          9,
          10,
          11,
          12,
          13,
          14,
          15,
          16,
          17,
          18,
          19,
          20,
          21,
          22,
          23
         ],
         "y": [
          7.34,
          7.05,
          7.06,
          8.97,
          8.55,
          7.94,
          5.66,
          6.73,
          7.69,
          7.21,
          9.05,
          8.47,
          7.96,
          7.08,
          6.24,
          7.25,
          8.91,
          7.87,
          7.48,
          5.42,
          7.08,
          6.89,
          8.68,
          7.01
         ]
        },
        {
         "line": {
          "color": "#00CC96"
         },
         "name": "Erreur moyenne avec la méthode naïve",
         "type": "scatter",
         "x": [
          0,
          1,
          2,
          3,
          4,
          5,
          6,
          7,
          8,
          9,
          10,
          11,
          12,
          13,
          14,
          15,
          16,
          17,
          18,
          19,
          20,
          21,
          22,
          23
         ],
         "y": [
          6.34,
          6.65,
          6.56,
          6.39,
          6.31,
          6.29,
          6.26,
          6.91,
          6.82,
          6.69,
          6.43,
          6.28,
          5.92,
          5.66,
          5.86,
          5.72,
          5.78,
          6.46,
          6.38,
          6.68,
          6.1,
          5.83,
          6.17,
          6.26
         ]
        },
        {
         "line": {
          "color": "#00CC96",
          "dash": "dot",
          "width": 1
         },
         "name": "Erreur moyenne avec la méthode naïve / 1 modèle par heure",
         "type": "scatter",
         "x": [
          0,
          1,
          2,
          3,
          4,
          5,
          6,
          7,
          8,
          9,
          10,
          11,
          12,
          13,
          14,
          15,
          16,
          17,
          18,
          19,
          20,
          21,
          22,
          23
         ],
         "y": [
          9.26,
          9.24,
          8.32,
          9.82,
          8.95,
          10.42,
          8.88,
          8.54,
          8.7,
          9.5,
          11.98,
          9.12,
          8.28,
          8.14,
          8.56,
          9.54,
          10.3,
          8.42,
          8.66,
          8.48,
          8.38,
          10,
          11.48,
          9.6
         ]
        },
        {
         "mode": "text",
         "showlegend": false,
         "text": [
          "Nuit",
          "19h-5h59",
          "Journée",
          "6h-18h59"
         ],
         "type": "scatter",
         "x": [
          4,
          4,
          12.5,
          12.5
         ],
         "y": [
          11,
          10.5,
          11,
          10.5
         ]
        }
       ],
       "layout": {
        "autosize": false,
        "height": 500,
        "legend": {
         "title": {
          "text": ""
         }
        },
        "shapes": [
         {
          "line": {
           "color": "black",
           "dash": "dot",
           "width": 2
          },
          "type": "line",
          "x0": 6,
          "x1": 6,
          "y0": 0,
          "y1": 12.5
         },
         {
          "line": {
           "color": "black",
           "dash": "dot",
           "width": 2
          },
          "type": "line",
          "x0": 19,
          "x1": 19,
          "y0": 0,
          "y1": 12.5
         }
        ],
        "template": {
         "data": {
          "bar": [
           {
            "error_x": {
             "color": "#2a3f5f"
            },
            "error_y": {
             "color": "#2a3f5f"
            },
            "marker": {
             "line": {
              "color": "#E5ECF6",
              "width": 0.5
             }
            },
            "type": "bar"
           }
          ],
          "barpolar": [
           {
            "marker": {
             "line": {
              "color": "#E5ECF6",
              "width": 0.5
             }
            },
            "type": "barpolar"
           }
          ],
          "carpet": [
           {
            "aaxis": {
             "endlinecolor": "#2a3f5f",
             "gridcolor": "white",
             "linecolor": "white",
             "minorgridcolor": "white",
             "startlinecolor": "#2a3f5f"
            },
            "baxis": {
             "endlinecolor": "#2a3f5f",
             "gridcolor": "white",
             "linecolor": "white",
             "minorgridcolor": "white",
             "startlinecolor": "#2a3f5f"
            },
            "type": "carpet"
           }
          ],
          "choropleth": [
           {
            "colorbar": {
             "outlinewidth": 0,
             "ticks": ""
            },
            "type": "choropleth"
           }
          ],
          "contour": [
           {
            "colorbar": {
             "outlinewidth": 0,
             "ticks": ""
            },
            "colorscale": [
             [
              0,
              "#0d0887"
             ],
             [
              0.1111111111111111,
              "#46039f"
             ],
             [
              0.2222222222222222,
              "#7201a8"
             ],
             [
              0.3333333333333333,
              "#9c179e"
             ],
             [
              0.4444444444444444,
              "#bd3786"
             ],
             [
              0.5555555555555556,
              "#d8576b"
             ],
             [
              0.6666666666666666,
              "#ed7953"
             ],
             [
              0.7777777777777778,
              "#fb9f3a"
             ],
             [
              0.8888888888888888,
              "#fdca26"
             ],
             [
              1,
              "#f0f921"
             ]
            ],
            "type": "contour"
           }
          ],
          "contourcarpet": [
           {
            "colorbar": {
             "outlinewidth": 0,
             "ticks": ""
            },
            "type": "contourcarpet"
           }
          ],
          "heatmap": [
           {
            "colorbar": {
             "outlinewidth": 0,
             "ticks": ""
            },
            "colorscale": [
             [
              0,
              "#0d0887"
             ],
             [
              0.1111111111111111,
              "#46039f"
             ],
             [
              0.2222222222222222,
              "#7201a8"
             ],
             [
              0.3333333333333333,
              "#9c179e"
             ],
             [
              0.4444444444444444,
              "#bd3786"
             ],
             [
              0.5555555555555556,
              "#d8576b"
             ],
             [
              0.6666666666666666,
              "#ed7953"
             ],
             [
              0.7777777777777778,
              "#fb9f3a"
             ],
             [
              0.8888888888888888,
              "#fdca26"
             ],
             [
              1,
              "#f0f921"
             ]
            ],
            "type": "heatmap"
           }
          ],
          "heatmapgl": [
           {
            "colorbar": {
             "outlinewidth": 0,
             "ticks": ""
            },
            "colorscale": [
             [
              0,
              "#0d0887"
             ],
             [
              0.1111111111111111,
              "#46039f"
             ],
             [
              0.2222222222222222,
              "#7201a8"
             ],
             [
              0.3333333333333333,
              "#9c179e"
             ],
             [
              0.4444444444444444,
              "#bd3786"
             ],
             [
              0.5555555555555556,
              "#d8576b"
             ],
             [
              0.6666666666666666,
              "#ed7953"
             ],
             [
              0.7777777777777778,
              "#fb9f3a"
             ],
             [
              0.8888888888888888,
              "#fdca26"
             ],
             [
              1,
              "#f0f921"
             ]
            ],
            "type": "heatmapgl"
           }
          ],
          "histogram": [
           {
            "marker": {
             "colorbar": {
              "outlinewidth": 0,
              "ticks": ""
             }
            },
            "type": "histogram"
           }
          ],
          "histogram2d": [
           {
            "colorbar": {
             "outlinewidth": 0,
             "ticks": ""
            },
            "colorscale": [
             [
              0,
              "#0d0887"
             ],
             [
              0.1111111111111111,
              "#46039f"
             ],
             [
              0.2222222222222222,
              "#7201a8"
             ],
             [
              0.3333333333333333,
              "#9c179e"
             ],
             [
              0.4444444444444444,
              "#bd3786"
             ],
             [
              0.5555555555555556,
              "#d8576b"
             ],
             [
              0.6666666666666666,
              "#ed7953"
             ],
             [
              0.7777777777777778,
              "#fb9f3a"
             ],
             [
              0.8888888888888888,
              "#fdca26"
             ],
             [
              1,
              "#f0f921"
             ]
            ],
            "type": "histogram2d"
           }
          ],
          "histogram2dcontour": [
           {
            "colorbar": {
             "outlinewidth": 0,
             "ticks": ""
            },
            "colorscale": [
             [
              0,
              "#0d0887"
             ],
             [
              0.1111111111111111,
              "#46039f"
             ],
             [
              0.2222222222222222,
              "#7201a8"
             ],
             [
              0.3333333333333333,
              "#9c179e"
             ],
             [
              0.4444444444444444,
              "#bd3786"
             ],
             [
              0.5555555555555556,
              "#d8576b"
             ],
             [
              0.6666666666666666,
              "#ed7953"
             ],
             [
              0.7777777777777778,
              "#fb9f3a"
             ],
             [
              0.8888888888888888,
              "#fdca26"
             ],
             [
              1,
              "#f0f921"
             ]
            ],
            "type": "histogram2dcontour"
           }
          ],
          "mesh3d": [
           {
            "colorbar": {
             "outlinewidth": 0,
             "ticks": ""
            },
            "type": "mesh3d"
           }
          ],
          "parcoords": [
           {
            "line": {
             "colorbar": {
              "outlinewidth": 0,
              "ticks": ""
             }
            },
            "type": "parcoords"
           }
          ],
          "pie": [
           {
            "automargin": true,
            "type": "pie"
           }
          ],
          "scatter": [
           {
            "marker": {
             "colorbar": {
              "outlinewidth": 0,
              "ticks": ""
             }
            },
            "type": "scatter"
           }
          ],
          "scatter3d": [
           {
            "line": {
             "colorbar": {
              "outlinewidth": 0,
              "ticks": ""
             }
            },
            "marker": {
             "colorbar": {
              "outlinewidth": 0,
              "ticks": ""
             }
            },
            "type": "scatter3d"
           }
          ],
          "scattercarpet": [
           {
            "marker": {
             "colorbar": {
              "outlinewidth": 0,
              "ticks": ""
             }
            },
            "type": "scattercarpet"
           }
          ],
          "scattergeo": [
           {
            "marker": {
             "colorbar": {
              "outlinewidth": 0,
              "ticks": ""
             }
            },
            "type": "scattergeo"
           }
          ],
          "scattergl": [
           {
            "marker": {
             "colorbar": {
              "outlinewidth": 0,
              "ticks": ""
             }
            },
            "type": "scattergl"
           }
          ],
          "scattermapbox": [
           {
            "marker": {
             "colorbar": {
              "outlinewidth": 0,
              "ticks": ""
             }
            },
            "type": "scattermapbox"
           }
          ],
          "scatterpolar": [
           {
            "marker": {
             "colorbar": {
              "outlinewidth": 0,
              "ticks": ""
             }
            },
            "type": "scatterpolar"
           }
          ],
          "scatterpolargl": [
           {
            "marker": {
             "colorbar": {
              "outlinewidth": 0,
              "ticks": ""
             }
            },
            "type": "scatterpolargl"
           }
          ],
          "scatterternary": [
           {
            "marker": {
             "colorbar": {
              "outlinewidth": 0,
              "ticks": ""
             }
            },
            "type": "scatterternary"
           }
          ],
          "surface": [
           {
            "colorbar": {
             "outlinewidth": 0,
             "ticks": ""
            },
            "colorscale": [
             [
              0,
              "#0d0887"
             ],
             [
              0.1111111111111111,
              "#46039f"
             ],
             [
              0.2222222222222222,
              "#7201a8"
             ],
             [
              0.3333333333333333,
              "#9c179e"
             ],
             [
              0.4444444444444444,
              "#bd3786"
             ],
             [
              0.5555555555555556,
              "#d8576b"
             ],
             [
              0.6666666666666666,
              "#ed7953"
             ],
             [
              0.7777777777777778,
              "#fb9f3a"
             ],
             [
              0.8888888888888888,
              "#fdca26"
             ],
             [
              1,
              "#f0f921"
             ]
            ],
            "type": "surface"
           }
          ],
          "table": [
           {
            "cells": {
             "fill": {
              "color": "#EBF0F8"
             },
             "line": {
              "color": "white"
             }
            },
            "header": {
             "fill": {
              "color": "#C8D4E3"
             },
             "line": {
              "color": "white"
             }
            },
            "type": "table"
           }
          ]
         },
         "layout": {
          "annotationdefaults": {
           "arrowcolor": "#2a3f5f",
           "arrowhead": 0,
           "arrowwidth": 1
          },
          "autotypenumbers": "strict",
          "coloraxis": {
           "colorbar": {
            "outlinewidth": 0,
            "ticks": ""
           }
          },
          "colorscale": {
           "diverging": [
            [
             0,
             "#8e0152"
            ],
            [
             0.1,
             "#c51b7d"
            ],
            [
             0.2,
             "#de77ae"
            ],
            [
             0.3,
             "#f1b6da"
            ],
            [
             0.4,
             "#fde0ef"
            ],
            [
             0.5,
             "#f7f7f7"
            ],
            [
             0.6,
             "#e6f5d0"
            ],
            [
             0.7,
             "#b8e186"
            ],
            [
             0.8,
             "#7fbc41"
            ],
            [
             0.9,
             "#4d9221"
            ],
            [
             1,
             "#276419"
            ]
           ],
           "sequential": [
            [
             0,
             "#0d0887"
            ],
            [
             0.1111111111111111,
             "#46039f"
            ],
            [
             0.2222222222222222,
             "#7201a8"
            ],
            [
             0.3333333333333333,
             "#9c179e"
            ],
            [
             0.4444444444444444,
             "#bd3786"
            ],
            [
             0.5555555555555556,
             "#d8576b"
            ],
            [
             0.6666666666666666,
             "#ed7953"
            ],
            [
             0.7777777777777778,
             "#fb9f3a"
            ],
            [
             0.8888888888888888,
             "#fdca26"
            ],
            [
             1,
             "#f0f921"
            ]
           ],
           "sequentialminus": [
            [
             0,
             "#0d0887"
            ],
            [
             0.1111111111111111,
             "#46039f"
            ],
            [
             0.2222222222222222,
             "#7201a8"
            ],
            [
             0.3333333333333333,
             "#9c179e"
            ],
            [
             0.4444444444444444,
             "#bd3786"
            ],
            [
             0.5555555555555556,
             "#d8576b"
            ],
            [
             0.6666666666666666,
             "#ed7953"
            ],
            [
             0.7777777777777778,
             "#fb9f3a"
            ],
            [
             0.8888888888888888,
             "#fdca26"
            ],
            [
             1,
             "#f0f921"
            ]
           ]
          },
          "colorway": [
           "#636efa",
           "#EF553B",
           "#00cc96",
           "#ab63fa",
           "#FFA15A",
           "#19d3f3",
           "#FF6692",
           "#B6E880",
           "#FF97FF",
           "#FECB52"
          ],
          "font": {
           "color": "#2a3f5f"
          },
          "geo": {
           "bgcolor": "white",
           "lakecolor": "white",
           "landcolor": "#E5ECF6",
           "showlakes": true,
           "showland": true,
           "subunitcolor": "white"
          },
          "hoverlabel": {
           "align": "left"
          },
          "hovermode": "closest",
          "mapbox": {
           "style": "light"
          },
          "paper_bgcolor": "white",
          "plot_bgcolor": "#E5ECF6",
          "polar": {
           "angularaxis": {
            "gridcolor": "white",
            "linecolor": "white",
            "ticks": ""
           },
           "bgcolor": "#E5ECF6",
           "radialaxis": {
            "gridcolor": "white",
            "linecolor": "white",
            "ticks": ""
           }
          },
          "scene": {
           "xaxis": {
            "backgroundcolor": "#E5ECF6",
            "gridcolor": "white",
            "gridwidth": 2,
            "linecolor": "white",
            "showbackground": true,
            "ticks": "",
            "zerolinecolor": "white"
           },
           "yaxis": {
            "backgroundcolor": "#E5ECF6",
            "gridcolor": "white",
            "gridwidth": 2,
            "linecolor": "white",
            "showbackground": true,
            "ticks": "",
            "zerolinecolor": "white"
           },
           "zaxis": {
            "backgroundcolor": "#E5ECF6",
            "gridcolor": "white",
            "gridwidth": 2,
            "linecolor": "white",
            "showbackground": true,
            "ticks": "",
            "zerolinecolor": "white"
           }
          },
          "shapedefaults": {
           "line": {
            "color": "#2a3f5f"
           }
          },
          "ternary": {
           "aaxis": {
            "gridcolor": "white",
            "linecolor": "white",
            "ticks": ""
           },
           "baxis": {
            "gridcolor": "white",
            "linecolor": "white",
            "ticks": ""
           },
           "bgcolor": "#E5ECF6",
           "caxis": {
            "gridcolor": "white",
            "linecolor": "white",
            "ticks": ""
           }
          },
          "title": {
           "x": 0.05
          },
          "xaxis": {
           "automargin": true,
           "gridcolor": "white",
           "linecolor": "white",
           "ticks": "",
           "title": {
            "standoff": 15
           },
           "zerolinecolor": "white",
           "zerolinewidth": 2
          },
          "yaxis": {
           "automargin": true,
           "gridcolor": "white",
           "linecolor": "white",
           "ticks": "",
           "title": {
            "standoff": 15
           },
           "zerolinecolor": "white",
           "zerolinewidth": 2
          }
         }
        },
        "title": {
         "text": "Erreurs de prédictions sur les 10 stations du 04/01/21 au 12/02/21"
        },
        "width": 1000,
        "xaxis": {
         "range": [
          0,
          23
         ],
         "title": {
          "text": "Heure"
         }
        },
        "yaxis": {
         "range": [
          5,
          12.5
         ],
         "title": {
          "text": "Erreur moyenne"
         }
        }
       }
      }
     },
     "metadata": {}
    }
   ],
   "source": [
    "fig = go.Figure()\n",
    "\n",
    "fig.add_trace(go.Scatter(\n",
    "    x=mean_erreur_par_heure.index,\n",
    "    y=mean_erreur_par_heure['erreur_pred_lr'],\n",
    "    name=\"Erreur moyenne avec Régression Linéaire\",\n",
    "    line=dict(\n",
    "        color='#636EFA'\n",
    "    )      \n",
    "))\n",
    "\n",
    "fig.add_trace(go.Scatter(\n",
    "    x=heures,\n",
    "    y=erreur_pred_lr_h_par_h,\n",
    "    name=\"Erreur moyenne avec Régression Linéaire / 1 modèle par heure\",\n",
    "    line=dict(\n",
    "        color='#636EFA',\n",
    "        width=1,\n",
    "        dash=\"dot\"\n",
    "    )     \n",
    "))\n",
    "\n",
    "fig.add_trace(go.Scatter(\n",
    "    x=mean_erreur_par_heure.index,\n",
    "    y=mean_erreur_par_heure['erreur_pred_rf'],\n",
    "    name=\"Erreur moyenne avec Forêt aléatoire\",\n",
    "    line=dict(\n",
    "        color='#EF553B'\n",
    "    )     \n",
    "))\n",
    "\n",
    "fig.add_trace(go.Scatter(\n",
    "    x=heures,\n",
    "    y=erreur_pred_rf_h_par_h,\n",
    "    name=\"Erreur moyenne avec Forêt aléatoire / 1 modèle par heure\",\n",
    "    line=dict(\n",
    "        color='#EF553B',\n",
    "        width=1,\n",
    "        dash=\"dot\"\n",
    "    )     \n",
    "))\n",
    "\n",
    "fig.add_trace(go.Scatter(\n",
    "    x=mean_erreur_par_heure.index,\n",
    "    y=mean_erreur_par_heure['erreur_pred_naif'],\n",
    "    name=\"Erreur moyenne avec la méthode naïve\",\n",
    "    line=dict(\n",
    "        color='#00CC96'\n",
    "    )     \n",
    "))\n",
    "\n",
    "fig.add_trace(go.Scatter(\n",
    "    x=heures,\n",
    "    y=erreur_pred_naif_h_par_h,\n",
    "    name=\"Erreur moyenne avec la méthode naïve / 1 modèle par heure\",\n",
    "    line=dict(\n",
    "        color='#00CC96',\n",
    "        width=1,\n",
    "        dash=\"dot\"\n",
    "    )     \n",
    "))\n",
    "\n",
    "# Create scatter trace of text labels\n",
    "fig.add_trace(go.Scatter(\n",
    "    x=[4,4, 12.5,12.5],\n",
    "    y=[11,10.5, 11,10.5],\n",
    "    text=[\"Nuit\", \"19h-5h59\",\n",
    "          \"Journée\", \"6h-18h59\"],\n",
    "    mode=\"text\",\n",
    "    showlegend = False\n",
    "\n",
    "))\n",
    "\n",
    "# Set axes ranges\n",
    "fig.update_xaxes(range=[0, 23])\n",
    "fig.update_yaxes(range=[5, 12.5])\n",
    "\n",
    "# Add shapes\n",
    "fig.add_shape(type=\"line\",\n",
    "    x0=6, y0=0, x1=6, y1=12.5,\n",
    "    line=dict(\n",
    "        color=\"black\",\n",
    "        width=2,\n",
    "        dash=\"dot\"\n",
    "    )\n",
    ")\n",
    "\n",
    "fig.add_shape(type=\"line\",\n",
    "    x0=19, y0=0, x1=19, y1=12.5,\n",
    "    line=dict(\n",
    "        color=\"black\",\n",
    "        width=2,\n",
    "        dash=\"dot\"\n",
    "    )\n",
    ")\n",
    "\n",
    "\n",
    "\n",
    "\n",
    "fig.update_layout(\n",
    "    title=\"Erreurs de prédictions sur les 10 stations du 04/01/21 au 12/02/21\",\n",
    "    xaxis_title=\"Heure\",\n",
    "    yaxis_title=\"Erreur moyenne\",\n",
    "    legend_title=\"\",\n",
    "    autosize=False,\n",
    "    width=1000,\n",
    "    height=500\n",
    ")\n",
    "\n",
    "fig.show()"
   ]
  },
  {
   "cell_type": "code",
   "execution_count": 261,
   "metadata": {},
   "outputs": [
    {
     "output_type": "display_data",
     "data": {
      "application/vnd.plotly.v1+json": {
       "config": {
        "plotlyServerURL": "https://plot.ly"
       },
       "data": [
        {
         "line": {
          "color": "#636EFA",
          "dash": "dot",
          "width": 2
         },
         "name": "Erreur moyenne avec Régression Linéaire / 1 modèle par heure",
         "type": "scatter",
         "x": [
          0,
          1,
          2,
          3,
          4,
          5,
          6,
          7,
          8,
          9,
          10,
          11,
          12,
          13,
          14,
          15,
          16,
          17,
          18,
          19,
          20,
          21,
          22,
          23
         ],
         "y": [
          7.74,
          7.77,
          7.76,
          9.22,
          8.72,
          9.09,
          5.79,
          7.11,
          8.47,
          7.91,
          10.08,
          8.68,
          8.59,
          8.22,
          6.32,
          8.26,
          9.98,
          8.74,
          8.51,
          5.52,
          7.92,
          7.86,
          8.27,
          7.32
         ]
        },
        {
         "line": {
          "color": "#EF553B",
          "dash": "dot",
          "width": 2
         },
         "name": "Erreur moyenne avec Forêt aléatoire / 1 modèle par heure",
         "type": "scatter",
         "x": [
          0,
          1,
          2,
          3,
          4,
          5,
          6,
          7,
          8,
          9,
          10,
          11,
          12,
          13,
          14,
          15,
          16,
          17,
          18,
          19,
          20,
          21,
          22,
          23
         ],
         "y": [
          7.34,
          7.05,
          7.06,
          8.97,
          8.55,
          7.94,
          5.66,
          6.73,
          7.69,
          7.21,
          9.05,
          8.47,
          7.96,
          7.08,
          6.24,
          7.25,
          8.91,
          7.87,
          7.48,
          5.42,
          7.08,
          6.89,
          8.68,
          7.01
         ]
        },
        {
         "line": {
          "color": "#00CC96",
          "dash": "dot",
          "width": 2
         },
         "name": "Erreur moyenne avec la méthode naïve / 1 modèle par heure",
         "type": "scatter",
         "x": [
          0,
          1,
          2,
          3,
          4,
          5,
          6,
          7,
          8,
          9,
          10,
          11,
          12,
          13,
          14,
          15,
          16,
          17,
          18,
          19,
          20,
          21,
          22,
          23
         ],
         "y": [
          9.26,
          9.24,
          8.32,
          9.82,
          8.95,
          10.42,
          8.88,
          8.54,
          8.7,
          9.5,
          11.98,
          9.12,
          8.28,
          8.14,
          8.56,
          9.54,
          10.3,
          8.42,
          8.66,
          8.48,
          8.38,
          10,
          11.48,
          9.6
         ]
        },
        {
         "mode": "text",
         "showlegend": false,
         "text": [
          "Nuit",
          "19h-5h59",
          "Journée",
          "6h-18h59"
         ],
         "type": "scatter",
         "x": [
          4,
          4,
          12.5,
          12.5
         ],
         "y": [
          11,
          10.5,
          11,
          10.5
         ]
        }
       ],
       "layout": {
        "autosize": false,
        "height": 500,
        "legend": {
         "title": {
          "text": ""
         }
        },
        "shapes": [
         {
          "line": {
           "color": "black",
           "dash": "dot",
           "width": 2
          },
          "type": "line",
          "x0": 6,
          "x1": 6,
          "y0": 0,
          "y1": 12.5
         },
         {
          "line": {
           "color": "black",
           "dash": "dot",
           "width": 2
          },
          "type": "line",
          "x0": 19,
          "x1": 19,
          "y0": 0,
          "y1": 12.5
         }
        ],
        "template": {
         "data": {
          "bar": [
           {
            "error_x": {
             "color": "#2a3f5f"
            },
            "error_y": {
             "color": "#2a3f5f"
            },
            "marker": {
             "line": {
              "color": "#E5ECF6",
              "width": 0.5
             }
            },
            "type": "bar"
           }
          ],
          "barpolar": [
           {
            "marker": {
             "line": {
              "color": "#E5ECF6",
              "width": 0.5
             }
            },
            "type": "barpolar"
           }
          ],
          "carpet": [
           {
            "aaxis": {
             "endlinecolor": "#2a3f5f",
             "gridcolor": "white",
             "linecolor": "white",
             "minorgridcolor": "white",
             "startlinecolor": "#2a3f5f"
            },
            "baxis": {
             "endlinecolor": "#2a3f5f",
             "gridcolor": "white",
             "linecolor": "white",
             "minorgridcolor": "white",
             "startlinecolor": "#2a3f5f"
            },
            "type": "carpet"
           }
          ],
          "choropleth": [
           {
            "colorbar": {
             "outlinewidth": 0,
             "ticks": ""
            },
            "type": "choropleth"
           }
          ],
          "contour": [
           {
            "colorbar": {
             "outlinewidth": 0,
             "ticks": ""
            },
            "colorscale": [
             [
              0,
              "#0d0887"
             ],
             [
              0.1111111111111111,
              "#46039f"
             ],
             [
              0.2222222222222222,
              "#7201a8"
             ],
             [
              0.3333333333333333,
              "#9c179e"
             ],
             [
              0.4444444444444444,
              "#bd3786"
             ],
             [
              0.5555555555555556,
              "#d8576b"
             ],
             [
              0.6666666666666666,
              "#ed7953"
             ],
             [
              0.7777777777777778,
              "#fb9f3a"
             ],
             [
              0.8888888888888888,
              "#fdca26"
             ],
             [
              1,
              "#f0f921"
             ]
            ],
            "type": "contour"
           }
          ],
          "contourcarpet": [
           {
            "colorbar": {
             "outlinewidth": 0,
             "ticks": ""
            },
            "type": "contourcarpet"
           }
          ],
          "heatmap": [
           {
            "colorbar": {
             "outlinewidth": 0,
             "ticks": ""
            },
            "colorscale": [
             [
              0,
              "#0d0887"
             ],
             [
              0.1111111111111111,
              "#46039f"
             ],
             [
              0.2222222222222222,
              "#7201a8"
             ],
             [
              0.3333333333333333,
              "#9c179e"
             ],
             [
              0.4444444444444444,
              "#bd3786"
             ],
             [
              0.5555555555555556,
              "#d8576b"
             ],
             [
              0.6666666666666666,
              "#ed7953"
             ],
             [
              0.7777777777777778,
              "#fb9f3a"
             ],
             [
              0.8888888888888888,
              "#fdca26"
             ],
             [
              1,
              "#f0f921"
             ]
            ],
            "type": "heatmap"
           }
          ],
          "heatmapgl": [
           {
            "colorbar": {
             "outlinewidth": 0,
             "ticks": ""
            },
            "colorscale": [
             [
              0,
              "#0d0887"
             ],
             [
              0.1111111111111111,
              "#46039f"
             ],
             [
              0.2222222222222222,
              "#7201a8"
             ],
             [
              0.3333333333333333,
              "#9c179e"
             ],
             [
              0.4444444444444444,
              "#bd3786"
             ],
             [
              0.5555555555555556,
              "#d8576b"
             ],
             [
              0.6666666666666666,
              "#ed7953"
             ],
             [
              0.7777777777777778,
              "#fb9f3a"
             ],
             [
              0.8888888888888888,
              "#fdca26"
             ],
             [
              1,
              "#f0f921"
             ]
            ],
            "type": "heatmapgl"
           }
          ],
          "histogram": [
           {
            "marker": {
             "colorbar": {
              "outlinewidth": 0,
              "ticks": ""
             }
            },
            "type": "histogram"
           }
          ],
          "histogram2d": [
           {
            "colorbar": {
             "outlinewidth": 0,
             "ticks": ""
            },
            "colorscale": [
             [
              0,
              "#0d0887"
             ],
             [
              0.1111111111111111,
              "#46039f"
             ],
             [
              0.2222222222222222,
              "#7201a8"
             ],
             [
              0.3333333333333333,
              "#9c179e"
             ],
             [
              0.4444444444444444,
              "#bd3786"
             ],
             [
              0.5555555555555556,
              "#d8576b"
             ],
             [
              0.6666666666666666,
              "#ed7953"
             ],
             [
              0.7777777777777778,
              "#fb9f3a"
             ],
             [
              0.8888888888888888,
              "#fdca26"
             ],
             [
              1,
              "#f0f921"
             ]
            ],
            "type": "histogram2d"
           }
          ],
          "histogram2dcontour": [
           {
            "colorbar": {
             "outlinewidth": 0,
             "ticks": ""
            },
            "colorscale": [
             [
              0,
              "#0d0887"
             ],
             [
              0.1111111111111111,
              "#46039f"
             ],
             [
              0.2222222222222222,
              "#7201a8"
             ],
             [
              0.3333333333333333,
              "#9c179e"
             ],
             [
              0.4444444444444444,
              "#bd3786"
             ],
             [
              0.5555555555555556,
              "#d8576b"
             ],
             [
              0.6666666666666666,
              "#ed7953"
             ],
             [
              0.7777777777777778,
              "#fb9f3a"
             ],
             [
              0.8888888888888888,
              "#fdca26"
             ],
             [
              1,
              "#f0f921"
             ]
            ],
            "type": "histogram2dcontour"
           }
          ],
          "mesh3d": [
           {
            "colorbar": {
             "outlinewidth": 0,
             "ticks": ""
            },
            "type": "mesh3d"
           }
          ],
          "parcoords": [
           {
            "line": {
             "colorbar": {
              "outlinewidth": 0,
              "ticks": ""
             }
            },
            "type": "parcoords"
           }
          ],
          "pie": [
           {
            "automargin": true,
            "type": "pie"
           }
          ],
          "scatter": [
           {
            "marker": {
             "colorbar": {
              "outlinewidth": 0,
              "ticks": ""
             }
            },
            "type": "scatter"
           }
          ],
          "scatter3d": [
           {
            "line": {
             "colorbar": {
              "outlinewidth": 0,
              "ticks": ""
             }
            },
            "marker": {
             "colorbar": {
              "outlinewidth": 0,
              "ticks": ""
             }
            },
            "type": "scatter3d"
           }
          ],
          "scattercarpet": [
           {
            "marker": {
             "colorbar": {
              "outlinewidth": 0,
              "ticks": ""
             }
            },
            "type": "scattercarpet"
           }
          ],
          "scattergeo": [
           {
            "marker": {
             "colorbar": {
              "outlinewidth": 0,
              "ticks": ""
             }
            },
            "type": "scattergeo"
           }
          ],
          "scattergl": [
           {
            "marker": {
             "colorbar": {
              "outlinewidth": 0,
              "ticks": ""
             }
            },
            "type": "scattergl"
           }
          ],
          "scattermapbox": [
           {
            "marker": {
             "colorbar": {
              "outlinewidth": 0,
              "ticks": ""
             }
            },
            "type": "scattermapbox"
           }
          ],
          "scatterpolar": [
           {
            "marker": {
             "colorbar": {
              "outlinewidth": 0,
              "ticks": ""
             }
            },
            "type": "scatterpolar"
           }
          ],
          "scatterpolargl": [
           {
            "marker": {
             "colorbar": {
              "outlinewidth": 0,
              "ticks": ""
             }
            },
            "type": "scatterpolargl"
           }
          ],
          "scatterternary": [
           {
            "marker": {
             "colorbar": {
              "outlinewidth": 0,
              "ticks": ""
             }
            },
            "type": "scatterternary"
           }
          ],
          "surface": [
           {
            "colorbar": {
             "outlinewidth": 0,
             "ticks": ""
            },
            "colorscale": [
             [
              0,
              "#0d0887"
             ],
             [
              0.1111111111111111,
              "#46039f"
             ],
             [
              0.2222222222222222,
              "#7201a8"
             ],
             [
              0.3333333333333333,
              "#9c179e"
             ],
             [
              0.4444444444444444,
              "#bd3786"
             ],
             [
              0.5555555555555556,
              "#d8576b"
             ],
             [
              0.6666666666666666,
              "#ed7953"
             ],
             [
              0.7777777777777778,
              "#fb9f3a"
             ],
             [
              0.8888888888888888,
              "#fdca26"
             ],
             [
              1,
              "#f0f921"
             ]
            ],
            "type": "surface"
           }
          ],
          "table": [
           {
            "cells": {
             "fill": {
              "color": "#EBF0F8"
             },
             "line": {
              "color": "white"
             }
            },
            "header": {
             "fill": {
              "color": "#C8D4E3"
             },
             "line": {
              "color": "white"
             }
            },
            "type": "table"
           }
          ]
         },
         "layout": {
          "annotationdefaults": {
           "arrowcolor": "#2a3f5f",
           "arrowhead": 0,
           "arrowwidth": 1
          },
          "autotypenumbers": "strict",
          "coloraxis": {
           "colorbar": {
            "outlinewidth": 0,
            "ticks": ""
           }
          },
          "colorscale": {
           "diverging": [
            [
             0,
             "#8e0152"
            ],
            [
             0.1,
             "#c51b7d"
            ],
            [
             0.2,
             "#de77ae"
            ],
            [
             0.3,
             "#f1b6da"
            ],
            [
             0.4,
             "#fde0ef"
            ],
            [
             0.5,
             "#f7f7f7"
            ],
            [
             0.6,
             "#e6f5d0"
            ],
            [
             0.7,
             "#b8e186"
            ],
            [
             0.8,
             "#7fbc41"
            ],
            [
             0.9,
             "#4d9221"
            ],
            [
             1,
             "#276419"
            ]
           ],
           "sequential": [
            [
             0,
             "#0d0887"
            ],
            [
             0.1111111111111111,
             "#46039f"
            ],
            [
             0.2222222222222222,
             "#7201a8"
            ],
            [
             0.3333333333333333,
             "#9c179e"
            ],
            [
             0.4444444444444444,
             "#bd3786"
            ],
            [
             0.5555555555555556,
             "#d8576b"
            ],
            [
             0.6666666666666666,
             "#ed7953"
            ],
            [
             0.7777777777777778,
             "#fb9f3a"
            ],
            [
             0.8888888888888888,
             "#fdca26"
            ],
            [
             1,
             "#f0f921"
            ]
           ],
           "sequentialminus": [
            [
             0,
             "#0d0887"
            ],
            [
             0.1111111111111111,
             "#46039f"
            ],
            [
             0.2222222222222222,
             "#7201a8"
            ],
            [
             0.3333333333333333,
             "#9c179e"
            ],
            [
             0.4444444444444444,
             "#bd3786"
            ],
            [
             0.5555555555555556,
             "#d8576b"
            ],
            [
             0.6666666666666666,
             "#ed7953"
            ],
            [
             0.7777777777777778,
             "#fb9f3a"
            ],
            [
             0.8888888888888888,
             "#fdca26"
            ],
            [
             1,
             "#f0f921"
            ]
           ]
          },
          "colorway": [
           "#636efa",
           "#EF553B",
           "#00cc96",
           "#ab63fa",
           "#FFA15A",
           "#19d3f3",
           "#FF6692",
           "#B6E880",
           "#FF97FF",
           "#FECB52"
          ],
          "font": {
           "color": "#2a3f5f"
          },
          "geo": {
           "bgcolor": "white",
           "lakecolor": "white",
           "landcolor": "#E5ECF6",
           "showlakes": true,
           "showland": true,
           "subunitcolor": "white"
          },
          "hoverlabel": {
           "align": "left"
          },
          "hovermode": "closest",
          "mapbox": {
           "style": "light"
          },
          "paper_bgcolor": "white",
          "plot_bgcolor": "#E5ECF6",
          "polar": {
           "angularaxis": {
            "gridcolor": "white",
            "linecolor": "white",
            "ticks": ""
           },
           "bgcolor": "#E5ECF6",
           "radialaxis": {
            "gridcolor": "white",
            "linecolor": "white",
            "ticks": ""
           }
          },
          "scene": {
           "xaxis": {
            "backgroundcolor": "#E5ECF6",
            "gridcolor": "white",
            "gridwidth": 2,
            "linecolor": "white",
            "showbackground": true,
            "ticks": "",
            "zerolinecolor": "white"
           },
           "yaxis": {
            "backgroundcolor": "#E5ECF6",
            "gridcolor": "white",
            "gridwidth": 2,
            "linecolor": "white",
            "showbackground": true,
            "ticks": "",
            "zerolinecolor": "white"
           },
           "zaxis": {
            "backgroundcolor": "#E5ECF6",
            "gridcolor": "white",
            "gridwidth": 2,
            "linecolor": "white",
            "showbackground": true,
            "ticks": "",
            "zerolinecolor": "white"
           }
          },
          "shapedefaults": {
           "line": {
            "color": "#2a3f5f"
           }
          },
          "ternary": {
           "aaxis": {
            "gridcolor": "white",
            "linecolor": "white",
            "ticks": ""
           },
           "baxis": {
            "gridcolor": "white",
            "linecolor": "white",
            "ticks": ""
           },
           "bgcolor": "#E5ECF6",
           "caxis": {
            "gridcolor": "white",
            "linecolor": "white",
            "ticks": ""
           }
          },
          "title": {
           "x": 0.05
          },
          "xaxis": {
           "automargin": true,
           "gridcolor": "white",
           "linecolor": "white",
           "ticks": "",
           "title": {
            "standoff": 15
           },
           "zerolinecolor": "white",
           "zerolinewidth": 2
          },
          "yaxis": {
           "automargin": true,
           "gridcolor": "white",
           "linecolor": "white",
           "ticks": "",
           "title": {
            "standoff": 15
           },
           "zerolinecolor": "white",
           "zerolinewidth": 2
          }
         }
        },
        "title": {
         "text": "Erreurs de prédictions sur les 10 stations du 04/01/21 au 12/02/21"
        },
        "width": 1000,
        "xaxis": {
         "range": [
          0,
          23
         ],
         "title": {
          "text": "Heure"
         }
        },
        "yaxis": {
         "range": [
          5,
          12.5
         ],
         "title": {
          "text": "Erreur moyenne"
         }
        }
       }
      }
     },
     "metadata": {}
    }
   ],
   "source": [
    "fig = go.Figure()\n",
    "\n",
    "\n",
    "fig.add_trace(go.Scatter(\n",
    "    x=heures,\n",
    "    y=erreur_pred_lr_h_par_h,\n",
    "    name=\"Erreur moyenne avec Régression Linéaire / 1 modèle par heure\",\n",
    "    line=dict(\n",
    "        color='#636EFA',\n",
    "        width=2,\n",
    "        dash=\"dot\"\n",
    "    )     \n",
    "))\n",
    "\n",
    "\n",
    "fig.add_trace(go.Scatter(\n",
    "    x=heures,\n",
    "    y=erreur_pred_rf_h_par_h,\n",
    "    name=\"Erreur moyenne avec Forêt aléatoire / 1 modèle par heure\",\n",
    "    line=dict(\n",
    "        color='#EF553B',\n",
    "        width=2,\n",
    "        dash=\"dot\"\n",
    "    )     \n",
    "))\n",
    "\n",
    "\n",
    "fig.add_trace(go.Scatter(\n",
    "    x=heures,\n",
    "    y=erreur_pred_naif_h_par_h,\n",
    "    name=\"Erreur moyenne avec la méthode naïve / 1 modèle par heure\",\n",
    "    line=dict(\n",
    "        color='#00CC96',\n",
    "        width=2,\n",
    "        dash=\"dot\"\n",
    "    )     \n",
    "))\n",
    "\n",
    "# Create scatter trace of text labels\n",
    "fig.add_trace(go.Scatter(\n",
    "    x=[4,4, 12.5,12.5],\n",
    "    y=[11,10.5, 11,10.5],\n",
    "    text=[\"Nuit\", \"19h-5h59\",\n",
    "          \"Journée\", \"6h-18h59\"],\n",
    "    mode=\"text\",\n",
    "    showlegend = False\n",
    "\n",
    "))\n",
    "\n",
    "# Set axes ranges\n",
    "fig.update_xaxes(range=[0, 23])\n",
    "fig.update_yaxes(range=[5, 12.5])\n",
    "\n",
    "# Add shapes\n",
    "fig.add_shape(type=\"line\",\n",
    "    x0=6, y0=0, x1=6, y1=12.5,\n",
    "    line=dict(\n",
    "        color=\"black\",\n",
    "        width=2,\n",
    "        dash=\"dot\"\n",
    "    )\n",
    ")\n",
    "\n",
    "fig.add_shape(type=\"line\",\n",
    "    x0=19, y0=0, x1=19, y1=12.5,\n",
    "    line=dict(\n",
    "        color=\"black\",\n",
    "        width=2,\n",
    "        dash=\"dot\"\n",
    "    )\n",
    ")\n",
    "\n",
    "\n",
    "\n",
    "\n",
    "fig.update_layout(\n",
    "    title=\"Erreurs de prédictions sur les 10 stations du 04/01/21 au 12/02/21\",\n",
    "    xaxis_title=\"Heure\",\n",
    "    yaxis_title=\"Erreur moyenne\",\n",
    "    legend_title=\"\",\n",
    "    autosize=False,\n",
    "    width=1000,\n",
    "    height=500\n",
    ")\n",
    "\n",
    "fig.show()"
   ]
  },
  {
   "source": [
    "## La nuit : 22h-5h"
   ],
   "cell_type": "markdown",
   "metadata": {}
  },
  {
   "cell_type": "code",
   "execution_count": 30,
   "metadata": {},
   "outputs": [
    {
     "output_type": "execute_result",
     "data": {
      "text/plain": [
       "                   0   1   2   3   4   5   6   7   8   9  ...  1389  1390  \\\n",
       "10/19/20;22:57:14  3  52  11  10  23  24  30   7  14  36  ...    13     0   \n",
       "10/19/20;23:57:18  3  52   9  10  24  23  31   7  14  36  ...    12     0   \n",
       "10/20/20;00:57:22  3  52   9  11  24  23  31   7  14  36  ...    12     0   \n",
       "10/20/20;01:57:26  3  52   9  11  24  22  31   7  14  37  ...    12     1   \n",
       "10/20/20;02:57:30  2  52   9  11  24  22  31   7  13  37  ...    12     1   \n",
       "...               ..  ..  ..  ..  ..  ..  ..  ..  ..  ..  ...   ...   ...   \n",
       "02/15/21;01:14:44  6  38   3   4  23  39   7  12  33  52  ...    16     2   \n",
       "02/15/21;02:18:15  6  38   3   4  23  26   7  12  34  52  ...    16     2   \n",
       "02/15/21;03:21:43  6  39   3   5  23  26   7  12  34  51  ...    16     2   \n",
       "02/15/21;04:25:14  6  39   3   5  23  26   7  12  34  52  ...    16     2   \n",
       "02/15/21;05:28:43  5  40   3   5  23  26   7  12  34  39  ...    16     2   \n",
       "\n",
       "                   1391  1392  1393  1394  1395  1396  1397  heure  \n",
       "10/19/20;22:57:14    18    19    32    16    35    12     7     22  \n",
       "10/19/20;23:57:18    18    19    33    16    35    12     7     23  \n",
       "10/20/20;00:57:22    17    19    33    16    35    12     7      0  \n",
       "10/20/20;01:57:26    17    19    32    16    35    12     7      1  \n",
       "10/20/20;02:57:30    17    19    32    16    35    12     7      2  \n",
       "...                 ...   ...   ...   ...   ...   ...   ...    ...  \n",
       "02/15/21;01:14:44    10     9    32     5    20    12    11      1  \n",
       "02/15/21;02:18:15    10     9    33     5    20    12    11      2  \n",
       "02/15/21;03:21:43    10     9    33     5    20    12    11      3  \n",
       "02/15/21;04:25:14    10     9    33     5    20    12    11      4  \n",
       "02/15/21;05:28:43    10     9    33     5    19    12    11      5  \n",
       "\n",
       "[924 rows x 1399 columns]"
      ],
      "text/html": "<div>\n<style scoped>\n    .dataframe tbody tr th:only-of-type {\n        vertical-align: middle;\n    }\n\n    .dataframe tbody tr th {\n        vertical-align: top;\n    }\n\n    .dataframe thead th {\n        text-align: right;\n    }\n</style>\n<table border=\"1\" class=\"dataframe\">\n  <thead>\n    <tr style=\"text-align: right;\">\n      <th></th>\n      <th>0</th>\n      <th>1</th>\n      <th>2</th>\n      <th>3</th>\n      <th>4</th>\n      <th>5</th>\n      <th>6</th>\n      <th>7</th>\n      <th>8</th>\n      <th>9</th>\n      <th>...</th>\n      <th>1389</th>\n      <th>1390</th>\n      <th>1391</th>\n      <th>1392</th>\n      <th>1393</th>\n      <th>1394</th>\n      <th>1395</th>\n      <th>1396</th>\n      <th>1397</th>\n      <th>heure</th>\n    </tr>\n  </thead>\n  <tbody>\n    <tr>\n      <th>10/19/20;22:57:14</th>\n      <td>3</td>\n      <td>52</td>\n      <td>11</td>\n      <td>10</td>\n      <td>23</td>\n      <td>24</td>\n      <td>30</td>\n      <td>7</td>\n      <td>14</td>\n      <td>36</td>\n      <td>...</td>\n      <td>13</td>\n      <td>0</td>\n      <td>18</td>\n      <td>19</td>\n      <td>32</td>\n      <td>16</td>\n      <td>35</td>\n      <td>12</td>\n      <td>7</td>\n      <td>22</td>\n    </tr>\n    <tr>\n      <th>10/19/20;23:57:18</th>\n      <td>3</td>\n      <td>52</td>\n      <td>9</td>\n      <td>10</td>\n      <td>24</td>\n      <td>23</td>\n      <td>31</td>\n      <td>7</td>\n      <td>14</td>\n      <td>36</td>\n      <td>...</td>\n      <td>12</td>\n      <td>0</td>\n      <td>18</td>\n      <td>19</td>\n      <td>33</td>\n      <td>16</td>\n      <td>35</td>\n      <td>12</td>\n      <td>7</td>\n      <td>23</td>\n    </tr>\n    <tr>\n      <th>10/20/20;00:57:22</th>\n      <td>3</td>\n      <td>52</td>\n      <td>9</td>\n      <td>11</td>\n      <td>24</td>\n      <td>23</td>\n      <td>31</td>\n      <td>7</td>\n      <td>14</td>\n      <td>36</td>\n      <td>...</td>\n      <td>12</td>\n      <td>0</td>\n      <td>17</td>\n      <td>19</td>\n      <td>33</td>\n      <td>16</td>\n      <td>35</td>\n      <td>12</td>\n      <td>7</td>\n      <td>0</td>\n    </tr>\n    <tr>\n      <th>10/20/20;01:57:26</th>\n      <td>3</td>\n      <td>52</td>\n      <td>9</td>\n      <td>11</td>\n      <td>24</td>\n      <td>22</td>\n      <td>31</td>\n      <td>7</td>\n      <td>14</td>\n      <td>37</td>\n      <td>...</td>\n      <td>12</td>\n      <td>1</td>\n      <td>17</td>\n      <td>19</td>\n      <td>32</td>\n      <td>16</td>\n      <td>35</td>\n      <td>12</td>\n      <td>7</td>\n      <td>1</td>\n    </tr>\n    <tr>\n      <th>10/20/20;02:57:30</th>\n      <td>2</td>\n      <td>52</td>\n      <td>9</td>\n      <td>11</td>\n      <td>24</td>\n      <td>22</td>\n      <td>31</td>\n      <td>7</td>\n      <td>13</td>\n      <td>37</td>\n      <td>...</td>\n      <td>12</td>\n      <td>1</td>\n      <td>17</td>\n      <td>19</td>\n      <td>32</td>\n      <td>16</td>\n      <td>35</td>\n      <td>12</td>\n      <td>7</td>\n      <td>2</td>\n    </tr>\n    <tr>\n      <th>...</th>\n      <td>...</td>\n      <td>...</td>\n      <td>...</td>\n      <td>...</td>\n      <td>...</td>\n      <td>...</td>\n      <td>...</td>\n      <td>...</td>\n      <td>...</td>\n      <td>...</td>\n      <td>...</td>\n      <td>...</td>\n      <td>...</td>\n      <td>...</td>\n      <td>...</td>\n      <td>...</td>\n      <td>...</td>\n      <td>...</td>\n      <td>...</td>\n      <td>...</td>\n      <td>...</td>\n    </tr>\n    <tr>\n      <th>02/15/21;01:14:44</th>\n      <td>6</td>\n      <td>38</td>\n      <td>3</td>\n      <td>4</td>\n      <td>23</td>\n      <td>39</td>\n      <td>7</td>\n      <td>12</td>\n      <td>33</td>\n      <td>52</td>\n      <td>...</td>\n      <td>16</td>\n      <td>2</td>\n      <td>10</td>\n      <td>9</td>\n      <td>32</td>\n      <td>5</td>\n      <td>20</td>\n      <td>12</td>\n      <td>11</td>\n      <td>1</td>\n    </tr>\n    <tr>\n      <th>02/15/21;02:18:15</th>\n      <td>6</td>\n      <td>38</td>\n      <td>3</td>\n      <td>4</td>\n      <td>23</td>\n      <td>26</td>\n      <td>7</td>\n      <td>12</td>\n      <td>34</td>\n      <td>52</td>\n      <td>...</td>\n      <td>16</td>\n      <td>2</td>\n      <td>10</td>\n      <td>9</td>\n      <td>33</td>\n      <td>5</td>\n      <td>20</td>\n      <td>12</td>\n      <td>11</td>\n      <td>2</td>\n    </tr>\n    <tr>\n      <th>02/15/21;03:21:43</th>\n      <td>6</td>\n      <td>39</td>\n      <td>3</td>\n      <td>5</td>\n      <td>23</td>\n      <td>26</td>\n      <td>7</td>\n      <td>12</td>\n      <td>34</td>\n      <td>51</td>\n      <td>...</td>\n      <td>16</td>\n      <td>2</td>\n      <td>10</td>\n      <td>9</td>\n      <td>33</td>\n      <td>5</td>\n      <td>20</td>\n      <td>12</td>\n      <td>11</td>\n      <td>3</td>\n    </tr>\n    <tr>\n      <th>02/15/21;04:25:14</th>\n      <td>6</td>\n      <td>39</td>\n      <td>3</td>\n      <td>5</td>\n      <td>23</td>\n      <td>26</td>\n      <td>7</td>\n      <td>12</td>\n      <td>34</td>\n      <td>52</td>\n      <td>...</td>\n      <td>16</td>\n      <td>2</td>\n      <td>10</td>\n      <td>9</td>\n      <td>33</td>\n      <td>5</td>\n      <td>20</td>\n      <td>12</td>\n      <td>11</td>\n      <td>4</td>\n    </tr>\n    <tr>\n      <th>02/15/21;05:28:43</th>\n      <td>5</td>\n      <td>40</td>\n      <td>3</td>\n      <td>5</td>\n      <td>23</td>\n      <td>26</td>\n      <td>7</td>\n      <td>12</td>\n      <td>34</td>\n      <td>39</td>\n      <td>...</td>\n      <td>16</td>\n      <td>2</td>\n      <td>10</td>\n      <td>9</td>\n      <td>33</td>\n      <td>5</td>\n      <td>19</td>\n      <td>12</td>\n      <td>11</td>\n      <td>5</td>\n    </tr>\n  </tbody>\n</table>\n<p>924 rows × 1399 columns</p>\n</div>"
     },
     "metadata": {},
     "execution_count": 30
    }
   ],
   "source": [
    "# On identifie les heures de nuit dans notre dataframe\n",
    "heures_non_nuit = [6, 7, 8, 9, 10, 11, 12, 13, 14, 15, 16, 17, 18, 19, 20, 21]\n",
    "test = df_h.isin({'heure': heures_non_nuit})\n",
    "\n",
    "for i in df_h.index:\n",
    "    if test['heure'][i] == True:\n",
    "        df_h.drop(i,0,inplace=True)\n",
    "\n",
    "df_h"
   ]
  },
  {
   "source": [
    "On voit bien qu'on dispose de 924 données correspondant aux heures de nuit, ce qui est cohérent avec la longueur initiale du dataframe de 2778 données."
   ],
   "cell_type": "markdown",
   "metadata": {}
  },
  {
   "cell_type": "code",
   "execution_count": 32,
   "metadata": {},
   "outputs": [
    {
     "output_type": "stream",
     "name": "stdout",
     "text": [
      "+----------------+----------+---------------------------+---------------+---------------+-------------------------+\n| Station target | Capacité | Occupation moyenne / nuit | MAE LR / nuit | MAE RF / nuit | MAE méthode naïve /nuit |\n+----------------+----------+---------------------------+---------------+---------------+-------------------------+\n|   station_0    |    35    |            5.69           |      1.66     |      0.85     |           3.6           |\n|   station_1    |    55    |           29.97           |      3.28     |      2.5      |          12.67          |\n|   station_2    |    20    |            5.73           |      1.64     |      1.02     |           3.67          |\n|   station_3    |    21    |            7.22           |      2.25     |      1.3      |           4.1           |\n|   station_4    |    30    |           21.32           |      2.76     |      1.86     |           6.89          |\n|   station_5    |    46    |           27.87           |      2.96     |      1.92     |           8.72          |\n|   station_6    |    60    |           17.68           |      2.93     |      2.28     |           9.89          |\n|   station_7    |    40    |           10.14           |      2.34     |      1.31     |           5.87          |\n|   station_8    |    29    |           16.96           |      1.77     |      1.43     |           6.6           |\n|   station_9    |    60    |           29.81           |      3.12     |      2.5      |          10.71          |\n+----------------+----------+---------------------------+---------------+---------------+-------------------------+\n"
     ]
    }
   ],
   "source": [
    "# Stockage des index du dataframe\n",
    "axis = df_h.index\n",
    "# Préparation des résultats à stocker : pour chaque station, on garde le numéro de la station dans le dataframe df_velib, le modèle de \n",
    "# régression linéaire et de random forest\n",
    "resultats_nuit = {}\n",
    "\n",
    "# Préparation de la visualisation des résultats :\n",
    "ptbl = PrettyTable()\n",
    "ptbl.field_names = [\"Station target\", \"Capacité\", \"Occupation moyenne / nuit\", \"MAE LR / nuit\", \"MAE RF / nuit\", \"MAE méthode naïve /nuit\"]\n",
    "\n",
    "\n",
    "for i in range(len(stations_tests)):\n",
    "    df = df_h.copy()\n",
    "    df['y'] = df[i]\n",
    "\n",
    "    for j in range(len(df)-24):\n",
    "        df['y'][axis[j]] = df[i][axis[j+24]]\n",
    "        \n",
    "    # Puis on supprime les 24 dernières lignes qui ne peuvent pas être complétées\n",
    "    df.drop(axis[-24:], inplace = True)\n",
    "\n",
    "    # Machine Learning\n",
    "    stations_features = [i for i in df.columns if type(i) != str]\n",
    "    X = df[stations_features]\n",
    "    # Préparation de la target\n",
    "    y = df['y']\n",
    "    # Séparation en données de test et d'entrainement\n",
    "    X_train, X_test, y_train, y_test = train_test_split(X, y, test_size=0.3)\n",
    "    \n",
    "    # 1- Régression linéaire\n",
    "    lr = LinearRegression()\n",
    "    lr.fit(X_train, y_train)\n",
    "    y_prediction_lr = lr.predict(X_test)\n",
    "    MAE_lr = round(mean_absolute_error(y_test, y_prediction_lr),2)\n",
    "\n",
    "    # 2- Random Forest\n",
    "    rf = RandomForestRegressor()\n",
    "    rf.fit(X_train, y_train)\n",
    "    y_prediction_rf = rf.predict(X_test)\n",
    "    MAE_rf = round(mean_absolute_error(y_test, y_prediction_rf),2)\n",
    "\n",
    "    # 3- Méthode naïve ou bien \"intuitive\" c'est-à-dire prédire que ce qui se passe 1 jour plus tard est exactement la même chose que la            veille\n",
    "    df_naif = X_test.copy()\n",
    "    #MAE_naif = round(abs(X_test[i]-y_test).mean() , 2)\n",
    "    MAE_naif = round(mean_absolute_error(X_test[i], y_test),2)\n",
    "\n",
    "    # Capacité moyenne de la station sur la période observée\n",
    "    capacite_moyenne = round(df[i].mean(),2)\n",
    "\n",
    "    # Stockage des résultats : numéro de la station, les modèles, et les MAE de chaque modèle\n",
    "    resultats_nuit[stations_tests[i]] = [i, X, y, lr, MAE_lr, rf, MAE_rf, df_naif, MAE_naif, capacite_moyenne]\n",
    "\n",
    "    # Visualisation des performances avec Prettytable\n",
    "    ptbl.add_row([stations_tests[i], velib_details['capacity'][i], capacite_moyenne, MAE_lr, MAE_rf, MAE_naif])\n",
    "    \n",
    "print(ptbl)"
   ]
  },
  {
   "cell_type": "code",
   "execution_count": 33,
   "metadata": {},
   "outputs": [
    {
     "output_type": "stream",
     "name": "stdout",
     "text": [
      "+---------------------------+-----------------------+-----------------------+----------------------------------+\n| Occupation moyenne / nuit | Moyenne MAE LR / nuit | Moyenne MAE RF / nuit | Moyenne MAE méthode naïve / nuit |\n+---------------------------+-----------------------+-----------------------+----------------------------------+\n|           17.24           |          2.47         |          1.7          |               7.27               |\n+---------------------------+-----------------------+-----------------------+----------------------------------+\n"
     ]
    }
   ],
   "source": [
    "ptbl = PrettyTable()\n",
    "ptbl.field_names = [\"Occupation moyenne / nuit\", \"Moyenne MAE LR / nuit\", \"Moyenne MAE RF / nuit\", \"Moyenne MAE méthode naïve / nuit\"]\n",
    "mean_capacity_nuit = 0\n",
    "mean_MAE_lr_nuit = 0\n",
    "mean_MAE_rf_nuit = 0\n",
    "mean_MAE_naif_nuit = 0\n",
    "\n",
    "# Parcourir le dictionnaire des résultats pour calculer la moyenne des indicateurs\n",
    "for key, item in resultats_nuit.items():\n",
    "    mean_capacity_nuit += resultats_nuit[key][9]\n",
    "    mean_MAE_lr_nuit += resultats_nuit[key][4]\n",
    "    mean_MAE_rf_nuit += resultats_nuit[key][6]\n",
    "    mean_MAE_naif_nuit += resultats_nuit[key][8]\n",
    "\n",
    "# On divise par le nombre total de stations tests pour obtenir la moyenne\n",
    "mean_capacity_nuit = round(mean_capacity_nuit/len(resultats_nuit),2)\n",
    "mean_MAE_lr_nuit = round(mean_MAE_lr_nuit/len(resultats_nuit),2)\n",
    "mean_MAE_rf_nuit = round(mean_MAE_rf_nuit/len(resultats_nuit),2)\n",
    "mean_MAE_naif_nuit = round(mean_MAE_naif_nuit/len(resultats_nuit),2)\n",
    "\n",
    "# Visualisation des performances avec Prettytable\n",
    "ptbl.add_row([mean_capacity_nuit, mean_MAE_lr_nuit, mean_MAE_rf_nuit, mean_MAE_naif_nuit])\n",
    "print(ptbl)"
   ]
  },
  {
   "source": [
    "On regarde ensuite si les prédictions séparées conduisent à de meilleurs résultats par rapport à un modèle général"
   ],
   "cell_type": "markdown",
   "metadata": {}
  },
  {
   "cell_type": "code",
   "execution_count": 47,
   "metadata": {},
   "outputs": [],
   "source": [
    "mean_MAE_lr_decoupage = round((mean_MAE_lr_nuit * 8 + mean_MAE_lr_matin * 3 + mean_MAE_lr_heures_creuses * 7 + mean_MAE_lr_fin_travail * 4 + mean_MAE_lr_soir * 2)/24,2)\n",
    "\n",
    "mean_MAE_rf_decoupage = round((mean_MAE_rf_nuit * 8 + mean_MAE_rf_matin * 3 + mean_MAE_rf_heures_creuses * 7 + mean_MAE_rf_fin_travail * 4 + mean_MAE_rf_soir * 2)/24,2)\n",
    "\n",
    "mean_MAE_naif_decoupage = round((mean_MAE_naif_nuit * 8 + mean_MAE_naif_matin * 3 + mean_MAE_naif_heures_creuses * 7 + mean_MAE_naif_fin_travail * 4 + mean_MAE_naif_soir * 2)/24,2)"
   ]
  },
  {
   "cell_type": "code",
   "execution_count": 48,
   "metadata": {},
   "outputs": [
    {
     "output_type": "display_data",
     "data": {
      "application/vnd.plotly.v1+json": {
       "config": {
        "plotlyServerURL": "https://plot.ly"
       },
       "data": [
        {
         "name": "Erreur moyenne avec Régression Linéaire",
         "type": "scatter",
         "x": [
          0,
          1,
          2,
          3,
          4,
          5,
          6,
          7,
          8,
          9,
          10,
          11,
          12,
          13,
          14,
          15,
          16,
          17,
          18,
          19,
          20,
          21,
          22,
          23
         ],
         "y": [
          2.21,
          2.21,
          2.24,
          2.3,
          1.92,
          2.04,
          2.11,
          3.13,
          4.53,
          4.97,
          4.91,
          4.29,
          4.25,
          4.5,
          4.6,
          4.96,
          5.23,
          5.39,
          5.03,
          4.59,
          3.91,
          3.38,
          2.88,
          2.58
         ]
        },
        {
         "name": "Erreur moyenne avec Forêt aléatoire",
         "type": "scatter",
         "x": [
          0,
          1,
          2,
          3,
          4,
          5,
          6,
          7,
          8,
          9,
          10,
          11,
          12,
          13,
          14,
          15,
          16,
          17,
          18,
          19,
          20,
          21,
          22,
          23
         ],
         "y": [
          1.11,
          1.11,
          1.17,
          0.84,
          0.86,
          1.1,
          1.45,
          2.51,
          3.22,
          3.54,
          3.18,
          2.92,
          3.33,
          2.86,
          3,
          3.24,
          3.08,
          3.67,
          3.44,
          3.29,
          2.67,
          2.11,
          1.59,
          1.36
         ]
        },
        {
         "name": "Erreur moyenne avec la méthode naïve",
         "type": "scatter",
         "x": [
          0,
          1,
          2,
          3,
          4,
          5,
          6,
          7,
          8,
          9,
          10,
          11,
          12,
          13,
          14,
          15,
          16,
          17,
          18,
          19,
          20,
          21,
          22,
          23
         ],
         "y": [
          5.29,
          5.66,
          5.7,
          5.92,
          5.53,
          5.67,
          5.46,
          5.74,
          5.98,
          5.65,
          5.93,
          5.26,
          5.94,
          5.45,
          5.55,
          5.58,
          5.22,
          5.83,
          5.45,
          5.43,
          5.4,
          5.31,
          5.1,
          5.98
         ]
        },
        {
         "mode": "text",
         "showlegend": false,
         "text": [
          "Nuit",
          "22h-5h",
          "Matin",
          "6h-8h",
          "Les heures creuses",
          "9h-16h",
          "Fin travail",
          "17h-18h",
          "Soir",
          "19h-21h"
         ],
         "type": "scatter",
         "x": [
          3,
          3,
          7,
          7,
          12.5,
          12.5,
          17.5,
          17.5,
          20,
          20
         ],
         "y": [
          4,
          3.75,
          1,
          0.75,
          1,
          0.75,
          1,
          0.75,
          1,
          0.75
         ]
        }
       ],
       "layout": {
        "autosize": false,
        "height": 500,
        "legend": {
         "title": {
          "text": ""
         }
        },
        "shapes": [
         {
          "line": {
           "color": "black",
           "dash": "dot",
           "width": 2
          },
          "type": "line",
          "x0": 5.5,
          "x1": 5.5,
          "y0": 0,
          "y1": 7
         },
         {
          "line": {
           "color": "black",
           "dash": "dot",
           "width": 2
          },
          "type": "line",
          "x0": 8.5,
          "x1": 8.5,
          "y0": 0,
          "y1": 7
         },
         {
          "line": {
           "color": "black",
           "dash": "dot",
           "width": 2
          },
          "type": "line",
          "x0": 16.5,
          "x1": 16.5,
          "y0": 0,
          "y1": 7
         },
         {
          "line": {
           "color": "black",
           "dash": "dot",
           "width": 2
          },
          "type": "line",
          "x0": 18.5,
          "x1": 18.5,
          "y0": 0,
          "y1": 7
         },
         {
          "line": {
           "color": "black",
           "dash": "dot",
           "width": 2
          },
          "type": "line",
          "x0": 21.5,
          "x1": 21.5,
          "y0": 0,
          "y1": 7
         }
        ],
        "template": {
         "data": {
          "bar": [
           {
            "error_x": {
             "color": "#2a3f5f"
            },
            "error_y": {
             "color": "#2a3f5f"
            },
            "marker": {
             "line": {
              "color": "#E5ECF6",
              "width": 0.5
             }
            },
            "type": "bar"
           }
          ],
          "barpolar": [
           {
            "marker": {
             "line": {
              "color": "#E5ECF6",
              "width": 0.5
             }
            },
            "type": "barpolar"
           }
          ],
          "carpet": [
           {
            "aaxis": {
             "endlinecolor": "#2a3f5f",
             "gridcolor": "white",
             "linecolor": "white",
             "minorgridcolor": "white",
             "startlinecolor": "#2a3f5f"
            },
            "baxis": {
             "endlinecolor": "#2a3f5f",
             "gridcolor": "white",
             "linecolor": "white",
             "minorgridcolor": "white",
             "startlinecolor": "#2a3f5f"
            },
            "type": "carpet"
           }
          ],
          "choropleth": [
           {
            "colorbar": {
             "outlinewidth": 0,
             "ticks": ""
            },
            "type": "choropleth"
           }
          ],
          "contour": [
           {
            "colorbar": {
             "outlinewidth": 0,
             "ticks": ""
            },
            "colorscale": [
             [
              0,
              "#0d0887"
             ],
             [
              0.1111111111111111,
              "#46039f"
             ],
             [
              0.2222222222222222,
              "#7201a8"
             ],
             [
              0.3333333333333333,
              "#9c179e"
             ],
             [
              0.4444444444444444,
              "#bd3786"
             ],
             [
              0.5555555555555556,
              "#d8576b"
             ],
             [
              0.6666666666666666,
              "#ed7953"
             ],
             [
              0.7777777777777778,
              "#fb9f3a"
             ],
             [
              0.8888888888888888,
              "#fdca26"
             ],
             [
              1,
              "#f0f921"
             ]
            ],
            "type": "contour"
           }
          ],
          "contourcarpet": [
           {
            "colorbar": {
             "outlinewidth": 0,
             "ticks": ""
            },
            "type": "contourcarpet"
           }
          ],
          "heatmap": [
           {
            "colorbar": {
             "outlinewidth": 0,
             "ticks": ""
            },
            "colorscale": [
             [
              0,
              "#0d0887"
             ],
             [
              0.1111111111111111,
              "#46039f"
             ],
             [
              0.2222222222222222,
              "#7201a8"
             ],
             [
              0.3333333333333333,
              "#9c179e"
             ],
             [
              0.4444444444444444,
              "#bd3786"
             ],
             [
              0.5555555555555556,
              "#d8576b"
             ],
             [
              0.6666666666666666,
              "#ed7953"
             ],
             [
              0.7777777777777778,
              "#fb9f3a"
             ],
             [
              0.8888888888888888,
              "#fdca26"
             ],
             [
              1,
              "#f0f921"
             ]
            ],
            "type": "heatmap"
           }
          ],
          "heatmapgl": [
           {
            "colorbar": {
             "outlinewidth": 0,
             "ticks": ""
            },
            "colorscale": [
             [
              0,
              "#0d0887"
             ],
             [
              0.1111111111111111,
              "#46039f"
             ],
             [
              0.2222222222222222,
              "#7201a8"
             ],
             [
              0.3333333333333333,
              "#9c179e"
             ],
             [
              0.4444444444444444,
              "#bd3786"
             ],
             [
              0.5555555555555556,
              "#d8576b"
             ],
             [
              0.6666666666666666,
              "#ed7953"
             ],
             [
              0.7777777777777778,
              "#fb9f3a"
             ],
             [
              0.8888888888888888,
              "#fdca26"
             ],
             [
              1,
              "#f0f921"
             ]
            ],
            "type": "heatmapgl"
           }
          ],
          "histogram": [
           {
            "marker": {
             "colorbar": {
              "outlinewidth": 0,
              "ticks": ""
             }
            },
            "type": "histogram"
           }
          ],
          "histogram2d": [
           {
            "colorbar": {
             "outlinewidth": 0,
             "ticks": ""
            },
            "colorscale": [
             [
              0,
              "#0d0887"
             ],
             [
              0.1111111111111111,
              "#46039f"
             ],
             [
              0.2222222222222222,
              "#7201a8"
             ],
             [
              0.3333333333333333,
              "#9c179e"
             ],
             [
              0.4444444444444444,
              "#bd3786"
             ],
             [
              0.5555555555555556,
              "#d8576b"
             ],
             [
              0.6666666666666666,
              "#ed7953"
             ],
             [
              0.7777777777777778,
              "#fb9f3a"
             ],
             [
              0.8888888888888888,
              "#fdca26"
             ],
             [
              1,
              "#f0f921"
             ]
            ],
            "type": "histogram2d"
           }
          ],
          "histogram2dcontour": [
           {
            "colorbar": {
             "outlinewidth": 0,
             "ticks": ""
            },
            "colorscale": [
             [
              0,
              "#0d0887"
             ],
             [
              0.1111111111111111,
              "#46039f"
             ],
             [
              0.2222222222222222,
              "#7201a8"
             ],
             [
              0.3333333333333333,
              "#9c179e"
             ],
             [
              0.4444444444444444,
              "#bd3786"
             ],
             [
              0.5555555555555556,
              "#d8576b"
             ],
             [
              0.6666666666666666,
              "#ed7953"
             ],
             [
              0.7777777777777778,
              "#fb9f3a"
             ],
             [
              0.8888888888888888,
              "#fdca26"
             ],
             [
              1,
              "#f0f921"
             ]
            ],
            "type": "histogram2dcontour"
           }
          ],
          "mesh3d": [
           {
            "colorbar": {
             "outlinewidth": 0,
             "ticks": ""
            },
            "type": "mesh3d"
           }
          ],
          "parcoords": [
           {
            "line": {
             "colorbar": {
              "outlinewidth": 0,
              "ticks": ""
             }
            },
            "type": "parcoords"
           }
          ],
          "pie": [
           {
            "automargin": true,
            "type": "pie"
           }
          ],
          "scatter": [
           {
            "marker": {
             "colorbar": {
              "outlinewidth": 0,
              "ticks": ""
             }
            },
            "type": "scatter"
           }
          ],
          "scatter3d": [
           {
            "line": {
             "colorbar": {
              "outlinewidth": 0,
              "ticks": ""
             }
            },
            "marker": {
             "colorbar": {
              "outlinewidth": 0,
              "ticks": ""
             }
            },
            "type": "scatter3d"
           }
          ],
          "scattercarpet": [
           {
            "marker": {
             "colorbar": {
              "outlinewidth": 0,
              "ticks": ""
             }
            },
            "type": "scattercarpet"
           }
          ],
          "scattergeo": [
           {
            "marker": {
             "colorbar": {
              "outlinewidth": 0,
              "ticks": ""
             }
            },
            "type": "scattergeo"
           }
          ],
          "scattergl": [
           {
            "marker": {
             "colorbar": {
              "outlinewidth": 0,
              "ticks": ""
             }
            },
            "type": "scattergl"
           }
          ],
          "scattermapbox": [
           {
            "marker": {
             "colorbar": {
              "outlinewidth": 0,
              "ticks": ""
             }
            },
            "type": "scattermapbox"
           }
          ],
          "scatterpolar": [
           {
            "marker": {
             "colorbar": {
              "outlinewidth": 0,
              "ticks": ""
             }
            },
            "type": "scatterpolar"
           }
          ],
          "scatterpolargl": [
           {
            "marker": {
             "colorbar": {
              "outlinewidth": 0,
              "ticks": ""
             }
            },
            "type": "scatterpolargl"
           }
          ],
          "scatterternary": [
           {
            "marker": {
             "colorbar": {
              "outlinewidth": 0,
              "ticks": ""
             }
            },
            "type": "scatterternary"
           }
          ],
          "surface": [
           {
            "colorbar": {
             "outlinewidth": 0,
             "ticks": ""
            },
            "colorscale": [
             [
              0,
              "#0d0887"
             ],
             [
              0.1111111111111111,
              "#46039f"
             ],
             [
              0.2222222222222222,
              "#7201a8"
             ],
             [
              0.3333333333333333,
              "#9c179e"
             ],
             [
              0.4444444444444444,
              "#bd3786"
             ],
             [
              0.5555555555555556,
              "#d8576b"
             ],
             [
              0.6666666666666666,
              "#ed7953"
             ],
             [
              0.7777777777777778,
              "#fb9f3a"
             ],
             [
              0.8888888888888888,
              "#fdca26"
             ],
             [
              1,
              "#f0f921"
             ]
            ],
            "type": "surface"
           }
          ],
          "table": [
           {
            "cells": {
             "fill": {
              "color": "#EBF0F8"
             },
             "line": {
              "color": "white"
             }
            },
            "header": {
             "fill": {
              "color": "#C8D4E3"
             },
             "line": {
              "color": "white"
             }
            },
            "type": "table"
           }
          ]
         },
         "layout": {
          "annotationdefaults": {
           "arrowcolor": "#2a3f5f",
           "arrowhead": 0,
           "arrowwidth": 1
          },
          "autotypenumbers": "strict",
          "coloraxis": {
           "colorbar": {
            "outlinewidth": 0,
            "ticks": ""
           }
          },
          "colorscale": {
           "diverging": [
            [
             0,
             "#8e0152"
            ],
            [
             0.1,
             "#c51b7d"
            ],
            [
             0.2,
             "#de77ae"
            ],
            [
             0.3,
             "#f1b6da"
            ],
            [
             0.4,
             "#fde0ef"
            ],
            [
             0.5,
             "#f7f7f7"
            ],
            [
             0.6,
             "#e6f5d0"
            ],
            [
             0.7,
             "#b8e186"
            ],
            [
             0.8,
             "#7fbc41"
            ],
            [
             0.9,
             "#4d9221"
            ],
            [
             1,
             "#276419"
            ]
           ],
           "sequential": [
            [
             0,
             "#0d0887"
            ],
            [
             0.1111111111111111,
             "#46039f"
            ],
            [
             0.2222222222222222,
             "#7201a8"
            ],
            [
             0.3333333333333333,
             "#9c179e"
            ],
            [
             0.4444444444444444,
             "#bd3786"
            ],
            [
             0.5555555555555556,
             "#d8576b"
            ],
            [
             0.6666666666666666,
             "#ed7953"
            ],
            [
             0.7777777777777778,
             "#fb9f3a"
            ],
            [
             0.8888888888888888,
             "#fdca26"
            ],
            [
             1,
             "#f0f921"
            ]
           ],
           "sequentialminus": [
            [
             0,
             "#0d0887"
            ],
            [
             0.1111111111111111,
             "#46039f"
            ],
            [
             0.2222222222222222,
             "#7201a8"
            ],
            [
             0.3333333333333333,
             "#9c179e"
            ],
            [
             0.4444444444444444,
             "#bd3786"
            ],
            [
             0.5555555555555556,
             "#d8576b"
            ],
            [
             0.6666666666666666,
             "#ed7953"
            ],
            [
             0.7777777777777778,
             "#fb9f3a"
            ],
            [
             0.8888888888888888,
             "#fdca26"
            ],
            [
             1,
             "#f0f921"
            ]
           ]
          },
          "colorway": [
           "#636efa",
           "#EF553B",
           "#00cc96",
           "#ab63fa",
           "#FFA15A",
           "#19d3f3",
           "#FF6692",
           "#B6E880",
           "#FF97FF",
           "#FECB52"
          ],
          "font": {
           "color": "#2a3f5f"
          },
          "geo": {
           "bgcolor": "white",
           "lakecolor": "white",
           "landcolor": "#E5ECF6",
           "showlakes": true,
           "showland": true,
           "subunitcolor": "white"
          },
          "hoverlabel": {
           "align": "left"
          },
          "hovermode": "closest",
          "mapbox": {
           "style": "light"
          },
          "paper_bgcolor": "white",
          "plot_bgcolor": "#E5ECF6",
          "polar": {
           "angularaxis": {
            "gridcolor": "white",
            "linecolor": "white",
            "ticks": ""
           },
           "bgcolor": "#E5ECF6",
           "radialaxis": {
            "gridcolor": "white",
            "linecolor": "white",
            "ticks": ""
           }
          },
          "scene": {
           "xaxis": {
            "backgroundcolor": "#E5ECF6",
            "gridcolor": "white",
            "gridwidth": 2,
            "linecolor": "white",
            "showbackground": true,
            "ticks": "",
            "zerolinecolor": "white"
           },
           "yaxis": {
            "backgroundcolor": "#E5ECF6",
            "gridcolor": "white",
            "gridwidth": 2,
            "linecolor": "white",
            "showbackground": true,
            "ticks": "",
            "zerolinecolor": "white"
           },
           "zaxis": {
            "backgroundcolor": "#E5ECF6",
            "gridcolor": "white",
            "gridwidth": 2,
            "linecolor": "white",
            "showbackground": true,
            "ticks": "",
            "zerolinecolor": "white"
           }
          },
          "shapedefaults": {
           "line": {
            "color": "#2a3f5f"
           }
          },
          "ternary": {
           "aaxis": {
            "gridcolor": "white",
            "linecolor": "white",
            "ticks": ""
           },
           "baxis": {
            "gridcolor": "white",
            "linecolor": "white",
            "ticks": ""
           },
           "bgcolor": "#E5ECF6",
           "caxis": {
            "gridcolor": "white",
            "linecolor": "white",
            "ticks": ""
           }
          },
          "title": {
           "x": 0.05
          },
          "xaxis": {
           "automargin": true,
           "gridcolor": "white",
           "linecolor": "white",
           "ticks": "",
           "title": {
            "standoff": 15
           },
           "zerolinecolor": "white",
           "zerolinewidth": 2
          },
          "yaxis": {
           "automargin": true,
           "gridcolor": "white",
           "linecolor": "white",
           "ticks": "",
           "title": {
            "standoff": 15
           },
           "zerolinecolor": "white",
           "zerolinewidth": 2
          }
         }
        },
        "title": {
         "text": "Choix des intervalles de temps à prédire au regard des 10 stations"
        },
        "width": 1000,
        "xaxis": {
         "range": [
          0,
          23
         ],
         "title": {
          "text": "Heure"
         }
        },
        "yaxis": {
         "range": [
          0,
          7
         ],
         "title": {
          "text": "Erreur moyenne"
         }
        }
       }
      }
     },
     "metadata": {}
    }
   ],
   "source": [
    "fig = go.Figure()\n",
    "\n",
    "fig.add_trace(go.Scatter(\n",
    "    x=mean_erreur_par_heure.index,\n",
    "    y=mean_erreur_par_heure['erreur_pred_lr'],\n",
    "    name=\"Erreur moyenne avec Régression Linéaire\"      \n",
    "))\n",
    "\n",
    "\n",
    "fig.add_trace(go.Scatter(\n",
    "    x=mean_erreur_par_heure.index,\n",
    "    y=mean_erreur_par_heure['erreur_pred_rf'],\n",
    "    name=\"Erreur moyenne avec Forêt aléatoire\"     \n",
    "))\n",
    "\n",
    "fig.add_trace(go.Scatter(\n",
    "    x=mean_erreur_par_heure.index,\n",
    "    y=mean_erreur_par_heure['erreur_pred_naif'],\n",
    "    name=\"Erreur moyenne avec la méthode naïve\"     \n",
    "))\n",
    "\n",
    "\n",
    "# Create scatter trace of text labels\n",
    "fig.add_trace(go.Scatter(\n",
    "    x=[3,3, 7,7, 12.5,12.5, 17.5,17.5, 20,20],\n",
    "    y=[4,3.75, 1,0.75, 1,0.75, 1,0.75, 1,0.75],\n",
    "    text=[\"Nuit\", \"22h-5h\",\n",
    "          \"Matin\", \"6h-8h\",\n",
    "          \"Les heures creuses\", \"9h-16h\",\n",
    "          \"Fin travail\", \"17h-18h\",\n",
    "          \"Soir\", \"19h-21h\"],\n",
    "    mode=\"text\",\n",
    "    showlegend = False\n",
    "\n",
    "))\n",
    "\n",
    "# Set axes ranges\n",
    "fig.update_xaxes(range=[0, 23])\n",
    "fig.update_yaxes(range=[0, 7])\n",
    "\n",
    "# Add shapes\n",
    "fig.add_shape(type=\"line\",\n",
    "    x0=5.5, y0=0, x1=5.5, y1=7,\n",
    "    line=dict(\n",
    "        color=\"black\",\n",
    "        width=2,\n",
    "        dash=\"dot\"\n",
    "    )\n",
    ")\n",
    "\n",
    "fig.add_shape(type=\"line\",\n",
    "    x0=8.5, y0=0, x1=8.5, y1=7,\n",
    "    line=dict(\n",
    "        color=\"black\",\n",
    "        width=2,\n",
    "        dash=\"dot\"\n",
    "    )\n",
    ")\n",
    "\n",
    "fig.add_shape(type=\"line\",\n",
    "    x0=16.5, y0=0, x1=16.5, y1=7,\n",
    "    line=dict(\n",
    "        color=\"black\",\n",
    "        width=2,\n",
    "        dash=\"dot\"\n",
    "    )\n",
    ")\n",
    "\n",
    "fig.add_shape(type=\"line\",\n",
    "    x0=18.5, y0=0, x1=18.5, y1=7,\n",
    "    line=dict(\n",
    "        color=\"black\",\n",
    "        width=2,\n",
    "        dash=\"dot\"\n",
    "    )\n",
    ")\n",
    "\n",
    "fig.add_shape(type=\"line\",\n",
    "    x0=21.5, y0=0, x1=21.5, y1=7,\n",
    "    line=dict(\n",
    "        color=\"black\",\n",
    "        width=2,\n",
    "        dash=\"dot\"\n",
    "    )\n",
    ")\n",
    "\n",
    "\n",
    "\n",
    "fig.update_layout(\n",
    "    title=\"Choix des intervalles de temps à prédire au regard des 10 stations\",\n",
    "    xaxis_title=\"Heure\",\n",
    "    yaxis_title=\"Erreur moyenne\",\n",
    "    legend_title=\"\",\n",
    "    autosize=False,\n",
    "    width=1000,\n",
    "    height=500\n",
    ")\n",
    "\n",
    "fig.show()"
   ]
  },
  {
   "cell_type": "code",
   "execution_count": 49,
   "metadata": {},
   "outputs": [
    {
     "output_type": "stream",
     "name": "stdout",
     "text": [
      "+---------------------------+-----------------------------------+-----------------------------------+----------------------------------------------+\n| Occupation moyenne - test | Moyenne MAE LR - 5 modèles - test | Moyenne MAE RF - 5 modèles - test | Moyenne MAE méthode naïve - 5 modèles - test |\n+---------------------------+-----------------------------------+-----------------------------------+----------------------------------------------+\n|           15.84           |                3.28               |                3.12               |                     7.36                     |\n+---------------------------+-----------------------------------+-----------------------------------+----------------------------------------------+\n"
     ]
    }
   ],
   "source": [
    "ptbl5 = PrettyTable()\n",
    "ptbl5.field_names = [\"Occupation moyenne - test\", \"Moyenne MAE LR - 5 modèles - test\", \"Moyenne MAE RF - 5 modèles - test\", \"Moyenne MAE méthode naïve - 5 modèles - test\"]\n",
    "\n",
    "# Visualisation des performances avec Prettytable\n",
    "ptbl5.add_row([mean_occupation1, mean_MAE_lr_decoupage, mean_MAE_rf_decoupage, mean_MAE_naif_decoupage])\n",
    "print(ptbl5)"
   ]
  },
  {
   "cell_type": "code",
   "execution_count": 50,
   "metadata": {},
   "outputs": [
    {
     "output_type": "stream",
     "name": "stdout",
     "text": [
      "+---------------------------+----------------------------------+----------------------------------+---------------------------------------------+\n| Occupation moyenne - test | Moyenne MAE LR - 1 modèle - test | Moyenne MAE RF - 1 modèle - test | Moyenne MAE méthode naïve - 1 modèle - test |\n+---------------------------+----------------------------------+----------------------------------+---------------------------------------------+\n|           15.84           |               3.65               |               2.34               |                     5.59                    |\n+---------------------------+----------------------------------+----------------------------------+---------------------------------------------+\n"
     ]
    }
   ],
   "source": [
    "print(ptbl1)"
   ]
  }
 ],
 "metadata": {
  "kernelspec": {
   "display_name": "Python 3",
   "language": "python",
   "name": "python3"
  },
  "language_info": {
   "codemirror_mode": {
    "name": "ipython",
    "version": 3
   },
   "file_extension": ".py",
   "mimetype": "text/x-python",
   "name": "python",
   "nbconvert_exporter": "python",
   "pygments_lexer": "ipython3",
   "version": "3.7.4"
  }
 },
 "nbformat": 4,
 "nbformat_minor": 2
}