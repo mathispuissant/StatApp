{
 "metadata": {
  "language_info": {
   "codemirror_mode": {
    "name": "ipython",
    "version": 3
   },
   "file_extension": ".py",
   "mimetype": "text/x-python",
   "name": "python",
   "nbconvert_exporter": "python",
   "pygments_lexer": "ipython3",
   "version": "3.7.4-final"
  },
  "orig_nbformat": 2,
  "kernelspec": {
   "name": "python3",
   "display_name": "Python 3",
   "language": "python"
  }
 },
 "nbformat": 4,
 "nbformat_minor": 2,
 "cells": [
  {
   "source": [
    "# Premiers modèles prédictifs du nombre de vélibs d'un point de vue spatial"
   ],
   "cell_type": "markdown",
   "metadata": {}
  },
  {
   "cell_type": "code",
   "execution_count": 1,
   "metadata": {},
   "outputs": [
    {
     "output_type": "stream",
     "name": "stdout",
     "text": [
      "Requirement already satisfied: prettytable in /Applications/anaconda3/lib/python3.7/site-packages (2.0.0)\nRequirement already satisfied: wcwidth in /Applications/anaconda3/lib/python3.7/site-packages (from prettytable) (0.1.7)\nRequirement already satisfied: setuptools in /Applications/anaconda3/lib/python3.7/site-packages (from prettytable) (41.4.0)\n"
     ]
    }
   ],
   "source": [
    "import pandas as pd\n",
    "import numpy as np\n",
    "import matplotlib.pyplot as plt\n",
    "import seaborn as sns\n",
    "\n",
    "from sklearn.model_selection import train_test_split\n",
    "from sklearn.linear_model import LinearRegression\n",
    "from sklearn.metrics import mean_squared_error, mean_absolute_error\n",
    "from sklearn.metrics import accuracy_score\n",
    "from sklearn.metrics import f1_score, confusion_matrix, accuracy_score, recall_score, precision_score\n",
    "from sklearn.preprocessing import PolynomialFeatures\n",
    "from sklearn.metrics import mean_squared_error\n",
    "from sklearn.tree import DecisionTreeRegressor\n",
    "from sklearn.ensemble import RandomForestRegressor\n",
    "from sklearn.datasets import make_classification\n",
    "from sklearn import linear_model\n",
    "from math import sqrt\n",
    "\n",
    "!pip install prettytable\n",
    "from prettytable import PrettyTable"
   ]
  },
  {
   "cell_type": "code",
   "execution_count": 2,
   "metadata": {},
   "outputs": [
    {
     "output_type": "execute_result",
     "data": {
      "text/plain": [
       "   station_id               10/19/20;18:01:51               10/19/20;18:06:52  \\\n",
       "0   213688169   {'mechanical': 0, 'ebike': 2}   {'mechanical': 0, 'ebike': 2}   \n",
       "1    99950133  {'mechanical': 41, 'ebike': 5}  {'mechanical': 41, 'ebike': 5}   \n",
       "2   516709288   {'mechanical': 0, 'ebike': 1}   {'mechanical': 0, 'ebike': 1}   \n",
       "3       36255   {'mechanical': 0, 'ebike': 0}   {'mechanical': 0, 'ebike': 0}   \n",
       "4    37815204   {'mechanical': 4, 'ebike': 1}   {'mechanical': 3, 'ebike': 1}   \n",
       "\n",
       "                10/19/20;18:11:52               10/19/20;18:16:52  \\\n",
       "0   {'mechanical': 0, 'ebike': 2}   {'mechanical': 0, 'ebike': 3}   \n",
       "1  {'mechanical': 42, 'ebike': 5}  {'mechanical': 42, 'ebike': 7}   \n",
       "2   {'mechanical': 0, 'ebike': 1}   {'mechanical': 1, 'ebike': 1}   \n",
       "3   {'mechanical': 0, 'ebike': 0}   {'mechanical': 0, 'ebike': 0}   \n",
       "4   {'mechanical': 1, 'ebike': 1}   {'mechanical': 1, 'ebike': 1}   \n",
       "\n",
       "                10/19/20;18:21:52               10/19/20;18:26:53  \\\n",
       "0   {'mechanical': 0, 'ebike': 3}   {'mechanical': 1, 'ebike': 2}   \n",
       "1  {'mechanical': 41, 'ebike': 5}  {'mechanical': 40, 'ebike': 4}   \n",
       "2   {'mechanical': 1, 'ebike': 1}   {'mechanical': 1, 'ebike': 1}   \n",
       "3   {'mechanical': 0, 'ebike': 2}   {'mechanical': 0, 'ebike': 4}   \n",
       "4   {'mechanical': 2, 'ebike': 1}   {'mechanical': 3, 'ebike': 1}   \n",
       "\n",
       "                10/19/20;18:31:53               10/19/20;18:36:53  \\\n",
       "0   {'mechanical': 0, 'ebike': 1}   {'mechanical': 0, 'ebike': 1}   \n",
       "1  {'mechanical': 38, 'ebike': 5}  {'mechanical': 39, 'ebike': 4}   \n",
       "2   {'mechanical': 2, 'ebike': 1}   {'mechanical': 0, 'ebike': 1}   \n",
       "3   {'mechanical': 0, 'ebike': 4}   {'mechanical': 0, 'ebike': 4}   \n",
       "4   {'mechanical': 3, 'ebike': 2}   {'mechanical': 2, 'ebike': 0}   \n",
       "\n",
       "                10/19/20;18:41:54  ...              11/03/20;16:01:46  \\\n",
       "0   {'mechanical': 0, 'ebike': 1}  ...  {'mechanical': 4, 'ebike': 6}   \n",
       "1  {'mechanical': 40, 'ebike': 5}  ...  {'mechanical': 2, 'ebike': 0}   \n",
       "2   {'mechanical': 0, 'ebike': 1}  ...  {'mechanical': 1, 'ebike': 2}   \n",
       "3   {'mechanical': 1, 'ebike': 3}  ...  {'mechanical': 0, 'ebike': 3}   \n",
       "4   {'mechanical': 2, 'ebike': 0}  ...  {'mechanical': 6, 'ebike': 0}   \n",
       "\n",
       "               11/03/20;16:06:47              11/03/20;16:11:47  \\\n",
       "0  {'mechanical': 4, 'ebike': 6}  {'mechanical': 3, 'ebike': 6}   \n",
       "1  {'mechanical': 2, 'ebike': 0}  {'mechanical': 2, 'ebike': 0}   \n",
       "2  {'mechanical': 1, 'ebike': 2}  {'mechanical': 1, 'ebike': 2}   \n",
       "3  {'mechanical': 0, 'ebike': 3}  {'mechanical': 0, 'ebike': 3}   \n",
       "4  {'mechanical': 7, 'ebike': 0}  {'mechanical': 7, 'ebike': 0}   \n",
       "\n",
       "               11/03/20;16:16:47              11/03/20;16:21:48  \\\n",
       "0  {'mechanical': 4, 'ebike': 7}  {'mechanical': 5, 'ebike': 7}   \n",
       "1  {'mechanical': 2, 'ebike': 1}  {'mechanical': 2, 'ebike': 1}   \n",
       "2  {'mechanical': 1, 'ebike': 2}  {'mechanical': 1, 'ebike': 2}   \n",
       "3  {'mechanical': 0, 'ebike': 3}  {'mechanical': 0, 'ebike': 2}   \n",
       "4  {'mechanical': 7, 'ebike': 1}  {'mechanical': 7, 'ebike': 1}   \n",
       "\n",
       "               11/03/20;16:26:48              11/03/20;16:31:48  \\\n",
       "0  {'mechanical': 5, 'ebike': 7}  {'mechanical': 5, 'ebike': 8}   \n",
       "1  {'mechanical': 2, 'ebike': 0}  {'mechanical': 2, 'ebike': 0}   \n",
       "2  {'mechanical': 1, 'ebike': 3}  {'mechanical': 1, 'ebike': 2}   \n",
       "3  {'mechanical': 0, 'ebike': 2}  {'mechanical': 0, 'ebike': 3}   \n",
       "4  {'mechanical': 8, 'ebike': 1}  {'mechanical': 9, 'ebike': 0}   \n",
       "\n",
       "                11/03/20;16:36:49              11/03/20;16:41:49  \\\n",
       "0   {'mechanical': 5, 'ebike': 8}  {'mechanical': 5, 'ebike': 8}   \n",
       "1   {'mechanical': 2, 'ebike': 0}  {'mechanical': 2, 'ebike': 0}   \n",
       "2   {'mechanical': 1, 'ebike': 3}  {'mechanical': 1, 'ebike': 3}   \n",
       "3   {'mechanical': 0, 'ebike': 3}  {'mechanical': 0, 'ebike': 3}   \n",
       "4  {'mechanical': 10, 'ebike': 0}  {'mechanical': 9, 'ebike': 0}   \n",
       "\n",
       "               11/03/20;16:46:49  \n",
       "0  {'mechanical': 5, 'ebike': 7}  \n",
       "1  {'mechanical': 2, 'ebike': 0}  \n",
       "2  {'mechanical': 1, 'ebike': 3}  \n",
       "3  {'mechanical': 0, 'ebike': 2}  \n",
       "4  {'mechanical': 9, 'ebike': 0}  \n",
       "\n",
       "[5 rows x 4295 columns]"
      ],
      "text/html": "<div>\n<style scoped>\n    .dataframe tbody tr th:only-of-type {\n        vertical-align: middle;\n    }\n\n    .dataframe tbody tr th {\n        vertical-align: top;\n    }\n\n    .dataframe thead th {\n        text-align: right;\n    }\n</style>\n<table border=\"1\" class=\"dataframe\">\n  <thead>\n    <tr style=\"text-align: right;\">\n      <th></th>\n      <th>station_id</th>\n      <th>10/19/20;18:01:51</th>\n      <th>10/19/20;18:06:52</th>\n      <th>10/19/20;18:11:52</th>\n      <th>10/19/20;18:16:52</th>\n      <th>10/19/20;18:21:52</th>\n      <th>10/19/20;18:26:53</th>\n      <th>10/19/20;18:31:53</th>\n      <th>10/19/20;18:36:53</th>\n      <th>10/19/20;18:41:54</th>\n      <th>...</th>\n      <th>11/03/20;16:01:46</th>\n      <th>11/03/20;16:06:47</th>\n      <th>11/03/20;16:11:47</th>\n      <th>11/03/20;16:16:47</th>\n      <th>11/03/20;16:21:48</th>\n      <th>11/03/20;16:26:48</th>\n      <th>11/03/20;16:31:48</th>\n      <th>11/03/20;16:36:49</th>\n      <th>11/03/20;16:41:49</th>\n      <th>11/03/20;16:46:49</th>\n    </tr>\n  </thead>\n  <tbody>\n    <tr>\n      <th>0</th>\n      <td>213688169</td>\n      <td>{'mechanical': 0, 'ebike': 2}</td>\n      <td>{'mechanical': 0, 'ebike': 2}</td>\n      <td>{'mechanical': 0, 'ebike': 2}</td>\n      <td>{'mechanical': 0, 'ebike': 3}</td>\n      <td>{'mechanical': 0, 'ebike': 3}</td>\n      <td>{'mechanical': 1, 'ebike': 2}</td>\n      <td>{'mechanical': 0, 'ebike': 1}</td>\n      <td>{'mechanical': 0, 'ebike': 1}</td>\n      <td>{'mechanical': 0, 'ebike': 1}</td>\n      <td>...</td>\n      <td>{'mechanical': 4, 'ebike': 6}</td>\n      <td>{'mechanical': 4, 'ebike': 6}</td>\n      <td>{'mechanical': 3, 'ebike': 6}</td>\n      <td>{'mechanical': 4, 'ebike': 7}</td>\n      <td>{'mechanical': 5, 'ebike': 7}</td>\n      <td>{'mechanical': 5, 'ebike': 7}</td>\n      <td>{'mechanical': 5, 'ebike': 8}</td>\n      <td>{'mechanical': 5, 'ebike': 8}</td>\n      <td>{'mechanical': 5, 'ebike': 8}</td>\n      <td>{'mechanical': 5, 'ebike': 7}</td>\n    </tr>\n    <tr>\n      <th>1</th>\n      <td>99950133</td>\n      <td>{'mechanical': 41, 'ebike': 5}</td>\n      <td>{'mechanical': 41, 'ebike': 5}</td>\n      <td>{'mechanical': 42, 'ebike': 5}</td>\n      <td>{'mechanical': 42, 'ebike': 7}</td>\n      <td>{'mechanical': 41, 'ebike': 5}</td>\n      <td>{'mechanical': 40, 'ebike': 4}</td>\n      <td>{'mechanical': 38, 'ebike': 5}</td>\n      <td>{'mechanical': 39, 'ebike': 4}</td>\n      <td>{'mechanical': 40, 'ebike': 5}</td>\n      <td>...</td>\n      <td>{'mechanical': 2, 'ebike': 0}</td>\n      <td>{'mechanical': 2, 'ebike': 0}</td>\n      <td>{'mechanical': 2, 'ebike': 0}</td>\n      <td>{'mechanical': 2, 'ebike': 1}</td>\n      <td>{'mechanical': 2, 'ebike': 1}</td>\n      <td>{'mechanical': 2, 'ebike': 0}</td>\n      <td>{'mechanical': 2, 'ebike': 0}</td>\n      <td>{'mechanical': 2, 'ebike': 0}</td>\n      <td>{'mechanical': 2, 'ebike': 0}</td>\n      <td>{'mechanical': 2, 'ebike': 0}</td>\n    </tr>\n    <tr>\n      <th>2</th>\n      <td>516709288</td>\n      <td>{'mechanical': 0, 'ebike': 1}</td>\n      <td>{'mechanical': 0, 'ebike': 1}</td>\n      <td>{'mechanical': 0, 'ebike': 1}</td>\n      <td>{'mechanical': 1, 'ebike': 1}</td>\n      <td>{'mechanical': 1, 'ebike': 1}</td>\n      <td>{'mechanical': 1, 'ebike': 1}</td>\n      <td>{'mechanical': 2, 'ebike': 1}</td>\n      <td>{'mechanical': 0, 'ebike': 1}</td>\n      <td>{'mechanical': 0, 'ebike': 1}</td>\n      <td>...</td>\n      <td>{'mechanical': 1, 'ebike': 2}</td>\n      <td>{'mechanical': 1, 'ebike': 2}</td>\n      <td>{'mechanical': 1, 'ebike': 2}</td>\n      <td>{'mechanical': 1, 'ebike': 2}</td>\n      <td>{'mechanical': 1, 'ebike': 2}</td>\n      <td>{'mechanical': 1, 'ebike': 3}</td>\n      <td>{'mechanical': 1, 'ebike': 2}</td>\n      <td>{'mechanical': 1, 'ebike': 3}</td>\n      <td>{'mechanical': 1, 'ebike': 3}</td>\n      <td>{'mechanical': 1, 'ebike': 3}</td>\n    </tr>\n    <tr>\n      <th>3</th>\n      <td>36255</td>\n      <td>{'mechanical': 0, 'ebike': 0}</td>\n      <td>{'mechanical': 0, 'ebike': 0}</td>\n      <td>{'mechanical': 0, 'ebike': 0}</td>\n      <td>{'mechanical': 0, 'ebike': 0}</td>\n      <td>{'mechanical': 0, 'ebike': 2}</td>\n      <td>{'mechanical': 0, 'ebike': 4}</td>\n      <td>{'mechanical': 0, 'ebike': 4}</td>\n      <td>{'mechanical': 0, 'ebike': 4}</td>\n      <td>{'mechanical': 1, 'ebike': 3}</td>\n      <td>...</td>\n      <td>{'mechanical': 0, 'ebike': 3}</td>\n      <td>{'mechanical': 0, 'ebike': 3}</td>\n      <td>{'mechanical': 0, 'ebike': 3}</td>\n      <td>{'mechanical': 0, 'ebike': 3}</td>\n      <td>{'mechanical': 0, 'ebike': 2}</td>\n      <td>{'mechanical': 0, 'ebike': 2}</td>\n      <td>{'mechanical': 0, 'ebike': 3}</td>\n      <td>{'mechanical': 0, 'ebike': 3}</td>\n      <td>{'mechanical': 0, 'ebike': 3}</td>\n      <td>{'mechanical': 0, 'ebike': 2}</td>\n    </tr>\n    <tr>\n      <th>4</th>\n      <td>37815204</td>\n      <td>{'mechanical': 4, 'ebike': 1}</td>\n      <td>{'mechanical': 3, 'ebike': 1}</td>\n      <td>{'mechanical': 1, 'ebike': 1}</td>\n      <td>{'mechanical': 1, 'ebike': 1}</td>\n      <td>{'mechanical': 2, 'ebike': 1}</td>\n      <td>{'mechanical': 3, 'ebike': 1}</td>\n      <td>{'mechanical': 3, 'ebike': 2}</td>\n      <td>{'mechanical': 2, 'ebike': 0}</td>\n      <td>{'mechanical': 2, 'ebike': 0}</td>\n      <td>...</td>\n      <td>{'mechanical': 6, 'ebike': 0}</td>\n      <td>{'mechanical': 7, 'ebike': 0}</td>\n      <td>{'mechanical': 7, 'ebike': 0}</td>\n      <td>{'mechanical': 7, 'ebike': 1}</td>\n      <td>{'mechanical': 7, 'ebike': 1}</td>\n      <td>{'mechanical': 8, 'ebike': 1}</td>\n      <td>{'mechanical': 9, 'ebike': 0}</td>\n      <td>{'mechanical': 10, 'ebike': 0}</td>\n      <td>{'mechanical': 9, 'ebike': 0}</td>\n      <td>{'mechanical': 9, 'ebike': 0}</td>\n    </tr>\n  </tbody>\n</table>\n<p>5 rows × 4295 columns</p>\n</div>"
     },
     "metadata": {},
     "execution_count": 2
    }
   ],
   "source": [
    "velib = pd.read_csv(r\"velib_clean.csv\")\n",
    "velib.head()"
   ]
  },
  {
   "cell_type": "code",
   "execution_count": 3,
   "metadata": {},
   "outputs": [
    {
     "output_type": "execute_result",
     "data": {
      "text/plain": [
       "   Unnamed: 0  station_id               10/19/20;18:01:51  \\\n",
       "0           0   213688169   {'mechanical': 0, 'ebike': 2}   \n",
       "1           1    99950133  {'mechanical': 41, 'ebike': 5}   \n",
       "2           2   516709288   {'mechanical': 0, 'ebike': 1}   \n",
       "3           3       36255   {'mechanical': 0, 'ebike': 0}   \n",
       "4           4    37815204   {'mechanical': 4, 'ebike': 1}   \n",
       "\n",
       "                10/19/20;18:06:52               10/19/20;18:11:52  \\\n",
       "0   {'mechanical': 0, 'ebike': 2}   {'mechanical': 0, 'ebike': 2}   \n",
       "1  {'mechanical': 41, 'ebike': 5}  {'mechanical': 42, 'ebike': 5}   \n",
       "2   {'mechanical': 0, 'ebike': 1}   {'mechanical': 0, 'ebike': 1}   \n",
       "3   {'mechanical': 0, 'ebike': 0}   {'mechanical': 0, 'ebike': 0}   \n",
       "4   {'mechanical': 3, 'ebike': 1}   {'mechanical': 1, 'ebike': 1}   \n",
       "\n",
       "                10/19/20;18:16:52               10/19/20;18:21:52  \\\n",
       "0   {'mechanical': 0, 'ebike': 3}   {'mechanical': 0, 'ebike': 3}   \n",
       "1  {'mechanical': 42, 'ebike': 7}  {'mechanical': 41, 'ebike': 5}   \n",
       "2   {'mechanical': 1, 'ebike': 1}   {'mechanical': 1, 'ebike': 1}   \n",
       "3   {'mechanical': 0, 'ebike': 0}   {'mechanical': 0, 'ebike': 2}   \n",
       "4   {'mechanical': 1, 'ebike': 1}   {'mechanical': 2, 'ebike': 1}   \n",
       "\n",
       "                10/19/20;18:26:53               10/19/20;18:31:53  \\\n",
       "0   {'mechanical': 1, 'ebike': 2}   {'mechanical': 0, 'ebike': 1}   \n",
       "1  {'mechanical': 40, 'ebike': 4}  {'mechanical': 38, 'ebike': 5}   \n",
       "2   {'mechanical': 1, 'ebike': 1}   {'mechanical': 2, 'ebike': 1}   \n",
       "3   {'mechanical': 0, 'ebike': 4}   {'mechanical': 0, 'ebike': 4}   \n",
       "4   {'mechanical': 3, 'ebike': 1}   {'mechanical': 3, 'ebike': 2}   \n",
       "\n",
       "                10/19/20;18:36:53  ...               02/15/21;21:13:34  \\\n",
       "0   {'mechanical': 0, 'ebike': 1}  ...   {'mechanical': 0, 'ebike': 4}   \n",
       "1  {'mechanical': 39, 'ebike': 4}  ...  {'mechanical': 19, 'ebike': 5}   \n",
       "2   {'mechanical': 0, 'ebike': 1}  ...   {'mechanical': 1, 'ebike': 2}   \n",
       "3   {'mechanical': 0, 'ebike': 4}  ...   {'mechanical': 4, 'ebike': 4}   \n",
       "4   {'mechanical': 2, 'ebike': 0}  ...  {'mechanical': 16, 'ebike': 2}   \n",
       "\n",
       "                02/15/21;21:18:35               02/15/21;21:23:35  \\\n",
       "0   {'mechanical': 0, 'ebike': 4}   {'mechanical': 0, 'ebike': 4}   \n",
       "1  {'mechanical': 19, 'ebike': 5}  {'mechanical': 19, 'ebike': 5}   \n",
       "2   {'mechanical': 1, 'ebike': 2}   {'mechanical': 1, 'ebike': 2}   \n",
       "3   {'mechanical': 4, 'ebike': 4}   {'mechanical': 3, 'ebike': 5}   \n",
       "4  {'mechanical': 16, 'ebike': 2}  {'mechanical': 16, 'ebike': 2}   \n",
       "\n",
       "                02/15/21;21:28:35               02/15/21;21:33:36  \\\n",
       "0   {'mechanical': 0, 'ebike': 4}   {'mechanical': 0, 'ebike': 4}   \n",
       "1  {'mechanical': 19, 'ebike': 5}  {'mechanical': 19, 'ebike': 5}   \n",
       "2   {'mechanical': 1, 'ebike': 2}   {'mechanical': 1, 'ebike': 2}   \n",
       "3   {'mechanical': 3, 'ebike': 5}   {'mechanical': 3, 'ebike': 6}   \n",
       "4  {'mechanical': 16, 'ebike': 3}  {'mechanical': 16, 'ebike': 3}   \n",
       "\n",
       "                02/15/21;21:38:36               02/15/21;21:43:36  \\\n",
       "0   {'mechanical': 1, 'ebike': 4}   {'mechanical': 1, 'ebike': 4}   \n",
       "1  {'mechanical': 19, 'ebike': 5}  {'mechanical': 19, 'ebike': 5}   \n",
       "2   {'mechanical': 1, 'ebike': 2}   {'mechanical': 1, 'ebike': 2}   \n",
       "3   {'mechanical': 3, 'ebike': 6}   {'mechanical': 3, 'ebike': 7}   \n",
       "4  {'mechanical': 16, 'ebike': 3}  {'mechanical': 16, 'ebike': 3}   \n",
       "\n",
       "                02/15/21;21:48:36               02/15/21;21:53:37  \\\n",
       "0   {'mechanical': 1, 'ebike': 4}   {'mechanical': 1, 'ebike': 4}   \n",
       "1  {'mechanical': 19, 'ebike': 5}  {'mechanical': 19, 'ebike': 5}   \n",
       "2   {'mechanical': 2, 'ebike': 3}   {'mechanical': 2, 'ebike': 2}   \n",
       "3   {'mechanical': 2, 'ebike': 8}   {'mechanical': 2, 'ebike': 7}   \n",
       "4  {'mechanical': 17, 'ebike': 3}  {'mechanical': 17, 'ebike': 4}   \n",
       "\n",
       "                02/15/21;21:58:37  \n",
       "0   {'mechanical': 1, 'ebike': 4}  \n",
       "1  {'mechanical': 19, 'ebike': 5}  \n",
       "2   {'mechanical': 2, 'ebike': 2}  \n",
       "3   {'mechanical': 2, 'ebike': 7}  \n",
       "4  {'mechanical': 16, 'ebike': 5}  \n",
       "\n",
       "[5 rows x 33327 columns]"
      ],
      "text/html": "<div>\n<style scoped>\n    .dataframe tbody tr th:only-of-type {\n        vertical-align: middle;\n    }\n\n    .dataframe tbody tr th {\n        vertical-align: top;\n    }\n\n    .dataframe thead th {\n        text-align: right;\n    }\n</style>\n<table border=\"1\" class=\"dataframe\">\n  <thead>\n    <tr style=\"text-align: right;\">\n      <th></th>\n      <th>Unnamed: 0</th>\n      <th>station_id</th>\n      <th>10/19/20;18:01:51</th>\n      <th>10/19/20;18:06:52</th>\n      <th>10/19/20;18:11:52</th>\n      <th>10/19/20;18:16:52</th>\n      <th>10/19/20;18:21:52</th>\n      <th>10/19/20;18:26:53</th>\n      <th>10/19/20;18:31:53</th>\n      <th>10/19/20;18:36:53</th>\n      <th>...</th>\n      <th>02/15/21;21:13:34</th>\n      <th>02/15/21;21:18:35</th>\n      <th>02/15/21;21:23:35</th>\n      <th>02/15/21;21:28:35</th>\n      <th>02/15/21;21:33:36</th>\n      <th>02/15/21;21:38:36</th>\n      <th>02/15/21;21:43:36</th>\n      <th>02/15/21;21:48:36</th>\n      <th>02/15/21;21:53:37</th>\n      <th>02/15/21;21:58:37</th>\n    </tr>\n  </thead>\n  <tbody>\n    <tr>\n      <th>0</th>\n      <td>0</td>\n      <td>213688169</td>\n      <td>{'mechanical': 0, 'ebike': 2}</td>\n      <td>{'mechanical': 0, 'ebike': 2}</td>\n      <td>{'mechanical': 0, 'ebike': 2}</td>\n      <td>{'mechanical': 0, 'ebike': 3}</td>\n      <td>{'mechanical': 0, 'ebike': 3}</td>\n      <td>{'mechanical': 1, 'ebike': 2}</td>\n      <td>{'mechanical': 0, 'ebike': 1}</td>\n      <td>{'mechanical': 0, 'ebike': 1}</td>\n      <td>...</td>\n      <td>{'mechanical': 0, 'ebike': 4}</td>\n      <td>{'mechanical': 0, 'ebike': 4}</td>\n      <td>{'mechanical': 0, 'ebike': 4}</td>\n      <td>{'mechanical': 0, 'ebike': 4}</td>\n      <td>{'mechanical': 0, 'ebike': 4}</td>\n      <td>{'mechanical': 1, 'ebike': 4}</td>\n      <td>{'mechanical': 1, 'ebike': 4}</td>\n      <td>{'mechanical': 1, 'ebike': 4}</td>\n      <td>{'mechanical': 1, 'ebike': 4}</td>\n      <td>{'mechanical': 1, 'ebike': 4}</td>\n    </tr>\n    <tr>\n      <th>1</th>\n      <td>1</td>\n      <td>99950133</td>\n      <td>{'mechanical': 41, 'ebike': 5}</td>\n      <td>{'mechanical': 41, 'ebike': 5}</td>\n      <td>{'mechanical': 42, 'ebike': 5}</td>\n      <td>{'mechanical': 42, 'ebike': 7}</td>\n      <td>{'mechanical': 41, 'ebike': 5}</td>\n      <td>{'mechanical': 40, 'ebike': 4}</td>\n      <td>{'mechanical': 38, 'ebike': 5}</td>\n      <td>{'mechanical': 39, 'ebike': 4}</td>\n      <td>...</td>\n      <td>{'mechanical': 19, 'ebike': 5}</td>\n      <td>{'mechanical': 19, 'ebike': 5}</td>\n      <td>{'mechanical': 19, 'ebike': 5}</td>\n      <td>{'mechanical': 19, 'ebike': 5}</td>\n      <td>{'mechanical': 19, 'ebike': 5}</td>\n      <td>{'mechanical': 19, 'ebike': 5}</td>\n      <td>{'mechanical': 19, 'ebike': 5}</td>\n      <td>{'mechanical': 19, 'ebike': 5}</td>\n      <td>{'mechanical': 19, 'ebike': 5}</td>\n      <td>{'mechanical': 19, 'ebike': 5}</td>\n    </tr>\n    <tr>\n      <th>2</th>\n      <td>2</td>\n      <td>516709288</td>\n      <td>{'mechanical': 0, 'ebike': 1}</td>\n      <td>{'mechanical': 0, 'ebike': 1}</td>\n      <td>{'mechanical': 0, 'ebike': 1}</td>\n      <td>{'mechanical': 1, 'ebike': 1}</td>\n      <td>{'mechanical': 1, 'ebike': 1}</td>\n      <td>{'mechanical': 1, 'ebike': 1}</td>\n      <td>{'mechanical': 2, 'ebike': 1}</td>\n      <td>{'mechanical': 0, 'ebike': 1}</td>\n      <td>...</td>\n      <td>{'mechanical': 1, 'ebike': 2}</td>\n      <td>{'mechanical': 1, 'ebike': 2}</td>\n      <td>{'mechanical': 1, 'ebike': 2}</td>\n      <td>{'mechanical': 1, 'ebike': 2}</td>\n      <td>{'mechanical': 1, 'ebike': 2}</td>\n      <td>{'mechanical': 1, 'ebike': 2}</td>\n      <td>{'mechanical': 1, 'ebike': 2}</td>\n      <td>{'mechanical': 2, 'ebike': 3}</td>\n      <td>{'mechanical': 2, 'ebike': 2}</td>\n      <td>{'mechanical': 2, 'ebike': 2}</td>\n    </tr>\n    <tr>\n      <th>3</th>\n      <td>3</td>\n      <td>36255</td>\n      <td>{'mechanical': 0, 'ebike': 0}</td>\n      <td>{'mechanical': 0, 'ebike': 0}</td>\n      <td>{'mechanical': 0, 'ebike': 0}</td>\n      <td>{'mechanical': 0, 'ebike': 0}</td>\n      <td>{'mechanical': 0, 'ebike': 2}</td>\n      <td>{'mechanical': 0, 'ebike': 4}</td>\n      <td>{'mechanical': 0, 'ebike': 4}</td>\n      <td>{'mechanical': 0, 'ebike': 4}</td>\n      <td>...</td>\n      <td>{'mechanical': 4, 'ebike': 4}</td>\n      <td>{'mechanical': 4, 'ebike': 4}</td>\n      <td>{'mechanical': 3, 'ebike': 5}</td>\n      <td>{'mechanical': 3, 'ebike': 5}</td>\n      <td>{'mechanical': 3, 'ebike': 6}</td>\n      <td>{'mechanical': 3, 'ebike': 6}</td>\n      <td>{'mechanical': 3, 'ebike': 7}</td>\n      <td>{'mechanical': 2, 'ebike': 8}</td>\n      <td>{'mechanical': 2, 'ebike': 7}</td>\n      <td>{'mechanical': 2, 'ebike': 7}</td>\n    </tr>\n    <tr>\n      <th>4</th>\n      <td>4</td>\n      <td>37815204</td>\n      <td>{'mechanical': 4, 'ebike': 1}</td>\n      <td>{'mechanical': 3, 'ebike': 1}</td>\n      <td>{'mechanical': 1, 'ebike': 1}</td>\n      <td>{'mechanical': 1, 'ebike': 1}</td>\n      <td>{'mechanical': 2, 'ebike': 1}</td>\n      <td>{'mechanical': 3, 'ebike': 1}</td>\n      <td>{'mechanical': 3, 'ebike': 2}</td>\n      <td>{'mechanical': 2, 'ebike': 0}</td>\n      <td>...</td>\n      <td>{'mechanical': 16, 'ebike': 2}</td>\n      <td>{'mechanical': 16, 'ebike': 2}</td>\n      <td>{'mechanical': 16, 'ebike': 2}</td>\n      <td>{'mechanical': 16, 'ebike': 3}</td>\n      <td>{'mechanical': 16, 'ebike': 3}</td>\n      <td>{'mechanical': 16, 'ebike': 3}</td>\n      <td>{'mechanical': 16, 'ebike': 3}</td>\n      <td>{'mechanical': 17, 'ebike': 3}</td>\n      <td>{'mechanical': 17, 'ebike': 4}</td>\n      <td>{'mechanical': 16, 'ebike': 5}</td>\n    </tr>\n  </tbody>\n</table>\n<p>5 rows × 33327 columns</p>\n</div>"
     },
     "metadata": {},
     "execution_count": 3
    }
   ],
   "source": [
    "velib2 = pd.read_csv(r\"velib.csv\")\n",
    "velib2.head()"
   ]
  },
  {
   "source": [
    "### Mise en forme des données"
   ],
   "cell_type": "markdown",
   "metadata": {}
  },
  {
   "cell_type": "code",
   "execution_count": 3,
   "metadata": {},
   "outputs": [],
   "source": [
    "# Création d'une fonction pour convertir le format des données en un dictionnaire.\n",
    "def to_dictionary(jour):\n",
    "    \"\"\"transformer le format en dico\"\"\"\n",
    "    try :\n",
    "        dictionary = eval(jour)\n",
    "    except:\n",
    "        dictionary = {'mechanical': 0, 'ebike': 0}\n",
    "    \n",
    "    return dictionary\n",
    "\n",
    "# Mise en forme du dataframe velib en mettant le nombre de vélos dans un dictionnaire\n",
    "col_vide='[{}, {}]'\n",
    "colonnes_vides=[]\n",
    "for j in velib.columns:\n",
    "    if velib[j][0]==col_vide:\n",
    "        print(j)\n",
    "        colonnes_vides.append(j)\n",
    "velib=velib.drop(colonnes_vides,axis=1)\n",
    "\n",
    "# On applique la fonction pour convertir en dictionnaire\n",
    "longueur_du_dataframe = len(velib.iloc[1])\n",
    "for i,j in enumerate(velib.columns[1:]):\n",
    "    velib[j] = [to_dictionary(i) for i in velib[j]]"
   ]
  },
  {
   "cell_type": "code",
   "execution_count": 4,
   "metadata": {},
   "outputs": [
    {
     "output_type": "execute_result",
     "data": {
      "text/plain": [
       "   station_id               10/19/20;18:01:51               10/19/20;18:06:52  \\\n",
       "0   213688169   {'mechanical': 0, 'ebike': 2}   {'mechanical': 0, 'ebike': 2}   \n",
       "1    99950133  {'mechanical': 41, 'ebike': 5}  {'mechanical': 41, 'ebike': 5}   \n",
       "2   516709288   {'mechanical': 0, 'ebike': 1}   {'mechanical': 0, 'ebike': 1}   \n",
       "3       36255   {'mechanical': 0, 'ebike': 0}   {'mechanical': 0, 'ebike': 0}   \n",
       "4    37815204   {'mechanical': 4, 'ebike': 1}   {'mechanical': 3, 'ebike': 1}   \n",
       "\n",
       "                10/19/20;18:11:52               10/19/20;18:16:52  \\\n",
       "0   {'mechanical': 0, 'ebike': 2}   {'mechanical': 0, 'ebike': 3}   \n",
       "1  {'mechanical': 42, 'ebike': 5}  {'mechanical': 42, 'ebike': 7}   \n",
       "2   {'mechanical': 0, 'ebike': 1}   {'mechanical': 1, 'ebike': 1}   \n",
       "3   {'mechanical': 0, 'ebike': 0}   {'mechanical': 0, 'ebike': 0}   \n",
       "4   {'mechanical': 1, 'ebike': 1}   {'mechanical': 1, 'ebike': 1}   \n",
       "\n",
       "                10/19/20;18:21:52               10/19/20;18:26:53  \\\n",
       "0   {'mechanical': 0, 'ebike': 3}   {'mechanical': 1, 'ebike': 2}   \n",
       "1  {'mechanical': 41, 'ebike': 5}  {'mechanical': 40, 'ebike': 4}   \n",
       "2   {'mechanical': 1, 'ebike': 1}   {'mechanical': 1, 'ebike': 1}   \n",
       "3   {'mechanical': 0, 'ebike': 2}   {'mechanical': 0, 'ebike': 4}   \n",
       "4   {'mechanical': 2, 'ebike': 1}   {'mechanical': 3, 'ebike': 1}   \n",
       "\n",
       "                10/19/20;18:31:53               10/19/20;18:36:53  \\\n",
       "0   {'mechanical': 0, 'ebike': 1}   {'mechanical': 0, 'ebike': 1}   \n",
       "1  {'mechanical': 38, 'ebike': 5}  {'mechanical': 39, 'ebike': 4}   \n",
       "2   {'mechanical': 2, 'ebike': 1}   {'mechanical': 0, 'ebike': 1}   \n",
       "3   {'mechanical': 0, 'ebike': 4}   {'mechanical': 0, 'ebike': 4}   \n",
       "4   {'mechanical': 3, 'ebike': 2}   {'mechanical': 2, 'ebike': 0}   \n",
       "\n",
       "                10/19/20;18:41:54  ...              11/03/20;16:01:46  \\\n",
       "0   {'mechanical': 0, 'ebike': 1}  ...  {'mechanical': 4, 'ebike': 6}   \n",
       "1  {'mechanical': 40, 'ebike': 5}  ...  {'mechanical': 2, 'ebike': 0}   \n",
       "2   {'mechanical': 0, 'ebike': 1}  ...  {'mechanical': 1, 'ebike': 2}   \n",
       "3   {'mechanical': 1, 'ebike': 3}  ...  {'mechanical': 0, 'ebike': 3}   \n",
       "4   {'mechanical': 2, 'ebike': 0}  ...  {'mechanical': 6, 'ebike': 0}   \n",
       "\n",
       "               11/03/20;16:06:47              11/03/20;16:11:47  \\\n",
       "0  {'mechanical': 4, 'ebike': 6}  {'mechanical': 3, 'ebike': 6}   \n",
       "1  {'mechanical': 2, 'ebike': 0}  {'mechanical': 2, 'ebike': 0}   \n",
       "2  {'mechanical': 1, 'ebike': 2}  {'mechanical': 1, 'ebike': 2}   \n",
       "3  {'mechanical': 0, 'ebike': 3}  {'mechanical': 0, 'ebike': 3}   \n",
       "4  {'mechanical': 7, 'ebike': 0}  {'mechanical': 7, 'ebike': 0}   \n",
       "\n",
       "               11/03/20;16:16:47              11/03/20;16:21:48  \\\n",
       "0  {'mechanical': 4, 'ebike': 7}  {'mechanical': 5, 'ebike': 7}   \n",
       "1  {'mechanical': 2, 'ebike': 1}  {'mechanical': 2, 'ebike': 1}   \n",
       "2  {'mechanical': 1, 'ebike': 2}  {'mechanical': 1, 'ebike': 2}   \n",
       "3  {'mechanical': 0, 'ebike': 3}  {'mechanical': 0, 'ebike': 2}   \n",
       "4  {'mechanical': 7, 'ebike': 1}  {'mechanical': 7, 'ebike': 1}   \n",
       "\n",
       "               11/03/20;16:26:48              11/03/20;16:31:48  \\\n",
       "0  {'mechanical': 5, 'ebike': 7}  {'mechanical': 5, 'ebike': 8}   \n",
       "1  {'mechanical': 2, 'ebike': 0}  {'mechanical': 2, 'ebike': 0}   \n",
       "2  {'mechanical': 1, 'ebike': 3}  {'mechanical': 1, 'ebike': 2}   \n",
       "3  {'mechanical': 0, 'ebike': 2}  {'mechanical': 0, 'ebike': 3}   \n",
       "4  {'mechanical': 8, 'ebike': 1}  {'mechanical': 9, 'ebike': 0}   \n",
       "\n",
       "                11/03/20;16:36:49              11/03/20;16:41:49  \\\n",
       "0   {'mechanical': 5, 'ebike': 8}  {'mechanical': 5, 'ebike': 8}   \n",
       "1   {'mechanical': 2, 'ebike': 0}  {'mechanical': 2, 'ebike': 0}   \n",
       "2   {'mechanical': 1, 'ebike': 3}  {'mechanical': 1, 'ebike': 3}   \n",
       "3   {'mechanical': 0, 'ebike': 3}  {'mechanical': 0, 'ebike': 3}   \n",
       "4  {'mechanical': 10, 'ebike': 0}  {'mechanical': 9, 'ebike': 0}   \n",
       "\n",
       "               11/03/20;16:46:49  \n",
       "0  {'mechanical': 5, 'ebike': 7}  \n",
       "1  {'mechanical': 2, 'ebike': 0}  \n",
       "2  {'mechanical': 1, 'ebike': 3}  \n",
       "3  {'mechanical': 0, 'ebike': 2}  \n",
       "4  {'mechanical': 9, 'ebike': 0}  \n",
       "\n",
       "[5 rows x 4295 columns]"
      ],
      "text/html": "<div>\n<style scoped>\n    .dataframe tbody tr th:only-of-type {\n        vertical-align: middle;\n    }\n\n    .dataframe tbody tr th {\n        vertical-align: top;\n    }\n\n    .dataframe thead th {\n        text-align: right;\n    }\n</style>\n<table border=\"1\" class=\"dataframe\">\n  <thead>\n    <tr style=\"text-align: right;\">\n      <th></th>\n      <th>station_id</th>\n      <th>10/19/20;18:01:51</th>\n      <th>10/19/20;18:06:52</th>\n      <th>10/19/20;18:11:52</th>\n      <th>10/19/20;18:16:52</th>\n      <th>10/19/20;18:21:52</th>\n      <th>10/19/20;18:26:53</th>\n      <th>10/19/20;18:31:53</th>\n      <th>10/19/20;18:36:53</th>\n      <th>10/19/20;18:41:54</th>\n      <th>...</th>\n      <th>11/03/20;16:01:46</th>\n      <th>11/03/20;16:06:47</th>\n      <th>11/03/20;16:11:47</th>\n      <th>11/03/20;16:16:47</th>\n      <th>11/03/20;16:21:48</th>\n      <th>11/03/20;16:26:48</th>\n      <th>11/03/20;16:31:48</th>\n      <th>11/03/20;16:36:49</th>\n      <th>11/03/20;16:41:49</th>\n      <th>11/03/20;16:46:49</th>\n    </tr>\n  </thead>\n  <tbody>\n    <tr>\n      <th>0</th>\n      <td>213688169</td>\n      <td>{'mechanical': 0, 'ebike': 2}</td>\n      <td>{'mechanical': 0, 'ebike': 2}</td>\n      <td>{'mechanical': 0, 'ebike': 2}</td>\n      <td>{'mechanical': 0, 'ebike': 3}</td>\n      <td>{'mechanical': 0, 'ebike': 3}</td>\n      <td>{'mechanical': 1, 'ebike': 2}</td>\n      <td>{'mechanical': 0, 'ebike': 1}</td>\n      <td>{'mechanical': 0, 'ebike': 1}</td>\n      <td>{'mechanical': 0, 'ebike': 1}</td>\n      <td>...</td>\n      <td>{'mechanical': 4, 'ebike': 6}</td>\n      <td>{'mechanical': 4, 'ebike': 6}</td>\n      <td>{'mechanical': 3, 'ebike': 6}</td>\n      <td>{'mechanical': 4, 'ebike': 7}</td>\n      <td>{'mechanical': 5, 'ebike': 7}</td>\n      <td>{'mechanical': 5, 'ebike': 7}</td>\n      <td>{'mechanical': 5, 'ebike': 8}</td>\n      <td>{'mechanical': 5, 'ebike': 8}</td>\n      <td>{'mechanical': 5, 'ebike': 8}</td>\n      <td>{'mechanical': 5, 'ebike': 7}</td>\n    </tr>\n    <tr>\n      <th>1</th>\n      <td>99950133</td>\n      <td>{'mechanical': 41, 'ebike': 5}</td>\n      <td>{'mechanical': 41, 'ebike': 5}</td>\n      <td>{'mechanical': 42, 'ebike': 5}</td>\n      <td>{'mechanical': 42, 'ebike': 7}</td>\n      <td>{'mechanical': 41, 'ebike': 5}</td>\n      <td>{'mechanical': 40, 'ebike': 4}</td>\n      <td>{'mechanical': 38, 'ebike': 5}</td>\n      <td>{'mechanical': 39, 'ebike': 4}</td>\n      <td>{'mechanical': 40, 'ebike': 5}</td>\n      <td>...</td>\n      <td>{'mechanical': 2, 'ebike': 0}</td>\n      <td>{'mechanical': 2, 'ebike': 0}</td>\n      <td>{'mechanical': 2, 'ebike': 0}</td>\n      <td>{'mechanical': 2, 'ebike': 1}</td>\n      <td>{'mechanical': 2, 'ebike': 1}</td>\n      <td>{'mechanical': 2, 'ebike': 0}</td>\n      <td>{'mechanical': 2, 'ebike': 0}</td>\n      <td>{'mechanical': 2, 'ebike': 0}</td>\n      <td>{'mechanical': 2, 'ebike': 0}</td>\n      <td>{'mechanical': 2, 'ebike': 0}</td>\n    </tr>\n    <tr>\n      <th>2</th>\n      <td>516709288</td>\n      <td>{'mechanical': 0, 'ebike': 1}</td>\n      <td>{'mechanical': 0, 'ebike': 1}</td>\n      <td>{'mechanical': 0, 'ebike': 1}</td>\n      <td>{'mechanical': 1, 'ebike': 1}</td>\n      <td>{'mechanical': 1, 'ebike': 1}</td>\n      <td>{'mechanical': 1, 'ebike': 1}</td>\n      <td>{'mechanical': 2, 'ebike': 1}</td>\n      <td>{'mechanical': 0, 'ebike': 1}</td>\n      <td>{'mechanical': 0, 'ebike': 1}</td>\n      <td>...</td>\n      <td>{'mechanical': 1, 'ebike': 2}</td>\n      <td>{'mechanical': 1, 'ebike': 2}</td>\n      <td>{'mechanical': 1, 'ebike': 2}</td>\n      <td>{'mechanical': 1, 'ebike': 2}</td>\n      <td>{'mechanical': 1, 'ebike': 2}</td>\n      <td>{'mechanical': 1, 'ebike': 3}</td>\n      <td>{'mechanical': 1, 'ebike': 2}</td>\n      <td>{'mechanical': 1, 'ebike': 3}</td>\n      <td>{'mechanical': 1, 'ebike': 3}</td>\n      <td>{'mechanical': 1, 'ebike': 3}</td>\n    </tr>\n    <tr>\n      <th>3</th>\n      <td>36255</td>\n      <td>{'mechanical': 0, 'ebike': 0}</td>\n      <td>{'mechanical': 0, 'ebike': 0}</td>\n      <td>{'mechanical': 0, 'ebike': 0}</td>\n      <td>{'mechanical': 0, 'ebike': 0}</td>\n      <td>{'mechanical': 0, 'ebike': 2}</td>\n      <td>{'mechanical': 0, 'ebike': 4}</td>\n      <td>{'mechanical': 0, 'ebike': 4}</td>\n      <td>{'mechanical': 0, 'ebike': 4}</td>\n      <td>{'mechanical': 1, 'ebike': 3}</td>\n      <td>...</td>\n      <td>{'mechanical': 0, 'ebike': 3}</td>\n      <td>{'mechanical': 0, 'ebike': 3}</td>\n      <td>{'mechanical': 0, 'ebike': 3}</td>\n      <td>{'mechanical': 0, 'ebike': 3}</td>\n      <td>{'mechanical': 0, 'ebike': 2}</td>\n      <td>{'mechanical': 0, 'ebike': 2}</td>\n      <td>{'mechanical': 0, 'ebike': 3}</td>\n      <td>{'mechanical': 0, 'ebike': 3}</td>\n      <td>{'mechanical': 0, 'ebike': 3}</td>\n      <td>{'mechanical': 0, 'ebike': 2}</td>\n    </tr>\n    <tr>\n      <th>4</th>\n      <td>37815204</td>\n      <td>{'mechanical': 4, 'ebike': 1}</td>\n      <td>{'mechanical': 3, 'ebike': 1}</td>\n      <td>{'mechanical': 1, 'ebike': 1}</td>\n      <td>{'mechanical': 1, 'ebike': 1}</td>\n      <td>{'mechanical': 2, 'ebike': 1}</td>\n      <td>{'mechanical': 3, 'ebike': 1}</td>\n      <td>{'mechanical': 3, 'ebike': 2}</td>\n      <td>{'mechanical': 2, 'ebike': 0}</td>\n      <td>{'mechanical': 2, 'ebike': 0}</td>\n      <td>...</td>\n      <td>{'mechanical': 6, 'ebike': 0}</td>\n      <td>{'mechanical': 7, 'ebike': 0}</td>\n      <td>{'mechanical': 7, 'ebike': 0}</td>\n      <td>{'mechanical': 7, 'ebike': 1}</td>\n      <td>{'mechanical': 7, 'ebike': 1}</td>\n      <td>{'mechanical': 8, 'ebike': 1}</td>\n      <td>{'mechanical': 9, 'ebike': 0}</td>\n      <td>{'mechanical': 10, 'ebike': 0}</td>\n      <td>{'mechanical': 9, 'ebike': 0}</td>\n      <td>{'mechanical': 9, 'ebike': 0}</td>\n    </tr>\n  </tbody>\n</table>\n<p>5 rows × 4295 columns</p>\n</div>"
     },
     "metadata": {},
     "execution_count": 4
    }
   ],
   "source": [
    "velib.head()"
   ]
  },
  {
   "cell_type": "code",
   "execution_count": 5,
   "metadata": {},
   "outputs": [],
   "source": [
    "def to_str(var):\n",
    "    if type(var) is list:\n",
    "        return str(var)[1:-1] # list\n",
    "    if type(var) is np.ndarray:\n",
    "        try:\n",
    "            return str(list(var[0]))[1:-1] # numpy 1D array\n",
    "        except TypeError:\n",
    "            return str(list(var))[1:-1] # numpy sequence\n",
    "    return str(var) # everything else"
   ]
  },
  {
   "cell_type": "code",
   "execution_count": 6,
   "metadata": {},
   "outputs": [],
   "source": [
    "toutes_les_stations = []\n",
    "for i in range(len(velib)):\n",
    "    toutes_les_stations.append(np.str(velib['station_id'][i]))"
   ]
  },
  {
   "source": [
    "# Prédiction du nombre de vélos à la date t+1 en entrainant l'algorithme à la date t : exemple du 1er novembre à 10h pour prédire le 2 novembre à 10h. "
   ],
   "cell_type": "markdown",
   "metadata": {}
  },
  {
   "source": [
    "### Construction du dataframe pour le Machine Learning"
   ],
   "cell_type": "markdown",
   "metadata": {}
  },
  {
   "cell_type": "code",
   "execution_count": 5,
   "metadata": {},
   "outputs": [
    {
     "output_type": "execute_result",
     "data": {
      "text/plain": [
       "station_id                             213688169  \\\n",
       "10/19/20;18:01:51  {'mechanical': 0, 'ebike': 2}   \n",
       "10/19/20;18:06:52  {'mechanical': 0, 'ebike': 2}   \n",
       "10/19/20;18:11:52  {'mechanical': 0, 'ebike': 2}   \n",
       "10/19/20;18:16:52  {'mechanical': 0, 'ebike': 3}   \n",
       "10/19/20;18:21:52  {'mechanical': 0, 'ebike': 3}   \n",
       "...                                          ...   \n",
       "11/03/20;16:26:48  {'mechanical': 5, 'ebike': 7}   \n",
       "11/03/20;16:31:48  {'mechanical': 5, 'ebike': 8}   \n",
       "11/03/20;16:36:49  {'mechanical': 5, 'ebike': 8}   \n",
       "11/03/20;16:41:49  {'mechanical': 5, 'ebike': 8}   \n",
       "11/03/20;16:46:49  {'mechanical': 5, 'ebike': 7}   \n",
       "\n",
       "station_id                              99950133   \\\n",
       "10/19/20;18:01:51  {'mechanical': 41, 'ebike': 5}   \n",
       "10/19/20;18:06:52  {'mechanical': 41, 'ebike': 5}   \n",
       "10/19/20;18:11:52  {'mechanical': 42, 'ebike': 5}   \n",
       "10/19/20;18:16:52  {'mechanical': 42, 'ebike': 7}   \n",
       "10/19/20;18:21:52  {'mechanical': 41, 'ebike': 5}   \n",
       "...                                           ...   \n",
       "11/03/20;16:26:48   {'mechanical': 2, 'ebike': 0}   \n",
       "11/03/20;16:31:48   {'mechanical': 2, 'ebike': 0}   \n",
       "11/03/20;16:36:49   {'mechanical': 2, 'ebike': 0}   \n",
       "11/03/20;16:41:49   {'mechanical': 2, 'ebike': 0}   \n",
       "11/03/20;16:46:49   {'mechanical': 2, 'ebike': 0}   \n",
       "\n",
       "station_id                             516709288  \\\n",
       "10/19/20;18:01:51  {'mechanical': 0, 'ebike': 1}   \n",
       "10/19/20;18:06:52  {'mechanical': 0, 'ebike': 1}   \n",
       "10/19/20;18:11:52  {'mechanical': 0, 'ebike': 1}   \n",
       "10/19/20;18:16:52  {'mechanical': 1, 'ebike': 1}   \n",
       "10/19/20;18:21:52  {'mechanical': 1, 'ebike': 1}   \n",
       "...                                          ...   \n",
       "11/03/20;16:26:48  {'mechanical': 1, 'ebike': 3}   \n",
       "11/03/20;16:31:48  {'mechanical': 1, 'ebike': 2}   \n",
       "11/03/20;16:36:49  {'mechanical': 1, 'ebike': 3}   \n",
       "11/03/20;16:41:49  {'mechanical': 1, 'ebike': 3}   \n",
       "11/03/20;16:46:49  {'mechanical': 1, 'ebike': 3}   \n",
       "\n",
       "station_id                             36255      \\\n",
       "10/19/20;18:01:51  {'mechanical': 0, 'ebike': 0}   \n",
       "10/19/20;18:06:52  {'mechanical': 0, 'ebike': 0}   \n",
       "10/19/20;18:11:52  {'mechanical': 0, 'ebike': 0}   \n",
       "10/19/20;18:16:52  {'mechanical': 0, 'ebike': 0}   \n",
       "10/19/20;18:21:52  {'mechanical': 0, 'ebike': 2}   \n",
       "...                                          ...   \n",
       "11/03/20;16:26:48  {'mechanical': 0, 'ebike': 2}   \n",
       "11/03/20;16:31:48  {'mechanical': 0, 'ebike': 3}   \n",
       "11/03/20;16:36:49  {'mechanical': 0, 'ebike': 3}   \n",
       "11/03/20;16:41:49  {'mechanical': 0, 'ebike': 3}   \n",
       "11/03/20;16:46:49  {'mechanical': 0, 'ebike': 2}   \n",
       "\n",
       "station_id                              37815204   \\\n",
       "10/19/20;18:01:51   {'mechanical': 4, 'ebike': 1}   \n",
       "10/19/20;18:06:52   {'mechanical': 3, 'ebike': 1}   \n",
       "10/19/20;18:11:52   {'mechanical': 1, 'ebike': 1}   \n",
       "10/19/20;18:16:52   {'mechanical': 1, 'ebike': 1}   \n",
       "10/19/20;18:21:52   {'mechanical': 2, 'ebike': 1}   \n",
       "...                                           ...   \n",
       "11/03/20;16:26:48   {'mechanical': 8, 'ebike': 1}   \n",
       "11/03/20;16:31:48   {'mechanical': 9, 'ebike': 0}   \n",
       "11/03/20;16:36:49  {'mechanical': 10, 'ebike': 0}   \n",
       "11/03/20;16:41:49   {'mechanical': 9, 'ebike': 0}   \n",
       "11/03/20;16:46:49   {'mechanical': 9, 'ebike': 0}   \n",
       "\n",
       "station_id                               100769544  \\\n",
       "10/19/20;18:01:51  {'mechanical': 22, 'ebike': 20}   \n",
       "10/19/20;18:06:52  {'mechanical': 22, 'ebike': 20}   \n",
       "10/19/20;18:11:52  {'mechanical': 22, 'ebike': 20}   \n",
       "10/19/20;18:16:52  {'mechanical': 22, 'ebike': 19}   \n",
       "10/19/20;18:21:52  {'mechanical': 23, 'ebike': 19}   \n",
       "...                                            ...   \n",
       "11/03/20;16:26:48  {'mechanical': 22, 'ebike': 21}   \n",
       "11/03/20;16:31:48  {'mechanical': 22, 'ebike': 20}   \n",
       "11/03/20;16:36:49  {'mechanical': 22, 'ebike': 20}   \n",
       "11/03/20;16:41:49  {'mechanical': 22, 'ebike': 19}   \n",
       "11/03/20;16:46:49  {'mechanical': 22, 'ebike': 18}   \n",
       "\n",
       "station_id                              85002689   \\\n",
       "10/19/20;18:01:51   {'mechanical': 2, 'ebike': 2}   \n",
       "10/19/20;18:06:52   {'mechanical': 2, 'ebike': 2}   \n",
       "10/19/20;18:11:52   {'mechanical': 2, 'ebike': 2}   \n",
       "10/19/20;18:16:52   {'mechanical': 3, 'ebike': 2}   \n",
       "10/19/20;18:21:52   {'mechanical': 1, 'ebike': 3}   \n",
       "...                                           ...   \n",
       "11/03/20;16:26:48  {'mechanical': 12, 'ebike': 8}   \n",
       "11/03/20;16:31:48  {'mechanical': 12, 'ebike': 7}   \n",
       "11/03/20;16:36:49  {'mechanical': 13, 'ebike': 7}   \n",
       "11/03/20;16:41:49  {'mechanical': 13, 'ebike': 7}   \n",
       "11/03/20;16:46:49  {'mechanical': 13, 'ebike': 7}   \n",
       "\n",
       "station_id                             54000559   \\\n",
       "10/19/20;18:01:51  {'mechanical': 5, 'ebike': 1}   \n",
       "10/19/20;18:06:52  {'mechanical': 4, 'ebike': 1}   \n",
       "10/19/20;18:11:52  {'mechanical': 5, 'ebike': 1}   \n",
       "10/19/20;18:16:52  {'mechanical': 6, 'ebike': 2}   \n",
       "10/19/20;18:21:52  {'mechanical': 6, 'ebike': 1}   \n",
       "...                                          ...   \n",
       "11/03/20;16:26:48  {'mechanical': 7, 'ebike': 8}   \n",
       "11/03/20;16:31:48  {'mechanical': 7, 'ebike': 8}   \n",
       "11/03/20;16:36:49  {'mechanical': 7, 'ebike': 8}   \n",
       "11/03/20;16:41:49  {'mechanical': 5, 'ebike': 8}   \n",
       "11/03/20;16:46:49  {'mechanical': 5, 'ebike': 7}   \n",
       "\n",
       "station_id                              85043758   \\\n",
       "10/19/20;18:01:51   {'mechanical': 1, 'ebike': 3}   \n",
       "10/19/20;18:06:52   {'mechanical': 2, 'ebike': 2}   \n",
       "10/19/20;18:11:52   {'mechanical': 3, 'ebike': 2}   \n",
       "10/19/20;18:16:52   {'mechanical': 0, 'ebike': 2}   \n",
       "10/19/20;18:21:52   {'mechanical': 0, 'ebike': 1}   \n",
       "...                                           ...   \n",
       "11/03/20;16:26:48  {'mechanical': 13, 'ebike': 3}   \n",
       "11/03/20;16:31:48  {'mechanical': 13, 'ebike': 3}   \n",
       "11/03/20;16:36:49  {'mechanical': 14, 'ebike': 3}   \n",
       "11/03/20;16:41:49  {'mechanical': 14, 'ebike': 3}   \n",
       "11/03/20;16:46:49  {'mechanical': 15, 'ebike': 3}   \n",
       "\n",
       "station_id                              123095125  ...  \\\n",
       "10/19/20;18:01:51   {'mechanical': 2, 'ebike': 1}  ...   \n",
       "10/19/20;18:06:52   {'mechanical': 3, 'ebike': 1}  ...   \n",
       "10/19/20;18:11:52   {'mechanical': 5, 'ebike': 2}  ...   \n",
       "10/19/20;18:16:52   {'mechanical': 7, 'ebike': 2}  ...   \n",
       "10/19/20;18:21:52   {'mechanical': 7, 'ebike': 3}  ...   \n",
       "...                                           ...  ...   \n",
       "11/03/20;16:26:48  {'mechanical': 18, 'ebike': 4}  ...   \n",
       "11/03/20;16:31:48  {'mechanical': 19, 'ebike': 5}  ...   \n",
       "11/03/20;16:36:49  {'mechanical': 18, 'ebike': 5}  ...   \n",
       "11/03/20;16:41:49  {'mechanical': 18, 'ebike': 4}  ...   \n",
       "11/03/20;16:46:49  {'mechanical': 19, 'ebike': 4}  ...   \n",
       "\n",
       "station_id                             125881065  \\\n",
       "10/19/20;18:01:51  {'mechanical': 2, 'ebike': 1}   \n",
       "10/19/20;18:06:52  {'mechanical': 3, 'ebike': 1}   \n",
       "10/19/20;18:11:52  {'mechanical': 1, 'ebike': 1}   \n",
       "10/19/20;18:16:52  {'mechanical': 1, 'ebike': 1}   \n",
       "10/19/20;18:21:52  {'mechanical': 1, 'ebike': 2}   \n",
       "...                                          ...   \n",
       "11/03/20;16:26:48  {'mechanical': 0, 'ebike': 1}   \n",
       "11/03/20;16:31:48  {'mechanical': 0, 'ebike': 1}   \n",
       "11/03/20;16:36:49  {'mechanical': 1, 'ebike': 2}   \n",
       "11/03/20;16:41:49  {'mechanical': 0, 'ebike': 2}   \n",
       "11/03/20;16:46:49  {'mechanical': 0, 'ebike': 2}   \n",
       "\n",
       "station_id                             54000627   \\\n",
       "10/19/20;18:01:51  {'mechanical': 3, 'ebike': 1}   \n",
       "10/19/20;18:06:52  {'mechanical': 4, 'ebike': 0}   \n",
       "10/19/20;18:11:52  {'mechanical': 4, 'ebike': 0}   \n",
       "10/19/20;18:16:52  {'mechanical': 5, 'ebike': 0}   \n",
       "10/19/20;18:21:52  {'mechanical': 4, 'ebike': 0}   \n",
       "...                                          ...   \n",
       "11/03/20;16:26:48  {'mechanical': 4, 'ebike': 3}   \n",
       "11/03/20;16:31:48  {'mechanical': 4, 'ebike': 3}   \n",
       "11/03/20;16:36:49  {'mechanical': 4, 'ebike': 4}   \n",
       "11/03/20;16:41:49  {'mechanical': 4, 'ebike': 5}   \n",
       "11/03/20;16:46:49  {'mechanical': 4, 'ebike': 5}   \n",
       "\n",
       "station_id                             15377776   \\\n",
       "10/19/20;18:01:51  {'mechanical': 0, 'ebike': 1}   \n",
       "10/19/20;18:06:52  {'mechanical': 0, 'ebike': 1}   \n",
       "10/19/20;18:11:52  {'mechanical': 0, 'ebike': 1}   \n",
       "10/19/20;18:16:52  {'mechanical': 0, 'ebike': 0}   \n",
       "10/19/20;18:21:52  {'mechanical': 0, 'ebike': 0}   \n",
       "...                                          ...   \n",
       "11/03/20;16:26:48  {'mechanical': 3, 'ebike': 1}   \n",
       "11/03/20;16:31:48  {'mechanical': 3, 'ebike': 1}   \n",
       "11/03/20;16:36:49  {'mechanical': 3, 'ebike': 2}   \n",
       "11/03/20;16:41:49  {'mechanical': 3, 'ebike': 2}   \n",
       "11/03/20;16:46:49  {'mechanical': 3, 'ebike': 2}   \n",
       "\n",
       "station_id                              84961467   \\\n",
       "10/19/20;18:01:51  {'mechanical': 44, 'ebike': 1}   \n",
       "10/19/20;18:06:52  {'mechanical': 44, 'ebike': 1}   \n",
       "10/19/20;18:11:52  {'mechanical': 43, 'ebike': 3}   \n",
       "10/19/20;18:16:52  {'mechanical': 42, 'ebike': 3}   \n",
       "10/19/20;18:21:52  {'mechanical': 42, 'ebike': 2}   \n",
       "...                                           ...   \n",
       "11/03/20;16:26:48   {'mechanical': 0, 'ebike': 3}   \n",
       "11/03/20;16:31:48   {'mechanical': 0, 'ebike': 3}   \n",
       "11/03/20;16:36:49   {'mechanical': 2, 'ebike': 5}   \n",
       "11/03/20;16:41:49   {'mechanical': 1, 'ebike': 5}   \n",
       "11/03/20;16:46:49   {'mechanical': 1, 'ebike': 6}   \n",
       "\n",
       "station_id                              54000629   \\\n",
       "10/19/20;18:01:51  {'mechanical': 19, 'ebike': 0}   \n",
       "10/19/20;18:06:52  {'mechanical': 18, 'ebike': 0}   \n",
       "10/19/20;18:11:52  {'mechanical': 19, 'ebike': 0}   \n",
       "10/19/20;18:16:52  {'mechanical': 19, 'ebike': 0}   \n",
       "10/19/20;18:21:52  {'mechanical': 19, 'ebike': 1}   \n",
       "...                                           ...   \n",
       "11/03/20;16:26:48  {'mechanical': 12, 'ebike': 8}   \n",
       "11/03/20;16:31:48  {'mechanical': 12, 'ebike': 8}   \n",
       "11/03/20;16:36:49  {'mechanical': 13, 'ebike': 8}   \n",
       "11/03/20;16:41:49  {'mechanical': 13, 'ebike': 8}   \n",
       "11/03/20;16:46:49  {'mechanical': 13, 'ebike': 8}   \n",
       "\n",
       "station_id                             27415004   \\\n",
       "10/19/20;18:01:51  {'mechanical': 2, 'ebike': 6}   \n",
       "10/19/20;18:06:52  {'mechanical': 3, 'ebike': 5}   \n",
       "10/19/20;18:11:52  {'mechanical': 5, 'ebike': 3}   \n",
       "10/19/20;18:16:52  {'mechanical': 6, 'ebike': 3}   \n",
       "10/19/20;18:21:52  {'mechanical': 6, 'ebike': 1}   \n",
       "...                                          ...   \n",
       "11/03/20;16:26:48  {'mechanical': 7, 'ebike': 2}   \n",
       "11/03/20;16:31:48  {'mechanical': 8, 'ebike': 1}   \n",
       "11/03/20;16:36:49  {'mechanical': 9, 'ebike': 1}   \n",
       "11/03/20;16:41:49  {'mechanical': 9, 'ebike': 1}   \n",
       "11/03/20;16:46:49  {'mechanical': 9, 'ebike': 1}   \n",
       "\n",
       "station_id                             27415128   \\\n",
       "10/19/20;18:01:51  {'mechanical': 4, 'ebike': 0}   \n",
       "10/19/20;18:06:52  {'mechanical': 3, 'ebike': 0}   \n",
       "10/19/20;18:11:52  {'mechanical': 2, 'ebike': 0}   \n",
       "10/19/20;18:16:52  {'mechanical': 1, 'ebike': 0}   \n",
       "10/19/20;18:21:52  {'mechanical': 1, 'ebike': 0}   \n",
       "...                                          ...   \n",
       "11/03/20;16:26:48  {'mechanical': 0, 'ebike': 5}   \n",
       "11/03/20;16:31:48  {'mechanical': 0, 'ebike': 5}   \n",
       "11/03/20;16:36:49  {'mechanical': 0, 'ebike': 5}   \n",
       "11/03/20;16:41:49  {'mechanical': 0, 'ebike': 6}   \n",
       "11/03/20;16:46:49  {'mechanical': 0, 'ebike': 5}   \n",
       "\n",
       "station_id                              27414937   \\\n",
       "10/19/20;18:01:51   {'mechanical': 2, 'ebike': 1}   \n",
       "10/19/20;18:06:52   {'mechanical': 2, 'ebike': 4}   \n",
       "10/19/20;18:11:52   {'mechanical': 3, 'ebike': 4}   \n",
       "10/19/20;18:16:52   {'mechanical': 3, 'ebike': 4}   \n",
       "10/19/20;18:21:52   {'mechanical': 5, 'ebike': 4}   \n",
       "...                                           ...   \n",
       "11/03/20;16:26:48  {'mechanical': 20, 'ebike': 3}   \n",
       "11/03/20;16:31:48  {'mechanical': 21, 'ebike': 2}   \n",
       "11/03/20;16:36:49  {'mechanical': 21, 'ebike': 2}   \n",
       "11/03/20;16:41:49  {'mechanical': 21, 'ebike': 3}   \n",
       "11/03/20;16:46:49  {'mechanical': 21, 'ebike': 2}   \n",
       "\n",
       "station_id                              66507230   \\\n",
       "10/19/20;18:01:51  {'mechanical': 13, 'ebike': 6}   \n",
       "10/19/20;18:06:52  {'mechanical': 14, 'ebike': 5}   \n",
       "10/19/20;18:11:52  {'mechanical': 13, 'ebike': 6}   \n",
       "10/19/20;18:16:52  {'mechanical': 15, 'ebike': 6}   \n",
       "10/19/20;18:21:52  {'mechanical': 15, 'ebike': 6}   \n",
       "...                                           ...   \n",
       "11/03/20;16:26:48  {'mechanical': 12, 'ebike': 2}   \n",
       "11/03/20;16:31:48  {'mechanical': 11, 'ebike': 2}   \n",
       "11/03/20;16:36:49  {'mechanical': 11, 'ebike': 2}   \n",
       "11/03/20;16:41:49  {'mechanical': 11, 'ebike': 3}   \n",
       "11/03/20;16:46:49  {'mechanical': 13, 'ebike': 3}   \n",
       "\n",
       "station_id                              100227241  \n",
       "10/19/20;18:01:51  {'mechanical': 17, 'ebike': 7}  \n",
       "10/19/20;18:06:52  {'mechanical': 14, 'ebike': 7}  \n",
       "10/19/20;18:11:52  {'mechanical': 14, 'ebike': 8}  \n",
       "10/19/20;18:16:52  {'mechanical': 14, 'ebike': 7}  \n",
       "10/19/20;18:21:52  {'mechanical': 13, 'ebike': 4}  \n",
       "...                                           ...  \n",
       "11/03/20;16:26:48  {'mechanical': 24, 'ebike': 3}  \n",
       "11/03/20;16:31:48  {'mechanical': 23, 'ebike': 3}  \n",
       "11/03/20;16:36:49  {'mechanical': 24, 'ebike': 3}  \n",
       "11/03/20;16:41:49  {'mechanical': 24, 'ebike': 3}  \n",
       "11/03/20;16:46:49  {'mechanical': 24, 'ebike': 4}  \n",
       "\n",
       "[4294 rows x 1398 columns]"
      ],
      "text/html": "<div>\n<style scoped>\n    .dataframe tbody tr th:only-of-type {\n        vertical-align: middle;\n    }\n\n    .dataframe tbody tr th {\n        vertical-align: top;\n    }\n\n    .dataframe thead th {\n        text-align: right;\n    }\n</style>\n<table border=\"1\" class=\"dataframe\">\n  <thead>\n    <tr style=\"text-align: right;\">\n      <th>station_id</th>\n      <th>213688169</th>\n      <th>99950133</th>\n      <th>516709288</th>\n      <th>36255</th>\n      <th>37815204</th>\n      <th>100769544</th>\n      <th>85002689</th>\n      <th>54000559</th>\n      <th>85043758</th>\n      <th>123095125</th>\n      <th>...</th>\n      <th>125881065</th>\n      <th>54000627</th>\n      <th>15377776</th>\n      <th>84961467</th>\n      <th>54000629</th>\n      <th>27415004</th>\n      <th>27415128</th>\n      <th>27414937</th>\n      <th>66507230</th>\n      <th>100227241</th>\n    </tr>\n  </thead>\n  <tbody>\n    <tr>\n      <th>10/19/20;18:01:51</th>\n      <td>{'mechanical': 0, 'ebike': 2}</td>\n      <td>{'mechanical': 41, 'ebike': 5}</td>\n      <td>{'mechanical': 0, 'ebike': 1}</td>\n      <td>{'mechanical': 0, 'ebike': 0}</td>\n      <td>{'mechanical': 4, 'ebike': 1}</td>\n      <td>{'mechanical': 22, 'ebike': 20}</td>\n      <td>{'mechanical': 2, 'ebike': 2}</td>\n      <td>{'mechanical': 5, 'ebike': 1}</td>\n      <td>{'mechanical': 1, 'ebike': 3}</td>\n      <td>{'mechanical': 2, 'ebike': 1}</td>\n      <td>...</td>\n      <td>{'mechanical': 2, 'ebike': 1}</td>\n      <td>{'mechanical': 3, 'ebike': 1}</td>\n      <td>{'mechanical': 0, 'ebike': 1}</td>\n      <td>{'mechanical': 44, 'ebike': 1}</td>\n      <td>{'mechanical': 19, 'ebike': 0}</td>\n      <td>{'mechanical': 2, 'ebike': 6}</td>\n      <td>{'mechanical': 4, 'ebike': 0}</td>\n      <td>{'mechanical': 2, 'ebike': 1}</td>\n      <td>{'mechanical': 13, 'ebike': 6}</td>\n      <td>{'mechanical': 17, 'ebike': 7}</td>\n    </tr>\n    <tr>\n      <th>10/19/20;18:06:52</th>\n      <td>{'mechanical': 0, 'ebike': 2}</td>\n      <td>{'mechanical': 41, 'ebike': 5}</td>\n      <td>{'mechanical': 0, 'ebike': 1}</td>\n      <td>{'mechanical': 0, 'ebike': 0}</td>\n      <td>{'mechanical': 3, 'ebike': 1}</td>\n      <td>{'mechanical': 22, 'ebike': 20}</td>\n      <td>{'mechanical': 2, 'ebike': 2}</td>\n      <td>{'mechanical': 4, 'ebike': 1}</td>\n      <td>{'mechanical': 2, 'ebike': 2}</td>\n      <td>{'mechanical': 3, 'ebike': 1}</td>\n      <td>...</td>\n      <td>{'mechanical': 3, 'ebike': 1}</td>\n      <td>{'mechanical': 4, 'ebike': 0}</td>\n      <td>{'mechanical': 0, 'ebike': 1}</td>\n      <td>{'mechanical': 44, 'ebike': 1}</td>\n      <td>{'mechanical': 18, 'ebike': 0}</td>\n      <td>{'mechanical': 3, 'ebike': 5}</td>\n      <td>{'mechanical': 3, 'ebike': 0}</td>\n      <td>{'mechanical': 2, 'ebike': 4}</td>\n      <td>{'mechanical': 14, 'ebike': 5}</td>\n      <td>{'mechanical': 14, 'ebike': 7}</td>\n    </tr>\n    <tr>\n      <th>10/19/20;18:11:52</th>\n      <td>{'mechanical': 0, 'ebike': 2}</td>\n      <td>{'mechanical': 42, 'ebike': 5}</td>\n      <td>{'mechanical': 0, 'ebike': 1}</td>\n      <td>{'mechanical': 0, 'ebike': 0}</td>\n      <td>{'mechanical': 1, 'ebike': 1}</td>\n      <td>{'mechanical': 22, 'ebike': 20}</td>\n      <td>{'mechanical': 2, 'ebike': 2}</td>\n      <td>{'mechanical': 5, 'ebike': 1}</td>\n      <td>{'mechanical': 3, 'ebike': 2}</td>\n      <td>{'mechanical': 5, 'ebike': 2}</td>\n      <td>...</td>\n      <td>{'mechanical': 1, 'ebike': 1}</td>\n      <td>{'mechanical': 4, 'ebike': 0}</td>\n      <td>{'mechanical': 0, 'ebike': 1}</td>\n      <td>{'mechanical': 43, 'ebike': 3}</td>\n      <td>{'mechanical': 19, 'ebike': 0}</td>\n      <td>{'mechanical': 5, 'ebike': 3}</td>\n      <td>{'mechanical': 2, 'ebike': 0}</td>\n      <td>{'mechanical': 3, 'ebike': 4}</td>\n      <td>{'mechanical': 13, 'ebike': 6}</td>\n      <td>{'mechanical': 14, 'ebike': 8}</td>\n    </tr>\n    <tr>\n      <th>10/19/20;18:16:52</th>\n      <td>{'mechanical': 0, 'ebike': 3}</td>\n      <td>{'mechanical': 42, 'ebike': 7}</td>\n      <td>{'mechanical': 1, 'ebike': 1}</td>\n      <td>{'mechanical': 0, 'ebike': 0}</td>\n      <td>{'mechanical': 1, 'ebike': 1}</td>\n      <td>{'mechanical': 22, 'ebike': 19}</td>\n      <td>{'mechanical': 3, 'ebike': 2}</td>\n      <td>{'mechanical': 6, 'ebike': 2}</td>\n      <td>{'mechanical': 0, 'ebike': 2}</td>\n      <td>{'mechanical': 7, 'ebike': 2}</td>\n      <td>...</td>\n      <td>{'mechanical': 1, 'ebike': 1}</td>\n      <td>{'mechanical': 5, 'ebike': 0}</td>\n      <td>{'mechanical': 0, 'ebike': 0}</td>\n      <td>{'mechanical': 42, 'ebike': 3}</td>\n      <td>{'mechanical': 19, 'ebike': 0}</td>\n      <td>{'mechanical': 6, 'ebike': 3}</td>\n      <td>{'mechanical': 1, 'ebike': 0}</td>\n      <td>{'mechanical': 3, 'ebike': 4}</td>\n      <td>{'mechanical': 15, 'ebike': 6}</td>\n      <td>{'mechanical': 14, 'ebike': 7}</td>\n    </tr>\n    <tr>\n      <th>10/19/20;18:21:52</th>\n      <td>{'mechanical': 0, 'ebike': 3}</td>\n      <td>{'mechanical': 41, 'ebike': 5}</td>\n      <td>{'mechanical': 1, 'ebike': 1}</td>\n      <td>{'mechanical': 0, 'ebike': 2}</td>\n      <td>{'mechanical': 2, 'ebike': 1}</td>\n      <td>{'mechanical': 23, 'ebike': 19}</td>\n      <td>{'mechanical': 1, 'ebike': 3}</td>\n      <td>{'mechanical': 6, 'ebike': 1}</td>\n      <td>{'mechanical': 0, 'ebike': 1}</td>\n      <td>{'mechanical': 7, 'ebike': 3}</td>\n      <td>...</td>\n      <td>{'mechanical': 1, 'ebike': 2}</td>\n      <td>{'mechanical': 4, 'ebike': 0}</td>\n      <td>{'mechanical': 0, 'ebike': 0}</td>\n      <td>{'mechanical': 42, 'ebike': 2}</td>\n      <td>{'mechanical': 19, 'ebike': 1}</td>\n      <td>{'mechanical': 6, 'ebike': 1}</td>\n      <td>{'mechanical': 1, 'ebike': 0}</td>\n      <td>{'mechanical': 5, 'ebike': 4}</td>\n      <td>{'mechanical': 15, 'ebike': 6}</td>\n      <td>{'mechanical': 13, 'ebike': 4}</td>\n    </tr>\n    <tr>\n      <th>...</th>\n      <td>...</td>\n      <td>...</td>\n      <td>...</td>\n      <td>...</td>\n      <td>...</td>\n      <td>...</td>\n      <td>...</td>\n      <td>...</td>\n      <td>...</td>\n      <td>...</td>\n      <td>...</td>\n      <td>...</td>\n      <td>...</td>\n      <td>...</td>\n      <td>...</td>\n      <td>...</td>\n      <td>...</td>\n      <td>...</td>\n      <td>...</td>\n      <td>...</td>\n      <td>...</td>\n    </tr>\n    <tr>\n      <th>11/03/20;16:26:48</th>\n      <td>{'mechanical': 5, 'ebike': 7}</td>\n      <td>{'mechanical': 2, 'ebike': 0}</td>\n      <td>{'mechanical': 1, 'ebike': 3}</td>\n      <td>{'mechanical': 0, 'ebike': 2}</td>\n      <td>{'mechanical': 8, 'ebike': 1}</td>\n      <td>{'mechanical': 22, 'ebike': 21}</td>\n      <td>{'mechanical': 12, 'ebike': 8}</td>\n      <td>{'mechanical': 7, 'ebike': 8}</td>\n      <td>{'mechanical': 13, 'ebike': 3}</td>\n      <td>{'mechanical': 18, 'ebike': 4}</td>\n      <td>...</td>\n      <td>{'mechanical': 0, 'ebike': 1}</td>\n      <td>{'mechanical': 4, 'ebike': 3}</td>\n      <td>{'mechanical': 3, 'ebike': 1}</td>\n      <td>{'mechanical': 0, 'ebike': 3}</td>\n      <td>{'mechanical': 12, 'ebike': 8}</td>\n      <td>{'mechanical': 7, 'ebike': 2}</td>\n      <td>{'mechanical': 0, 'ebike': 5}</td>\n      <td>{'mechanical': 20, 'ebike': 3}</td>\n      <td>{'mechanical': 12, 'ebike': 2}</td>\n      <td>{'mechanical': 24, 'ebike': 3}</td>\n    </tr>\n    <tr>\n      <th>11/03/20;16:31:48</th>\n      <td>{'mechanical': 5, 'ebike': 8}</td>\n      <td>{'mechanical': 2, 'ebike': 0}</td>\n      <td>{'mechanical': 1, 'ebike': 2}</td>\n      <td>{'mechanical': 0, 'ebike': 3}</td>\n      <td>{'mechanical': 9, 'ebike': 0}</td>\n      <td>{'mechanical': 22, 'ebike': 20}</td>\n      <td>{'mechanical': 12, 'ebike': 7}</td>\n      <td>{'mechanical': 7, 'ebike': 8}</td>\n      <td>{'mechanical': 13, 'ebike': 3}</td>\n      <td>{'mechanical': 19, 'ebike': 5}</td>\n      <td>...</td>\n      <td>{'mechanical': 0, 'ebike': 1}</td>\n      <td>{'mechanical': 4, 'ebike': 3}</td>\n      <td>{'mechanical': 3, 'ebike': 1}</td>\n      <td>{'mechanical': 0, 'ebike': 3}</td>\n      <td>{'mechanical': 12, 'ebike': 8}</td>\n      <td>{'mechanical': 8, 'ebike': 1}</td>\n      <td>{'mechanical': 0, 'ebike': 5}</td>\n      <td>{'mechanical': 21, 'ebike': 2}</td>\n      <td>{'mechanical': 11, 'ebike': 2}</td>\n      <td>{'mechanical': 23, 'ebike': 3}</td>\n    </tr>\n    <tr>\n      <th>11/03/20;16:36:49</th>\n      <td>{'mechanical': 5, 'ebike': 8}</td>\n      <td>{'mechanical': 2, 'ebike': 0}</td>\n      <td>{'mechanical': 1, 'ebike': 3}</td>\n      <td>{'mechanical': 0, 'ebike': 3}</td>\n      <td>{'mechanical': 10, 'ebike': 0}</td>\n      <td>{'mechanical': 22, 'ebike': 20}</td>\n      <td>{'mechanical': 13, 'ebike': 7}</td>\n      <td>{'mechanical': 7, 'ebike': 8}</td>\n      <td>{'mechanical': 14, 'ebike': 3}</td>\n      <td>{'mechanical': 18, 'ebike': 5}</td>\n      <td>...</td>\n      <td>{'mechanical': 1, 'ebike': 2}</td>\n      <td>{'mechanical': 4, 'ebike': 4}</td>\n      <td>{'mechanical': 3, 'ebike': 2}</td>\n      <td>{'mechanical': 2, 'ebike': 5}</td>\n      <td>{'mechanical': 13, 'ebike': 8}</td>\n      <td>{'mechanical': 9, 'ebike': 1}</td>\n      <td>{'mechanical': 0, 'ebike': 5}</td>\n      <td>{'mechanical': 21, 'ebike': 2}</td>\n      <td>{'mechanical': 11, 'ebike': 2}</td>\n      <td>{'mechanical': 24, 'ebike': 3}</td>\n    </tr>\n    <tr>\n      <th>11/03/20;16:41:49</th>\n      <td>{'mechanical': 5, 'ebike': 8}</td>\n      <td>{'mechanical': 2, 'ebike': 0}</td>\n      <td>{'mechanical': 1, 'ebike': 3}</td>\n      <td>{'mechanical': 0, 'ebike': 3}</td>\n      <td>{'mechanical': 9, 'ebike': 0}</td>\n      <td>{'mechanical': 22, 'ebike': 19}</td>\n      <td>{'mechanical': 13, 'ebike': 7}</td>\n      <td>{'mechanical': 5, 'ebike': 8}</td>\n      <td>{'mechanical': 14, 'ebike': 3}</td>\n      <td>{'mechanical': 18, 'ebike': 4}</td>\n      <td>...</td>\n      <td>{'mechanical': 0, 'ebike': 2}</td>\n      <td>{'mechanical': 4, 'ebike': 5}</td>\n      <td>{'mechanical': 3, 'ebike': 2}</td>\n      <td>{'mechanical': 1, 'ebike': 5}</td>\n      <td>{'mechanical': 13, 'ebike': 8}</td>\n      <td>{'mechanical': 9, 'ebike': 1}</td>\n      <td>{'mechanical': 0, 'ebike': 6}</td>\n      <td>{'mechanical': 21, 'ebike': 3}</td>\n      <td>{'mechanical': 11, 'ebike': 3}</td>\n      <td>{'mechanical': 24, 'ebike': 3}</td>\n    </tr>\n    <tr>\n      <th>11/03/20;16:46:49</th>\n      <td>{'mechanical': 5, 'ebike': 7}</td>\n      <td>{'mechanical': 2, 'ebike': 0}</td>\n      <td>{'mechanical': 1, 'ebike': 3}</td>\n      <td>{'mechanical': 0, 'ebike': 2}</td>\n      <td>{'mechanical': 9, 'ebike': 0}</td>\n      <td>{'mechanical': 22, 'ebike': 18}</td>\n      <td>{'mechanical': 13, 'ebike': 7}</td>\n      <td>{'mechanical': 5, 'ebike': 7}</td>\n      <td>{'mechanical': 15, 'ebike': 3}</td>\n      <td>{'mechanical': 19, 'ebike': 4}</td>\n      <td>...</td>\n      <td>{'mechanical': 0, 'ebike': 2}</td>\n      <td>{'mechanical': 4, 'ebike': 5}</td>\n      <td>{'mechanical': 3, 'ebike': 2}</td>\n      <td>{'mechanical': 1, 'ebike': 6}</td>\n      <td>{'mechanical': 13, 'ebike': 8}</td>\n      <td>{'mechanical': 9, 'ebike': 1}</td>\n      <td>{'mechanical': 0, 'ebike': 5}</td>\n      <td>{'mechanical': 21, 'ebike': 2}</td>\n      <td>{'mechanical': 13, 'ebike': 3}</td>\n      <td>{'mechanical': 24, 'ebike': 4}</td>\n    </tr>\n  </tbody>\n</table>\n<p>4294 rows × 1398 columns</p>\n</div>"
     },
     "metadata": {},
     "execution_count": 5
    }
   ],
   "source": [
    "df_velib = velib.set_index('station_id').transpose()\n",
    "df_velib"
   ]
  },
  {
   "source": [
    "On convertit les colonnes en string"
   ],
   "cell_type": "markdown",
   "metadata": {}
  },
  {
   "cell_type": "code",
   "execution_count": 6,
   "metadata": {},
   "outputs": [
    {
     "output_type": "execute_result",
     "data": {
      "text/plain": [
       "station_id                             213688169  \\\n",
       "10/19/20;18:01:51  {'mechanical': 0, 'ebike': 2}   \n",
       "10/19/20;18:06:52  {'mechanical': 0, 'ebike': 2}   \n",
       "10/19/20;18:11:52  {'mechanical': 0, 'ebike': 2}   \n",
       "10/19/20;18:16:52  {'mechanical': 0, 'ebike': 3}   \n",
       "10/19/20;18:21:52  {'mechanical': 0, 'ebike': 3}   \n",
       "...                                          ...   \n",
       "11/03/20;16:26:48  {'mechanical': 5, 'ebike': 7}   \n",
       "11/03/20;16:31:48  {'mechanical': 5, 'ebike': 8}   \n",
       "11/03/20;16:36:49  {'mechanical': 5, 'ebike': 8}   \n",
       "11/03/20;16:41:49  {'mechanical': 5, 'ebike': 8}   \n",
       "11/03/20;16:46:49  {'mechanical': 5, 'ebike': 7}   \n",
       "\n",
       "station_id                              99950133   \\\n",
       "10/19/20;18:01:51  {'mechanical': 41, 'ebike': 5}   \n",
       "10/19/20;18:06:52  {'mechanical': 41, 'ebike': 5}   \n",
       "10/19/20;18:11:52  {'mechanical': 42, 'ebike': 5}   \n",
       "10/19/20;18:16:52  {'mechanical': 42, 'ebike': 7}   \n",
       "10/19/20;18:21:52  {'mechanical': 41, 'ebike': 5}   \n",
       "...                                           ...   \n",
       "11/03/20;16:26:48   {'mechanical': 2, 'ebike': 0}   \n",
       "11/03/20;16:31:48   {'mechanical': 2, 'ebike': 0}   \n",
       "11/03/20;16:36:49   {'mechanical': 2, 'ebike': 0}   \n",
       "11/03/20;16:41:49   {'mechanical': 2, 'ebike': 0}   \n",
       "11/03/20;16:46:49   {'mechanical': 2, 'ebike': 0}   \n",
       "\n",
       "station_id                             516709288  \\\n",
       "10/19/20;18:01:51  {'mechanical': 0, 'ebike': 1}   \n",
       "10/19/20;18:06:52  {'mechanical': 0, 'ebike': 1}   \n",
       "10/19/20;18:11:52  {'mechanical': 0, 'ebike': 1}   \n",
       "10/19/20;18:16:52  {'mechanical': 1, 'ebike': 1}   \n",
       "10/19/20;18:21:52  {'mechanical': 1, 'ebike': 1}   \n",
       "...                                          ...   \n",
       "11/03/20;16:26:48  {'mechanical': 1, 'ebike': 3}   \n",
       "11/03/20;16:31:48  {'mechanical': 1, 'ebike': 2}   \n",
       "11/03/20;16:36:49  {'mechanical': 1, 'ebike': 3}   \n",
       "11/03/20;16:41:49  {'mechanical': 1, 'ebike': 3}   \n",
       "11/03/20;16:46:49  {'mechanical': 1, 'ebike': 3}   \n",
       "\n",
       "station_id                             36255      \\\n",
       "10/19/20;18:01:51  {'mechanical': 0, 'ebike': 0}   \n",
       "10/19/20;18:06:52  {'mechanical': 0, 'ebike': 0}   \n",
       "10/19/20;18:11:52  {'mechanical': 0, 'ebike': 0}   \n",
       "10/19/20;18:16:52  {'mechanical': 0, 'ebike': 0}   \n",
       "10/19/20;18:21:52  {'mechanical': 0, 'ebike': 2}   \n",
       "...                                          ...   \n",
       "11/03/20;16:26:48  {'mechanical': 0, 'ebike': 2}   \n",
       "11/03/20;16:31:48  {'mechanical': 0, 'ebike': 3}   \n",
       "11/03/20;16:36:49  {'mechanical': 0, 'ebike': 3}   \n",
       "11/03/20;16:41:49  {'mechanical': 0, 'ebike': 3}   \n",
       "11/03/20;16:46:49  {'mechanical': 0, 'ebike': 2}   \n",
       "\n",
       "station_id                              37815204   \\\n",
       "10/19/20;18:01:51   {'mechanical': 4, 'ebike': 1}   \n",
       "10/19/20;18:06:52   {'mechanical': 3, 'ebike': 1}   \n",
       "10/19/20;18:11:52   {'mechanical': 1, 'ebike': 1}   \n",
       "10/19/20;18:16:52   {'mechanical': 1, 'ebike': 1}   \n",
       "10/19/20;18:21:52   {'mechanical': 2, 'ebike': 1}   \n",
       "...                                           ...   \n",
       "11/03/20;16:26:48   {'mechanical': 8, 'ebike': 1}   \n",
       "11/03/20;16:31:48   {'mechanical': 9, 'ebike': 0}   \n",
       "11/03/20;16:36:49  {'mechanical': 10, 'ebike': 0}   \n",
       "11/03/20;16:41:49   {'mechanical': 9, 'ebike': 0}   \n",
       "11/03/20;16:46:49   {'mechanical': 9, 'ebike': 0}   \n",
       "\n",
       "station_id                               100769544  \\\n",
       "10/19/20;18:01:51  {'mechanical': 22, 'ebike': 20}   \n",
       "10/19/20;18:06:52  {'mechanical': 22, 'ebike': 20}   \n",
       "10/19/20;18:11:52  {'mechanical': 22, 'ebike': 20}   \n",
       "10/19/20;18:16:52  {'mechanical': 22, 'ebike': 19}   \n",
       "10/19/20;18:21:52  {'mechanical': 23, 'ebike': 19}   \n",
       "...                                            ...   \n",
       "11/03/20;16:26:48  {'mechanical': 22, 'ebike': 21}   \n",
       "11/03/20;16:31:48  {'mechanical': 22, 'ebike': 20}   \n",
       "11/03/20;16:36:49  {'mechanical': 22, 'ebike': 20}   \n",
       "11/03/20;16:41:49  {'mechanical': 22, 'ebike': 19}   \n",
       "11/03/20;16:46:49  {'mechanical': 22, 'ebike': 18}   \n",
       "\n",
       "station_id                              85002689   \\\n",
       "10/19/20;18:01:51   {'mechanical': 2, 'ebike': 2}   \n",
       "10/19/20;18:06:52   {'mechanical': 2, 'ebike': 2}   \n",
       "10/19/20;18:11:52   {'mechanical': 2, 'ebike': 2}   \n",
       "10/19/20;18:16:52   {'mechanical': 3, 'ebike': 2}   \n",
       "10/19/20;18:21:52   {'mechanical': 1, 'ebike': 3}   \n",
       "...                                           ...   \n",
       "11/03/20;16:26:48  {'mechanical': 12, 'ebike': 8}   \n",
       "11/03/20;16:31:48  {'mechanical': 12, 'ebike': 7}   \n",
       "11/03/20;16:36:49  {'mechanical': 13, 'ebike': 7}   \n",
       "11/03/20;16:41:49  {'mechanical': 13, 'ebike': 7}   \n",
       "11/03/20;16:46:49  {'mechanical': 13, 'ebike': 7}   \n",
       "\n",
       "station_id                             54000559   \\\n",
       "10/19/20;18:01:51  {'mechanical': 5, 'ebike': 1}   \n",
       "10/19/20;18:06:52  {'mechanical': 4, 'ebike': 1}   \n",
       "10/19/20;18:11:52  {'mechanical': 5, 'ebike': 1}   \n",
       "10/19/20;18:16:52  {'mechanical': 6, 'ebike': 2}   \n",
       "10/19/20;18:21:52  {'mechanical': 6, 'ebike': 1}   \n",
       "...                                          ...   \n",
       "11/03/20;16:26:48  {'mechanical': 7, 'ebike': 8}   \n",
       "11/03/20;16:31:48  {'mechanical': 7, 'ebike': 8}   \n",
       "11/03/20;16:36:49  {'mechanical': 7, 'ebike': 8}   \n",
       "11/03/20;16:41:49  {'mechanical': 5, 'ebike': 8}   \n",
       "11/03/20;16:46:49  {'mechanical': 5, 'ebike': 7}   \n",
       "\n",
       "station_id                              85043758   \\\n",
       "10/19/20;18:01:51   {'mechanical': 1, 'ebike': 3}   \n",
       "10/19/20;18:06:52   {'mechanical': 2, 'ebike': 2}   \n",
       "10/19/20;18:11:52   {'mechanical': 3, 'ebike': 2}   \n",
       "10/19/20;18:16:52   {'mechanical': 0, 'ebike': 2}   \n",
       "10/19/20;18:21:52   {'mechanical': 0, 'ebike': 1}   \n",
       "...                                           ...   \n",
       "11/03/20;16:26:48  {'mechanical': 13, 'ebike': 3}   \n",
       "11/03/20;16:31:48  {'mechanical': 13, 'ebike': 3}   \n",
       "11/03/20;16:36:49  {'mechanical': 14, 'ebike': 3}   \n",
       "11/03/20;16:41:49  {'mechanical': 14, 'ebike': 3}   \n",
       "11/03/20;16:46:49  {'mechanical': 15, 'ebike': 3}   \n",
       "\n",
       "station_id                              123095125  ...  \\\n",
       "10/19/20;18:01:51   {'mechanical': 2, 'ebike': 1}  ...   \n",
       "10/19/20;18:06:52   {'mechanical': 3, 'ebike': 1}  ...   \n",
       "10/19/20;18:11:52   {'mechanical': 5, 'ebike': 2}  ...   \n",
       "10/19/20;18:16:52   {'mechanical': 7, 'ebike': 2}  ...   \n",
       "10/19/20;18:21:52   {'mechanical': 7, 'ebike': 3}  ...   \n",
       "...                                           ...  ...   \n",
       "11/03/20;16:26:48  {'mechanical': 18, 'ebike': 4}  ...   \n",
       "11/03/20;16:31:48  {'mechanical': 19, 'ebike': 5}  ...   \n",
       "11/03/20;16:36:49  {'mechanical': 18, 'ebike': 5}  ...   \n",
       "11/03/20;16:41:49  {'mechanical': 18, 'ebike': 4}  ...   \n",
       "11/03/20;16:46:49  {'mechanical': 19, 'ebike': 4}  ...   \n",
       "\n",
       "station_id                             125881065  \\\n",
       "10/19/20;18:01:51  {'mechanical': 2, 'ebike': 1}   \n",
       "10/19/20;18:06:52  {'mechanical': 3, 'ebike': 1}   \n",
       "10/19/20;18:11:52  {'mechanical': 1, 'ebike': 1}   \n",
       "10/19/20;18:16:52  {'mechanical': 1, 'ebike': 1}   \n",
       "10/19/20;18:21:52  {'mechanical': 1, 'ebike': 2}   \n",
       "...                                          ...   \n",
       "11/03/20;16:26:48  {'mechanical': 0, 'ebike': 1}   \n",
       "11/03/20;16:31:48  {'mechanical': 0, 'ebike': 1}   \n",
       "11/03/20;16:36:49  {'mechanical': 1, 'ebike': 2}   \n",
       "11/03/20;16:41:49  {'mechanical': 0, 'ebike': 2}   \n",
       "11/03/20;16:46:49  {'mechanical': 0, 'ebike': 2}   \n",
       "\n",
       "station_id                             54000627   \\\n",
       "10/19/20;18:01:51  {'mechanical': 3, 'ebike': 1}   \n",
       "10/19/20;18:06:52  {'mechanical': 4, 'ebike': 0}   \n",
       "10/19/20;18:11:52  {'mechanical': 4, 'ebike': 0}   \n",
       "10/19/20;18:16:52  {'mechanical': 5, 'ebike': 0}   \n",
       "10/19/20;18:21:52  {'mechanical': 4, 'ebike': 0}   \n",
       "...                                          ...   \n",
       "11/03/20;16:26:48  {'mechanical': 4, 'ebike': 3}   \n",
       "11/03/20;16:31:48  {'mechanical': 4, 'ebike': 3}   \n",
       "11/03/20;16:36:49  {'mechanical': 4, 'ebike': 4}   \n",
       "11/03/20;16:41:49  {'mechanical': 4, 'ebike': 5}   \n",
       "11/03/20;16:46:49  {'mechanical': 4, 'ebike': 5}   \n",
       "\n",
       "station_id                             15377776   \\\n",
       "10/19/20;18:01:51  {'mechanical': 0, 'ebike': 1}   \n",
       "10/19/20;18:06:52  {'mechanical': 0, 'ebike': 1}   \n",
       "10/19/20;18:11:52  {'mechanical': 0, 'ebike': 1}   \n",
       "10/19/20;18:16:52  {'mechanical': 0, 'ebike': 0}   \n",
       "10/19/20;18:21:52  {'mechanical': 0, 'ebike': 0}   \n",
       "...                                          ...   \n",
       "11/03/20;16:26:48  {'mechanical': 3, 'ebike': 1}   \n",
       "11/03/20;16:31:48  {'mechanical': 3, 'ebike': 1}   \n",
       "11/03/20;16:36:49  {'mechanical': 3, 'ebike': 2}   \n",
       "11/03/20;16:41:49  {'mechanical': 3, 'ebike': 2}   \n",
       "11/03/20;16:46:49  {'mechanical': 3, 'ebike': 2}   \n",
       "\n",
       "station_id                              84961467   \\\n",
       "10/19/20;18:01:51  {'mechanical': 44, 'ebike': 1}   \n",
       "10/19/20;18:06:52  {'mechanical': 44, 'ebike': 1}   \n",
       "10/19/20;18:11:52  {'mechanical': 43, 'ebike': 3}   \n",
       "10/19/20;18:16:52  {'mechanical': 42, 'ebike': 3}   \n",
       "10/19/20;18:21:52  {'mechanical': 42, 'ebike': 2}   \n",
       "...                                           ...   \n",
       "11/03/20;16:26:48   {'mechanical': 0, 'ebike': 3}   \n",
       "11/03/20;16:31:48   {'mechanical': 0, 'ebike': 3}   \n",
       "11/03/20;16:36:49   {'mechanical': 2, 'ebike': 5}   \n",
       "11/03/20;16:41:49   {'mechanical': 1, 'ebike': 5}   \n",
       "11/03/20;16:46:49   {'mechanical': 1, 'ebike': 6}   \n",
       "\n",
       "station_id                              54000629   \\\n",
       "10/19/20;18:01:51  {'mechanical': 19, 'ebike': 0}   \n",
       "10/19/20;18:06:52  {'mechanical': 18, 'ebike': 0}   \n",
       "10/19/20;18:11:52  {'mechanical': 19, 'ebike': 0}   \n",
       "10/19/20;18:16:52  {'mechanical': 19, 'ebike': 0}   \n",
       "10/19/20;18:21:52  {'mechanical': 19, 'ebike': 1}   \n",
       "...                                           ...   \n",
       "11/03/20;16:26:48  {'mechanical': 12, 'ebike': 8}   \n",
       "11/03/20;16:31:48  {'mechanical': 12, 'ebike': 8}   \n",
       "11/03/20;16:36:49  {'mechanical': 13, 'ebike': 8}   \n",
       "11/03/20;16:41:49  {'mechanical': 13, 'ebike': 8}   \n",
       "11/03/20;16:46:49  {'mechanical': 13, 'ebike': 8}   \n",
       "\n",
       "station_id                             27415004   \\\n",
       "10/19/20;18:01:51  {'mechanical': 2, 'ebike': 6}   \n",
       "10/19/20;18:06:52  {'mechanical': 3, 'ebike': 5}   \n",
       "10/19/20;18:11:52  {'mechanical': 5, 'ebike': 3}   \n",
       "10/19/20;18:16:52  {'mechanical': 6, 'ebike': 3}   \n",
       "10/19/20;18:21:52  {'mechanical': 6, 'ebike': 1}   \n",
       "...                                          ...   \n",
       "11/03/20;16:26:48  {'mechanical': 7, 'ebike': 2}   \n",
       "11/03/20;16:31:48  {'mechanical': 8, 'ebike': 1}   \n",
       "11/03/20;16:36:49  {'mechanical': 9, 'ebike': 1}   \n",
       "11/03/20;16:41:49  {'mechanical': 9, 'ebike': 1}   \n",
       "11/03/20;16:46:49  {'mechanical': 9, 'ebike': 1}   \n",
       "\n",
       "station_id                             27415128   \\\n",
       "10/19/20;18:01:51  {'mechanical': 4, 'ebike': 0}   \n",
       "10/19/20;18:06:52  {'mechanical': 3, 'ebike': 0}   \n",
       "10/19/20;18:11:52  {'mechanical': 2, 'ebike': 0}   \n",
       "10/19/20;18:16:52  {'mechanical': 1, 'ebike': 0}   \n",
       "10/19/20;18:21:52  {'mechanical': 1, 'ebike': 0}   \n",
       "...                                          ...   \n",
       "11/03/20;16:26:48  {'mechanical': 0, 'ebike': 5}   \n",
       "11/03/20;16:31:48  {'mechanical': 0, 'ebike': 5}   \n",
       "11/03/20;16:36:49  {'mechanical': 0, 'ebike': 5}   \n",
       "11/03/20;16:41:49  {'mechanical': 0, 'ebike': 6}   \n",
       "11/03/20;16:46:49  {'mechanical': 0, 'ebike': 5}   \n",
       "\n",
       "station_id                              27414937   \\\n",
       "10/19/20;18:01:51   {'mechanical': 2, 'ebike': 1}   \n",
       "10/19/20;18:06:52   {'mechanical': 2, 'ebike': 4}   \n",
       "10/19/20;18:11:52   {'mechanical': 3, 'ebike': 4}   \n",
       "10/19/20;18:16:52   {'mechanical': 3, 'ebike': 4}   \n",
       "10/19/20;18:21:52   {'mechanical': 5, 'ebike': 4}   \n",
       "...                                           ...   \n",
       "11/03/20;16:26:48  {'mechanical': 20, 'ebike': 3}   \n",
       "11/03/20;16:31:48  {'mechanical': 21, 'ebike': 2}   \n",
       "11/03/20;16:36:49  {'mechanical': 21, 'ebike': 2}   \n",
       "11/03/20;16:41:49  {'mechanical': 21, 'ebike': 3}   \n",
       "11/03/20;16:46:49  {'mechanical': 21, 'ebike': 2}   \n",
       "\n",
       "station_id                              66507230   \\\n",
       "10/19/20;18:01:51  {'mechanical': 13, 'ebike': 6}   \n",
       "10/19/20;18:06:52  {'mechanical': 14, 'ebike': 5}   \n",
       "10/19/20;18:11:52  {'mechanical': 13, 'ebike': 6}   \n",
       "10/19/20;18:16:52  {'mechanical': 15, 'ebike': 6}   \n",
       "10/19/20;18:21:52  {'mechanical': 15, 'ebike': 6}   \n",
       "...                                           ...   \n",
       "11/03/20;16:26:48  {'mechanical': 12, 'ebike': 2}   \n",
       "11/03/20;16:31:48  {'mechanical': 11, 'ebike': 2}   \n",
       "11/03/20;16:36:49  {'mechanical': 11, 'ebike': 2}   \n",
       "11/03/20;16:41:49  {'mechanical': 11, 'ebike': 3}   \n",
       "11/03/20;16:46:49  {'mechanical': 13, 'ebike': 3}   \n",
       "\n",
       "station_id                              100227241  \n",
       "10/19/20;18:01:51  {'mechanical': 17, 'ebike': 7}  \n",
       "10/19/20;18:06:52  {'mechanical': 14, 'ebike': 7}  \n",
       "10/19/20;18:11:52  {'mechanical': 14, 'ebike': 8}  \n",
       "10/19/20;18:16:52  {'mechanical': 14, 'ebike': 7}  \n",
       "10/19/20;18:21:52  {'mechanical': 13, 'ebike': 4}  \n",
       "...                                           ...  \n",
       "11/03/20;16:26:48  {'mechanical': 24, 'ebike': 3}  \n",
       "11/03/20;16:31:48  {'mechanical': 23, 'ebike': 3}  \n",
       "11/03/20;16:36:49  {'mechanical': 24, 'ebike': 3}  \n",
       "11/03/20;16:41:49  {'mechanical': 24, 'ebike': 3}  \n",
       "11/03/20;16:46:49  {'mechanical': 24, 'ebike': 4}  \n",
       "\n",
       "[4294 rows x 1398 columns]"
      ],
      "text/html": "<div>\n<style scoped>\n    .dataframe tbody tr th:only-of-type {\n        vertical-align: middle;\n    }\n\n    .dataframe tbody tr th {\n        vertical-align: top;\n    }\n\n    .dataframe thead th {\n        text-align: right;\n    }\n</style>\n<table border=\"1\" class=\"dataframe\">\n  <thead>\n    <tr style=\"text-align: right;\">\n      <th>station_id</th>\n      <th>213688169</th>\n      <th>99950133</th>\n      <th>516709288</th>\n      <th>36255</th>\n      <th>37815204</th>\n      <th>100769544</th>\n      <th>85002689</th>\n      <th>54000559</th>\n      <th>85043758</th>\n      <th>123095125</th>\n      <th>...</th>\n      <th>125881065</th>\n      <th>54000627</th>\n      <th>15377776</th>\n      <th>84961467</th>\n      <th>54000629</th>\n      <th>27415004</th>\n      <th>27415128</th>\n      <th>27414937</th>\n      <th>66507230</th>\n      <th>100227241</th>\n    </tr>\n  </thead>\n  <tbody>\n    <tr>\n      <th>10/19/20;18:01:51</th>\n      <td>{'mechanical': 0, 'ebike': 2}</td>\n      <td>{'mechanical': 41, 'ebike': 5}</td>\n      <td>{'mechanical': 0, 'ebike': 1}</td>\n      <td>{'mechanical': 0, 'ebike': 0}</td>\n      <td>{'mechanical': 4, 'ebike': 1}</td>\n      <td>{'mechanical': 22, 'ebike': 20}</td>\n      <td>{'mechanical': 2, 'ebike': 2}</td>\n      <td>{'mechanical': 5, 'ebike': 1}</td>\n      <td>{'mechanical': 1, 'ebike': 3}</td>\n      <td>{'mechanical': 2, 'ebike': 1}</td>\n      <td>...</td>\n      <td>{'mechanical': 2, 'ebike': 1}</td>\n      <td>{'mechanical': 3, 'ebike': 1}</td>\n      <td>{'mechanical': 0, 'ebike': 1}</td>\n      <td>{'mechanical': 44, 'ebike': 1}</td>\n      <td>{'mechanical': 19, 'ebike': 0}</td>\n      <td>{'mechanical': 2, 'ebike': 6}</td>\n      <td>{'mechanical': 4, 'ebike': 0}</td>\n      <td>{'mechanical': 2, 'ebike': 1}</td>\n      <td>{'mechanical': 13, 'ebike': 6}</td>\n      <td>{'mechanical': 17, 'ebike': 7}</td>\n    </tr>\n    <tr>\n      <th>10/19/20;18:06:52</th>\n      <td>{'mechanical': 0, 'ebike': 2}</td>\n      <td>{'mechanical': 41, 'ebike': 5}</td>\n      <td>{'mechanical': 0, 'ebike': 1}</td>\n      <td>{'mechanical': 0, 'ebike': 0}</td>\n      <td>{'mechanical': 3, 'ebike': 1}</td>\n      <td>{'mechanical': 22, 'ebike': 20}</td>\n      <td>{'mechanical': 2, 'ebike': 2}</td>\n      <td>{'mechanical': 4, 'ebike': 1}</td>\n      <td>{'mechanical': 2, 'ebike': 2}</td>\n      <td>{'mechanical': 3, 'ebike': 1}</td>\n      <td>...</td>\n      <td>{'mechanical': 3, 'ebike': 1}</td>\n      <td>{'mechanical': 4, 'ebike': 0}</td>\n      <td>{'mechanical': 0, 'ebike': 1}</td>\n      <td>{'mechanical': 44, 'ebike': 1}</td>\n      <td>{'mechanical': 18, 'ebike': 0}</td>\n      <td>{'mechanical': 3, 'ebike': 5}</td>\n      <td>{'mechanical': 3, 'ebike': 0}</td>\n      <td>{'mechanical': 2, 'ebike': 4}</td>\n      <td>{'mechanical': 14, 'ebike': 5}</td>\n      <td>{'mechanical': 14, 'ebike': 7}</td>\n    </tr>\n    <tr>\n      <th>10/19/20;18:11:52</th>\n      <td>{'mechanical': 0, 'ebike': 2}</td>\n      <td>{'mechanical': 42, 'ebike': 5}</td>\n      <td>{'mechanical': 0, 'ebike': 1}</td>\n      <td>{'mechanical': 0, 'ebike': 0}</td>\n      <td>{'mechanical': 1, 'ebike': 1}</td>\n      <td>{'mechanical': 22, 'ebike': 20}</td>\n      <td>{'mechanical': 2, 'ebike': 2}</td>\n      <td>{'mechanical': 5, 'ebike': 1}</td>\n      <td>{'mechanical': 3, 'ebike': 2}</td>\n      <td>{'mechanical': 5, 'ebike': 2}</td>\n      <td>...</td>\n      <td>{'mechanical': 1, 'ebike': 1}</td>\n      <td>{'mechanical': 4, 'ebike': 0}</td>\n      <td>{'mechanical': 0, 'ebike': 1}</td>\n      <td>{'mechanical': 43, 'ebike': 3}</td>\n      <td>{'mechanical': 19, 'ebike': 0}</td>\n      <td>{'mechanical': 5, 'ebike': 3}</td>\n      <td>{'mechanical': 2, 'ebike': 0}</td>\n      <td>{'mechanical': 3, 'ebike': 4}</td>\n      <td>{'mechanical': 13, 'ebike': 6}</td>\n      <td>{'mechanical': 14, 'ebike': 8}</td>\n    </tr>\n    <tr>\n      <th>10/19/20;18:16:52</th>\n      <td>{'mechanical': 0, 'ebike': 3}</td>\n      <td>{'mechanical': 42, 'ebike': 7}</td>\n      <td>{'mechanical': 1, 'ebike': 1}</td>\n      <td>{'mechanical': 0, 'ebike': 0}</td>\n      <td>{'mechanical': 1, 'ebike': 1}</td>\n      <td>{'mechanical': 22, 'ebike': 19}</td>\n      <td>{'mechanical': 3, 'ebike': 2}</td>\n      <td>{'mechanical': 6, 'ebike': 2}</td>\n      <td>{'mechanical': 0, 'ebike': 2}</td>\n      <td>{'mechanical': 7, 'ebike': 2}</td>\n      <td>...</td>\n      <td>{'mechanical': 1, 'ebike': 1}</td>\n      <td>{'mechanical': 5, 'ebike': 0}</td>\n      <td>{'mechanical': 0, 'ebike': 0}</td>\n      <td>{'mechanical': 42, 'ebike': 3}</td>\n      <td>{'mechanical': 19, 'ebike': 0}</td>\n      <td>{'mechanical': 6, 'ebike': 3}</td>\n      <td>{'mechanical': 1, 'ebike': 0}</td>\n      <td>{'mechanical': 3, 'ebike': 4}</td>\n      <td>{'mechanical': 15, 'ebike': 6}</td>\n      <td>{'mechanical': 14, 'ebike': 7}</td>\n    </tr>\n    <tr>\n      <th>10/19/20;18:21:52</th>\n      <td>{'mechanical': 0, 'ebike': 3}</td>\n      <td>{'mechanical': 41, 'ebike': 5}</td>\n      <td>{'mechanical': 1, 'ebike': 1}</td>\n      <td>{'mechanical': 0, 'ebike': 2}</td>\n      <td>{'mechanical': 2, 'ebike': 1}</td>\n      <td>{'mechanical': 23, 'ebike': 19}</td>\n      <td>{'mechanical': 1, 'ebike': 3}</td>\n      <td>{'mechanical': 6, 'ebike': 1}</td>\n      <td>{'mechanical': 0, 'ebike': 1}</td>\n      <td>{'mechanical': 7, 'ebike': 3}</td>\n      <td>...</td>\n      <td>{'mechanical': 1, 'ebike': 2}</td>\n      <td>{'mechanical': 4, 'ebike': 0}</td>\n      <td>{'mechanical': 0, 'ebike': 0}</td>\n      <td>{'mechanical': 42, 'ebike': 2}</td>\n      <td>{'mechanical': 19, 'ebike': 1}</td>\n      <td>{'mechanical': 6, 'ebike': 1}</td>\n      <td>{'mechanical': 1, 'ebike': 0}</td>\n      <td>{'mechanical': 5, 'ebike': 4}</td>\n      <td>{'mechanical': 15, 'ebike': 6}</td>\n      <td>{'mechanical': 13, 'ebike': 4}</td>\n    </tr>\n    <tr>\n      <th>...</th>\n      <td>...</td>\n      <td>...</td>\n      <td>...</td>\n      <td>...</td>\n      <td>...</td>\n      <td>...</td>\n      <td>...</td>\n      <td>...</td>\n      <td>...</td>\n      <td>...</td>\n      <td>...</td>\n      <td>...</td>\n      <td>...</td>\n      <td>...</td>\n      <td>...</td>\n      <td>...</td>\n      <td>...</td>\n      <td>...</td>\n      <td>...</td>\n      <td>...</td>\n      <td>...</td>\n    </tr>\n    <tr>\n      <th>11/03/20;16:26:48</th>\n      <td>{'mechanical': 5, 'ebike': 7}</td>\n      <td>{'mechanical': 2, 'ebike': 0}</td>\n      <td>{'mechanical': 1, 'ebike': 3}</td>\n      <td>{'mechanical': 0, 'ebike': 2}</td>\n      <td>{'mechanical': 8, 'ebike': 1}</td>\n      <td>{'mechanical': 22, 'ebike': 21}</td>\n      <td>{'mechanical': 12, 'ebike': 8}</td>\n      <td>{'mechanical': 7, 'ebike': 8}</td>\n      <td>{'mechanical': 13, 'ebike': 3}</td>\n      <td>{'mechanical': 18, 'ebike': 4}</td>\n      <td>...</td>\n      <td>{'mechanical': 0, 'ebike': 1}</td>\n      <td>{'mechanical': 4, 'ebike': 3}</td>\n      <td>{'mechanical': 3, 'ebike': 1}</td>\n      <td>{'mechanical': 0, 'ebike': 3}</td>\n      <td>{'mechanical': 12, 'ebike': 8}</td>\n      <td>{'mechanical': 7, 'ebike': 2}</td>\n      <td>{'mechanical': 0, 'ebike': 5}</td>\n      <td>{'mechanical': 20, 'ebike': 3}</td>\n      <td>{'mechanical': 12, 'ebike': 2}</td>\n      <td>{'mechanical': 24, 'ebike': 3}</td>\n    </tr>\n    <tr>\n      <th>11/03/20;16:31:48</th>\n      <td>{'mechanical': 5, 'ebike': 8}</td>\n      <td>{'mechanical': 2, 'ebike': 0}</td>\n      <td>{'mechanical': 1, 'ebike': 2}</td>\n      <td>{'mechanical': 0, 'ebike': 3}</td>\n      <td>{'mechanical': 9, 'ebike': 0}</td>\n      <td>{'mechanical': 22, 'ebike': 20}</td>\n      <td>{'mechanical': 12, 'ebike': 7}</td>\n      <td>{'mechanical': 7, 'ebike': 8}</td>\n      <td>{'mechanical': 13, 'ebike': 3}</td>\n      <td>{'mechanical': 19, 'ebike': 5}</td>\n      <td>...</td>\n      <td>{'mechanical': 0, 'ebike': 1}</td>\n      <td>{'mechanical': 4, 'ebike': 3}</td>\n      <td>{'mechanical': 3, 'ebike': 1}</td>\n      <td>{'mechanical': 0, 'ebike': 3}</td>\n      <td>{'mechanical': 12, 'ebike': 8}</td>\n      <td>{'mechanical': 8, 'ebike': 1}</td>\n      <td>{'mechanical': 0, 'ebike': 5}</td>\n      <td>{'mechanical': 21, 'ebike': 2}</td>\n      <td>{'mechanical': 11, 'ebike': 2}</td>\n      <td>{'mechanical': 23, 'ebike': 3}</td>\n    </tr>\n    <tr>\n      <th>11/03/20;16:36:49</th>\n      <td>{'mechanical': 5, 'ebike': 8}</td>\n      <td>{'mechanical': 2, 'ebike': 0}</td>\n      <td>{'mechanical': 1, 'ebike': 3}</td>\n      <td>{'mechanical': 0, 'ebike': 3}</td>\n      <td>{'mechanical': 10, 'ebike': 0}</td>\n      <td>{'mechanical': 22, 'ebike': 20}</td>\n      <td>{'mechanical': 13, 'ebike': 7}</td>\n      <td>{'mechanical': 7, 'ebike': 8}</td>\n      <td>{'mechanical': 14, 'ebike': 3}</td>\n      <td>{'mechanical': 18, 'ebike': 5}</td>\n      <td>...</td>\n      <td>{'mechanical': 1, 'ebike': 2}</td>\n      <td>{'mechanical': 4, 'ebike': 4}</td>\n      <td>{'mechanical': 3, 'ebike': 2}</td>\n      <td>{'mechanical': 2, 'ebike': 5}</td>\n      <td>{'mechanical': 13, 'ebike': 8}</td>\n      <td>{'mechanical': 9, 'ebike': 1}</td>\n      <td>{'mechanical': 0, 'ebike': 5}</td>\n      <td>{'mechanical': 21, 'ebike': 2}</td>\n      <td>{'mechanical': 11, 'ebike': 2}</td>\n      <td>{'mechanical': 24, 'ebike': 3}</td>\n    </tr>\n    <tr>\n      <th>11/03/20;16:41:49</th>\n      <td>{'mechanical': 5, 'ebike': 8}</td>\n      <td>{'mechanical': 2, 'ebike': 0}</td>\n      <td>{'mechanical': 1, 'ebike': 3}</td>\n      <td>{'mechanical': 0, 'ebike': 3}</td>\n      <td>{'mechanical': 9, 'ebike': 0}</td>\n      <td>{'mechanical': 22, 'ebike': 19}</td>\n      <td>{'mechanical': 13, 'ebike': 7}</td>\n      <td>{'mechanical': 5, 'ebike': 8}</td>\n      <td>{'mechanical': 14, 'ebike': 3}</td>\n      <td>{'mechanical': 18, 'ebike': 4}</td>\n      <td>...</td>\n      <td>{'mechanical': 0, 'ebike': 2}</td>\n      <td>{'mechanical': 4, 'ebike': 5}</td>\n      <td>{'mechanical': 3, 'ebike': 2}</td>\n      <td>{'mechanical': 1, 'ebike': 5}</td>\n      <td>{'mechanical': 13, 'ebike': 8}</td>\n      <td>{'mechanical': 9, 'ebike': 1}</td>\n      <td>{'mechanical': 0, 'ebike': 6}</td>\n      <td>{'mechanical': 21, 'ebike': 3}</td>\n      <td>{'mechanical': 11, 'ebike': 3}</td>\n      <td>{'mechanical': 24, 'ebike': 3}</td>\n    </tr>\n    <tr>\n      <th>11/03/20;16:46:49</th>\n      <td>{'mechanical': 5, 'ebike': 7}</td>\n      <td>{'mechanical': 2, 'ebike': 0}</td>\n      <td>{'mechanical': 1, 'ebike': 3}</td>\n      <td>{'mechanical': 0, 'ebike': 2}</td>\n      <td>{'mechanical': 9, 'ebike': 0}</td>\n      <td>{'mechanical': 22, 'ebike': 18}</td>\n      <td>{'mechanical': 13, 'ebike': 7}</td>\n      <td>{'mechanical': 5, 'ebike': 7}</td>\n      <td>{'mechanical': 15, 'ebike': 3}</td>\n      <td>{'mechanical': 19, 'ebike': 4}</td>\n      <td>...</td>\n      <td>{'mechanical': 0, 'ebike': 2}</td>\n      <td>{'mechanical': 4, 'ebike': 5}</td>\n      <td>{'mechanical': 3, 'ebike': 2}</td>\n      <td>{'mechanical': 1, 'ebike': 6}</td>\n      <td>{'mechanical': 13, 'ebike': 8}</td>\n      <td>{'mechanical': 9, 'ebike': 1}</td>\n      <td>{'mechanical': 0, 'ebike': 5}</td>\n      <td>{'mechanical': 21, 'ebike': 2}</td>\n      <td>{'mechanical': 13, 'ebike': 3}</td>\n      <td>{'mechanical': 24, 'ebike': 4}</td>\n    </tr>\n  </tbody>\n</table>\n<p>4294 rows × 1398 columns</p>\n</div>"
     },
     "metadata": {},
     "execution_count": 6
    }
   ],
   "source": [
    "def colonnes_string(df):\n",
    "    \"\"\"\n",
    "    Convertir toutes les colonnes en string par simplicité\n",
    "    \"\"\"\n",
    "    colonnes = []\n",
    "    for i in df:\n",
    "        if type(i) == str:\n",
    "            colonnes.append(i)\n",
    "        else:\n",
    "            colonnes.append(str(i))\n",
    "\n",
    "colonnes_string(df_velib)\n",
    "df_velib"
   ]
  },
  {
   "source": [
    "On ne regarde que le nombre total de vélos par station"
   ],
   "cell_type": "markdown",
   "metadata": {}
  },
  {
   "cell_type": "code",
   "execution_count": 7,
   "metadata": {},
   "outputs": [],
   "source": [
    "def count_bikes(df):\n",
    "    \"\"\"\n",
    "    Convertir les dictionnaires des différents Vélibs en un nombre de Vélibs disponibles à l'instant t.\n",
    "    \"\"\"\n",
    "    for station in df.columns:\n",
    "        for date in df.index:\n",
    "            df[station][date] = df[station][date]['mechanical'] + df[station][date]['ebike']\n",
    "\n",
    "count_bikes(df_velib)"
   ]
  },
  {
   "cell_type": "code",
   "execution_count": 9,
   "metadata": {},
   "outputs": [
    {
     "output_type": "execute_result",
     "data": {
      "text/plain": [
       "station_id        213688169 99950133  516709288 36255     37815204  100769544  \\\n",
       "10/19/20;18:01:51         2        46         1         0         5        42   \n",
       "10/19/20;18:06:52         2        46         1         0         4        42   \n",
       "10/19/20;18:11:52         2        47         1         0         2        42   \n",
       "10/19/20;18:16:52         3        49         2         0         2        41   \n",
       "10/19/20;18:21:52         3        46         2         2         3        42   \n",
       "...                     ...       ...       ...       ...       ...       ...   \n",
       "11/03/20;16:26:48        12         2         4         2         9        43   \n",
       "11/03/20;16:31:48        13         2         3         3         9        42   \n",
       "11/03/20;16:36:49        13         2         4         3        10        42   \n",
       "11/03/20;16:41:49        13         2         4         3         9        41   \n",
       "11/03/20;16:46:49        12         2         4         2         9        40   \n",
       "\n",
       "station_id        85002689  54000559  85043758  123095125  ... 125881065  \\\n",
       "10/19/20;18:01:51         4         6         4         3  ...         3   \n",
       "10/19/20;18:06:52         4         5         4         4  ...         4   \n",
       "10/19/20;18:11:52         4         6         5         7  ...         2   \n",
       "10/19/20;18:16:52         5         8         2         9  ...         2   \n",
       "10/19/20;18:21:52         4         7         1        10  ...         3   \n",
       "...                     ...       ...       ...       ...  ...       ...   \n",
       "11/03/20;16:26:48        20        15        16        22  ...         1   \n",
       "11/03/20;16:31:48        19        15        16        24  ...         1   \n",
       "11/03/20;16:36:49        20        15        17        23  ...         3   \n",
       "11/03/20;16:41:49        20        13        17        22  ...         2   \n",
       "11/03/20;16:46:49        20        12        18        23  ...         2   \n",
       "\n",
       "station_id        54000627  15377776  84961467  54000629  27415004  27415128   \\\n",
       "10/19/20;18:01:51         4         1        45        19         8         4   \n",
       "10/19/20;18:06:52         4         1        45        18         8         3   \n",
       "10/19/20;18:11:52         4         1        46        19         8         2   \n",
       "10/19/20;18:16:52         5         0        45        19         9         1   \n",
       "10/19/20;18:21:52         4         0        44        20         7         1   \n",
       "...                     ...       ...       ...       ...       ...       ...   \n",
       "11/03/20;16:26:48         7         4         3        20         9         5   \n",
       "11/03/20;16:31:48         7         4         3        20         9         5   \n",
       "11/03/20;16:36:49         8         5         7        21        10         5   \n",
       "11/03/20;16:41:49         9         5         6        21        10         6   \n",
       "11/03/20;16:46:49         9         5         7        21        10         5   \n",
       "\n",
       "station_id        27414937  66507230  100227241  \n",
       "10/19/20;18:01:51         3        19        24  \n",
       "10/19/20;18:06:52         6        19        21  \n",
       "10/19/20;18:11:52         7        19        22  \n",
       "10/19/20;18:16:52         7        21        21  \n",
       "10/19/20;18:21:52         9        21        17  \n",
       "...                     ...       ...       ...  \n",
       "11/03/20;16:26:48        23        14        27  \n",
       "11/03/20;16:31:48        23        13        26  \n",
       "11/03/20;16:36:49        23        13        27  \n",
       "11/03/20;16:41:49        24        14        27  \n",
       "11/03/20;16:46:49        23        16        28  \n",
       "\n",
       "[4294 rows x 1398 columns]"
      ],
      "text/html": "<div>\n<style scoped>\n    .dataframe tbody tr th:only-of-type {\n        vertical-align: middle;\n    }\n\n    .dataframe tbody tr th {\n        vertical-align: top;\n    }\n\n    .dataframe thead th {\n        text-align: right;\n    }\n</style>\n<table border=\"1\" class=\"dataframe\">\n  <thead>\n    <tr style=\"text-align: right;\">\n      <th>station_id</th>\n      <th>213688169</th>\n      <th>99950133</th>\n      <th>516709288</th>\n      <th>36255</th>\n      <th>37815204</th>\n      <th>100769544</th>\n      <th>85002689</th>\n      <th>54000559</th>\n      <th>85043758</th>\n      <th>123095125</th>\n      <th>...</th>\n      <th>125881065</th>\n      <th>54000627</th>\n      <th>15377776</th>\n      <th>84961467</th>\n      <th>54000629</th>\n      <th>27415004</th>\n      <th>27415128</th>\n      <th>27414937</th>\n      <th>66507230</th>\n      <th>100227241</th>\n    </tr>\n  </thead>\n  <tbody>\n    <tr>\n      <th>10/19/20;18:01:51</th>\n      <td>2</td>\n      <td>46</td>\n      <td>1</td>\n      <td>0</td>\n      <td>5</td>\n      <td>42</td>\n      <td>4</td>\n      <td>6</td>\n      <td>4</td>\n      <td>3</td>\n      <td>...</td>\n      <td>3</td>\n      <td>4</td>\n      <td>1</td>\n      <td>45</td>\n      <td>19</td>\n      <td>8</td>\n      <td>4</td>\n      <td>3</td>\n      <td>19</td>\n      <td>24</td>\n    </tr>\n    <tr>\n      <th>10/19/20;18:06:52</th>\n      <td>2</td>\n      <td>46</td>\n      <td>1</td>\n      <td>0</td>\n      <td>4</td>\n      <td>42</td>\n      <td>4</td>\n      <td>5</td>\n      <td>4</td>\n      <td>4</td>\n      <td>...</td>\n      <td>4</td>\n      <td>4</td>\n      <td>1</td>\n      <td>45</td>\n      <td>18</td>\n      <td>8</td>\n      <td>3</td>\n      <td>6</td>\n      <td>19</td>\n      <td>21</td>\n    </tr>\n    <tr>\n      <th>10/19/20;18:11:52</th>\n      <td>2</td>\n      <td>47</td>\n      <td>1</td>\n      <td>0</td>\n      <td>2</td>\n      <td>42</td>\n      <td>4</td>\n      <td>6</td>\n      <td>5</td>\n      <td>7</td>\n      <td>...</td>\n      <td>2</td>\n      <td>4</td>\n      <td>1</td>\n      <td>46</td>\n      <td>19</td>\n      <td>8</td>\n      <td>2</td>\n      <td>7</td>\n      <td>19</td>\n      <td>22</td>\n    </tr>\n    <tr>\n      <th>10/19/20;18:16:52</th>\n      <td>3</td>\n      <td>49</td>\n      <td>2</td>\n      <td>0</td>\n      <td>2</td>\n      <td>41</td>\n      <td>5</td>\n      <td>8</td>\n      <td>2</td>\n      <td>9</td>\n      <td>...</td>\n      <td>2</td>\n      <td>5</td>\n      <td>0</td>\n      <td>45</td>\n      <td>19</td>\n      <td>9</td>\n      <td>1</td>\n      <td>7</td>\n      <td>21</td>\n      <td>21</td>\n    </tr>\n    <tr>\n      <th>10/19/20;18:21:52</th>\n      <td>3</td>\n      <td>46</td>\n      <td>2</td>\n      <td>2</td>\n      <td>3</td>\n      <td>42</td>\n      <td>4</td>\n      <td>7</td>\n      <td>1</td>\n      <td>10</td>\n      <td>...</td>\n      <td>3</td>\n      <td>4</td>\n      <td>0</td>\n      <td>44</td>\n      <td>20</td>\n      <td>7</td>\n      <td>1</td>\n      <td>9</td>\n      <td>21</td>\n      <td>17</td>\n    </tr>\n    <tr>\n      <th>...</th>\n      <td>...</td>\n      <td>...</td>\n      <td>...</td>\n      <td>...</td>\n      <td>...</td>\n      <td>...</td>\n      <td>...</td>\n      <td>...</td>\n      <td>...</td>\n      <td>...</td>\n      <td>...</td>\n      <td>...</td>\n      <td>...</td>\n      <td>...</td>\n      <td>...</td>\n      <td>...</td>\n      <td>...</td>\n      <td>...</td>\n      <td>...</td>\n      <td>...</td>\n      <td>...</td>\n    </tr>\n    <tr>\n      <th>11/03/20;16:26:48</th>\n      <td>12</td>\n      <td>2</td>\n      <td>4</td>\n      <td>2</td>\n      <td>9</td>\n      <td>43</td>\n      <td>20</td>\n      <td>15</td>\n      <td>16</td>\n      <td>22</td>\n      <td>...</td>\n      <td>1</td>\n      <td>7</td>\n      <td>4</td>\n      <td>3</td>\n      <td>20</td>\n      <td>9</td>\n      <td>5</td>\n      <td>23</td>\n      <td>14</td>\n      <td>27</td>\n    </tr>\n    <tr>\n      <th>11/03/20;16:31:48</th>\n      <td>13</td>\n      <td>2</td>\n      <td>3</td>\n      <td>3</td>\n      <td>9</td>\n      <td>42</td>\n      <td>19</td>\n      <td>15</td>\n      <td>16</td>\n      <td>24</td>\n      <td>...</td>\n      <td>1</td>\n      <td>7</td>\n      <td>4</td>\n      <td>3</td>\n      <td>20</td>\n      <td>9</td>\n      <td>5</td>\n      <td>23</td>\n      <td>13</td>\n      <td>26</td>\n    </tr>\n    <tr>\n      <th>11/03/20;16:36:49</th>\n      <td>13</td>\n      <td>2</td>\n      <td>4</td>\n      <td>3</td>\n      <td>10</td>\n      <td>42</td>\n      <td>20</td>\n      <td>15</td>\n      <td>17</td>\n      <td>23</td>\n      <td>...</td>\n      <td>3</td>\n      <td>8</td>\n      <td>5</td>\n      <td>7</td>\n      <td>21</td>\n      <td>10</td>\n      <td>5</td>\n      <td>23</td>\n      <td>13</td>\n      <td>27</td>\n    </tr>\n    <tr>\n      <th>11/03/20;16:41:49</th>\n      <td>13</td>\n      <td>2</td>\n      <td>4</td>\n      <td>3</td>\n      <td>9</td>\n      <td>41</td>\n      <td>20</td>\n      <td>13</td>\n      <td>17</td>\n      <td>22</td>\n      <td>...</td>\n      <td>2</td>\n      <td>9</td>\n      <td>5</td>\n      <td>6</td>\n      <td>21</td>\n      <td>10</td>\n      <td>6</td>\n      <td>24</td>\n      <td>14</td>\n      <td>27</td>\n    </tr>\n    <tr>\n      <th>11/03/20;16:46:49</th>\n      <td>12</td>\n      <td>2</td>\n      <td>4</td>\n      <td>2</td>\n      <td>9</td>\n      <td>40</td>\n      <td>20</td>\n      <td>12</td>\n      <td>18</td>\n      <td>23</td>\n      <td>...</td>\n      <td>2</td>\n      <td>9</td>\n      <td>5</td>\n      <td>7</td>\n      <td>21</td>\n      <td>10</td>\n      <td>5</td>\n      <td>23</td>\n      <td>16</td>\n      <td>28</td>\n    </tr>\n  </tbody>\n</table>\n<p>4294 rows × 1398 columns</p>\n</div>"
     },
     "metadata": {},
     "execution_count": 9
    }
   ],
   "source": [
    "df_velib"
   ]
  },
  {
   "source": [
    "**Préparation de la variable à prédire : le nombre de Vélibs dans la station Benjamin Godard - Victor Hugo (station n°213688169) 1 jour plus tard.**\n",
    "\n",
    "Pour simplifier la tâche, on sait que il y a $12$x$24 = 288$ pointages par jour (toutes les 5 minutes)"
   ],
   "cell_type": "markdown",
   "metadata": {}
  },
  {
   "cell_type": "code",
   "execution_count": 43,
   "metadata": {},
   "outputs": [
    {
     "output_type": "execute_result",
     "data": {
      "text/plain": [
       "station_id 99950133 516709288 36255 37815204 100769544 85002689 54000559  \\\n",
       "0                46         1     0        5        42        4        6   \n",
       "1                46         1     0        4        42        4        5   \n",
       "2                47         1     0        2        42        4        6   \n",
       "3                49         2     0        2        41        5        8   \n",
       "4                46         2     2        3        42        4        7   \n",
       "...             ...       ...   ...      ...       ...      ...      ...   \n",
       "4001              9         5     4        7        28       21       18   \n",
       "4002              8         5     2        7        28       20       18   \n",
       "4003              8         5     2        7        31       19       19   \n",
       "4004              8         5     2        8        31       19       19   \n",
       "4005              8         5     1        8        33       19       19   \n",
       "\n",
       "station_id 85043758 123095125 129026597  ... 54000627 15377776 84961467  \\\n",
       "0                 4         3        15  ...        4        1       45   \n",
       "1                 4         4        14  ...        4        1       45   \n",
       "2                 5         7        12  ...        4        1       46   \n",
       "3                 2         9        12  ...        5        0       45   \n",
       "4                 1        10         9  ...        4        0       44   \n",
       "...             ...       ...       ...  ...      ...      ...      ...   \n",
       "4001              7        11        19  ...       13        4        5   \n",
       "4002              7        11        19  ...       14        3        5   \n",
       "4003              7        12        19  ...       14        2        6   \n",
       "4004              7        13        19  ...       15        2        6   \n",
       "4005              7        13        19  ...       15        2        3   \n",
       "\n",
       "station_id 54000629 27415004 27415128 27414937 66507230 100227241   y  \n",
       "0                19        8        4        3       19        24   6  \n",
       "1                18        8        3        6       19        21   6  \n",
       "2                19        8        2        7       19        22   5  \n",
       "3                19        9        1        7       21        21   5  \n",
       "4                20        7        1        9       21        17   5  \n",
       "...             ...      ...      ...      ...      ...       ...  ..  \n",
       "4001             19        3        2       19       15        31  12  \n",
       "4002             19        3        2       19       15        31  13  \n",
       "4003             19        3        2       17       16        29  13  \n",
       "4004             19        4        2       17       15        30  13  \n",
       "4005             19        4        2       17       15        30  12  \n",
       "\n",
       "[4006 rows x 1398 columns]"
      ],
      "text/html": "<div>\n<style scoped>\n    .dataframe tbody tr th:only-of-type {\n        vertical-align: middle;\n    }\n\n    .dataframe tbody tr th {\n        vertical-align: top;\n    }\n\n    .dataframe thead th {\n        text-align: right;\n    }\n</style>\n<table border=\"1\" class=\"dataframe\">\n  <thead>\n    <tr style=\"text-align: right;\">\n      <th>station_id</th>\n      <th>99950133</th>\n      <th>516709288</th>\n      <th>36255</th>\n      <th>37815204</th>\n      <th>100769544</th>\n      <th>85002689</th>\n      <th>54000559</th>\n      <th>85043758</th>\n      <th>123095125</th>\n      <th>129026597</th>\n      <th>...</th>\n      <th>54000627</th>\n      <th>15377776</th>\n      <th>84961467</th>\n      <th>54000629</th>\n      <th>27415004</th>\n      <th>27415128</th>\n      <th>27414937</th>\n      <th>66507230</th>\n      <th>100227241</th>\n      <th>y</th>\n    </tr>\n  </thead>\n  <tbody>\n    <tr>\n      <th>0</th>\n      <td>46</td>\n      <td>1</td>\n      <td>0</td>\n      <td>5</td>\n      <td>42</td>\n      <td>4</td>\n      <td>6</td>\n      <td>4</td>\n      <td>3</td>\n      <td>15</td>\n      <td>...</td>\n      <td>4</td>\n      <td>1</td>\n      <td>45</td>\n      <td>19</td>\n      <td>8</td>\n      <td>4</td>\n      <td>3</td>\n      <td>19</td>\n      <td>24</td>\n      <td>6</td>\n    </tr>\n    <tr>\n      <th>1</th>\n      <td>46</td>\n      <td>1</td>\n      <td>0</td>\n      <td>4</td>\n      <td>42</td>\n      <td>4</td>\n      <td>5</td>\n      <td>4</td>\n      <td>4</td>\n      <td>14</td>\n      <td>...</td>\n      <td>4</td>\n      <td>1</td>\n      <td>45</td>\n      <td>18</td>\n      <td>8</td>\n      <td>3</td>\n      <td>6</td>\n      <td>19</td>\n      <td>21</td>\n      <td>6</td>\n    </tr>\n    <tr>\n      <th>2</th>\n      <td>47</td>\n      <td>1</td>\n      <td>0</td>\n      <td>2</td>\n      <td>42</td>\n      <td>4</td>\n      <td>6</td>\n      <td>5</td>\n      <td>7</td>\n      <td>12</td>\n      <td>...</td>\n      <td>4</td>\n      <td>1</td>\n      <td>46</td>\n      <td>19</td>\n      <td>8</td>\n      <td>2</td>\n      <td>7</td>\n      <td>19</td>\n      <td>22</td>\n      <td>5</td>\n    </tr>\n    <tr>\n      <th>3</th>\n      <td>49</td>\n      <td>2</td>\n      <td>0</td>\n      <td>2</td>\n      <td>41</td>\n      <td>5</td>\n      <td>8</td>\n      <td>2</td>\n      <td>9</td>\n      <td>12</td>\n      <td>...</td>\n      <td>5</td>\n      <td>0</td>\n      <td>45</td>\n      <td>19</td>\n      <td>9</td>\n      <td>1</td>\n      <td>7</td>\n      <td>21</td>\n      <td>21</td>\n      <td>5</td>\n    </tr>\n    <tr>\n      <th>4</th>\n      <td>46</td>\n      <td>2</td>\n      <td>2</td>\n      <td>3</td>\n      <td>42</td>\n      <td>4</td>\n      <td>7</td>\n      <td>1</td>\n      <td>10</td>\n      <td>9</td>\n      <td>...</td>\n      <td>4</td>\n      <td>0</td>\n      <td>44</td>\n      <td>20</td>\n      <td>7</td>\n      <td>1</td>\n      <td>9</td>\n      <td>21</td>\n      <td>17</td>\n      <td>5</td>\n    </tr>\n    <tr>\n      <th>...</th>\n      <td>...</td>\n      <td>...</td>\n      <td>...</td>\n      <td>...</td>\n      <td>...</td>\n      <td>...</td>\n      <td>...</td>\n      <td>...</td>\n      <td>...</td>\n      <td>...</td>\n      <td>...</td>\n      <td>...</td>\n      <td>...</td>\n      <td>...</td>\n      <td>...</td>\n      <td>...</td>\n      <td>...</td>\n      <td>...</td>\n      <td>...</td>\n      <td>...</td>\n      <td>...</td>\n    </tr>\n    <tr>\n      <th>4001</th>\n      <td>9</td>\n      <td>5</td>\n      <td>4</td>\n      <td>7</td>\n      <td>28</td>\n      <td>21</td>\n      <td>18</td>\n      <td>7</td>\n      <td>11</td>\n      <td>19</td>\n      <td>...</td>\n      <td>13</td>\n      <td>4</td>\n      <td>5</td>\n      <td>19</td>\n      <td>3</td>\n      <td>2</td>\n      <td>19</td>\n      <td>15</td>\n      <td>31</td>\n      <td>12</td>\n    </tr>\n    <tr>\n      <th>4002</th>\n      <td>8</td>\n      <td>5</td>\n      <td>2</td>\n      <td>7</td>\n      <td>28</td>\n      <td>20</td>\n      <td>18</td>\n      <td>7</td>\n      <td>11</td>\n      <td>19</td>\n      <td>...</td>\n      <td>14</td>\n      <td>3</td>\n      <td>5</td>\n      <td>19</td>\n      <td>3</td>\n      <td>2</td>\n      <td>19</td>\n      <td>15</td>\n      <td>31</td>\n      <td>13</td>\n    </tr>\n    <tr>\n      <th>4003</th>\n      <td>8</td>\n      <td>5</td>\n      <td>2</td>\n      <td>7</td>\n      <td>31</td>\n      <td>19</td>\n      <td>19</td>\n      <td>7</td>\n      <td>12</td>\n      <td>19</td>\n      <td>...</td>\n      <td>14</td>\n      <td>2</td>\n      <td>6</td>\n      <td>19</td>\n      <td>3</td>\n      <td>2</td>\n      <td>17</td>\n      <td>16</td>\n      <td>29</td>\n      <td>13</td>\n    </tr>\n    <tr>\n      <th>4004</th>\n      <td>8</td>\n      <td>5</td>\n      <td>2</td>\n      <td>8</td>\n      <td>31</td>\n      <td>19</td>\n      <td>19</td>\n      <td>7</td>\n      <td>13</td>\n      <td>19</td>\n      <td>...</td>\n      <td>15</td>\n      <td>2</td>\n      <td>6</td>\n      <td>19</td>\n      <td>4</td>\n      <td>2</td>\n      <td>17</td>\n      <td>15</td>\n      <td>30</td>\n      <td>13</td>\n    </tr>\n    <tr>\n      <th>4005</th>\n      <td>8</td>\n      <td>5</td>\n      <td>1</td>\n      <td>8</td>\n      <td>33</td>\n      <td>19</td>\n      <td>19</td>\n      <td>7</td>\n      <td>13</td>\n      <td>19</td>\n      <td>...</td>\n      <td>15</td>\n      <td>2</td>\n      <td>3</td>\n      <td>19</td>\n      <td>4</td>\n      <td>2</td>\n      <td>17</td>\n      <td>15</td>\n      <td>30</td>\n      <td>12</td>\n    </tr>\n  </tbody>\n</table>\n<p>4006 rows × 1398 columns</p>\n</div>"
     },
     "metadata": {},
     "execution_count": 43
    }
   ],
   "source": [
    "df = df_velib.copy()\n",
    "df['y'] = df[213688169]\n",
    "df.reset_index(inplace=True)\n",
    "\n",
    "# Formatage du dataframe pour que la colonne 'Y' contienne les données de la station cible 1 jour plus tard. \n",
    "for i in range(len(df)):\n",
    "    try:\n",
    "        df['y'][i] = df[213688169][i + 288]\n",
    "    except KeyError:\n",
    "        df.drop(i,0,inplace=True)\n",
    "\n",
    "df=df.drop([213688169,'index'], axis = 1)\n",
    "df"
   ]
  },
  {
   "source": [
    "# Machine Learning\n",
    "\n",
    "On entraine l'algorithme du 19 octobre jusqu'au 2 novembre. Et on prédit donc ce qui se passe entre le 20 octobre et le 3 novembre."
   ],
   "cell_type": "markdown",
   "metadata": {}
  },
  {
   "cell_type": "code",
   "execution_count": 51,
   "metadata": {},
   "outputs": [],
   "source": [
    "# Choix des features\n",
    "stations = [i for i in df.columns if i != 'y']\n",
    "X = df[stations]\n",
    "\n",
    "# Préparation de la target\n",
    "y = df['y']\n",
    "\n",
    "from sklearn.model_selection import train_test_split\n",
    "\n",
    "X_train, X_test, y_train, y_test = train_test_split(X, y, test_size=0.3)"
   ]
  },
  {
   "source": [
    "## Rappel MAE : \n",
    "\n",
    "MAE = mean($\\lvert$ True - predicted $\\rvert$)"
   ],
   "cell_type": "markdown",
   "metadata": {}
  },
  {
   "cell_type": "code",
   "execution_count": 58,
   "metadata": {},
   "outputs": [
    {
     "output_type": "stream",
     "name": "stdout",
     "text": [
      "Le MAE du modèle est 0.571 avec la régression linéaire\n"
     ]
    }
   ],
   "source": [
    "# Régression linéaire simple\n",
    "X_train, X_test, y_train, y_test = train_test_split(X, y, test_size=0.3)\n",
    "regressor = LinearRegression()\n",
    "regressor.fit(X_train, y_train)\n",
    "y_prediction = regressor.predict(X_test)\n",
    "\n",
    "print(\"Le MAE du modèle est \"+str(round(mean_absolute_error(y_test, y_prediction),3))+\" avec la régression linéaire\")"
   ]
  },
  {
   "cell_type": "code",
   "execution_count": 56,
   "metadata": {},
   "outputs": [
    {
     "output_type": "stream",
     "name": "stdout",
     "text": [
      "Le MAE du modèle est 0.341 avec random forest\n"
     ]
    }
   ],
   "source": [
    "# Random Forest\n",
    "X_train, X_test, y_train, y_test = train_test_split(X, y, test_size=0.3)\n",
    "regressor = RandomForestRegressor()\n",
    "regressor.fit(X_train, y_train)\n",
    "y_prediction = regressor.predict(X_test)\n",
    "\n",
    "print(\"Le MAE du modèle est \"+str(round(mean_absolute_error(y_test, y_prediction),3))+\" avec random forest\")"
   ]
  },
  {
   "cell_type": "code",
   "execution_count": 59,
   "metadata": {},
   "outputs": [
    {
     "output_type": "stream",
     "name": "stdout",
     "text": [
      "Le MAE du modèle est 0.317 avec régression logistique\n"
     ]
    }
   ],
   "source": [
    "# Régression logistique ?\n",
    "from sklearn.linear_model import LogisticRegression\n",
    "\n",
    "y=y.astype('int')\n",
    "X_train, X_test, y_train, y_test = train_test_split(X, y, test_size=0.3)\n",
    "\n",
    "regressor = LogisticRegression(penalty='none',solver='newton-cg')\n",
    "regressor.fit(X_train, y_train)\n",
    "y_prediction = regressor.predict(X_test)\n",
    "\n",
    "print(\"Le MAE du modèle est \"+str(round(mean_absolute_error(y_test, y_prediction),3))+\" avec régression logistique\")"
   ]
  },
  {
   "source": [
    "## Sélection des stations les plus corrélées avec la target "
   ],
   "cell_type": "markdown",
   "metadata": {}
  },
  {
   "cell_type": "code",
   "execution_count": 61,
   "metadata": {},
   "outputs": [],
   "source": [
    "df = df.astype('float64')"
   ]
  },
  {
   "cell_type": "code",
   "execution_count": 68,
   "metadata": {},
   "outputs": [
    {
     "output_type": "execute_result",
     "data": {
      "text/plain": [
       "station_id  99950133  516709288     36255  37815204  100769544  85002689  \\\n",
       "station_id                                                                 \n",
       "99950133    1.000000  -0.195286  0.162100 -0.187678   0.611541 -0.177319   \n",
       "516709288  -0.195286   1.000000  0.291150  0.396716  -0.207196  0.525433   \n",
       "36255       0.162100   0.291150  1.000000  0.380271   0.150598  0.287062   \n",
       "37815204   -0.187678   0.396716  0.380271  1.000000  -0.248167  0.507686   \n",
       "100769544   0.611541  -0.207196  0.150598 -0.248167   1.000000 -0.260298   \n",
       "...              ...        ...       ...       ...        ...       ...   \n",
       "27415128   -0.056689   0.142942  0.114634  0.545498  -0.227218  0.293360   \n",
       "27414937   -0.194966   0.520540  0.354176  0.717605  -0.337625  0.676606   \n",
       "66507230   -0.104690  -0.034888 -0.110283 -0.105114  -0.078619 -0.143085   \n",
       "100227241  -0.167219  -0.247694 -0.162988 -0.362688   0.183436 -0.380905   \n",
       "y           0.068436   0.119396  0.008763  0.089050   0.223005  0.102308   \n",
       "\n",
       "station_id  54000559  85043758  123095125  129026597  ...  54000627  15377776  \\\n",
       "station_id                                            ...                       \n",
       "99950133   -0.334598 -0.223679  -0.204393   0.086788  ... -0.324523  0.025232   \n",
       "516709288   0.279739  0.119680   0.242414  -0.200245  ...  0.513984 -0.140892   \n",
       "36255       0.139330  0.119667   0.216087  -0.286006  ...  0.210502 -0.261493   \n",
       "37815204    0.100615  0.502248   0.444494  -0.668032  ...  0.493721 -0.462698   \n",
       "100769544  -0.302487 -0.417616  -0.353847   0.220972  ... -0.193849  0.201634   \n",
       "...              ...       ...        ...        ...  ...       ...       ...   \n",
       "27415128    0.209992  0.589388   0.257704  -0.583440  ...  0.353565 -0.206648   \n",
       "27414937    0.310551  0.365913   0.472470  -0.444952  ...  0.549094 -0.428744   \n",
       "66507230   -0.026049 -0.146478  -0.149499   0.263272  ... -0.013344  0.108291   \n",
       "100227241  -0.178667 -0.135965  -0.393200   0.167123  ... -0.248515  0.239717   \n",
       "y          -0.032470  0.016063  -0.165194  -0.101876  ...  0.235661  0.211848   \n",
       "\n",
       "station_id  84961467  54000629  27415004  27415128  27414937  66507230  \\\n",
       "station_id                                                               \n",
       "99950133    0.338678 -0.044211 -0.123873 -0.056689 -0.194966 -0.104690   \n",
       "516709288  -0.468952  0.248628  0.215983  0.142942  0.520540 -0.034888   \n",
       "36255      -0.253723  0.046560  0.417692  0.114634  0.354176 -0.110283   \n",
       "37815204   -0.400822  0.226539  0.848933  0.545498  0.717605 -0.105114   \n",
       "100769544   0.366349 -0.259098 -0.173361 -0.227218 -0.337625 -0.078619   \n",
       "...              ...       ...       ...       ...       ...       ...   \n",
       "27415128   -0.184490  0.214370  0.462206  1.000000  0.472193 -0.190974   \n",
       "27414937   -0.551809  0.546129  0.642461  0.472193  1.000000  0.020199   \n",
       "66507230    0.095784 -0.056796 -0.166057 -0.190974  0.020199  1.000000   \n",
       "100227241   0.281107 -0.415353 -0.308554 -0.294577 -0.581496  0.148406   \n",
       "y           0.065580 -0.001845 -0.013962  0.243408  0.024041 -0.168761   \n",
       "\n",
       "station_id  100227241         y  \n",
       "station_id                       \n",
       "99950133    -0.167219  0.068436  \n",
       "516709288   -0.247694  0.119396  \n",
       "36255       -0.162988  0.008763  \n",
       "37815204    -0.362688  0.089050  \n",
       "100769544    0.183436  0.223005  \n",
       "...               ...       ...  \n",
       "27415128    -0.294577  0.243408  \n",
       "27414937    -0.581496  0.024041  \n",
       "66507230     0.148406 -0.168761  \n",
       "100227241    1.000000  0.134075  \n",
       "y            0.134075  1.000000  \n",
       "\n",
       "[1398 rows x 1398 columns]"
      ],
      "text/html": "<div>\n<style scoped>\n    .dataframe tbody tr th:only-of-type {\n        vertical-align: middle;\n    }\n\n    .dataframe tbody tr th {\n        vertical-align: top;\n    }\n\n    .dataframe thead th {\n        text-align: right;\n    }\n</style>\n<table border=\"1\" class=\"dataframe\">\n  <thead>\n    <tr style=\"text-align: right;\">\n      <th>station_id</th>\n      <th>99950133</th>\n      <th>516709288</th>\n      <th>36255</th>\n      <th>37815204</th>\n      <th>100769544</th>\n      <th>85002689</th>\n      <th>54000559</th>\n      <th>85043758</th>\n      <th>123095125</th>\n      <th>129026597</th>\n      <th>...</th>\n      <th>54000627</th>\n      <th>15377776</th>\n      <th>84961467</th>\n      <th>54000629</th>\n      <th>27415004</th>\n      <th>27415128</th>\n      <th>27414937</th>\n      <th>66507230</th>\n      <th>100227241</th>\n      <th>y</th>\n    </tr>\n    <tr>\n      <th>station_id</th>\n      <th></th>\n      <th></th>\n      <th></th>\n      <th></th>\n      <th></th>\n      <th></th>\n      <th></th>\n      <th></th>\n      <th></th>\n      <th></th>\n      <th></th>\n      <th></th>\n      <th></th>\n      <th></th>\n      <th></th>\n      <th></th>\n      <th></th>\n      <th></th>\n      <th></th>\n      <th></th>\n      <th></th>\n    </tr>\n  </thead>\n  <tbody>\n    <tr>\n      <th>99950133</th>\n      <td>1.000000</td>\n      <td>-0.195286</td>\n      <td>0.162100</td>\n      <td>-0.187678</td>\n      <td>0.611541</td>\n      <td>-0.177319</td>\n      <td>-0.334598</td>\n      <td>-0.223679</td>\n      <td>-0.204393</td>\n      <td>0.086788</td>\n      <td>...</td>\n      <td>-0.324523</td>\n      <td>0.025232</td>\n      <td>0.338678</td>\n      <td>-0.044211</td>\n      <td>-0.123873</td>\n      <td>-0.056689</td>\n      <td>-0.194966</td>\n      <td>-0.104690</td>\n      <td>-0.167219</td>\n      <td>0.068436</td>\n    </tr>\n    <tr>\n      <th>516709288</th>\n      <td>-0.195286</td>\n      <td>1.000000</td>\n      <td>0.291150</td>\n      <td>0.396716</td>\n      <td>-0.207196</td>\n      <td>0.525433</td>\n      <td>0.279739</td>\n      <td>0.119680</td>\n      <td>0.242414</td>\n      <td>-0.200245</td>\n      <td>...</td>\n      <td>0.513984</td>\n      <td>-0.140892</td>\n      <td>-0.468952</td>\n      <td>0.248628</td>\n      <td>0.215983</td>\n      <td>0.142942</td>\n      <td>0.520540</td>\n      <td>-0.034888</td>\n      <td>-0.247694</td>\n      <td>0.119396</td>\n    </tr>\n    <tr>\n      <th>36255</th>\n      <td>0.162100</td>\n      <td>0.291150</td>\n      <td>1.000000</td>\n      <td>0.380271</td>\n      <td>0.150598</td>\n      <td>0.287062</td>\n      <td>0.139330</td>\n      <td>0.119667</td>\n      <td>0.216087</td>\n      <td>-0.286006</td>\n      <td>...</td>\n      <td>0.210502</td>\n      <td>-0.261493</td>\n      <td>-0.253723</td>\n      <td>0.046560</td>\n      <td>0.417692</td>\n      <td>0.114634</td>\n      <td>0.354176</td>\n      <td>-0.110283</td>\n      <td>-0.162988</td>\n      <td>0.008763</td>\n    </tr>\n    <tr>\n      <th>37815204</th>\n      <td>-0.187678</td>\n      <td>0.396716</td>\n      <td>0.380271</td>\n      <td>1.000000</td>\n      <td>-0.248167</td>\n      <td>0.507686</td>\n      <td>0.100615</td>\n      <td>0.502248</td>\n      <td>0.444494</td>\n      <td>-0.668032</td>\n      <td>...</td>\n      <td>0.493721</td>\n      <td>-0.462698</td>\n      <td>-0.400822</td>\n      <td>0.226539</td>\n      <td>0.848933</td>\n      <td>0.545498</td>\n      <td>0.717605</td>\n      <td>-0.105114</td>\n      <td>-0.362688</td>\n      <td>0.089050</td>\n    </tr>\n    <tr>\n      <th>100769544</th>\n      <td>0.611541</td>\n      <td>-0.207196</td>\n      <td>0.150598</td>\n      <td>-0.248167</td>\n      <td>1.000000</td>\n      <td>-0.260298</td>\n      <td>-0.302487</td>\n      <td>-0.417616</td>\n      <td>-0.353847</td>\n      <td>0.220972</td>\n      <td>...</td>\n      <td>-0.193849</td>\n      <td>0.201634</td>\n      <td>0.366349</td>\n      <td>-0.259098</td>\n      <td>-0.173361</td>\n      <td>-0.227218</td>\n      <td>-0.337625</td>\n      <td>-0.078619</td>\n      <td>0.183436</td>\n      <td>0.223005</td>\n    </tr>\n    <tr>\n      <th>...</th>\n      <td>...</td>\n      <td>...</td>\n      <td>...</td>\n      <td>...</td>\n      <td>...</td>\n      <td>...</td>\n      <td>...</td>\n      <td>...</td>\n      <td>...</td>\n      <td>...</td>\n      <td>...</td>\n      <td>...</td>\n      <td>...</td>\n      <td>...</td>\n      <td>...</td>\n      <td>...</td>\n      <td>...</td>\n      <td>...</td>\n      <td>...</td>\n      <td>...</td>\n      <td>...</td>\n    </tr>\n    <tr>\n      <th>27415128</th>\n      <td>-0.056689</td>\n      <td>0.142942</td>\n      <td>0.114634</td>\n      <td>0.545498</td>\n      <td>-0.227218</td>\n      <td>0.293360</td>\n      <td>0.209992</td>\n      <td>0.589388</td>\n      <td>0.257704</td>\n      <td>-0.583440</td>\n      <td>...</td>\n      <td>0.353565</td>\n      <td>-0.206648</td>\n      <td>-0.184490</td>\n      <td>0.214370</td>\n      <td>0.462206</td>\n      <td>1.000000</td>\n      <td>0.472193</td>\n      <td>-0.190974</td>\n      <td>-0.294577</td>\n      <td>0.243408</td>\n    </tr>\n    <tr>\n      <th>27414937</th>\n      <td>-0.194966</td>\n      <td>0.520540</td>\n      <td>0.354176</td>\n      <td>0.717605</td>\n      <td>-0.337625</td>\n      <td>0.676606</td>\n      <td>0.310551</td>\n      <td>0.365913</td>\n      <td>0.472470</td>\n      <td>-0.444952</td>\n      <td>...</td>\n      <td>0.549094</td>\n      <td>-0.428744</td>\n      <td>-0.551809</td>\n      <td>0.546129</td>\n      <td>0.642461</td>\n      <td>0.472193</td>\n      <td>1.000000</td>\n      <td>0.020199</td>\n      <td>-0.581496</td>\n      <td>0.024041</td>\n    </tr>\n    <tr>\n      <th>66507230</th>\n      <td>-0.104690</td>\n      <td>-0.034888</td>\n      <td>-0.110283</td>\n      <td>-0.105114</td>\n      <td>-0.078619</td>\n      <td>-0.143085</td>\n      <td>-0.026049</td>\n      <td>-0.146478</td>\n      <td>-0.149499</td>\n      <td>0.263272</td>\n      <td>...</td>\n      <td>-0.013344</td>\n      <td>0.108291</td>\n      <td>0.095784</td>\n      <td>-0.056796</td>\n      <td>-0.166057</td>\n      <td>-0.190974</td>\n      <td>0.020199</td>\n      <td>1.000000</td>\n      <td>0.148406</td>\n      <td>-0.168761</td>\n    </tr>\n    <tr>\n      <th>100227241</th>\n      <td>-0.167219</td>\n      <td>-0.247694</td>\n      <td>-0.162988</td>\n      <td>-0.362688</td>\n      <td>0.183436</td>\n      <td>-0.380905</td>\n      <td>-0.178667</td>\n      <td>-0.135965</td>\n      <td>-0.393200</td>\n      <td>0.167123</td>\n      <td>...</td>\n      <td>-0.248515</td>\n      <td>0.239717</td>\n      <td>0.281107</td>\n      <td>-0.415353</td>\n      <td>-0.308554</td>\n      <td>-0.294577</td>\n      <td>-0.581496</td>\n      <td>0.148406</td>\n      <td>1.000000</td>\n      <td>0.134075</td>\n    </tr>\n    <tr>\n      <th>y</th>\n      <td>0.068436</td>\n      <td>0.119396</td>\n      <td>0.008763</td>\n      <td>0.089050</td>\n      <td>0.223005</td>\n      <td>0.102308</td>\n      <td>-0.032470</td>\n      <td>0.016063</td>\n      <td>-0.165194</td>\n      <td>-0.101876</td>\n      <td>...</td>\n      <td>0.235661</td>\n      <td>0.211848</td>\n      <td>0.065580</td>\n      <td>-0.001845</td>\n      <td>-0.013962</td>\n      <td>0.243408</td>\n      <td>0.024041</td>\n      <td>-0.168761</td>\n      <td>0.134075</td>\n      <td>1.000000</td>\n    </tr>\n  </tbody>\n</table>\n<p>1398 rows × 1398 columns</p>\n</div>"
     },
     "metadata": {},
     "execution_count": 68
    }
   ],
   "source": [
    "heatmap = df.corr()\n",
    "heatmap"
   ]
  },
  {
   "cell_type": "code",
   "execution_count": 72,
   "metadata": {},
   "outputs": [
    {
     "output_type": "execute_result",
     "data": {
      "text/plain": [
       "0.11939606840184183"
      ]
     },
     "metadata": {},
     "execution_count": 72
    }
   ],
   "source": [
    "heatmap['y'][516709288]"
   ]
  },
  {
   "cell_type": "code",
   "execution_count": 75,
   "metadata": {},
   "outputs": [],
   "source": [
    "def choix_stations(df, target, seuil):\n",
    "    \"\"\"\n",
    "    df : dataframe pour le ML\n",
    "    target : variable à prédire (output)\n",
    "    seuil : seuil minimum à partir duquel on accepte une variable dans la modélisation (en valeur absolue)\n",
    "    Fonction qui renvoie la liste des features sélectionnées pour la modélisation\n",
    "    \"\"\"\n",
    "    heatmap = df.corr()\n",
    "    stations_correlees = []\n",
    "    stations_possibles = [i for i in df.columns if i != target]\n",
    "\n",
    "    for i in stations_possibles:\n",
    "        if abs(heatmap[target][i]) > seuil:\n",
    "            stations_correlees.append(i)\n",
    "    return stations_correlees"
   ]
  },
  {
   "cell_type": "code",
   "execution_count": 67,
   "metadata": {},
   "outputs": [
    {
     "output_type": "execute_result",
     "data": {
      "text/plain": [
       "station_id  99950133  516709288  36255  37815204  100769544  85002689  \\\n",
       "0               46.0        1.0    0.0       5.0       42.0       4.0   \n",
       "1               46.0        1.0    0.0       4.0       42.0       4.0   \n",
       "2               47.0        1.0    0.0       2.0       42.0       4.0   \n",
       "3               49.0        2.0    0.0       2.0       41.0       5.0   \n",
       "4               46.0        2.0    2.0       3.0       42.0       4.0   \n",
       "...              ...        ...    ...       ...        ...       ...   \n",
       "4001             9.0        5.0    4.0       7.0       28.0      21.0   \n",
       "4002             8.0        5.0    2.0       7.0       28.0      20.0   \n",
       "4003             8.0        5.0    2.0       7.0       31.0      19.0   \n",
       "4004             8.0        5.0    2.0       8.0       31.0      19.0   \n",
       "4005             8.0        5.0    1.0       8.0       33.0      19.0   \n",
       "\n",
       "station_id  54000559  85043758  123095125  129026597  ...  54000627  15377776  \\\n",
       "0                6.0       4.0        3.0       15.0  ...       4.0       1.0   \n",
       "1                5.0       4.0        4.0       14.0  ...       4.0       1.0   \n",
       "2                6.0       5.0        7.0       12.0  ...       4.0       1.0   \n",
       "3                8.0       2.0        9.0       12.0  ...       5.0       0.0   \n",
       "4                7.0       1.0       10.0        9.0  ...       4.0       0.0   \n",
       "...              ...       ...        ...        ...  ...       ...       ...   \n",
       "4001            18.0       7.0       11.0       19.0  ...      13.0       4.0   \n",
       "4002            18.0       7.0       11.0       19.0  ...      14.0       3.0   \n",
       "4003            19.0       7.0       12.0       19.0  ...      14.0       2.0   \n",
       "4004            19.0       7.0       13.0       19.0  ...      15.0       2.0   \n",
       "4005            19.0       7.0       13.0       19.0  ...      15.0       2.0   \n",
       "\n",
       "station_id  84961467  54000629  27415004  27415128  27414937  66507230  \\\n",
       "0               45.0      19.0       8.0       4.0       3.0      19.0   \n",
       "1               45.0      18.0       8.0       3.0       6.0      19.0   \n",
       "2               46.0      19.0       8.0       2.0       7.0      19.0   \n",
       "3               45.0      19.0       9.0       1.0       7.0      21.0   \n",
       "4               44.0      20.0       7.0       1.0       9.0      21.0   \n",
       "...              ...       ...       ...       ...       ...       ...   \n",
       "4001             5.0      19.0       3.0       2.0      19.0      15.0   \n",
       "4002             5.0      19.0       3.0       2.0      19.0      15.0   \n",
       "4003             6.0      19.0       3.0       2.0      17.0      16.0   \n",
       "4004             6.0      19.0       4.0       2.0      17.0      15.0   \n",
       "4005             3.0      19.0       4.0       2.0      17.0      15.0   \n",
       "\n",
       "station_id  100227241     y  \n",
       "0                24.0   6.0  \n",
       "1                21.0   6.0  \n",
       "2                22.0   5.0  \n",
       "3                21.0   5.0  \n",
       "4                17.0   5.0  \n",
       "...               ...   ...  \n",
       "4001             31.0  12.0  \n",
       "4002             31.0  13.0  \n",
       "4003             29.0  13.0  \n",
       "4004             30.0  13.0  \n",
       "4005             30.0  12.0  \n",
       "\n",
       "[4006 rows x 1398 columns]"
      ],
      "text/html": "<div>\n<style scoped>\n    .dataframe tbody tr th:only-of-type {\n        vertical-align: middle;\n    }\n\n    .dataframe tbody tr th {\n        vertical-align: top;\n    }\n\n    .dataframe thead th {\n        text-align: right;\n    }\n</style>\n<table border=\"1\" class=\"dataframe\">\n  <thead>\n    <tr style=\"text-align: right;\">\n      <th>station_id</th>\n      <th>99950133</th>\n      <th>516709288</th>\n      <th>36255</th>\n      <th>37815204</th>\n      <th>100769544</th>\n      <th>85002689</th>\n      <th>54000559</th>\n      <th>85043758</th>\n      <th>123095125</th>\n      <th>129026597</th>\n      <th>...</th>\n      <th>54000627</th>\n      <th>15377776</th>\n      <th>84961467</th>\n      <th>54000629</th>\n      <th>27415004</th>\n      <th>27415128</th>\n      <th>27414937</th>\n      <th>66507230</th>\n      <th>100227241</th>\n      <th>y</th>\n    </tr>\n  </thead>\n  <tbody>\n    <tr>\n      <th>0</th>\n      <td>46.0</td>\n      <td>1.0</td>\n      <td>0.0</td>\n      <td>5.0</td>\n      <td>42.0</td>\n      <td>4.0</td>\n      <td>6.0</td>\n      <td>4.0</td>\n      <td>3.0</td>\n      <td>15.0</td>\n      <td>...</td>\n      <td>4.0</td>\n      <td>1.0</td>\n      <td>45.0</td>\n      <td>19.0</td>\n      <td>8.0</td>\n      <td>4.0</td>\n      <td>3.0</td>\n      <td>19.0</td>\n      <td>24.0</td>\n      <td>6.0</td>\n    </tr>\n    <tr>\n      <th>1</th>\n      <td>46.0</td>\n      <td>1.0</td>\n      <td>0.0</td>\n      <td>4.0</td>\n      <td>42.0</td>\n      <td>4.0</td>\n      <td>5.0</td>\n      <td>4.0</td>\n      <td>4.0</td>\n      <td>14.0</td>\n      <td>...</td>\n      <td>4.0</td>\n      <td>1.0</td>\n      <td>45.0</td>\n      <td>18.0</td>\n      <td>8.0</td>\n      <td>3.0</td>\n      <td>6.0</td>\n      <td>19.0</td>\n      <td>21.0</td>\n      <td>6.0</td>\n    </tr>\n    <tr>\n      <th>2</th>\n      <td>47.0</td>\n      <td>1.0</td>\n      <td>0.0</td>\n      <td>2.0</td>\n      <td>42.0</td>\n      <td>4.0</td>\n      <td>6.0</td>\n      <td>5.0</td>\n      <td>7.0</td>\n      <td>12.0</td>\n      <td>...</td>\n      <td>4.0</td>\n      <td>1.0</td>\n      <td>46.0</td>\n      <td>19.0</td>\n      <td>8.0</td>\n      <td>2.0</td>\n      <td>7.0</td>\n      <td>19.0</td>\n      <td>22.0</td>\n      <td>5.0</td>\n    </tr>\n    <tr>\n      <th>3</th>\n      <td>49.0</td>\n      <td>2.0</td>\n      <td>0.0</td>\n      <td>2.0</td>\n      <td>41.0</td>\n      <td>5.0</td>\n      <td>8.0</td>\n      <td>2.0</td>\n      <td>9.0</td>\n      <td>12.0</td>\n      <td>...</td>\n      <td>5.0</td>\n      <td>0.0</td>\n      <td>45.0</td>\n      <td>19.0</td>\n      <td>9.0</td>\n      <td>1.0</td>\n      <td>7.0</td>\n      <td>21.0</td>\n      <td>21.0</td>\n      <td>5.0</td>\n    </tr>\n    <tr>\n      <th>4</th>\n      <td>46.0</td>\n      <td>2.0</td>\n      <td>2.0</td>\n      <td>3.0</td>\n      <td>42.0</td>\n      <td>4.0</td>\n      <td>7.0</td>\n      <td>1.0</td>\n      <td>10.0</td>\n      <td>9.0</td>\n      <td>...</td>\n      <td>4.0</td>\n      <td>0.0</td>\n      <td>44.0</td>\n      <td>20.0</td>\n      <td>7.0</td>\n      <td>1.0</td>\n      <td>9.0</td>\n      <td>21.0</td>\n      <td>17.0</td>\n      <td>5.0</td>\n    </tr>\n    <tr>\n      <th>...</th>\n      <td>...</td>\n      <td>...</td>\n      <td>...</td>\n      <td>...</td>\n      <td>...</td>\n      <td>...</td>\n      <td>...</td>\n      <td>...</td>\n      <td>...</td>\n      <td>...</td>\n      <td>...</td>\n      <td>...</td>\n      <td>...</td>\n      <td>...</td>\n      <td>...</td>\n      <td>...</td>\n      <td>...</td>\n      <td>...</td>\n      <td>...</td>\n      <td>...</td>\n      <td>...</td>\n    </tr>\n    <tr>\n      <th>4001</th>\n      <td>9.0</td>\n      <td>5.0</td>\n      <td>4.0</td>\n      <td>7.0</td>\n      <td>28.0</td>\n      <td>21.0</td>\n      <td>18.0</td>\n      <td>7.0</td>\n      <td>11.0</td>\n      <td>19.0</td>\n      <td>...</td>\n      <td>13.0</td>\n      <td>4.0</td>\n      <td>5.0</td>\n      <td>19.0</td>\n      <td>3.0</td>\n      <td>2.0</td>\n      <td>19.0</td>\n      <td>15.0</td>\n      <td>31.0</td>\n      <td>12.0</td>\n    </tr>\n    <tr>\n      <th>4002</th>\n      <td>8.0</td>\n      <td>5.0</td>\n      <td>2.0</td>\n      <td>7.0</td>\n      <td>28.0</td>\n      <td>20.0</td>\n      <td>18.0</td>\n      <td>7.0</td>\n      <td>11.0</td>\n      <td>19.0</td>\n      <td>...</td>\n      <td>14.0</td>\n      <td>3.0</td>\n      <td>5.0</td>\n      <td>19.0</td>\n      <td>3.0</td>\n      <td>2.0</td>\n      <td>19.0</td>\n      <td>15.0</td>\n      <td>31.0</td>\n      <td>13.0</td>\n    </tr>\n    <tr>\n      <th>4003</th>\n      <td>8.0</td>\n      <td>5.0</td>\n      <td>2.0</td>\n      <td>7.0</td>\n      <td>31.0</td>\n      <td>19.0</td>\n      <td>19.0</td>\n      <td>7.0</td>\n      <td>12.0</td>\n      <td>19.0</td>\n      <td>...</td>\n      <td>14.0</td>\n      <td>2.0</td>\n      <td>6.0</td>\n      <td>19.0</td>\n      <td>3.0</td>\n      <td>2.0</td>\n      <td>17.0</td>\n      <td>16.0</td>\n      <td>29.0</td>\n      <td>13.0</td>\n    </tr>\n    <tr>\n      <th>4004</th>\n      <td>8.0</td>\n      <td>5.0</td>\n      <td>2.0</td>\n      <td>8.0</td>\n      <td>31.0</td>\n      <td>19.0</td>\n      <td>19.0</td>\n      <td>7.0</td>\n      <td>13.0</td>\n      <td>19.0</td>\n      <td>...</td>\n      <td>15.0</td>\n      <td>2.0</td>\n      <td>6.0</td>\n      <td>19.0</td>\n      <td>4.0</td>\n      <td>2.0</td>\n      <td>17.0</td>\n      <td>15.0</td>\n      <td>30.0</td>\n      <td>13.0</td>\n    </tr>\n    <tr>\n      <th>4005</th>\n      <td>8.0</td>\n      <td>5.0</td>\n      <td>1.0</td>\n      <td>8.0</td>\n      <td>33.0</td>\n      <td>19.0</td>\n      <td>19.0</td>\n      <td>7.0</td>\n      <td>13.0</td>\n      <td>19.0</td>\n      <td>...</td>\n      <td>15.0</td>\n      <td>2.0</td>\n      <td>3.0</td>\n      <td>19.0</td>\n      <td>4.0</td>\n      <td>2.0</td>\n      <td>17.0</td>\n      <td>15.0</td>\n      <td>30.0</td>\n      <td>12.0</td>\n    </tr>\n  </tbody>\n</table>\n<p>4006 rows × 1398 columns</p>\n</div>"
     },
     "metadata": {},
     "execution_count": 67
    }
   ],
   "source": [
    "df"
   ]
  },
  {
   "cell_type": "code",
   "execution_count": 79,
   "metadata": {},
   "outputs": [
    {
     "output_type": "execute_result",
     "data": {
      "text/plain": [
       "[213688824, 977206088, 54000545, 213682190]"
      ]
     },
     "metadata": {},
     "execution_count": 79
    }
   ],
   "source": [
    "# On l'applique à notre jeu de données\n",
    "stations_correlees = choix_stations(df,'y',0.5)\n",
    "stations_correlees"
   ]
  },
  {
   "cell_type": "code",
   "execution_count": 80,
   "metadata": {},
   "outputs": [
    {
     "output_type": "execute_result",
     "data": {
      "text/plain": [
       "4"
      ]
     },
     "metadata": {},
     "execution_count": 80
    }
   ],
   "source": [
    "len(stations_correlees)"
   ]
  },
  {
   "source": [
    "### Machine Learning avec des stations corrélées"
   ],
   "cell_type": "markdown",
   "metadata": {}
  },
  {
   "cell_type": "code",
   "execution_count": 86,
   "metadata": {},
   "outputs": [],
   "source": [
    "X = df.loc[:,stations_correlees]\n",
    "Y = df.loc[:,'y']"
   ]
  },
  {
   "cell_type": "code",
   "execution_count": 87,
   "metadata": {},
   "outputs": [
    {
     "output_type": "stream",
     "name": "stdout",
     "text": [
      "Le MAE du modèle est 1.696 avec la régression linéaire\n"
     ]
    }
   ],
   "source": [
    "#Régression linéaire \n",
    "\n",
    "X_train, X_test, y_train, y_test = train_test_split(X, Y, test_size=0.3)\n",
    "\n",
    "regressor = LinearRegression()\n",
    "regressor.fit(X_train, y_train)\n",
    "y_prediction = regressor.predict(X_test)\n",
    "\n",
    "print(\"Le MAE du modèle est \"+str(round(mean_absolute_error(y_test, y_prediction),3))+\" avec la régression linéaire\")"
   ]
  },
  {
   "cell_type": "code",
   "execution_count": 88,
   "metadata": {},
   "outputs": [
    {
     "output_type": "stream",
     "name": "stdout",
     "text": [
      "Le MAE du modèle est 0.579 avec random forest\n"
     ]
    }
   ],
   "source": [
    "# Random Forest\n",
    "\n",
    "X_train, X_test, y_train, y_test = train_test_split(X, Y, test_size=0.3)\n",
    "regressor = RandomForestRegressor()\n",
    "regressor.fit(X_train, y_train)\n",
    "y_prediction = regressor.predict(X_test)\n",
    "\n",
    "print(\"Le MAE du modèle est \"+str(round(mean_absolute_error(y_test, y_prediction),3))+\" avec random forest\")"
   ]
  },
  {
   "cell_type": "code",
   "execution_count": 89,
   "metadata": {},
   "outputs": [
    {
     "output_type": "stream",
     "name": "stdout",
     "text": [
      "Le MAE du modèle est 1.421 avec régression logistique\n"
     ]
    }
   ],
   "source": [
    "# Régression logistique ?\n",
    "\n",
    "Y=Y.astype('int')\n",
    "X_train, X_test, y_train, y_test = train_test_split(X, Y, test_size=0.3)\n",
    "\n",
    "regressor = LogisticRegression(penalty='none',solver='newton-cg')\n",
    "regressor.fit(X_train, y_train)\n",
    "y_prediction = regressor.predict(X_test)\n",
    "\n",
    "print(\"Le MAE du modèle est \"+str(round(mean_absolute_error(y_test, y_prediction),3))+\" avec régression logistique\")"
   ]
  },
  {
   "source": [
    "# Test râté\n",
    "\n",
    "### On entraine sur toutes nos données depuis le 20 octobre 2020 jusqu'au 1er novembre 2020 pour prédire le nombre de vélos dans une station aléatoire à chaque instant"
   ],
   "cell_type": "markdown",
   "metadata": {}
  },
  {
   "cell_type": "code",
   "execution_count": 39,
   "metadata": {},
   "outputs": [
    {
     "output_type": "execute_result",
     "data": {
      "text/plain": [
       "   station_id               10/19/20;18:01:51               10/19/20;18:06:52  \\\n",
       "0   213688169   {'mechanical': 0, 'ebike': 2}   {'mechanical': 0, 'ebike': 2}   \n",
       "1    99950133  {'mechanical': 41, 'ebike': 5}  {'mechanical': 41, 'ebike': 5}   \n",
       "2   516709288   {'mechanical': 0, 'ebike': 1}   {'mechanical': 0, 'ebike': 1}   \n",
       "3       36255   {'mechanical': 0, 'ebike': 0}   {'mechanical': 0, 'ebike': 0}   \n",
       "4    37815204   {'mechanical': 4, 'ebike': 1}   {'mechanical': 3, 'ebike': 1}   \n",
       "\n",
       "                10/19/20;18:11:52               10/19/20;18:16:52  \\\n",
       "0   {'mechanical': 0, 'ebike': 2}   {'mechanical': 0, 'ebike': 3}   \n",
       "1  {'mechanical': 42, 'ebike': 5}  {'mechanical': 42, 'ebike': 7}   \n",
       "2   {'mechanical': 0, 'ebike': 1}   {'mechanical': 1, 'ebike': 1}   \n",
       "3   {'mechanical': 0, 'ebike': 0}   {'mechanical': 0, 'ebike': 0}   \n",
       "4   {'mechanical': 1, 'ebike': 1}   {'mechanical': 1, 'ebike': 1}   \n",
       "\n",
       "                10/19/20;18:21:52               10/19/20;18:26:53  \\\n",
       "0   {'mechanical': 0, 'ebike': 3}   {'mechanical': 1, 'ebike': 2}   \n",
       "1  {'mechanical': 41, 'ebike': 5}  {'mechanical': 40, 'ebike': 4}   \n",
       "2   {'mechanical': 1, 'ebike': 1}   {'mechanical': 1, 'ebike': 1}   \n",
       "3   {'mechanical': 0, 'ebike': 2}   {'mechanical': 0, 'ebike': 4}   \n",
       "4   {'mechanical': 2, 'ebike': 1}   {'mechanical': 3, 'ebike': 1}   \n",
       "\n",
       "                10/19/20;18:31:53               10/19/20;18:36:53  \\\n",
       "0   {'mechanical': 0, 'ebike': 1}   {'mechanical': 0, 'ebike': 1}   \n",
       "1  {'mechanical': 38, 'ebike': 5}  {'mechanical': 39, 'ebike': 4}   \n",
       "2   {'mechanical': 2, 'ebike': 1}   {'mechanical': 0, 'ebike': 1}   \n",
       "3   {'mechanical': 0, 'ebike': 4}   {'mechanical': 0, 'ebike': 4}   \n",
       "4   {'mechanical': 3, 'ebike': 2}   {'mechanical': 2, 'ebike': 0}   \n",
       "\n",
       "                10/19/20;18:41:54  ...              11/03/20;16:01:46  \\\n",
       "0   {'mechanical': 0, 'ebike': 1}  ...  {'mechanical': 4, 'ebike': 6}   \n",
       "1  {'mechanical': 40, 'ebike': 5}  ...  {'mechanical': 2, 'ebike': 0}   \n",
       "2   {'mechanical': 0, 'ebike': 1}  ...  {'mechanical': 1, 'ebike': 2}   \n",
       "3   {'mechanical': 1, 'ebike': 3}  ...  {'mechanical': 0, 'ebike': 3}   \n",
       "4   {'mechanical': 2, 'ebike': 0}  ...  {'mechanical': 6, 'ebike': 0}   \n",
       "\n",
       "               11/03/20;16:06:47              11/03/20;16:11:47  \\\n",
       "0  {'mechanical': 4, 'ebike': 6}  {'mechanical': 3, 'ebike': 6}   \n",
       "1  {'mechanical': 2, 'ebike': 0}  {'mechanical': 2, 'ebike': 0}   \n",
       "2  {'mechanical': 1, 'ebike': 2}  {'mechanical': 1, 'ebike': 2}   \n",
       "3  {'mechanical': 0, 'ebike': 3}  {'mechanical': 0, 'ebike': 3}   \n",
       "4  {'mechanical': 7, 'ebike': 0}  {'mechanical': 7, 'ebike': 0}   \n",
       "\n",
       "               11/03/20;16:16:47              11/03/20;16:21:48  \\\n",
       "0  {'mechanical': 4, 'ebike': 7}  {'mechanical': 5, 'ebike': 7}   \n",
       "1  {'mechanical': 2, 'ebike': 1}  {'mechanical': 2, 'ebike': 1}   \n",
       "2  {'mechanical': 1, 'ebike': 2}  {'mechanical': 1, 'ebike': 2}   \n",
       "3  {'mechanical': 0, 'ebike': 3}  {'mechanical': 0, 'ebike': 2}   \n",
       "4  {'mechanical': 7, 'ebike': 1}  {'mechanical': 7, 'ebike': 1}   \n",
       "\n",
       "               11/03/20;16:26:48              11/03/20;16:31:48  \\\n",
       "0  {'mechanical': 5, 'ebike': 7}  {'mechanical': 5, 'ebike': 8}   \n",
       "1  {'mechanical': 2, 'ebike': 0}  {'mechanical': 2, 'ebike': 0}   \n",
       "2  {'mechanical': 1, 'ebike': 3}  {'mechanical': 1, 'ebike': 2}   \n",
       "3  {'mechanical': 0, 'ebike': 2}  {'mechanical': 0, 'ebike': 3}   \n",
       "4  {'mechanical': 8, 'ebike': 1}  {'mechanical': 9, 'ebike': 0}   \n",
       "\n",
       "                11/03/20;16:36:49              11/03/20;16:41:49  \\\n",
       "0   {'mechanical': 5, 'ebike': 8}  {'mechanical': 5, 'ebike': 8}   \n",
       "1   {'mechanical': 2, 'ebike': 0}  {'mechanical': 2, 'ebike': 0}   \n",
       "2   {'mechanical': 1, 'ebike': 3}  {'mechanical': 1, 'ebike': 3}   \n",
       "3   {'mechanical': 0, 'ebike': 3}  {'mechanical': 0, 'ebike': 3}   \n",
       "4  {'mechanical': 10, 'ebike': 0}  {'mechanical': 9, 'ebike': 0}   \n",
       "\n",
       "               11/03/20;16:46:49  \n",
       "0  {'mechanical': 5, 'ebike': 7}  \n",
       "1  {'mechanical': 2, 'ebike': 0}  \n",
       "2  {'mechanical': 1, 'ebike': 3}  \n",
       "3  {'mechanical': 0, 'ebike': 2}  \n",
       "4  {'mechanical': 9, 'ebike': 0}  \n",
       "\n",
       "[5 rows x 4295 columns]"
      ],
      "text/html": "<div>\n<style scoped>\n    .dataframe tbody tr th:only-of-type {\n        vertical-align: middle;\n    }\n\n    .dataframe tbody tr th {\n        vertical-align: top;\n    }\n\n    .dataframe thead th {\n        text-align: right;\n    }\n</style>\n<table border=\"1\" class=\"dataframe\">\n  <thead>\n    <tr style=\"text-align: right;\">\n      <th></th>\n      <th>station_id</th>\n      <th>10/19/20;18:01:51</th>\n      <th>10/19/20;18:06:52</th>\n      <th>10/19/20;18:11:52</th>\n      <th>10/19/20;18:16:52</th>\n      <th>10/19/20;18:21:52</th>\n      <th>10/19/20;18:26:53</th>\n      <th>10/19/20;18:31:53</th>\n      <th>10/19/20;18:36:53</th>\n      <th>10/19/20;18:41:54</th>\n      <th>...</th>\n      <th>11/03/20;16:01:46</th>\n      <th>11/03/20;16:06:47</th>\n      <th>11/03/20;16:11:47</th>\n      <th>11/03/20;16:16:47</th>\n      <th>11/03/20;16:21:48</th>\n      <th>11/03/20;16:26:48</th>\n      <th>11/03/20;16:31:48</th>\n      <th>11/03/20;16:36:49</th>\n      <th>11/03/20;16:41:49</th>\n      <th>11/03/20;16:46:49</th>\n    </tr>\n  </thead>\n  <tbody>\n    <tr>\n      <th>0</th>\n      <td>213688169</td>\n      <td>{'mechanical': 0, 'ebike': 2}</td>\n      <td>{'mechanical': 0, 'ebike': 2}</td>\n      <td>{'mechanical': 0, 'ebike': 2}</td>\n      <td>{'mechanical': 0, 'ebike': 3}</td>\n      <td>{'mechanical': 0, 'ebike': 3}</td>\n      <td>{'mechanical': 1, 'ebike': 2}</td>\n      <td>{'mechanical': 0, 'ebike': 1}</td>\n      <td>{'mechanical': 0, 'ebike': 1}</td>\n      <td>{'mechanical': 0, 'ebike': 1}</td>\n      <td>...</td>\n      <td>{'mechanical': 4, 'ebike': 6}</td>\n      <td>{'mechanical': 4, 'ebike': 6}</td>\n      <td>{'mechanical': 3, 'ebike': 6}</td>\n      <td>{'mechanical': 4, 'ebike': 7}</td>\n      <td>{'mechanical': 5, 'ebike': 7}</td>\n      <td>{'mechanical': 5, 'ebike': 7}</td>\n      <td>{'mechanical': 5, 'ebike': 8}</td>\n      <td>{'mechanical': 5, 'ebike': 8}</td>\n      <td>{'mechanical': 5, 'ebike': 8}</td>\n      <td>{'mechanical': 5, 'ebike': 7}</td>\n    </tr>\n    <tr>\n      <th>1</th>\n      <td>99950133</td>\n      <td>{'mechanical': 41, 'ebike': 5}</td>\n      <td>{'mechanical': 41, 'ebike': 5}</td>\n      <td>{'mechanical': 42, 'ebike': 5}</td>\n      <td>{'mechanical': 42, 'ebike': 7}</td>\n      <td>{'mechanical': 41, 'ebike': 5}</td>\n      <td>{'mechanical': 40, 'ebike': 4}</td>\n      <td>{'mechanical': 38, 'ebike': 5}</td>\n      <td>{'mechanical': 39, 'ebike': 4}</td>\n      <td>{'mechanical': 40, 'ebike': 5}</td>\n      <td>...</td>\n      <td>{'mechanical': 2, 'ebike': 0}</td>\n      <td>{'mechanical': 2, 'ebike': 0}</td>\n      <td>{'mechanical': 2, 'ebike': 0}</td>\n      <td>{'mechanical': 2, 'ebike': 1}</td>\n      <td>{'mechanical': 2, 'ebike': 1}</td>\n      <td>{'mechanical': 2, 'ebike': 0}</td>\n      <td>{'mechanical': 2, 'ebike': 0}</td>\n      <td>{'mechanical': 2, 'ebike': 0}</td>\n      <td>{'mechanical': 2, 'ebike': 0}</td>\n      <td>{'mechanical': 2, 'ebike': 0}</td>\n    </tr>\n    <tr>\n      <th>2</th>\n      <td>516709288</td>\n      <td>{'mechanical': 0, 'ebike': 1}</td>\n      <td>{'mechanical': 0, 'ebike': 1}</td>\n      <td>{'mechanical': 0, 'ebike': 1}</td>\n      <td>{'mechanical': 1, 'ebike': 1}</td>\n      <td>{'mechanical': 1, 'ebike': 1}</td>\n      <td>{'mechanical': 1, 'ebike': 1}</td>\n      <td>{'mechanical': 2, 'ebike': 1}</td>\n      <td>{'mechanical': 0, 'ebike': 1}</td>\n      <td>{'mechanical': 0, 'ebike': 1}</td>\n      <td>...</td>\n      <td>{'mechanical': 1, 'ebike': 2}</td>\n      <td>{'mechanical': 1, 'ebike': 2}</td>\n      <td>{'mechanical': 1, 'ebike': 2}</td>\n      <td>{'mechanical': 1, 'ebike': 2}</td>\n      <td>{'mechanical': 1, 'ebike': 2}</td>\n      <td>{'mechanical': 1, 'ebike': 3}</td>\n      <td>{'mechanical': 1, 'ebike': 2}</td>\n      <td>{'mechanical': 1, 'ebike': 3}</td>\n      <td>{'mechanical': 1, 'ebike': 3}</td>\n      <td>{'mechanical': 1, 'ebike': 3}</td>\n    </tr>\n    <tr>\n      <th>3</th>\n      <td>36255</td>\n      <td>{'mechanical': 0, 'ebike': 0}</td>\n      <td>{'mechanical': 0, 'ebike': 0}</td>\n      <td>{'mechanical': 0, 'ebike': 0}</td>\n      <td>{'mechanical': 0, 'ebike': 0}</td>\n      <td>{'mechanical': 0, 'ebike': 2}</td>\n      <td>{'mechanical': 0, 'ebike': 4}</td>\n      <td>{'mechanical': 0, 'ebike': 4}</td>\n      <td>{'mechanical': 0, 'ebike': 4}</td>\n      <td>{'mechanical': 1, 'ebike': 3}</td>\n      <td>...</td>\n      <td>{'mechanical': 0, 'ebike': 3}</td>\n      <td>{'mechanical': 0, 'ebike': 3}</td>\n      <td>{'mechanical': 0, 'ebike': 3}</td>\n      <td>{'mechanical': 0, 'ebike': 3}</td>\n      <td>{'mechanical': 0, 'ebike': 2}</td>\n      <td>{'mechanical': 0, 'ebike': 2}</td>\n      <td>{'mechanical': 0, 'ebike': 3}</td>\n      <td>{'mechanical': 0, 'ebike': 3}</td>\n      <td>{'mechanical': 0, 'ebike': 3}</td>\n      <td>{'mechanical': 0, 'ebike': 2}</td>\n    </tr>\n    <tr>\n      <th>4</th>\n      <td>37815204</td>\n      <td>{'mechanical': 4, 'ebike': 1}</td>\n      <td>{'mechanical': 3, 'ebike': 1}</td>\n      <td>{'mechanical': 1, 'ebike': 1}</td>\n      <td>{'mechanical': 1, 'ebike': 1}</td>\n      <td>{'mechanical': 2, 'ebike': 1}</td>\n      <td>{'mechanical': 3, 'ebike': 1}</td>\n      <td>{'mechanical': 3, 'ebike': 2}</td>\n      <td>{'mechanical': 2, 'ebike': 0}</td>\n      <td>{'mechanical': 2, 'ebike': 0}</td>\n      <td>...</td>\n      <td>{'mechanical': 6, 'ebike': 0}</td>\n      <td>{'mechanical': 7, 'ebike': 0}</td>\n      <td>{'mechanical': 7, 'ebike': 0}</td>\n      <td>{'mechanical': 7, 'ebike': 1}</td>\n      <td>{'mechanical': 7, 'ebike': 1}</td>\n      <td>{'mechanical': 8, 'ebike': 1}</td>\n      <td>{'mechanical': 9, 'ebike': 0}</td>\n      <td>{'mechanical': 10, 'ebike': 0}</td>\n      <td>{'mechanical': 9, 'ebike': 0}</td>\n      <td>{'mechanical': 9, 'ebike': 0}</td>\n    </tr>\n  </tbody>\n</table>\n<p>5 rows × 4295 columns</p>\n</div>"
     },
     "metadata": {},
     "execution_count": 39
    }
   ],
   "source": [
    "velib = pd.read_csv(\"velib_clean.csv\")\n",
    "velib.head()"
   ]
  },
  {
   "source": [
    "### Préprocessing des données"
   ],
   "cell_type": "markdown",
   "metadata": {}
  },
  {
   "cell_type": "code",
   "execution_count": 40,
   "metadata": {},
   "outputs": [],
   "source": [
    "# Création d'une fonction pour convertir le format des données en un dictionnaire.\n",
    "def to_dictionary(jour):\n",
    "    \"\"\"transformer le format en dico\"\"\"\n",
    "    try :\n",
    "        dictionary = eval(jour)\n",
    "    except:\n",
    "        dictionary = {'mechanical': 0, 'ebike': 0}\n",
    "    \n",
    "    return dictionary\n",
    "\n",
    "# Mise en forme du dataframe velib en mettant le nombre de vélos dans un dictionnaire\n",
    "col_vide='[{}, {}]'\n",
    "colonnes_vides=[]\n",
    "for j in velib.columns:\n",
    "    if velib[j][0]==col_vide:\n",
    "        print(j)\n",
    "        colonnes_vides.append(j)\n",
    "velib=velib.drop(colonnes_vides,axis=1)\n",
    "\n",
    "# On applique la fonction pour convertir en dictionnaire\n",
    "longueur_du_dataframe = len(velib.iloc[1])\n",
    "for i,j in enumerate(velib.columns[1:]):\n",
    "    velib[j] = [to_dictionary(i) for i in velib[j]]\n",
    "\n",
    "# On copie le dataframe pour l'utiliser ensuite\n",
    "tous_les_velibs = velib.copy()"
   ]
  },
  {
   "source": [
    "On isole les colonnes qui nous intéressent"
   ],
   "cell_type": "markdown",
   "metadata": {}
  },
  {
   "cell_type": "code",
   "execution_count": 101,
   "metadata": {},
   "outputs": [],
   "source": [
    "colonnes_toutes_les_dates = [] # Colonnes correspondant à chaque instant jusqu'à la veille de la journée cible\n",
    "colonnes_derniere_date = ['station_id'] # Colonnes correspondant à la journée cible\n",
    "date1 = \"10/19/20\"\n",
    "date_target = \"11/02/20\"\n",
    "date3 = \"11/03/20\"\n",
    "\n",
    "for i in tous_les_velibs:\n",
    "    if (date1 not in i) and (date_target not in i) and (date3 not in i):\n",
    "        colonnes_toutes_les_dates.append(i)\n",
    "    if (date_target in i):\n",
    "        colonnes_derniere_date.append(i)"
   ]
  },
  {
   "cell_type": "code",
   "execution_count": 108,
   "metadata": {},
   "outputs": [
    {
     "output_type": "execute_result",
     "data": {
      "text/plain": [
       "3736"
      ]
     },
     "metadata": {},
     "execution_count": 108
    }
   ],
   "source": [
    "# Vérification\n",
    "len(colonnes_toutes_les_dates)"
   ]
  },
  {
   "source": [
    "On a cette fois 3736 lignes qui correspondent à autant d'intervalles de 5 minutes"
   ],
   "cell_type": "markdown",
   "metadata": {}
  },
  {
   "cell_type": "code",
   "execution_count": 107,
   "metadata": {},
   "outputs": [
    {
     "output_type": "execute_result",
     "data": {
      "text/plain": [
       "287"
      ]
     },
     "metadata": {},
     "execution_count": 107
    }
   ],
   "source": [
    "# Vérification\n",
    "len(colonnes_derniere_date)"
   ]
  },
  {
   "source": [
    "On utilise des dataframes pour les dates qui nous intéressent"
   ],
   "cell_type": "markdown",
   "metadata": {}
  },
  {
   "cell_type": "code",
   "execution_count": 126,
   "metadata": {},
   "outputs": [],
   "source": [
    "df_t1 = velib[colonnes_toutes_les_dates].set_index('station_id').transpose()\n",
    "df_t2 = velib[colonnes_derniere_date].set_index('station_id').transpose()"
   ]
  },
  {
   "source": [
    "On s'intéresse ensuite au nombre total de vélos par station"
   ],
   "cell_type": "markdown",
   "metadata": {}
  },
  {
   "cell_type": "code",
   "execution_count": 127,
   "metadata": {},
   "outputs": [],
   "source": [
    "def count_bikes(df):\n",
    "    for station in df:\n",
    "        for i in range(len(df)):\n",
    "            # On parcourt les lignes et on ne garde que le nombre total de vélibs à l'heure souhaitée\n",
    "            df[station][i] = df[station][i]['mechanical'] + df[station][i]['ebike']"
   ]
  },
  {
   "cell_type": "code",
   "execution_count": 128,
   "metadata": {},
   "outputs": [],
   "source": [
    "count_bikes(df_t1)\n",
    "count_bikes(df_t2)"
   ]
  },
  {
   "cell_type": "code",
   "execution_count": 132,
   "metadata": {},
   "outputs": [
    {
     "output_type": "execute_result",
     "data": {
      "text/plain": [
       "station_id  level_0 213688169 99950133 516709288 36255 37815204 100769544  \\\n",
       "0                 0         3       52         9    10       24        23   \n",
       "1                 1         3       52         9    10       24        23   \n",
       "2                 2         3       52         9    10       24        23   \n",
       "3                 3         3       52         9    10       24        23   \n",
       "4                 4         3       52         9    10       24        23   \n",
       "...             ...       ...      ...       ...   ...      ...       ...   \n",
       "3730           3730         8       30        12     2       16        28   \n",
       "3731           3731         8       30        12     2       16        28   \n",
       "3732           3732         8       30        12     2       16        28   \n",
       "3733           3733         8       30        12     2       16        28   \n",
       "3734           3734         8       30        12     2       16        28   \n",
       "\n",
       "station_id 85002689 54000559 85043758  ... 125881065 54000627 15377776  \\\n",
       "0                31        7       14  ...         8       13        0   \n",
       "1                31        7       14  ...         8       13        0   \n",
       "2                31        7       14  ...         8       13        0   \n",
       "3                31        7       14  ...         8       13        0   \n",
       "4                31        7       14  ...         8       13        0   \n",
       "...             ...      ...      ...  ...       ...      ...      ...   \n",
       "3730             28       13        8  ...         5       19        4   \n",
       "3731             28       13        8  ...         5       19        4   \n",
       "3732             28       13        8  ...         5       19        4   \n",
       "3733             28       13        8  ...         5       19        4   \n",
       "3734             28       13        8  ...         5       19        4   \n",
       "\n",
       "station_id 84961467 54000629 27415004 27415128 27414937 66507230 100227241  \n",
       "0                18       19       33       16       35       12         7  \n",
       "1                18       19       33       16       35       12         7  \n",
       "2                18       19       33       16       35       12         7  \n",
       "3                18       19       33       16       35       12         7  \n",
       "4                18       19       33       16       35       12         7  \n",
       "...             ...      ...      ...      ...      ...      ...       ...  \n",
       "3730             24       15       13       12       19       12        15  \n",
       "3731             24       15       13       12       19       12        14  \n",
       "3732             24       15       13       12       19       12        14  \n",
       "3733             24       15       13       12       18       12        14  \n",
       "3734             24       15       13       12       18       12        14  \n",
       "\n",
       "[3735 rows x 1399 columns]"
      ],
      "text/html": "<div>\n<style scoped>\n    .dataframe tbody tr th:only-of-type {\n        vertical-align: middle;\n    }\n\n    .dataframe tbody tr th {\n        vertical-align: top;\n    }\n\n    .dataframe thead th {\n        text-align: right;\n    }\n</style>\n<table border=\"1\" class=\"dataframe\">\n  <thead>\n    <tr style=\"text-align: right;\">\n      <th>station_id</th>\n      <th>level_0</th>\n      <th>213688169</th>\n      <th>99950133</th>\n      <th>516709288</th>\n      <th>36255</th>\n      <th>37815204</th>\n      <th>100769544</th>\n      <th>85002689</th>\n      <th>54000559</th>\n      <th>85043758</th>\n      <th>...</th>\n      <th>125881065</th>\n      <th>54000627</th>\n      <th>15377776</th>\n      <th>84961467</th>\n      <th>54000629</th>\n      <th>27415004</th>\n      <th>27415128</th>\n      <th>27414937</th>\n      <th>66507230</th>\n      <th>100227241</th>\n    </tr>\n  </thead>\n  <tbody>\n    <tr>\n      <th>0</th>\n      <td>0</td>\n      <td>3</td>\n      <td>52</td>\n      <td>9</td>\n      <td>10</td>\n      <td>24</td>\n      <td>23</td>\n      <td>31</td>\n      <td>7</td>\n      <td>14</td>\n      <td>...</td>\n      <td>8</td>\n      <td>13</td>\n      <td>0</td>\n      <td>18</td>\n      <td>19</td>\n      <td>33</td>\n      <td>16</td>\n      <td>35</td>\n      <td>12</td>\n      <td>7</td>\n    </tr>\n    <tr>\n      <th>1</th>\n      <td>1</td>\n      <td>3</td>\n      <td>52</td>\n      <td>9</td>\n      <td>10</td>\n      <td>24</td>\n      <td>23</td>\n      <td>31</td>\n      <td>7</td>\n      <td>14</td>\n      <td>...</td>\n      <td>8</td>\n      <td>13</td>\n      <td>0</td>\n      <td>18</td>\n      <td>19</td>\n      <td>33</td>\n      <td>16</td>\n      <td>35</td>\n      <td>12</td>\n      <td>7</td>\n    </tr>\n    <tr>\n      <th>2</th>\n      <td>2</td>\n      <td>3</td>\n      <td>52</td>\n      <td>9</td>\n      <td>10</td>\n      <td>24</td>\n      <td>23</td>\n      <td>31</td>\n      <td>7</td>\n      <td>14</td>\n      <td>...</td>\n      <td>8</td>\n      <td>13</td>\n      <td>0</td>\n      <td>18</td>\n      <td>19</td>\n      <td>33</td>\n      <td>16</td>\n      <td>35</td>\n      <td>12</td>\n      <td>7</td>\n    </tr>\n    <tr>\n      <th>3</th>\n      <td>3</td>\n      <td>3</td>\n      <td>52</td>\n      <td>9</td>\n      <td>10</td>\n      <td>24</td>\n      <td>23</td>\n      <td>31</td>\n      <td>7</td>\n      <td>14</td>\n      <td>...</td>\n      <td>8</td>\n      <td>13</td>\n      <td>0</td>\n      <td>18</td>\n      <td>19</td>\n      <td>33</td>\n      <td>16</td>\n      <td>35</td>\n      <td>12</td>\n      <td>7</td>\n    </tr>\n    <tr>\n      <th>4</th>\n      <td>4</td>\n      <td>3</td>\n      <td>52</td>\n      <td>9</td>\n      <td>10</td>\n      <td>24</td>\n      <td>23</td>\n      <td>31</td>\n      <td>7</td>\n      <td>14</td>\n      <td>...</td>\n      <td>8</td>\n      <td>13</td>\n      <td>0</td>\n      <td>18</td>\n      <td>19</td>\n      <td>33</td>\n      <td>16</td>\n      <td>35</td>\n      <td>12</td>\n      <td>7</td>\n    </tr>\n    <tr>\n      <th>...</th>\n      <td>...</td>\n      <td>...</td>\n      <td>...</td>\n      <td>...</td>\n      <td>...</td>\n      <td>...</td>\n      <td>...</td>\n      <td>...</td>\n      <td>...</td>\n      <td>...</td>\n      <td>...</td>\n      <td>...</td>\n      <td>...</td>\n      <td>...</td>\n      <td>...</td>\n      <td>...</td>\n      <td>...</td>\n      <td>...</td>\n      <td>...</td>\n      <td>...</td>\n      <td>...</td>\n    </tr>\n    <tr>\n      <th>3730</th>\n      <td>3730</td>\n      <td>8</td>\n      <td>30</td>\n      <td>12</td>\n      <td>2</td>\n      <td>16</td>\n      <td>28</td>\n      <td>28</td>\n      <td>13</td>\n      <td>8</td>\n      <td>...</td>\n      <td>5</td>\n      <td>19</td>\n      <td>4</td>\n      <td>24</td>\n      <td>15</td>\n      <td>13</td>\n      <td>12</td>\n      <td>19</td>\n      <td>12</td>\n      <td>15</td>\n    </tr>\n    <tr>\n      <th>3731</th>\n      <td>3731</td>\n      <td>8</td>\n      <td>30</td>\n      <td>12</td>\n      <td>2</td>\n      <td>16</td>\n      <td>28</td>\n      <td>28</td>\n      <td>13</td>\n      <td>8</td>\n      <td>...</td>\n      <td>5</td>\n      <td>19</td>\n      <td>4</td>\n      <td>24</td>\n      <td>15</td>\n      <td>13</td>\n      <td>12</td>\n      <td>19</td>\n      <td>12</td>\n      <td>14</td>\n    </tr>\n    <tr>\n      <th>3732</th>\n      <td>3732</td>\n      <td>8</td>\n      <td>30</td>\n      <td>12</td>\n      <td>2</td>\n      <td>16</td>\n      <td>28</td>\n      <td>28</td>\n      <td>13</td>\n      <td>8</td>\n      <td>...</td>\n      <td>5</td>\n      <td>19</td>\n      <td>4</td>\n      <td>24</td>\n      <td>15</td>\n      <td>13</td>\n      <td>12</td>\n      <td>19</td>\n      <td>12</td>\n      <td>14</td>\n    </tr>\n    <tr>\n      <th>3733</th>\n      <td>3733</td>\n      <td>8</td>\n      <td>30</td>\n      <td>12</td>\n      <td>2</td>\n      <td>16</td>\n      <td>28</td>\n      <td>28</td>\n      <td>13</td>\n      <td>8</td>\n      <td>...</td>\n      <td>5</td>\n      <td>19</td>\n      <td>4</td>\n      <td>24</td>\n      <td>15</td>\n      <td>13</td>\n      <td>12</td>\n      <td>18</td>\n      <td>12</td>\n      <td>14</td>\n    </tr>\n    <tr>\n      <th>3734</th>\n      <td>3734</td>\n      <td>8</td>\n      <td>30</td>\n      <td>12</td>\n      <td>2</td>\n      <td>16</td>\n      <td>28</td>\n      <td>28</td>\n      <td>13</td>\n      <td>8</td>\n      <td>...</td>\n      <td>5</td>\n      <td>19</td>\n      <td>4</td>\n      <td>24</td>\n      <td>15</td>\n      <td>13</td>\n      <td>12</td>\n      <td>18</td>\n      <td>12</td>\n      <td>14</td>\n    </tr>\n  </tbody>\n</table>\n<p>3735 rows × 1399 columns</p>\n</div>"
     },
     "metadata": {},
     "execution_count": 132
    }
   ],
   "source": [
    "df_t1"
   ]
  },
  {
   "cell_type": "code",
   "execution_count": 133,
   "metadata": {},
   "outputs": [],
   "source": [
    "toutes_les_stations = []\n",
    "for i in range(len(velib)):\n",
    "    toutes_les_stations.append(np.str(velib['station_id'][i]))\n",
    "\n",
    "# On reformate les données pour les manipuler\n",
    "df_t1.reset_index(inplace=True)\n",
    "df_t2.reset_index(inplace=True)\n",
    "\n",
    "# On supprime les colonnes inutiles\n",
    "df_t1 = df_t1.drop(['index'], axis = 1)\n",
    "df_t2 = df_t2.drop(['index'], axis = 1)"
   ]
  },
  {
   "cell_type": "code",
   "execution_count": 136,
   "metadata": {},
   "outputs": [],
   "source": [
    "# Suppression des autres colonnes inutiles\n",
    "df_t1 = df_t1.drop(['level_0'], axis = 1)\n",
    "df_t2 = df_t2.drop(['level_0'], axis = 1)\n",
    "\n",
    "# On convertit le nom des colonnes en string\n",
    "df_t1.columns = toutes_les_stations\n",
    "df_t2.columns = toutes_les_stations"
   ]
  },
  {
   "source": [
    "### Construction variable à prédire Y : une station random à la date t+1 i.e. le 2 novembre\n",
    "\n",
    "On choisit aléatoirement la station numéro **213688169**, ce qui correspond à la station **Benjamin Godard - Victor Hugo** et qui dispose d'une capacité maximale de **35 vélibs**"
   ],
   "cell_type": "markdown",
   "metadata": {}
  },
  {
   "cell_type": "code",
   "execution_count": 137,
   "metadata": {},
   "outputs": [
    {
     "output_type": "execute_result",
     "data": {
      "text/plain": [
       "   y\n",
       "0  8\n",
       "1  8\n",
       "2  8\n",
       "3  8\n",
       "4  8"
      ],
      "text/html": "<div>\n<style scoped>\n    .dataframe tbody tr th:only-of-type {\n        vertical-align: middle;\n    }\n\n    .dataframe tbody tr th {\n        vertical-align: top;\n    }\n\n    .dataframe thead th {\n        text-align: right;\n    }\n</style>\n<table border=\"1\" class=\"dataframe\">\n  <thead>\n    <tr style=\"text-align: right;\">\n      <th></th>\n      <th>y</th>\n    </tr>\n  </thead>\n  <tbody>\n    <tr>\n      <th>0</th>\n      <td>8</td>\n    </tr>\n    <tr>\n      <th>1</th>\n      <td>8</td>\n    </tr>\n    <tr>\n      <th>2</th>\n      <td>8</td>\n    </tr>\n    <tr>\n      <th>3</th>\n      <td>8</td>\n    </tr>\n    <tr>\n      <th>4</th>\n      <td>8</td>\n    </tr>\n  </tbody>\n</table>\n</div>"
     },
     "metadata": {},
     "execution_count": 137
    }
   ],
   "source": [
    "y = df_t2[['213688169']]\n",
    "y.columns = ['y']\n",
    "y.head()"
   ]
  },
  {
   "source": [
    "### Machine Learning sans tuning"
   ],
   "cell_type": "markdown",
   "metadata": {}
  },
  {
   "cell_type": "code",
   "execution_count": 144,
   "metadata": {},
   "outputs": [
    {
     "output_type": "execute_result",
     "data": {
      "text/plain": [
       "     213688169 99950133 516709288 36255 37815204 100769544 85002689 54000559  \\\n",
       "0            3       52         9    10       24        23       31        7   \n",
       "1            3       52         9    10       24        23       31        7   \n",
       "2            3       52         9    10       24        23       31        7   \n",
       "3            3       52         9    10       24        23       31        7   \n",
       "4            3       52         9    10       24        23       31        7   \n",
       "...        ...      ...       ...   ...      ...       ...      ...      ...   \n",
       "3730         8       30        12     2       16        28       28       13   \n",
       "3731         8       30        12     2       16        28       28       13   \n",
       "3732         8       30        12     2       16        28       28       13   \n",
       "3733         8       30        12     2       16        28       28       13   \n",
       "3734         8       30        12     2       16        28       28       13   \n",
       "\n",
       "     85043758 123095125  ... 125881065 54000627 15377776 84961467 54000629  \\\n",
       "0          14        36  ...         8       13        0       18       19   \n",
       "1          14        36  ...         8       13        0       18       19   \n",
       "2          14        36  ...         8       13        0       18       19   \n",
       "3          14        36  ...         8       13        0       18       19   \n",
       "4          14        36  ...         8       13        0       18       19   \n",
       "...       ...       ...  ...       ...      ...      ...      ...      ...   \n",
       "3730        8        30  ...         5       19        4       24       15   \n",
       "3731        8        30  ...         5       19        4       24       15   \n",
       "3732        8        30  ...         5       19        4       24       15   \n",
       "3733        8        30  ...         5       19        4       24       15   \n",
       "3734        8        31  ...         5       19        4       24       15   \n",
       "\n",
       "     27415004 27415128 27414937 66507230 100227241  \n",
       "0          33       16       35       12         7  \n",
       "1          33       16       35       12         7  \n",
       "2          33       16       35       12         7  \n",
       "3          33       16       35       12         7  \n",
       "4          33       16       35       12         7  \n",
       "...       ...      ...      ...      ...       ...  \n",
       "3730       13       12       19       12        15  \n",
       "3731       13       12       19       12        14  \n",
       "3732       13       12       19       12        14  \n",
       "3733       13       12       18       12        14  \n",
       "3734       13       12       18       12        14  \n",
       "\n",
       "[3735 rows x 1398 columns]"
      ],
      "text/html": "<div>\n<style scoped>\n    .dataframe tbody tr th:only-of-type {\n        vertical-align: middle;\n    }\n\n    .dataframe tbody tr th {\n        vertical-align: top;\n    }\n\n    .dataframe thead th {\n        text-align: right;\n    }\n</style>\n<table border=\"1\" class=\"dataframe\">\n  <thead>\n    <tr style=\"text-align: right;\">\n      <th></th>\n      <th>213688169</th>\n      <th>99950133</th>\n      <th>516709288</th>\n      <th>36255</th>\n      <th>37815204</th>\n      <th>100769544</th>\n      <th>85002689</th>\n      <th>54000559</th>\n      <th>85043758</th>\n      <th>123095125</th>\n      <th>...</th>\n      <th>125881065</th>\n      <th>54000627</th>\n      <th>15377776</th>\n      <th>84961467</th>\n      <th>54000629</th>\n      <th>27415004</th>\n      <th>27415128</th>\n      <th>27414937</th>\n      <th>66507230</th>\n      <th>100227241</th>\n    </tr>\n  </thead>\n  <tbody>\n    <tr>\n      <th>0</th>\n      <td>3</td>\n      <td>52</td>\n      <td>9</td>\n      <td>10</td>\n      <td>24</td>\n      <td>23</td>\n      <td>31</td>\n      <td>7</td>\n      <td>14</td>\n      <td>36</td>\n      <td>...</td>\n      <td>8</td>\n      <td>13</td>\n      <td>0</td>\n      <td>18</td>\n      <td>19</td>\n      <td>33</td>\n      <td>16</td>\n      <td>35</td>\n      <td>12</td>\n      <td>7</td>\n    </tr>\n    <tr>\n      <th>1</th>\n      <td>3</td>\n      <td>52</td>\n      <td>9</td>\n      <td>10</td>\n      <td>24</td>\n      <td>23</td>\n      <td>31</td>\n      <td>7</td>\n      <td>14</td>\n      <td>36</td>\n      <td>...</td>\n      <td>8</td>\n      <td>13</td>\n      <td>0</td>\n      <td>18</td>\n      <td>19</td>\n      <td>33</td>\n      <td>16</td>\n      <td>35</td>\n      <td>12</td>\n      <td>7</td>\n    </tr>\n    <tr>\n      <th>2</th>\n      <td>3</td>\n      <td>52</td>\n      <td>9</td>\n      <td>10</td>\n      <td>24</td>\n      <td>23</td>\n      <td>31</td>\n      <td>7</td>\n      <td>14</td>\n      <td>36</td>\n      <td>...</td>\n      <td>8</td>\n      <td>13</td>\n      <td>0</td>\n      <td>18</td>\n      <td>19</td>\n      <td>33</td>\n      <td>16</td>\n      <td>35</td>\n      <td>12</td>\n      <td>7</td>\n    </tr>\n    <tr>\n      <th>3</th>\n      <td>3</td>\n      <td>52</td>\n      <td>9</td>\n      <td>10</td>\n      <td>24</td>\n      <td>23</td>\n      <td>31</td>\n      <td>7</td>\n      <td>14</td>\n      <td>36</td>\n      <td>...</td>\n      <td>8</td>\n      <td>13</td>\n      <td>0</td>\n      <td>18</td>\n      <td>19</td>\n      <td>33</td>\n      <td>16</td>\n      <td>35</td>\n      <td>12</td>\n      <td>7</td>\n    </tr>\n    <tr>\n      <th>4</th>\n      <td>3</td>\n      <td>52</td>\n      <td>9</td>\n      <td>10</td>\n      <td>24</td>\n      <td>23</td>\n      <td>31</td>\n      <td>7</td>\n      <td>14</td>\n      <td>36</td>\n      <td>...</td>\n      <td>8</td>\n      <td>13</td>\n      <td>0</td>\n      <td>18</td>\n      <td>19</td>\n      <td>33</td>\n      <td>16</td>\n      <td>35</td>\n      <td>12</td>\n      <td>7</td>\n    </tr>\n    <tr>\n      <th>...</th>\n      <td>...</td>\n      <td>...</td>\n      <td>...</td>\n      <td>...</td>\n      <td>...</td>\n      <td>...</td>\n      <td>...</td>\n      <td>...</td>\n      <td>...</td>\n      <td>...</td>\n      <td>...</td>\n      <td>...</td>\n      <td>...</td>\n      <td>...</td>\n      <td>...</td>\n      <td>...</td>\n      <td>...</td>\n      <td>...</td>\n      <td>...</td>\n      <td>...</td>\n      <td>...</td>\n    </tr>\n    <tr>\n      <th>3730</th>\n      <td>8</td>\n      <td>30</td>\n      <td>12</td>\n      <td>2</td>\n      <td>16</td>\n      <td>28</td>\n      <td>28</td>\n      <td>13</td>\n      <td>8</td>\n      <td>30</td>\n      <td>...</td>\n      <td>5</td>\n      <td>19</td>\n      <td>4</td>\n      <td>24</td>\n      <td>15</td>\n      <td>13</td>\n      <td>12</td>\n      <td>19</td>\n      <td>12</td>\n      <td>15</td>\n    </tr>\n    <tr>\n      <th>3731</th>\n      <td>8</td>\n      <td>30</td>\n      <td>12</td>\n      <td>2</td>\n      <td>16</td>\n      <td>28</td>\n      <td>28</td>\n      <td>13</td>\n      <td>8</td>\n      <td>30</td>\n      <td>...</td>\n      <td>5</td>\n      <td>19</td>\n      <td>4</td>\n      <td>24</td>\n      <td>15</td>\n      <td>13</td>\n      <td>12</td>\n      <td>19</td>\n      <td>12</td>\n      <td>14</td>\n    </tr>\n    <tr>\n      <th>3732</th>\n      <td>8</td>\n      <td>30</td>\n      <td>12</td>\n      <td>2</td>\n      <td>16</td>\n      <td>28</td>\n      <td>28</td>\n      <td>13</td>\n      <td>8</td>\n      <td>30</td>\n      <td>...</td>\n      <td>5</td>\n      <td>19</td>\n      <td>4</td>\n      <td>24</td>\n      <td>15</td>\n      <td>13</td>\n      <td>12</td>\n      <td>19</td>\n      <td>12</td>\n      <td>14</td>\n    </tr>\n    <tr>\n      <th>3733</th>\n      <td>8</td>\n      <td>30</td>\n      <td>12</td>\n      <td>2</td>\n      <td>16</td>\n      <td>28</td>\n      <td>28</td>\n      <td>13</td>\n      <td>8</td>\n      <td>30</td>\n      <td>...</td>\n      <td>5</td>\n      <td>19</td>\n      <td>4</td>\n      <td>24</td>\n      <td>15</td>\n      <td>13</td>\n      <td>12</td>\n      <td>18</td>\n      <td>12</td>\n      <td>14</td>\n    </tr>\n    <tr>\n      <th>3734</th>\n      <td>8</td>\n      <td>30</td>\n      <td>12</td>\n      <td>2</td>\n      <td>16</td>\n      <td>28</td>\n      <td>28</td>\n      <td>13</td>\n      <td>8</td>\n      <td>31</td>\n      <td>...</td>\n      <td>5</td>\n      <td>19</td>\n      <td>4</td>\n      <td>24</td>\n      <td>15</td>\n      <td>13</td>\n      <td>12</td>\n      <td>18</td>\n      <td>12</td>\n      <td>14</td>\n    </tr>\n  </tbody>\n</table>\n<p>3735 rows × 1398 columns</p>\n</div>"
     },
     "metadata": {},
     "execution_count": 144
    }
   ],
   "source": [
    "df_t1"
   ]
  },
  {
   "cell_type": "code",
   "execution_count": 145,
   "metadata": {},
   "outputs": [
    {
     "output_type": "execute_result",
     "data": {
      "text/plain": [
       "    213688169 99950133 516709288 36255 37815204 100769544 85002689 54000559  \\\n",
       "0           8       30        12     2       16        28       28       13   \n",
       "1           8       30        11     2       16        28       28       13   \n",
       "2           8       30        11     2       16        28       28       13   \n",
       "3           8       30        11     2       16        28       28       13   \n",
       "4           8       30        11     2       16        28       28       13   \n",
       "..        ...      ...       ...   ...      ...       ...      ...      ...   \n",
       "281         9        8         6     3       13        23       27       15   \n",
       "282         8        8         6     3       13        23       27       15   \n",
       "283         9        8         6     3       13        23       27       15   \n",
       "284         9        8         6     3       13        23       27       15   \n",
       "285         9        8         6     3       13        23       27       15   \n",
       "\n",
       "    85043758 123095125  ... 125881065 54000627 15377776 84961467 54000629  \\\n",
       "0          8        32  ...         5       19        4       24       15   \n",
       "1          8        32  ...         5       19        4       24       15   \n",
       "2          8        32  ...         5       19        4       24       15   \n",
       "3          8        32  ...         5       19        4       24       15   \n",
       "4          8        32  ...         5       19        4       24       15   \n",
       "..       ...       ...  ...       ...      ...      ...      ...      ...   \n",
       "281       16        24  ...        18       20        0       12       23   \n",
       "282       16        22  ...        18       20        0       13       23   \n",
       "283       16        22  ...        18       20        0       13       23   \n",
       "284       16        22  ...        18       20        0       13       23   \n",
       "285       16        22  ...        18       20        0       13       23   \n",
       "\n",
       "    27415004 27415128 27414937 66507230 100227241  \n",
       "0         13       12       18       12        14  \n",
       "1         13       12       18       12        14  \n",
       "2         13       12       17       12        14  \n",
       "3         13       12       17       12        14  \n",
       "4         13       12       17       12        14  \n",
       "..       ...      ...      ...      ...       ...  \n",
       "281       24        2       31        7        20  \n",
       "282       24        2       31        7        20  \n",
       "283       24        2       31        6        20  \n",
       "284       24        2       31        6        20  \n",
       "285       24        2       31        6        20  \n",
       "\n",
       "[286 rows x 1398 columns]"
      ],
      "text/html": "<div>\n<style scoped>\n    .dataframe tbody tr th:only-of-type {\n        vertical-align: middle;\n    }\n\n    .dataframe tbody tr th {\n        vertical-align: top;\n    }\n\n    .dataframe thead th {\n        text-align: right;\n    }\n</style>\n<table border=\"1\" class=\"dataframe\">\n  <thead>\n    <tr style=\"text-align: right;\">\n      <th></th>\n      <th>213688169</th>\n      <th>99950133</th>\n      <th>516709288</th>\n      <th>36255</th>\n      <th>37815204</th>\n      <th>100769544</th>\n      <th>85002689</th>\n      <th>54000559</th>\n      <th>85043758</th>\n      <th>123095125</th>\n      <th>...</th>\n      <th>125881065</th>\n      <th>54000627</th>\n      <th>15377776</th>\n      <th>84961467</th>\n      <th>54000629</th>\n      <th>27415004</th>\n      <th>27415128</th>\n      <th>27414937</th>\n      <th>66507230</th>\n      <th>100227241</th>\n    </tr>\n  </thead>\n  <tbody>\n    <tr>\n      <th>0</th>\n      <td>8</td>\n      <td>30</td>\n      <td>12</td>\n      <td>2</td>\n      <td>16</td>\n      <td>28</td>\n      <td>28</td>\n      <td>13</td>\n      <td>8</td>\n      <td>32</td>\n      <td>...</td>\n      <td>5</td>\n      <td>19</td>\n      <td>4</td>\n      <td>24</td>\n      <td>15</td>\n      <td>13</td>\n      <td>12</td>\n      <td>18</td>\n      <td>12</td>\n      <td>14</td>\n    </tr>\n    <tr>\n      <th>1</th>\n      <td>8</td>\n      <td>30</td>\n      <td>11</td>\n      <td>2</td>\n      <td>16</td>\n      <td>28</td>\n      <td>28</td>\n      <td>13</td>\n      <td>8</td>\n      <td>32</td>\n      <td>...</td>\n      <td>5</td>\n      <td>19</td>\n      <td>4</td>\n      <td>24</td>\n      <td>15</td>\n      <td>13</td>\n      <td>12</td>\n      <td>18</td>\n      <td>12</td>\n      <td>14</td>\n    </tr>\n    <tr>\n      <th>2</th>\n      <td>8</td>\n      <td>30</td>\n      <td>11</td>\n      <td>2</td>\n      <td>16</td>\n      <td>28</td>\n      <td>28</td>\n      <td>13</td>\n      <td>8</td>\n      <td>32</td>\n      <td>...</td>\n      <td>5</td>\n      <td>19</td>\n      <td>4</td>\n      <td>24</td>\n      <td>15</td>\n      <td>13</td>\n      <td>12</td>\n      <td>17</td>\n      <td>12</td>\n      <td>14</td>\n    </tr>\n    <tr>\n      <th>3</th>\n      <td>8</td>\n      <td>30</td>\n      <td>11</td>\n      <td>2</td>\n      <td>16</td>\n      <td>28</td>\n      <td>28</td>\n      <td>13</td>\n      <td>8</td>\n      <td>32</td>\n      <td>...</td>\n      <td>5</td>\n      <td>19</td>\n      <td>4</td>\n      <td>24</td>\n      <td>15</td>\n      <td>13</td>\n      <td>12</td>\n      <td>17</td>\n      <td>12</td>\n      <td>14</td>\n    </tr>\n    <tr>\n      <th>4</th>\n      <td>8</td>\n      <td>30</td>\n      <td>11</td>\n      <td>2</td>\n      <td>16</td>\n      <td>28</td>\n      <td>28</td>\n      <td>13</td>\n      <td>8</td>\n      <td>32</td>\n      <td>...</td>\n      <td>5</td>\n      <td>19</td>\n      <td>4</td>\n      <td>24</td>\n      <td>15</td>\n      <td>13</td>\n      <td>12</td>\n      <td>17</td>\n      <td>12</td>\n      <td>14</td>\n    </tr>\n    <tr>\n      <th>...</th>\n      <td>...</td>\n      <td>...</td>\n      <td>...</td>\n      <td>...</td>\n      <td>...</td>\n      <td>...</td>\n      <td>...</td>\n      <td>...</td>\n      <td>...</td>\n      <td>...</td>\n      <td>...</td>\n      <td>...</td>\n      <td>...</td>\n      <td>...</td>\n      <td>...</td>\n      <td>...</td>\n      <td>...</td>\n      <td>...</td>\n      <td>...</td>\n      <td>...</td>\n      <td>...</td>\n    </tr>\n    <tr>\n      <th>281</th>\n      <td>9</td>\n      <td>8</td>\n      <td>6</td>\n      <td>3</td>\n      <td>13</td>\n      <td>23</td>\n      <td>27</td>\n      <td>15</td>\n      <td>16</td>\n      <td>24</td>\n      <td>...</td>\n      <td>18</td>\n      <td>20</td>\n      <td>0</td>\n      <td>12</td>\n      <td>23</td>\n      <td>24</td>\n      <td>2</td>\n      <td>31</td>\n      <td>7</td>\n      <td>20</td>\n    </tr>\n    <tr>\n      <th>282</th>\n      <td>8</td>\n      <td>8</td>\n      <td>6</td>\n      <td>3</td>\n      <td>13</td>\n      <td>23</td>\n      <td>27</td>\n      <td>15</td>\n      <td>16</td>\n      <td>22</td>\n      <td>...</td>\n      <td>18</td>\n      <td>20</td>\n      <td>0</td>\n      <td>13</td>\n      <td>23</td>\n      <td>24</td>\n      <td>2</td>\n      <td>31</td>\n      <td>7</td>\n      <td>20</td>\n    </tr>\n    <tr>\n      <th>283</th>\n      <td>9</td>\n      <td>8</td>\n      <td>6</td>\n      <td>3</td>\n      <td>13</td>\n      <td>23</td>\n      <td>27</td>\n      <td>15</td>\n      <td>16</td>\n      <td>22</td>\n      <td>...</td>\n      <td>18</td>\n      <td>20</td>\n      <td>0</td>\n      <td>13</td>\n      <td>23</td>\n      <td>24</td>\n      <td>2</td>\n      <td>31</td>\n      <td>6</td>\n      <td>20</td>\n    </tr>\n    <tr>\n      <th>284</th>\n      <td>9</td>\n      <td>8</td>\n      <td>6</td>\n      <td>3</td>\n      <td>13</td>\n      <td>23</td>\n      <td>27</td>\n      <td>15</td>\n      <td>16</td>\n      <td>22</td>\n      <td>...</td>\n      <td>18</td>\n      <td>20</td>\n      <td>0</td>\n      <td>13</td>\n      <td>23</td>\n      <td>24</td>\n      <td>2</td>\n      <td>31</td>\n      <td>6</td>\n      <td>20</td>\n    </tr>\n    <tr>\n      <th>285</th>\n      <td>9</td>\n      <td>8</td>\n      <td>6</td>\n      <td>3</td>\n      <td>13</td>\n      <td>23</td>\n      <td>27</td>\n      <td>15</td>\n      <td>16</td>\n      <td>22</td>\n      <td>...</td>\n      <td>18</td>\n      <td>20</td>\n      <td>0</td>\n      <td>13</td>\n      <td>23</td>\n      <td>24</td>\n      <td>2</td>\n      <td>31</td>\n      <td>6</td>\n      <td>20</td>\n    </tr>\n  </tbody>\n</table>\n<p>286 rows × 1398 columns</p>\n</div>"
     },
     "metadata": {},
     "execution_count": 145
    }
   ],
   "source": [
    "df_t2"
   ]
  },
  {
   "cell_type": "code",
   "execution_count": 146,
   "metadata": {},
   "outputs": [],
   "source": [
    "# Choix des features et de la target\n",
    "stations_features = toutes_les_stations\n",
    "stations_features = [i for i in stations_features if i != '213688169']\n",
    "X = df_t1[stations_features]\n",
    "\n",
    "y = df_t1[['213688169']]\n",
    "\n",
    "from sklearn.model_selection import train_test_split\n",
    "\n",
    "X_train, X_test, y_train, y_test = train_test_split(X, y, test_size=0.3)"
   ]
  },
  {
   "source": [
    "### Méthode \"naïve\"\n",
    "\n",
    "- Regarder si ce qui se passe à une date t est la même chose au même instant à la date t-1\n",
    "\n",
    "Pour l'instant on recommence la procédure :"
   ],
   "cell_type": "markdown",
   "metadata": {}
  },
  {
   "cell_type": "code",
   "execution_count": 173,
   "metadata": {},
   "outputs": [],
   "source": [
    "colonnes_t1 = ['station_id'] # Colonnes correspondant à chaque instant jusqu'à la veille de la journée cible\n",
    "colonnes_t2 = ['station_id'] # Colonnes correspondant à la journée cible\n",
    "datet1 = \"10/31/20\"\n",
    "datet2 = \"11/01/20\"\n",
    "\n",
    "for i in tous_les_velibs.columns:\n",
    "    if (datet1 in i) :\n",
    "        colonnes_t1.append(i)\n",
    "    if (datet2 in i):\n",
    "        colonnes_t2.append(i)"
   ]
  },
  {
   "cell_type": "code",
   "execution_count": 178,
   "metadata": {},
   "outputs": [],
   "source": [
    "dft1 = velib[colonnes_t1].set_index('station_id').transpose()\n",
    "dft2 = velib[colonnes_t2].set_index('station_id').transpose()\n",
    "\n",
    "for station in dft1:\n",
    "        for i in range(len(dft1)):\n",
    "            # On parcourt les lignes et on ne garde que le nombre total de vélibs à l'heure souhaitée\n",
    "            dft1[station][i] = dft1[station][i]['mechanical'] + dft1[station][i]['ebike']\n",
    "            dft2[station][i] = dft2[station][i]['mechanical'] + dft2[station][i]['ebike']"
   ]
  },
  {
   "cell_type": "code",
   "execution_count": 223,
   "metadata": {},
   "outputs": [],
   "source": [
    "#dft1.reset_index(inplace = True)\n",
    "#dft2.reset_index(inplace = True)\n",
    "\n",
    "#df1 = dft1.drop(['level_0'], axis = 1)\n",
    "#df2 = dft2.drop(['level_0'], axis = 1)\n",
    "\n",
    "#df_naif = df2[213688169]-df1[213688169]\n",
    "\n",
    "dft1 = dft1.drop(['level_0','index'], axis = 1)\n",
    "dft2 = dft2.drop(['level_0','index'], axis = 1)"
   ]
  },
  {
   "cell_type": "code",
   "execution_count": 225,
   "metadata": {},
   "outputs": [],
   "source": [
    "t1 = dft1[[213688169]]\n",
    "t2 = dft2[[213688169]]"
   ]
  },
  {
   "cell_type": "code",
   "execution_count": 238,
   "metadata": {},
   "outputs": [
    {
     "output_type": "execute_result",
     "data": {
      "text/plain": [
       "station_id 213688169\n",
       "0                  0\n",
       "1                 -1\n",
       "2                 -1\n",
       "3                 -2\n",
       "4                 -2"
      ],
      "text/html": "<div>\n<style scoped>\n    .dataframe tbody tr th:only-of-type {\n        vertical-align: middle;\n    }\n\n    .dataframe tbody tr th {\n        vertical-align: top;\n    }\n\n    .dataframe thead th {\n        text-align: right;\n    }\n</style>\n<table border=\"1\" class=\"dataframe\">\n  <thead>\n    <tr style=\"text-align: right;\">\n      <th>station_id</th>\n      <th>213688169</th>\n    </tr>\n  </thead>\n  <tbody>\n    <tr>\n      <th>0</th>\n      <td>0</td>\n    </tr>\n    <tr>\n      <th>1</th>\n      <td>-1</td>\n    </tr>\n    <tr>\n      <th>2</th>\n      <td>-1</td>\n    </tr>\n    <tr>\n      <th>3</th>\n      <td>-2</td>\n    </tr>\n    <tr>\n      <th>4</th>\n      <td>-2</td>\n    </tr>\n  </tbody>\n</table>\n</div>"
     },
     "metadata": {},
     "execution_count": 238
    }
   ],
   "source": [
    "df_naif = t2-t1\n",
    "df_naif.head()"
   ]
  },
  {
   "cell_type": "code",
   "execution_count": 240,
   "metadata": {},
   "outputs": [],
   "source": [
    "from statistics import mean"
   ]
  },
  {
   "cell_type": "code",
   "execution_count": 243,
   "metadata": {},
   "outputs": [
    {
     "output_type": "execute_result",
     "data": {
      "text/plain": [
       "station_id\n",
       "213688169    1.573427\n",
       "dtype: float64"
      ]
     },
     "metadata": {},
     "execution_count": 243
    }
   ],
   "source": [
    "#Calcul du MAE\n",
    "df_naif = abs(df_naif)\n",
    "df_naif.mean()"
   ]
  },
  {
   "source": [
    "# Rappel MAE : \n",
    "\n",
    "MAE = mean($\\lvert$ True - predicted $\\rvert$)\n",
    "\n",
    "- Rappel : on a supposé que le nombre de vélibs disponibles était exactement le même à la même heure que le jour précédent.\n",
    "\n",
    "On obtient un MAE de 1.57 avec une méthode \"naïve\", donc une moyenne d'erreur de 1.57. **Cela semble peu (et donc plutôt bien!) dans la mesure où la station peut accueillir jusqu'à 35 vélibs. **"
   ],
   "cell_type": "markdown",
   "metadata": {}
  },
  {
   "source": [
    "### Régression linéaire"
   ],
   "cell_type": "markdown",
   "metadata": {}
  },
  {
   "cell_type": "code",
   "execution_count": 149,
   "metadata": {},
   "outputs": [
    {
     "output_type": "stream",
     "name": "stdout",
     "text": [
      "Le MAE du modèle est 0.584 avec la régression linéaire\n"
     ]
    }
   ],
   "source": [
    "# Régression linéaire simple\n",
    "regressor = LinearRegression()\n",
    "regressor.fit(X_train, y_train)\n",
    "y_prediction = regressor.predict(X_test)\n",
    "\n",
    "print(\"Le MAE du modèle est \"+str(round(mean_absolute_error(y_test, y_prediction),3))+\" avec la régression linéaire\")"
   ]
  },
  {
   "source": [
    "On obtient de meilleurs résultats avec une régression linéaire simple sur cette station"
   ],
   "cell_type": "markdown",
   "metadata": {}
  },
  {
   "source": [
    "### Random Forest"
   ],
   "cell_type": "markdown",
   "metadata": {}
  },
  {
   "cell_type": "code",
   "execution_count": 155,
   "metadata": {},
   "outputs": [
    {
     "output_type": "stream",
     "name": "stdout",
     "text": [
      "Le MAE du modèle est 0.324 avec random forest\n"
     ]
    }
   ],
   "source": [
    "# Random Forest\n",
    "regressor = RandomForestRegressor()\n",
    "regressor.fit(X_train, y_train)\n",
    "y_prediction = regressor.predict(X_test)\n",
    "\n",
    "print(\"Le MAE du modèle est \"+str(round(mean_absolute_error(y_test, y_prediction),3))+\" avec random forest\")"
   ]
  },
  {
   "cell_type": "code",
   "execution_count": 151,
   "metadata": {},
   "outputs": [
    {
     "output_type": "execute_result",
     "data": {
      "text/plain": [
       "array([4.13, 7.34, 2.56, ..., 0.55, 2.19, 3.05])"
      ]
     },
     "metadata": {},
     "execution_count": 151
    }
   ],
   "source": [
    "y_prediction"
   ]
  },
  {
   "source": [
    "### Machine Learning avec tuning"
   ],
   "cell_type": "markdown",
   "metadata": {}
  },
  {
   "cell_type": "code",
   "execution_count": 252,
   "metadata": {},
   "outputs": [],
   "source": [
    "df_ml = df_t1\n",
    "df_ml = df_ml.astype('float64')"
   ]
  },
  {
   "cell_type": "code",
   "execution_count": 253,
   "metadata": {},
   "outputs": [
    {
     "output_type": "execute_result",
     "data": {
      "text/plain": [
       "           213688169  99950133  516709288     36255  37815204  100769544  \\\n",
       "213688169   1.000000  0.025269   0.128240  0.082420  0.077572   0.187565   \n",
       "99950133    0.025269  1.000000  -0.211264  0.094781 -0.292633   0.636175   \n",
       "516709288   0.128240 -0.211264   1.000000  0.323731  0.412742  -0.178926   \n",
       "36255       0.082420  0.094781   0.323731  1.000000  0.343862   0.139795   \n",
       "37815204    0.077572 -0.292633   0.412742  0.343862  1.000000  -0.287526   \n",
       "...              ...       ...        ...       ...       ...        ...   \n",
       "27415004    0.121414 -0.219705   0.225187  0.381771  0.842328  -0.204427   \n",
       "27415128   -0.088361 -0.062054   0.100604  0.131438  0.580039  -0.205263   \n",
       "27414937    0.059033 -0.244888   0.526938  0.341646  0.739894  -0.342377   \n",
       "66507230    0.104548 -0.090570  -0.021895 -0.093292 -0.059184  -0.075173   \n",
       "100227241  -0.038691 -0.099520  -0.227173 -0.124456 -0.320766   0.189247   \n",
       "\n",
       "           85002689  54000559  85043758  123095125  ...  125881065  54000627  \\\n",
       "213688169  0.231712  0.008926  0.037140  -0.030639  ...  -0.041851  0.133768   \n",
       "99950133  -0.166405 -0.273004 -0.270307  -0.271461  ...  -0.188958 -0.338348   \n",
       "516709288  0.517637  0.285801  0.099218   0.220424  ...   0.247134  0.498477   \n",
       "36255      0.327220  0.234319  0.099068   0.200317  ...   0.259474  0.239136   \n",
       "37815204   0.569240  0.198357  0.508204   0.429481  ...   0.537750  0.509776   \n",
       "...             ...       ...       ...        ...  ...        ...       ...   \n",
       "27415004   0.589962  0.155899  0.540907   0.484063  ...   0.463150  0.373694   \n",
       "27415128   0.273169  0.217678  0.586835   0.238365  ...   0.414708  0.336972   \n",
       "27414937   0.691115  0.348854  0.346977   0.464676  ...   0.390156  0.561629   \n",
       "66507230  -0.159137 -0.059949 -0.140504  -0.132565  ...   0.003234  0.007918   \n",
       "100227241 -0.407408 -0.269759 -0.109110  -0.363836  ...  -0.021417 -0.244028   \n",
       "\n",
       "           15377776  84961467  54000629  27415004  27415128  27414937  \\\n",
       "213688169  0.036309  0.175329 -0.297473  0.121414 -0.088361  0.059033   \n",
       "99950133   0.059249  0.298978 -0.035843 -0.219705 -0.062054 -0.244888   \n",
       "516709288 -0.157218 -0.482243  0.246743  0.225187  0.100604  0.526938   \n",
       "36255     -0.254872 -0.320933  0.081374  0.381771  0.131438  0.341646   \n",
       "37815204  -0.490047 -0.500738  0.314941  0.842328  0.580039  0.739894   \n",
       "...             ...       ...       ...       ...       ...       ...   \n",
       "27415004  -0.562318 -0.395630  0.281569  1.000000  0.485598  0.650653   \n",
       "27415128  -0.229621 -0.181608  0.226276  0.485598  1.000000  0.474923   \n",
       "27414937  -0.428574 -0.583834  0.576441  0.650653  0.474923  1.000000   \n",
       "66507230   0.123305  0.127402 -0.104391 -0.139169 -0.187206  0.029023   \n",
       "100227241  0.244145  0.352630 -0.479454 -0.266485 -0.285710 -0.593783   \n",
       "\n",
       "           66507230  100227241  \n",
       "213688169  0.104548  -0.038691  \n",
       "99950133  -0.090570  -0.099520  \n",
       "516709288 -0.021895  -0.227173  \n",
       "36255     -0.093292  -0.124456  \n",
       "37815204  -0.059184  -0.320766  \n",
       "...             ...        ...  \n",
       "27415004  -0.139169  -0.266485  \n",
       "27415128  -0.187206  -0.285710  \n",
       "27414937   0.029023  -0.593783  \n",
       "66507230   1.000000   0.125457  \n",
       "100227241  0.125457   1.000000  \n",
       "\n",
       "[1398 rows x 1398 columns]"
      ],
      "text/html": "<div>\n<style scoped>\n    .dataframe tbody tr th:only-of-type {\n        vertical-align: middle;\n    }\n\n    .dataframe tbody tr th {\n        vertical-align: top;\n    }\n\n    .dataframe thead th {\n        text-align: right;\n    }\n</style>\n<table border=\"1\" class=\"dataframe\">\n  <thead>\n    <tr style=\"text-align: right;\">\n      <th></th>\n      <th>213688169</th>\n      <th>99950133</th>\n      <th>516709288</th>\n      <th>36255</th>\n      <th>37815204</th>\n      <th>100769544</th>\n      <th>85002689</th>\n      <th>54000559</th>\n      <th>85043758</th>\n      <th>123095125</th>\n      <th>...</th>\n      <th>125881065</th>\n      <th>54000627</th>\n      <th>15377776</th>\n      <th>84961467</th>\n      <th>54000629</th>\n      <th>27415004</th>\n      <th>27415128</th>\n      <th>27414937</th>\n      <th>66507230</th>\n      <th>100227241</th>\n    </tr>\n  </thead>\n  <tbody>\n    <tr>\n      <th>213688169</th>\n      <td>1.000000</td>\n      <td>0.025269</td>\n      <td>0.128240</td>\n      <td>0.082420</td>\n      <td>0.077572</td>\n      <td>0.187565</td>\n      <td>0.231712</td>\n      <td>0.008926</td>\n      <td>0.037140</td>\n      <td>-0.030639</td>\n      <td>...</td>\n      <td>-0.041851</td>\n      <td>0.133768</td>\n      <td>0.036309</td>\n      <td>0.175329</td>\n      <td>-0.297473</td>\n      <td>0.121414</td>\n      <td>-0.088361</td>\n      <td>0.059033</td>\n      <td>0.104548</td>\n      <td>-0.038691</td>\n    </tr>\n    <tr>\n      <th>99950133</th>\n      <td>0.025269</td>\n      <td>1.000000</td>\n      <td>-0.211264</td>\n      <td>0.094781</td>\n      <td>-0.292633</td>\n      <td>0.636175</td>\n      <td>-0.166405</td>\n      <td>-0.273004</td>\n      <td>-0.270307</td>\n      <td>-0.271461</td>\n      <td>...</td>\n      <td>-0.188958</td>\n      <td>-0.338348</td>\n      <td>0.059249</td>\n      <td>0.298978</td>\n      <td>-0.035843</td>\n      <td>-0.219705</td>\n      <td>-0.062054</td>\n      <td>-0.244888</td>\n      <td>-0.090570</td>\n      <td>-0.099520</td>\n    </tr>\n    <tr>\n      <th>516709288</th>\n      <td>0.128240</td>\n      <td>-0.211264</td>\n      <td>1.000000</td>\n      <td>0.323731</td>\n      <td>0.412742</td>\n      <td>-0.178926</td>\n      <td>0.517637</td>\n      <td>0.285801</td>\n      <td>0.099218</td>\n      <td>0.220424</td>\n      <td>...</td>\n      <td>0.247134</td>\n      <td>0.498477</td>\n      <td>-0.157218</td>\n      <td>-0.482243</td>\n      <td>0.246743</td>\n      <td>0.225187</td>\n      <td>0.100604</td>\n      <td>0.526938</td>\n      <td>-0.021895</td>\n      <td>-0.227173</td>\n    </tr>\n    <tr>\n      <th>36255</th>\n      <td>0.082420</td>\n      <td>0.094781</td>\n      <td>0.323731</td>\n      <td>1.000000</td>\n      <td>0.343862</td>\n      <td>0.139795</td>\n      <td>0.327220</td>\n      <td>0.234319</td>\n      <td>0.099068</td>\n      <td>0.200317</td>\n      <td>...</td>\n      <td>0.259474</td>\n      <td>0.239136</td>\n      <td>-0.254872</td>\n      <td>-0.320933</td>\n      <td>0.081374</td>\n      <td>0.381771</td>\n      <td>0.131438</td>\n      <td>0.341646</td>\n      <td>-0.093292</td>\n      <td>-0.124456</td>\n    </tr>\n    <tr>\n      <th>37815204</th>\n      <td>0.077572</td>\n      <td>-0.292633</td>\n      <td>0.412742</td>\n      <td>0.343862</td>\n      <td>1.000000</td>\n      <td>-0.287526</td>\n      <td>0.569240</td>\n      <td>0.198357</td>\n      <td>0.508204</td>\n      <td>0.429481</td>\n      <td>...</td>\n      <td>0.537750</td>\n      <td>0.509776</td>\n      <td>-0.490047</td>\n      <td>-0.500738</td>\n      <td>0.314941</td>\n      <td>0.842328</td>\n      <td>0.580039</td>\n      <td>0.739894</td>\n      <td>-0.059184</td>\n      <td>-0.320766</td>\n    </tr>\n    <tr>\n      <th>...</th>\n      <td>...</td>\n      <td>...</td>\n      <td>...</td>\n      <td>...</td>\n      <td>...</td>\n      <td>...</td>\n      <td>...</td>\n      <td>...</td>\n      <td>...</td>\n      <td>...</td>\n      <td>...</td>\n      <td>...</td>\n      <td>...</td>\n      <td>...</td>\n      <td>...</td>\n      <td>...</td>\n      <td>...</td>\n      <td>...</td>\n      <td>...</td>\n      <td>...</td>\n      <td>...</td>\n    </tr>\n    <tr>\n      <th>27415004</th>\n      <td>0.121414</td>\n      <td>-0.219705</td>\n      <td>0.225187</td>\n      <td>0.381771</td>\n      <td>0.842328</td>\n      <td>-0.204427</td>\n      <td>0.589962</td>\n      <td>0.155899</td>\n      <td>0.540907</td>\n      <td>0.484063</td>\n      <td>...</td>\n      <td>0.463150</td>\n      <td>0.373694</td>\n      <td>-0.562318</td>\n      <td>-0.395630</td>\n      <td>0.281569</td>\n      <td>1.000000</td>\n      <td>0.485598</td>\n      <td>0.650653</td>\n      <td>-0.139169</td>\n      <td>-0.266485</td>\n    </tr>\n    <tr>\n      <th>27415128</th>\n      <td>-0.088361</td>\n      <td>-0.062054</td>\n      <td>0.100604</td>\n      <td>0.131438</td>\n      <td>0.580039</td>\n      <td>-0.205263</td>\n      <td>0.273169</td>\n      <td>0.217678</td>\n      <td>0.586835</td>\n      <td>0.238365</td>\n      <td>...</td>\n      <td>0.414708</td>\n      <td>0.336972</td>\n      <td>-0.229621</td>\n      <td>-0.181608</td>\n      <td>0.226276</td>\n      <td>0.485598</td>\n      <td>1.000000</td>\n      <td>0.474923</td>\n      <td>-0.187206</td>\n      <td>-0.285710</td>\n    </tr>\n    <tr>\n      <th>27414937</th>\n      <td>0.059033</td>\n      <td>-0.244888</td>\n      <td>0.526938</td>\n      <td>0.341646</td>\n      <td>0.739894</td>\n      <td>-0.342377</td>\n      <td>0.691115</td>\n      <td>0.348854</td>\n      <td>0.346977</td>\n      <td>0.464676</td>\n      <td>...</td>\n      <td>0.390156</td>\n      <td>0.561629</td>\n      <td>-0.428574</td>\n      <td>-0.583834</td>\n      <td>0.576441</td>\n      <td>0.650653</td>\n      <td>0.474923</td>\n      <td>1.000000</td>\n      <td>0.029023</td>\n      <td>-0.593783</td>\n    </tr>\n    <tr>\n      <th>66507230</th>\n      <td>0.104548</td>\n      <td>-0.090570</td>\n      <td>-0.021895</td>\n      <td>-0.093292</td>\n      <td>-0.059184</td>\n      <td>-0.075173</td>\n      <td>-0.159137</td>\n      <td>-0.059949</td>\n      <td>-0.140504</td>\n      <td>-0.132565</td>\n      <td>...</td>\n      <td>0.003234</td>\n      <td>0.007918</td>\n      <td>0.123305</td>\n      <td>0.127402</td>\n      <td>-0.104391</td>\n      <td>-0.139169</td>\n      <td>-0.187206</td>\n      <td>0.029023</td>\n      <td>1.000000</td>\n      <td>0.125457</td>\n    </tr>\n    <tr>\n      <th>100227241</th>\n      <td>-0.038691</td>\n      <td>-0.099520</td>\n      <td>-0.227173</td>\n      <td>-0.124456</td>\n      <td>-0.320766</td>\n      <td>0.189247</td>\n      <td>-0.407408</td>\n      <td>-0.269759</td>\n      <td>-0.109110</td>\n      <td>-0.363836</td>\n      <td>...</td>\n      <td>-0.021417</td>\n      <td>-0.244028</td>\n      <td>0.244145</td>\n      <td>0.352630</td>\n      <td>-0.479454</td>\n      <td>-0.266485</td>\n      <td>-0.285710</td>\n      <td>-0.593783</td>\n      <td>0.125457</td>\n      <td>1.000000</td>\n    </tr>\n  </tbody>\n</table>\n<p>1398 rows × 1398 columns</p>\n</div>"
     },
     "metadata": {},
     "execution_count": 253
    }
   ],
   "source": [
    "df_ml.corr()"
   ]
  },
  {
   "cell_type": "code",
   "execution_count": 258,
   "metadata": {},
   "outputs": [],
   "source": [
    "features = choix_features(df_ml.corr(),'213688169',0.5)"
   ]
  },
  {
   "cell_type": "code",
   "execution_count": 260,
   "metadata": {},
   "outputs": [],
   "source": [
    "del features[0]"
   ]
  },
  {
   "cell_type": "code",
   "execution_count": 261,
   "metadata": {},
   "outputs": [
    {
     "output_type": "execute_result",
     "data": {
      "text/plain": [
       "['85147829', '213683992', '30730', '581480367']"
      ]
     },
     "metadata": {},
     "execution_count": 261
    }
   ],
   "source": [
    "features"
   ]
  },
  {
   "cell_type": "code",
   "execution_count": 262,
   "metadata": {},
   "outputs": [],
   "source": [
    "X = df_ml.loc[:,features]\n",
    "Y = df_ml.loc[:,'213688169']\n",
    "\n",
    "X_train, X_test, y_train, y_test = train_test_split(X, Y, test_size=0.3)"
   ]
  },
  {
   "source": [
    "### Régression linéaire avec tuning"
   ],
   "cell_type": "markdown",
   "metadata": {}
  },
  {
   "cell_type": "code",
   "execution_count": 263,
   "metadata": {},
   "outputs": [
    {
     "output_type": "stream",
     "name": "stdout",
     "text": [
      "Le MAE du modèle est 1.497 avec la régression linéaire\n"
     ]
    }
   ],
   "source": [
    "# Régression linéaire simple\n",
    "regressor = LinearRegression()\n",
    "regressor.fit(X_train, y_train)\n",
    "y_prediction = regressor.predict(X_test)\n",
    "\n",
    "print(\"Le MAE du modèle est \"+str(round(mean_absolute_error(y_test, y_prediction),3))+\" avec la régression linéaire\")"
   ]
  },
  {
   "source": [
    "### Random Forest avec tuning"
   ],
   "cell_type": "markdown",
   "metadata": {}
  },
  {
   "cell_type": "code",
   "execution_count": 266,
   "metadata": {},
   "outputs": [
    {
     "output_type": "stream",
     "name": "stdout",
     "text": [
      "Le MAE du modèle est 0.574 avec random forest\n"
     ]
    }
   ],
   "source": [
    "# Random Forest\n",
    "regressor = RandomForestRegressor()\n",
    "regressor.fit(X_train, y_train)\n",
    "y_prediction = regressor.predict(X_test)\n",
    "\n",
    "print(\"Le MAE du modèle est \"+str(round(mean_absolute_error(y_test, y_prediction),3))+\" avec random forest\")"
   ]
  },
  {
   "source": [
    "Maintenant, regarder d'autres modèles et essayer sur les différents clusters.\n",
    "Pour la prochaine fois, [16:05] DEPERSIN Jules\n",
    "    \n",
    "Regression où la valeur prédite serait la différence N_velo,(t+1)- N_velo,t plutôt que juste N_vélo,(t+1)\n",
    "Interpréter les coefficients sur la régression spatiale : LASSO.\n",
    "Changer l’échelle de temps : 1h\n",
    "    \n",
    "Rédiger le modèle proprement sur Latex avec des y_i des x_i. \n"
   ],
   "cell_type": "markdown",
   "metadata": {}
  },
  {
   "cell_type": "code",
   "execution_count": null,
   "metadata": {},
   "outputs": [],
   "source": []
  },
  {
   "cell_type": "code",
   "execution_count": null,
   "metadata": {},
   "outputs": [],
   "source": []
  },
  {
   "cell_type": "code",
   "execution_count": null,
   "metadata": {},
   "outputs": [],
   "source": []
  }
 ]
}