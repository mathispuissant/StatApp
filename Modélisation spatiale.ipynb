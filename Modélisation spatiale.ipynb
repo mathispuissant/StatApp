{
 "cells": [
  {
   "cell_type": "markdown",
   "metadata": {},
   "source": [
    "# Modèles prédictifs du nombre de vélibs d'un point de vue spatial"
   ]
  },
  {
   "cell_type": "code",
   "execution_count": 1,
   "metadata": {},
   "outputs": [
    {
     "output_type": "stream",
     "name": "stderr",
     "text": [
      "\nBad key \"text.kerning_factor\" on line 4 in\n/Applications/anaconda3/lib/python3.7/site-packages/matplotlib/mpl-data/stylelib/_classic_test_patch.mplstyle.\nYou probably need to get an updated matplotlibrc file from\nhttp://github.com/matplotlib/matplotlib/blob/master/matplotlibrc.template\nor from the matplotlib source distribution\n"
     ]
    }
   ],
   "source": [
    "import pandas as pd\n",
    "import numpy as np\n",
    "import matplotlib.pyplot as plt\n",
    "import seaborn as sns\n",
    "import plotly.express as px\n",
    "import plotly.graph_objects as go\n",
    "\n",
    "\n",
    "from sklearn.model_selection import train_test_split\n",
    "from sklearn.linear_model import LinearRegression\n",
    "from sklearn.metrics import mean_squared_error, mean_absolute_error\n",
    "from sklearn.metrics import accuracy_score\n",
    "from sklearn.metrics import f1_score, confusion_matrix, accuracy_score, recall_score, precision_score\n",
    "from sklearn.preprocessing import PolynomialFeatures\n",
    "from sklearn.metrics import mean_squared_error\n",
    "from sklearn.tree import DecisionTreeRegressor\n",
    "from sklearn.ensemble import RandomForestRegressor\n",
    "\n",
    "import prettytable as ptbl"
   ]
  },
  {
   "cell_type": "code",
   "execution_count": 2,
   "metadata": {},
   "outputs": [
    {
     "output_type": "execute_result",
     "data": {
      "text/plain": [
       "      10/19/20;18:56:54  10/19/20;19:56:58  10/19/20;20:57:02  \\\n",
       "0                     1                  2                  5   \n",
       "1                    45                 48                 49   \n",
       "2                     2                  3                 10   \n",
       "3                     6                  9                 10   \n",
       "4                     7                 16                 25   \n",
       "...                 ...                ...                ...   \n",
       "1393                 15                 25                 27   \n",
       "1394                  2                  2                  0   \n",
       "1395                  6                 15                 29   \n",
       "1396                 17                 15                 12   \n",
       "1397                 17                 13                  5   \n",
       "\n",
       "      10/19/20;21:57:05  10/19/20;22:57:14  10/19/20;23:57:18  \\\n",
       "0                     4                  3                  3   \n",
       "1                    51                 52                 52   \n",
       "2                     9                 11                  9   \n",
       "3                    12                 10                 10   \n",
       "4                    24                 23                 24   \n",
       "...                 ...                ...                ...   \n",
       "1393                 31                 32                 33   \n",
       "1394                 14                 16                 16   \n",
       "1395                 34                 35                 35   \n",
       "1396                 15                 12                 12   \n",
       "1397                  6                  7                  7   \n",
       "\n",
       "      10/20/20;00:57:22  10/20/20;01:57:26  10/20/20;02:57:30  \\\n",
       "0                     3                  3                  2   \n",
       "1                    52                 52                 52   \n",
       "2                     9                  9                  9   \n",
       "3                    11                 11                 11   \n",
       "4                    24                 24                 24   \n",
       "...                 ...                ...                ...   \n",
       "1393                 33                 32                 32   \n",
       "1394                 16                 16                 16   \n",
       "1395                 35                 35                 35   \n",
       "1396                 12                 12                 12   \n",
       "1397                  7                  7                  7   \n",
       "\n",
       "      10/20/20;03:57:34  ...  02/15/21;11:49:48  02/15/21;12:53:25  \\\n",
       "0                     2  ...                  2                  2   \n",
       "1                    45  ...                 37                 37   \n",
       "2                     9  ...                  1                  1   \n",
       "3                    11  ...                  6                  5   \n",
       "4                    24  ...                  6                  3   \n",
       "...                 ...  ...                ...                ...   \n",
       "1393                 33  ...                 22                 21   \n",
       "1394                 16  ...                  2                  3   \n",
       "1395                 35  ...                  8                  8   \n",
       "1396                 12  ...                 11                 11   \n",
       "1397                  7  ...                 21                 18   \n",
       "\n",
       "      02/15/21;13:56:59  02/15/21;15:00:34  02/15/21;16:04:08  \\\n",
       "0                     2                  1                  2   \n",
       "1                    39                 41                 40   \n",
       "2                     0                  4                  4   \n",
       "3                     8                  8                  5   \n",
       "4                     4                  2                  2   \n",
       "...                 ...                ...                ...   \n",
       "1393                 21                 19                 21   \n",
       "1394                  3                  4                  5   \n",
       "1395                 13                  9                  8   \n",
       "1396                 16                 14                 14   \n",
       "1397                 22                 22                 22   \n",
       "\n",
       "      02/15/21;17:07:43  02/15/21;18:11:18  02/15/21;19:16:38  \\\n",
       "0                     4                  2                  5   \n",
       "1                    38                 32                 25   \n",
       "2                     1                  1                  4   \n",
       "3                     4                  6                  4   \n",
       "4                     4                  6                 11   \n",
       "...                 ...                ...                ...   \n",
       "1393                 23                 30                 34   \n",
       "1394                  6                  8                  9   \n",
       "1395                  7                 10                 22   \n",
       "1396                 14                 15                  7   \n",
       "1397                 22                 11                  6   \n",
       "\n",
       "      02/15/21;20:20:06  02/15/21;21:23:35  \n",
       "0                     3                  4  \n",
       "1                    24                 24  \n",
       "2                     5                  3  \n",
       "3                     5                  8  \n",
       "4                    17                 18  \n",
       "...                 ...                ...  \n",
       "1393                 36                 36  \n",
       "1394                  9                 11  \n",
       "1395                 25                 29  \n",
       "1396                  9                  8  \n",
       "1397                  5                  5  \n",
       "\n",
       "[1398 rows x 2778 columns]"
      ],
      "text/html": "<div>\n<style scoped>\n    .dataframe tbody tr th:only-of-type {\n        vertical-align: middle;\n    }\n\n    .dataframe tbody tr th {\n        vertical-align: top;\n    }\n\n    .dataframe thead th {\n        text-align: right;\n    }\n</style>\n<table border=\"1\" class=\"dataframe\">\n  <thead>\n    <tr style=\"text-align: right;\">\n      <th></th>\n      <th>10/19/20;18:56:54</th>\n      <th>10/19/20;19:56:58</th>\n      <th>10/19/20;20:57:02</th>\n      <th>10/19/20;21:57:05</th>\n      <th>10/19/20;22:57:14</th>\n      <th>10/19/20;23:57:18</th>\n      <th>10/20/20;00:57:22</th>\n      <th>10/20/20;01:57:26</th>\n      <th>10/20/20;02:57:30</th>\n      <th>10/20/20;03:57:34</th>\n      <th>...</th>\n      <th>02/15/21;11:49:48</th>\n      <th>02/15/21;12:53:25</th>\n      <th>02/15/21;13:56:59</th>\n      <th>02/15/21;15:00:34</th>\n      <th>02/15/21;16:04:08</th>\n      <th>02/15/21;17:07:43</th>\n      <th>02/15/21;18:11:18</th>\n      <th>02/15/21;19:16:38</th>\n      <th>02/15/21;20:20:06</th>\n      <th>02/15/21;21:23:35</th>\n    </tr>\n  </thead>\n  <tbody>\n    <tr>\n      <th>0</th>\n      <td>1</td>\n      <td>2</td>\n      <td>5</td>\n      <td>4</td>\n      <td>3</td>\n      <td>3</td>\n      <td>3</td>\n      <td>3</td>\n      <td>2</td>\n      <td>2</td>\n      <td>...</td>\n      <td>2</td>\n      <td>2</td>\n      <td>2</td>\n      <td>1</td>\n      <td>2</td>\n      <td>4</td>\n      <td>2</td>\n      <td>5</td>\n      <td>3</td>\n      <td>4</td>\n    </tr>\n    <tr>\n      <th>1</th>\n      <td>45</td>\n      <td>48</td>\n      <td>49</td>\n      <td>51</td>\n      <td>52</td>\n      <td>52</td>\n      <td>52</td>\n      <td>52</td>\n      <td>52</td>\n      <td>45</td>\n      <td>...</td>\n      <td>37</td>\n      <td>37</td>\n      <td>39</td>\n      <td>41</td>\n      <td>40</td>\n      <td>38</td>\n      <td>32</td>\n      <td>25</td>\n      <td>24</td>\n      <td>24</td>\n    </tr>\n    <tr>\n      <th>2</th>\n      <td>2</td>\n      <td>3</td>\n      <td>10</td>\n      <td>9</td>\n      <td>11</td>\n      <td>9</td>\n      <td>9</td>\n      <td>9</td>\n      <td>9</td>\n      <td>9</td>\n      <td>...</td>\n      <td>1</td>\n      <td>1</td>\n      <td>0</td>\n      <td>4</td>\n      <td>4</td>\n      <td>1</td>\n      <td>1</td>\n      <td>4</td>\n      <td>5</td>\n      <td>3</td>\n    </tr>\n    <tr>\n      <th>3</th>\n      <td>6</td>\n      <td>9</td>\n      <td>10</td>\n      <td>12</td>\n      <td>10</td>\n      <td>10</td>\n      <td>11</td>\n      <td>11</td>\n      <td>11</td>\n      <td>11</td>\n      <td>...</td>\n      <td>6</td>\n      <td>5</td>\n      <td>8</td>\n      <td>8</td>\n      <td>5</td>\n      <td>4</td>\n      <td>6</td>\n      <td>4</td>\n      <td>5</td>\n      <td>8</td>\n    </tr>\n    <tr>\n      <th>4</th>\n      <td>7</td>\n      <td>16</td>\n      <td>25</td>\n      <td>24</td>\n      <td>23</td>\n      <td>24</td>\n      <td>24</td>\n      <td>24</td>\n      <td>24</td>\n      <td>24</td>\n      <td>...</td>\n      <td>6</td>\n      <td>3</td>\n      <td>4</td>\n      <td>2</td>\n      <td>2</td>\n      <td>4</td>\n      <td>6</td>\n      <td>11</td>\n      <td>17</td>\n      <td>18</td>\n    </tr>\n    <tr>\n      <th>...</th>\n      <td>...</td>\n      <td>...</td>\n      <td>...</td>\n      <td>...</td>\n      <td>...</td>\n      <td>...</td>\n      <td>...</td>\n      <td>...</td>\n      <td>...</td>\n      <td>...</td>\n      <td>...</td>\n      <td>...</td>\n      <td>...</td>\n      <td>...</td>\n      <td>...</td>\n      <td>...</td>\n      <td>...</td>\n      <td>...</td>\n      <td>...</td>\n      <td>...</td>\n      <td>...</td>\n    </tr>\n    <tr>\n      <th>1393</th>\n      <td>15</td>\n      <td>25</td>\n      <td>27</td>\n      <td>31</td>\n      <td>32</td>\n      <td>33</td>\n      <td>33</td>\n      <td>32</td>\n      <td>32</td>\n      <td>33</td>\n      <td>...</td>\n      <td>22</td>\n      <td>21</td>\n      <td>21</td>\n      <td>19</td>\n      <td>21</td>\n      <td>23</td>\n      <td>30</td>\n      <td>34</td>\n      <td>36</td>\n      <td>36</td>\n    </tr>\n    <tr>\n      <th>1394</th>\n      <td>2</td>\n      <td>2</td>\n      <td>0</td>\n      <td>14</td>\n      <td>16</td>\n      <td>16</td>\n      <td>16</td>\n      <td>16</td>\n      <td>16</td>\n      <td>16</td>\n      <td>...</td>\n      <td>2</td>\n      <td>3</td>\n      <td>3</td>\n      <td>4</td>\n      <td>5</td>\n      <td>6</td>\n      <td>8</td>\n      <td>9</td>\n      <td>9</td>\n      <td>11</td>\n    </tr>\n    <tr>\n      <th>1395</th>\n      <td>6</td>\n      <td>15</td>\n      <td>29</td>\n      <td>34</td>\n      <td>35</td>\n      <td>35</td>\n      <td>35</td>\n      <td>35</td>\n      <td>35</td>\n      <td>35</td>\n      <td>...</td>\n      <td>8</td>\n      <td>8</td>\n      <td>13</td>\n      <td>9</td>\n      <td>8</td>\n      <td>7</td>\n      <td>10</td>\n      <td>22</td>\n      <td>25</td>\n      <td>29</td>\n    </tr>\n    <tr>\n      <th>1396</th>\n      <td>17</td>\n      <td>15</td>\n      <td>12</td>\n      <td>15</td>\n      <td>12</td>\n      <td>12</td>\n      <td>12</td>\n      <td>12</td>\n      <td>12</td>\n      <td>12</td>\n      <td>...</td>\n      <td>11</td>\n      <td>11</td>\n      <td>16</td>\n      <td>14</td>\n      <td>14</td>\n      <td>14</td>\n      <td>15</td>\n      <td>7</td>\n      <td>9</td>\n      <td>8</td>\n    </tr>\n    <tr>\n      <th>1397</th>\n      <td>17</td>\n      <td>13</td>\n      <td>5</td>\n      <td>6</td>\n      <td>7</td>\n      <td>7</td>\n      <td>7</td>\n      <td>7</td>\n      <td>7</td>\n      <td>7</td>\n      <td>...</td>\n      <td>21</td>\n      <td>18</td>\n      <td>22</td>\n      <td>22</td>\n      <td>22</td>\n      <td>22</td>\n      <td>11</td>\n      <td>6</td>\n      <td>5</td>\n      <td>5</td>\n    </tr>\n  </tbody>\n</table>\n<p>1398 rows × 2778 columns</p>\n</div>"
     },
     "metadata": {},
     "execution_count": 2
    }
   ],
   "source": [
    "velib = pd.read_csv(r\"/Users/Romain/Documents/Romain/ENSAE 2A 2020-2021/Stat'App/Github Stat'App/velib_nombre.csv\")\n",
    "velib = velib.drop(['Unnamed: 0'], axis = 1)\n",
    "velib"
   ]
  },
  {
   "source": [
    "On dispose d'une base de données nettoyées avec un échantillonnage par heure sur toutes les stations Vélib d'Ile-de-France. \n",
    "\n",
    "Avant de commencer les analyses, on garde toutefois le numéro des stations ainsi que leurs informations : "
   ],
   "cell_type": "markdown",
   "metadata": {}
  },
  {
   "cell_type": "code",
   "execution_count": 3,
   "metadata": {},
   "outputs": [],
   "source": [
    "# Import des librairies pour importer les données open data au format Json\n",
    "import urllib.request\n",
    "import json\n",
    "from pandas.io.json import json_normalize"
   ]
  },
  {
   "cell_type": "code",
   "execution_count": 4,
   "metadata": {},
   "outputs": [
    {
     "output_type": "execute_result",
     "data": {
      "text/plain": [
       "   station_id                                 name        lat       lon  \\\n",
       "0   213688169        Benjamin Godard - Victor Hugo  48.865983  2.275725   \n",
       "1    99950133   André Mazet - Saint-André des Arts  48.853756  2.339096   \n",
       "2   516709288  Charonne - Robert et Sonia Delauney  48.855908  2.392571   \n",
       "3       36255                   Toudouze - Clauzel  48.879296  2.337360   \n",
       "4    37815204                      Mairie du 12ème  48.840855  2.387555   \n",
       "\n",
       "   capacity stationCode rental_methods  \n",
       "0        35       16107            NaN  \n",
       "1        55        6015   [CREDITCARD]  \n",
       "2        20       11104            NaN  \n",
       "3        21        9020   [CREDITCARD]  \n",
       "4        30       12109            NaN  "
      ],
      "text/html": "<div>\n<style scoped>\n    .dataframe tbody tr th:only-of-type {\n        vertical-align: middle;\n    }\n\n    .dataframe tbody tr th {\n        vertical-align: top;\n    }\n\n    .dataframe thead th {\n        text-align: right;\n    }\n</style>\n<table border=\"1\" class=\"dataframe\">\n  <thead>\n    <tr style=\"text-align: right;\">\n      <th></th>\n      <th>station_id</th>\n      <th>name</th>\n      <th>lat</th>\n      <th>lon</th>\n      <th>capacity</th>\n      <th>stationCode</th>\n      <th>rental_methods</th>\n    </tr>\n  </thead>\n  <tbody>\n    <tr>\n      <th>0</th>\n      <td>213688169</td>\n      <td>Benjamin Godard - Victor Hugo</td>\n      <td>48.865983</td>\n      <td>2.275725</td>\n      <td>35</td>\n      <td>16107</td>\n      <td>NaN</td>\n    </tr>\n    <tr>\n      <th>1</th>\n      <td>99950133</td>\n      <td>André Mazet - Saint-André des Arts</td>\n      <td>48.853756</td>\n      <td>2.339096</td>\n      <td>55</td>\n      <td>6015</td>\n      <td>[CREDITCARD]</td>\n    </tr>\n    <tr>\n      <th>2</th>\n      <td>516709288</td>\n      <td>Charonne - Robert et Sonia Delauney</td>\n      <td>48.855908</td>\n      <td>2.392571</td>\n      <td>20</td>\n      <td>11104</td>\n      <td>NaN</td>\n    </tr>\n    <tr>\n      <th>3</th>\n      <td>36255</td>\n      <td>Toudouze - Clauzel</td>\n      <td>48.879296</td>\n      <td>2.337360</td>\n      <td>21</td>\n      <td>9020</td>\n      <td>[CREDITCARD]</td>\n    </tr>\n    <tr>\n      <th>4</th>\n      <td>37815204</td>\n      <td>Mairie du 12ème</td>\n      <td>48.840855</td>\n      <td>2.387555</td>\n      <td>30</td>\n      <td>12109</td>\n      <td>NaN</td>\n    </tr>\n  </tbody>\n</table>\n</div>"
     },
     "metadata": {},
     "execution_count": 4
    }
   ],
   "source": [
    "request= urllib.request.Request('https://velib-metropole-opendata.smoove.pro/opendata/Velib_Metropole/station_information.json')\n",
    "response = urllib.request.urlopen(request)\n",
    "station_info = response.read()\n",
    "data = json.loads(station_info)\n",
    "df_station_info = json_normalize(data['data']['stations'])\n",
    "df_station_info.head()"
   ]
  },
  {
   "cell_type": "code",
   "execution_count": 5,
   "metadata": {},
   "outputs": [],
   "source": [
    "df_id_name_capacity = df_station_info[[\"station_id\", \"lat\", \"lon\", \"name\", \"capacity\"]]\n",
    "velib_details = df_id_name_capacity.merge(velib, how = \"inner\", left_index=True, right_index=True)\n",
    "#velib_w_capacity = velib_w_capacity[velib_w_capacity[\"capacity\"] != 0]"
   ]
  },
  {
   "cell_type": "code",
   "execution_count": 6,
   "metadata": {},
   "outputs": [
    {
     "output_type": "execute_result",
     "data": {
      "text/plain": [
       "   station_id        lat       lon                                 name  \\\n",
       "0   213688169  48.865983  2.275725        Benjamin Godard - Victor Hugo   \n",
       "1    99950133  48.853756  2.339096   André Mazet - Saint-André des Arts   \n",
       "2   516709288  48.855908  2.392571  Charonne - Robert et Sonia Delauney   \n",
       "3       36255  48.879296  2.337360                   Toudouze - Clauzel   \n",
       "4    37815204  48.840855  2.387555                      Mairie du 12ème   \n",
       "5   100769544  48.851519  2.343670                Harpe - Saint-Germain   \n",
       "6    85002689  48.819428  2.343335             Jourdan - Stade Charléty   \n",
       "7    54000559  48.881973  2.301132           Jouffroy d'Abbans - Wagram   \n",
       "8    85043758  48.882878  2.287667         Guersant - Gouvion-Saint-Cyr   \n",
       "9   123095125  48.871044  2.366104                   Alibert - Jemmapes   \n",
       "\n",
       "   capacity  10/19/20;18:56:54  10/19/20;19:56:58  10/19/20;20:57:02  \\\n",
       "0        35                  1                  2                  5   \n",
       "1        55                 45                 48                 49   \n",
       "2        20                  2                  3                 10   \n",
       "3        21                  6                  9                 10   \n",
       "4        30                  7                 16                 25   \n",
       "5        46                 38                 26                 18   \n",
       "6        60                 19                 23                 19   \n",
       "7        40                  9                  8                  5   \n",
       "8        29                  4                 10                 11   \n",
       "9        60                 13                 25                 37   \n",
       "\n",
       "   10/19/20;21:57:05  10/19/20;22:57:14  ...  02/15/21;11:49:48  \\\n",
       "0                  4                  3  ...                  2   \n",
       "1                 51                 52  ...                 37   \n",
       "2                  9                 11  ...                  1   \n",
       "3                 12                 10  ...                  6   \n",
       "4                 24                 23  ...                  6   \n",
       "5                 20                 24  ...                 26   \n",
       "6                 29                 30  ...                  6   \n",
       "7                  7                  7  ...                 13   \n",
       "8                 14                 14  ...                 29   \n",
       "9                 36                 36  ...                 25   \n",
       "\n",
       "   02/15/21;12:53:25  02/15/21;13:56:59  02/15/21;15:00:34  02/15/21;16:04:08  \\\n",
       "0                  2                  2                  1                  2   \n",
       "1                 37                 39                 41                 40   \n",
       "2                  1                  0                  4                  4   \n",
       "3                  5                  8                  8                  5   \n",
       "4                  3                  4                  2                  2   \n",
       "5                 25                 29                 26                 27   \n",
       "6                 11                 11                 10                 10   \n",
       "7                 13                 15                 10                 10   \n",
       "8                 27                 29                 28                 30   \n",
       "9                 22                 18                 13                 14   \n",
       "\n",
       "   02/15/21;17:07:43  02/15/21;18:11:18  02/15/21;19:16:38  02/15/21;20:20:06  \\\n",
       "0                  4                  2                  5                  3   \n",
       "1                 38                 32                 25                 24   \n",
       "2                  1                  1                  4                  5   \n",
       "3                  4                  6                  4                  5   \n",
       "4                  4                  6                 11                 17   \n",
       "5                 27                 28                 28                 28   \n",
       "6                  9                 11                 17                 18   \n",
       "7                 10                 17                 17                 15   \n",
       "8                 31                 35                 37                 38   \n",
       "9                 13                 21                 26                 28   \n",
       "\n",
       "   02/15/21;21:23:35  \n",
       "0                  4  \n",
       "1                 24  \n",
       "2                  3  \n",
       "3                  8  \n",
       "4                 18  \n",
       "5                 29  \n",
       "6                 20  \n",
       "7                 15  \n",
       "8                 38  \n",
       "9                 33  \n",
       "\n",
       "[10 rows x 2783 columns]"
      ],
      "text/html": "<div>\n<style scoped>\n    .dataframe tbody tr th:only-of-type {\n        vertical-align: middle;\n    }\n\n    .dataframe tbody tr th {\n        vertical-align: top;\n    }\n\n    .dataframe thead th {\n        text-align: right;\n    }\n</style>\n<table border=\"1\" class=\"dataframe\">\n  <thead>\n    <tr style=\"text-align: right;\">\n      <th></th>\n      <th>station_id</th>\n      <th>lat</th>\n      <th>lon</th>\n      <th>name</th>\n      <th>capacity</th>\n      <th>10/19/20;18:56:54</th>\n      <th>10/19/20;19:56:58</th>\n      <th>10/19/20;20:57:02</th>\n      <th>10/19/20;21:57:05</th>\n      <th>10/19/20;22:57:14</th>\n      <th>...</th>\n      <th>02/15/21;11:49:48</th>\n      <th>02/15/21;12:53:25</th>\n      <th>02/15/21;13:56:59</th>\n      <th>02/15/21;15:00:34</th>\n      <th>02/15/21;16:04:08</th>\n      <th>02/15/21;17:07:43</th>\n      <th>02/15/21;18:11:18</th>\n      <th>02/15/21;19:16:38</th>\n      <th>02/15/21;20:20:06</th>\n      <th>02/15/21;21:23:35</th>\n    </tr>\n  </thead>\n  <tbody>\n    <tr>\n      <th>0</th>\n      <td>213688169</td>\n      <td>48.865983</td>\n      <td>2.275725</td>\n      <td>Benjamin Godard - Victor Hugo</td>\n      <td>35</td>\n      <td>1</td>\n      <td>2</td>\n      <td>5</td>\n      <td>4</td>\n      <td>3</td>\n      <td>...</td>\n      <td>2</td>\n      <td>2</td>\n      <td>2</td>\n      <td>1</td>\n      <td>2</td>\n      <td>4</td>\n      <td>2</td>\n      <td>5</td>\n      <td>3</td>\n      <td>4</td>\n    </tr>\n    <tr>\n      <th>1</th>\n      <td>99950133</td>\n      <td>48.853756</td>\n      <td>2.339096</td>\n      <td>André Mazet - Saint-André des Arts</td>\n      <td>55</td>\n      <td>45</td>\n      <td>48</td>\n      <td>49</td>\n      <td>51</td>\n      <td>52</td>\n      <td>...</td>\n      <td>37</td>\n      <td>37</td>\n      <td>39</td>\n      <td>41</td>\n      <td>40</td>\n      <td>38</td>\n      <td>32</td>\n      <td>25</td>\n      <td>24</td>\n      <td>24</td>\n    </tr>\n    <tr>\n      <th>2</th>\n      <td>516709288</td>\n      <td>48.855908</td>\n      <td>2.392571</td>\n      <td>Charonne - Robert et Sonia Delauney</td>\n      <td>20</td>\n      <td>2</td>\n      <td>3</td>\n      <td>10</td>\n      <td>9</td>\n      <td>11</td>\n      <td>...</td>\n      <td>1</td>\n      <td>1</td>\n      <td>0</td>\n      <td>4</td>\n      <td>4</td>\n      <td>1</td>\n      <td>1</td>\n      <td>4</td>\n      <td>5</td>\n      <td>3</td>\n    </tr>\n    <tr>\n      <th>3</th>\n      <td>36255</td>\n      <td>48.879296</td>\n      <td>2.337360</td>\n      <td>Toudouze - Clauzel</td>\n      <td>21</td>\n      <td>6</td>\n      <td>9</td>\n      <td>10</td>\n      <td>12</td>\n      <td>10</td>\n      <td>...</td>\n      <td>6</td>\n      <td>5</td>\n      <td>8</td>\n      <td>8</td>\n      <td>5</td>\n      <td>4</td>\n      <td>6</td>\n      <td>4</td>\n      <td>5</td>\n      <td>8</td>\n    </tr>\n    <tr>\n      <th>4</th>\n      <td>37815204</td>\n      <td>48.840855</td>\n      <td>2.387555</td>\n      <td>Mairie du 12ème</td>\n      <td>30</td>\n      <td>7</td>\n      <td>16</td>\n      <td>25</td>\n      <td>24</td>\n      <td>23</td>\n      <td>...</td>\n      <td>6</td>\n      <td>3</td>\n      <td>4</td>\n      <td>2</td>\n      <td>2</td>\n      <td>4</td>\n      <td>6</td>\n      <td>11</td>\n      <td>17</td>\n      <td>18</td>\n    </tr>\n    <tr>\n      <th>5</th>\n      <td>100769544</td>\n      <td>48.851519</td>\n      <td>2.343670</td>\n      <td>Harpe - Saint-Germain</td>\n      <td>46</td>\n      <td>38</td>\n      <td>26</td>\n      <td>18</td>\n      <td>20</td>\n      <td>24</td>\n      <td>...</td>\n      <td>26</td>\n      <td>25</td>\n      <td>29</td>\n      <td>26</td>\n      <td>27</td>\n      <td>27</td>\n      <td>28</td>\n      <td>28</td>\n      <td>28</td>\n      <td>29</td>\n    </tr>\n    <tr>\n      <th>6</th>\n      <td>85002689</td>\n      <td>48.819428</td>\n      <td>2.343335</td>\n      <td>Jourdan - Stade Charléty</td>\n      <td>60</td>\n      <td>19</td>\n      <td>23</td>\n      <td>19</td>\n      <td>29</td>\n      <td>30</td>\n      <td>...</td>\n      <td>6</td>\n      <td>11</td>\n      <td>11</td>\n      <td>10</td>\n      <td>10</td>\n      <td>9</td>\n      <td>11</td>\n      <td>17</td>\n      <td>18</td>\n      <td>20</td>\n    </tr>\n    <tr>\n      <th>7</th>\n      <td>54000559</td>\n      <td>48.881973</td>\n      <td>2.301132</td>\n      <td>Jouffroy d'Abbans - Wagram</td>\n      <td>40</td>\n      <td>9</td>\n      <td>8</td>\n      <td>5</td>\n      <td>7</td>\n      <td>7</td>\n      <td>...</td>\n      <td>13</td>\n      <td>13</td>\n      <td>15</td>\n      <td>10</td>\n      <td>10</td>\n      <td>10</td>\n      <td>17</td>\n      <td>17</td>\n      <td>15</td>\n      <td>15</td>\n    </tr>\n    <tr>\n      <th>8</th>\n      <td>85043758</td>\n      <td>48.882878</td>\n      <td>2.287667</td>\n      <td>Guersant - Gouvion-Saint-Cyr</td>\n      <td>29</td>\n      <td>4</td>\n      <td>10</td>\n      <td>11</td>\n      <td>14</td>\n      <td>14</td>\n      <td>...</td>\n      <td>29</td>\n      <td>27</td>\n      <td>29</td>\n      <td>28</td>\n      <td>30</td>\n      <td>31</td>\n      <td>35</td>\n      <td>37</td>\n      <td>38</td>\n      <td>38</td>\n    </tr>\n    <tr>\n      <th>9</th>\n      <td>123095125</td>\n      <td>48.871044</td>\n      <td>2.366104</td>\n      <td>Alibert - Jemmapes</td>\n      <td>60</td>\n      <td>13</td>\n      <td>25</td>\n      <td>37</td>\n      <td>36</td>\n      <td>36</td>\n      <td>...</td>\n      <td>25</td>\n      <td>22</td>\n      <td>18</td>\n      <td>13</td>\n      <td>14</td>\n      <td>13</td>\n      <td>21</td>\n      <td>26</td>\n      <td>28</td>\n      <td>33</td>\n    </tr>\n  </tbody>\n</table>\n<p>10 rows × 2783 columns</p>\n</div>"
     },
     "metadata": {},
     "execution_count": 6
    }
   ],
   "source": [
    "velib_details[:10]"
   ]
  },
  {
   "cell_type": "code",
   "execution_count": 7,
   "metadata": {},
   "outputs": [
    {
     "output_type": "execute_result",
     "data": {
      "text/plain": [
       "                   0     1     2     3     4     5     6     7     8     9     \\\n",
       "10/19/20;18:56:54     1    45     2     6     7    38    19     9     4    13   \n",
       "10/19/20;19:56:58     2    48     3     9    16    26    23     8    10    25   \n",
       "10/19/20;20:57:02     5    49    10    10    25    18    19     5    11    37   \n",
       "10/19/20;21:57:05     4    51     9    12    24    20    29     7    14    36   \n",
       "10/19/20;22:57:14     3    52    11    10    23    24    30     7    14    36   \n",
       "...                 ...   ...   ...   ...   ...   ...   ...   ...   ...   ...   \n",
       "02/15/21;17:07:43     4    38     1     4     4    27     9    10    31    13   \n",
       "02/15/21;18:11:18     2    32     1     6     6    28    11    17    35    21   \n",
       "02/15/21;19:16:38     5    25     4     4    11    28    17    17    37    26   \n",
       "02/15/21;20:20:06     3    24     5     5    17    28    18    15    38    28   \n",
       "02/15/21;21:23:35     4    24     3     8    18    29    20    15    38    33   \n",
       "\n",
       "                   ...  1388  1389  1390  1391  1392  1393  1394  1395  1396  \\\n",
       "10/19/20;18:56:54  ...     6     4     2    38    18    15     2     6    17   \n",
       "10/19/20;19:56:58  ...     7     6     1    21    20    25     2    15    15   \n",
       "10/19/20;20:57:02  ...     5    12     1    18    17    27     0    29    12   \n",
       "10/19/20;21:57:05  ...     6    14     2    17    19    31    14    34    15   \n",
       "10/19/20;22:57:14  ...     6    13     0    18    19    32    16    35    12   \n",
       "...                ...   ...   ...   ...   ...   ...   ...   ...   ...   ...   \n",
       "02/15/21;17:07:43  ...     3    10     2    15    11    23     6     7    14   \n",
       "02/15/21;18:11:18  ...     5    11     2    11    11    30     8    10    15   \n",
       "02/15/21;19:16:38  ...    11    16     3    11    12    34     9    22     7   \n",
       "02/15/21;20:20:06  ...    10    18     1    13    12    36     9    25     9   \n",
       "02/15/21;21:23:35  ...    11    19     1    11    12    36    11    29     8   \n",
       "\n",
       "                   1397  \n",
       "10/19/20;18:56:54    17  \n",
       "10/19/20;19:56:58    13  \n",
       "10/19/20;20:57:02     5  \n",
       "10/19/20;21:57:05     6  \n",
       "10/19/20;22:57:14     7  \n",
       "...                 ...  \n",
       "02/15/21;17:07:43    22  \n",
       "02/15/21;18:11:18    11  \n",
       "02/15/21;19:16:38     6  \n",
       "02/15/21;20:20:06     5  \n",
       "02/15/21;21:23:35     5  \n",
       "\n",
       "[2778 rows x 1398 columns]"
      ],
      "text/html": "<div>\n<style scoped>\n    .dataframe tbody tr th:only-of-type {\n        vertical-align: middle;\n    }\n\n    .dataframe tbody tr th {\n        vertical-align: top;\n    }\n\n    .dataframe thead th {\n        text-align: right;\n    }\n</style>\n<table border=\"1\" class=\"dataframe\">\n  <thead>\n    <tr style=\"text-align: right;\">\n      <th></th>\n      <th>0</th>\n      <th>1</th>\n      <th>2</th>\n      <th>3</th>\n      <th>4</th>\n      <th>5</th>\n      <th>6</th>\n      <th>7</th>\n      <th>8</th>\n      <th>9</th>\n      <th>...</th>\n      <th>1388</th>\n      <th>1389</th>\n      <th>1390</th>\n      <th>1391</th>\n      <th>1392</th>\n      <th>1393</th>\n      <th>1394</th>\n      <th>1395</th>\n      <th>1396</th>\n      <th>1397</th>\n    </tr>\n  </thead>\n  <tbody>\n    <tr>\n      <th>10/19/20;18:56:54</th>\n      <td>1</td>\n      <td>45</td>\n      <td>2</td>\n      <td>6</td>\n      <td>7</td>\n      <td>38</td>\n      <td>19</td>\n      <td>9</td>\n      <td>4</td>\n      <td>13</td>\n      <td>...</td>\n      <td>6</td>\n      <td>4</td>\n      <td>2</td>\n      <td>38</td>\n      <td>18</td>\n      <td>15</td>\n      <td>2</td>\n      <td>6</td>\n      <td>17</td>\n      <td>17</td>\n    </tr>\n    <tr>\n      <th>10/19/20;19:56:58</th>\n      <td>2</td>\n      <td>48</td>\n      <td>3</td>\n      <td>9</td>\n      <td>16</td>\n      <td>26</td>\n      <td>23</td>\n      <td>8</td>\n      <td>10</td>\n      <td>25</td>\n      <td>...</td>\n      <td>7</td>\n      <td>6</td>\n      <td>1</td>\n      <td>21</td>\n      <td>20</td>\n      <td>25</td>\n      <td>2</td>\n      <td>15</td>\n      <td>15</td>\n      <td>13</td>\n    </tr>\n    <tr>\n      <th>10/19/20;20:57:02</th>\n      <td>5</td>\n      <td>49</td>\n      <td>10</td>\n      <td>10</td>\n      <td>25</td>\n      <td>18</td>\n      <td>19</td>\n      <td>5</td>\n      <td>11</td>\n      <td>37</td>\n      <td>...</td>\n      <td>5</td>\n      <td>12</td>\n      <td>1</td>\n      <td>18</td>\n      <td>17</td>\n      <td>27</td>\n      <td>0</td>\n      <td>29</td>\n      <td>12</td>\n      <td>5</td>\n    </tr>\n    <tr>\n      <th>10/19/20;21:57:05</th>\n      <td>4</td>\n      <td>51</td>\n      <td>9</td>\n      <td>12</td>\n      <td>24</td>\n      <td>20</td>\n      <td>29</td>\n      <td>7</td>\n      <td>14</td>\n      <td>36</td>\n      <td>...</td>\n      <td>6</td>\n      <td>14</td>\n      <td>2</td>\n      <td>17</td>\n      <td>19</td>\n      <td>31</td>\n      <td>14</td>\n      <td>34</td>\n      <td>15</td>\n      <td>6</td>\n    </tr>\n    <tr>\n      <th>10/19/20;22:57:14</th>\n      <td>3</td>\n      <td>52</td>\n      <td>11</td>\n      <td>10</td>\n      <td>23</td>\n      <td>24</td>\n      <td>30</td>\n      <td>7</td>\n      <td>14</td>\n      <td>36</td>\n      <td>...</td>\n      <td>6</td>\n      <td>13</td>\n      <td>0</td>\n      <td>18</td>\n      <td>19</td>\n      <td>32</td>\n      <td>16</td>\n      <td>35</td>\n      <td>12</td>\n      <td>7</td>\n    </tr>\n    <tr>\n      <th>...</th>\n      <td>...</td>\n      <td>...</td>\n      <td>...</td>\n      <td>...</td>\n      <td>...</td>\n      <td>...</td>\n      <td>...</td>\n      <td>...</td>\n      <td>...</td>\n      <td>...</td>\n      <td>...</td>\n      <td>...</td>\n      <td>...</td>\n      <td>...</td>\n      <td>...</td>\n      <td>...</td>\n      <td>...</td>\n      <td>...</td>\n      <td>...</td>\n      <td>...</td>\n      <td>...</td>\n    </tr>\n    <tr>\n      <th>02/15/21;17:07:43</th>\n      <td>4</td>\n      <td>38</td>\n      <td>1</td>\n      <td>4</td>\n      <td>4</td>\n      <td>27</td>\n      <td>9</td>\n      <td>10</td>\n      <td>31</td>\n      <td>13</td>\n      <td>...</td>\n      <td>3</td>\n      <td>10</td>\n      <td>2</td>\n      <td>15</td>\n      <td>11</td>\n      <td>23</td>\n      <td>6</td>\n      <td>7</td>\n      <td>14</td>\n      <td>22</td>\n    </tr>\n    <tr>\n      <th>02/15/21;18:11:18</th>\n      <td>2</td>\n      <td>32</td>\n      <td>1</td>\n      <td>6</td>\n      <td>6</td>\n      <td>28</td>\n      <td>11</td>\n      <td>17</td>\n      <td>35</td>\n      <td>21</td>\n      <td>...</td>\n      <td>5</td>\n      <td>11</td>\n      <td>2</td>\n      <td>11</td>\n      <td>11</td>\n      <td>30</td>\n      <td>8</td>\n      <td>10</td>\n      <td>15</td>\n      <td>11</td>\n    </tr>\n    <tr>\n      <th>02/15/21;19:16:38</th>\n      <td>5</td>\n      <td>25</td>\n      <td>4</td>\n      <td>4</td>\n      <td>11</td>\n      <td>28</td>\n      <td>17</td>\n      <td>17</td>\n      <td>37</td>\n      <td>26</td>\n      <td>...</td>\n      <td>11</td>\n      <td>16</td>\n      <td>3</td>\n      <td>11</td>\n      <td>12</td>\n      <td>34</td>\n      <td>9</td>\n      <td>22</td>\n      <td>7</td>\n      <td>6</td>\n    </tr>\n    <tr>\n      <th>02/15/21;20:20:06</th>\n      <td>3</td>\n      <td>24</td>\n      <td>5</td>\n      <td>5</td>\n      <td>17</td>\n      <td>28</td>\n      <td>18</td>\n      <td>15</td>\n      <td>38</td>\n      <td>28</td>\n      <td>...</td>\n      <td>10</td>\n      <td>18</td>\n      <td>1</td>\n      <td>13</td>\n      <td>12</td>\n      <td>36</td>\n      <td>9</td>\n      <td>25</td>\n      <td>9</td>\n      <td>5</td>\n    </tr>\n    <tr>\n      <th>02/15/21;21:23:35</th>\n      <td>4</td>\n      <td>24</td>\n      <td>3</td>\n      <td>8</td>\n      <td>18</td>\n      <td>29</td>\n      <td>20</td>\n      <td>15</td>\n      <td>38</td>\n      <td>33</td>\n      <td>...</td>\n      <td>11</td>\n      <td>19</td>\n      <td>1</td>\n      <td>11</td>\n      <td>12</td>\n      <td>36</td>\n      <td>11</td>\n      <td>29</td>\n      <td>8</td>\n      <td>5</td>\n    </tr>\n  </tbody>\n</table>\n<p>2778 rows × 1398 columns</p>\n</div>"
     },
     "metadata": {},
     "execution_count": 7
    }
   ],
   "source": [
    "df_velib = velib.transpose()\n",
    "df_velib"
   ]
  },
  {
   "source": [
    "## Construction de la variable à prédire : le nombre de vélos dans une station target **1 jour** plus tard"
   ],
   "cell_type": "markdown",
   "metadata": {}
  },
  {
   "cell_type": "code",
   "execution_count": 8,
   "metadata": {},
   "outputs": [
    {
     "output_type": "execute_result",
     "data": {
      "text/plain": [
       "                   0   1   2   3   4   5   6   7   8   9  ...  1389  1390  \\\n",
       "10/19/20;18:56:54  1  45   2   6   7  38  19   9   4  13  ...     4     2   \n",
       "10/19/20;19:56:58  2  48   3   9  16  26  23   8  10  25  ...     6     1   \n",
       "10/19/20;20:57:02  5  49  10  10  25  18  19   5  11  37  ...    12     1   \n",
       "10/19/20;21:57:05  4  51   9  12  24  20  29   7  14  36  ...    14     2   \n",
       "10/19/20;22:57:14  3  52  11  10  23  24  30   7  14  36  ...    13     0   \n",
       "...               ..  ..  ..  ..  ..  ..  ..  ..  ..  ..  ...   ...   ...   \n",
       "02/15/21;17:07:43  4  38   1   4   4  27   9  10  31  13  ...    10     2   \n",
       "02/15/21;18:11:18  2  32   1   6   6  28  11  17  35  21  ...    11     2   \n",
       "02/15/21;19:16:38  5  25   4   4  11  28  17  17  37  26  ...    16     3   \n",
       "02/15/21;20:20:06  3  24   5   5  17  28  18  15  38  28  ...    18     1   \n",
       "02/15/21;21:23:35  4  24   3   8  18  29  20  15  38  33  ...    19     1   \n",
       "\n",
       "                   1391  1392  1393  1394  1395  1396  1397  y  \n",
       "10/19/20;18:56:54    38    18    15     2     6    17    17  1  \n",
       "10/19/20;19:56:58    21    20    25     2    15    15    13  2  \n",
       "10/19/20;20:57:02    18    17    27     0    29    12     5  5  \n",
       "10/19/20;21:57:05    17    19    31    14    34    15     6  4  \n",
       "10/19/20;22:57:14    18    19    32    16    35    12     7  3  \n",
       "...                 ...   ...   ...   ...   ...   ...   ... ..  \n",
       "02/15/21;17:07:43    15    11    23     6     7    14    22  4  \n",
       "02/15/21;18:11:18    11    11    30     8    10    15    11  2  \n",
       "02/15/21;19:16:38    11    12    34     9    22     7     6  5  \n",
       "02/15/21;20:20:06    13    12    36     9    25     9     5  3  \n",
       "02/15/21;21:23:35    11    12    36    11    29     8     5  4  \n",
       "\n",
       "[2778 rows x 1399 columns]"
      ],
      "text/html": "<div>\n<style scoped>\n    .dataframe tbody tr th:only-of-type {\n        vertical-align: middle;\n    }\n\n    .dataframe tbody tr th {\n        vertical-align: top;\n    }\n\n    .dataframe thead th {\n        text-align: right;\n    }\n</style>\n<table border=\"1\" class=\"dataframe\">\n  <thead>\n    <tr style=\"text-align: right;\">\n      <th></th>\n      <th>0</th>\n      <th>1</th>\n      <th>2</th>\n      <th>3</th>\n      <th>4</th>\n      <th>5</th>\n      <th>6</th>\n      <th>7</th>\n      <th>8</th>\n      <th>9</th>\n      <th>...</th>\n      <th>1389</th>\n      <th>1390</th>\n      <th>1391</th>\n      <th>1392</th>\n      <th>1393</th>\n      <th>1394</th>\n      <th>1395</th>\n      <th>1396</th>\n      <th>1397</th>\n      <th>y</th>\n    </tr>\n  </thead>\n  <tbody>\n    <tr>\n      <th>10/19/20;18:56:54</th>\n      <td>1</td>\n      <td>45</td>\n      <td>2</td>\n      <td>6</td>\n      <td>7</td>\n      <td>38</td>\n      <td>19</td>\n      <td>9</td>\n      <td>4</td>\n      <td>13</td>\n      <td>...</td>\n      <td>4</td>\n      <td>2</td>\n      <td>38</td>\n      <td>18</td>\n      <td>15</td>\n      <td>2</td>\n      <td>6</td>\n      <td>17</td>\n      <td>17</td>\n      <td>1</td>\n    </tr>\n    <tr>\n      <th>10/19/20;19:56:58</th>\n      <td>2</td>\n      <td>48</td>\n      <td>3</td>\n      <td>9</td>\n      <td>16</td>\n      <td>26</td>\n      <td>23</td>\n      <td>8</td>\n      <td>10</td>\n      <td>25</td>\n      <td>...</td>\n      <td>6</td>\n      <td>1</td>\n      <td>21</td>\n      <td>20</td>\n      <td>25</td>\n      <td>2</td>\n      <td>15</td>\n      <td>15</td>\n      <td>13</td>\n      <td>2</td>\n    </tr>\n    <tr>\n      <th>10/19/20;20:57:02</th>\n      <td>5</td>\n      <td>49</td>\n      <td>10</td>\n      <td>10</td>\n      <td>25</td>\n      <td>18</td>\n      <td>19</td>\n      <td>5</td>\n      <td>11</td>\n      <td>37</td>\n      <td>...</td>\n      <td>12</td>\n      <td>1</td>\n      <td>18</td>\n      <td>17</td>\n      <td>27</td>\n      <td>0</td>\n      <td>29</td>\n      <td>12</td>\n      <td>5</td>\n      <td>5</td>\n    </tr>\n    <tr>\n      <th>10/19/20;21:57:05</th>\n      <td>4</td>\n      <td>51</td>\n      <td>9</td>\n      <td>12</td>\n      <td>24</td>\n      <td>20</td>\n      <td>29</td>\n      <td>7</td>\n      <td>14</td>\n      <td>36</td>\n      <td>...</td>\n      <td>14</td>\n      <td>2</td>\n      <td>17</td>\n      <td>19</td>\n      <td>31</td>\n      <td>14</td>\n      <td>34</td>\n      <td>15</td>\n      <td>6</td>\n      <td>4</td>\n    </tr>\n    <tr>\n      <th>10/19/20;22:57:14</th>\n      <td>3</td>\n      <td>52</td>\n      <td>11</td>\n      <td>10</td>\n      <td>23</td>\n      <td>24</td>\n      <td>30</td>\n      <td>7</td>\n      <td>14</td>\n      <td>36</td>\n      <td>...</td>\n      <td>13</td>\n      <td>0</td>\n      <td>18</td>\n      <td>19</td>\n      <td>32</td>\n      <td>16</td>\n      <td>35</td>\n      <td>12</td>\n      <td>7</td>\n      <td>3</td>\n    </tr>\n    <tr>\n      <th>...</th>\n      <td>...</td>\n      <td>...</td>\n      <td>...</td>\n      <td>...</td>\n      <td>...</td>\n      <td>...</td>\n      <td>...</td>\n      <td>...</td>\n      <td>...</td>\n      <td>...</td>\n      <td>...</td>\n      <td>...</td>\n      <td>...</td>\n      <td>...</td>\n      <td>...</td>\n      <td>...</td>\n      <td>...</td>\n      <td>...</td>\n      <td>...</td>\n      <td>...</td>\n      <td>...</td>\n    </tr>\n    <tr>\n      <th>02/15/21;17:07:43</th>\n      <td>4</td>\n      <td>38</td>\n      <td>1</td>\n      <td>4</td>\n      <td>4</td>\n      <td>27</td>\n      <td>9</td>\n      <td>10</td>\n      <td>31</td>\n      <td>13</td>\n      <td>...</td>\n      <td>10</td>\n      <td>2</td>\n      <td>15</td>\n      <td>11</td>\n      <td>23</td>\n      <td>6</td>\n      <td>7</td>\n      <td>14</td>\n      <td>22</td>\n      <td>4</td>\n    </tr>\n    <tr>\n      <th>02/15/21;18:11:18</th>\n      <td>2</td>\n      <td>32</td>\n      <td>1</td>\n      <td>6</td>\n      <td>6</td>\n      <td>28</td>\n      <td>11</td>\n      <td>17</td>\n      <td>35</td>\n      <td>21</td>\n      <td>...</td>\n      <td>11</td>\n      <td>2</td>\n      <td>11</td>\n      <td>11</td>\n      <td>30</td>\n      <td>8</td>\n      <td>10</td>\n      <td>15</td>\n      <td>11</td>\n      <td>2</td>\n    </tr>\n    <tr>\n      <th>02/15/21;19:16:38</th>\n      <td>5</td>\n      <td>25</td>\n      <td>4</td>\n      <td>4</td>\n      <td>11</td>\n      <td>28</td>\n      <td>17</td>\n      <td>17</td>\n      <td>37</td>\n      <td>26</td>\n      <td>...</td>\n      <td>16</td>\n      <td>3</td>\n      <td>11</td>\n      <td>12</td>\n      <td>34</td>\n      <td>9</td>\n      <td>22</td>\n      <td>7</td>\n      <td>6</td>\n      <td>5</td>\n    </tr>\n    <tr>\n      <th>02/15/21;20:20:06</th>\n      <td>3</td>\n      <td>24</td>\n      <td>5</td>\n      <td>5</td>\n      <td>17</td>\n      <td>28</td>\n      <td>18</td>\n      <td>15</td>\n      <td>38</td>\n      <td>28</td>\n      <td>...</td>\n      <td>18</td>\n      <td>1</td>\n      <td>13</td>\n      <td>12</td>\n      <td>36</td>\n      <td>9</td>\n      <td>25</td>\n      <td>9</td>\n      <td>5</td>\n      <td>3</td>\n    </tr>\n    <tr>\n      <th>02/15/21;21:23:35</th>\n      <td>4</td>\n      <td>24</td>\n      <td>3</td>\n      <td>8</td>\n      <td>18</td>\n      <td>29</td>\n      <td>20</td>\n      <td>15</td>\n      <td>38</td>\n      <td>33</td>\n      <td>...</td>\n      <td>19</td>\n      <td>1</td>\n      <td>11</td>\n      <td>12</td>\n      <td>36</td>\n      <td>11</td>\n      <td>29</td>\n      <td>8</td>\n      <td>5</td>\n      <td>4</td>\n    </tr>\n  </tbody>\n</table>\n<p>2778 rows × 1399 columns</p>\n</div>"
     },
     "metadata": {},
     "execution_count": 8
    }
   ],
   "source": [
    "df = df_velib.copy()\n",
    "df['y'] = df[0]\n",
    "df"
   ]
  },
  {
   "cell_type": "code",
   "execution_count": 9,
   "metadata": {},
   "outputs": [
    {
     "output_type": "execute_result",
     "data": {
      "text/plain": [
       "                   0   1   2   3   4   5   6   7   8   9  ...  1389  1390  \\\n",
       "10/19/20;18:56:54  1  45   2   6   7  38  19   9   4  13  ...     4     2   \n",
       "10/19/20;19:56:58  2  48   3   9  16  26  23   8  10  25  ...     6     1   \n",
       "10/19/20;20:57:02  5  49  10  10  25  18  19   5  11  37  ...    12     1   \n",
       "10/19/20;21:57:05  4  51   9  12  24  20  29   7  14  36  ...    14     2   \n",
       "10/19/20;22:57:14  3  52  11  10  23  24  30   7  14  36  ...    13     0   \n",
       "...               ..  ..  ..  ..  ..  ..  ..  ..  ..  ..  ...   ...   ...   \n",
       "02/14/21;15:43:31  1  30   3   8  12  42   4   9  33  40  ...    11     2   \n",
       "02/14/21;16:47:04  2  39   1   8  11  37   5   7  33  40  ...     9     4   \n",
       "02/14/21;17:50:32  4  35   1  10  16  38   4  11  30  36  ...     9     4   \n",
       "02/14/21;18:53:59  7  40   2   7  20  38   8  13  33  46  ...    15     2   \n",
       "02/14/21;19:57:26  7  38   1   5  21  35   7  14  33  47  ...    16     1   \n",
       "\n",
       "                   1391  1392  1393  1394  1395  1396  1397  y  \n",
       "10/19/20;18:56:54    38    18    15     2     6    17    17  4  \n",
       "10/19/20;19:56:58    21    20    25     2    15    15    13  5  \n",
       "10/19/20;20:57:02    18    17    27     0    29    12     5  4  \n",
       "10/19/20;21:57:05    17    19    31    14    34    15     6  4  \n",
       "10/19/20;22:57:14    18    19    32    16    35    12     7  4  \n",
       "...                 ...   ...   ...   ...   ...   ...   ... ..  \n",
       "02/14/21;15:43:31    12    19    16     3    18     5    20  4  \n",
       "02/14/21;16:47:04    14    17    15     5    16     5    20  2  \n",
       "02/14/21;17:50:32    11    12    22     7    17     8    15  5  \n",
       "02/14/21;18:53:59     9    11    33     5    18    12    12  3  \n",
       "02/14/21;19:57:26     9     9    32     4    17    11    11  4  \n",
       "\n",
       "[2754 rows x 1399 columns]"
      ],
      "text/html": "<div>\n<style scoped>\n    .dataframe tbody tr th:only-of-type {\n        vertical-align: middle;\n    }\n\n    .dataframe tbody tr th {\n        vertical-align: top;\n    }\n\n    .dataframe thead th {\n        text-align: right;\n    }\n</style>\n<table border=\"1\" class=\"dataframe\">\n  <thead>\n    <tr style=\"text-align: right;\">\n      <th></th>\n      <th>0</th>\n      <th>1</th>\n      <th>2</th>\n      <th>3</th>\n      <th>4</th>\n      <th>5</th>\n      <th>6</th>\n      <th>7</th>\n      <th>8</th>\n      <th>9</th>\n      <th>...</th>\n      <th>1389</th>\n      <th>1390</th>\n      <th>1391</th>\n      <th>1392</th>\n      <th>1393</th>\n      <th>1394</th>\n      <th>1395</th>\n      <th>1396</th>\n      <th>1397</th>\n      <th>y</th>\n    </tr>\n  </thead>\n  <tbody>\n    <tr>\n      <th>10/19/20;18:56:54</th>\n      <td>1</td>\n      <td>45</td>\n      <td>2</td>\n      <td>6</td>\n      <td>7</td>\n      <td>38</td>\n      <td>19</td>\n      <td>9</td>\n      <td>4</td>\n      <td>13</td>\n      <td>...</td>\n      <td>4</td>\n      <td>2</td>\n      <td>38</td>\n      <td>18</td>\n      <td>15</td>\n      <td>2</td>\n      <td>6</td>\n      <td>17</td>\n      <td>17</td>\n      <td>4</td>\n    </tr>\n    <tr>\n      <th>10/19/20;19:56:58</th>\n      <td>2</td>\n      <td>48</td>\n      <td>3</td>\n      <td>9</td>\n      <td>16</td>\n      <td>26</td>\n      <td>23</td>\n      <td>8</td>\n      <td>10</td>\n      <td>25</td>\n      <td>...</td>\n      <td>6</td>\n      <td>1</td>\n      <td>21</td>\n      <td>20</td>\n      <td>25</td>\n      <td>2</td>\n      <td>15</td>\n      <td>15</td>\n      <td>13</td>\n      <td>5</td>\n    </tr>\n    <tr>\n      <th>10/19/20;20:57:02</th>\n      <td>5</td>\n      <td>49</td>\n      <td>10</td>\n      <td>10</td>\n      <td>25</td>\n      <td>18</td>\n      <td>19</td>\n      <td>5</td>\n      <td>11</td>\n      <td>37</td>\n      <td>...</td>\n      <td>12</td>\n      <td>1</td>\n      <td>18</td>\n      <td>17</td>\n      <td>27</td>\n      <td>0</td>\n      <td>29</td>\n      <td>12</td>\n      <td>5</td>\n      <td>4</td>\n    </tr>\n    <tr>\n      <th>10/19/20;21:57:05</th>\n      <td>4</td>\n      <td>51</td>\n      <td>9</td>\n      <td>12</td>\n      <td>24</td>\n      <td>20</td>\n      <td>29</td>\n      <td>7</td>\n      <td>14</td>\n      <td>36</td>\n      <td>...</td>\n      <td>14</td>\n      <td>2</td>\n      <td>17</td>\n      <td>19</td>\n      <td>31</td>\n      <td>14</td>\n      <td>34</td>\n      <td>15</td>\n      <td>6</td>\n      <td>4</td>\n    </tr>\n    <tr>\n      <th>10/19/20;22:57:14</th>\n      <td>3</td>\n      <td>52</td>\n      <td>11</td>\n      <td>10</td>\n      <td>23</td>\n      <td>24</td>\n      <td>30</td>\n      <td>7</td>\n      <td>14</td>\n      <td>36</td>\n      <td>...</td>\n      <td>13</td>\n      <td>0</td>\n      <td>18</td>\n      <td>19</td>\n      <td>32</td>\n      <td>16</td>\n      <td>35</td>\n      <td>12</td>\n      <td>7</td>\n      <td>4</td>\n    </tr>\n    <tr>\n      <th>...</th>\n      <td>...</td>\n      <td>...</td>\n      <td>...</td>\n      <td>...</td>\n      <td>...</td>\n      <td>...</td>\n      <td>...</td>\n      <td>...</td>\n      <td>...</td>\n      <td>...</td>\n      <td>...</td>\n      <td>...</td>\n      <td>...</td>\n      <td>...</td>\n      <td>...</td>\n      <td>...</td>\n      <td>...</td>\n      <td>...</td>\n      <td>...</td>\n      <td>...</td>\n      <td>...</td>\n    </tr>\n    <tr>\n      <th>02/14/21;15:43:31</th>\n      <td>1</td>\n      <td>30</td>\n      <td>3</td>\n      <td>8</td>\n      <td>12</td>\n      <td>42</td>\n      <td>4</td>\n      <td>9</td>\n      <td>33</td>\n      <td>40</td>\n      <td>...</td>\n      <td>11</td>\n      <td>2</td>\n      <td>12</td>\n      <td>19</td>\n      <td>16</td>\n      <td>3</td>\n      <td>18</td>\n      <td>5</td>\n      <td>20</td>\n      <td>4</td>\n    </tr>\n    <tr>\n      <th>02/14/21;16:47:04</th>\n      <td>2</td>\n      <td>39</td>\n      <td>1</td>\n      <td>8</td>\n      <td>11</td>\n      <td>37</td>\n      <td>5</td>\n      <td>7</td>\n      <td>33</td>\n      <td>40</td>\n      <td>...</td>\n      <td>9</td>\n      <td>4</td>\n      <td>14</td>\n      <td>17</td>\n      <td>15</td>\n      <td>5</td>\n      <td>16</td>\n      <td>5</td>\n      <td>20</td>\n      <td>2</td>\n    </tr>\n    <tr>\n      <th>02/14/21;17:50:32</th>\n      <td>4</td>\n      <td>35</td>\n      <td>1</td>\n      <td>10</td>\n      <td>16</td>\n      <td>38</td>\n      <td>4</td>\n      <td>11</td>\n      <td>30</td>\n      <td>36</td>\n      <td>...</td>\n      <td>9</td>\n      <td>4</td>\n      <td>11</td>\n      <td>12</td>\n      <td>22</td>\n      <td>7</td>\n      <td>17</td>\n      <td>8</td>\n      <td>15</td>\n      <td>5</td>\n    </tr>\n    <tr>\n      <th>02/14/21;18:53:59</th>\n      <td>7</td>\n      <td>40</td>\n      <td>2</td>\n      <td>7</td>\n      <td>20</td>\n      <td>38</td>\n      <td>8</td>\n      <td>13</td>\n      <td>33</td>\n      <td>46</td>\n      <td>...</td>\n      <td>15</td>\n      <td>2</td>\n      <td>9</td>\n      <td>11</td>\n      <td>33</td>\n      <td>5</td>\n      <td>18</td>\n      <td>12</td>\n      <td>12</td>\n      <td>3</td>\n    </tr>\n    <tr>\n      <th>02/14/21;19:57:26</th>\n      <td>7</td>\n      <td>38</td>\n      <td>1</td>\n      <td>5</td>\n      <td>21</td>\n      <td>35</td>\n      <td>7</td>\n      <td>14</td>\n      <td>33</td>\n      <td>47</td>\n      <td>...</td>\n      <td>16</td>\n      <td>1</td>\n      <td>9</td>\n      <td>9</td>\n      <td>32</td>\n      <td>4</td>\n      <td>17</td>\n      <td>11</td>\n      <td>11</td>\n      <td>4</td>\n    </tr>\n  </tbody>\n</table>\n<p>2754 rows × 1399 columns</p>\n</div>"
     },
     "metadata": {},
     "execution_count": 9
    }
   ],
   "source": [
    "axis = df_velib.index\n",
    "\n",
    "# Boucle qui met dans Y toutes les données 24h plus tard\n",
    "for i in range(len(df)-24):\n",
    "    df['y'][axis[i]] = df[0][axis[i+24]]\n",
    "\n",
    "# Puis on supprime les 24 dernières lignes qui ne peuvent pas être complétées\n",
    "df.drop(axis[-24:], inplace = True)\n",
    "df"
   ]
  },
  {
   "source": [
    "## Machine Learning basique : regarder ce qu'il se passe sur une station"
   ],
   "cell_type": "markdown",
   "metadata": {}
  },
  {
   "cell_type": "code",
   "execution_count": 10,
   "metadata": {},
   "outputs": [],
   "source": [
    "# Choix des features\n",
    "stations = [i for i in df.columns if i != 'y']\n",
    "X = df[stations]\n",
    "\n",
    "# Préparation de la target\n",
    "y = df['y']\n",
    "\n",
    "from sklearn.model_selection import train_test_split"
   ]
  },
  {
   "cell_type": "code",
   "execution_count": 11,
   "metadata": {},
   "outputs": [
    {
     "output_type": "stream",
     "name": "stdout",
     "text": [
      "Le MAE du modèle est 2.278 avec la régression linéaire\n"
     ]
    }
   ],
   "source": [
    "# Régression linéaire simple\n",
    "X_train, X_test, y_train, y_test = train_test_split(X, y, test_size=0.3)\n",
    "regressor = LinearRegression()\n",
    "regressor.fit(X_train, y_train)\n",
    "y_prediction = regressor.predict(X_test)\n",
    "\n",
    "print(\"Le MAE du modèle est \"+str(round(mean_absolute_error(y_test, y_prediction),3))+\" avec la régression linéaire\")"
   ]
  },
  {
   "cell_type": "code",
   "execution_count": 12,
   "metadata": {},
   "outputs": [
    {
     "output_type": "stream",
     "name": "stdout",
     "text": [
      "Le MAE du modèle est 1.269 avec random forest\n"
     ]
    }
   ],
   "source": [
    "# Random Forest\n",
    "X_train, X_test, y_train, y_test = train_test_split(X, y, test_size=0.3)\n",
    "regressor = RandomForestRegressor()\n",
    "regressor.fit(X_train, y_train)\n",
    "y_prediction = regressor.predict(X_test)\n",
    "\n",
    "print(\"Le MAE du modèle est \"+str(round(mean_absolute_error(y_test, y_prediction),3))+\" avec random forest\")"
   ]
  },
  {
   "source": [
    "## Essai sur une autre station"
   ],
   "cell_type": "markdown",
   "metadata": {}
  },
  {
   "source": [
    "df2 = df_velib.copy()\n",
    "df2['y'] = df2[1]\n",
    "df2"
   ],
   "cell_type": "code",
   "metadata": {},
   "execution_count": 13,
   "outputs": [
    {
     "output_type": "execute_result",
     "data": {
      "text/plain": [
       "                   0   1   2   3   4   5   6   7   8   9  ...  1389  1390  \\\n",
       "10/19/20;18:56:54  1  45   2   6   7  38  19   9   4  13  ...     4     2   \n",
       "10/19/20;19:56:58  2  48   3   9  16  26  23   8  10  25  ...     6     1   \n",
       "10/19/20;20:57:02  5  49  10  10  25  18  19   5  11  37  ...    12     1   \n",
       "10/19/20;21:57:05  4  51   9  12  24  20  29   7  14  36  ...    14     2   \n",
       "10/19/20;22:57:14  3  52  11  10  23  24  30   7  14  36  ...    13     0   \n",
       "...               ..  ..  ..  ..  ..  ..  ..  ..  ..  ..  ...   ...   ...   \n",
       "02/15/21;17:07:43  4  38   1   4   4  27   9  10  31  13  ...    10     2   \n",
       "02/15/21;18:11:18  2  32   1   6   6  28  11  17  35  21  ...    11     2   \n",
       "02/15/21;19:16:38  5  25   4   4  11  28  17  17  37  26  ...    16     3   \n",
       "02/15/21;20:20:06  3  24   5   5  17  28  18  15  38  28  ...    18     1   \n",
       "02/15/21;21:23:35  4  24   3   8  18  29  20  15  38  33  ...    19     1   \n",
       "\n",
       "                   1391  1392  1393  1394  1395  1396  1397   y  \n",
       "10/19/20;18:56:54    38    18    15     2     6    17    17  45  \n",
       "10/19/20;19:56:58    21    20    25     2    15    15    13  48  \n",
       "10/19/20;20:57:02    18    17    27     0    29    12     5  49  \n",
       "10/19/20;21:57:05    17    19    31    14    34    15     6  51  \n",
       "10/19/20;22:57:14    18    19    32    16    35    12     7  52  \n",
       "...                 ...   ...   ...   ...   ...   ...   ...  ..  \n",
       "02/15/21;17:07:43    15    11    23     6     7    14    22  38  \n",
       "02/15/21;18:11:18    11    11    30     8    10    15    11  32  \n",
       "02/15/21;19:16:38    11    12    34     9    22     7     6  25  \n",
       "02/15/21;20:20:06    13    12    36     9    25     9     5  24  \n",
       "02/15/21;21:23:35    11    12    36    11    29     8     5  24  \n",
       "\n",
       "[2778 rows x 1399 columns]"
      ],
      "text/html": "<div>\n<style scoped>\n    .dataframe tbody tr th:only-of-type {\n        vertical-align: middle;\n    }\n\n    .dataframe tbody tr th {\n        vertical-align: top;\n    }\n\n    .dataframe thead th {\n        text-align: right;\n    }\n</style>\n<table border=\"1\" class=\"dataframe\">\n  <thead>\n    <tr style=\"text-align: right;\">\n      <th></th>\n      <th>0</th>\n      <th>1</th>\n      <th>2</th>\n      <th>3</th>\n      <th>4</th>\n      <th>5</th>\n      <th>6</th>\n      <th>7</th>\n      <th>8</th>\n      <th>9</th>\n      <th>...</th>\n      <th>1389</th>\n      <th>1390</th>\n      <th>1391</th>\n      <th>1392</th>\n      <th>1393</th>\n      <th>1394</th>\n      <th>1395</th>\n      <th>1396</th>\n      <th>1397</th>\n      <th>y</th>\n    </tr>\n  </thead>\n  <tbody>\n    <tr>\n      <th>10/19/20;18:56:54</th>\n      <td>1</td>\n      <td>45</td>\n      <td>2</td>\n      <td>6</td>\n      <td>7</td>\n      <td>38</td>\n      <td>19</td>\n      <td>9</td>\n      <td>4</td>\n      <td>13</td>\n      <td>...</td>\n      <td>4</td>\n      <td>2</td>\n      <td>38</td>\n      <td>18</td>\n      <td>15</td>\n      <td>2</td>\n      <td>6</td>\n      <td>17</td>\n      <td>17</td>\n      <td>45</td>\n    </tr>\n    <tr>\n      <th>10/19/20;19:56:58</th>\n      <td>2</td>\n      <td>48</td>\n      <td>3</td>\n      <td>9</td>\n      <td>16</td>\n      <td>26</td>\n      <td>23</td>\n      <td>8</td>\n      <td>10</td>\n      <td>25</td>\n      <td>...</td>\n      <td>6</td>\n      <td>1</td>\n      <td>21</td>\n      <td>20</td>\n      <td>25</td>\n      <td>2</td>\n      <td>15</td>\n      <td>15</td>\n      <td>13</td>\n      <td>48</td>\n    </tr>\n    <tr>\n      <th>10/19/20;20:57:02</th>\n      <td>5</td>\n      <td>49</td>\n      <td>10</td>\n      <td>10</td>\n      <td>25</td>\n      <td>18</td>\n      <td>19</td>\n      <td>5</td>\n      <td>11</td>\n      <td>37</td>\n      <td>...</td>\n      <td>12</td>\n      <td>1</td>\n      <td>18</td>\n      <td>17</td>\n      <td>27</td>\n      <td>0</td>\n      <td>29</td>\n      <td>12</td>\n      <td>5</td>\n      <td>49</td>\n    </tr>\n    <tr>\n      <th>10/19/20;21:57:05</th>\n      <td>4</td>\n      <td>51</td>\n      <td>9</td>\n      <td>12</td>\n      <td>24</td>\n      <td>20</td>\n      <td>29</td>\n      <td>7</td>\n      <td>14</td>\n      <td>36</td>\n      <td>...</td>\n      <td>14</td>\n      <td>2</td>\n      <td>17</td>\n      <td>19</td>\n      <td>31</td>\n      <td>14</td>\n      <td>34</td>\n      <td>15</td>\n      <td>6</td>\n      <td>51</td>\n    </tr>\n    <tr>\n      <th>10/19/20;22:57:14</th>\n      <td>3</td>\n      <td>52</td>\n      <td>11</td>\n      <td>10</td>\n      <td>23</td>\n      <td>24</td>\n      <td>30</td>\n      <td>7</td>\n      <td>14</td>\n      <td>36</td>\n      <td>...</td>\n      <td>13</td>\n      <td>0</td>\n      <td>18</td>\n      <td>19</td>\n      <td>32</td>\n      <td>16</td>\n      <td>35</td>\n      <td>12</td>\n      <td>7</td>\n      <td>52</td>\n    </tr>\n    <tr>\n      <th>...</th>\n      <td>...</td>\n      <td>...</td>\n      <td>...</td>\n      <td>...</td>\n      <td>...</td>\n      <td>...</td>\n      <td>...</td>\n      <td>...</td>\n      <td>...</td>\n      <td>...</td>\n      <td>...</td>\n      <td>...</td>\n      <td>...</td>\n      <td>...</td>\n      <td>...</td>\n      <td>...</td>\n      <td>...</td>\n      <td>...</td>\n      <td>...</td>\n      <td>...</td>\n      <td>...</td>\n    </tr>\n    <tr>\n      <th>02/15/21;17:07:43</th>\n      <td>4</td>\n      <td>38</td>\n      <td>1</td>\n      <td>4</td>\n      <td>4</td>\n      <td>27</td>\n      <td>9</td>\n      <td>10</td>\n      <td>31</td>\n      <td>13</td>\n      <td>...</td>\n      <td>10</td>\n      <td>2</td>\n      <td>15</td>\n      <td>11</td>\n      <td>23</td>\n      <td>6</td>\n      <td>7</td>\n      <td>14</td>\n      <td>22</td>\n      <td>38</td>\n    </tr>\n    <tr>\n      <th>02/15/21;18:11:18</th>\n      <td>2</td>\n      <td>32</td>\n      <td>1</td>\n      <td>6</td>\n      <td>6</td>\n      <td>28</td>\n      <td>11</td>\n      <td>17</td>\n      <td>35</td>\n      <td>21</td>\n      <td>...</td>\n      <td>11</td>\n      <td>2</td>\n      <td>11</td>\n      <td>11</td>\n      <td>30</td>\n      <td>8</td>\n      <td>10</td>\n      <td>15</td>\n      <td>11</td>\n      <td>32</td>\n    </tr>\n    <tr>\n      <th>02/15/21;19:16:38</th>\n      <td>5</td>\n      <td>25</td>\n      <td>4</td>\n      <td>4</td>\n      <td>11</td>\n      <td>28</td>\n      <td>17</td>\n      <td>17</td>\n      <td>37</td>\n      <td>26</td>\n      <td>...</td>\n      <td>16</td>\n      <td>3</td>\n      <td>11</td>\n      <td>12</td>\n      <td>34</td>\n      <td>9</td>\n      <td>22</td>\n      <td>7</td>\n      <td>6</td>\n      <td>25</td>\n    </tr>\n    <tr>\n      <th>02/15/21;20:20:06</th>\n      <td>3</td>\n      <td>24</td>\n      <td>5</td>\n      <td>5</td>\n      <td>17</td>\n      <td>28</td>\n      <td>18</td>\n      <td>15</td>\n      <td>38</td>\n      <td>28</td>\n      <td>...</td>\n      <td>18</td>\n      <td>1</td>\n      <td>13</td>\n      <td>12</td>\n      <td>36</td>\n      <td>9</td>\n      <td>25</td>\n      <td>9</td>\n      <td>5</td>\n      <td>24</td>\n    </tr>\n    <tr>\n      <th>02/15/21;21:23:35</th>\n      <td>4</td>\n      <td>24</td>\n      <td>3</td>\n      <td>8</td>\n      <td>18</td>\n      <td>29</td>\n      <td>20</td>\n      <td>15</td>\n      <td>38</td>\n      <td>33</td>\n      <td>...</td>\n      <td>19</td>\n      <td>1</td>\n      <td>11</td>\n      <td>12</td>\n      <td>36</td>\n      <td>11</td>\n      <td>29</td>\n      <td>8</td>\n      <td>5</td>\n      <td>24</td>\n    </tr>\n  </tbody>\n</table>\n<p>2778 rows × 1399 columns</p>\n</div>"
     },
     "metadata": {},
     "execution_count": 13
    }
   ]
  },
  {
   "cell_type": "code",
   "execution_count": 14,
   "metadata": {},
   "outputs": [
    {
     "output_type": "execute_result",
     "data": {
      "text/plain": [
       "                   0   1   2   3   4   5   6   7   8   9  ...  1389  1390  \\\n",
       "10/19/20;18:56:54  1  45   2   6   7  38  19   9   4  13  ...     4     2   \n",
       "10/19/20;19:56:58  2  48   3   9  16  26  23   8  10  25  ...     6     1   \n",
       "10/19/20;20:57:02  5  49  10  10  25  18  19   5  11  37  ...    12     1   \n",
       "10/19/20;21:57:05  4  51   9  12  24  20  29   7  14  36  ...    14     2   \n",
       "10/19/20;22:57:14  3  52  11  10  23  24  30   7  14  36  ...    13     0   \n",
       "...               ..  ..  ..  ..  ..  ..  ..  ..  ..  ..  ...   ...   ...   \n",
       "02/14/21;15:43:31  1  30   3   8  12  42   4   9  33  40  ...    11     2   \n",
       "02/14/21;16:47:04  2  39   1   8  11  37   5   7  33  40  ...     9     4   \n",
       "02/14/21;17:50:32  4  35   1  10  16  38   4  11  30  36  ...     9     4   \n",
       "02/14/21;18:53:59  7  40   2   7  20  38   8  13  33  46  ...    15     2   \n",
       "02/14/21;19:57:26  7  38   1   5  21  35   7  14  33  47  ...    16     1   \n",
       "\n",
       "                   1391  1392  1393  1394  1395  1396  1397   y  \n",
       "10/19/20;18:56:54    38    18    15     2     6    17    17  42  \n",
       "10/19/20;19:56:58    21    20    25     2    15    15    13  46  \n",
       "10/19/20;20:57:02    18    17    27     0    29    12     5  38  \n",
       "10/19/20;21:57:05    17    19    31    14    34    15     6  40  \n",
       "10/19/20;22:57:14    18    19    32    16    35    12     7  39  \n",
       "...                 ...   ...   ...   ...   ...   ...   ...  ..  \n",
       "02/14/21;15:43:31    12    19    16     3    18     5    20  38  \n",
       "02/14/21;16:47:04    14    17    15     5    16     5    20  32  \n",
       "02/14/21;17:50:32    11    12    22     7    17     8    15  25  \n",
       "02/14/21;18:53:59     9    11    33     5    18    12    12  24  \n",
       "02/14/21;19:57:26     9     9    32     4    17    11    11  24  \n",
       "\n",
       "[2754 rows x 1399 columns]"
      ],
      "text/html": "<div>\n<style scoped>\n    .dataframe tbody tr th:only-of-type {\n        vertical-align: middle;\n    }\n\n    .dataframe tbody tr th {\n        vertical-align: top;\n    }\n\n    .dataframe thead th {\n        text-align: right;\n    }\n</style>\n<table border=\"1\" class=\"dataframe\">\n  <thead>\n    <tr style=\"text-align: right;\">\n      <th></th>\n      <th>0</th>\n      <th>1</th>\n      <th>2</th>\n      <th>3</th>\n      <th>4</th>\n      <th>5</th>\n      <th>6</th>\n      <th>7</th>\n      <th>8</th>\n      <th>9</th>\n      <th>...</th>\n      <th>1389</th>\n      <th>1390</th>\n      <th>1391</th>\n      <th>1392</th>\n      <th>1393</th>\n      <th>1394</th>\n      <th>1395</th>\n      <th>1396</th>\n      <th>1397</th>\n      <th>y</th>\n    </tr>\n  </thead>\n  <tbody>\n    <tr>\n      <th>10/19/20;18:56:54</th>\n      <td>1</td>\n      <td>45</td>\n      <td>2</td>\n      <td>6</td>\n      <td>7</td>\n      <td>38</td>\n      <td>19</td>\n      <td>9</td>\n      <td>4</td>\n      <td>13</td>\n      <td>...</td>\n      <td>4</td>\n      <td>2</td>\n      <td>38</td>\n      <td>18</td>\n      <td>15</td>\n      <td>2</td>\n      <td>6</td>\n      <td>17</td>\n      <td>17</td>\n      <td>42</td>\n    </tr>\n    <tr>\n      <th>10/19/20;19:56:58</th>\n      <td>2</td>\n      <td>48</td>\n      <td>3</td>\n      <td>9</td>\n      <td>16</td>\n      <td>26</td>\n      <td>23</td>\n      <td>8</td>\n      <td>10</td>\n      <td>25</td>\n      <td>...</td>\n      <td>6</td>\n      <td>1</td>\n      <td>21</td>\n      <td>20</td>\n      <td>25</td>\n      <td>2</td>\n      <td>15</td>\n      <td>15</td>\n      <td>13</td>\n      <td>46</td>\n    </tr>\n    <tr>\n      <th>10/19/20;20:57:02</th>\n      <td>5</td>\n      <td>49</td>\n      <td>10</td>\n      <td>10</td>\n      <td>25</td>\n      <td>18</td>\n      <td>19</td>\n      <td>5</td>\n      <td>11</td>\n      <td>37</td>\n      <td>...</td>\n      <td>12</td>\n      <td>1</td>\n      <td>18</td>\n      <td>17</td>\n      <td>27</td>\n      <td>0</td>\n      <td>29</td>\n      <td>12</td>\n      <td>5</td>\n      <td>38</td>\n    </tr>\n    <tr>\n      <th>10/19/20;21:57:05</th>\n      <td>4</td>\n      <td>51</td>\n      <td>9</td>\n      <td>12</td>\n      <td>24</td>\n      <td>20</td>\n      <td>29</td>\n      <td>7</td>\n      <td>14</td>\n      <td>36</td>\n      <td>...</td>\n      <td>14</td>\n      <td>2</td>\n      <td>17</td>\n      <td>19</td>\n      <td>31</td>\n      <td>14</td>\n      <td>34</td>\n      <td>15</td>\n      <td>6</td>\n      <td>40</td>\n    </tr>\n    <tr>\n      <th>10/19/20;22:57:14</th>\n      <td>3</td>\n      <td>52</td>\n      <td>11</td>\n      <td>10</td>\n      <td>23</td>\n      <td>24</td>\n      <td>30</td>\n      <td>7</td>\n      <td>14</td>\n      <td>36</td>\n      <td>...</td>\n      <td>13</td>\n      <td>0</td>\n      <td>18</td>\n      <td>19</td>\n      <td>32</td>\n      <td>16</td>\n      <td>35</td>\n      <td>12</td>\n      <td>7</td>\n      <td>39</td>\n    </tr>\n    <tr>\n      <th>...</th>\n      <td>...</td>\n      <td>...</td>\n      <td>...</td>\n      <td>...</td>\n      <td>...</td>\n      <td>...</td>\n      <td>...</td>\n      <td>...</td>\n      <td>...</td>\n      <td>...</td>\n      <td>...</td>\n      <td>...</td>\n      <td>...</td>\n      <td>...</td>\n      <td>...</td>\n      <td>...</td>\n      <td>...</td>\n      <td>...</td>\n      <td>...</td>\n      <td>...</td>\n      <td>...</td>\n    </tr>\n    <tr>\n      <th>02/14/21;15:43:31</th>\n      <td>1</td>\n      <td>30</td>\n      <td>3</td>\n      <td>8</td>\n      <td>12</td>\n      <td>42</td>\n      <td>4</td>\n      <td>9</td>\n      <td>33</td>\n      <td>40</td>\n      <td>...</td>\n      <td>11</td>\n      <td>2</td>\n      <td>12</td>\n      <td>19</td>\n      <td>16</td>\n      <td>3</td>\n      <td>18</td>\n      <td>5</td>\n      <td>20</td>\n      <td>38</td>\n    </tr>\n    <tr>\n      <th>02/14/21;16:47:04</th>\n      <td>2</td>\n      <td>39</td>\n      <td>1</td>\n      <td>8</td>\n      <td>11</td>\n      <td>37</td>\n      <td>5</td>\n      <td>7</td>\n      <td>33</td>\n      <td>40</td>\n      <td>...</td>\n      <td>9</td>\n      <td>4</td>\n      <td>14</td>\n      <td>17</td>\n      <td>15</td>\n      <td>5</td>\n      <td>16</td>\n      <td>5</td>\n      <td>20</td>\n      <td>32</td>\n    </tr>\n    <tr>\n      <th>02/14/21;17:50:32</th>\n      <td>4</td>\n      <td>35</td>\n      <td>1</td>\n      <td>10</td>\n      <td>16</td>\n      <td>38</td>\n      <td>4</td>\n      <td>11</td>\n      <td>30</td>\n      <td>36</td>\n      <td>...</td>\n      <td>9</td>\n      <td>4</td>\n      <td>11</td>\n      <td>12</td>\n      <td>22</td>\n      <td>7</td>\n      <td>17</td>\n      <td>8</td>\n      <td>15</td>\n      <td>25</td>\n    </tr>\n    <tr>\n      <th>02/14/21;18:53:59</th>\n      <td>7</td>\n      <td>40</td>\n      <td>2</td>\n      <td>7</td>\n      <td>20</td>\n      <td>38</td>\n      <td>8</td>\n      <td>13</td>\n      <td>33</td>\n      <td>46</td>\n      <td>...</td>\n      <td>15</td>\n      <td>2</td>\n      <td>9</td>\n      <td>11</td>\n      <td>33</td>\n      <td>5</td>\n      <td>18</td>\n      <td>12</td>\n      <td>12</td>\n      <td>24</td>\n    </tr>\n    <tr>\n      <th>02/14/21;19:57:26</th>\n      <td>7</td>\n      <td>38</td>\n      <td>1</td>\n      <td>5</td>\n      <td>21</td>\n      <td>35</td>\n      <td>7</td>\n      <td>14</td>\n      <td>33</td>\n      <td>47</td>\n      <td>...</td>\n      <td>16</td>\n      <td>1</td>\n      <td>9</td>\n      <td>9</td>\n      <td>32</td>\n      <td>4</td>\n      <td>17</td>\n      <td>11</td>\n      <td>11</td>\n      <td>24</td>\n    </tr>\n  </tbody>\n</table>\n<p>2754 rows × 1399 columns</p>\n</div>"
     },
     "metadata": {},
     "execution_count": 14
    }
   ],
   "source": [
    "# Boucle qui met dans Y toutes les données 24h plus tard\n",
    "for i in range(len(df2)-24):\n",
    "    df2['y'][axis[i]] = df2[1][axis[i+24]]\n",
    "\n",
    "# Puis on supprime les 24 dernières lignes qui ne peuvent pas être complétées\n",
    "df2.drop(axis[-24:], inplace = True)\n",
    "df2"
   ]
  },
  {
   "source": [
    "## Réalisation d'un apprentissage pour 10 stations aléatoires (les premières dans l'ordre des données) : automatisation"
   ],
   "cell_type": "markdown",
   "metadata": {}
  },
  {
   "cell_type": "code",
   "execution_count": 15,
   "metadata": {},
   "outputs": [],
   "source": [
    "# Import du module de visualisation des résultats\n",
    "from prettytable import PrettyTable"
   ]
  },
  {
   "cell_type": "code",
   "execution_count": 16,
   "metadata": {},
   "outputs": [
    {
     "output_type": "execute_result",
     "data": {
      "text/plain": [
       "['station_0',\n",
       " 'station_1',\n",
       " 'station_2',\n",
       " 'station_3',\n",
       " 'station_4',\n",
       " 'station_5',\n",
       " 'station_6',\n",
       " 'station_7',\n",
       " 'station_8',\n",
       " 'station_9']"
      ]
     },
     "metadata": {},
     "execution_count": 16
    }
   ],
   "source": [
    "# Liste des stations cibles\n",
    "stations_tests = []\n",
    "for i in range(10):\n",
    "    stations_tests.append(\"station_\"+str(i))\n",
    "stations_tests"
   ]
  },
  {
   "source": [
    "## Visualisation des données sélectionnées"
   ],
   "cell_type": "markdown",
   "metadata": {}
  },
  {
   "cell_type": "code",
   "execution_count": 17,
   "metadata": {},
   "outputs": [
    {
     "output_type": "execute_result",
     "data": {
      "text/plain": [
       "<folium.folium.Map at 0x7f8bf35c6e10>"
      ],
      "text/html": "<div style=\"width:100%;\"><div style=\"position:relative;width:100%;height:0;padding-bottom:60%;\"><span style=\"color:#565656\">Make this Notebook Trusted to load map: File -> Trust Notebook</span><iframe src=\"about:blank\" style=\"position:absolute;width:100%;height:100%;left:0;top:0;border:none !important;\" data-html=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 onload=\"this.contentDocument.open();this.contentDocument.write(atob(this.getAttribute('data-html')));this.contentDocument.close();\" allowfullscreen webkitallowfullscreen mozallowfullscreen></iframe></div></div>"
     },
     "metadata": {},
     "execution_count": 17
    }
   ],
   "source": [
    "import folium\n",
    "\n",
    "# Titre : \n",
    "loc = 'Les 10 stations Velib selectionnees'\n",
    "title_html = '''\n",
    "             <h3 align=\"center\" style=\"font-size:16px\"><b>{}</b></h3>\n",
    "             '''.format(loc)   \n",
    "\n",
    "stations_velib_paris = folium.Map(location = [48.856578, 2.351828], zoom_start = 12.5) # On centre sur Paris\n",
    "for i in range(10): # Affichage des 10 premières stations considérées\n",
    "    \n",
    "    test_mark  = '<head><meta http-equiv=\"Content-Type\" content=\"text/html; charset=windows-1252\"></head>'\n",
    "    test_mark += '<strong>'+stations_tests[i] + \" \" + df_station_info['name'][i] + \". Capacite = \"+str(velib_details['capacity'][i])+'<strong>'\n",
    "\n",
    "    folium.Marker(\n",
    "        np.array([df_station_info['lat'][i],df_station_info['lon'][i]]).tolist(),\n",
    "        #popup = stations_tests[i] + \" \" + df_station_info['name'][i] + \". Capacite = \"+str(velib_details['capacity'][i]), \n",
    "        popup = test_mark, \n",
    "        icon=folium.Icon(color='red', icon='info-sign')\n",
    "        ).add_to(stations_velib_paris)\n",
    "\n",
    "stations_velib_paris.get_root().html.add_child(folium.Element(title_html))\n",
    "\n",
    "stations_velib_paris"
   ]
  },
  {
   "source": [
    "## Machine Learning"
   ],
   "cell_type": "markdown",
   "metadata": {}
  },
  {
   "cell_type": "code",
   "execution_count": 109,
   "metadata": {},
   "outputs": [
    {
     "output_type": "stream",
     "name": "stdout",
     "text": [
      "+----------------+----------+---------------------------+---------------+---------------+------------------------------+\n| Station target | Capacité | Occupation moyenne - test | MAE LR - test | MAE RF - test | MAE méthode intuitive - test |\n+----------------+----------+---------------------------+---------------+---------------+------------------------------+\n|   station_0    |    35    |            5.24           |      2.29     |      1.3      |             3.24             |\n|   station_1    |    55    |           30.78           |      4.33     |      2.73     |             7.9              |\n|   station_2    |    20    |            4.84           |      2.52     |      1.39     |             3.09             |\n|   station_3    |    21    |            5.92           |      3.18     |      1.66     |             3.41             |\n|   station_4    |    30    |           17.13           |      4.32     |      3.09     |             6.18             |\n|   station_5    |    46    |           29.08           |      4.35     |      3.08     |             6.65             |\n|   station_6    |    60    |            13.8           |      4.16     |      2.78     |             6.84             |\n|   station_7    |    40    |            9.89           |      3.25     |      1.97     |             5.05             |\n|   station_8    |    29    |           14.84           |      2.94     |      1.99     |             4.76             |\n|   station_9    |    60    |           26.74           |      4.85     |      3.5      |             9.01             |\n+----------------+----------+---------------------------+---------------+---------------+------------------------------+\nRésultats des MAE sur le test\n"
     ]
    }
   ],
   "source": [
    "# Stockage des index du dataframe\n",
    "axis = df_velib.index\n",
    "# Préparation des résultats à stocker : pour chaque station, on garde le numéro de la station dans le dataframe df_velib, le modèle de \n",
    "# régression linéaire et de random forest\n",
    "resultats = {}\n",
    "\n",
    "# Préparation de la visualisation des résultats :\n",
    "ptbl = PrettyTable()\n",
    "ptbl.field_names = [\"Station target\", \"Capacité\", \"Occupation moyenne - test\", \"MAE LR - test\", \"MAE RF - test\", \"MAE méthode intuitive - test\"]\n",
    "\n",
    "# Dataframe pour la Régression Linéaire et le Random Forest\n",
    "for i in range(len(stations_tests)):\n",
    "    df = df_velib.copy()\n",
    "    df['y'] = df[i]\n",
    "\n",
    "    for j in range(len(df)-24):\n",
    "        df['y'][axis[j]] = df[i][axis[j+24]]\n",
    "        \n",
    "    # Puis on supprime les 24 dernières lignes qui ne peuvent pas être complétées\n",
    "    df.drop(axis[-24:], inplace = True)\n",
    "\n",
    "    # Machine Learning\n",
    "    stations_features = [i for i in df.columns if i != 'y']\n",
    "    X = df[stations_features]\n",
    "    # Préparation de la target\n",
    "    y = df['y']\n",
    "    # Séparation en données de test et d'entrainement\n",
    "    X_train, X_test, y_train, y_test = train_test_split(X, y, test_size=0.3)\n",
    "    \n",
    "    # 1- Régression linéaire\n",
    "    lr = LinearRegression()\n",
    "    lr.fit(X_train, y_train)\n",
    "    y_prediction_lr = lr.predict(X_test)\n",
    "    MAE_lr = round(mean_absolute_error(y_test, y_prediction_lr),2)\n",
    "\n",
    "    # 2- Random Forest\n",
    "    rf = RandomForestRegressor()\n",
    "    rf.fit(X_train, y_train)\n",
    "    y_prediction_rf = rf.predict(X_test)\n",
    "    MAE_rf = round(mean_absolute_error(y_test, y_prediction_rf),2)\n",
    "\n",
    "    # 3- Méthode naïve ou bien \"intuitive\" c'est-à-dire prédire que ce qui se passe 1 jour plus tard est exactement la même chose que la            veille\n",
    "    df_naif = X_test.copy()\n",
    "    #MAE_naif = round(abs(X_test[i]-y_test).mean() , 2)\n",
    "    MAE_naif = round(mean_absolute_error(X_test[i], y_test),2)\n",
    "\n",
    "    # Capacité moyenne de la station sur la période observée\n",
    "    occupation_moyenne = round(X_test[i].mean(),2)\n",
    "\n",
    "    # Mise en forme des résultats\n",
    "    y_test = pd.DataFrame(y_test)\n",
    "    index = y_test.index\n",
    "    # Renommer pour plus de clarté\n",
    "    y_prediction_lr = pd.DataFrame(y_prediction_lr, index = index)\n",
    "    y_prediction_rf = pd.DataFrame(y_prediction_rf, index = index)\n",
    "    y_naif = pd.DataFrame(X_test[i])\n",
    "    y_prediction_naif = y_test\n",
    "\n",
    "    # Stockage des résultats : numéro de la station, les modèles, et les MAE de chaque modèle\n",
    "    resultats[stations_tests[i]] = [i, X, y, lr, MAE_lr, rf, MAE_rf, df_naif, MAE_naif, occupation_moyenne, y_test, y_prediction_lr, y_prediction_rf, y_naif, y_prediction_naif]\n",
    "\n",
    "    # Visualisation des performances avec Prettytable\n",
    "    ptbl.add_row([stations_tests[i], velib_details['capacity'][i], occupation_moyenne, MAE_lr, MAE_rf, MAE_naif])\n",
    "    \n",
    "print(ptbl)\n",
    "print(\"Résultats des MAE sur le test\")"
   ]
  },
  {
   "source": [
    "On s'intéresse à présent à la moyenne des erreurs de prédiction des modèles : la moyenne des MAE"
   ],
   "cell_type": "markdown",
   "metadata": {}
  },
  {
   "cell_type": "code",
   "execution_count": 110,
   "metadata": {},
   "outputs": [
    {
     "output_type": "stream",
     "name": "stdout",
     "text": [
      "+---------------------------+----------------------------------+----------------------------------+---------------------------------------------+\n| Occupation moyenne - test | Moyenne MAE LR - 1 modèle - test | Moyenne MAE RF - 1 modèle - test | Moyenne MAE méthode naïve - 1 modèle - test |\n+---------------------------+----------------------------------+----------------------------------+---------------------------------------------+\n|           15.83           |               3.62               |               2.35               |                     5.61                    |\n+---------------------------+----------------------------------+----------------------------------+---------------------------------------------+\n"
     ]
    }
   ],
   "source": [
    "ptbl1 = PrettyTable()\n",
    "#ptbl.field_names = [\"Occupation moyenne des stations cibles\", \"Moyenne MAE LR\", \"Moyenne MAE RF\", \"Moyenne MAE méthode naïve\"]\n",
    "ptbl1.field_names = [\"Occupation moyenne - test\", \"Moyenne MAE LR - 1 modèle - test\", \"Moyenne MAE RF - 1 modèle - test\", \"Moyenne MAE méthode naïve - 1 modèle - test\"]\n",
    "\n",
    "mean_occupation1 = 0\n",
    "mean_MAE_lr = 0\n",
    "mean_MAE_rf = 0\n",
    "mean_MAE_naif = 0\n",
    "\n",
    "# Parcourir le dictionnaire des résultats pour calculer la moyenne des indicateurs\n",
    "for key, item in resultats.items():\n",
    "    mean_occupation1 += resultats[key][9]\n",
    "    mean_MAE_lr += resultats[key][4]\n",
    "    mean_MAE_rf += resultats[key][6]\n",
    "    mean_MAE_naif += resultats[key][8]\n",
    "\n",
    "# On divise par le nombre total de stations tests pour obtenir la moyenne\n",
    "mean_occupation1 = round(mean_occupation1/len(resultats),2)\n",
    "mean_MAE_lr = round(mean_MAE_lr/len(resultats),2)\n",
    "mean_MAE_rf = round(mean_MAE_rf/len(resultats),2)\n",
    "mean_MAE_naif = round(mean_MAE_naif/len(resultats),2)\n",
    "\n",
    "# Visualisation des performances avec Prettytable\n",
    "ptbl1.add_row([mean_occupation1, mean_MAE_lr, mean_MAE_rf, mean_MAE_naif])\n",
    "print(ptbl1)"
   ]
  },
  {
   "source": [
    "Comme le disait Depersin, les résultats sont encore plutôt bons pour le Random Forest. Voire trop bons... C'est possible que l'activité des stations la nuit soit constante, alors qu'il s'agit de la période en journée qui nous itéresse et qui peut fluctuer.\n",
    "\n",
    "On va donc regarder à quelle heure de la journée est-ce que nous faisons le plus d'erreurs de prédiction."
   ],
   "cell_type": "markdown",
   "metadata": {}
  },
  {
   "source": [
    "## Moyenne des erreurs par heure\n",
    "\n",
    "On rappelle que, pour la station i, \n",
    "- `resultats[stations_tests[i]][10]` contient `y_test` du ML et colonne a le nom `y`\n",
    "- `resultats[stations_tests[i]][11]` contient les prédictions de `y_test` avec LR et colonne a le nom `0`\n",
    "- `resultats[stations_tests[i]][12]` contient les prédictions de `y_test` avec LR et colonne a le nom `0`\n",
    "- `resultats[stations_tests[i]][13]` contient `y_test` de la méthode naïve et colonne a le nom `i`\n",
    "- `resultats[stations_tests[i]][14]` contient les prédictions de `y_test` avec méthode naïve et colonne a le nom `y`"
   ],
   "cell_type": "markdown",
   "metadata": {}
  },
  {
   "source": [
    "Fonction qui indique l'heure du pointage dans une nouvelle colonne `heure`"
   ],
   "cell_type": "markdown",
   "metadata": {}
  },
  {
   "cell_type": "code",
   "execution_count": 160,
   "metadata": {},
   "outputs": [],
   "source": [
    "def get_heure(df):\n",
    "    df['heure'] = df.index \n",
    "    for i in df.index:\n",
    "        df['heure'][i] = float(df['heure'][i][9]+df['heure'][i][10])"
   ]
  },
  {
   "source": [
    "On applique à présent cette fonction sur tous les dataframes des tests :"
   ],
   "cell_type": "markdown",
   "metadata": {}
  },
  {
   "cell_type": "code",
   "execution_count": 161,
   "metadata": {},
   "outputs": [],
   "source": [
    "for i in stations_tests:\n",
    "    get_heure(resultats[i][10])\n",
    "    get_heure(resultats[i][11])\n",
    "    get_heure(resultats[i][12])\n",
    "    get_heure(resultats[i][13])\n",
    "    get_heure(resultats[i][14])"
   ]
  },
  {
   "source": [
    "On crée maintenant le dataframe de chaque station qui contient les erreurs de prédiction à chaque date en valeur absolue"
   ],
   "cell_type": "markdown",
   "metadata": {}
  },
  {
   "cell_type": "code",
   "execution_count": 197,
   "metadata": {
    "tags": []
   },
   "outputs": [],
   "source": [
    "for i in range(len(stations_tests)):\n",
    "    # Initialisation\n",
    "    resultats[stations_tests[i]][10]['erreur_pred_lr'] = 0\n",
    "    resultats[stations_tests[i]][10]['erreur_pred_rf'] = 0\n",
    "    resultats[stations_tests[i]][10]['erreur_pred_naif'] = 0\n",
    "    # On stocke les erreurs en valeur absolue\n",
    "    resultats[stations_tests[i]][10]['erreur_pred_lr'] = abs(resultats[stations_tests[i]][11][0] - resultats[stations_tests[i]][10]['y'])\n",
    "    resultats[stations_tests[i]][10]['erreur_pred_rf'] = abs(resultats[stations_tests[i]][12][0] - resultats[stations_tests[i]][10]['y'])\n",
    "    resultats[stations_tests[i]][10]['erreur_pred_naif'] = abs(resultats[stations_tests[i]][13][i] - resultats[stations_tests[i]][14]['y'])"
   ]
  },
  {
   "source": [
    "On crée à présent le dataframe de toutes les erreurs de prédiction suivant les différents modèles sur les 10 stations"
   ],
   "cell_type": "markdown",
   "metadata": {}
  },
  {
   "cell_type": "code",
   "execution_count": 225,
   "metadata": {},
   "outputs": [
    {
     "output_type": "execute_result",
     "data": {
      "text/plain": [
       "                    y heure  erreur_pred_lr  erreur_pred_rf  erreur_pred_naif\n",
       "10/24/20;22:19:47   5    22        0.838554             1.1                 3\n",
       "12/27/20;20:21:50   5    20        0.050746             0.5                 3\n",
       "02/10/21;04:54:34  15     4        2.659121             0.4                 7\n",
       "10/24/20;18:17:59   7    18        1.299035             2.9                 7\n",
       "11/28/20;16:30:51   5    16        1.537049             1.4                 4"
      ],
      "text/html": "<div>\n<style scoped>\n    .dataframe tbody tr th:only-of-type {\n        vertical-align: middle;\n    }\n\n    .dataframe tbody tr th {\n        vertical-align: top;\n    }\n\n    .dataframe thead th {\n        text-align: right;\n    }\n</style>\n<table border=\"1\" class=\"dataframe\">\n  <thead>\n    <tr style=\"text-align: right;\">\n      <th></th>\n      <th>y</th>\n      <th>heure</th>\n      <th>erreur_pred_lr</th>\n      <th>erreur_pred_rf</th>\n      <th>erreur_pred_naif</th>\n    </tr>\n  </thead>\n  <tbody>\n    <tr>\n      <th>10/24/20;22:19:47</th>\n      <td>5</td>\n      <td>22</td>\n      <td>0.838554</td>\n      <td>1.1</td>\n      <td>3</td>\n    </tr>\n    <tr>\n      <th>12/27/20;20:21:50</th>\n      <td>5</td>\n      <td>20</td>\n      <td>0.050746</td>\n      <td>0.5</td>\n      <td>3</td>\n    </tr>\n    <tr>\n      <th>02/10/21;04:54:34</th>\n      <td>15</td>\n      <td>4</td>\n      <td>2.659121</td>\n      <td>0.4</td>\n      <td>7</td>\n    </tr>\n    <tr>\n      <th>10/24/20;18:17:59</th>\n      <td>7</td>\n      <td>18</td>\n      <td>1.299035</td>\n      <td>2.9</td>\n      <td>7</td>\n    </tr>\n    <tr>\n      <th>11/28/20;16:30:51</th>\n      <td>5</td>\n      <td>16</td>\n      <td>1.537049</td>\n      <td>1.4</td>\n      <td>4</td>\n    </tr>\n  </tbody>\n</table>\n</div>"
     },
     "metadata": {},
     "execution_count": 225
    }
   ],
   "source": [
    "# Initialisation\n",
    "df_pred_errors = resultats[stations_tests[0]][10]\n",
    "\n",
    "for i in stations_tests[1:]:\n",
    "    df_pred_errors = pd.concat([df_pred_errors, resultats[i][10]])\n",
    "\n",
    "df_pred_errors.head(5)"
   ]
  },
  {
   "cell_type": "code",
   "execution_count": 209,
   "metadata": {},
   "outputs": [
    {
     "output_type": "execute_result",
     "data": {
      "text/plain": [
       "           y  erreur_pred_lr  erreur_pred_rf  erreur_pred_naif\n",
       "heure                                                         \n",
       "0.0    17.77            2.13            1.18              5.95\n",
       "1.0    16.61            2.08            1.00              5.61\n",
       "2.0    18.00            2.18            1.03              5.95\n",
       "3.0    17.25            2.14            0.88              5.85\n",
       "4.0    17.01            1.74            0.85              5.04\n",
       "5.0    17.45            1.70            1.01              5.78\n",
       "6.0    16.57            2.00            1.37              5.32\n",
       "7.0    16.73            3.14            2.35              5.87\n",
       "8.0    14.44            4.68            3.58              6.79\n",
       "9.0    12.93            4.67            3.38              5.82\n",
       "10.0   14.74            4.54            2.89              5.40\n",
       "11.0   14.10            4.62            3.36              5.48\n",
       "12.0   13.83            4.49            3.04              5.67\n",
       "13.0   15.05            4.59            3.27              6.01\n",
       "14.0   14.31            4.60            3.15              5.80\n",
       "15.0   13.73            4.80            3.16              5.07\n",
       "16.0   13.47            4.69            3.12              5.21\n",
       "17.0   15.87            5.37            3.25              5.17\n",
       "18.0   15.55            5.61            3.40              5.81\n",
       "19.0   16.26            4.61            3.30              5.44\n",
       "20.0   16.57            3.59            2.55              5.57\n",
       "21.0   16.26            3.08            2.17              5.27\n",
       "22.0   16.85            2.77            1.50              5.48\n",
       "23.0   17.12            2.60            1.31              5.29"
      ],
      "text/html": "<div>\n<style scoped>\n    .dataframe tbody tr th:only-of-type {\n        vertical-align: middle;\n    }\n\n    .dataframe tbody tr th {\n        vertical-align: top;\n    }\n\n    .dataframe thead th {\n        text-align: right;\n    }\n</style>\n<table border=\"1\" class=\"dataframe\">\n  <thead>\n    <tr style=\"text-align: right;\">\n      <th></th>\n      <th>y</th>\n      <th>erreur_pred_lr</th>\n      <th>erreur_pred_rf</th>\n      <th>erreur_pred_naif</th>\n    </tr>\n    <tr>\n      <th>heure</th>\n      <th></th>\n      <th></th>\n      <th></th>\n      <th></th>\n    </tr>\n  </thead>\n  <tbody>\n    <tr>\n      <th>0.0</th>\n      <td>17.77</td>\n      <td>2.13</td>\n      <td>1.18</td>\n      <td>5.95</td>\n    </tr>\n    <tr>\n      <th>1.0</th>\n      <td>16.61</td>\n      <td>2.08</td>\n      <td>1.00</td>\n      <td>5.61</td>\n    </tr>\n    <tr>\n      <th>2.0</th>\n      <td>18.00</td>\n      <td>2.18</td>\n      <td>1.03</td>\n      <td>5.95</td>\n    </tr>\n    <tr>\n      <th>3.0</th>\n      <td>17.25</td>\n      <td>2.14</td>\n      <td>0.88</td>\n      <td>5.85</td>\n    </tr>\n    <tr>\n      <th>4.0</th>\n      <td>17.01</td>\n      <td>1.74</td>\n      <td>0.85</td>\n      <td>5.04</td>\n    </tr>\n    <tr>\n      <th>5.0</th>\n      <td>17.45</td>\n      <td>1.70</td>\n      <td>1.01</td>\n      <td>5.78</td>\n    </tr>\n    <tr>\n      <th>6.0</th>\n      <td>16.57</td>\n      <td>2.00</td>\n      <td>1.37</td>\n      <td>5.32</td>\n    </tr>\n    <tr>\n      <th>7.0</th>\n      <td>16.73</td>\n      <td>3.14</td>\n      <td>2.35</td>\n      <td>5.87</td>\n    </tr>\n    <tr>\n      <th>8.0</th>\n      <td>14.44</td>\n      <td>4.68</td>\n      <td>3.58</td>\n      <td>6.79</td>\n    </tr>\n    <tr>\n      <th>9.0</th>\n      <td>12.93</td>\n      <td>4.67</td>\n      <td>3.38</td>\n      <td>5.82</td>\n    </tr>\n    <tr>\n      <th>10.0</th>\n      <td>14.74</td>\n      <td>4.54</td>\n      <td>2.89</td>\n      <td>5.40</td>\n    </tr>\n    <tr>\n      <th>11.0</th>\n      <td>14.10</td>\n      <td>4.62</td>\n      <td>3.36</td>\n      <td>5.48</td>\n    </tr>\n    <tr>\n      <th>12.0</th>\n      <td>13.83</td>\n      <td>4.49</td>\n      <td>3.04</td>\n      <td>5.67</td>\n    </tr>\n    <tr>\n      <th>13.0</th>\n      <td>15.05</td>\n      <td>4.59</td>\n      <td>3.27</td>\n      <td>6.01</td>\n    </tr>\n    <tr>\n      <th>14.0</th>\n      <td>14.31</td>\n      <td>4.60</td>\n      <td>3.15</td>\n      <td>5.80</td>\n    </tr>\n    <tr>\n      <th>15.0</th>\n      <td>13.73</td>\n      <td>4.80</td>\n      <td>3.16</td>\n      <td>5.07</td>\n    </tr>\n    <tr>\n      <th>16.0</th>\n      <td>13.47</td>\n      <td>4.69</td>\n      <td>3.12</td>\n      <td>5.21</td>\n    </tr>\n    <tr>\n      <th>17.0</th>\n      <td>15.87</td>\n      <td>5.37</td>\n      <td>3.25</td>\n      <td>5.17</td>\n    </tr>\n    <tr>\n      <th>18.0</th>\n      <td>15.55</td>\n      <td>5.61</td>\n      <td>3.40</td>\n      <td>5.81</td>\n    </tr>\n    <tr>\n      <th>19.0</th>\n      <td>16.26</td>\n      <td>4.61</td>\n      <td>3.30</td>\n      <td>5.44</td>\n    </tr>\n    <tr>\n      <th>20.0</th>\n      <td>16.57</td>\n      <td>3.59</td>\n      <td>2.55</td>\n      <td>5.57</td>\n    </tr>\n    <tr>\n      <th>21.0</th>\n      <td>16.26</td>\n      <td>3.08</td>\n      <td>2.17</td>\n      <td>5.27</td>\n    </tr>\n    <tr>\n      <th>22.0</th>\n      <td>16.85</td>\n      <td>2.77</td>\n      <td>1.50</td>\n      <td>5.48</td>\n    </tr>\n    <tr>\n      <th>23.0</th>\n      <td>17.12</td>\n      <td>2.60</td>\n      <td>1.31</td>\n      <td>5.29</td>\n    </tr>\n  </tbody>\n</table>\n</div>"
     },
     "metadata": {},
     "execution_count": 209
    }
   ],
   "source": [
    "mean_erreur_par_heure = round(df_pred_errors.groupby('heure').mean(),2)\n",
    "mean_erreur_par_heure"
   ]
  },
  {
   "cell_type": "code",
   "execution_count": 210,
   "metadata": {},
   "outputs": [
    {
     "output_type": "display_data",
     "data": {
      "application/vnd.plotly.v1+json": {
       "config": {
        "plotlyServerURL": "https://plot.ly"
       },
       "data": [
        {
         "name": "Erreur moyenne avec Régression Linéaire",
         "type": "scatter",
         "x": [
          0,
          1,
          2,
          3,
          4,
          5,
          6,
          7,
          8,
          9,
          10,
          11,
          12,
          13,
          14,
          15,
          16,
          17,
          18,
          19,
          20,
          21,
          22,
          23
         ],
         "y": [
          2.13,
          2.08,
          2.18,
          2.14,
          1.74,
          1.7,
          2,
          3.14,
          4.68,
          4.67,
          4.54,
          4.62,
          4.49,
          4.59,
          4.6,
          4.8,
          4.69,
          5.37,
          5.61,
          4.61,
          3.59,
          3.08,
          2.77,
          2.6
         ]
        },
        {
         "name": "Erreur moyenne avec Forêt aléatoire",
         "type": "scatter",
         "x": [
          0,
          1,
          2,
          3,
          4,
          5,
          6,
          7,
          8,
          9,
          10,
          11,
          12,
          13,
          14,
          15,
          16,
          17,
          18,
          19,
          20,
          21,
          22,
          23
         ],
         "y": [
          1.18,
          1,
          1.03,
          0.88,
          0.85,
          1.01,
          1.37,
          2.35,
          3.58,
          3.38,
          2.89,
          3.36,
          3.04,
          3.27,
          3.15,
          3.16,
          3.12,
          3.25,
          3.4,
          3.3,
          2.55,
          2.17,
          1.5,
          1.31
         ]
        },
        {
         "name": "Erreur moyenne avec la méthode naïve",
         "type": "scatter",
         "x": [
          0,
          1,
          2,
          3,
          4,
          5,
          6,
          7,
          8,
          9,
          10,
          11,
          12,
          13,
          14,
          15,
          16,
          17,
          18,
          19,
          20,
          21,
          22,
          23
         ],
         "y": [
          5.95,
          5.61,
          5.95,
          5.85,
          5.04,
          5.78,
          5.32,
          5.87,
          6.79,
          5.82,
          5.4,
          5.48,
          5.67,
          6.01,
          5.8,
          5.07,
          5.21,
          5.17,
          5.81,
          5.44,
          5.57,
          5.27,
          5.48,
          5.29
         ]
        }
       ],
       "layout": {
        "autosize": false,
        "height": 500,
        "legend": {
         "title": {
          "text": ""
         }
        },
        "template": {
         "data": {
          "bar": [
           {
            "error_x": {
             "color": "#2a3f5f"
            },
            "error_y": {
             "color": "#2a3f5f"
            },
            "marker": {
             "line": {
              "color": "#E5ECF6",
              "width": 0.5
             }
            },
            "type": "bar"
           }
          ],
          "barpolar": [
           {
            "marker": {
             "line": {
              "color": "#E5ECF6",
              "width": 0.5
             }
            },
            "type": "barpolar"
           }
          ],
          "carpet": [
           {
            "aaxis": {
             "endlinecolor": "#2a3f5f",
             "gridcolor": "white",
             "linecolor": "white",
             "minorgridcolor": "white",
             "startlinecolor": "#2a3f5f"
            },
            "baxis": {
             "endlinecolor": "#2a3f5f",
             "gridcolor": "white",
             "linecolor": "white",
             "minorgridcolor": "white",
             "startlinecolor": "#2a3f5f"
            },
            "type": "carpet"
           }
          ],
          "choropleth": [
           {
            "colorbar": {
             "outlinewidth": 0,
             "ticks": ""
            },
            "type": "choropleth"
           }
          ],
          "contour": [
           {
            "colorbar": {
             "outlinewidth": 0,
             "ticks": ""
            },
            "colorscale": [
             [
              0,
              "#0d0887"
             ],
             [
              0.1111111111111111,
              "#46039f"
             ],
             [
              0.2222222222222222,
              "#7201a8"
             ],
             [
              0.3333333333333333,
              "#9c179e"
             ],
             [
              0.4444444444444444,
              "#bd3786"
             ],
             [
              0.5555555555555556,
              "#d8576b"
             ],
             [
              0.6666666666666666,
              "#ed7953"
             ],
             [
              0.7777777777777778,
              "#fb9f3a"
             ],
             [
              0.8888888888888888,
              "#fdca26"
             ],
             [
              1,
              "#f0f921"
             ]
            ],
            "type": "contour"
           }
          ],
          "contourcarpet": [
           {
            "colorbar": {
             "outlinewidth": 0,
             "ticks": ""
            },
            "type": "contourcarpet"
           }
          ],
          "heatmap": [
           {
            "colorbar": {
             "outlinewidth": 0,
             "ticks": ""
            },
            "colorscale": [
             [
              0,
              "#0d0887"
             ],
             [
              0.1111111111111111,
              "#46039f"
             ],
             [
              0.2222222222222222,
              "#7201a8"
             ],
             [
              0.3333333333333333,
              "#9c179e"
             ],
             [
              0.4444444444444444,
              "#bd3786"
             ],
             [
              0.5555555555555556,
              "#d8576b"
             ],
             [
              0.6666666666666666,
              "#ed7953"
             ],
             [
              0.7777777777777778,
              "#fb9f3a"
             ],
             [
              0.8888888888888888,
              "#fdca26"
             ],
             [
              1,
              "#f0f921"
             ]
            ],
            "type": "heatmap"
           }
          ],
          "heatmapgl": [
           {
            "colorbar": {
             "outlinewidth": 0,
             "ticks": ""
            },
            "colorscale": [
             [
              0,
              "#0d0887"
             ],
             [
              0.1111111111111111,
              "#46039f"
             ],
             [
              0.2222222222222222,
              "#7201a8"
             ],
             [
              0.3333333333333333,
              "#9c179e"
             ],
             [
              0.4444444444444444,
              "#bd3786"
             ],
             [
              0.5555555555555556,
              "#d8576b"
             ],
             [
              0.6666666666666666,
              "#ed7953"
             ],
             [
              0.7777777777777778,
              "#fb9f3a"
             ],
             [
              0.8888888888888888,
              "#fdca26"
             ],
             [
              1,
              "#f0f921"
             ]
            ],
            "type": "heatmapgl"
           }
          ],
          "histogram": [
           {
            "marker": {
             "colorbar": {
              "outlinewidth": 0,
              "ticks": ""
             }
            },
            "type": "histogram"
           }
          ],
          "histogram2d": [
           {
            "colorbar": {
             "outlinewidth": 0,
             "ticks": ""
            },
            "colorscale": [
             [
              0,
              "#0d0887"
             ],
             [
              0.1111111111111111,
              "#46039f"
             ],
             [
              0.2222222222222222,
              "#7201a8"
             ],
             [
              0.3333333333333333,
              "#9c179e"
             ],
             [
              0.4444444444444444,
              "#bd3786"
             ],
             [
              0.5555555555555556,
              "#d8576b"
             ],
             [
              0.6666666666666666,
              "#ed7953"
             ],
             [
              0.7777777777777778,
              "#fb9f3a"
             ],
             [
              0.8888888888888888,
              "#fdca26"
             ],
             [
              1,
              "#f0f921"
             ]
            ],
            "type": "histogram2d"
           }
          ],
          "histogram2dcontour": [
           {
            "colorbar": {
             "outlinewidth": 0,
             "ticks": ""
            },
            "colorscale": [
             [
              0,
              "#0d0887"
             ],
             [
              0.1111111111111111,
              "#46039f"
             ],
             [
              0.2222222222222222,
              "#7201a8"
             ],
             [
              0.3333333333333333,
              "#9c179e"
             ],
             [
              0.4444444444444444,
              "#bd3786"
             ],
             [
              0.5555555555555556,
              "#d8576b"
             ],
             [
              0.6666666666666666,
              "#ed7953"
             ],
             [
              0.7777777777777778,
              "#fb9f3a"
             ],
             [
              0.8888888888888888,
              "#fdca26"
             ],
             [
              1,
              "#f0f921"
             ]
            ],
            "type": "histogram2dcontour"
           }
          ],
          "mesh3d": [
           {
            "colorbar": {
             "outlinewidth": 0,
             "ticks": ""
            },
            "type": "mesh3d"
           }
          ],
          "parcoords": [
           {
            "line": {
             "colorbar": {
              "outlinewidth": 0,
              "ticks": ""
             }
            },
            "type": "parcoords"
           }
          ],
          "pie": [
           {
            "automargin": true,
            "type": "pie"
           }
          ],
          "scatter": [
           {
            "marker": {
             "colorbar": {
              "outlinewidth": 0,
              "ticks": ""
             }
            },
            "type": "scatter"
           }
          ],
          "scatter3d": [
           {
            "line": {
             "colorbar": {
              "outlinewidth": 0,
              "ticks": ""
             }
            },
            "marker": {
             "colorbar": {
              "outlinewidth": 0,
              "ticks": ""
             }
            },
            "type": "scatter3d"
           }
          ],
          "scattercarpet": [
           {
            "marker": {
             "colorbar": {
              "outlinewidth": 0,
              "ticks": ""
             }
            },
            "type": "scattercarpet"
           }
          ],
          "scattergeo": [
           {
            "marker": {
             "colorbar": {
              "outlinewidth": 0,
              "ticks": ""
             }
            },
            "type": "scattergeo"
           }
          ],
          "scattergl": [
           {
            "marker": {
             "colorbar": {
              "outlinewidth": 0,
              "ticks": ""
             }
            },
            "type": "scattergl"
           }
          ],
          "scattermapbox": [
           {
            "marker": {
             "colorbar": {
              "outlinewidth": 0,
              "ticks": ""
             }
            },
            "type": "scattermapbox"
           }
          ],
          "scatterpolar": [
           {
            "marker": {
             "colorbar": {
              "outlinewidth": 0,
              "ticks": ""
             }
            },
            "type": "scatterpolar"
           }
          ],
          "scatterpolargl": [
           {
            "marker": {
             "colorbar": {
              "outlinewidth": 0,
              "ticks": ""
             }
            },
            "type": "scatterpolargl"
           }
          ],
          "scatterternary": [
           {
            "marker": {
             "colorbar": {
              "outlinewidth": 0,
              "ticks": ""
             }
            },
            "type": "scatterternary"
           }
          ],
          "surface": [
           {
            "colorbar": {
             "outlinewidth": 0,
             "ticks": ""
            },
            "colorscale": [
             [
              0,
              "#0d0887"
             ],
             [
              0.1111111111111111,
              "#46039f"
             ],
             [
              0.2222222222222222,
              "#7201a8"
             ],
             [
              0.3333333333333333,
              "#9c179e"
             ],
             [
              0.4444444444444444,
              "#bd3786"
             ],
             [
              0.5555555555555556,
              "#d8576b"
             ],
             [
              0.6666666666666666,
              "#ed7953"
             ],
             [
              0.7777777777777778,
              "#fb9f3a"
             ],
             [
              0.8888888888888888,
              "#fdca26"
             ],
             [
              1,
              "#f0f921"
             ]
            ],
            "type": "surface"
           }
          ],
          "table": [
           {
            "cells": {
             "fill": {
              "color": "#EBF0F8"
             },
             "line": {
              "color": "white"
             }
            },
            "header": {
             "fill": {
              "color": "#C8D4E3"
             },
             "line": {
              "color": "white"
             }
            },
            "type": "table"
           }
          ]
         },
         "layout": {
          "annotationdefaults": {
           "arrowcolor": "#2a3f5f",
           "arrowhead": 0,
           "arrowwidth": 1
          },
          "autotypenumbers": "strict",
          "coloraxis": {
           "colorbar": {
            "outlinewidth": 0,
            "ticks": ""
           }
          },
          "colorscale": {
           "diverging": [
            [
             0,
             "#8e0152"
            ],
            [
             0.1,
             "#c51b7d"
            ],
            [
             0.2,
             "#de77ae"
            ],
            [
             0.3,
             "#f1b6da"
            ],
            [
             0.4,
             "#fde0ef"
            ],
            [
             0.5,
             "#f7f7f7"
            ],
            [
             0.6,
             "#e6f5d0"
            ],
            [
             0.7,
             "#b8e186"
            ],
            [
             0.8,
             "#7fbc41"
            ],
            [
             0.9,
             "#4d9221"
            ],
            [
             1,
             "#276419"
            ]
           ],
           "sequential": [
            [
             0,
             "#0d0887"
            ],
            [
             0.1111111111111111,
             "#46039f"
            ],
            [
             0.2222222222222222,
             "#7201a8"
            ],
            [
             0.3333333333333333,
             "#9c179e"
            ],
            [
             0.4444444444444444,
             "#bd3786"
            ],
            [
             0.5555555555555556,
             "#d8576b"
            ],
            [
             0.6666666666666666,
             "#ed7953"
            ],
            [
             0.7777777777777778,
             "#fb9f3a"
            ],
            [
             0.8888888888888888,
             "#fdca26"
            ],
            [
             1,
             "#f0f921"
            ]
           ],
           "sequentialminus": [
            [
             0,
             "#0d0887"
            ],
            [
             0.1111111111111111,
             "#46039f"
            ],
            [
             0.2222222222222222,
             "#7201a8"
            ],
            [
             0.3333333333333333,
             "#9c179e"
            ],
            [
             0.4444444444444444,
             "#bd3786"
            ],
            [
             0.5555555555555556,
             "#d8576b"
            ],
            [
             0.6666666666666666,
             "#ed7953"
            ],
            [
             0.7777777777777778,
             "#fb9f3a"
            ],
            [
             0.8888888888888888,
             "#fdca26"
            ],
            [
             1,
             "#f0f921"
            ]
           ]
          },
          "colorway": [
           "#636efa",
           "#EF553B",
           "#00cc96",
           "#ab63fa",
           "#FFA15A",
           "#19d3f3",
           "#FF6692",
           "#B6E880",
           "#FF97FF",
           "#FECB52"
          ],
          "font": {
           "color": "#2a3f5f"
          },
          "geo": {
           "bgcolor": "white",
           "lakecolor": "white",
           "landcolor": "#E5ECF6",
           "showlakes": true,
           "showland": true,
           "subunitcolor": "white"
          },
          "hoverlabel": {
           "align": "left"
          },
          "hovermode": "closest",
          "mapbox": {
           "style": "light"
          },
          "paper_bgcolor": "white",
          "plot_bgcolor": "#E5ECF6",
          "polar": {
           "angularaxis": {
            "gridcolor": "white",
            "linecolor": "white",
            "ticks": ""
           },
           "bgcolor": "#E5ECF6",
           "radialaxis": {
            "gridcolor": "white",
            "linecolor": "white",
            "ticks": ""
           }
          },
          "scene": {
           "xaxis": {
            "backgroundcolor": "#E5ECF6",
            "gridcolor": "white",
            "gridwidth": 2,
            "linecolor": "white",
            "showbackground": true,
            "ticks": "",
            "zerolinecolor": "white"
           },
           "yaxis": {
            "backgroundcolor": "#E5ECF6",
            "gridcolor": "white",
            "gridwidth": 2,
            "linecolor": "white",
            "showbackground": true,
            "ticks": "",
            "zerolinecolor": "white"
           },
           "zaxis": {
            "backgroundcolor": "#E5ECF6",
            "gridcolor": "white",
            "gridwidth": 2,
            "linecolor": "white",
            "showbackground": true,
            "ticks": "",
            "zerolinecolor": "white"
           }
          },
          "shapedefaults": {
           "line": {
            "color": "#2a3f5f"
           }
          },
          "ternary": {
           "aaxis": {
            "gridcolor": "white",
            "linecolor": "white",
            "ticks": ""
           },
           "baxis": {
            "gridcolor": "white",
            "linecolor": "white",
            "ticks": ""
           },
           "bgcolor": "#E5ECF6",
           "caxis": {
            "gridcolor": "white",
            "linecolor": "white",
            "ticks": ""
           }
          },
          "title": {
           "x": 0.05
          },
          "xaxis": {
           "automargin": true,
           "gridcolor": "white",
           "linecolor": "white",
           "ticks": "",
           "title": {
            "standoff": 15
           },
           "zerolinecolor": "white",
           "zerolinewidth": 2
          },
          "yaxis": {
           "automargin": true,
           "gridcolor": "white",
           "linecolor": "white",
           "ticks": "",
           "title": {
            "standoff": 15
           },
           "zerolinecolor": "white",
           "zerolinewidth": 2
          }
         }
        },
        "title": {
         "text": "Moyenne des erreurs de prédiction par heure sur 10 stations"
        },
        "width": 1000,
        "xaxis": {
         "title": {
          "text": "Heure"
         }
        },
        "yaxis": {
         "title": {
          "text": "Erreur moyenne"
         }
        }
       }
      }
     },
     "metadata": {}
    }
   ],
   "source": [
    "fig = go.Figure()\n",
    "\n",
    "fig.add_trace(go.Scatter(\n",
    "    x=mean_erreur_par_heure.index,\n",
    "    y=mean_erreur_par_heure['erreur_pred_lr'],\n",
    "    name=\"Erreur moyenne avec Régression Linéaire\"      \n",
    "))\n",
    "\n",
    "\n",
    "fig.add_trace(go.Scatter(\n",
    "    x=mean_erreur_par_heure.index,\n",
    "    y=mean_erreur_par_heure['erreur_pred_rf'],\n",
    "    name=\"Erreur moyenne avec Forêt aléatoire\"     \n",
    "))\n",
    "\n",
    "fig.add_trace(go.Scatter(\n",
    "    x=mean_erreur_par_heure.index,\n",
    "    y=mean_erreur_par_heure['erreur_pred_naif'],\n",
    "    name=\"Erreur moyenne avec la méthode naïve\"     \n",
    "))\n",
    "\n",
    "\n",
    "fig.update_layout(\n",
    "    title=\"Moyenne des erreurs de prédiction par heure sur 10 stations\",\n",
    "    xaxis_title=\"Heure\",\n",
    "    yaxis_title=\"Erreur moyenne\",\n",
    "    legend_title=\"\",\n",
    "    autosize=False,\n",
    "    width=1000,\n",
    "    height=500\n",
    ")\n",
    "\n",
    "fig.show()"
   ]
  },
  {
   "cell_type": "code",
   "execution_count": 224,
   "metadata": {},
   "outputs": [
    {
     "output_type": "display_data",
     "data": {
      "application/vnd.plotly.v1+json": {
       "config": {
        "plotlyServerURL": "https://plot.ly"
       },
       "data": [
        {
         "name": "Erreur moyenne avec Régression Linéaire",
         "type": "scatter",
         "x": [
          0,
          1,
          2,
          3,
          4,
          5,
          6,
          7,
          8,
          9,
          10,
          11,
          12,
          13,
          14,
          15,
          16,
          17,
          18,
          19,
          20,
          21,
          22,
          23
         ],
         "y": [
          2.13,
          2.08,
          2.18,
          2.14,
          1.74,
          1.7,
          2,
          3.14,
          4.68,
          4.67,
          4.54,
          4.62,
          4.49,
          4.59,
          4.6,
          4.8,
          4.69,
          5.37,
          5.61,
          4.61,
          3.59,
          3.08,
          2.77,
          2.6
         ]
        },
        {
         "name": "Erreur moyenne avec Forêt aléatoire",
         "type": "scatter",
         "x": [
          0,
          1,
          2,
          3,
          4,
          5,
          6,
          7,
          8,
          9,
          10,
          11,
          12,
          13,
          14,
          15,
          16,
          17,
          18,
          19,
          20,
          21,
          22,
          23
         ],
         "y": [
          1.18,
          1,
          1.03,
          0.88,
          0.85,
          1.01,
          1.37,
          2.35,
          3.58,
          3.38,
          2.89,
          3.36,
          3.04,
          3.27,
          3.15,
          3.16,
          3.12,
          3.25,
          3.4,
          3.3,
          2.55,
          2.17,
          1.5,
          1.31
         ]
        },
        {
         "name": "Erreur moyenne avec la méthode naïve",
         "type": "scatter",
         "x": [
          0,
          1,
          2,
          3,
          4,
          5,
          6,
          7,
          8,
          9,
          10,
          11,
          12,
          13,
          14,
          15,
          16,
          17,
          18,
          19,
          20,
          21,
          22,
          23
         ],
         "y": [
          5.95,
          5.61,
          5.95,
          5.85,
          5.04,
          5.78,
          5.32,
          5.87,
          6.79,
          5.82,
          5.4,
          5.48,
          5.67,
          6.01,
          5.8,
          5.07,
          5.21,
          5.17,
          5.81,
          5.44,
          5.57,
          5.27,
          5.48,
          5.29
         ]
        },
        {
         "mode": "text",
         "showlegend": false,
         "text": [
          "Nuit",
          "22h-5h",
          "Matin",
          "6h-8h",
          "Les heures creuses",
          "9h-16h",
          "Fin travail",
          "17h-18h",
          "Soir",
          "19h-21h"
         ],
         "type": "scatter",
         "x": [
          3,
          3,
          7,
          7,
          12.5,
          12.5,
          17.5,
          17.5,
          20,
          20
         ],
         "y": [
          4,
          3.75,
          1,
          0.75,
          1,
          0.75,
          1,
          0.75,
          1,
          0.75
         ]
        }
       ],
       "layout": {
        "autosize": false,
        "height": 500,
        "legend": {
         "title": {
          "text": ""
         }
        },
        "shapes": [
         {
          "line": {
           "color": "black",
           "dash": "dot",
           "width": 2
          },
          "type": "line",
          "x0": 5.5,
          "x1": 5.5,
          "y0": 0,
          "y1": 7
         },
         {
          "line": {
           "color": "black",
           "dash": "dot",
           "width": 2
          },
          "type": "line",
          "x0": 8.5,
          "x1": 8.5,
          "y0": 0,
          "y1": 7
         },
         {
          "line": {
           "color": "black",
           "dash": "dot",
           "width": 2
          },
          "type": "line",
          "x0": 16.5,
          "x1": 16.5,
          "y0": 0,
          "y1": 7
         },
         {
          "line": {
           "color": "black",
           "dash": "dot",
           "width": 2
          },
          "type": "line",
          "x0": 18.5,
          "x1": 18.5,
          "y0": 0,
          "y1": 7
         },
         {
          "line": {
           "color": "black",
           "dash": "dot",
           "width": 2
          },
          "type": "line",
          "x0": 21.5,
          "x1": 21.5,
          "y0": 0,
          "y1": 7
         }
        ],
        "template": {
         "data": {
          "bar": [
           {
            "error_x": {
             "color": "#2a3f5f"
            },
            "error_y": {
             "color": "#2a3f5f"
            },
            "marker": {
             "line": {
              "color": "#E5ECF6",
              "width": 0.5
             }
            },
            "type": "bar"
           }
          ],
          "barpolar": [
           {
            "marker": {
             "line": {
              "color": "#E5ECF6",
              "width": 0.5
             }
            },
            "type": "barpolar"
           }
          ],
          "carpet": [
           {
            "aaxis": {
             "endlinecolor": "#2a3f5f",
             "gridcolor": "white",
             "linecolor": "white",
             "minorgridcolor": "white",
             "startlinecolor": "#2a3f5f"
            },
            "baxis": {
             "endlinecolor": "#2a3f5f",
             "gridcolor": "white",
             "linecolor": "white",
             "minorgridcolor": "white",
             "startlinecolor": "#2a3f5f"
            },
            "type": "carpet"
           }
          ],
          "choropleth": [
           {
            "colorbar": {
             "outlinewidth": 0,
             "ticks": ""
            },
            "type": "choropleth"
           }
          ],
          "contour": [
           {
            "colorbar": {
             "outlinewidth": 0,
             "ticks": ""
            },
            "colorscale": [
             [
              0,
              "#0d0887"
             ],
             [
              0.1111111111111111,
              "#46039f"
             ],
             [
              0.2222222222222222,
              "#7201a8"
             ],
             [
              0.3333333333333333,
              "#9c179e"
             ],
             [
              0.4444444444444444,
              "#bd3786"
             ],
             [
              0.5555555555555556,
              "#d8576b"
             ],
             [
              0.6666666666666666,
              "#ed7953"
             ],
             [
              0.7777777777777778,
              "#fb9f3a"
             ],
             [
              0.8888888888888888,
              "#fdca26"
             ],
             [
              1,
              "#f0f921"
             ]
            ],
            "type": "contour"
           }
          ],
          "contourcarpet": [
           {
            "colorbar": {
             "outlinewidth": 0,
             "ticks": ""
            },
            "type": "contourcarpet"
           }
          ],
          "heatmap": [
           {
            "colorbar": {
             "outlinewidth": 0,
             "ticks": ""
            },
            "colorscale": [
             [
              0,
              "#0d0887"
             ],
             [
              0.1111111111111111,
              "#46039f"
             ],
             [
              0.2222222222222222,
              "#7201a8"
             ],
             [
              0.3333333333333333,
              "#9c179e"
             ],
             [
              0.4444444444444444,
              "#bd3786"
             ],
             [
              0.5555555555555556,
              "#d8576b"
             ],
             [
              0.6666666666666666,
              "#ed7953"
             ],
             [
              0.7777777777777778,
              "#fb9f3a"
             ],
             [
              0.8888888888888888,
              "#fdca26"
             ],
             [
              1,
              "#f0f921"
             ]
            ],
            "type": "heatmap"
           }
          ],
          "heatmapgl": [
           {
            "colorbar": {
             "outlinewidth": 0,
             "ticks": ""
            },
            "colorscale": [
             [
              0,
              "#0d0887"
             ],
             [
              0.1111111111111111,
              "#46039f"
             ],
             [
              0.2222222222222222,
              "#7201a8"
             ],
             [
              0.3333333333333333,
              "#9c179e"
             ],
             [
              0.4444444444444444,
              "#bd3786"
             ],
             [
              0.5555555555555556,
              "#d8576b"
             ],
             [
              0.6666666666666666,
              "#ed7953"
             ],
             [
              0.7777777777777778,
              "#fb9f3a"
             ],
             [
              0.8888888888888888,
              "#fdca26"
             ],
             [
              1,
              "#f0f921"
             ]
            ],
            "type": "heatmapgl"
           }
          ],
          "histogram": [
           {
            "marker": {
             "colorbar": {
              "outlinewidth": 0,
              "ticks": ""
             }
            },
            "type": "histogram"
           }
          ],
          "histogram2d": [
           {
            "colorbar": {
             "outlinewidth": 0,
             "ticks": ""
            },
            "colorscale": [
             [
              0,
              "#0d0887"
             ],
             [
              0.1111111111111111,
              "#46039f"
             ],
             [
              0.2222222222222222,
              "#7201a8"
             ],
             [
              0.3333333333333333,
              "#9c179e"
             ],
             [
              0.4444444444444444,
              "#bd3786"
             ],
             [
              0.5555555555555556,
              "#d8576b"
             ],
             [
              0.6666666666666666,
              "#ed7953"
             ],
             [
              0.7777777777777778,
              "#fb9f3a"
             ],
             [
              0.8888888888888888,
              "#fdca26"
             ],
             [
              1,
              "#f0f921"
             ]
            ],
            "type": "histogram2d"
           }
          ],
          "histogram2dcontour": [
           {
            "colorbar": {
             "outlinewidth": 0,
             "ticks": ""
            },
            "colorscale": [
             [
              0,
              "#0d0887"
             ],
             [
              0.1111111111111111,
              "#46039f"
             ],
             [
              0.2222222222222222,
              "#7201a8"
             ],
             [
              0.3333333333333333,
              "#9c179e"
             ],
             [
              0.4444444444444444,
              "#bd3786"
             ],
             [
              0.5555555555555556,
              "#d8576b"
             ],
             [
              0.6666666666666666,
              "#ed7953"
             ],
             [
              0.7777777777777778,
              "#fb9f3a"
             ],
             [
              0.8888888888888888,
              "#fdca26"
             ],
             [
              1,
              "#f0f921"
             ]
            ],
            "type": "histogram2dcontour"
           }
          ],
          "mesh3d": [
           {
            "colorbar": {
             "outlinewidth": 0,
             "ticks": ""
            },
            "type": "mesh3d"
           }
          ],
          "parcoords": [
           {
            "line": {
             "colorbar": {
              "outlinewidth": 0,
              "ticks": ""
             }
            },
            "type": "parcoords"
           }
          ],
          "pie": [
           {
            "automargin": true,
            "type": "pie"
           }
          ],
          "scatter": [
           {
            "marker": {
             "colorbar": {
              "outlinewidth": 0,
              "ticks": ""
             }
            },
            "type": "scatter"
           }
          ],
          "scatter3d": [
           {
            "line": {
             "colorbar": {
              "outlinewidth": 0,
              "ticks": ""
             }
            },
            "marker": {
             "colorbar": {
              "outlinewidth": 0,
              "ticks": ""
             }
            },
            "type": "scatter3d"
           }
          ],
          "scattercarpet": [
           {
            "marker": {
             "colorbar": {
              "outlinewidth": 0,
              "ticks": ""
             }
            },
            "type": "scattercarpet"
           }
          ],
          "scattergeo": [
           {
            "marker": {
             "colorbar": {
              "outlinewidth": 0,
              "ticks": ""
             }
            },
            "type": "scattergeo"
           }
          ],
          "scattergl": [
           {
            "marker": {
             "colorbar": {
              "outlinewidth": 0,
              "ticks": ""
             }
            },
            "type": "scattergl"
           }
          ],
          "scattermapbox": [
           {
            "marker": {
             "colorbar": {
              "outlinewidth": 0,
              "ticks": ""
             }
            },
            "type": "scattermapbox"
           }
          ],
          "scatterpolar": [
           {
            "marker": {
             "colorbar": {
              "outlinewidth": 0,
              "ticks": ""
             }
            },
            "type": "scatterpolar"
           }
          ],
          "scatterpolargl": [
           {
            "marker": {
             "colorbar": {
              "outlinewidth": 0,
              "ticks": ""
             }
            },
            "type": "scatterpolargl"
           }
          ],
          "scatterternary": [
           {
            "marker": {
             "colorbar": {
              "outlinewidth": 0,
              "ticks": ""
             }
            },
            "type": "scatterternary"
           }
          ],
          "surface": [
           {
            "colorbar": {
             "outlinewidth": 0,
             "ticks": ""
            },
            "colorscale": [
             [
              0,
              "#0d0887"
             ],
             [
              0.1111111111111111,
              "#46039f"
             ],
             [
              0.2222222222222222,
              "#7201a8"
             ],
             [
              0.3333333333333333,
              "#9c179e"
             ],
             [
              0.4444444444444444,
              "#bd3786"
             ],
             [
              0.5555555555555556,
              "#d8576b"
             ],
             [
              0.6666666666666666,
              "#ed7953"
             ],
             [
              0.7777777777777778,
              "#fb9f3a"
             ],
             [
              0.8888888888888888,
              "#fdca26"
             ],
             [
              1,
              "#f0f921"
             ]
            ],
            "type": "surface"
           }
          ],
          "table": [
           {
            "cells": {
             "fill": {
              "color": "#EBF0F8"
             },
             "line": {
              "color": "white"
             }
            },
            "header": {
             "fill": {
              "color": "#C8D4E3"
             },
             "line": {
              "color": "white"
             }
            },
            "type": "table"
           }
          ]
         },
         "layout": {
          "annotationdefaults": {
           "arrowcolor": "#2a3f5f",
           "arrowhead": 0,
           "arrowwidth": 1
          },
          "autotypenumbers": "strict",
          "coloraxis": {
           "colorbar": {
            "outlinewidth": 0,
            "ticks": ""
           }
          },
          "colorscale": {
           "diverging": [
            [
             0,
             "#8e0152"
            ],
            [
             0.1,
             "#c51b7d"
            ],
            [
             0.2,
             "#de77ae"
            ],
            [
             0.3,
             "#f1b6da"
            ],
            [
             0.4,
             "#fde0ef"
            ],
            [
             0.5,
             "#f7f7f7"
            ],
            [
             0.6,
             "#e6f5d0"
            ],
            [
             0.7,
             "#b8e186"
            ],
            [
             0.8,
             "#7fbc41"
            ],
            [
             0.9,
             "#4d9221"
            ],
            [
             1,
             "#276419"
            ]
           ],
           "sequential": [
            [
             0,
             "#0d0887"
            ],
            [
             0.1111111111111111,
             "#46039f"
            ],
            [
             0.2222222222222222,
             "#7201a8"
            ],
            [
             0.3333333333333333,
             "#9c179e"
            ],
            [
             0.4444444444444444,
             "#bd3786"
            ],
            [
             0.5555555555555556,
             "#d8576b"
            ],
            [
             0.6666666666666666,
             "#ed7953"
            ],
            [
             0.7777777777777778,
             "#fb9f3a"
            ],
            [
             0.8888888888888888,
             "#fdca26"
            ],
            [
             1,
             "#f0f921"
            ]
           ],
           "sequentialminus": [
            [
             0,
             "#0d0887"
            ],
            [
             0.1111111111111111,
             "#46039f"
            ],
            [
             0.2222222222222222,
             "#7201a8"
            ],
            [
             0.3333333333333333,
             "#9c179e"
            ],
            [
             0.4444444444444444,
             "#bd3786"
            ],
            [
             0.5555555555555556,
             "#d8576b"
            ],
            [
             0.6666666666666666,
             "#ed7953"
            ],
            [
             0.7777777777777778,
             "#fb9f3a"
            ],
            [
             0.8888888888888888,
             "#fdca26"
            ],
            [
             1,
             "#f0f921"
            ]
           ]
          },
          "colorway": [
           "#636efa",
           "#EF553B",
           "#00cc96",
           "#ab63fa",
           "#FFA15A",
           "#19d3f3",
           "#FF6692",
           "#B6E880",
           "#FF97FF",
           "#FECB52"
          ],
          "font": {
           "color": "#2a3f5f"
          },
          "geo": {
           "bgcolor": "white",
           "lakecolor": "white",
           "landcolor": "#E5ECF6",
           "showlakes": true,
           "showland": true,
           "subunitcolor": "white"
          },
          "hoverlabel": {
           "align": "left"
          },
          "hovermode": "closest",
          "mapbox": {
           "style": "light"
          },
          "paper_bgcolor": "white",
          "plot_bgcolor": "#E5ECF6",
          "polar": {
           "angularaxis": {
            "gridcolor": "white",
            "linecolor": "white",
            "ticks": ""
           },
           "bgcolor": "#E5ECF6",
           "radialaxis": {
            "gridcolor": "white",
            "linecolor": "white",
            "ticks": ""
           }
          },
          "scene": {
           "xaxis": {
            "backgroundcolor": "#E5ECF6",
            "gridcolor": "white",
            "gridwidth": 2,
            "linecolor": "white",
            "showbackground": true,
            "ticks": "",
            "zerolinecolor": "white"
           },
           "yaxis": {
            "backgroundcolor": "#E5ECF6",
            "gridcolor": "white",
            "gridwidth": 2,
            "linecolor": "white",
            "showbackground": true,
            "ticks": "",
            "zerolinecolor": "white"
           },
           "zaxis": {
            "backgroundcolor": "#E5ECF6",
            "gridcolor": "white",
            "gridwidth": 2,
            "linecolor": "white",
            "showbackground": true,
            "ticks": "",
            "zerolinecolor": "white"
           }
          },
          "shapedefaults": {
           "line": {
            "color": "#2a3f5f"
           }
          },
          "ternary": {
           "aaxis": {
            "gridcolor": "white",
            "linecolor": "white",
            "ticks": ""
           },
           "baxis": {
            "gridcolor": "white",
            "linecolor": "white",
            "ticks": ""
           },
           "bgcolor": "#E5ECF6",
           "caxis": {
            "gridcolor": "white",
            "linecolor": "white",
            "ticks": ""
           }
          },
          "title": {
           "x": 0.05
          },
          "xaxis": {
           "automargin": true,
           "gridcolor": "white",
           "linecolor": "white",
           "ticks": "",
           "title": {
            "standoff": 15
           },
           "zerolinecolor": "white",
           "zerolinewidth": 2
          },
          "yaxis": {
           "automargin": true,
           "gridcolor": "white",
           "linecolor": "white",
           "ticks": "",
           "title": {
            "standoff": 15
           },
           "zerolinecolor": "white",
           "zerolinewidth": 2
          }
         }
        },
        "title": {
         "text": "Choix des intervalles de temps à prédire au regard des 10 stations"
        },
        "width": 1000,
        "xaxis": {
         "range": [
          0,
          23
         ],
         "title": {
          "text": "Heure"
         }
        },
        "yaxis": {
         "range": [
          0,
          7
         ],
         "title": {
          "text": "Erreur moyenne"
         }
        }
       }
      }
     },
     "metadata": {}
    }
   ],
   "source": [
    "fig = go.Figure()\n",
    "\n",
    "fig.add_trace(go.Scatter(\n",
    "    x=mean_erreur_par_heure.index,\n",
    "    y=mean_erreur_par_heure['erreur_pred_lr'],\n",
    "    name=\"Erreur moyenne avec Régression Linéaire\"      \n",
    "))\n",
    "\n",
    "\n",
    "fig.add_trace(go.Scatter(\n",
    "    x=mean_erreur_par_heure.index,\n",
    "    y=mean_erreur_par_heure['erreur_pred_rf'],\n",
    "    name=\"Erreur moyenne avec Forêt aléatoire\"     \n",
    "))\n",
    "\n",
    "fig.add_trace(go.Scatter(\n",
    "    x=mean_erreur_par_heure.index,\n",
    "    y=mean_erreur_par_heure['erreur_pred_naif'],\n",
    "    name=\"Erreur moyenne avec la méthode naïve\"     \n",
    "))\n",
    "\n",
    "\n",
    "# Create scatter trace of text labels\n",
    "fig.add_trace(go.Scatter(\n",
    "    x=[3,3, 7,7, 12.5,12.5, 17.5,17.5, 20,20],\n",
    "    y=[4,3.75, 1,0.75, 1,0.75, 1,0.75, 1,0.75],\n",
    "    text=[\"Nuit\", \"22h-5h\",\n",
    "          \"Matin\", \"6h-8h\",\n",
    "          \"Les heures creuses\", \"9h-16h\",\n",
    "          \"Fin travail\", \"17h-18h\",\n",
    "          \"Soir\", \"19h-21h\"],\n",
    "    mode=\"text\",\n",
    "    showlegend = False\n",
    "\n",
    "))\n",
    "\n",
    "# Set axes ranges\n",
    "fig.update_xaxes(range=[0, 23])\n",
    "fig.update_yaxes(range=[0, 7])\n",
    "\n",
    "# Add shapes\n",
    "fig.add_shape(type=\"line\",\n",
    "    x0=5.5, y0=0, x1=5.5, y1=7,\n",
    "    line=dict(\n",
    "        color=\"black\",\n",
    "        width=2,\n",
    "        dash=\"dot\"\n",
    "    )\n",
    ")\n",
    "\n",
    "fig.add_shape(type=\"line\",\n",
    "    x0=8.5, y0=0, x1=8.5, y1=7,\n",
    "    line=dict(\n",
    "        color=\"black\",\n",
    "        width=2,\n",
    "        dash=\"dot\"\n",
    "    )\n",
    ")\n",
    "\n",
    "fig.add_shape(type=\"line\",\n",
    "    x0=16.5, y0=0, x1=16.5, y1=7,\n",
    "    line=dict(\n",
    "        color=\"black\",\n",
    "        width=2,\n",
    "        dash=\"dot\"\n",
    "    )\n",
    ")\n",
    "\n",
    "fig.add_shape(type=\"line\",\n",
    "    x0=18.5, y0=0, x1=18.5, y1=7,\n",
    "    line=dict(\n",
    "        color=\"black\",\n",
    "        width=2,\n",
    "        dash=\"dot\"\n",
    "    )\n",
    ")\n",
    "\n",
    "fig.add_shape(type=\"line\",\n",
    "    x0=21.5, y0=0, x1=21.5, y1=7,\n",
    "    line=dict(\n",
    "        color=\"black\",\n",
    "        width=2,\n",
    "        dash=\"dot\"\n",
    "    )\n",
    ")\n",
    "\n",
    "\n",
    "\n",
    "fig.update_layout(\n",
    "    title=\"Choix des intervalles de temps à prédire au regard des 10 stations\",\n",
    "    xaxis_title=\"Heure\",\n",
    "    yaxis_title=\"Erreur moyenne\",\n",
    "    legend_title=\"\",\n",
    "    autosize=False,\n",
    "    width=1000,\n",
    "    height=500\n",
    ")\n",
    "\n",
    "fig.show()"
   ]
  },
  {
   "source": [
    "Par la suite, regarder :\n",
    "- lasso\n",
    "- entrainer sur des clusters"
   ],
   "cell_type": "markdown",
   "metadata": {}
  },
  {
   "source": [
    "## Machine Learning sur les périodes choisies"
   ],
   "cell_type": "markdown",
   "metadata": {}
  },
  {
   "cell_type": "code",
   "execution_count": 228,
   "metadata": {},
   "outputs": [
    {
     "output_type": "execute_result",
     "data": {
      "text/plain": [
       "                   0     1     2     3     4     5     6     7     8     9     \\\n",
       "10/19/20;18:56:54     1    45     2     6     7    38    19     9     4    13   \n",
       "10/19/20;19:56:58     2    48     3     9    16    26    23     8    10    25   \n",
       "10/19/20;20:57:02     5    49    10    10    25    18    19     5    11    37   \n",
       "10/19/20;21:57:05     4    51     9    12    24    20    29     7    14    36   \n",
       "10/19/20;22:57:14     3    52    11    10    23    24    30     7    14    36   \n",
       "\n",
       "                   ...  1388  1389  1390  1391  1392  1393  1394  1395  1396  \\\n",
       "10/19/20;18:56:54  ...     6     4     2    38    18    15     2     6    17   \n",
       "10/19/20;19:56:58  ...     7     6     1    21    20    25     2    15    15   \n",
       "10/19/20;20:57:02  ...     5    12     1    18    17    27     0    29    12   \n",
       "10/19/20;21:57:05  ...     6    14     2    17    19    31    14    34    15   \n",
       "10/19/20;22:57:14  ...     6    13     0    18    19    32    16    35    12   \n",
       "\n",
       "                   1397  \n",
       "10/19/20;18:56:54    17  \n",
       "10/19/20;19:56:58    13  \n",
       "10/19/20;20:57:02     5  \n",
       "10/19/20;21:57:05     6  \n",
       "10/19/20;22:57:14     7  \n",
       "\n",
       "[5 rows x 1398 columns]"
      ],
      "text/html": "<div>\n<style scoped>\n    .dataframe tbody tr th:only-of-type {\n        vertical-align: middle;\n    }\n\n    .dataframe tbody tr th {\n        vertical-align: top;\n    }\n\n    .dataframe thead th {\n        text-align: right;\n    }\n</style>\n<table border=\"1\" class=\"dataframe\">\n  <thead>\n    <tr style=\"text-align: right;\">\n      <th></th>\n      <th>0</th>\n      <th>1</th>\n      <th>2</th>\n      <th>3</th>\n      <th>4</th>\n      <th>5</th>\n      <th>6</th>\n      <th>7</th>\n      <th>8</th>\n      <th>9</th>\n      <th>...</th>\n      <th>1388</th>\n      <th>1389</th>\n      <th>1390</th>\n      <th>1391</th>\n      <th>1392</th>\n      <th>1393</th>\n      <th>1394</th>\n      <th>1395</th>\n      <th>1396</th>\n      <th>1397</th>\n    </tr>\n  </thead>\n  <tbody>\n    <tr>\n      <th>10/19/20;18:56:54</th>\n      <td>1</td>\n      <td>45</td>\n      <td>2</td>\n      <td>6</td>\n      <td>7</td>\n      <td>38</td>\n      <td>19</td>\n      <td>9</td>\n      <td>4</td>\n      <td>13</td>\n      <td>...</td>\n      <td>6</td>\n      <td>4</td>\n      <td>2</td>\n      <td>38</td>\n      <td>18</td>\n      <td>15</td>\n      <td>2</td>\n      <td>6</td>\n      <td>17</td>\n      <td>17</td>\n    </tr>\n    <tr>\n      <th>10/19/20;19:56:58</th>\n      <td>2</td>\n      <td>48</td>\n      <td>3</td>\n      <td>9</td>\n      <td>16</td>\n      <td>26</td>\n      <td>23</td>\n      <td>8</td>\n      <td>10</td>\n      <td>25</td>\n      <td>...</td>\n      <td>7</td>\n      <td>6</td>\n      <td>1</td>\n      <td>21</td>\n      <td>20</td>\n      <td>25</td>\n      <td>2</td>\n      <td>15</td>\n      <td>15</td>\n      <td>13</td>\n    </tr>\n    <tr>\n      <th>10/19/20;20:57:02</th>\n      <td>5</td>\n      <td>49</td>\n      <td>10</td>\n      <td>10</td>\n      <td>25</td>\n      <td>18</td>\n      <td>19</td>\n      <td>5</td>\n      <td>11</td>\n      <td>37</td>\n      <td>...</td>\n      <td>5</td>\n      <td>12</td>\n      <td>1</td>\n      <td>18</td>\n      <td>17</td>\n      <td>27</td>\n      <td>0</td>\n      <td>29</td>\n      <td>12</td>\n      <td>5</td>\n    </tr>\n    <tr>\n      <th>10/19/20;21:57:05</th>\n      <td>4</td>\n      <td>51</td>\n      <td>9</td>\n      <td>12</td>\n      <td>24</td>\n      <td>20</td>\n      <td>29</td>\n      <td>7</td>\n      <td>14</td>\n      <td>36</td>\n      <td>...</td>\n      <td>6</td>\n      <td>14</td>\n      <td>2</td>\n      <td>17</td>\n      <td>19</td>\n      <td>31</td>\n      <td>14</td>\n      <td>34</td>\n      <td>15</td>\n      <td>6</td>\n    </tr>\n    <tr>\n      <th>10/19/20;22:57:14</th>\n      <td>3</td>\n      <td>52</td>\n      <td>11</td>\n      <td>10</td>\n      <td>23</td>\n      <td>24</td>\n      <td>30</td>\n      <td>7</td>\n      <td>14</td>\n      <td>36</td>\n      <td>...</td>\n      <td>6</td>\n      <td>13</td>\n      <td>0</td>\n      <td>18</td>\n      <td>19</td>\n      <td>32</td>\n      <td>16</td>\n      <td>35</td>\n      <td>12</td>\n      <td>7</td>\n    </tr>\n  </tbody>\n</table>\n<p>5 rows × 1398 columns</p>\n</div>"
     },
     "metadata": {},
     "execution_count": 228
    }
   ],
   "source": [
    "df_velib.head(5)"
   ]
  },
  {
   "cell_type": "code",
   "execution_count": 229,
   "metadata": {},
   "outputs": [
    {
     "output_type": "execute_result",
     "data": {
      "text/plain": [
       "                   0   1   2   3   4   5   6  7   8   9  ...  1389  1390  \\\n",
       "10/19/20;18:56:54  1  45   2   6   7  38  19  9   4  13  ...     4     2   \n",
       "10/19/20;19:56:58  2  48   3   9  16  26  23  8  10  25  ...     6     1   \n",
       "10/19/20;20:57:02  5  49  10  10  25  18  19  5  11  37  ...    12     1   \n",
       "10/19/20;21:57:05  4  51   9  12  24  20  29  7  14  36  ...    14     2   \n",
       "10/19/20;22:57:14  3  52  11  10  23  24  30  7  14  36  ...    13     0   \n",
       "\n",
       "                   1391  1392  1393  1394  1395  1396  1397              heure  \n",
       "10/19/20;18:56:54    38    18    15     2     6    17    17  10/19/20;18:56:54  \n",
       "10/19/20;19:56:58    21    20    25     2    15    15    13  10/19/20;19:56:58  \n",
       "10/19/20;20:57:02    18    17    27     0    29    12     5  10/19/20;20:57:02  \n",
       "10/19/20;21:57:05    17    19    31    14    34    15     6  10/19/20;21:57:05  \n",
       "10/19/20;22:57:14    18    19    32    16    35    12     7  10/19/20;22:57:14  \n",
       "\n",
       "[5 rows x 1399 columns]"
      ],
      "text/html": "<div>\n<style scoped>\n    .dataframe tbody tr th:only-of-type {\n        vertical-align: middle;\n    }\n\n    .dataframe tbody tr th {\n        vertical-align: top;\n    }\n\n    .dataframe thead th {\n        text-align: right;\n    }\n</style>\n<table border=\"1\" class=\"dataframe\">\n  <thead>\n    <tr style=\"text-align: right;\">\n      <th></th>\n      <th>0</th>\n      <th>1</th>\n      <th>2</th>\n      <th>3</th>\n      <th>4</th>\n      <th>5</th>\n      <th>6</th>\n      <th>7</th>\n      <th>8</th>\n      <th>9</th>\n      <th>...</th>\n      <th>1389</th>\n      <th>1390</th>\n      <th>1391</th>\n      <th>1392</th>\n      <th>1393</th>\n      <th>1394</th>\n      <th>1395</th>\n      <th>1396</th>\n      <th>1397</th>\n      <th>heure</th>\n    </tr>\n  </thead>\n  <tbody>\n    <tr>\n      <th>10/19/20;18:56:54</th>\n      <td>1</td>\n      <td>45</td>\n      <td>2</td>\n      <td>6</td>\n      <td>7</td>\n      <td>38</td>\n      <td>19</td>\n      <td>9</td>\n      <td>4</td>\n      <td>13</td>\n      <td>...</td>\n      <td>4</td>\n      <td>2</td>\n      <td>38</td>\n      <td>18</td>\n      <td>15</td>\n      <td>2</td>\n      <td>6</td>\n      <td>17</td>\n      <td>17</td>\n      <td>10/19/20;18:56:54</td>\n    </tr>\n    <tr>\n      <th>10/19/20;19:56:58</th>\n      <td>2</td>\n      <td>48</td>\n      <td>3</td>\n      <td>9</td>\n      <td>16</td>\n      <td>26</td>\n      <td>23</td>\n      <td>8</td>\n      <td>10</td>\n      <td>25</td>\n      <td>...</td>\n      <td>6</td>\n      <td>1</td>\n      <td>21</td>\n      <td>20</td>\n      <td>25</td>\n      <td>2</td>\n      <td>15</td>\n      <td>15</td>\n      <td>13</td>\n      <td>10/19/20;19:56:58</td>\n    </tr>\n    <tr>\n      <th>10/19/20;20:57:02</th>\n      <td>5</td>\n      <td>49</td>\n      <td>10</td>\n      <td>10</td>\n      <td>25</td>\n      <td>18</td>\n      <td>19</td>\n      <td>5</td>\n      <td>11</td>\n      <td>37</td>\n      <td>...</td>\n      <td>12</td>\n      <td>1</td>\n      <td>18</td>\n      <td>17</td>\n      <td>27</td>\n      <td>0</td>\n      <td>29</td>\n      <td>12</td>\n      <td>5</td>\n      <td>10/19/20;20:57:02</td>\n    </tr>\n    <tr>\n      <th>10/19/20;21:57:05</th>\n      <td>4</td>\n      <td>51</td>\n      <td>9</td>\n      <td>12</td>\n      <td>24</td>\n      <td>20</td>\n      <td>29</td>\n      <td>7</td>\n      <td>14</td>\n      <td>36</td>\n      <td>...</td>\n      <td>14</td>\n      <td>2</td>\n      <td>17</td>\n      <td>19</td>\n      <td>31</td>\n      <td>14</td>\n      <td>34</td>\n      <td>15</td>\n      <td>6</td>\n      <td>10/19/20;21:57:05</td>\n    </tr>\n    <tr>\n      <th>10/19/20;22:57:14</th>\n      <td>3</td>\n      <td>52</td>\n      <td>11</td>\n      <td>10</td>\n      <td>23</td>\n      <td>24</td>\n      <td>30</td>\n      <td>7</td>\n      <td>14</td>\n      <td>36</td>\n      <td>...</td>\n      <td>13</td>\n      <td>0</td>\n      <td>18</td>\n      <td>19</td>\n      <td>32</td>\n      <td>16</td>\n      <td>35</td>\n      <td>12</td>\n      <td>7</td>\n      <td>10/19/20;22:57:14</td>\n    </tr>\n  </tbody>\n</table>\n<p>5 rows × 1399 columns</p>\n</div>"
     },
     "metadata": {},
     "execution_count": 229
    }
   ],
   "source": [
    "df_h = df_velib.copy()\n",
    "df_h['heure'] = df_velib.index\n",
    "df_h.head(5)"
   ]
  },
  {
   "cell_type": "code",
   "execution_count": 230,
   "metadata": {},
   "outputs": [
    {
     "output_type": "execute_result",
     "data": {
      "text/plain": [
       "                   0   1   2   3   4   5   6  7   8   9  ...  1389  1390  \\\n",
       "10/19/20;18:56:54  1  45   2   6   7  38  19  9   4  13  ...     4     2   \n",
       "10/19/20;19:56:58  2  48   3   9  16  26  23  8  10  25  ...     6     1   \n",
       "10/19/20;20:57:02  5  49  10  10  25  18  19  5  11  37  ...    12     1   \n",
       "10/19/20;21:57:05  4  51   9  12  24  20  29  7  14  36  ...    14     2   \n",
       "10/19/20;22:57:14  3  52  11  10  23  24  30  7  14  36  ...    13     0   \n",
       "\n",
       "                   1391  1392  1393  1394  1395  1396  1397  heure  \n",
       "10/19/20;18:56:54    38    18    15     2     6    17    17     18  \n",
       "10/19/20;19:56:58    21    20    25     2    15    15    13     19  \n",
       "10/19/20;20:57:02    18    17    27     0    29    12     5     20  \n",
       "10/19/20;21:57:05    17    19    31    14    34    15     6     21  \n",
       "10/19/20;22:57:14    18    19    32    16    35    12     7     22  \n",
       "\n",
       "[5 rows x 1399 columns]"
      ],
      "text/html": "<div>\n<style scoped>\n    .dataframe tbody tr th:only-of-type {\n        vertical-align: middle;\n    }\n\n    .dataframe tbody tr th {\n        vertical-align: top;\n    }\n\n    .dataframe thead th {\n        text-align: right;\n    }\n</style>\n<table border=\"1\" class=\"dataframe\">\n  <thead>\n    <tr style=\"text-align: right;\">\n      <th></th>\n      <th>0</th>\n      <th>1</th>\n      <th>2</th>\n      <th>3</th>\n      <th>4</th>\n      <th>5</th>\n      <th>6</th>\n      <th>7</th>\n      <th>8</th>\n      <th>9</th>\n      <th>...</th>\n      <th>1389</th>\n      <th>1390</th>\n      <th>1391</th>\n      <th>1392</th>\n      <th>1393</th>\n      <th>1394</th>\n      <th>1395</th>\n      <th>1396</th>\n      <th>1397</th>\n      <th>heure</th>\n    </tr>\n  </thead>\n  <tbody>\n    <tr>\n      <th>10/19/20;18:56:54</th>\n      <td>1</td>\n      <td>45</td>\n      <td>2</td>\n      <td>6</td>\n      <td>7</td>\n      <td>38</td>\n      <td>19</td>\n      <td>9</td>\n      <td>4</td>\n      <td>13</td>\n      <td>...</td>\n      <td>4</td>\n      <td>2</td>\n      <td>38</td>\n      <td>18</td>\n      <td>15</td>\n      <td>2</td>\n      <td>6</td>\n      <td>17</td>\n      <td>17</td>\n      <td>18</td>\n    </tr>\n    <tr>\n      <th>10/19/20;19:56:58</th>\n      <td>2</td>\n      <td>48</td>\n      <td>3</td>\n      <td>9</td>\n      <td>16</td>\n      <td>26</td>\n      <td>23</td>\n      <td>8</td>\n      <td>10</td>\n      <td>25</td>\n      <td>...</td>\n      <td>6</td>\n      <td>1</td>\n      <td>21</td>\n      <td>20</td>\n      <td>25</td>\n      <td>2</td>\n      <td>15</td>\n      <td>15</td>\n      <td>13</td>\n      <td>19</td>\n    </tr>\n    <tr>\n      <th>10/19/20;20:57:02</th>\n      <td>5</td>\n      <td>49</td>\n      <td>10</td>\n      <td>10</td>\n      <td>25</td>\n      <td>18</td>\n      <td>19</td>\n      <td>5</td>\n      <td>11</td>\n      <td>37</td>\n      <td>...</td>\n      <td>12</td>\n      <td>1</td>\n      <td>18</td>\n      <td>17</td>\n      <td>27</td>\n      <td>0</td>\n      <td>29</td>\n      <td>12</td>\n      <td>5</td>\n      <td>20</td>\n    </tr>\n    <tr>\n      <th>10/19/20;21:57:05</th>\n      <td>4</td>\n      <td>51</td>\n      <td>9</td>\n      <td>12</td>\n      <td>24</td>\n      <td>20</td>\n      <td>29</td>\n      <td>7</td>\n      <td>14</td>\n      <td>36</td>\n      <td>...</td>\n      <td>14</td>\n      <td>2</td>\n      <td>17</td>\n      <td>19</td>\n      <td>31</td>\n      <td>14</td>\n      <td>34</td>\n      <td>15</td>\n      <td>6</td>\n      <td>21</td>\n    </tr>\n    <tr>\n      <th>10/19/20;22:57:14</th>\n      <td>3</td>\n      <td>52</td>\n      <td>11</td>\n      <td>10</td>\n      <td>23</td>\n      <td>24</td>\n      <td>30</td>\n      <td>7</td>\n      <td>14</td>\n      <td>36</td>\n      <td>...</td>\n      <td>13</td>\n      <td>0</td>\n      <td>18</td>\n      <td>19</td>\n      <td>32</td>\n      <td>16</td>\n      <td>35</td>\n      <td>12</td>\n      <td>7</td>\n      <td>22</td>\n    </tr>\n  </tbody>\n</table>\n<p>5 rows × 1399 columns</p>\n</div>"
     },
     "metadata": {},
     "execution_count": 230
    }
   ],
   "source": [
    "# On ne garde que les heures dans la date\n",
    "for i in range(len(df_h)):\n",
    "    df_h['heure'][i] = int(df_h['heure'][i][9]+df_h['heure'][i][10])\n",
    "\n",
    "df_h.head(5)"
   ]
  },
  {
   "source": [
    "## La nuit : 22h-5h"
   ],
   "cell_type": "markdown",
   "metadata": {}
  },
  {
   "cell_type": "code",
   "execution_count": 231,
   "metadata": {},
   "outputs": [
    {
     "output_type": "execute_result",
     "data": {
      "text/plain": [
       "                   0   1   2   3   4   5   6   7   8   9  ...  1389  1390  \\\n",
       "10/19/20;22:57:14  3  52  11  10  23  24  30   7  14  36  ...    13     0   \n",
       "10/19/20;23:57:18  3  52   9  10  24  23  31   7  14  36  ...    12     0   \n",
       "10/20/20;00:57:22  3  52   9  11  24  23  31   7  14  36  ...    12     0   \n",
       "10/20/20;01:57:26  3  52   9  11  24  22  31   7  14  37  ...    12     1   \n",
       "10/20/20;02:57:30  2  52   9  11  24  22  31   7  13  37  ...    12     1   \n",
       "...               ..  ..  ..  ..  ..  ..  ..  ..  ..  ..  ...   ...   ...   \n",
       "02/15/21;01:14:44  6  38   3   4  23  39   7  12  33  52  ...    16     2   \n",
       "02/15/21;02:18:15  6  38   3   4  23  26   7  12  34  52  ...    16     2   \n",
       "02/15/21;03:21:43  6  39   3   5  23  26   7  12  34  51  ...    16     2   \n",
       "02/15/21;04:25:14  6  39   3   5  23  26   7  12  34  52  ...    16     2   \n",
       "02/15/21;05:28:43  5  40   3   5  23  26   7  12  34  39  ...    16     2   \n",
       "\n",
       "                   1391  1392  1393  1394  1395  1396  1397  heure  \n",
       "10/19/20;22:57:14    18    19    32    16    35    12     7     22  \n",
       "10/19/20;23:57:18    18    19    33    16    35    12     7     23  \n",
       "10/20/20;00:57:22    17    19    33    16    35    12     7      0  \n",
       "10/20/20;01:57:26    17    19    32    16    35    12     7      1  \n",
       "10/20/20;02:57:30    17    19    32    16    35    12     7      2  \n",
       "...                 ...   ...   ...   ...   ...   ...   ...    ...  \n",
       "02/15/21;01:14:44    10     9    32     5    20    12    11      1  \n",
       "02/15/21;02:18:15    10     9    33     5    20    12    11      2  \n",
       "02/15/21;03:21:43    10     9    33     5    20    12    11      3  \n",
       "02/15/21;04:25:14    10     9    33     5    20    12    11      4  \n",
       "02/15/21;05:28:43    10     9    33     5    19    12    11      5  \n",
       "\n",
       "[924 rows x 1399 columns]"
      ],
      "text/html": "<div>\n<style scoped>\n    .dataframe tbody tr th:only-of-type {\n        vertical-align: middle;\n    }\n\n    .dataframe tbody tr th {\n        vertical-align: top;\n    }\n\n    .dataframe thead th {\n        text-align: right;\n    }\n</style>\n<table border=\"1\" class=\"dataframe\">\n  <thead>\n    <tr style=\"text-align: right;\">\n      <th></th>\n      <th>0</th>\n      <th>1</th>\n      <th>2</th>\n      <th>3</th>\n      <th>4</th>\n      <th>5</th>\n      <th>6</th>\n      <th>7</th>\n      <th>8</th>\n      <th>9</th>\n      <th>...</th>\n      <th>1389</th>\n      <th>1390</th>\n      <th>1391</th>\n      <th>1392</th>\n      <th>1393</th>\n      <th>1394</th>\n      <th>1395</th>\n      <th>1396</th>\n      <th>1397</th>\n      <th>heure</th>\n    </tr>\n  </thead>\n  <tbody>\n    <tr>\n      <th>10/19/20;22:57:14</th>\n      <td>3</td>\n      <td>52</td>\n      <td>11</td>\n      <td>10</td>\n      <td>23</td>\n      <td>24</td>\n      <td>30</td>\n      <td>7</td>\n      <td>14</td>\n      <td>36</td>\n      <td>...</td>\n      <td>13</td>\n      <td>0</td>\n      <td>18</td>\n      <td>19</td>\n      <td>32</td>\n      <td>16</td>\n      <td>35</td>\n      <td>12</td>\n      <td>7</td>\n      <td>22</td>\n    </tr>\n    <tr>\n      <th>10/19/20;23:57:18</th>\n      <td>3</td>\n      <td>52</td>\n      <td>9</td>\n      <td>10</td>\n      <td>24</td>\n      <td>23</td>\n      <td>31</td>\n      <td>7</td>\n      <td>14</td>\n      <td>36</td>\n      <td>...</td>\n      <td>12</td>\n      <td>0</td>\n      <td>18</td>\n      <td>19</td>\n      <td>33</td>\n      <td>16</td>\n      <td>35</td>\n      <td>12</td>\n      <td>7</td>\n      <td>23</td>\n    </tr>\n    <tr>\n      <th>10/20/20;00:57:22</th>\n      <td>3</td>\n      <td>52</td>\n      <td>9</td>\n      <td>11</td>\n      <td>24</td>\n      <td>23</td>\n      <td>31</td>\n      <td>7</td>\n      <td>14</td>\n      <td>36</td>\n      <td>...</td>\n      <td>12</td>\n      <td>0</td>\n      <td>17</td>\n      <td>19</td>\n      <td>33</td>\n      <td>16</td>\n      <td>35</td>\n      <td>12</td>\n      <td>7</td>\n      <td>0</td>\n    </tr>\n    <tr>\n      <th>10/20/20;01:57:26</th>\n      <td>3</td>\n      <td>52</td>\n      <td>9</td>\n      <td>11</td>\n      <td>24</td>\n      <td>22</td>\n      <td>31</td>\n      <td>7</td>\n      <td>14</td>\n      <td>37</td>\n      <td>...</td>\n      <td>12</td>\n      <td>1</td>\n      <td>17</td>\n      <td>19</td>\n      <td>32</td>\n      <td>16</td>\n      <td>35</td>\n      <td>12</td>\n      <td>7</td>\n      <td>1</td>\n    </tr>\n    <tr>\n      <th>10/20/20;02:57:30</th>\n      <td>2</td>\n      <td>52</td>\n      <td>9</td>\n      <td>11</td>\n      <td>24</td>\n      <td>22</td>\n      <td>31</td>\n      <td>7</td>\n      <td>13</td>\n      <td>37</td>\n      <td>...</td>\n      <td>12</td>\n      <td>1</td>\n      <td>17</td>\n      <td>19</td>\n      <td>32</td>\n      <td>16</td>\n      <td>35</td>\n      <td>12</td>\n      <td>7</td>\n      <td>2</td>\n    </tr>\n    <tr>\n      <th>...</th>\n      <td>...</td>\n      <td>...</td>\n      <td>...</td>\n      <td>...</td>\n      <td>...</td>\n      <td>...</td>\n      <td>...</td>\n      <td>...</td>\n      <td>...</td>\n      <td>...</td>\n      <td>...</td>\n      <td>...</td>\n      <td>...</td>\n      <td>...</td>\n      <td>...</td>\n      <td>...</td>\n      <td>...</td>\n      <td>...</td>\n      <td>...</td>\n      <td>...</td>\n      <td>...</td>\n    </tr>\n    <tr>\n      <th>02/15/21;01:14:44</th>\n      <td>6</td>\n      <td>38</td>\n      <td>3</td>\n      <td>4</td>\n      <td>23</td>\n      <td>39</td>\n      <td>7</td>\n      <td>12</td>\n      <td>33</td>\n      <td>52</td>\n      <td>...</td>\n      <td>16</td>\n      <td>2</td>\n      <td>10</td>\n      <td>9</td>\n      <td>32</td>\n      <td>5</td>\n      <td>20</td>\n      <td>12</td>\n      <td>11</td>\n      <td>1</td>\n    </tr>\n    <tr>\n      <th>02/15/21;02:18:15</th>\n      <td>6</td>\n      <td>38</td>\n      <td>3</td>\n      <td>4</td>\n      <td>23</td>\n      <td>26</td>\n      <td>7</td>\n      <td>12</td>\n      <td>34</td>\n      <td>52</td>\n      <td>...</td>\n      <td>16</td>\n      <td>2</td>\n      <td>10</td>\n      <td>9</td>\n      <td>33</td>\n      <td>5</td>\n      <td>20</td>\n      <td>12</td>\n      <td>11</td>\n      <td>2</td>\n    </tr>\n    <tr>\n      <th>02/15/21;03:21:43</th>\n      <td>6</td>\n      <td>39</td>\n      <td>3</td>\n      <td>5</td>\n      <td>23</td>\n      <td>26</td>\n      <td>7</td>\n      <td>12</td>\n      <td>34</td>\n      <td>51</td>\n      <td>...</td>\n      <td>16</td>\n      <td>2</td>\n      <td>10</td>\n      <td>9</td>\n      <td>33</td>\n      <td>5</td>\n      <td>20</td>\n      <td>12</td>\n      <td>11</td>\n      <td>3</td>\n    </tr>\n    <tr>\n      <th>02/15/21;04:25:14</th>\n      <td>6</td>\n      <td>39</td>\n      <td>3</td>\n      <td>5</td>\n      <td>23</td>\n      <td>26</td>\n      <td>7</td>\n      <td>12</td>\n      <td>34</td>\n      <td>52</td>\n      <td>...</td>\n      <td>16</td>\n      <td>2</td>\n      <td>10</td>\n      <td>9</td>\n      <td>33</td>\n      <td>5</td>\n      <td>20</td>\n      <td>12</td>\n      <td>11</td>\n      <td>4</td>\n    </tr>\n    <tr>\n      <th>02/15/21;05:28:43</th>\n      <td>5</td>\n      <td>40</td>\n      <td>3</td>\n      <td>5</td>\n      <td>23</td>\n      <td>26</td>\n      <td>7</td>\n      <td>12</td>\n      <td>34</td>\n      <td>39</td>\n      <td>...</td>\n      <td>16</td>\n      <td>2</td>\n      <td>10</td>\n      <td>9</td>\n      <td>33</td>\n      <td>5</td>\n      <td>19</td>\n      <td>12</td>\n      <td>11</td>\n      <td>5</td>\n    </tr>\n  </tbody>\n</table>\n<p>924 rows × 1399 columns</p>\n</div>"
     },
     "metadata": {},
     "execution_count": 231
    }
   ],
   "source": [
    "# On identifie les heures de nuit dans notre dataframe\n",
    "heures_non_nuit = [6, 7, 8, 9, 10, 11, 12, 13, 14, 15, 16, 17, 18, 19, 20, 21]\n",
    "test = df_h.isin({'heure': heures_non_nuit})\n",
    "\n",
    "for i in df_h.index:\n",
    "    if test['heure'][i] == True:\n",
    "        df_h.drop(i,0,inplace=True)\n",
    "\n",
    "df_h"
   ]
  },
  {
   "source": [
    "On voit bien qu'on dispose de 924 données correspondant aux heures de nuit, ce qui est cohérent avec la longueur initiale du dataframe de 2778 données."
   ],
   "cell_type": "markdown",
   "metadata": {}
  },
  {
   "cell_type": "code",
   "execution_count": 232,
   "metadata": {},
   "outputs": [
    {
     "output_type": "stream",
     "name": "stdout",
     "text": [
      "+----------------+----------+---------------------------+---------------+---------------+-------------------------+\n| Station target | Capacité | Occupation moyenne / nuit | MAE LR / nuit | MAE RF / nuit | MAE méthode naïve /nuit |\n+----------------+----------+---------------------------+---------------+---------------+-------------------------+\n|   station_0    |    35    |            5.69           |      1.79     |      0.97     |           3.75          |\n|   station_1    |    55    |           29.97           |      3.95     |      2.34     |          12.48          |\n|   station_2    |    20    |            5.73           |      1.59     |      1.21     |           3.91          |\n|   station_3    |    21    |            7.22           |      2.55     |      1.37     |           4.08          |\n|   station_4    |    30    |           21.32           |      2.54     |      1.56     |           6.04          |\n|   station_5    |    46    |           27.87           |      3.28     |      2.13     |           8.65          |\n|   station_6    |    60    |           17.68           |      2.75     |      2.09     |          10.01          |\n|   station_7    |    40    |           10.14           |      2.37     |      1.42     |           5.95          |\n|   station_8    |    29    |           16.96           |      2.03     |      1.5      |           6.29          |\n|   station_9    |    60    |           29.81           |      3.02     |      2.53     |          11.69          |\n+----------------+----------+---------------------------+---------------+---------------+-------------------------+\n"
     ]
    }
   ],
   "source": [
    "# Stockage des index du dataframe\n",
    "axis = df_h.index\n",
    "# Préparation des résultats à stocker : pour chaque station, on garde le numéro de la station dans le dataframe df_velib, le modèle de \n",
    "# régression linéaire et de random forest\n",
    "resultats_nuit = {}\n",
    "\n",
    "# Préparation de la visualisation des résultats :\n",
    "ptbl = PrettyTable()\n",
    "ptbl.field_names = [\"Station target\", \"Capacité\", \"Occupation moyenne / nuit\", \"MAE LR / nuit\", \"MAE RF / nuit\", \"MAE méthode naïve /nuit\"]\n",
    "\n",
    "\n",
    "for i in range(len(stations_tests)):\n",
    "    df = df_h.copy()\n",
    "    df['y'] = df[i]\n",
    "\n",
    "    for j in range(len(df)-24):\n",
    "        df['y'][axis[j]] = df[i][axis[j+24]]\n",
    "        \n",
    "    # Puis on supprime les 24 dernières lignes qui ne peuvent pas être complétées\n",
    "    df.drop(axis[-24:], inplace = True)\n",
    "\n",
    "    # Machine Learning\n",
    "    stations_features = [i for i in df.columns if type(i) != str]\n",
    "    X = df[stations_features]\n",
    "    # Préparation de la target\n",
    "    y = df['y']\n",
    "    # Séparation en données de test et d'entrainement\n",
    "    X_train, X_test, y_train, y_test = train_test_split(X, y, test_size=0.3)\n",
    "    \n",
    "    # 1- Régression linéaire\n",
    "    lr = LinearRegression()\n",
    "    lr.fit(X_train, y_train)\n",
    "    y_prediction_lr = lr.predict(X_test)\n",
    "    MAE_lr = round(mean_absolute_error(y_test, y_prediction_lr),2)\n",
    "\n",
    "    # 2- Random Forest\n",
    "    rf = RandomForestRegressor()\n",
    "    rf.fit(X_train, y_train)\n",
    "    y_prediction_rf = rf.predict(X_test)\n",
    "    MAE_rf = round(mean_absolute_error(y_test, y_prediction_rf),2)\n",
    "\n",
    "    # 3- Méthode naïve ou bien \"intuitive\" c'est-à-dire prédire que ce qui se passe 1 jour plus tard est exactement la même chose que la            veille\n",
    "    df_naif = X_test.copy()\n",
    "    #MAE_naif = round(abs(X_test[i]-y_test).mean() , 2)\n",
    "    MAE_naif = round(mean_absolute_error(X_test[i], y_test),2)\n",
    "\n",
    "    # Capacité moyenne de la station sur la période observée\n",
    "    capacite_moyenne = round(df[i].mean(),2)\n",
    "\n",
    "    # Stockage des résultats : numéro de la station, les modèles, et les MAE de chaque modèle\n",
    "    resultats_nuit[stations_tests[i]] = [i, X, y, lr, MAE_lr, rf, MAE_rf, df_naif, MAE_naif, capacite_moyenne]\n",
    "\n",
    "    # Visualisation des performances avec Prettytable\n",
    "    ptbl.add_row([stations_tests[i], velib_details['capacity'][i], capacite_moyenne, MAE_lr, MAE_rf, MAE_naif])\n",
    "    \n",
    "print(ptbl)"
   ]
  },
  {
   "cell_type": "code",
   "execution_count": 233,
   "metadata": {},
   "outputs": [
    {
     "output_type": "stream",
     "name": "stdout",
     "text": [
      "+---------------------------+-----------------------+-----------------------+----------------------------------+\n| Occupation moyenne / nuit | Moyenne MAE LR / nuit | Moyenne MAE RF / nuit | Moyenne MAE méthode naïve / nuit |\n+---------------------------+-----------------------+-----------------------+----------------------------------+\n|           17.24           |          2.59         |          1.71         |               7.28               |\n+---------------------------+-----------------------+-----------------------+----------------------------------+\n"
     ]
    }
   ],
   "source": [
    "ptbl = PrettyTable()\n",
    "ptbl.field_names = [\"Occupation moyenne / nuit\", \"Moyenne MAE LR / nuit\", \"Moyenne MAE RF / nuit\", \"Moyenne MAE méthode naïve / nuit\"]\n",
    "mean_capacity_nuit = 0\n",
    "mean_MAE_lr_nuit = 0\n",
    "mean_MAE_rf_nuit = 0\n",
    "mean_MAE_naif_nuit = 0\n",
    "\n",
    "# Parcourir le dictionnaire des résultats pour calculer la moyenne des indicateurs\n",
    "for key, item in resultats_nuit.items():\n",
    "    mean_capacity_nuit += resultats_nuit[key][9]\n",
    "    mean_MAE_lr_nuit += resultats_nuit[key][4]\n",
    "    mean_MAE_rf_nuit += resultats_nuit[key][6]\n",
    "    mean_MAE_naif_nuit += resultats_nuit[key][8]\n",
    "\n",
    "# On divise par le nombre total de stations tests pour obtenir la moyenne\n",
    "mean_capacity_nuit = round(mean_capacity_nuit/len(resultats_nuit),2)\n",
    "mean_MAE_lr_nuit = round(mean_MAE_lr_nuit/len(resultats_nuit),2)\n",
    "mean_MAE_rf_nuit = round(mean_MAE_rf_nuit/len(resultats_nuit),2)\n",
    "mean_MAE_naif_nuit = round(mean_MAE_naif_nuit/len(resultats_nuit),2)\n",
    "\n",
    "# Visualisation des performances avec Prettytable\n",
    "ptbl.add_row([mean_capacity_nuit, mean_MAE_lr_nuit, mean_MAE_rf_nuit, mean_MAE_naif_nuit])\n",
    "print(ptbl)"
   ]
  },
  {
   "source": [
    "## Matin : 6h-8h"
   ],
   "cell_type": "markdown",
   "metadata": {}
  },
  {
   "cell_type": "code",
   "execution_count": 234,
   "metadata": {},
   "outputs": [
    {
     "output_type": "execute_result",
     "data": {
      "text/plain": [
       "                   0   1   2   3   4   5   6  7   8   9  ...  1389  1390  \\\n",
       "10/19/20;18:56:54  1  45   2   6   7  38  19  9   4  13  ...     4     2   \n",
       "10/19/20;19:56:58  2  48   3   9  16  26  23  8  10  25  ...     6     1   \n",
       "10/19/20;20:57:02  5  49  10  10  25  18  19  5  11  37  ...    12     1   \n",
       "10/19/20;21:57:05  4  51   9  12  24  20  29  7  14  36  ...    14     2   \n",
       "10/19/20;22:57:14  3  52  11  10  23  24  30  7  14  36  ...    13     0   \n",
       "\n",
       "                   1391  1392  1393  1394  1395  1396  1397  heure  \n",
       "10/19/20;18:56:54    38    18    15     2     6    17    17     18  \n",
       "10/19/20;19:56:58    21    20    25     2    15    15    13     19  \n",
       "10/19/20;20:57:02    18    17    27     0    29    12     5     20  \n",
       "10/19/20;21:57:05    17    19    31    14    34    15     6     21  \n",
       "10/19/20;22:57:14    18    19    32    16    35    12     7     22  \n",
       "\n",
       "[5 rows x 1399 columns]"
      ],
      "text/html": "<div>\n<style scoped>\n    .dataframe tbody tr th:only-of-type {\n        vertical-align: middle;\n    }\n\n    .dataframe tbody tr th {\n        vertical-align: top;\n    }\n\n    .dataframe thead th {\n        text-align: right;\n    }\n</style>\n<table border=\"1\" class=\"dataframe\">\n  <thead>\n    <tr style=\"text-align: right;\">\n      <th></th>\n      <th>0</th>\n      <th>1</th>\n      <th>2</th>\n      <th>3</th>\n      <th>4</th>\n      <th>5</th>\n      <th>6</th>\n      <th>7</th>\n      <th>8</th>\n      <th>9</th>\n      <th>...</th>\n      <th>1389</th>\n      <th>1390</th>\n      <th>1391</th>\n      <th>1392</th>\n      <th>1393</th>\n      <th>1394</th>\n      <th>1395</th>\n      <th>1396</th>\n      <th>1397</th>\n      <th>heure</th>\n    </tr>\n  </thead>\n  <tbody>\n    <tr>\n      <th>10/19/20;18:56:54</th>\n      <td>1</td>\n      <td>45</td>\n      <td>2</td>\n      <td>6</td>\n      <td>7</td>\n      <td>38</td>\n      <td>19</td>\n      <td>9</td>\n      <td>4</td>\n      <td>13</td>\n      <td>...</td>\n      <td>4</td>\n      <td>2</td>\n      <td>38</td>\n      <td>18</td>\n      <td>15</td>\n      <td>2</td>\n      <td>6</td>\n      <td>17</td>\n      <td>17</td>\n      <td>18</td>\n    </tr>\n    <tr>\n      <th>10/19/20;19:56:58</th>\n      <td>2</td>\n      <td>48</td>\n      <td>3</td>\n      <td>9</td>\n      <td>16</td>\n      <td>26</td>\n      <td>23</td>\n      <td>8</td>\n      <td>10</td>\n      <td>25</td>\n      <td>...</td>\n      <td>6</td>\n      <td>1</td>\n      <td>21</td>\n      <td>20</td>\n      <td>25</td>\n      <td>2</td>\n      <td>15</td>\n      <td>15</td>\n      <td>13</td>\n      <td>19</td>\n    </tr>\n    <tr>\n      <th>10/19/20;20:57:02</th>\n      <td>5</td>\n      <td>49</td>\n      <td>10</td>\n      <td>10</td>\n      <td>25</td>\n      <td>18</td>\n      <td>19</td>\n      <td>5</td>\n      <td>11</td>\n      <td>37</td>\n      <td>...</td>\n      <td>12</td>\n      <td>1</td>\n      <td>18</td>\n      <td>17</td>\n      <td>27</td>\n      <td>0</td>\n      <td>29</td>\n      <td>12</td>\n      <td>5</td>\n      <td>20</td>\n    </tr>\n    <tr>\n      <th>10/19/20;21:57:05</th>\n      <td>4</td>\n      <td>51</td>\n      <td>9</td>\n      <td>12</td>\n      <td>24</td>\n      <td>20</td>\n      <td>29</td>\n      <td>7</td>\n      <td>14</td>\n      <td>36</td>\n      <td>...</td>\n      <td>14</td>\n      <td>2</td>\n      <td>17</td>\n      <td>19</td>\n      <td>31</td>\n      <td>14</td>\n      <td>34</td>\n      <td>15</td>\n      <td>6</td>\n      <td>21</td>\n    </tr>\n    <tr>\n      <th>10/19/20;22:57:14</th>\n      <td>3</td>\n      <td>52</td>\n      <td>11</td>\n      <td>10</td>\n      <td>23</td>\n      <td>24</td>\n      <td>30</td>\n      <td>7</td>\n      <td>14</td>\n      <td>36</td>\n      <td>...</td>\n      <td>13</td>\n      <td>0</td>\n      <td>18</td>\n      <td>19</td>\n      <td>32</td>\n      <td>16</td>\n      <td>35</td>\n      <td>12</td>\n      <td>7</td>\n      <td>22</td>\n    </tr>\n  </tbody>\n</table>\n<p>5 rows × 1399 columns</p>\n</div>"
     },
     "metadata": {},
     "execution_count": 234
    }
   ],
   "source": [
    "df_h = df_velib.copy()\n",
    "df_h['heure'] = df_velib.index\n",
    "# On ne garde que les heures dans la date\n",
    "for i in range(len(df_h)):\n",
    "    df_h['heure'][i] = int(df_h['heure'][i][9]+df_h['heure'][i][10])\n",
    "\n",
    "df_h.head()"
   ]
  },
  {
   "cell_type": "code",
   "execution_count": 235,
   "metadata": {},
   "outputs": [
    {
     "output_type": "execute_result",
     "data": {
      "text/plain": [
       "                   0   1  2   3   4   5   6   7   8   9  ...  1389  1390  \\\n",
       "10/20/20;06:57:47  3  45  8  12  24  23  29   7  12  40  ...     8     2   \n",
       "10/20/20;07:57:52  5  45  7   8  23  22  33   4  14  31  ...     6     3   \n",
       "10/20/20;08:57:56  3  43  5   1  18  21  28   3   6  29  ...     2     2   \n",
       "10/21/20;06:59:48  5  37  7  12  25  37  24  10   8  13  ...    10     3   \n",
       "10/21/20;07:59:58  5  35  6   8  21  35  24  10   5  13  ...     7     5   \n",
       "...               ..  .. ..  ..  ..  ..  ..  ..  ..  ..  ...   ...   ...   \n",
       "02/14/21;07:15:43  2  26  5   3  21  31   6   8  25  52  ...    15     1   \n",
       "02/14/21;08:19:15  4  25  4   3  21  30   7   9  23  51  ...    14     1   \n",
       "02/15/21;06:32:17  5  40  4   8  23  25   7  13  33  39  ...    17     2   \n",
       "02/15/21;07:35:47  5  39  3   6  22  26   7  15  32  35  ...    16     2   \n",
       "02/15/21;08:39:15  2  40  1   4  17  24   7   9  32  26  ...     9     1   \n",
       "\n",
       "                   1391  1392  1393  1394  1395  1396  1397  heure  \n",
       "10/20/20;06:57:47    13    19    33    14    39    13     3      6  \n",
       "10/20/20;07:57:52    14    18    31    13    36    14     3      7  \n",
       "10/20/20;08:57:56     6    16    18     8    26    10     6      8  \n",
       "10/21/20;06:59:48    14    13    35     5    23    10    10      6  \n",
       "10/21/20;07:59:58    14    12    30     5    22    10     6      7  \n",
       "...                 ...   ...   ...   ...   ...   ...   ...    ...  \n",
       "02/14/21;07:15:43    13    15    22     7    30     7    14      7  \n",
       "02/14/21;08:19:15    11    15    22     7    29     6    14      8  \n",
       "02/15/21;06:32:17     9     9    33     5    19    13    11      6  \n",
       "02/15/21;07:35:47     9     9    31     3    20    15    10      7  \n",
       "02/15/21;08:39:15    13     9    24     3    20    19    16      8  \n",
       "\n",
       "[342 rows x 1399 columns]"
      ],
      "text/html": "<div>\n<style scoped>\n    .dataframe tbody tr th:only-of-type {\n        vertical-align: middle;\n    }\n\n    .dataframe tbody tr th {\n        vertical-align: top;\n    }\n\n    .dataframe thead th {\n        text-align: right;\n    }\n</style>\n<table border=\"1\" class=\"dataframe\">\n  <thead>\n    <tr style=\"text-align: right;\">\n      <th></th>\n      <th>0</th>\n      <th>1</th>\n      <th>2</th>\n      <th>3</th>\n      <th>4</th>\n      <th>5</th>\n      <th>6</th>\n      <th>7</th>\n      <th>8</th>\n      <th>9</th>\n      <th>...</th>\n      <th>1389</th>\n      <th>1390</th>\n      <th>1391</th>\n      <th>1392</th>\n      <th>1393</th>\n      <th>1394</th>\n      <th>1395</th>\n      <th>1396</th>\n      <th>1397</th>\n      <th>heure</th>\n    </tr>\n  </thead>\n  <tbody>\n    <tr>\n      <th>10/20/20;06:57:47</th>\n      <td>3</td>\n      <td>45</td>\n      <td>8</td>\n      <td>12</td>\n      <td>24</td>\n      <td>23</td>\n      <td>29</td>\n      <td>7</td>\n      <td>12</td>\n      <td>40</td>\n      <td>...</td>\n      <td>8</td>\n      <td>2</td>\n      <td>13</td>\n      <td>19</td>\n      <td>33</td>\n      <td>14</td>\n      <td>39</td>\n      <td>13</td>\n      <td>3</td>\n      <td>6</td>\n    </tr>\n    <tr>\n      <th>10/20/20;07:57:52</th>\n      <td>5</td>\n      <td>45</td>\n      <td>7</td>\n      <td>8</td>\n      <td>23</td>\n      <td>22</td>\n      <td>33</td>\n      <td>4</td>\n      <td>14</td>\n      <td>31</td>\n      <td>...</td>\n      <td>6</td>\n      <td>3</td>\n      <td>14</td>\n      <td>18</td>\n      <td>31</td>\n      <td>13</td>\n      <td>36</td>\n      <td>14</td>\n      <td>3</td>\n      <td>7</td>\n    </tr>\n    <tr>\n      <th>10/20/20;08:57:56</th>\n      <td>3</td>\n      <td>43</td>\n      <td>5</td>\n      <td>1</td>\n      <td>18</td>\n      <td>21</td>\n      <td>28</td>\n      <td>3</td>\n      <td>6</td>\n      <td>29</td>\n      <td>...</td>\n      <td>2</td>\n      <td>2</td>\n      <td>6</td>\n      <td>16</td>\n      <td>18</td>\n      <td>8</td>\n      <td>26</td>\n      <td>10</td>\n      <td>6</td>\n      <td>8</td>\n    </tr>\n    <tr>\n      <th>10/21/20;06:59:48</th>\n      <td>5</td>\n      <td>37</td>\n      <td>7</td>\n      <td>12</td>\n      <td>25</td>\n      <td>37</td>\n      <td>24</td>\n      <td>10</td>\n      <td>8</td>\n      <td>13</td>\n      <td>...</td>\n      <td>10</td>\n      <td>3</td>\n      <td>14</td>\n      <td>13</td>\n      <td>35</td>\n      <td>5</td>\n      <td>23</td>\n      <td>10</td>\n      <td>10</td>\n      <td>6</td>\n    </tr>\n    <tr>\n      <th>10/21/20;07:59:58</th>\n      <td>5</td>\n      <td>35</td>\n      <td>6</td>\n      <td>8</td>\n      <td>21</td>\n      <td>35</td>\n      <td>24</td>\n      <td>10</td>\n      <td>5</td>\n      <td>13</td>\n      <td>...</td>\n      <td>7</td>\n      <td>5</td>\n      <td>14</td>\n      <td>12</td>\n      <td>30</td>\n      <td>5</td>\n      <td>22</td>\n      <td>10</td>\n      <td>6</td>\n      <td>7</td>\n    </tr>\n    <tr>\n      <th>...</th>\n      <td>...</td>\n      <td>...</td>\n      <td>...</td>\n      <td>...</td>\n      <td>...</td>\n      <td>...</td>\n      <td>...</td>\n      <td>...</td>\n      <td>...</td>\n      <td>...</td>\n      <td>...</td>\n      <td>...</td>\n      <td>...</td>\n      <td>...</td>\n      <td>...</td>\n      <td>...</td>\n      <td>...</td>\n      <td>...</td>\n      <td>...</td>\n      <td>...</td>\n      <td>...</td>\n    </tr>\n    <tr>\n      <th>02/14/21;07:15:43</th>\n      <td>2</td>\n      <td>26</td>\n      <td>5</td>\n      <td>3</td>\n      <td>21</td>\n      <td>31</td>\n      <td>6</td>\n      <td>8</td>\n      <td>25</td>\n      <td>52</td>\n      <td>...</td>\n      <td>15</td>\n      <td>1</td>\n      <td>13</td>\n      <td>15</td>\n      <td>22</td>\n      <td>7</td>\n      <td>30</td>\n      <td>7</td>\n      <td>14</td>\n      <td>7</td>\n    </tr>\n    <tr>\n      <th>02/14/21;08:19:15</th>\n      <td>4</td>\n      <td>25</td>\n      <td>4</td>\n      <td>3</td>\n      <td>21</td>\n      <td>30</td>\n      <td>7</td>\n      <td>9</td>\n      <td>23</td>\n      <td>51</td>\n      <td>...</td>\n      <td>14</td>\n      <td>1</td>\n      <td>11</td>\n      <td>15</td>\n      <td>22</td>\n      <td>7</td>\n      <td>29</td>\n      <td>6</td>\n      <td>14</td>\n      <td>8</td>\n    </tr>\n    <tr>\n      <th>02/15/21;06:32:17</th>\n      <td>5</td>\n      <td>40</td>\n      <td>4</td>\n      <td>8</td>\n      <td>23</td>\n      <td>25</td>\n      <td>7</td>\n      <td>13</td>\n      <td>33</td>\n      <td>39</td>\n      <td>...</td>\n      <td>17</td>\n      <td>2</td>\n      <td>9</td>\n      <td>9</td>\n      <td>33</td>\n      <td>5</td>\n      <td>19</td>\n      <td>13</td>\n      <td>11</td>\n      <td>6</td>\n    </tr>\n    <tr>\n      <th>02/15/21;07:35:47</th>\n      <td>5</td>\n      <td>39</td>\n      <td>3</td>\n      <td>6</td>\n      <td>22</td>\n      <td>26</td>\n      <td>7</td>\n      <td>15</td>\n      <td>32</td>\n      <td>35</td>\n      <td>...</td>\n      <td>16</td>\n      <td>2</td>\n      <td>9</td>\n      <td>9</td>\n      <td>31</td>\n      <td>3</td>\n      <td>20</td>\n      <td>15</td>\n      <td>10</td>\n      <td>7</td>\n    </tr>\n    <tr>\n      <th>02/15/21;08:39:15</th>\n      <td>2</td>\n      <td>40</td>\n      <td>1</td>\n      <td>4</td>\n      <td>17</td>\n      <td>24</td>\n      <td>7</td>\n      <td>9</td>\n      <td>32</td>\n      <td>26</td>\n      <td>...</td>\n      <td>9</td>\n      <td>1</td>\n      <td>13</td>\n      <td>9</td>\n      <td>24</td>\n      <td>3</td>\n      <td>20</td>\n      <td>19</td>\n      <td>16</td>\n      <td>8</td>\n    </tr>\n  </tbody>\n</table>\n<p>342 rows × 1399 columns</p>\n</div>"
     },
     "metadata": {},
     "execution_count": 235
    }
   ],
   "source": [
    "# On identifie les heures de nuit dans notre dataframe\n",
    "heures_non_matin = [0, 1, 2, 3, 4, 5, 9, 10, 11, 12, 13, 14, 15, 16, 17, 18, 19, 20, 21, 22, 23, 24]\n",
    "test = df_h.isin({'heure': heures_non_matin})\n",
    "\n",
    "for i in df_h.index:\n",
    "    if test['heure'][i] == True:\n",
    "        df_h.drop(i,0,inplace=True)\n",
    "\n",
    "df_h"
   ]
  },
  {
   "cell_type": "code",
   "execution_count": 236,
   "metadata": {},
   "outputs": [
    {
     "output_type": "stream",
     "name": "stdout",
     "text": [
      "+----------------+----------+----------------------------+----------------+----------------+---------------------------+\n| Station target | Capacité | Occupation moyenne / matin | MAE LR / matin | MAE RF / matin | MAE méthode naïve / matin |\n+----------------+----------+----------------------------+----------------+----------------+---------------------------+\n|   station_0    |    35    |            5.63            |      2.27      |      2.3       |            4.12           |\n|   station_1    |    55    |            28.6            |      5.85      |      5.95      |           15.99           |\n|   station_2    |    20    |            5.9             |      2.43      |      1.94      |            3.16           |\n|   station_3    |    21    |            6.41            |      2.83      |      2.33      |            3.72           |\n|   station_4    |    30    |           18.28            |      6.15      |      4.77      |            6.83           |\n|   station_5    |    46    |           27.08            |      4.06      |      4.79      |            9.78           |\n|   station_6    |    60    |           17.67            |      5.36      |      5.15      |            8.27           |\n|   station_7    |    40    |           10.42            |      3.79      |      3.2       |            6.35           |\n|   station_8    |    29    |           15.66            |      3.5       |      3.62      |            7.16           |\n|   station_9    |    60    |           28.72            |      6.19      |      5.49      |           13.22           |\n+----------------+----------+----------------------------+----------------+----------------+---------------------------+\n"
     ]
    }
   ],
   "source": [
    "# Stockage des index du dataframe\n",
    "axis = df_h.index\n",
    "# Préparation des résultats à stocker : pour chaque station, on garde le numéro de la station dans le dataframe df_velib, le modèle de \n",
    "# régression linéaire et de random forest\n",
    "resultats_matin = {}\n",
    "\n",
    "# Préparation de la visualisation des résultats :\n",
    "ptbl = PrettyTable()\n",
    "ptbl.field_names = [\"Station target\", \"Capacité\", \"Occupation moyenne / matin\", \"MAE LR / matin\", \"MAE RF / matin\", \"MAE méthode naïve / matin\"]\n",
    "\n",
    "\n",
    "for i in range(len(stations_tests)):\n",
    "    df = df_h.copy()\n",
    "    df['y'] = df[i]\n",
    "\n",
    "    for j in range(len(df)-24):\n",
    "        df['y'][axis[j]] = df[i][axis[j+24]]\n",
    "        \n",
    "    # Puis on supprime les 24 dernières lignes qui ne peuvent pas être complétées\n",
    "    df.drop(axis[-24:], inplace = True)\n",
    "\n",
    "    # Machine Learning\n",
    "    stations_features = [i for i in df.columns if type(i) != str]\n",
    "    X = df[stations_features]\n",
    "    # Préparation de la target\n",
    "    y = df['y']\n",
    "    # Séparation en données de test et d'entrainement\n",
    "    X_train, X_test, y_train, y_test = train_test_split(X, y, test_size=0.3)\n",
    "    \n",
    "    # 1- Régression linéaire\n",
    "    lr = LinearRegression()\n",
    "    lr.fit(X_train, y_train)\n",
    "    y_prediction_lr = lr.predict(X_test)\n",
    "    MAE_lr = round(mean_absolute_error(y_test, y_prediction_lr),2)\n",
    "\n",
    "    # 2- Random Forest\n",
    "    rf = RandomForestRegressor()\n",
    "    rf.fit(X_train, y_train)\n",
    "    y_prediction_rf = rf.predict(X_test)\n",
    "    MAE_rf = round(mean_absolute_error(y_test, y_prediction_rf),2)\n",
    "\n",
    "    # 3- Méthode naïve ou bien \"intuitive\" c'est-à-dire prédire que ce qui se passe 1 jour plus tard est exactement la même chose que la            veille\n",
    "    df_naif = X_test.copy()\n",
    "    MAE_naif = round(mean_absolute_error(X_test[i], y_test),2)\n",
    "\n",
    "    # Capacité moyenne de la station sur la période observée\n",
    "    capacite_moyenne = round(df[i].mean(),2)\n",
    "\n",
    "    # Stockage des résultats : numéro de la station, les modèles, et les MAE de chaque modèle\n",
    "    resultats_matin[stations_tests[i]] = [i, X, y, lr, MAE_lr, rf, MAE_rf, df_naif, MAE_naif, capacite_moyenne]\n",
    "\n",
    "    # Visualisation des performances avec Prettytable\n",
    "    ptbl.add_row([stations_tests[i], velib_details['capacity'][i], capacite_moyenne ,MAE_lr, MAE_rf, MAE_naif])\n",
    "    \n",
    "print(ptbl)"
   ]
  },
  {
   "cell_type": "code",
   "execution_count": 237,
   "metadata": {},
   "outputs": [
    {
     "output_type": "stream",
     "name": "stdout",
     "text": [
      "+----------------------------+------------------------+------------------------+-----------------------------------+\n| Occupation moyenne / matin | Moyenne MAE LR / matin | Moyenne MAE RF / matin | Moyenne MAE méthode naïve / matin |\n+----------------------------+------------------------+------------------------+-----------------------------------+\n|           16.44            |          4.24          |          3.95          |                7.86               |\n+----------------------------+------------------------+------------------------+-----------------------------------+\n"
     ]
    }
   ],
   "source": [
    "ptbl = PrettyTable()\n",
    "ptbl.field_names = [\"Occupation moyenne / matin\", \"Moyenne MAE LR / matin\", \"Moyenne MAE RF / matin\", \"Moyenne MAE méthode naïve / matin\"]\n",
    "mean_capacity_matin = 0\n",
    "mean_MAE_lr_matin = 0\n",
    "mean_MAE_rf_matin = 0\n",
    "mean_MAE_naif_matin = 0\n",
    "\n",
    "# Parcourir le dictionnaire des résultats pour calculer la moyenne des indicateurs\n",
    "for key, item in resultats_matin.items():\n",
    "    mean_capacity_matin += resultats_matin[key][9]\n",
    "    mean_MAE_lr_matin += resultats_matin[key][4]\n",
    "    mean_MAE_rf_matin += resultats_matin[key][6]\n",
    "    mean_MAE_naif_matin += resultats_matin[key][8]\n",
    "\n",
    "# On divise par le nombre total de stations tests pour obtenir la moyenne\n",
    "mean_capacity_matin = round(mean_capacity_matin/len(resultats_matin),2)\n",
    "mean_MAE_lr_matin = round(mean_MAE_lr_matin/len(resultats_matin),2)\n",
    "mean_MAE_rf_matin = round(mean_MAE_rf_matin/len(resultats_matin),2)\n",
    "mean_MAE_naif_matin = round(mean_MAE_naif_matin/len(resultats_matin),2)\n",
    "\n",
    "# Visualisation des performances avec Prettytable\n",
    "ptbl.add_row([mean_capacity_matin, mean_MAE_lr_matin, mean_MAE_rf_matin, mean_MAE_naif_matin])\n",
    "print(ptbl)"
   ]
  },
  {
   "source": [
    "## Heures creuses : 9h-16h"
   ],
   "cell_type": "markdown",
   "metadata": {}
  },
  {
   "cell_type": "code",
   "execution_count": 238,
   "metadata": {},
   "outputs": [
    {
     "output_type": "execute_result",
     "data": {
      "text/plain": [
       "                    0   1  2  3   4   5   6   7   8   9  ...  1389  1390  \\\n",
       "10/20/20;09:58:00   9  39  1  1  13  21  16   7   5  13  ...     2     8   \n",
       "10/20/20;10:58:04  11  48  0  5  13  23   8   5   5   9  ...     3     8   \n",
       "10/20/20;11:58:07  12  51  2  7  11  27   6   5   4   7  ...     1     4   \n",
       "10/20/20;12:58:11   6  52  1  7   9  27   5  11   6   7  ...     1     6   \n",
       "10/20/20;13:58:16   5  51  4  6   8  32   1   6   8   9  ...     2     7   \n",
       "...                ..  .. .. ..  ..  ..  ..  ..  ..  ..  ...   ...   ...   \n",
       "02/15/21;11:49:48   2  37  1  6   6  26   6  13  29  25  ...    13     4   \n",
       "02/15/21;12:53:25   2  37  1  5   3  25  11  13  27  22  ...    12     2   \n",
       "02/15/21;13:56:59   2  39  0  8   4  29  11  15  29  18  ...    10     3   \n",
       "02/15/21;15:00:34   1  41  4  8   2  26  10  10  28  13  ...     9     3   \n",
       "02/15/21;16:04:08   2  40  4  5   2  27  10  10  30  14  ...     9     3   \n",
       "\n",
       "                   1391  1392  1393  1394  1395  1396  1397  heure  \n",
       "10/20/20;09:58:00     9    15     8     4    13    17     8      9  \n",
       "10/20/20;10:58:04    20    12     6     6     4    14    12     10  \n",
       "10/20/20;11:58:07    18    10     2     4     4    15     7     11  \n",
       "10/20/20;12:58:11    20    14     2     3     6    12    12     12  \n",
       "10/20/20;13:58:16    19    11     5     5     5    16    12     13  \n",
       "...                 ...   ...   ...   ...   ...   ...   ...    ...  \n",
       "02/15/21;11:49:48    13     8    22     2     8    11    21     11  \n",
       "02/15/21;12:53:25    12     9    21     3     8    11    18     12  \n",
       "02/15/21;13:56:59    15    10    21     3    13    16    22     13  \n",
       "02/15/21;15:00:34    16    10    19     4     9    14    22     15  \n",
       "02/15/21;16:04:08    17     9    21     5     8    14    22     16  \n",
       "\n",
       "[928 rows x 1399 columns]"
      ],
      "text/html": "<div>\n<style scoped>\n    .dataframe tbody tr th:only-of-type {\n        vertical-align: middle;\n    }\n\n    .dataframe tbody tr th {\n        vertical-align: top;\n    }\n\n    .dataframe thead th {\n        text-align: right;\n    }\n</style>\n<table border=\"1\" class=\"dataframe\">\n  <thead>\n    <tr style=\"text-align: right;\">\n      <th></th>\n      <th>0</th>\n      <th>1</th>\n      <th>2</th>\n      <th>3</th>\n      <th>4</th>\n      <th>5</th>\n      <th>6</th>\n      <th>7</th>\n      <th>8</th>\n      <th>9</th>\n      <th>...</th>\n      <th>1389</th>\n      <th>1390</th>\n      <th>1391</th>\n      <th>1392</th>\n      <th>1393</th>\n      <th>1394</th>\n      <th>1395</th>\n      <th>1396</th>\n      <th>1397</th>\n      <th>heure</th>\n    </tr>\n  </thead>\n  <tbody>\n    <tr>\n      <th>10/20/20;09:58:00</th>\n      <td>9</td>\n      <td>39</td>\n      <td>1</td>\n      <td>1</td>\n      <td>13</td>\n      <td>21</td>\n      <td>16</td>\n      <td>7</td>\n      <td>5</td>\n      <td>13</td>\n      <td>...</td>\n      <td>2</td>\n      <td>8</td>\n      <td>9</td>\n      <td>15</td>\n      <td>8</td>\n      <td>4</td>\n      <td>13</td>\n      <td>17</td>\n      <td>8</td>\n      <td>9</td>\n    </tr>\n    <tr>\n      <th>10/20/20;10:58:04</th>\n      <td>11</td>\n      <td>48</td>\n      <td>0</td>\n      <td>5</td>\n      <td>13</td>\n      <td>23</td>\n      <td>8</td>\n      <td>5</td>\n      <td>5</td>\n      <td>9</td>\n      <td>...</td>\n      <td>3</td>\n      <td>8</td>\n      <td>20</td>\n      <td>12</td>\n      <td>6</td>\n      <td>6</td>\n      <td>4</td>\n      <td>14</td>\n      <td>12</td>\n      <td>10</td>\n    </tr>\n    <tr>\n      <th>10/20/20;11:58:07</th>\n      <td>12</td>\n      <td>51</td>\n      <td>2</td>\n      <td>7</td>\n      <td>11</td>\n      <td>27</td>\n      <td>6</td>\n      <td>5</td>\n      <td>4</td>\n      <td>7</td>\n      <td>...</td>\n      <td>1</td>\n      <td>4</td>\n      <td>18</td>\n      <td>10</td>\n      <td>2</td>\n      <td>4</td>\n      <td>4</td>\n      <td>15</td>\n      <td>7</td>\n      <td>11</td>\n    </tr>\n    <tr>\n      <th>10/20/20;12:58:11</th>\n      <td>6</td>\n      <td>52</td>\n      <td>1</td>\n      <td>7</td>\n      <td>9</td>\n      <td>27</td>\n      <td>5</td>\n      <td>11</td>\n      <td>6</td>\n      <td>7</td>\n      <td>...</td>\n      <td>1</td>\n      <td>6</td>\n      <td>20</td>\n      <td>14</td>\n      <td>2</td>\n      <td>3</td>\n      <td>6</td>\n      <td>12</td>\n      <td>12</td>\n      <td>12</td>\n    </tr>\n    <tr>\n      <th>10/20/20;13:58:16</th>\n      <td>5</td>\n      <td>51</td>\n      <td>4</td>\n      <td>6</td>\n      <td>8</td>\n      <td>32</td>\n      <td>1</td>\n      <td>6</td>\n      <td>8</td>\n      <td>9</td>\n      <td>...</td>\n      <td>2</td>\n      <td>7</td>\n      <td>19</td>\n      <td>11</td>\n      <td>5</td>\n      <td>5</td>\n      <td>5</td>\n      <td>16</td>\n      <td>12</td>\n      <td>13</td>\n    </tr>\n    <tr>\n      <th>...</th>\n      <td>...</td>\n      <td>...</td>\n      <td>...</td>\n      <td>...</td>\n      <td>...</td>\n      <td>...</td>\n      <td>...</td>\n      <td>...</td>\n      <td>...</td>\n      <td>...</td>\n      <td>...</td>\n      <td>...</td>\n      <td>...</td>\n      <td>...</td>\n      <td>...</td>\n      <td>...</td>\n      <td>...</td>\n      <td>...</td>\n      <td>...</td>\n      <td>...</td>\n      <td>...</td>\n    </tr>\n    <tr>\n      <th>02/15/21;11:49:48</th>\n      <td>2</td>\n      <td>37</td>\n      <td>1</td>\n      <td>6</td>\n      <td>6</td>\n      <td>26</td>\n      <td>6</td>\n      <td>13</td>\n      <td>29</td>\n      <td>25</td>\n      <td>...</td>\n      <td>13</td>\n      <td>4</td>\n      <td>13</td>\n      <td>8</td>\n      <td>22</td>\n      <td>2</td>\n      <td>8</td>\n      <td>11</td>\n      <td>21</td>\n      <td>11</td>\n    </tr>\n    <tr>\n      <th>02/15/21;12:53:25</th>\n      <td>2</td>\n      <td>37</td>\n      <td>1</td>\n      <td>5</td>\n      <td>3</td>\n      <td>25</td>\n      <td>11</td>\n      <td>13</td>\n      <td>27</td>\n      <td>22</td>\n      <td>...</td>\n      <td>12</td>\n      <td>2</td>\n      <td>12</td>\n      <td>9</td>\n      <td>21</td>\n      <td>3</td>\n      <td>8</td>\n      <td>11</td>\n      <td>18</td>\n      <td>12</td>\n    </tr>\n    <tr>\n      <th>02/15/21;13:56:59</th>\n      <td>2</td>\n      <td>39</td>\n      <td>0</td>\n      <td>8</td>\n      <td>4</td>\n      <td>29</td>\n      <td>11</td>\n      <td>15</td>\n      <td>29</td>\n      <td>18</td>\n      <td>...</td>\n      <td>10</td>\n      <td>3</td>\n      <td>15</td>\n      <td>10</td>\n      <td>21</td>\n      <td>3</td>\n      <td>13</td>\n      <td>16</td>\n      <td>22</td>\n      <td>13</td>\n    </tr>\n    <tr>\n      <th>02/15/21;15:00:34</th>\n      <td>1</td>\n      <td>41</td>\n      <td>4</td>\n      <td>8</td>\n      <td>2</td>\n      <td>26</td>\n      <td>10</td>\n      <td>10</td>\n      <td>28</td>\n      <td>13</td>\n      <td>...</td>\n      <td>9</td>\n      <td>3</td>\n      <td>16</td>\n      <td>10</td>\n      <td>19</td>\n      <td>4</td>\n      <td>9</td>\n      <td>14</td>\n      <td>22</td>\n      <td>15</td>\n    </tr>\n    <tr>\n      <th>02/15/21;16:04:08</th>\n      <td>2</td>\n      <td>40</td>\n      <td>4</td>\n      <td>5</td>\n      <td>2</td>\n      <td>27</td>\n      <td>10</td>\n      <td>10</td>\n      <td>30</td>\n      <td>14</td>\n      <td>...</td>\n      <td>9</td>\n      <td>3</td>\n      <td>17</td>\n      <td>9</td>\n      <td>21</td>\n      <td>5</td>\n      <td>8</td>\n      <td>14</td>\n      <td>22</td>\n      <td>16</td>\n    </tr>\n  </tbody>\n</table>\n<p>928 rows × 1399 columns</p>\n</div>"
     },
     "metadata": {},
     "execution_count": 238
    }
   ],
   "source": [
    "df_h = df_velib.copy()\n",
    "df_h['heure'] = df_velib.index\n",
    "# On ne garde que les heures dans la date\n",
    "for i in range(len(df_h)):\n",
    "    df_h['heure'][i] = int(df_h['heure'][i][9]+df_h['heure'][i][10])\n",
    "\n",
    "# On identifie les heures de nuit dans notre dataframe\n",
    "heures_non_creuses = [0, 1, 2, 3, 4, 5, 6, 7, 8, 17, 18, 19, 20, 21, 22, 23, 24]\n",
    "test = df_h.isin({'heure': heures_non_creuses})\n",
    "\n",
    "for i in df_h.index:\n",
    "    if test['heure'][i] == True:\n",
    "        df_h.drop(i,0,inplace=True)\n",
    "\n",
    "df_h"
   ]
  },
  {
   "cell_type": "code",
   "execution_count": 239,
   "metadata": {},
   "outputs": [
    {
     "output_type": "stream",
     "name": "stdout",
     "text": [
      "+----------------+----------+--------------------------------+--------------------+--------------------+-------------------------------+\n| Station target | Capacité | Occupation moyenne / h_creuses | MAE LR / h_creuses | MAE RF / h_creuses | MAE méthode naïve / h_creuses |\n+----------------+----------+--------------------------------+--------------------+--------------------+-------------------------------+\n|   station_0    |    35    |              4.74              |        2.38        |        2.04        |              3.64             |\n|   station_1    |    55    |             31.43              |        4.2         |        4.59        |             12.97             |\n|   station_2    |    20    |              4.22              |        2.43        |        1.92        |              3.65             |\n|   station_3    |    21    |              4.42              |        2.76        |        2.09        |              3.18             |\n|   station_4    |    30    |             11.14              |        3.96        |        3.97        |              8.51             |\n|   station_5    |    46    |             30.66              |        4.86        |        4.59        |              8.79             |\n|   station_6    |    60    |              9.16              |        3.61        |        3.69        |              7.47             |\n|   station_7    |    40    |              9.57              |        3.29        |        2.75        |              5.97             |\n|   station_8    |    29    |             13.08              |        3.13        |        2.82        |              7.21             |\n|   station_9    |    60    |             22.05              |        4.96        |        4.98        |             12.31             |\n+----------------+----------+--------------------------------+--------------------+--------------------+-------------------------------+\n"
     ]
    }
   ],
   "source": [
    "# Stockage des index du dataframe\n",
    "axis = df_h.index\n",
    "# Préparation des résultats à stocker : pour chaque station, on garde le numéro de la station dans le dataframe df_velib, le modèle de \n",
    "# régression linéaire et de random forest\n",
    "resultats_heures_creuses = {}\n",
    "\n",
    "# Préparation de la visualisation des résultats :\n",
    "ptbl = PrettyTable()\n",
    "ptbl.field_names = [\"Station target\", \"Capacité\", \"Occupation moyenne / h_creuses\", \"MAE LR / h_creuses\", \"MAE RF / h_creuses\", \"MAE méthode naïve / h_creuses\"]\n",
    "\n",
    "\n",
    "for i in range(len(stations_tests)):\n",
    "    df = df_h.copy()\n",
    "    df['y'] = df[i]\n",
    "\n",
    "    for j in range(len(df)-24):\n",
    "        df['y'][axis[j]] = df[i][axis[j+24]]\n",
    "        \n",
    "    # Puis on supprime les 24 dernières lignes qui ne peuvent pas être complétées\n",
    "    df.drop(axis[-24:], inplace = True)\n",
    "\n",
    "\n",
    "    # Machine Learning\n",
    "    stations_features = [i for i in df.columns if type(i) != str]\n",
    "    X = df[stations_features]\n",
    "    # Préparation de la target\n",
    "    y = df['y']\n",
    "    # Séparation en données de test et d'entrainement\n",
    "    X_train, X_test, y_train, y_test = train_test_split(X, y, test_size=0.3)\n",
    "    \n",
    "    # 1- Régression linéaire\n",
    "    lr = LinearRegression()\n",
    "    lr.fit(X_train, y_train)\n",
    "    y_prediction_lr = lr.predict(X_test)\n",
    "    MAE_lr = round(mean_absolute_error(y_test, y_prediction_lr),2)\n",
    "\n",
    "    # 2- Random Forest\n",
    "    rf = RandomForestRegressor()\n",
    "    rf.fit(X_train, y_train)\n",
    "    y_prediction_rf = rf.predict(X_test)\n",
    "    MAE_rf = round(mean_absolute_error(y_test, y_prediction_rf),2)\n",
    "\n",
    "    # 3- Méthode naïve ou bien \"intuitive\" c'est-à-dire prédire que ce qui se passe 1 jour plus tard est exactement la même chose que la            veille\n",
    "    df_naif = X_test.copy()\n",
    "    #MAE_naif = round(abs(X_test[i]-y_test).mean() , 2)\n",
    "    MAE_naif = round(mean_absolute_error(X_test[i], y_test),2)\n",
    "\n",
    "    # Capacité moyenne de la station sur la période observée\n",
    "    capacite_moyenne = round(df[i].mean(),2)\n",
    "\n",
    "    # Stockage des résultats : numéro de la station, les modèles, et les MAE de chaque modèle\n",
    "    resultats_heures_creuses[stations_tests[i]] = [i, X, y, lr, MAE_lr, rf, MAE_rf, df_naif, MAE_naif, capacite_moyenne]\n",
    "\n",
    "    # Visualisation des performances avec Prettytable\n",
    "    ptbl.add_row([stations_tests[i], velib_details['capacity'][i], capacite_moyenne, MAE_lr, MAE_rf, MAE_naif])\n",
    "    \n",
    "print(ptbl)"
   ]
  },
  {
   "cell_type": "code",
   "execution_count": 240,
   "metadata": {},
   "outputs": [
    {
     "output_type": "stream",
     "name": "stdout",
     "text": [
      "+-------------------------------------+---------------------------------+---------------------------------+--------------------------------------------+\n| Occupation moyenne / heures creuses | Moyenne MAE LR / heures creuses | Moyenne MAE RF / heures creuses | Moyenne MAE méthode naïve / heures creuses |\n+-------------------------------------+---------------------------------+---------------------------------+--------------------------------------------+\n|                14.05                |               3.56              |               3.34              |                    7.37                    |\n+-------------------------------------+---------------------------------+---------------------------------+--------------------------------------------+\n"
     ]
    }
   ],
   "source": [
    "ptbl = PrettyTable()\n",
    "ptbl.field_names = [\"Occupation moyenne / heures creuses\", \"Moyenne MAE LR / heures creuses\", \"Moyenne MAE RF / heures creuses\", \"Moyenne MAE méthode naïve / heures creuses\"]\n",
    "mean_capacity_heures_creuses = 0\n",
    "mean_MAE_lr_heures_creuses = 0\n",
    "mean_MAE_rf_heures_creuses = 0\n",
    "mean_MAE_naif_heures_creuses = 0\n",
    "\n",
    "# Parcourir le dictionnaire des résultats pour calculer la moyenne des indicateurs\n",
    "for key, item in resultats_heures_creuses.items():\n",
    "    mean_capacity_heures_creuses += resultats_heures_creuses[key][9]\n",
    "    mean_MAE_lr_heures_creuses += resultats_heures_creuses[key][4]\n",
    "    mean_MAE_rf_heures_creuses += resultats_heures_creuses[key][6]\n",
    "    mean_MAE_naif_heures_creuses += resultats_heures_creuses[key][8]\n",
    "\n",
    "# On divise par le nombre total de stations tests pour obtenir la moyenne\n",
    "mean_capacity_heures_creuses = round(mean_capacity_heures_creuses/len(resultats_heures_creuses),2)\n",
    "mean_MAE_lr_heures_creuses = round(mean_MAE_lr_heures_creuses/len(resultats_heures_creuses),2)\n",
    "mean_MAE_rf_heures_creuses = round(mean_MAE_rf_heures_creuses/len(resultats_heures_creuses),2)\n",
    "mean_MAE_naif_heures_creuses = round(mean_MAE_naif_heures_creuses/len(resultats_heures_creuses),2)\n",
    "\n",
    "# Visualisation des performances avec Prettytable\n",
    "ptbl.add_row([mean_capacity_heures_creuses, mean_MAE_lr_heures_creuses, mean_MAE_rf_heures_creuses, mean_MAE_naif_heures_creuses])\n",
    "print(ptbl)"
   ]
  },
  {
   "source": [
    "## Fin travail : 17h-18h"
   ],
   "cell_type": "markdown",
   "metadata": {}
  },
  {
   "cell_type": "code",
   "execution_count": 241,
   "metadata": {},
   "outputs": [
    {
     "output_type": "execute_result",
     "data": {
      "text/plain": [
       "                    0   1  2   3   4   5   6   7   8   9  ...  1389  1390  \\\n",
       "10/20/20;16:58:36   2  47  7   3  10  36   5   5   6   5  ...     3     6   \n",
       "10/20/20;17:58:42   6  49  0   4  10  38   9   4   6   8  ...     6     2   \n",
       "10/21/20;16:00:55  10  49  3   3   6  41   3   9   7  25  ...     8     8   \n",
       "10/21/20;17:01:01   6  52  1   1   5  43   9   8   4  17  ...    12     5   \n",
       "10/22/20;16:04:28   0  46  4   6   9  30   3   6   6  24  ...     5     1   \n",
       "...                ..  .. ..  ..  ..  ..  ..  ..  ..  ..  ...   ...   ...   \n",
       "02/13/21;17:29:37   4  28  1   2  14  39   4   8  26  52  ...    12     3   \n",
       "02/14/21;16:47:04   2  39  1   8  11  37   5   7  33  40  ...     9     4   \n",
       "02/14/21;17:50:32   4  35  1  10  16  38   4  11  30  36  ...     9     4   \n",
       "02/15/21;16:04:08   2  40  4   5   2  27  10  10  30  14  ...     9     3   \n",
       "02/15/21;17:07:43   4  38  1   4   4  27   9  10  31  13  ...    10     2   \n",
       "\n",
       "                   1391  1392  1393  1394  1395  1396  1397  heure  \n",
       "10/20/20;16:58:36    16    14     9     7     9    14    18     16  \n",
       "10/20/20;17:58:42    12    12    12     6     8    14    22     17  \n",
       "10/21/20;16:00:55    40    11     5     3     1    12    29     16  \n",
       "10/21/20;17:01:01    51    14     5     3     2    16    35     17  \n",
       "10/22/20;16:04:28    44    11     7     7     6    12    16     16  \n",
       "...                 ...   ...   ...   ...   ...   ...   ...    ...  \n",
       "02/13/21;17:29:37     4    13    19     4    38    17    14     17  \n",
       "02/14/21;16:47:04    14    17    15     5    16     5    20     16  \n",
       "02/14/21;17:50:32    11    12    22     7    17     8    15     17  \n",
       "02/15/21;16:04:08    17     9    21     5     8    14    22     16  \n",
       "02/15/21;17:07:43    15    11    23     6     7    14    22     17  \n",
       "\n",
       "[230 rows x 1399 columns]"
      ],
      "text/html": "<div>\n<style scoped>\n    .dataframe tbody tr th:only-of-type {\n        vertical-align: middle;\n    }\n\n    .dataframe tbody tr th {\n        vertical-align: top;\n    }\n\n    .dataframe thead th {\n        text-align: right;\n    }\n</style>\n<table border=\"1\" class=\"dataframe\">\n  <thead>\n    <tr style=\"text-align: right;\">\n      <th></th>\n      <th>0</th>\n      <th>1</th>\n      <th>2</th>\n      <th>3</th>\n      <th>4</th>\n      <th>5</th>\n      <th>6</th>\n      <th>7</th>\n      <th>8</th>\n      <th>9</th>\n      <th>...</th>\n      <th>1389</th>\n      <th>1390</th>\n      <th>1391</th>\n      <th>1392</th>\n      <th>1393</th>\n      <th>1394</th>\n      <th>1395</th>\n      <th>1396</th>\n      <th>1397</th>\n      <th>heure</th>\n    </tr>\n  </thead>\n  <tbody>\n    <tr>\n      <th>10/20/20;16:58:36</th>\n      <td>2</td>\n      <td>47</td>\n      <td>7</td>\n      <td>3</td>\n      <td>10</td>\n      <td>36</td>\n      <td>5</td>\n      <td>5</td>\n      <td>6</td>\n      <td>5</td>\n      <td>...</td>\n      <td>3</td>\n      <td>6</td>\n      <td>16</td>\n      <td>14</td>\n      <td>9</td>\n      <td>7</td>\n      <td>9</td>\n      <td>14</td>\n      <td>18</td>\n      <td>16</td>\n    </tr>\n    <tr>\n      <th>10/20/20;17:58:42</th>\n      <td>6</td>\n      <td>49</td>\n      <td>0</td>\n      <td>4</td>\n      <td>10</td>\n      <td>38</td>\n      <td>9</td>\n      <td>4</td>\n      <td>6</td>\n      <td>8</td>\n      <td>...</td>\n      <td>6</td>\n      <td>2</td>\n      <td>12</td>\n      <td>12</td>\n      <td>12</td>\n      <td>6</td>\n      <td>8</td>\n      <td>14</td>\n      <td>22</td>\n      <td>17</td>\n    </tr>\n    <tr>\n      <th>10/21/20;16:00:55</th>\n      <td>10</td>\n      <td>49</td>\n      <td>3</td>\n      <td>3</td>\n      <td>6</td>\n      <td>41</td>\n      <td>3</td>\n      <td>9</td>\n      <td>7</td>\n      <td>25</td>\n      <td>...</td>\n      <td>8</td>\n      <td>8</td>\n      <td>40</td>\n      <td>11</td>\n      <td>5</td>\n      <td>3</td>\n      <td>1</td>\n      <td>12</td>\n      <td>29</td>\n      <td>16</td>\n    </tr>\n    <tr>\n      <th>10/21/20;17:01:01</th>\n      <td>6</td>\n      <td>52</td>\n      <td>1</td>\n      <td>1</td>\n      <td>5</td>\n      <td>43</td>\n      <td>9</td>\n      <td>8</td>\n      <td>4</td>\n      <td>17</td>\n      <td>...</td>\n      <td>12</td>\n      <td>5</td>\n      <td>51</td>\n      <td>14</td>\n      <td>5</td>\n      <td>3</td>\n      <td>2</td>\n      <td>16</td>\n      <td>35</td>\n      <td>17</td>\n    </tr>\n    <tr>\n      <th>10/22/20;16:04:28</th>\n      <td>0</td>\n      <td>46</td>\n      <td>4</td>\n      <td>6</td>\n      <td>9</td>\n      <td>30</td>\n      <td>3</td>\n      <td>6</td>\n      <td>6</td>\n      <td>24</td>\n      <td>...</td>\n      <td>5</td>\n      <td>1</td>\n      <td>44</td>\n      <td>11</td>\n      <td>7</td>\n      <td>7</td>\n      <td>6</td>\n      <td>12</td>\n      <td>16</td>\n      <td>16</td>\n    </tr>\n    <tr>\n      <th>...</th>\n      <td>...</td>\n      <td>...</td>\n      <td>...</td>\n      <td>...</td>\n      <td>...</td>\n      <td>...</td>\n      <td>...</td>\n      <td>...</td>\n      <td>...</td>\n      <td>...</td>\n      <td>...</td>\n      <td>...</td>\n      <td>...</td>\n      <td>...</td>\n      <td>...</td>\n      <td>...</td>\n      <td>...</td>\n      <td>...</td>\n      <td>...</td>\n      <td>...</td>\n      <td>...</td>\n    </tr>\n    <tr>\n      <th>02/13/21;17:29:37</th>\n      <td>4</td>\n      <td>28</td>\n      <td>1</td>\n      <td>2</td>\n      <td>14</td>\n      <td>39</td>\n      <td>4</td>\n      <td>8</td>\n      <td>26</td>\n      <td>52</td>\n      <td>...</td>\n      <td>12</td>\n      <td>3</td>\n      <td>4</td>\n      <td>13</td>\n      <td>19</td>\n      <td>4</td>\n      <td>38</td>\n      <td>17</td>\n      <td>14</td>\n      <td>17</td>\n    </tr>\n    <tr>\n      <th>02/14/21;16:47:04</th>\n      <td>2</td>\n      <td>39</td>\n      <td>1</td>\n      <td>8</td>\n      <td>11</td>\n      <td>37</td>\n      <td>5</td>\n      <td>7</td>\n      <td>33</td>\n      <td>40</td>\n      <td>...</td>\n      <td>9</td>\n      <td>4</td>\n      <td>14</td>\n      <td>17</td>\n      <td>15</td>\n      <td>5</td>\n      <td>16</td>\n      <td>5</td>\n      <td>20</td>\n      <td>16</td>\n    </tr>\n    <tr>\n      <th>02/14/21;17:50:32</th>\n      <td>4</td>\n      <td>35</td>\n      <td>1</td>\n      <td>10</td>\n      <td>16</td>\n      <td>38</td>\n      <td>4</td>\n      <td>11</td>\n      <td>30</td>\n      <td>36</td>\n      <td>...</td>\n      <td>9</td>\n      <td>4</td>\n      <td>11</td>\n      <td>12</td>\n      <td>22</td>\n      <td>7</td>\n      <td>17</td>\n      <td>8</td>\n      <td>15</td>\n      <td>17</td>\n    </tr>\n    <tr>\n      <th>02/15/21;16:04:08</th>\n      <td>2</td>\n      <td>40</td>\n      <td>4</td>\n      <td>5</td>\n      <td>2</td>\n      <td>27</td>\n      <td>10</td>\n      <td>10</td>\n      <td>30</td>\n      <td>14</td>\n      <td>...</td>\n      <td>9</td>\n      <td>3</td>\n      <td>17</td>\n      <td>9</td>\n      <td>21</td>\n      <td>5</td>\n      <td>8</td>\n      <td>14</td>\n      <td>22</td>\n      <td>16</td>\n    </tr>\n    <tr>\n      <th>02/15/21;17:07:43</th>\n      <td>4</td>\n      <td>38</td>\n      <td>1</td>\n      <td>4</td>\n      <td>4</td>\n      <td>27</td>\n      <td>9</td>\n      <td>10</td>\n      <td>31</td>\n      <td>13</td>\n      <td>...</td>\n      <td>10</td>\n      <td>2</td>\n      <td>15</td>\n      <td>11</td>\n      <td>23</td>\n      <td>6</td>\n      <td>7</td>\n      <td>14</td>\n      <td>22</td>\n      <td>17</td>\n    </tr>\n  </tbody>\n</table>\n<p>230 rows × 1399 columns</p>\n</div>"
     },
     "metadata": {},
     "execution_count": 241
    }
   ],
   "source": [
    "df_h = df_velib.copy()\n",
    "df_h['heure'] = df_velib.index\n",
    "# On ne garde que les heures dans la date\n",
    "for i in range(len(df_h)):\n",
    "    df_h['heure'][i] = int(df_h['heure'][i][9]+df_h['heure'][i][10])\n",
    "\n",
    "# On identifie les heures de nuit dans notre dataframe\n",
    "heures_non_fin_travail = [0, 1, 2, 3, 4, 5, 6, 7, 8, 9, 10, 11, 12, 13, 14, 15, 18, 19, 20, 21, 22, 23, 24]\n",
    "test = df_h.isin({'heure': heures_non_fin_travail})\n",
    "\n",
    "for i in df_h.index:\n",
    "    if test['heure'][i] == True:\n",
    "        df_h.drop(i,0,inplace=True)\n",
    "\n",
    "df_h"
   ]
  },
  {
   "cell_type": "code",
   "execution_count": 242,
   "metadata": {},
   "outputs": [
    {
     "output_type": "stream",
     "name": "stdout",
     "text": [
      "+----------------+----------+----------------------------------+----------------------+----------------------+---------------------------------+\n| Station target | Capacité | Occupation moyenne / fin travail | MAE LR / fin travail | MAE RF / fin travail | MAE méthode naïve / fin travail |\n+----------------+----------+----------------------------------+----------------------+----------------------+---------------------------------+\n|   station_0    |    35    |               4.11               |         2.21         |         2.21         |               2.69              |\n|   station_1    |    55    |              34.76               |         4.85         |         7.35         |              15.68              |\n|   station_2    |    20    |               3.33               |         2.05         |         2.19         |               3.19              |\n|   station_3    |    21    |               4.06               |         2.44         |         2.11         |               2.87              |\n|   station_4    |    30    |              11.52               |         4.95         |         5.12         |               8.19              |\n|   station_5    |    46    |              35.47               |         4.91         |         6.83         |               9.92              |\n|   station_6    |    60    |               7.08               |         3.6          |         3.34         |               5.18              |\n|   station_7    |    40    |               9.66               |         2.95         |         3.51         |               6.63              |\n|   station_8    |    29    |              11.03               |         3.37         |         5.5          |               7.98              |\n|   station_9    |    60    |              19.25               |         5.92         |         6.39         |              12.11              |\n+----------------+----------+----------------------------------+----------------------+----------------------+---------------------------------+\n"
     ]
    }
   ],
   "source": [
    "# Stockage des index du dataframe\n",
    "axis = df_h.index\n",
    "# Préparation des résultats à stocker : pour chaque station, on garde le numéro de la station dans le dataframe df_velib, le modèle de \n",
    "# régression linéaire et de random forest\n",
    "resultats_fin_travail = {}\n",
    "\n",
    "# Préparation de la visualisation des résultats :\n",
    "ptbl = PrettyTable()\n",
    "ptbl.field_names = [\"Station target\", \"Capacité\", \"Occupation moyenne / fin travail\", \"MAE LR / fin travail\", \"MAE RF / fin travail\", \"MAE méthode naïve / fin travail\"]\n",
    "\n",
    "\n",
    "for i in range(len(stations_tests)):\n",
    "    df = df_h.copy()\n",
    "    df['y'] = df[i]\n",
    "\n",
    "    for j in range(len(df)-24):\n",
    "        df['y'][axis[j]] = df[i][axis[j+24]]\n",
    "        \n",
    "    # Puis on supprime les 24 dernières lignes qui ne peuvent pas être complétées\n",
    "    df.drop(axis[-24:], inplace = True)\n",
    "\n",
    "    # Machine Learning\n",
    "    stations_features = [i for i in df.columns if type(i) != str]\n",
    "    X = df[stations_features]\n",
    "    # Préparation de la target\n",
    "    y = df['y']\n",
    "    # Séparation en données de test et d'entrainement\n",
    "    X_train, X_test, y_train, y_test = train_test_split(X, y, test_size=0.3)\n",
    "    \n",
    "    # 1- Régression linéaire\n",
    "    lr = LinearRegression()\n",
    "    lr.fit(X_train, y_train)\n",
    "    y_prediction_lr = lr.predict(X_test)\n",
    "    MAE_lr = round(mean_absolute_error(y_test, y_prediction_lr),2)\n",
    "\n",
    "    # 2- Random Forest\n",
    "    rf = RandomForestRegressor()\n",
    "    rf.fit(X_train, y_train)\n",
    "    y_prediction_rf = rf.predict(X_test)\n",
    "    MAE_rf = round(mean_absolute_error(y_test, y_prediction_rf),2)\n",
    "\n",
    "    # 3- Méthode naïve ou bien \"intuitive\" c'est-à-dire prédire que ce qui se passe 1 jour plus tard est exactement la même chose que la            veille\n",
    "    df_naif = X_test.copy()\n",
    "    #MAE_naif = round(abs(X_test[i]-y_test).mean() , 2)\n",
    "    MAE_naif = round(mean_absolute_error(X_test[i], y_test),2)\n",
    "\n",
    "    # Capacité moyenne de la station sur la période observée\n",
    "    capacite_moyenne = round(df[i].mean(),2)\n",
    "\n",
    "    # Stockage des résultats : numéro de la station, les modèles, et les MAE de chaque modèle\n",
    "    resultats_fin_travail[stations_tests[i]] = [i, X, y, lr, MAE_lr, rf, MAE_rf, df_naif, MAE_naif, capacite_moyenne]\n",
    "\n",
    "    # Visualisation des performances avec Prettytable\n",
    "    ptbl.add_row([stations_tests[i], velib_details['capacity'][i], capacite_moyenne, MAE_lr, MAE_rf, MAE_naif])\n",
    "    \n",
    "print(ptbl)"
   ]
  },
  {
   "cell_type": "code",
   "execution_count": 243,
   "metadata": {},
   "outputs": [
    {
     "output_type": "stream",
     "name": "stdout",
     "text": [
      "+----------------------------------+------------------------------+------------------------------+-----------------------------------------+\n| Occupation moyenne / fin travail | Moyenne MAE LR / fin travail | Moyenne MAE RF / fin travail | Moyenne MAE méthode naïve / fin travail |\n+----------------------------------+------------------------------+------------------------------+-----------------------------------------+\n|              14.03               |             3.72             |             4.46             |                   7.44                  |\n+----------------------------------+------------------------------+------------------------------+-----------------------------------------+\n"
     ]
    }
   ],
   "source": [
    "ptbl = PrettyTable()\n",
    "ptbl.field_names = [\"Occupation moyenne / fin travail\", \"Moyenne MAE LR / fin travail\", \"Moyenne MAE RF / fin travail\", \"Moyenne MAE méthode naïve / fin travail\"]\n",
    "mean_capacity_fin_travail = 0\n",
    "mean_MAE_lr_fin_travail = 0\n",
    "mean_MAE_rf_fin_travail = 0\n",
    "mean_MAE_naif_fin_travail = 0\n",
    "\n",
    "# Parcourir le dictionnaire des résultats pour calculer la moyenne des indicateurs\n",
    "for key, item in resultats_fin_travail.items():\n",
    "    mean_capacity_fin_travail += resultats_fin_travail[key][9]\n",
    "    mean_MAE_lr_fin_travail += resultats_fin_travail[key][4]\n",
    "    mean_MAE_rf_fin_travail += resultats_fin_travail[key][6]\n",
    "    mean_MAE_naif_fin_travail += resultats_fin_travail[key][8]\n",
    "\n",
    "# On divise par le nombre total de stations tests pour obtenir la moyenne\n",
    "mean_capacity_fin_travail = round(mean_capacity_fin_travail/len(resultats_fin_travail),2)\n",
    "mean_MAE_lr_fin_travail = round(mean_MAE_lr_fin_travail/len(resultats_fin_travail),2)\n",
    "mean_MAE_rf_fin_travail = round(mean_MAE_rf_fin_travail/len(resultats_fin_travail),2)\n",
    "mean_MAE_naif_fin_travail = round(mean_MAE_naif_fin_travail/len(resultats_fin_travail),2)\n",
    "\n",
    "# Visualisation des performances avec Prettytable\n",
    "ptbl.add_row([mean_capacity_fin_travail, mean_MAE_lr_fin_travail, mean_MAE_rf_fin_travail, mean_MAE_naif_fin_travail])\n",
    "print(ptbl)"
   ]
  },
  {
   "source": [
    "## Soir : 19h-21h"
   ],
   "cell_type": "markdown",
   "metadata": {}
  },
  {
   "cell_type": "code",
   "execution_count": 244,
   "metadata": {},
   "outputs": [
    {
     "output_type": "execute_result",
     "data": {
      "text/plain": [
       "                   0   1   2   3   4   5   6   7   8   9  ...  1389  1390  \\\n",
       "10/19/20;19:56:58  2  48   3   9  16  26  23   8  10  25  ...     6     1   \n",
       "10/19/20;20:57:02  5  49  10  10  25  18  19   5  11  37  ...    12     1   \n",
       "10/19/20;21:57:05  4  51   9  12  24  20  29   7  14  36  ...    14     2   \n",
       "10/20/20;19:58:51  5  46   5   6  20  41  38   6   8  16  ...     3     3   \n",
       "10/20/20;20:58:56  4  38   5   6  23  36  25   7  12  12  ...     7     2   \n",
       "...               ..  ..  ..  ..  ..  ..  ..  ..  ..  ..  ...   ...   ...   \n",
       "02/14/21;19:57:26  7  38   1   5  21  35   7  14  33  47  ...    16     1   \n",
       "02/14/21;21:00:52  7  38   1   3  23  35   7  14  33  49  ...    15     1   \n",
       "02/15/21;19:16:38  5  25   4   4  11  28  17  17  37  26  ...    16     3   \n",
       "02/15/21;20:20:06  3  24   5   5  17  28  18  15  38  28  ...    18     1   \n",
       "02/15/21;21:23:35  4  24   3   8  18  29  20  15  38  33  ...    19     1   \n",
       "\n",
       "                   1391  1392  1393  1394  1395  1396  1397  heure  \n",
       "10/19/20;19:56:58    21    20    25     2    15    15    13     19  \n",
       "10/19/20;20:57:02    18    17    27     0    29    12     5     20  \n",
       "10/19/20;21:57:05    17    19    31    14    34    15     6     21  \n",
       "10/20/20;19:58:51    15    16    30     6    22     6    17     19  \n",
       "10/20/20;20:58:56    14    13    31     6    20     7    11     20  \n",
       "...                 ...   ...   ...   ...   ...   ...   ...    ...  \n",
       "02/14/21;19:57:26     9     9    32     4    17    11    11     19  \n",
       "02/14/21;21:00:52    10     9    34     5    18    11     9     21  \n",
       "02/15/21;19:16:38    11    12    34     9    22     7     6     19  \n",
       "02/15/21;20:20:06    13    12    36     9    25     9     5     20  \n",
       "02/15/21;21:23:35    11    12    36    11    29     8     5     21  \n",
       "\n",
       "[349 rows x 1399 columns]"
      ],
      "text/html": "<div>\n<style scoped>\n    .dataframe tbody tr th:only-of-type {\n        vertical-align: middle;\n    }\n\n    .dataframe tbody tr th {\n        vertical-align: top;\n    }\n\n    .dataframe thead th {\n        text-align: right;\n    }\n</style>\n<table border=\"1\" class=\"dataframe\">\n  <thead>\n    <tr style=\"text-align: right;\">\n      <th></th>\n      <th>0</th>\n      <th>1</th>\n      <th>2</th>\n      <th>3</th>\n      <th>4</th>\n      <th>5</th>\n      <th>6</th>\n      <th>7</th>\n      <th>8</th>\n      <th>9</th>\n      <th>...</th>\n      <th>1389</th>\n      <th>1390</th>\n      <th>1391</th>\n      <th>1392</th>\n      <th>1393</th>\n      <th>1394</th>\n      <th>1395</th>\n      <th>1396</th>\n      <th>1397</th>\n      <th>heure</th>\n    </tr>\n  </thead>\n  <tbody>\n    <tr>\n      <th>10/19/20;19:56:58</th>\n      <td>2</td>\n      <td>48</td>\n      <td>3</td>\n      <td>9</td>\n      <td>16</td>\n      <td>26</td>\n      <td>23</td>\n      <td>8</td>\n      <td>10</td>\n      <td>25</td>\n      <td>...</td>\n      <td>6</td>\n      <td>1</td>\n      <td>21</td>\n      <td>20</td>\n      <td>25</td>\n      <td>2</td>\n      <td>15</td>\n      <td>15</td>\n      <td>13</td>\n      <td>19</td>\n    </tr>\n    <tr>\n      <th>10/19/20;20:57:02</th>\n      <td>5</td>\n      <td>49</td>\n      <td>10</td>\n      <td>10</td>\n      <td>25</td>\n      <td>18</td>\n      <td>19</td>\n      <td>5</td>\n      <td>11</td>\n      <td>37</td>\n      <td>...</td>\n      <td>12</td>\n      <td>1</td>\n      <td>18</td>\n      <td>17</td>\n      <td>27</td>\n      <td>0</td>\n      <td>29</td>\n      <td>12</td>\n      <td>5</td>\n      <td>20</td>\n    </tr>\n    <tr>\n      <th>10/19/20;21:57:05</th>\n      <td>4</td>\n      <td>51</td>\n      <td>9</td>\n      <td>12</td>\n      <td>24</td>\n      <td>20</td>\n      <td>29</td>\n      <td>7</td>\n      <td>14</td>\n      <td>36</td>\n      <td>...</td>\n      <td>14</td>\n      <td>2</td>\n      <td>17</td>\n      <td>19</td>\n      <td>31</td>\n      <td>14</td>\n      <td>34</td>\n      <td>15</td>\n      <td>6</td>\n      <td>21</td>\n    </tr>\n    <tr>\n      <th>10/20/20;19:58:51</th>\n      <td>5</td>\n      <td>46</td>\n      <td>5</td>\n      <td>6</td>\n      <td>20</td>\n      <td>41</td>\n      <td>38</td>\n      <td>6</td>\n      <td>8</td>\n      <td>16</td>\n      <td>...</td>\n      <td>3</td>\n      <td>3</td>\n      <td>15</td>\n      <td>16</td>\n      <td>30</td>\n      <td>6</td>\n      <td>22</td>\n      <td>6</td>\n      <td>17</td>\n      <td>19</td>\n    </tr>\n    <tr>\n      <th>10/20/20;20:58:56</th>\n      <td>4</td>\n      <td>38</td>\n      <td>5</td>\n      <td>6</td>\n      <td>23</td>\n      <td>36</td>\n      <td>25</td>\n      <td>7</td>\n      <td>12</td>\n      <td>12</td>\n      <td>...</td>\n      <td>7</td>\n      <td>2</td>\n      <td>14</td>\n      <td>13</td>\n      <td>31</td>\n      <td>6</td>\n      <td>20</td>\n      <td>7</td>\n      <td>11</td>\n      <td>20</td>\n    </tr>\n    <tr>\n      <th>...</th>\n      <td>...</td>\n      <td>...</td>\n      <td>...</td>\n      <td>...</td>\n      <td>...</td>\n      <td>...</td>\n      <td>...</td>\n      <td>...</td>\n      <td>...</td>\n      <td>...</td>\n      <td>...</td>\n      <td>...</td>\n      <td>...</td>\n      <td>...</td>\n      <td>...</td>\n      <td>...</td>\n      <td>...</td>\n      <td>...</td>\n      <td>...</td>\n      <td>...</td>\n      <td>...</td>\n    </tr>\n    <tr>\n      <th>02/14/21;19:57:26</th>\n      <td>7</td>\n      <td>38</td>\n      <td>1</td>\n      <td>5</td>\n      <td>21</td>\n      <td>35</td>\n      <td>7</td>\n      <td>14</td>\n      <td>33</td>\n      <td>47</td>\n      <td>...</td>\n      <td>16</td>\n      <td>1</td>\n      <td>9</td>\n      <td>9</td>\n      <td>32</td>\n      <td>4</td>\n      <td>17</td>\n      <td>11</td>\n      <td>11</td>\n      <td>19</td>\n    </tr>\n    <tr>\n      <th>02/14/21;21:00:52</th>\n      <td>7</td>\n      <td>38</td>\n      <td>1</td>\n      <td>3</td>\n      <td>23</td>\n      <td>35</td>\n      <td>7</td>\n      <td>14</td>\n      <td>33</td>\n      <td>49</td>\n      <td>...</td>\n      <td>15</td>\n      <td>1</td>\n      <td>10</td>\n      <td>9</td>\n      <td>34</td>\n      <td>5</td>\n      <td>18</td>\n      <td>11</td>\n      <td>9</td>\n      <td>21</td>\n    </tr>\n    <tr>\n      <th>02/15/21;19:16:38</th>\n      <td>5</td>\n      <td>25</td>\n      <td>4</td>\n      <td>4</td>\n      <td>11</td>\n      <td>28</td>\n      <td>17</td>\n      <td>17</td>\n      <td>37</td>\n      <td>26</td>\n      <td>...</td>\n      <td>16</td>\n      <td>3</td>\n      <td>11</td>\n      <td>12</td>\n      <td>34</td>\n      <td>9</td>\n      <td>22</td>\n      <td>7</td>\n      <td>6</td>\n      <td>19</td>\n    </tr>\n    <tr>\n      <th>02/15/21;20:20:06</th>\n      <td>3</td>\n      <td>24</td>\n      <td>5</td>\n      <td>5</td>\n      <td>17</td>\n      <td>28</td>\n      <td>18</td>\n      <td>15</td>\n      <td>38</td>\n      <td>28</td>\n      <td>...</td>\n      <td>18</td>\n      <td>1</td>\n      <td>13</td>\n      <td>12</td>\n      <td>36</td>\n      <td>9</td>\n      <td>25</td>\n      <td>9</td>\n      <td>5</td>\n      <td>20</td>\n    </tr>\n    <tr>\n      <th>02/15/21;21:23:35</th>\n      <td>4</td>\n      <td>24</td>\n      <td>3</td>\n      <td>8</td>\n      <td>18</td>\n      <td>29</td>\n      <td>20</td>\n      <td>15</td>\n      <td>38</td>\n      <td>33</td>\n      <td>...</td>\n      <td>19</td>\n      <td>1</td>\n      <td>11</td>\n      <td>12</td>\n      <td>36</td>\n      <td>11</td>\n      <td>29</td>\n      <td>8</td>\n      <td>5</td>\n      <td>21</td>\n    </tr>\n  </tbody>\n</table>\n<p>349 rows × 1399 columns</p>\n</div>"
     },
     "metadata": {},
     "execution_count": 244
    }
   ],
   "source": [
    "df_h = df_velib.copy()\n",
    "df_h['heure'] = df_velib.index\n",
    "# On ne garde que les heures dans la date\n",
    "for i in range(len(df_h)):\n",
    "    df_h['heure'][i] = int(df_h['heure'][i][9]+df_h['heure'][i][10])\n",
    "\n",
    "# On identifie les heures de nuit dans notre dataframe\n",
    "heures_non_soir = [0, 1, 2, 3, 4, 5, 6, 7, 8, 9, 10, 11, 12, 13, 14, 15, 16, 17, 18, 22, 23, 24]\n",
    "test = df_h.isin({'heure': heures_non_soir})\n",
    "\n",
    "for i in df_h.index:\n",
    "    if test['heure'][i] == True:\n",
    "        df_h.drop(i,0,inplace=True)\n",
    "\n",
    "df_h"
   ]
  },
  {
   "cell_type": "code",
   "execution_count": 245,
   "metadata": {},
   "outputs": [
    {
     "output_type": "stream",
     "name": "stdout",
     "text": [
      "+----------------+----------+---------------------------+---------------+---------------+--------------------------+\n| Station target | Capacité | Occupation moyenne / soir | MAE LR / soir | MAE RF / soir | MAE méthode naïve / soir |\n+----------------+----------+---------------------------+---------------+---------------+--------------------------+\n|   station_0    |    35    |            5.26           |      2.03     |      2.14     |           3.92           |\n|   station_1    |    55    |           32.39           |      4.81     |      5.44     |          14.87           |\n|   station_2    |    20    |            4.8            |      1.82     |      2.08     |           2.53           |\n|   station_3    |    21    |            6.55           |      2.81     |      2.48     |           3.87           |\n|   station_4    |    30    |           19.79           |      4.38     |      4.38     |           7.14           |\n|   station_5    |    46    |           26.48           |      4.55     |      4.56     |          11.78           |\n|   station_6    |    60    |           14.08           |      4.31     |      4.6      |           6.84           |\n|   station_7    |    40    |            8.92           |      2.83     |      3.48     |           6.29           |\n|   station_8    |    29    |           14.18           |      3.12     |      3.39     |           8.31           |\n|   station_9    |    60    |           25.25           |      6.06     |      6.06     |          13.16           |\n+----------------+----------+---------------------------+---------------+---------------+--------------------------+\n"
     ]
    }
   ],
   "source": [
    "# Stockage des index du dataframe\n",
    "axis = df_h.index\n",
    "# Préparation des résultats à stocker : pour chaque station, on garde le numéro de la station dans le dataframe df_velib, le modèle de \n",
    "# régression linéaire et de random forest\n",
    "resultats_soir = {}\n",
    "\n",
    "# Préparation de la visualisation des résultats :\n",
    "ptbl = PrettyTable()\n",
    "ptbl.field_names = [\"Station target\", \"Capacité\", \"Occupation moyenne / soir\", \"MAE LR / soir\", \"MAE RF / soir\", \"MAE méthode naïve / soir\"]\n",
    "\n",
    "\n",
    "for i in range(len(stations_tests)):\n",
    "    df = df_h.copy()\n",
    "    df['y'] = df[i]\n",
    "\n",
    "    for j in range(len(df)-24):\n",
    "        df['y'][axis[j]] = df[i][axis[j+24]]\n",
    "        \n",
    "    # Puis on supprime les 24 dernières lignes qui ne peuvent pas être complétées\n",
    "    df.drop(axis[-24:], inplace = True)\n",
    "\n",
    "    # Machine Learning\n",
    "    stations_features = [i for i in df.columns if type(i) != str]\n",
    "    X = df[stations_features]\n",
    "    # Préparation de la target\n",
    "    y = df['y']\n",
    "    # Séparation en données de test et d'entrainement\n",
    "    X_train, X_test, y_train, y_test = train_test_split(X, y, test_size=0.3)\n",
    "    \n",
    "    # 1- Régression linéaire\n",
    "    lr = LinearRegression()\n",
    "    lr.fit(X_train, y_train)\n",
    "    y_prediction_lr = lr.predict(X_test)\n",
    "    MAE_lr = round(mean_absolute_error(y_test, y_prediction_lr),2)\n",
    "\n",
    "    # 2- Random Forest\n",
    "    rf = RandomForestRegressor()\n",
    "    rf.fit(X_train, y_train)\n",
    "    y_prediction_rf = rf.predict(X_test)\n",
    "    MAE_rf = round(mean_absolute_error(y_test, y_prediction_rf),2)\n",
    "\n",
    "    # 3- Méthode naïve ou bien \"intuitive\" c'est-à-dire prédire que ce qui se passe 1 jour plus tard est exactement la même chose que la            veille\n",
    "    df_naif = X_test.copy()\n",
    "    #MAE_naif = round(abs(X_test[i]-y_test).mean() , 2)\n",
    "    MAE_naif = round(mean_absolute_error(X_test[i], y_test),2)\n",
    "\n",
    "    # Capacité moyenne de la station sur la période observée\n",
    "    capacite_moyenne = round(df[i].mean(),2)\n",
    "\n",
    "    # Stockage des résultats : numéro de la station, les modèles, et les MAE de chaque modèle\n",
    "    resultats_soir[stations_tests[i]] = [i, X, y, lr, MAE_lr, rf, MAE_rf, df_naif, MAE_naif, capacite_moyenne]\n",
    "\n",
    "    # Visualisation des performances avec Prettytable\n",
    "    ptbl.add_row([stations_tests[i], velib_details['capacity'][i], capacite_moyenne, MAE_lr, MAE_rf, MAE_naif])\n",
    "    \n",
    "print(ptbl)"
   ]
  },
  {
   "cell_type": "code",
   "execution_count": 246,
   "metadata": {},
   "outputs": [
    {
     "output_type": "stream",
     "name": "stdout",
     "text": [
      "+---------------------------+-----------------------+-----------------------+----------------------------------+\n| Occupation moyenne / soir | Moyenne MAE LR / soir | Moyenne MAE RF / soir | Moyenne MAE méthode naïve / soir |\n+---------------------------+-----------------------+-----------------------+----------------------------------+\n|           15.77           |          3.67         |          3.86         |               7.87               |\n+---------------------------+-----------------------+-----------------------+----------------------------------+\n"
     ]
    }
   ],
   "source": [
    "ptbl = PrettyTable()\n",
    "ptbl.field_names = [\"Occupation moyenne / soir\", \"Moyenne MAE LR / soir\", \"Moyenne MAE RF / soir\", \"Moyenne MAE méthode naïve / soir\"]\n",
    "mean_capacity_soir = 0\n",
    "mean_MAE_lr_soir = 0\n",
    "mean_MAE_rf_soir = 0\n",
    "mean_MAE_naif_soir = 0\n",
    "\n",
    "# Parcourir le dictionnaire des résultats pour calculer la moyenne des indicateurs\n",
    "for key, item in resultats_soir.items():\n",
    "    mean_capacity_soir += resultats_soir[key][9]\n",
    "    mean_MAE_lr_soir += resultats_soir[key][4]\n",
    "    mean_MAE_rf_soir += resultats_soir[key][6]\n",
    "    mean_MAE_naif_soir += resultats_soir[key][8]\n",
    "\n",
    "# On divise par le nombre total de stations tests pour obtenir la moyenne\n",
    "mean_capacity_soir = round(mean_capacity_soir/len(resultats_soir),2)\n",
    "mean_MAE_lr_soir = round(mean_MAE_lr_soir/len(resultats_soir),2)\n",
    "mean_MAE_rf_soir = round(mean_MAE_rf_soir/len(resultats_soir),2)\n",
    "mean_MAE_naif_soir = round(mean_MAE_naif_soir/len(resultats_soir),2)\n",
    "\n",
    "# Visualisation des performances avec Prettytable\n",
    "ptbl.add_row([mean_capacity_soir, mean_MAE_lr_soir, mean_MAE_rf_soir, mean_MAE_naif_soir])\n",
    "print(ptbl)"
   ]
  },
  {
   "source": [
    "On regarde ensuite si les prédictions séparées conduisent à de meilleurs résultats par rapport à un modèle général"
   ],
   "cell_type": "markdown",
   "metadata": {}
  },
  {
   "cell_type": "code",
   "execution_count": 247,
   "metadata": {},
   "outputs": [],
   "source": [
    "mean_MAE_lr_decoupage = round((mean_MAE_lr_nuit * 8 + mean_MAE_lr_matin * 3 + mean_MAE_lr_heures_creuses * 7 + mean_MAE_lr_fin_travail * 4 + mean_MAE_lr_soir * 2)/24,2)\n",
    "\n",
    "mean_MAE_rf_decoupage = round((mean_MAE_rf_nuit * 8 + mean_MAE_rf_matin * 3 + mean_MAE_rf_heures_creuses * 7 + mean_MAE_rf_fin_travail * 4 + mean_MAE_rf_soir * 2)/24,2)\n",
    "\n",
    "mean_MAE_naif_decoupage = round((mean_MAE_naif_nuit * 8 + mean_MAE_naif_matin * 3 + mean_MAE_naif_heures_creuses * 7 + mean_MAE_naif_fin_travail * 4 + mean_MAE_naif_soir * 2)/24,2)"
   ]
  },
  {
   "cell_type": "code",
   "execution_count": 248,
   "metadata": {},
   "outputs": [
    {
     "output_type": "display_data",
     "data": {
      "application/vnd.plotly.v1+json": {
       "config": {
        "plotlyServerURL": "https://plot.ly"
       },
       "data": [
        {
         "name": "Erreur moyenne avec Régression Linéaire",
         "type": "scatter",
         "x": [
          0,
          1,
          2,
          3,
          4,
          5,
          6,
          7,
          8,
          9,
          10,
          11,
          12,
          13,
          14,
          15,
          16,
          17,
          18,
          19,
          20,
          21,
          22,
          23
         ],
         "y": [
          2.13,
          2.08,
          2.18,
          2.14,
          1.74,
          1.7,
          2,
          3.14,
          4.68,
          4.67,
          4.54,
          4.62,
          4.49,
          4.59,
          4.6,
          4.8,
          4.69,
          5.37,
          5.61,
          4.61,
          3.59,
          3.08,
          2.77,
          2.6
         ]
        },
        {
         "name": "Erreur moyenne avec Forêt aléatoire",
         "type": "scatter",
         "x": [
          0,
          1,
          2,
          3,
          4,
          5,
          6,
          7,
          8,
          9,
          10,
          11,
          12,
          13,
          14,
          15,
          16,
          17,
          18,
          19,
          20,
          21,
          22,
          23
         ],
         "y": [
          1.18,
          1,
          1.03,
          0.88,
          0.85,
          1.01,
          1.37,
          2.35,
          3.58,
          3.38,
          2.89,
          3.36,
          3.04,
          3.27,
          3.15,
          3.16,
          3.12,
          3.25,
          3.4,
          3.3,
          2.55,
          2.17,
          1.5,
          1.31
         ]
        },
        {
         "name": "Erreur moyenne avec la méthode naïve",
         "type": "scatter",
         "x": [
          0,
          1,
          2,
          3,
          4,
          5,
          6,
          7,
          8,
          9,
          10,
          11,
          12,
          13,
          14,
          15,
          16,
          17,
          18,
          19,
          20,
          21,
          22,
          23
         ],
         "y": [
          5.95,
          5.61,
          5.95,
          5.85,
          5.04,
          5.78,
          5.32,
          5.87,
          6.79,
          5.82,
          5.4,
          5.48,
          5.67,
          6.01,
          5.8,
          5.07,
          5.21,
          5.17,
          5.81,
          5.44,
          5.57,
          5.27,
          5.48,
          5.29
         ]
        },
        {
         "mode": "text",
         "showlegend": false,
         "text": [
          "Nuit",
          "22h-5h",
          "Matin",
          "6h-8h",
          "Les heures creuses",
          "9h-16h",
          "Fin travail",
          "17h-18h",
          "Soir",
          "19h-21h"
         ],
         "type": "scatter",
         "x": [
          3,
          3,
          7,
          7,
          12.5,
          12.5,
          17.5,
          17.5,
          20,
          20
         ],
         "y": [
          4,
          3.75,
          1,
          0.75,
          1,
          0.75,
          1,
          0.75,
          1,
          0.75
         ]
        }
       ],
       "layout": {
        "autosize": false,
        "height": 500,
        "legend": {
         "title": {
          "text": ""
         }
        },
        "shapes": [
         {
          "line": {
           "color": "black",
           "dash": "dot",
           "width": 2
          },
          "type": "line",
          "x0": 5.5,
          "x1": 5.5,
          "y0": 0,
          "y1": 7
         },
         {
          "line": {
           "color": "black",
           "dash": "dot",
           "width": 2
          },
          "type": "line",
          "x0": 8.5,
          "x1": 8.5,
          "y0": 0,
          "y1": 7
         },
         {
          "line": {
           "color": "black",
           "dash": "dot",
           "width": 2
          },
          "type": "line",
          "x0": 16.5,
          "x1": 16.5,
          "y0": 0,
          "y1": 7
         },
         {
          "line": {
           "color": "black",
           "dash": "dot",
           "width": 2
          },
          "type": "line",
          "x0": 18.5,
          "x1": 18.5,
          "y0": 0,
          "y1": 7
         },
         {
          "line": {
           "color": "black",
           "dash": "dot",
           "width": 2
          },
          "type": "line",
          "x0": 21.5,
          "x1": 21.5,
          "y0": 0,
          "y1": 7
         }
        ],
        "template": {
         "data": {
          "bar": [
           {
            "error_x": {
             "color": "#2a3f5f"
            },
            "error_y": {
             "color": "#2a3f5f"
            },
            "marker": {
             "line": {
              "color": "#E5ECF6",
              "width": 0.5
             }
            },
            "type": "bar"
           }
          ],
          "barpolar": [
           {
            "marker": {
             "line": {
              "color": "#E5ECF6",
              "width": 0.5
             }
            },
            "type": "barpolar"
           }
          ],
          "carpet": [
           {
            "aaxis": {
             "endlinecolor": "#2a3f5f",
             "gridcolor": "white",
             "linecolor": "white",
             "minorgridcolor": "white",
             "startlinecolor": "#2a3f5f"
            },
            "baxis": {
             "endlinecolor": "#2a3f5f",
             "gridcolor": "white",
             "linecolor": "white",
             "minorgridcolor": "white",
             "startlinecolor": "#2a3f5f"
            },
            "type": "carpet"
           }
          ],
          "choropleth": [
           {
            "colorbar": {
             "outlinewidth": 0,
             "ticks": ""
            },
            "type": "choropleth"
           }
          ],
          "contour": [
           {
            "colorbar": {
             "outlinewidth": 0,
             "ticks": ""
            },
            "colorscale": [
             [
              0,
              "#0d0887"
             ],
             [
              0.1111111111111111,
              "#46039f"
             ],
             [
              0.2222222222222222,
              "#7201a8"
             ],
             [
              0.3333333333333333,
              "#9c179e"
             ],
             [
              0.4444444444444444,
              "#bd3786"
             ],
             [
              0.5555555555555556,
              "#d8576b"
             ],
             [
              0.6666666666666666,
              "#ed7953"
             ],
             [
              0.7777777777777778,
              "#fb9f3a"
             ],
             [
              0.8888888888888888,
              "#fdca26"
             ],
             [
              1,
              "#f0f921"
             ]
            ],
            "type": "contour"
           }
          ],
          "contourcarpet": [
           {
            "colorbar": {
             "outlinewidth": 0,
             "ticks": ""
            },
            "type": "contourcarpet"
           }
          ],
          "heatmap": [
           {
            "colorbar": {
             "outlinewidth": 0,
             "ticks": ""
            },
            "colorscale": [
             [
              0,
              "#0d0887"
             ],
             [
              0.1111111111111111,
              "#46039f"
             ],
             [
              0.2222222222222222,
              "#7201a8"
             ],
             [
              0.3333333333333333,
              "#9c179e"
             ],
             [
              0.4444444444444444,
              "#bd3786"
             ],
             [
              0.5555555555555556,
              "#d8576b"
             ],
             [
              0.6666666666666666,
              "#ed7953"
             ],
             [
              0.7777777777777778,
              "#fb9f3a"
             ],
             [
              0.8888888888888888,
              "#fdca26"
             ],
             [
              1,
              "#f0f921"
             ]
            ],
            "type": "heatmap"
           }
          ],
          "heatmapgl": [
           {
            "colorbar": {
             "outlinewidth": 0,
             "ticks": ""
            },
            "colorscale": [
             [
              0,
              "#0d0887"
             ],
             [
              0.1111111111111111,
              "#46039f"
             ],
             [
              0.2222222222222222,
              "#7201a8"
             ],
             [
              0.3333333333333333,
              "#9c179e"
             ],
             [
              0.4444444444444444,
              "#bd3786"
             ],
             [
              0.5555555555555556,
              "#d8576b"
             ],
             [
              0.6666666666666666,
              "#ed7953"
             ],
             [
              0.7777777777777778,
              "#fb9f3a"
             ],
             [
              0.8888888888888888,
              "#fdca26"
             ],
             [
              1,
              "#f0f921"
             ]
            ],
            "type": "heatmapgl"
           }
          ],
          "histogram": [
           {
            "marker": {
             "colorbar": {
              "outlinewidth": 0,
              "ticks": ""
             }
            },
            "type": "histogram"
           }
          ],
          "histogram2d": [
           {
            "colorbar": {
             "outlinewidth": 0,
             "ticks": ""
            },
            "colorscale": [
             [
              0,
              "#0d0887"
             ],
             [
              0.1111111111111111,
              "#46039f"
             ],
             [
              0.2222222222222222,
              "#7201a8"
             ],
             [
              0.3333333333333333,
              "#9c179e"
             ],
             [
              0.4444444444444444,
              "#bd3786"
             ],
             [
              0.5555555555555556,
              "#d8576b"
             ],
             [
              0.6666666666666666,
              "#ed7953"
             ],
             [
              0.7777777777777778,
              "#fb9f3a"
             ],
             [
              0.8888888888888888,
              "#fdca26"
             ],
             [
              1,
              "#f0f921"
             ]
            ],
            "type": "histogram2d"
           }
          ],
          "histogram2dcontour": [
           {
            "colorbar": {
             "outlinewidth": 0,
             "ticks": ""
            },
            "colorscale": [
             [
              0,
              "#0d0887"
             ],
             [
              0.1111111111111111,
              "#46039f"
             ],
             [
              0.2222222222222222,
              "#7201a8"
             ],
             [
              0.3333333333333333,
              "#9c179e"
             ],
             [
              0.4444444444444444,
              "#bd3786"
             ],
             [
              0.5555555555555556,
              "#d8576b"
             ],
             [
              0.6666666666666666,
              "#ed7953"
             ],
             [
              0.7777777777777778,
              "#fb9f3a"
             ],
             [
              0.8888888888888888,
              "#fdca26"
             ],
             [
              1,
              "#f0f921"
             ]
            ],
            "type": "histogram2dcontour"
           }
          ],
          "mesh3d": [
           {
            "colorbar": {
             "outlinewidth": 0,
             "ticks": ""
            },
            "type": "mesh3d"
           }
          ],
          "parcoords": [
           {
            "line": {
             "colorbar": {
              "outlinewidth": 0,
              "ticks": ""
             }
            },
            "type": "parcoords"
           }
          ],
          "pie": [
           {
            "automargin": true,
            "type": "pie"
           }
          ],
          "scatter": [
           {
            "marker": {
             "colorbar": {
              "outlinewidth": 0,
              "ticks": ""
             }
            },
            "type": "scatter"
           }
          ],
          "scatter3d": [
           {
            "line": {
             "colorbar": {
              "outlinewidth": 0,
              "ticks": ""
             }
            },
            "marker": {
             "colorbar": {
              "outlinewidth": 0,
              "ticks": ""
             }
            },
            "type": "scatter3d"
           }
          ],
          "scattercarpet": [
           {
            "marker": {
             "colorbar": {
              "outlinewidth": 0,
              "ticks": ""
             }
            },
            "type": "scattercarpet"
           }
          ],
          "scattergeo": [
           {
            "marker": {
             "colorbar": {
              "outlinewidth": 0,
              "ticks": ""
             }
            },
            "type": "scattergeo"
           }
          ],
          "scattergl": [
           {
            "marker": {
             "colorbar": {
              "outlinewidth": 0,
              "ticks": ""
             }
            },
            "type": "scattergl"
           }
          ],
          "scattermapbox": [
           {
            "marker": {
             "colorbar": {
              "outlinewidth": 0,
              "ticks": ""
             }
            },
            "type": "scattermapbox"
           }
          ],
          "scatterpolar": [
           {
            "marker": {
             "colorbar": {
              "outlinewidth": 0,
              "ticks": ""
             }
            },
            "type": "scatterpolar"
           }
          ],
          "scatterpolargl": [
           {
            "marker": {
             "colorbar": {
              "outlinewidth": 0,
              "ticks": ""
             }
            },
            "type": "scatterpolargl"
           }
          ],
          "scatterternary": [
           {
            "marker": {
             "colorbar": {
              "outlinewidth": 0,
              "ticks": ""
             }
            },
            "type": "scatterternary"
           }
          ],
          "surface": [
           {
            "colorbar": {
             "outlinewidth": 0,
             "ticks": ""
            },
            "colorscale": [
             [
              0,
              "#0d0887"
             ],
             [
              0.1111111111111111,
              "#46039f"
             ],
             [
              0.2222222222222222,
              "#7201a8"
             ],
             [
              0.3333333333333333,
              "#9c179e"
             ],
             [
              0.4444444444444444,
              "#bd3786"
             ],
             [
              0.5555555555555556,
              "#d8576b"
             ],
             [
              0.6666666666666666,
              "#ed7953"
             ],
             [
              0.7777777777777778,
              "#fb9f3a"
             ],
             [
              0.8888888888888888,
              "#fdca26"
             ],
             [
              1,
              "#f0f921"
             ]
            ],
            "type": "surface"
           }
          ],
          "table": [
           {
            "cells": {
             "fill": {
              "color": "#EBF0F8"
             },
             "line": {
              "color": "white"
             }
            },
            "header": {
             "fill": {
              "color": "#C8D4E3"
             },
             "line": {
              "color": "white"
             }
            },
            "type": "table"
           }
          ]
         },
         "layout": {
          "annotationdefaults": {
           "arrowcolor": "#2a3f5f",
           "arrowhead": 0,
           "arrowwidth": 1
          },
          "autotypenumbers": "strict",
          "coloraxis": {
           "colorbar": {
            "outlinewidth": 0,
            "ticks": ""
           }
          },
          "colorscale": {
           "diverging": [
            [
             0,
             "#8e0152"
            ],
            [
             0.1,
             "#c51b7d"
            ],
            [
             0.2,
             "#de77ae"
            ],
            [
             0.3,
             "#f1b6da"
            ],
            [
             0.4,
             "#fde0ef"
            ],
            [
             0.5,
             "#f7f7f7"
            ],
            [
             0.6,
             "#e6f5d0"
            ],
            [
             0.7,
             "#b8e186"
            ],
            [
             0.8,
             "#7fbc41"
            ],
            [
             0.9,
             "#4d9221"
            ],
            [
             1,
             "#276419"
            ]
           ],
           "sequential": [
            [
             0,
             "#0d0887"
            ],
            [
             0.1111111111111111,
             "#46039f"
            ],
            [
             0.2222222222222222,
             "#7201a8"
            ],
            [
             0.3333333333333333,
             "#9c179e"
            ],
            [
             0.4444444444444444,
             "#bd3786"
            ],
            [
             0.5555555555555556,
             "#d8576b"
            ],
            [
             0.6666666666666666,
             "#ed7953"
            ],
            [
             0.7777777777777778,
             "#fb9f3a"
            ],
            [
             0.8888888888888888,
             "#fdca26"
            ],
            [
             1,
             "#f0f921"
            ]
           ],
           "sequentialminus": [
            [
             0,
             "#0d0887"
            ],
            [
             0.1111111111111111,
             "#46039f"
            ],
            [
             0.2222222222222222,
             "#7201a8"
            ],
            [
             0.3333333333333333,
             "#9c179e"
            ],
            [
             0.4444444444444444,
             "#bd3786"
            ],
            [
             0.5555555555555556,
             "#d8576b"
            ],
            [
             0.6666666666666666,
             "#ed7953"
            ],
            [
             0.7777777777777778,
             "#fb9f3a"
            ],
            [
             0.8888888888888888,
             "#fdca26"
            ],
            [
             1,
             "#f0f921"
            ]
           ]
          },
          "colorway": [
           "#636efa",
           "#EF553B",
           "#00cc96",
           "#ab63fa",
           "#FFA15A",
           "#19d3f3",
           "#FF6692",
           "#B6E880",
           "#FF97FF",
           "#FECB52"
          ],
          "font": {
           "color": "#2a3f5f"
          },
          "geo": {
           "bgcolor": "white",
           "lakecolor": "white",
           "landcolor": "#E5ECF6",
           "showlakes": true,
           "showland": true,
           "subunitcolor": "white"
          },
          "hoverlabel": {
           "align": "left"
          },
          "hovermode": "closest",
          "mapbox": {
           "style": "light"
          },
          "paper_bgcolor": "white",
          "plot_bgcolor": "#E5ECF6",
          "polar": {
           "angularaxis": {
            "gridcolor": "white",
            "linecolor": "white",
            "ticks": ""
           },
           "bgcolor": "#E5ECF6",
           "radialaxis": {
            "gridcolor": "white",
            "linecolor": "white",
            "ticks": ""
           }
          },
          "scene": {
           "xaxis": {
            "backgroundcolor": "#E5ECF6",
            "gridcolor": "white",
            "gridwidth": 2,
            "linecolor": "white",
            "showbackground": true,
            "ticks": "",
            "zerolinecolor": "white"
           },
           "yaxis": {
            "backgroundcolor": "#E5ECF6",
            "gridcolor": "white",
            "gridwidth": 2,
            "linecolor": "white",
            "showbackground": true,
            "ticks": "",
            "zerolinecolor": "white"
           },
           "zaxis": {
            "backgroundcolor": "#E5ECF6",
            "gridcolor": "white",
            "gridwidth": 2,
            "linecolor": "white",
            "showbackground": true,
            "ticks": "",
            "zerolinecolor": "white"
           }
          },
          "shapedefaults": {
           "line": {
            "color": "#2a3f5f"
           }
          },
          "ternary": {
           "aaxis": {
            "gridcolor": "white",
            "linecolor": "white",
            "ticks": ""
           },
           "baxis": {
            "gridcolor": "white",
            "linecolor": "white",
            "ticks": ""
           },
           "bgcolor": "#E5ECF6",
           "caxis": {
            "gridcolor": "white",
            "linecolor": "white",
            "ticks": ""
           }
          },
          "title": {
           "x": 0.05
          },
          "xaxis": {
           "automargin": true,
           "gridcolor": "white",
           "linecolor": "white",
           "ticks": "",
           "title": {
            "standoff": 15
           },
           "zerolinecolor": "white",
           "zerolinewidth": 2
          },
          "yaxis": {
           "automargin": true,
           "gridcolor": "white",
           "linecolor": "white",
           "ticks": "",
           "title": {
            "standoff": 15
           },
           "zerolinecolor": "white",
           "zerolinewidth": 2
          }
         }
        },
        "title": {
         "text": "Choix des intervalles de temps à prédire au regard des 10 stations"
        },
        "width": 1000,
        "xaxis": {
         "range": [
          0,
          23
         ],
         "title": {
          "text": "Heure"
         }
        },
        "yaxis": {
         "range": [
          0,
          7
         ],
         "title": {
          "text": "Erreur moyenne"
         }
        }
       }
      }
     },
     "metadata": {}
    }
   ],
   "source": [
    "fig = go.Figure()\n",
    "\n",
    "fig.add_trace(go.Scatter(\n",
    "    x=mean_erreur_par_heure.index,\n",
    "    y=mean_erreur_par_heure['erreur_pred_lr'],\n",
    "    name=\"Erreur moyenne avec Régression Linéaire\"      \n",
    "))\n",
    "\n",
    "\n",
    "fig.add_trace(go.Scatter(\n",
    "    x=mean_erreur_par_heure.index,\n",
    "    y=mean_erreur_par_heure['erreur_pred_rf'],\n",
    "    name=\"Erreur moyenne avec Forêt aléatoire\"     \n",
    "))\n",
    "\n",
    "fig.add_trace(go.Scatter(\n",
    "    x=mean_erreur_par_heure.index,\n",
    "    y=mean_erreur_par_heure['erreur_pred_naif'],\n",
    "    name=\"Erreur moyenne avec la méthode naïve\"     \n",
    "))\n",
    "\n",
    "\n",
    "# Create scatter trace of text labels\n",
    "fig.add_trace(go.Scatter(\n",
    "    x=[3,3, 7,7, 12.5,12.5, 17.5,17.5, 20,20],\n",
    "    y=[4,3.75, 1,0.75, 1,0.75, 1,0.75, 1,0.75],\n",
    "    text=[\"Nuit\", \"22h-5h\",\n",
    "          \"Matin\", \"6h-8h\",\n",
    "          \"Les heures creuses\", \"9h-16h\",\n",
    "          \"Fin travail\", \"17h-18h\",\n",
    "          \"Soir\", \"19h-21h\"],\n",
    "    mode=\"text\",\n",
    "    showlegend = False\n",
    "\n",
    "))\n",
    "\n",
    "# Set axes ranges\n",
    "fig.update_xaxes(range=[0, 23])\n",
    "fig.update_yaxes(range=[0, 7])\n",
    "\n",
    "# Add shapes\n",
    "fig.add_shape(type=\"line\",\n",
    "    x0=5.5, y0=0, x1=5.5, y1=7,\n",
    "    line=dict(\n",
    "        color=\"black\",\n",
    "        width=2,\n",
    "        dash=\"dot\"\n",
    "    )\n",
    ")\n",
    "\n",
    "fig.add_shape(type=\"line\",\n",
    "    x0=8.5, y0=0, x1=8.5, y1=7,\n",
    "    line=dict(\n",
    "        color=\"black\",\n",
    "        width=2,\n",
    "        dash=\"dot\"\n",
    "    )\n",
    ")\n",
    "\n",
    "fig.add_shape(type=\"line\",\n",
    "    x0=16.5, y0=0, x1=16.5, y1=7,\n",
    "    line=dict(\n",
    "        color=\"black\",\n",
    "        width=2,\n",
    "        dash=\"dot\"\n",
    "    )\n",
    ")\n",
    "\n",
    "fig.add_shape(type=\"line\",\n",
    "    x0=18.5, y0=0, x1=18.5, y1=7,\n",
    "    line=dict(\n",
    "        color=\"black\",\n",
    "        width=2,\n",
    "        dash=\"dot\"\n",
    "    )\n",
    ")\n",
    "\n",
    "fig.add_shape(type=\"line\",\n",
    "    x0=21.5, y0=0, x1=21.5, y1=7,\n",
    "    line=dict(\n",
    "        color=\"black\",\n",
    "        width=2,\n",
    "        dash=\"dot\"\n",
    "    )\n",
    ")\n",
    "\n",
    "\n",
    "\n",
    "fig.update_layout(\n",
    "    title=\"Choix des intervalles de temps à prédire au regard des 10 stations\",\n",
    "    xaxis_title=\"Heure\",\n",
    "    yaxis_title=\"Erreur moyenne\",\n",
    "    legend_title=\"\",\n",
    "    autosize=False,\n",
    "    width=1000,\n",
    "    height=500\n",
    ")\n",
    "\n",
    "fig.show()"
   ]
  },
  {
   "cell_type": "code",
   "execution_count": 249,
   "metadata": {},
   "outputs": [
    {
     "output_type": "stream",
     "name": "stdout",
     "text": [
      "+---------------------------+-----------------------------------+-----------------------------------+----------------------------------------------+\n| Occupation moyenne - test | Moyenne MAE LR - 5 modèles - test | Moyenne MAE RF - 5 modèles - test | Moyenne MAE méthode naïve - 5 modèles - test |\n+---------------------------+-----------------------------------+-----------------------------------+----------------------------------------------+\n|           15.83           |                3.36               |                3.1                |                     7.45                     |\n+---------------------------+-----------------------------------+-----------------------------------+----------------------------------------------+\n"
     ]
    }
   ],
   "source": [
    "ptbl5 = PrettyTable()\n",
    "ptbl5.field_names = [\"Occupation moyenne - test\", \"Moyenne MAE LR - 5 modèles - test\", \"Moyenne MAE RF - 5 modèles - test\", \"Moyenne MAE méthode naïve - 5 modèles - test\"]\n",
    "\n",
    "# Visualisation des performances avec Prettytable\n",
    "ptbl5.add_row([mean_occupation1, mean_MAE_lr_decoupage, mean_MAE_rf_decoupage, mean_MAE_naif_decoupage])\n",
    "print(ptbl5)"
   ]
  },
  {
   "cell_type": "code",
   "execution_count": 226,
   "metadata": {},
   "outputs": [
    {
     "output_type": "stream",
     "name": "stdout",
     "text": [
      "+---------------------------+----------------------------------+----------------------------------+---------------------------------------------+\n| Occupation moyenne - test | Moyenne MAE LR - 1 modèle - test | Moyenne MAE RF - 1 modèle - test | Moyenne MAE méthode naïve - 1 modèle - test |\n+---------------------------+----------------------------------+----------------------------------+---------------------------------------------+\n|           15.83           |               3.62               |               2.35               |                     5.61                    |\n+---------------------------+----------------------------------+----------------------------------+---------------------------------------------+\n"
     ]
    }
   ],
   "source": [
    "print(ptbl1)"
   ]
  },
  {
   "cell_type": "code",
   "execution_count": null,
   "metadata": {},
   "outputs": [],
   "source": []
  }
 ],
 "metadata": {
  "kernelspec": {
   "display_name": "Python 3",
   "language": "python",
   "name": "python3"
  },
  "language_info": {
   "codemirror_mode": {
    "name": "ipython",
    "version": 3
   },
   "file_extension": ".py",
   "mimetype": "text/x-python",
   "name": "python",
   "nbconvert_exporter": "python",
   "pygments_lexer": "ipython3",
   "version": "3.7.4-final"
  }
 },
 "nbformat": 4,
 "nbformat_minor": 2
}