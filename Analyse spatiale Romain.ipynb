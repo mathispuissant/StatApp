{
 "metadata": {
  "language_info": {
   "codemirror_mode": {
    "name": "ipython",
    "version": 3
   },
   "file_extension": ".py",
   "mimetype": "text/x-python",
   "name": "python",
   "nbconvert_exporter": "python",
   "pygments_lexer": "ipython3",
   "version": "3.7.4-final"
  },
  "orig_nbformat": 2,
  "kernelspec": {
   "name": "python3",
   "display_name": "Python 3",
   "language": "python"
  }
 },
 "nbformat": 4,
 "nbformat_minor": 2,
 "cells": [
  {
   "source": [
    "# Premiers modèles prédictifs du nombre de vélibs d'un point de vue spatial"
   ],
   "cell_type": "markdown",
   "metadata": {}
  },
  {
   "cell_type": "code",
   "execution_count": 1,
   "metadata": {},
   "outputs": [
    {
     "output_type": "stream",
     "name": "stdout",
     "text": [
      "Requirement already satisfied: prettytable in /Applications/anaconda3/lib/python3.7/site-packages (2.0.0)\nRequirement already satisfied: setuptools in /Applications/anaconda3/lib/python3.7/site-packages (from prettytable) (41.4.0)\nRequirement already satisfied: wcwidth in /Applications/anaconda3/lib/python3.7/site-packages (from prettytable) (0.1.7)\n"
     ]
    }
   ],
   "source": [
    "import pandas as pd\n",
    "import numpy as np\n",
    "import matplotlib.pyplot as plt\n",
    "import seaborn as sns\n",
    "\n",
    "from sklearn.model_selection import train_test_split\n",
    "from sklearn.linear_model import LinearRegression\n",
    "from sklearn.metrics import mean_squared_error\n",
    "from sklearn.metrics import accuracy_score\n",
    "from sklearn.metrics import f1_score, confusion_matrix, accuracy_score, recall_score, precision_score\n",
    "from sklearn.preprocessing import PolynomialFeatures\n",
    "from sklearn.metrics import mean_squared_error\n",
    "from sklearn.tree import DecisionTreeRegressor\n",
    "from sklearn.ensemble import RandomForestRegressor\n",
    "from sklearn.datasets import make_classification\n",
    "from sklearn import linear_model\n",
    "from math import sqrt\n",
    "\n",
    "!pip install prettytable\n",
    "from prettytable import PrettyTable"
   ]
  },
  {
   "cell_type": "code",
   "execution_count": 2,
   "metadata": {},
   "outputs": [
    {
     "output_type": "execute_result",
     "data": {
      "text/plain": [
       "   station_id               10/19/20;18:01:51               10/19/20;18:06:52  \\\n",
       "0   213688169   {'mechanical': 0, 'ebike': 2}   {'mechanical': 0, 'ebike': 2}   \n",
       "1    99950133  {'mechanical': 41, 'ebike': 5}  {'mechanical': 41, 'ebike': 5}   \n",
       "2   516709288   {'mechanical': 0, 'ebike': 1}   {'mechanical': 0, 'ebike': 1}   \n",
       "3       36255   {'mechanical': 0, 'ebike': 0}   {'mechanical': 0, 'ebike': 0}   \n",
       "4    37815204   {'mechanical': 4, 'ebike': 1}   {'mechanical': 3, 'ebike': 1}   \n",
       "\n",
       "                10/19/20;18:11:52               10/19/20;18:16:52  \\\n",
       "0   {'mechanical': 0, 'ebike': 2}   {'mechanical': 0, 'ebike': 3}   \n",
       "1  {'mechanical': 42, 'ebike': 5}  {'mechanical': 42, 'ebike': 7}   \n",
       "2   {'mechanical': 0, 'ebike': 1}   {'mechanical': 1, 'ebike': 1}   \n",
       "3   {'mechanical': 0, 'ebike': 0}   {'mechanical': 0, 'ebike': 0}   \n",
       "4   {'mechanical': 1, 'ebike': 1}   {'mechanical': 1, 'ebike': 1}   \n",
       "\n",
       "                10/19/20;18:21:52               10/19/20;18:26:53  \\\n",
       "0   {'mechanical': 0, 'ebike': 3}   {'mechanical': 1, 'ebike': 2}   \n",
       "1  {'mechanical': 41, 'ebike': 5}  {'mechanical': 40, 'ebike': 4}   \n",
       "2   {'mechanical': 1, 'ebike': 1}   {'mechanical': 1, 'ebike': 1}   \n",
       "3   {'mechanical': 0, 'ebike': 2}   {'mechanical': 0, 'ebike': 4}   \n",
       "4   {'mechanical': 2, 'ebike': 1}   {'mechanical': 3, 'ebike': 1}   \n",
       "\n",
       "                10/19/20;18:31:53               10/19/20;18:36:53  \\\n",
       "0   {'mechanical': 0, 'ebike': 1}   {'mechanical': 0, 'ebike': 1}   \n",
       "1  {'mechanical': 38, 'ebike': 5}  {'mechanical': 39, 'ebike': 4}   \n",
       "2   {'mechanical': 2, 'ebike': 1}   {'mechanical': 0, 'ebike': 1}   \n",
       "3   {'mechanical': 0, 'ebike': 4}   {'mechanical': 0, 'ebike': 4}   \n",
       "4   {'mechanical': 3, 'ebike': 2}   {'mechanical': 2, 'ebike': 0}   \n",
       "\n",
       "                10/19/20;18:41:54  ...              11/03/20;16:01:46  \\\n",
       "0   {'mechanical': 0, 'ebike': 1}  ...  {'mechanical': 4, 'ebike': 6}   \n",
       "1  {'mechanical': 40, 'ebike': 5}  ...  {'mechanical': 2, 'ebike': 0}   \n",
       "2   {'mechanical': 0, 'ebike': 1}  ...  {'mechanical': 1, 'ebike': 2}   \n",
       "3   {'mechanical': 1, 'ebike': 3}  ...  {'mechanical': 0, 'ebike': 3}   \n",
       "4   {'mechanical': 2, 'ebike': 0}  ...  {'mechanical': 6, 'ebike': 0}   \n",
       "\n",
       "               11/03/20;16:06:47              11/03/20;16:11:47  \\\n",
       "0  {'mechanical': 4, 'ebike': 6}  {'mechanical': 3, 'ebike': 6}   \n",
       "1  {'mechanical': 2, 'ebike': 0}  {'mechanical': 2, 'ebike': 0}   \n",
       "2  {'mechanical': 1, 'ebike': 2}  {'mechanical': 1, 'ebike': 2}   \n",
       "3  {'mechanical': 0, 'ebike': 3}  {'mechanical': 0, 'ebike': 3}   \n",
       "4  {'mechanical': 7, 'ebike': 0}  {'mechanical': 7, 'ebike': 0}   \n",
       "\n",
       "               11/03/20;16:16:47              11/03/20;16:21:48  \\\n",
       "0  {'mechanical': 4, 'ebike': 7}  {'mechanical': 5, 'ebike': 7}   \n",
       "1  {'mechanical': 2, 'ebike': 1}  {'mechanical': 2, 'ebike': 1}   \n",
       "2  {'mechanical': 1, 'ebike': 2}  {'mechanical': 1, 'ebike': 2}   \n",
       "3  {'mechanical': 0, 'ebike': 3}  {'mechanical': 0, 'ebike': 2}   \n",
       "4  {'mechanical': 7, 'ebike': 1}  {'mechanical': 7, 'ebike': 1}   \n",
       "\n",
       "               11/03/20;16:26:48              11/03/20;16:31:48  \\\n",
       "0  {'mechanical': 5, 'ebike': 7}  {'mechanical': 5, 'ebike': 8}   \n",
       "1  {'mechanical': 2, 'ebike': 0}  {'mechanical': 2, 'ebike': 0}   \n",
       "2  {'mechanical': 1, 'ebike': 3}  {'mechanical': 1, 'ebike': 2}   \n",
       "3  {'mechanical': 0, 'ebike': 2}  {'mechanical': 0, 'ebike': 3}   \n",
       "4  {'mechanical': 8, 'ebike': 1}  {'mechanical': 9, 'ebike': 0}   \n",
       "\n",
       "                11/03/20;16:36:49              11/03/20;16:41:49  \\\n",
       "0   {'mechanical': 5, 'ebike': 8}  {'mechanical': 5, 'ebike': 8}   \n",
       "1   {'mechanical': 2, 'ebike': 0}  {'mechanical': 2, 'ebike': 0}   \n",
       "2   {'mechanical': 1, 'ebike': 3}  {'mechanical': 1, 'ebike': 3}   \n",
       "3   {'mechanical': 0, 'ebike': 3}  {'mechanical': 0, 'ebike': 3}   \n",
       "4  {'mechanical': 10, 'ebike': 0}  {'mechanical': 9, 'ebike': 0}   \n",
       "\n",
       "               11/03/20;16:46:49  \n",
       "0  {'mechanical': 5, 'ebike': 7}  \n",
       "1  {'mechanical': 2, 'ebike': 0}  \n",
       "2  {'mechanical': 1, 'ebike': 3}  \n",
       "3  {'mechanical': 0, 'ebike': 2}  \n",
       "4  {'mechanical': 9, 'ebike': 0}  \n",
       "\n",
       "[5 rows x 4295 columns]"
      ],
      "text/html": "<div>\n<style scoped>\n    .dataframe tbody tr th:only-of-type {\n        vertical-align: middle;\n    }\n\n    .dataframe tbody tr th {\n        vertical-align: top;\n    }\n\n    .dataframe thead th {\n        text-align: right;\n    }\n</style>\n<table border=\"1\" class=\"dataframe\">\n  <thead>\n    <tr style=\"text-align: right;\">\n      <th></th>\n      <th>station_id</th>\n      <th>10/19/20;18:01:51</th>\n      <th>10/19/20;18:06:52</th>\n      <th>10/19/20;18:11:52</th>\n      <th>10/19/20;18:16:52</th>\n      <th>10/19/20;18:21:52</th>\n      <th>10/19/20;18:26:53</th>\n      <th>10/19/20;18:31:53</th>\n      <th>10/19/20;18:36:53</th>\n      <th>10/19/20;18:41:54</th>\n      <th>...</th>\n      <th>11/03/20;16:01:46</th>\n      <th>11/03/20;16:06:47</th>\n      <th>11/03/20;16:11:47</th>\n      <th>11/03/20;16:16:47</th>\n      <th>11/03/20;16:21:48</th>\n      <th>11/03/20;16:26:48</th>\n      <th>11/03/20;16:31:48</th>\n      <th>11/03/20;16:36:49</th>\n      <th>11/03/20;16:41:49</th>\n      <th>11/03/20;16:46:49</th>\n    </tr>\n  </thead>\n  <tbody>\n    <tr>\n      <th>0</th>\n      <td>213688169</td>\n      <td>{'mechanical': 0, 'ebike': 2}</td>\n      <td>{'mechanical': 0, 'ebike': 2}</td>\n      <td>{'mechanical': 0, 'ebike': 2}</td>\n      <td>{'mechanical': 0, 'ebike': 3}</td>\n      <td>{'mechanical': 0, 'ebike': 3}</td>\n      <td>{'mechanical': 1, 'ebike': 2}</td>\n      <td>{'mechanical': 0, 'ebike': 1}</td>\n      <td>{'mechanical': 0, 'ebike': 1}</td>\n      <td>{'mechanical': 0, 'ebike': 1}</td>\n      <td>...</td>\n      <td>{'mechanical': 4, 'ebike': 6}</td>\n      <td>{'mechanical': 4, 'ebike': 6}</td>\n      <td>{'mechanical': 3, 'ebike': 6}</td>\n      <td>{'mechanical': 4, 'ebike': 7}</td>\n      <td>{'mechanical': 5, 'ebike': 7}</td>\n      <td>{'mechanical': 5, 'ebike': 7}</td>\n      <td>{'mechanical': 5, 'ebike': 8}</td>\n      <td>{'mechanical': 5, 'ebike': 8}</td>\n      <td>{'mechanical': 5, 'ebike': 8}</td>\n      <td>{'mechanical': 5, 'ebike': 7}</td>\n    </tr>\n    <tr>\n      <th>1</th>\n      <td>99950133</td>\n      <td>{'mechanical': 41, 'ebike': 5}</td>\n      <td>{'mechanical': 41, 'ebike': 5}</td>\n      <td>{'mechanical': 42, 'ebike': 5}</td>\n      <td>{'mechanical': 42, 'ebike': 7}</td>\n      <td>{'mechanical': 41, 'ebike': 5}</td>\n      <td>{'mechanical': 40, 'ebike': 4}</td>\n      <td>{'mechanical': 38, 'ebike': 5}</td>\n      <td>{'mechanical': 39, 'ebike': 4}</td>\n      <td>{'mechanical': 40, 'ebike': 5}</td>\n      <td>...</td>\n      <td>{'mechanical': 2, 'ebike': 0}</td>\n      <td>{'mechanical': 2, 'ebike': 0}</td>\n      <td>{'mechanical': 2, 'ebike': 0}</td>\n      <td>{'mechanical': 2, 'ebike': 1}</td>\n      <td>{'mechanical': 2, 'ebike': 1}</td>\n      <td>{'mechanical': 2, 'ebike': 0}</td>\n      <td>{'mechanical': 2, 'ebike': 0}</td>\n      <td>{'mechanical': 2, 'ebike': 0}</td>\n      <td>{'mechanical': 2, 'ebike': 0}</td>\n      <td>{'mechanical': 2, 'ebike': 0}</td>\n    </tr>\n    <tr>\n      <th>2</th>\n      <td>516709288</td>\n      <td>{'mechanical': 0, 'ebike': 1}</td>\n      <td>{'mechanical': 0, 'ebike': 1}</td>\n      <td>{'mechanical': 0, 'ebike': 1}</td>\n      <td>{'mechanical': 1, 'ebike': 1}</td>\n      <td>{'mechanical': 1, 'ebike': 1}</td>\n      <td>{'mechanical': 1, 'ebike': 1}</td>\n      <td>{'mechanical': 2, 'ebike': 1}</td>\n      <td>{'mechanical': 0, 'ebike': 1}</td>\n      <td>{'mechanical': 0, 'ebike': 1}</td>\n      <td>...</td>\n      <td>{'mechanical': 1, 'ebike': 2}</td>\n      <td>{'mechanical': 1, 'ebike': 2}</td>\n      <td>{'mechanical': 1, 'ebike': 2}</td>\n      <td>{'mechanical': 1, 'ebike': 2}</td>\n      <td>{'mechanical': 1, 'ebike': 2}</td>\n      <td>{'mechanical': 1, 'ebike': 3}</td>\n      <td>{'mechanical': 1, 'ebike': 2}</td>\n      <td>{'mechanical': 1, 'ebike': 3}</td>\n      <td>{'mechanical': 1, 'ebike': 3}</td>\n      <td>{'mechanical': 1, 'ebike': 3}</td>\n    </tr>\n    <tr>\n      <th>3</th>\n      <td>36255</td>\n      <td>{'mechanical': 0, 'ebike': 0}</td>\n      <td>{'mechanical': 0, 'ebike': 0}</td>\n      <td>{'mechanical': 0, 'ebike': 0}</td>\n      <td>{'mechanical': 0, 'ebike': 0}</td>\n      <td>{'mechanical': 0, 'ebike': 2}</td>\n      <td>{'mechanical': 0, 'ebike': 4}</td>\n      <td>{'mechanical': 0, 'ebike': 4}</td>\n      <td>{'mechanical': 0, 'ebike': 4}</td>\n      <td>{'mechanical': 1, 'ebike': 3}</td>\n      <td>...</td>\n      <td>{'mechanical': 0, 'ebike': 3}</td>\n      <td>{'mechanical': 0, 'ebike': 3}</td>\n      <td>{'mechanical': 0, 'ebike': 3}</td>\n      <td>{'mechanical': 0, 'ebike': 3}</td>\n      <td>{'mechanical': 0, 'ebike': 2}</td>\n      <td>{'mechanical': 0, 'ebike': 2}</td>\n      <td>{'mechanical': 0, 'ebike': 3}</td>\n      <td>{'mechanical': 0, 'ebike': 3}</td>\n      <td>{'mechanical': 0, 'ebike': 3}</td>\n      <td>{'mechanical': 0, 'ebike': 2}</td>\n    </tr>\n    <tr>\n      <th>4</th>\n      <td>37815204</td>\n      <td>{'mechanical': 4, 'ebike': 1}</td>\n      <td>{'mechanical': 3, 'ebike': 1}</td>\n      <td>{'mechanical': 1, 'ebike': 1}</td>\n      <td>{'mechanical': 1, 'ebike': 1}</td>\n      <td>{'mechanical': 2, 'ebike': 1}</td>\n      <td>{'mechanical': 3, 'ebike': 1}</td>\n      <td>{'mechanical': 3, 'ebike': 2}</td>\n      <td>{'mechanical': 2, 'ebike': 0}</td>\n      <td>{'mechanical': 2, 'ebike': 0}</td>\n      <td>...</td>\n      <td>{'mechanical': 6, 'ebike': 0}</td>\n      <td>{'mechanical': 7, 'ebike': 0}</td>\n      <td>{'mechanical': 7, 'ebike': 0}</td>\n      <td>{'mechanical': 7, 'ebike': 1}</td>\n      <td>{'mechanical': 7, 'ebike': 1}</td>\n      <td>{'mechanical': 8, 'ebike': 1}</td>\n      <td>{'mechanical': 9, 'ebike': 0}</td>\n      <td>{'mechanical': 10, 'ebike': 0}</td>\n      <td>{'mechanical': 9, 'ebike': 0}</td>\n      <td>{'mechanical': 9, 'ebike': 0}</td>\n    </tr>\n  </tbody>\n</table>\n<p>5 rows × 4295 columns</p>\n</div>"
     },
     "metadata": {},
     "execution_count": 2
    }
   ],
   "source": [
    "velib = pd.read_csv(r\"/Users/Romain/Documents/Romain/ENSAE 2A 2020-2021/Stat'App/Github Stat'App/velib_clean.csv\")\n",
    "velib.head()"
   ]
  },
  {
   "source": [
    "### Mise en forme des données"
   ],
   "cell_type": "markdown",
   "metadata": {}
  },
  {
   "cell_type": "code",
   "execution_count": 3,
   "metadata": {},
   "outputs": [],
   "source": [
    "# Création d'une fonction pour convertir le format des données en un dictionnaire.\n",
    "def to_dictionary(jour):\n",
    "    \"\"\"transformer le format en dico\"\"\"\n",
    "    try :\n",
    "        dictionary = eval(jour)\n",
    "    except:\n",
    "        dictionary = {'mechanical': 0, 'ebike': 0}\n",
    "    \n",
    "    return dictionary\n",
    "\n",
    "# Mise en forme du dataframe velib en mettant le nombre de vélos dans un dictionnaire\n",
    "col_vide='[{}, {}]'\n",
    "colonnes_vides=[]\n",
    "for j in velib.columns:\n",
    "    if velib[j][0]==col_vide:\n",
    "        print(j)\n",
    "        colonnes_vides.append(j)\n",
    "velib=velib.drop(colonnes_vides,axis=1)\n",
    "\n",
    "# On applique la fonction pour convertir en dictionnaire\n",
    "longueur_du_dataframe = len(velib.iloc[1])\n",
    "for i,j in enumerate(velib.columns[1:]):\n",
    "    velib[j] = [to_dictionary(i) for i in velib[j]]"
   ]
  },
  {
   "cell_type": "code",
   "execution_count": 4,
   "metadata": {},
   "outputs": [
    {
     "output_type": "execute_result",
     "data": {
      "text/plain": [
       "   station_id               10/19/20;18:01:51               10/19/20;18:06:52  \\\n",
       "0   213688169   {'mechanical': 0, 'ebike': 2}   {'mechanical': 0, 'ebike': 2}   \n",
       "1    99950133  {'mechanical': 41, 'ebike': 5}  {'mechanical': 41, 'ebike': 5}   \n",
       "2   516709288   {'mechanical': 0, 'ebike': 1}   {'mechanical': 0, 'ebike': 1}   \n",
       "3       36255   {'mechanical': 0, 'ebike': 0}   {'mechanical': 0, 'ebike': 0}   \n",
       "4    37815204   {'mechanical': 4, 'ebike': 1}   {'mechanical': 3, 'ebike': 1}   \n",
       "\n",
       "                10/19/20;18:11:52               10/19/20;18:16:52  \\\n",
       "0   {'mechanical': 0, 'ebike': 2}   {'mechanical': 0, 'ebike': 3}   \n",
       "1  {'mechanical': 42, 'ebike': 5}  {'mechanical': 42, 'ebike': 7}   \n",
       "2   {'mechanical': 0, 'ebike': 1}   {'mechanical': 1, 'ebike': 1}   \n",
       "3   {'mechanical': 0, 'ebike': 0}   {'mechanical': 0, 'ebike': 0}   \n",
       "4   {'mechanical': 1, 'ebike': 1}   {'mechanical': 1, 'ebike': 1}   \n",
       "\n",
       "                10/19/20;18:21:52               10/19/20;18:26:53  \\\n",
       "0   {'mechanical': 0, 'ebike': 3}   {'mechanical': 1, 'ebike': 2}   \n",
       "1  {'mechanical': 41, 'ebike': 5}  {'mechanical': 40, 'ebike': 4}   \n",
       "2   {'mechanical': 1, 'ebike': 1}   {'mechanical': 1, 'ebike': 1}   \n",
       "3   {'mechanical': 0, 'ebike': 2}   {'mechanical': 0, 'ebike': 4}   \n",
       "4   {'mechanical': 2, 'ebike': 1}   {'mechanical': 3, 'ebike': 1}   \n",
       "\n",
       "                10/19/20;18:31:53               10/19/20;18:36:53  \\\n",
       "0   {'mechanical': 0, 'ebike': 1}   {'mechanical': 0, 'ebike': 1}   \n",
       "1  {'mechanical': 38, 'ebike': 5}  {'mechanical': 39, 'ebike': 4}   \n",
       "2   {'mechanical': 2, 'ebike': 1}   {'mechanical': 0, 'ebike': 1}   \n",
       "3   {'mechanical': 0, 'ebike': 4}   {'mechanical': 0, 'ebike': 4}   \n",
       "4   {'mechanical': 3, 'ebike': 2}   {'mechanical': 2, 'ebike': 0}   \n",
       "\n",
       "                10/19/20;18:41:54  ...              11/03/20;16:01:46  \\\n",
       "0   {'mechanical': 0, 'ebike': 1}  ...  {'mechanical': 4, 'ebike': 6}   \n",
       "1  {'mechanical': 40, 'ebike': 5}  ...  {'mechanical': 2, 'ebike': 0}   \n",
       "2   {'mechanical': 0, 'ebike': 1}  ...  {'mechanical': 1, 'ebike': 2}   \n",
       "3   {'mechanical': 1, 'ebike': 3}  ...  {'mechanical': 0, 'ebike': 3}   \n",
       "4   {'mechanical': 2, 'ebike': 0}  ...  {'mechanical': 6, 'ebike': 0}   \n",
       "\n",
       "               11/03/20;16:06:47              11/03/20;16:11:47  \\\n",
       "0  {'mechanical': 4, 'ebike': 6}  {'mechanical': 3, 'ebike': 6}   \n",
       "1  {'mechanical': 2, 'ebike': 0}  {'mechanical': 2, 'ebike': 0}   \n",
       "2  {'mechanical': 1, 'ebike': 2}  {'mechanical': 1, 'ebike': 2}   \n",
       "3  {'mechanical': 0, 'ebike': 3}  {'mechanical': 0, 'ebike': 3}   \n",
       "4  {'mechanical': 7, 'ebike': 0}  {'mechanical': 7, 'ebike': 0}   \n",
       "\n",
       "               11/03/20;16:16:47              11/03/20;16:21:48  \\\n",
       "0  {'mechanical': 4, 'ebike': 7}  {'mechanical': 5, 'ebike': 7}   \n",
       "1  {'mechanical': 2, 'ebike': 1}  {'mechanical': 2, 'ebike': 1}   \n",
       "2  {'mechanical': 1, 'ebike': 2}  {'mechanical': 1, 'ebike': 2}   \n",
       "3  {'mechanical': 0, 'ebike': 3}  {'mechanical': 0, 'ebike': 2}   \n",
       "4  {'mechanical': 7, 'ebike': 1}  {'mechanical': 7, 'ebike': 1}   \n",
       "\n",
       "               11/03/20;16:26:48              11/03/20;16:31:48  \\\n",
       "0  {'mechanical': 5, 'ebike': 7}  {'mechanical': 5, 'ebike': 8}   \n",
       "1  {'mechanical': 2, 'ebike': 0}  {'mechanical': 2, 'ebike': 0}   \n",
       "2  {'mechanical': 1, 'ebike': 3}  {'mechanical': 1, 'ebike': 2}   \n",
       "3  {'mechanical': 0, 'ebike': 2}  {'mechanical': 0, 'ebike': 3}   \n",
       "4  {'mechanical': 8, 'ebike': 1}  {'mechanical': 9, 'ebike': 0}   \n",
       "\n",
       "                11/03/20;16:36:49              11/03/20;16:41:49  \\\n",
       "0   {'mechanical': 5, 'ebike': 8}  {'mechanical': 5, 'ebike': 8}   \n",
       "1   {'mechanical': 2, 'ebike': 0}  {'mechanical': 2, 'ebike': 0}   \n",
       "2   {'mechanical': 1, 'ebike': 3}  {'mechanical': 1, 'ebike': 3}   \n",
       "3   {'mechanical': 0, 'ebike': 3}  {'mechanical': 0, 'ebike': 3}   \n",
       "4  {'mechanical': 10, 'ebike': 0}  {'mechanical': 9, 'ebike': 0}   \n",
       "\n",
       "               11/03/20;16:46:49  \n",
       "0  {'mechanical': 5, 'ebike': 7}  \n",
       "1  {'mechanical': 2, 'ebike': 0}  \n",
       "2  {'mechanical': 1, 'ebike': 3}  \n",
       "3  {'mechanical': 0, 'ebike': 2}  \n",
       "4  {'mechanical': 9, 'ebike': 0}  \n",
       "\n",
       "[5 rows x 4295 columns]"
      ],
      "text/html": "<div>\n<style scoped>\n    .dataframe tbody tr th:only-of-type {\n        vertical-align: middle;\n    }\n\n    .dataframe tbody tr th {\n        vertical-align: top;\n    }\n\n    .dataframe thead th {\n        text-align: right;\n    }\n</style>\n<table border=\"1\" class=\"dataframe\">\n  <thead>\n    <tr style=\"text-align: right;\">\n      <th></th>\n      <th>station_id</th>\n      <th>10/19/20;18:01:51</th>\n      <th>10/19/20;18:06:52</th>\n      <th>10/19/20;18:11:52</th>\n      <th>10/19/20;18:16:52</th>\n      <th>10/19/20;18:21:52</th>\n      <th>10/19/20;18:26:53</th>\n      <th>10/19/20;18:31:53</th>\n      <th>10/19/20;18:36:53</th>\n      <th>10/19/20;18:41:54</th>\n      <th>...</th>\n      <th>11/03/20;16:01:46</th>\n      <th>11/03/20;16:06:47</th>\n      <th>11/03/20;16:11:47</th>\n      <th>11/03/20;16:16:47</th>\n      <th>11/03/20;16:21:48</th>\n      <th>11/03/20;16:26:48</th>\n      <th>11/03/20;16:31:48</th>\n      <th>11/03/20;16:36:49</th>\n      <th>11/03/20;16:41:49</th>\n      <th>11/03/20;16:46:49</th>\n    </tr>\n  </thead>\n  <tbody>\n    <tr>\n      <th>0</th>\n      <td>213688169</td>\n      <td>{'mechanical': 0, 'ebike': 2}</td>\n      <td>{'mechanical': 0, 'ebike': 2}</td>\n      <td>{'mechanical': 0, 'ebike': 2}</td>\n      <td>{'mechanical': 0, 'ebike': 3}</td>\n      <td>{'mechanical': 0, 'ebike': 3}</td>\n      <td>{'mechanical': 1, 'ebike': 2}</td>\n      <td>{'mechanical': 0, 'ebike': 1}</td>\n      <td>{'mechanical': 0, 'ebike': 1}</td>\n      <td>{'mechanical': 0, 'ebike': 1}</td>\n      <td>...</td>\n      <td>{'mechanical': 4, 'ebike': 6}</td>\n      <td>{'mechanical': 4, 'ebike': 6}</td>\n      <td>{'mechanical': 3, 'ebike': 6}</td>\n      <td>{'mechanical': 4, 'ebike': 7}</td>\n      <td>{'mechanical': 5, 'ebike': 7}</td>\n      <td>{'mechanical': 5, 'ebike': 7}</td>\n      <td>{'mechanical': 5, 'ebike': 8}</td>\n      <td>{'mechanical': 5, 'ebike': 8}</td>\n      <td>{'mechanical': 5, 'ebike': 8}</td>\n      <td>{'mechanical': 5, 'ebike': 7}</td>\n    </tr>\n    <tr>\n      <th>1</th>\n      <td>99950133</td>\n      <td>{'mechanical': 41, 'ebike': 5}</td>\n      <td>{'mechanical': 41, 'ebike': 5}</td>\n      <td>{'mechanical': 42, 'ebike': 5}</td>\n      <td>{'mechanical': 42, 'ebike': 7}</td>\n      <td>{'mechanical': 41, 'ebike': 5}</td>\n      <td>{'mechanical': 40, 'ebike': 4}</td>\n      <td>{'mechanical': 38, 'ebike': 5}</td>\n      <td>{'mechanical': 39, 'ebike': 4}</td>\n      <td>{'mechanical': 40, 'ebike': 5}</td>\n      <td>...</td>\n      <td>{'mechanical': 2, 'ebike': 0}</td>\n      <td>{'mechanical': 2, 'ebike': 0}</td>\n      <td>{'mechanical': 2, 'ebike': 0}</td>\n      <td>{'mechanical': 2, 'ebike': 1}</td>\n      <td>{'mechanical': 2, 'ebike': 1}</td>\n      <td>{'mechanical': 2, 'ebike': 0}</td>\n      <td>{'mechanical': 2, 'ebike': 0}</td>\n      <td>{'mechanical': 2, 'ebike': 0}</td>\n      <td>{'mechanical': 2, 'ebike': 0}</td>\n      <td>{'mechanical': 2, 'ebike': 0}</td>\n    </tr>\n    <tr>\n      <th>2</th>\n      <td>516709288</td>\n      <td>{'mechanical': 0, 'ebike': 1}</td>\n      <td>{'mechanical': 0, 'ebike': 1}</td>\n      <td>{'mechanical': 0, 'ebike': 1}</td>\n      <td>{'mechanical': 1, 'ebike': 1}</td>\n      <td>{'mechanical': 1, 'ebike': 1}</td>\n      <td>{'mechanical': 1, 'ebike': 1}</td>\n      <td>{'mechanical': 2, 'ebike': 1}</td>\n      <td>{'mechanical': 0, 'ebike': 1}</td>\n      <td>{'mechanical': 0, 'ebike': 1}</td>\n      <td>...</td>\n      <td>{'mechanical': 1, 'ebike': 2}</td>\n      <td>{'mechanical': 1, 'ebike': 2}</td>\n      <td>{'mechanical': 1, 'ebike': 2}</td>\n      <td>{'mechanical': 1, 'ebike': 2}</td>\n      <td>{'mechanical': 1, 'ebike': 2}</td>\n      <td>{'mechanical': 1, 'ebike': 3}</td>\n      <td>{'mechanical': 1, 'ebike': 2}</td>\n      <td>{'mechanical': 1, 'ebike': 3}</td>\n      <td>{'mechanical': 1, 'ebike': 3}</td>\n      <td>{'mechanical': 1, 'ebike': 3}</td>\n    </tr>\n    <tr>\n      <th>3</th>\n      <td>36255</td>\n      <td>{'mechanical': 0, 'ebike': 0}</td>\n      <td>{'mechanical': 0, 'ebike': 0}</td>\n      <td>{'mechanical': 0, 'ebike': 0}</td>\n      <td>{'mechanical': 0, 'ebike': 0}</td>\n      <td>{'mechanical': 0, 'ebike': 2}</td>\n      <td>{'mechanical': 0, 'ebike': 4}</td>\n      <td>{'mechanical': 0, 'ebike': 4}</td>\n      <td>{'mechanical': 0, 'ebike': 4}</td>\n      <td>{'mechanical': 1, 'ebike': 3}</td>\n      <td>...</td>\n      <td>{'mechanical': 0, 'ebike': 3}</td>\n      <td>{'mechanical': 0, 'ebike': 3}</td>\n      <td>{'mechanical': 0, 'ebike': 3}</td>\n      <td>{'mechanical': 0, 'ebike': 3}</td>\n      <td>{'mechanical': 0, 'ebike': 2}</td>\n      <td>{'mechanical': 0, 'ebike': 2}</td>\n      <td>{'mechanical': 0, 'ebike': 3}</td>\n      <td>{'mechanical': 0, 'ebike': 3}</td>\n      <td>{'mechanical': 0, 'ebike': 3}</td>\n      <td>{'mechanical': 0, 'ebike': 2}</td>\n    </tr>\n    <tr>\n      <th>4</th>\n      <td>37815204</td>\n      <td>{'mechanical': 4, 'ebike': 1}</td>\n      <td>{'mechanical': 3, 'ebike': 1}</td>\n      <td>{'mechanical': 1, 'ebike': 1}</td>\n      <td>{'mechanical': 1, 'ebike': 1}</td>\n      <td>{'mechanical': 2, 'ebike': 1}</td>\n      <td>{'mechanical': 3, 'ebike': 1}</td>\n      <td>{'mechanical': 3, 'ebike': 2}</td>\n      <td>{'mechanical': 2, 'ebike': 0}</td>\n      <td>{'mechanical': 2, 'ebike': 0}</td>\n      <td>...</td>\n      <td>{'mechanical': 6, 'ebike': 0}</td>\n      <td>{'mechanical': 7, 'ebike': 0}</td>\n      <td>{'mechanical': 7, 'ebike': 0}</td>\n      <td>{'mechanical': 7, 'ebike': 1}</td>\n      <td>{'mechanical': 7, 'ebike': 1}</td>\n      <td>{'mechanical': 8, 'ebike': 1}</td>\n      <td>{'mechanical': 9, 'ebike': 0}</td>\n      <td>{'mechanical': 10, 'ebike': 0}</td>\n      <td>{'mechanical': 9, 'ebike': 0}</td>\n      <td>{'mechanical': 9, 'ebike': 0}</td>\n    </tr>\n  </tbody>\n</table>\n<p>5 rows × 4295 columns</p>\n</div>"
     },
     "metadata": {},
     "execution_count": 4
    }
   ],
   "source": [
    "velib.head()"
   ]
  },
  {
   "cell_type": "code",
   "execution_count": 5,
   "metadata": {},
   "outputs": [
    {
     "output_type": "execute_result",
     "data": {
      "text/plain": [
       "numpy.int64"
      ]
     },
     "metadata": {},
     "execution_count": 5
    }
   ],
   "source": [
    "type(velib['station_id'][2])"
   ]
  },
  {
   "cell_type": "code",
   "execution_count": 6,
   "metadata": {},
   "outputs": [],
   "source": [
    "def to_str(var):\n",
    "    if type(var) is list:\n",
    "        return str(var)[1:-1] # list\n",
    "    if type(var) is np.ndarray:\n",
    "        try:\n",
    "            return str(list(var[0]))[1:-1] # numpy 1D array\n",
    "        except TypeError:\n",
    "            return str(list(var))[1:-1] # numpy sequence\n",
    "    return str(var) # everything else"
   ]
  },
  {
   "cell_type": "code",
   "execution_count": 7,
   "metadata": {},
   "outputs": [
    {
     "output_type": "execute_result",
     "data": {
      "text/plain": [
       "numpy.int64"
      ]
     },
     "metadata": {},
     "execution_count": 7
    }
   ],
   "source": [
    "type(velib['station_id'][2])"
   ]
  },
  {
   "cell_type": "code",
   "execution_count": 8,
   "metadata": {},
   "outputs": [
    {
     "output_type": "execute_result",
     "data": {
      "text/plain": [
       "'516709288'"
      ]
     },
     "metadata": {},
     "execution_count": 8
    }
   ],
   "source": [
    "np.str(velib['station_id'][2])"
   ]
  },
  {
   "cell_type": "code",
   "execution_count": 9,
   "metadata": {},
   "outputs": [],
   "source": [
    "toutes_les_stations = []\n",
    "for i in range(len(velib)):\n",
    "    toutes_les_stations.append(np.str(velib['station_id'][i]))"
   ]
  },
  {
   "cell_type": "code",
   "execution_count": 10,
   "metadata": {},
   "outputs": [
    {
     "output_type": "execute_result",
     "data": {
      "text/plain": [
       "41"
      ]
     },
     "metadata": {},
     "execution_count": 10
    }
   ],
   "source": [
    "velib['10/19/20;18:01:51'][1]['mechanical']"
   ]
  },
  {
   "source": [
    "# Prédiction du nombre de vélos à la date t+1 en entrainant l'algorithme à la date t : exemple du 1er novembre à 10h pour prédire le 2 novembre à 10h. "
   ],
   "cell_type": "markdown",
   "metadata": {}
  },
  {
   "cell_type": "code",
   "execution_count": 11,
   "metadata": {},
   "outputs": [],
   "source": [
    "tous_les_velibs = velib.copy()"
   ]
  },
  {
   "source": [
    "D'abord, on ne considère que les colonnes correspondant au 1er novembre et au 2 novembre."
   ],
   "cell_type": "markdown",
   "metadata": {}
  },
  {
   "cell_type": "code",
   "execution_count": 12,
   "metadata": {},
   "outputs": [],
   "source": [
    "colonnest1 = ['station_id']\n",
    "colonnest2 = ['station_id']\n",
    "date1 = \"11/01/20\"\n",
    "date2 = \"11/02/20\"\n",
    "\n",
    "for i in tous_les_velibs:\n",
    "    if (date1 in i):\n",
    "        colonnest1.append(i)\n",
    "    elif (date2 in i):\n",
    "        colonnest2.append(i)"
   ]
  },
  {
   "source": [
    "### On construit les 2 dataframes qui nous intéressent : **df1** à la date T et **df2** à la date T+1"
   ],
   "cell_type": "markdown",
   "metadata": {}
  },
  {
   "cell_type": "code",
   "execution_count": 13,
   "metadata": {},
   "outputs": [],
   "source": [
    "df_t1 = velib[colonnest1].set_index('station_id').transpose()\n",
    "df_t2 = velib[colonnest2].set_index('station_id').transpose()"
   ]
  },
  {
   "cell_type": "code",
   "execution_count": 14,
   "metadata": {},
   "outputs": [
    {
     "output_type": "execute_result",
     "data": {
      "text/plain": [
       "station_id                             213688169  \\\n",
       "11/01/20;00:04:43  {'mechanical': 2, 'ebike': 4}   \n",
       "11/01/20;00:09:43  {'mechanical': 2, 'ebike': 3}   \n",
       "11/01/20;00:14:44  {'mechanical': 2, 'ebike': 3}   \n",
       "11/01/20;00:19:44  {'mechanical': 2, 'ebike': 2}   \n",
       "11/01/20;00:24:44  {'mechanical': 2, 'ebike': 2}   \n",
       "\n",
       "station_id                              99950133   \\\n",
       "11/01/20;00:04:43  {'mechanical': 24, 'ebike': 6}   \n",
       "11/01/20;00:09:43  {'mechanical': 25, 'ebike': 5}   \n",
       "11/01/20;00:14:44  {'mechanical': 25, 'ebike': 5}   \n",
       "11/01/20;00:19:44  {'mechanical': 25, 'ebike': 5}   \n",
       "11/01/20;00:24:44  {'mechanical': 25, 'ebike': 5}   \n",
       "\n",
       "station_id                             516709288  \\\n",
       "11/01/20;00:04:43  {'mechanical': 4, 'ebike': 9}   \n",
       "11/01/20;00:09:43  {'mechanical': 4, 'ebike': 9}   \n",
       "11/01/20;00:14:44  {'mechanical': 4, 'ebike': 9}   \n",
       "11/01/20;00:19:44  {'mechanical': 4, 'ebike': 9}   \n",
       "11/01/20;00:24:44  {'mechanical': 4, 'ebike': 9}   \n",
       "\n",
       "station_id                             36255      \\\n",
       "11/01/20;00:04:43  {'mechanical': 4, 'ebike': 9}   \n",
       "11/01/20;00:09:43  {'mechanical': 4, 'ebike': 9}   \n",
       "11/01/20;00:14:44  {'mechanical': 4, 'ebike': 9}   \n",
       "11/01/20;00:19:44  {'mechanical': 4, 'ebike': 8}   \n",
       "11/01/20;00:24:44  {'mechanical': 4, 'ebike': 8}   \n",
       "\n",
       "station_id                              37815204   \\\n",
       "11/01/20;00:04:43  {'mechanical': 22, 'ebike': 6}   \n",
       "11/01/20;00:09:43  {'mechanical': 22, 'ebike': 6}   \n",
       "11/01/20;00:14:44  {'mechanical': 22, 'ebike': 6}   \n",
       "11/01/20;00:19:44  {'mechanical': 22, 'ebike': 6}   \n",
       "11/01/20;00:24:44  {'mechanical': 22, 'ebike': 6}   \n",
       "\n",
       "station_id                              100769544  \\\n",
       "11/01/20;00:04:43  {'mechanical': 25, 'ebike': 6}   \n",
       "11/01/20;00:09:43  {'mechanical': 25, 'ebike': 6}   \n",
       "11/01/20;00:14:44  {'mechanical': 25, 'ebike': 6}   \n",
       "11/01/20;00:19:44  {'mechanical': 25, 'ebike': 6}   \n",
       "11/01/20;00:24:44  {'mechanical': 25, 'ebike': 6}   \n",
       "\n",
       "station_id                               85002689   \\\n",
       "11/01/20;00:04:43  {'mechanical': 17, 'ebike': 15}   \n",
       "11/01/20;00:09:43  {'mechanical': 17, 'ebike': 15}   \n",
       "11/01/20;00:14:44  {'mechanical': 17, 'ebike': 15}   \n",
       "11/01/20;00:19:44  {'mechanical': 17, 'ebike': 15}   \n",
       "11/01/20;00:24:44  {'mechanical': 17, 'ebike': 15}   \n",
       "\n",
       "station_id                             54000559   \\\n",
       "11/01/20;00:04:43  {'mechanical': 3, 'ebike': 5}   \n",
       "11/01/20;00:09:43  {'mechanical': 3, 'ebike': 5}   \n",
       "11/01/20;00:14:44  {'mechanical': 3, 'ebike': 5}   \n",
       "11/01/20;00:19:44  {'mechanical': 3, 'ebike': 5}   \n",
       "11/01/20;00:24:44  {'mechanical': 3, 'ebike': 5}   \n",
       "\n",
       "station_id                             85043758   \\\n",
       "11/01/20;00:04:43  {'mechanical': 1, 'ebike': 3}   \n",
       "11/01/20;00:09:43  {'mechanical': 1, 'ebike': 3}   \n",
       "11/01/20;00:14:44  {'mechanical': 1, 'ebike': 3}   \n",
       "11/01/20;00:19:44  {'mechanical': 1, 'ebike': 3}   \n",
       "11/01/20;00:24:44  {'mechanical': 1, 'ebike': 3}   \n",
       "\n",
       "station_id                              123095125  ...  \\\n",
       "11/01/20;00:04:43  {'mechanical': 27, 'ebike': 1}  ...   \n",
       "11/01/20;00:09:43  {'mechanical': 27, 'ebike': 1}  ...   \n",
       "11/01/20;00:14:44  {'mechanical': 27, 'ebike': 1}  ...   \n",
       "11/01/20;00:19:44  {'mechanical': 27, 'ebike': 1}  ...   \n",
       "11/01/20;00:24:44  {'mechanical': 27, 'ebike': 1}  ...   \n",
       "\n",
       "station_id                             125881065  \\\n",
       "11/01/20;00:04:43  {'mechanical': 4, 'ebike': 4}   \n",
       "11/01/20;00:09:43  {'mechanical': 4, 'ebike': 4}   \n",
       "11/01/20;00:14:44  {'mechanical': 4, 'ebike': 4}   \n",
       "11/01/20;00:19:44  {'mechanical': 4, 'ebike': 4}   \n",
       "11/01/20;00:24:44  {'mechanical': 4, 'ebike': 4}   \n",
       "\n",
       "station_id                              54000627   \\\n",
       "11/01/20;00:04:43  {'mechanical': 19, 'ebike': 2}   \n",
       "11/01/20;00:09:43  {'mechanical': 19, 'ebike': 2}   \n",
       "11/01/20;00:14:44  {'mechanical': 19, 'ebike': 2}   \n",
       "11/01/20;00:19:44  {'mechanical': 19, 'ebike': 2}   \n",
       "11/01/20;00:24:44  {'mechanical': 19, 'ebike': 2}   \n",
       "\n",
       "station_id                             15377776   \\\n",
       "11/01/20;00:04:43  {'mechanical': 3, 'ebike': 1}   \n",
       "11/01/20;00:09:43  {'mechanical': 3, 'ebike': 1}   \n",
       "11/01/20;00:14:44  {'mechanical': 3, 'ebike': 1}   \n",
       "11/01/20;00:19:44  {'mechanical': 3, 'ebike': 1}   \n",
       "11/01/20;00:24:44  {'mechanical': 3, 'ebike': 1}   \n",
       "\n",
       "station_id                             84961467   \\\n",
       "11/01/20;00:04:43  {'mechanical': 4, 'ebike': 7}   \n",
       "11/01/20;00:09:43  {'mechanical': 4, 'ebike': 7}   \n",
       "11/01/20;00:14:44  {'mechanical': 4, 'ebike': 7}   \n",
       "11/01/20;00:19:44  {'mechanical': 4, 'ebike': 7}   \n",
       "11/01/20;00:24:44  {'mechanical': 4, 'ebike': 7}   \n",
       "\n",
       "station_id                             54000629   \\\n",
       "11/01/20;00:04:43  {'mechanical': 8, 'ebike': 4}   \n",
       "11/01/20;00:09:43  {'mechanical': 8, 'ebike': 4}   \n",
       "11/01/20;00:14:44  {'mechanical': 8, 'ebike': 4}   \n",
       "11/01/20;00:19:44  {'mechanical': 8, 'ebike': 4}   \n",
       "11/01/20;00:24:44  {'mechanical': 8, 'ebike': 4}   \n",
       "\n",
       "station_id                              27415004   \\\n",
       "11/01/20;00:04:43  {'mechanical': 21, 'ebike': 5}   \n",
       "11/01/20;00:09:43  {'mechanical': 21, 'ebike': 5}   \n",
       "11/01/20;00:14:44  {'mechanical': 21, 'ebike': 5}   \n",
       "11/01/20;00:19:44  {'mechanical': 21, 'ebike': 5}   \n",
       "11/01/20;00:24:44  {'mechanical': 21, 'ebike': 5}   \n",
       "\n",
       "station_id                             27415128   \\\n",
       "11/01/20;00:04:43  {'mechanical': 6, 'ebike': 6}   \n",
       "11/01/20;00:09:43  {'mechanical': 6, 'ebike': 6}   \n",
       "11/01/20;00:14:44  {'mechanical': 6, 'ebike': 6}   \n",
       "11/01/20;00:19:44  {'mechanical': 6, 'ebike': 5}   \n",
       "11/01/20;00:24:44  {'mechanical': 6, 'ebike': 5}   \n",
       "\n",
       "station_id                              27414937   \\\n",
       "11/01/20;00:04:43  {'mechanical': 19, 'ebike': 8}   \n",
       "11/01/20;00:09:43  {'mechanical': 19, 'ebike': 8}   \n",
       "11/01/20;00:14:44  {'mechanical': 19, 'ebike': 8}   \n",
       "11/01/20;00:19:44  {'mechanical': 19, 'ebike': 8}   \n",
       "11/01/20;00:24:44  {'mechanical': 19, 'ebike': 8}   \n",
       "\n",
       "station_id                             66507230   \\\n",
       "11/01/20;00:04:43  {'mechanical': 6, 'ebike': 1}   \n",
       "11/01/20;00:09:43  {'mechanical': 6, 'ebike': 1}   \n",
       "11/01/20;00:14:44  {'mechanical': 6, 'ebike': 1}   \n",
       "11/01/20;00:19:44  {'mechanical': 6, 'ebike': 1}   \n",
       "11/01/20;00:24:44  {'mechanical': 6, 'ebike': 1}   \n",
       "\n",
       "station_id                             100227241  \n",
       "11/01/20;00:04:43  {'mechanical': 9, 'ebike': 1}  \n",
       "11/01/20;00:09:43  {'mechanical': 9, 'ebike': 1}  \n",
       "11/01/20;00:14:44  {'mechanical': 9, 'ebike': 1}  \n",
       "11/01/20;00:19:44  {'mechanical': 9, 'ebike': 1}  \n",
       "11/01/20;00:24:44  {'mechanical': 9, 'ebike': 1}  \n",
       "\n",
       "[5 rows x 1398 columns]"
      ],
      "text/html": "<div>\n<style scoped>\n    .dataframe tbody tr th:only-of-type {\n        vertical-align: middle;\n    }\n\n    .dataframe tbody tr th {\n        vertical-align: top;\n    }\n\n    .dataframe thead th {\n        text-align: right;\n    }\n</style>\n<table border=\"1\" class=\"dataframe\">\n  <thead>\n    <tr style=\"text-align: right;\">\n      <th>station_id</th>\n      <th>213688169</th>\n      <th>99950133</th>\n      <th>516709288</th>\n      <th>36255</th>\n      <th>37815204</th>\n      <th>100769544</th>\n      <th>85002689</th>\n      <th>54000559</th>\n      <th>85043758</th>\n      <th>123095125</th>\n      <th>...</th>\n      <th>125881065</th>\n      <th>54000627</th>\n      <th>15377776</th>\n      <th>84961467</th>\n      <th>54000629</th>\n      <th>27415004</th>\n      <th>27415128</th>\n      <th>27414937</th>\n      <th>66507230</th>\n      <th>100227241</th>\n    </tr>\n  </thead>\n  <tbody>\n    <tr>\n      <th>11/01/20;00:04:43</th>\n      <td>{'mechanical': 2, 'ebike': 4}</td>\n      <td>{'mechanical': 24, 'ebike': 6}</td>\n      <td>{'mechanical': 4, 'ebike': 9}</td>\n      <td>{'mechanical': 4, 'ebike': 9}</td>\n      <td>{'mechanical': 22, 'ebike': 6}</td>\n      <td>{'mechanical': 25, 'ebike': 6}</td>\n      <td>{'mechanical': 17, 'ebike': 15}</td>\n      <td>{'mechanical': 3, 'ebike': 5}</td>\n      <td>{'mechanical': 1, 'ebike': 3}</td>\n      <td>{'mechanical': 27, 'ebike': 1}</td>\n      <td>...</td>\n      <td>{'mechanical': 4, 'ebike': 4}</td>\n      <td>{'mechanical': 19, 'ebike': 2}</td>\n      <td>{'mechanical': 3, 'ebike': 1}</td>\n      <td>{'mechanical': 4, 'ebike': 7}</td>\n      <td>{'mechanical': 8, 'ebike': 4}</td>\n      <td>{'mechanical': 21, 'ebike': 5}</td>\n      <td>{'mechanical': 6, 'ebike': 6}</td>\n      <td>{'mechanical': 19, 'ebike': 8}</td>\n      <td>{'mechanical': 6, 'ebike': 1}</td>\n      <td>{'mechanical': 9, 'ebike': 1}</td>\n    </tr>\n    <tr>\n      <th>11/01/20;00:09:43</th>\n      <td>{'mechanical': 2, 'ebike': 3}</td>\n      <td>{'mechanical': 25, 'ebike': 5}</td>\n      <td>{'mechanical': 4, 'ebike': 9}</td>\n      <td>{'mechanical': 4, 'ebike': 9}</td>\n      <td>{'mechanical': 22, 'ebike': 6}</td>\n      <td>{'mechanical': 25, 'ebike': 6}</td>\n      <td>{'mechanical': 17, 'ebike': 15}</td>\n      <td>{'mechanical': 3, 'ebike': 5}</td>\n      <td>{'mechanical': 1, 'ebike': 3}</td>\n      <td>{'mechanical': 27, 'ebike': 1}</td>\n      <td>...</td>\n      <td>{'mechanical': 4, 'ebike': 4}</td>\n      <td>{'mechanical': 19, 'ebike': 2}</td>\n      <td>{'mechanical': 3, 'ebike': 1}</td>\n      <td>{'mechanical': 4, 'ebike': 7}</td>\n      <td>{'mechanical': 8, 'ebike': 4}</td>\n      <td>{'mechanical': 21, 'ebike': 5}</td>\n      <td>{'mechanical': 6, 'ebike': 6}</td>\n      <td>{'mechanical': 19, 'ebike': 8}</td>\n      <td>{'mechanical': 6, 'ebike': 1}</td>\n      <td>{'mechanical': 9, 'ebike': 1}</td>\n    </tr>\n    <tr>\n      <th>11/01/20;00:14:44</th>\n      <td>{'mechanical': 2, 'ebike': 3}</td>\n      <td>{'mechanical': 25, 'ebike': 5}</td>\n      <td>{'mechanical': 4, 'ebike': 9}</td>\n      <td>{'mechanical': 4, 'ebike': 9}</td>\n      <td>{'mechanical': 22, 'ebike': 6}</td>\n      <td>{'mechanical': 25, 'ebike': 6}</td>\n      <td>{'mechanical': 17, 'ebike': 15}</td>\n      <td>{'mechanical': 3, 'ebike': 5}</td>\n      <td>{'mechanical': 1, 'ebike': 3}</td>\n      <td>{'mechanical': 27, 'ebike': 1}</td>\n      <td>...</td>\n      <td>{'mechanical': 4, 'ebike': 4}</td>\n      <td>{'mechanical': 19, 'ebike': 2}</td>\n      <td>{'mechanical': 3, 'ebike': 1}</td>\n      <td>{'mechanical': 4, 'ebike': 7}</td>\n      <td>{'mechanical': 8, 'ebike': 4}</td>\n      <td>{'mechanical': 21, 'ebike': 5}</td>\n      <td>{'mechanical': 6, 'ebike': 6}</td>\n      <td>{'mechanical': 19, 'ebike': 8}</td>\n      <td>{'mechanical': 6, 'ebike': 1}</td>\n      <td>{'mechanical': 9, 'ebike': 1}</td>\n    </tr>\n    <tr>\n      <th>11/01/20;00:19:44</th>\n      <td>{'mechanical': 2, 'ebike': 2}</td>\n      <td>{'mechanical': 25, 'ebike': 5}</td>\n      <td>{'mechanical': 4, 'ebike': 9}</td>\n      <td>{'mechanical': 4, 'ebike': 8}</td>\n      <td>{'mechanical': 22, 'ebike': 6}</td>\n      <td>{'mechanical': 25, 'ebike': 6}</td>\n      <td>{'mechanical': 17, 'ebike': 15}</td>\n      <td>{'mechanical': 3, 'ebike': 5}</td>\n      <td>{'mechanical': 1, 'ebike': 3}</td>\n      <td>{'mechanical': 27, 'ebike': 1}</td>\n      <td>...</td>\n      <td>{'mechanical': 4, 'ebike': 4}</td>\n      <td>{'mechanical': 19, 'ebike': 2}</td>\n      <td>{'mechanical': 3, 'ebike': 1}</td>\n      <td>{'mechanical': 4, 'ebike': 7}</td>\n      <td>{'mechanical': 8, 'ebike': 4}</td>\n      <td>{'mechanical': 21, 'ebike': 5}</td>\n      <td>{'mechanical': 6, 'ebike': 5}</td>\n      <td>{'mechanical': 19, 'ebike': 8}</td>\n      <td>{'mechanical': 6, 'ebike': 1}</td>\n      <td>{'mechanical': 9, 'ebike': 1}</td>\n    </tr>\n    <tr>\n      <th>11/01/20;00:24:44</th>\n      <td>{'mechanical': 2, 'ebike': 2}</td>\n      <td>{'mechanical': 25, 'ebike': 5}</td>\n      <td>{'mechanical': 4, 'ebike': 9}</td>\n      <td>{'mechanical': 4, 'ebike': 8}</td>\n      <td>{'mechanical': 22, 'ebike': 6}</td>\n      <td>{'mechanical': 25, 'ebike': 6}</td>\n      <td>{'mechanical': 17, 'ebike': 15}</td>\n      <td>{'mechanical': 3, 'ebike': 5}</td>\n      <td>{'mechanical': 1, 'ebike': 3}</td>\n      <td>{'mechanical': 27, 'ebike': 1}</td>\n      <td>...</td>\n      <td>{'mechanical': 4, 'ebike': 4}</td>\n      <td>{'mechanical': 19, 'ebike': 2}</td>\n      <td>{'mechanical': 3, 'ebike': 1}</td>\n      <td>{'mechanical': 4, 'ebike': 7}</td>\n      <td>{'mechanical': 8, 'ebike': 4}</td>\n      <td>{'mechanical': 21, 'ebike': 5}</td>\n      <td>{'mechanical': 6, 'ebike': 5}</td>\n      <td>{'mechanical': 19, 'ebike': 8}</td>\n      <td>{'mechanical': 6, 'ebike': 1}</td>\n      <td>{'mechanical': 9, 'ebike': 1}</td>\n    </tr>\n  </tbody>\n</table>\n<p>5 rows × 1398 columns</p>\n</div>"
     },
     "metadata": {},
     "execution_count": 14
    }
   ],
   "source": [
    "df_t1.head()"
   ]
  },
  {
   "source": [
    "### On s'intéresse ensuite au nombre total de vélos par stations :"
   ],
   "cell_type": "markdown",
   "metadata": {}
  },
  {
   "cell_type": "code",
   "execution_count": 15,
   "metadata": {},
   "outputs": [],
   "source": [
    "# On parcourt les lignes et on ne garde que le nombre total de vélibs à l'heure souhaitée\n",
    "for station in df_t1:\n",
    "    for i in range(len(df_t1)):\n",
    "        df_t1[station][i] = df_t1[station][i]['mechanical'] + df_t1[station][i]['ebike']\n",
    "        df_t2[station][i] = df_t2[station][i]['mechanical'] + df_t2[station][i]['ebike']"
   ]
  },
  {
   "cell_type": "code",
   "execution_count": 16,
   "metadata": {},
   "outputs": [
    {
     "output_type": "execute_result",
     "data": {
      "text/plain": [
       "station_id        213688169 99950133  516709288 36255     37815204  100769544  \\\n",
       "11/01/20;00:04:43         6        30        13        13        28        31   \n",
       "11/01/20;00:09:43         5        30        13        13        28        31   \n",
       "11/01/20;00:14:44         5        30        13        13        28        31   \n",
       "11/01/20;00:19:44         4        30        13        12        28        31   \n",
       "11/01/20;00:24:44         4        30        13        12        28        31   \n",
       "\n",
       "station_id        85002689  54000559  85043758  123095125  ... 125881065  \\\n",
       "11/01/20;00:04:43        32         8         4        28  ...         8   \n",
       "11/01/20;00:09:43        32         8         4        28  ...         8   \n",
       "11/01/20;00:14:44        32         8         4        28  ...         8   \n",
       "11/01/20;00:19:44        32         8         4        28  ...         8   \n",
       "11/01/20;00:24:44        32         8         4        28  ...         8   \n",
       "\n",
       "station_id        54000627  15377776  84961467  54000629  27415004  27415128   \\\n",
       "11/01/20;00:04:43        21         4        11        12        26        12   \n",
       "11/01/20;00:09:43        21         4        11        12        26        12   \n",
       "11/01/20;00:14:44        21         4        11        12        26        12   \n",
       "11/01/20;00:19:44        21         4        11        12        26        11   \n",
       "11/01/20;00:24:44        21         4        11        12        26        11   \n",
       "\n",
       "station_id        27414937  66507230  100227241  \n",
       "11/01/20;00:04:43        27         7        10  \n",
       "11/01/20;00:09:43        27         7        10  \n",
       "11/01/20;00:14:44        27         7        10  \n",
       "11/01/20;00:19:44        27         7        10  \n",
       "11/01/20;00:24:44        27         7        10  \n",
       "\n",
       "[5 rows x 1398 columns]"
      ],
      "text/html": "<div>\n<style scoped>\n    .dataframe tbody tr th:only-of-type {\n        vertical-align: middle;\n    }\n\n    .dataframe tbody tr th {\n        vertical-align: top;\n    }\n\n    .dataframe thead th {\n        text-align: right;\n    }\n</style>\n<table border=\"1\" class=\"dataframe\">\n  <thead>\n    <tr style=\"text-align: right;\">\n      <th>station_id</th>\n      <th>213688169</th>\n      <th>99950133</th>\n      <th>516709288</th>\n      <th>36255</th>\n      <th>37815204</th>\n      <th>100769544</th>\n      <th>85002689</th>\n      <th>54000559</th>\n      <th>85043758</th>\n      <th>123095125</th>\n      <th>...</th>\n      <th>125881065</th>\n      <th>54000627</th>\n      <th>15377776</th>\n      <th>84961467</th>\n      <th>54000629</th>\n      <th>27415004</th>\n      <th>27415128</th>\n      <th>27414937</th>\n      <th>66507230</th>\n      <th>100227241</th>\n    </tr>\n  </thead>\n  <tbody>\n    <tr>\n      <th>11/01/20;00:04:43</th>\n      <td>6</td>\n      <td>30</td>\n      <td>13</td>\n      <td>13</td>\n      <td>28</td>\n      <td>31</td>\n      <td>32</td>\n      <td>8</td>\n      <td>4</td>\n      <td>28</td>\n      <td>...</td>\n      <td>8</td>\n      <td>21</td>\n      <td>4</td>\n      <td>11</td>\n      <td>12</td>\n      <td>26</td>\n      <td>12</td>\n      <td>27</td>\n      <td>7</td>\n      <td>10</td>\n    </tr>\n    <tr>\n      <th>11/01/20;00:09:43</th>\n      <td>5</td>\n      <td>30</td>\n      <td>13</td>\n      <td>13</td>\n      <td>28</td>\n      <td>31</td>\n      <td>32</td>\n      <td>8</td>\n      <td>4</td>\n      <td>28</td>\n      <td>...</td>\n      <td>8</td>\n      <td>21</td>\n      <td>4</td>\n      <td>11</td>\n      <td>12</td>\n      <td>26</td>\n      <td>12</td>\n      <td>27</td>\n      <td>7</td>\n      <td>10</td>\n    </tr>\n    <tr>\n      <th>11/01/20;00:14:44</th>\n      <td>5</td>\n      <td>30</td>\n      <td>13</td>\n      <td>13</td>\n      <td>28</td>\n      <td>31</td>\n      <td>32</td>\n      <td>8</td>\n      <td>4</td>\n      <td>28</td>\n      <td>...</td>\n      <td>8</td>\n      <td>21</td>\n      <td>4</td>\n      <td>11</td>\n      <td>12</td>\n      <td>26</td>\n      <td>12</td>\n      <td>27</td>\n      <td>7</td>\n      <td>10</td>\n    </tr>\n    <tr>\n      <th>11/01/20;00:19:44</th>\n      <td>4</td>\n      <td>30</td>\n      <td>13</td>\n      <td>12</td>\n      <td>28</td>\n      <td>31</td>\n      <td>32</td>\n      <td>8</td>\n      <td>4</td>\n      <td>28</td>\n      <td>...</td>\n      <td>8</td>\n      <td>21</td>\n      <td>4</td>\n      <td>11</td>\n      <td>12</td>\n      <td>26</td>\n      <td>11</td>\n      <td>27</td>\n      <td>7</td>\n      <td>10</td>\n    </tr>\n    <tr>\n      <th>11/01/20;00:24:44</th>\n      <td>4</td>\n      <td>30</td>\n      <td>13</td>\n      <td>12</td>\n      <td>28</td>\n      <td>31</td>\n      <td>32</td>\n      <td>8</td>\n      <td>4</td>\n      <td>28</td>\n      <td>...</td>\n      <td>8</td>\n      <td>21</td>\n      <td>4</td>\n      <td>11</td>\n      <td>12</td>\n      <td>26</td>\n      <td>11</td>\n      <td>27</td>\n      <td>7</td>\n      <td>10</td>\n    </tr>\n  </tbody>\n</table>\n<p>5 rows × 1398 columns</p>\n</div>"
     },
     "metadata": {},
     "execution_count": 16
    }
   ],
   "source": [
    "df_t1.head()"
   ]
  },
  {
   "cell_type": "code",
   "execution_count": 17,
   "metadata": {},
   "outputs": [
    {
     "output_type": "execute_result",
     "data": {
      "text/plain": [
       "station_id        213688169 99950133  516709288 36255     37815204  100769544  \\\n",
       "11/02/20;00:02:33         8        30        12         2        16        28   \n",
       "11/02/20;00:07:33         8        30        11         2        16        28   \n",
       "11/02/20;00:12:34         8        30        11         2        16        28   \n",
       "11/02/20;00:17:34         8        30        11         2        16        28   \n",
       "11/02/20;00:22:35         8        30        11         2        16        28   \n",
       "\n",
       "station_id        85002689  54000559  85043758  123095125  ... 125881065  \\\n",
       "11/02/20;00:02:33        28        13         8        32  ...         5   \n",
       "11/02/20;00:07:33        28        13         8        32  ...         5   \n",
       "11/02/20;00:12:34        28        13         8        32  ...         5   \n",
       "11/02/20;00:17:34        28        13         8        32  ...         5   \n",
       "11/02/20;00:22:35        28        13         8        32  ...         5   \n",
       "\n",
       "station_id        54000627  15377776  84961467  54000629  27415004  27415128   \\\n",
       "11/02/20;00:02:33        19         4        24        15        13        12   \n",
       "11/02/20;00:07:33        19         4        24        15        13        12   \n",
       "11/02/20;00:12:34        19         4        24        15        13        12   \n",
       "11/02/20;00:17:34        19         4        24        15        13        12   \n",
       "11/02/20;00:22:35        19         4        24        15        13        12   \n",
       "\n",
       "station_id        27414937  66507230  100227241  \n",
       "11/02/20;00:02:33        18        12        14  \n",
       "11/02/20;00:07:33        18        12        14  \n",
       "11/02/20;00:12:34        17        12        14  \n",
       "11/02/20;00:17:34        17        12        14  \n",
       "11/02/20;00:22:35        17        12        14  \n",
       "\n",
       "[5 rows x 1398 columns]"
      ],
      "text/html": "<div>\n<style scoped>\n    .dataframe tbody tr th:only-of-type {\n        vertical-align: middle;\n    }\n\n    .dataframe tbody tr th {\n        vertical-align: top;\n    }\n\n    .dataframe thead th {\n        text-align: right;\n    }\n</style>\n<table border=\"1\" class=\"dataframe\">\n  <thead>\n    <tr style=\"text-align: right;\">\n      <th>station_id</th>\n      <th>213688169</th>\n      <th>99950133</th>\n      <th>516709288</th>\n      <th>36255</th>\n      <th>37815204</th>\n      <th>100769544</th>\n      <th>85002689</th>\n      <th>54000559</th>\n      <th>85043758</th>\n      <th>123095125</th>\n      <th>...</th>\n      <th>125881065</th>\n      <th>54000627</th>\n      <th>15377776</th>\n      <th>84961467</th>\n      <th>54000629</th>\n      <th>27415004</th>\n      <th>27415128</th>\n      <th>27414937</th>\n      <th>66507230</th>\n      <th>100227241</th>\n    </tr>\n  </thead>\n  <tbody>\n    <tr>\n      <th>11/02/20;00:02:33</th>\n      <td>8</td>\n      <td>30</td>\n      <td>12</td>\n      <td>2</td>\n      <td>16</td>\n      <td>28</td>\n      <td>28</td>\n      <td>13</td>\n      <td>8</td>\n      <td>32</td>\n      <td>...</td>\n      <td>5</td>\n      <td>19</td>\n      <td>4</td>\n      <td>24</td>\n      <td>15</td>\n      <td>13</td>\n      <td>12</td>\n      <td>18</td>\n      <td>12</td>\n      <td>14</td>\n    </tr>\n    <tr>\n      <th>11/02/20;00:07:33</th>\n      <td>8</td>\n      <td>30</td>\n      <td>11</td>\n      <td>2</td>\n      <td>16</td>\n      <td>28</td>\n      <td>28</td>\n      <td>13</td>\n      <td>8</td>\n      <td>32</td>\n      <td>...</td>\n      <td>5</td>\n      <td>19</td>\n      <td>4</td>\n      <td>24</td>\n      <td>15</td>\n      <td>13</td>\n      <td>12</td>\n      <td>18</td>\n      <td>12</td>\n      <td>14</td>\n    </tr>\n    <tr>\n      <th>11/02/20;00:12:34</th>\n      <td>8</td>\n      <td>30</td>\n      <td>11</td>\n      <td>2</td>\n      <td>16</td>\n      <td>28</td>\n      <td>28</td>\n      <td>13</td>\n      <td>8</td>\n      <td>32</td>\n      <td>...</td>\n      <td>5</td>\n      <td>19</td>\n      <td>4</td>\n      <td>24</td>\n      <td>15</td>\n      <td>13</td>\n      <td>12</td>\n      <td>17</td>\n      <td>12</td>\n      <td>14</td>\n    </tr>\n    <tr>\n      <th>11/02/20;00:17:34</th>\n      <td>8</td>\n      <td>30</td>\n      <td>11</td>\n      <td>2</td>\n      <td>16</td>\n      <td>28</td>\n      <td>28</td>\n      <td>13</td>\n      <td>8</td>\n      <td>32</td>\n      <td>...</td>\n      <td>5</td>\n      <td>19</td>\n      <td>4</td>\n      <td>24</td>\n      <td>15</td>\n      <td>13</td>\n      <td>12</td>\n      <td>17</td>\n      <td>12</td>\n      <td>14</td>\n    </tr>\n    <tr>\n      <th>11/02/20;00:22:35</th>\n      <td>8</td>\n      <td>30</td>\n      <td>11</td>\n      <td>2</td>\n      <td>16</td>\n      <td>28</td>\n      <td>28</td>\n      <td>13</td>\n      <td>8</td>\n      <td>32</td>\n      <td>...</td>\n      <td>5</td>\n      <td>19</td>\n      <td>4</td>\n      <td>24</td>\n      <td>15</td>\n      <td>13</td>\n      <td>12</td>\n      <td>17</td>\n      <td>12</td>\n      <td>14</td>\n    </tr>\n  </tbody>\n</table>\n<p>5 rows × 1398 columns</p>\n</div>"
     },
     "metadata": {},
     "execution_count": 17
    }
   ],
   "source": [
    "df_t2.head()"
   ]
  },
  {
   "cell_type": "code",
   "execution_count": 18,
   "metadata": {},
   "outputs": [],
   "source": [
    "# On reformate les données pour les manipuler\n",
    "df_t1.reset_index(inplace=True)\n",
    "df_t2.reset_index(inplace=True)\n",
    "\n",
    "# On supprime les colonnes inutiles\n",
    "df_t1 = df_t1.drop(['index'], axis = 1)\n",
    "df_t2 = df_t2.drop(['index'], axis = 1)\n",
    "\n",
    "# On convertit le nom des colonnes en string\n",
    "df_t1.columns = toutes_les_stations\n",
    "df_t2.columns = toutes_les_stations"
   ]
  },
  {
   "cell_type": "code",
   "execution_count": 19,
   "metadata": {},
   "outputs": [
    {
     "output_type": "execute_result",
     "data": {
      "text/plain": [
       "  213688169 99950133 516709288 36255 37815204 100769544 85002689 54000559  \\\n",
       "0         6       30        13    13       28        31       32        8   \n",
       "1         5       30        13    13       28        31       32        8   \n",
       "2         5       30        13    13       28        31       32        8   \n",
       "3         4       30        13    12       28        31       32        8   \n",
       "4         4       30        13    12       28        31       32        8   \n",
       "\n",
       "  85043758 123095125  ... 125881065 54000627 15377776 84961467 54000629  \\\n",
       "0        4        28  ...         8       21        4       11       12   \n",
       "1        4        28  ...         8       21        4       11       12   \n",
       "2        4        28  ...         8       21        4       11       12   \n",
       "3        4        28  ...         8       21        4       11       12   \n",
       "4        4        28  ...         8       21        4       11       12   \n",
       "\n",
       "  27415004 27415128 27414937 66507230 100227241  \n",
       "0       26       12       27        7        10  \n",
       "1       26       12       27        7        10  \n",
       "2       26       12       27        7        10  \n",
       "3       26       11       27        7        10  \n",
       "4       26       11       27        7        10  \n",
       "\n",
       "[5 rows x 1398 columns]"
      ],
      "text/html": "<div>\n<style scoped>\n    .dataframe tbody tr th:only-of-type {\n        vertical-align: middle;\n    }\n\n    .dataframe tbody tr th {\n        vertical-align: top;\n    }\n\n    .dataframe thead th {\n        text-align: right;\n    }\n</style>\n<table border=\"1\" class=\"dataframe\">\n  <thead>\n    <tr style=\"text-align: right;\">\n      <th></th>\n      <th>213688169</th>\n      <th>99950133</th>\n      <th>516709288</th>\n      <th>36255</th>\n      <th>37815204</th>\n      <th>100769544</th>\n      <th>85002689</th>\n      <th>54000559</th>\n      <th>85043758</th>\n      <th>123095125</th>\n      <th>...</th>\n      <th>125881065</th>\n      <th>54000627</th>\n      <th>15377776</th>\n      <th>84961467</th>\n      <th>54000629</th>\n      <th>27415004</th>\n      <th>27415128</th>\n      <th>27414937</th>\n      <th>66507230</th>\n      <th>100227241</th>\n    </tr>\n  </thead>\n  <tbody>\n    <tr>\n      <th>0</th>\n      <td>6</td>\n      <td>30</td>\n      <td>13</td>\n      <td>13</td>\n      <td>28</td>\n      <td>31</td>\n      <td>32</td>\n      <td>8</td>\n      <td>4</td>\n      <td>28</td>\n      <td>...</td>\n      <td>8</td>\n      <td>21</td>\n      <td>4</td>\n      <td>11</td>\n      <td>12</td>\n      <td>26</td>\n      <td>12</td>\n      <td>27</td>\n      <td>7</td>\n      <td>10</td>\n    </tr>\n    <tr>\n      <th>1</th>\n      <td>5</td>\n      <td>30</td>\n      <td>13</td>\n      <td>13</td>\n      <td>28</td>\n      <td>31</td>\n      <td>32</td>\n      <td>8</td>\n      <td>4</td>\n      <td>28</td>\n      <td>...</td>\n      <td>8</td>\n      <td>21</td>\n      <td>4</td>\n      <td>11</td>\n      <td>12</td>\n      <td>26</td>\n      <td>12</td>\n      <td>27</td>\n      <td>7</td>\n      <td>10</td>\n    </tr>\n    <tr>\n      <th>2</th>\n      <td>5</td>\n      <td>30</td>\n      <td>13</td>\n      <td>13</td>\n      <td>28</td>\n      <td>31</td>\n      <td>32</td>\n      <td>8</td>\n      <td>4</td>\n      <td>28</td>\n      <td>...</td>\n      <td>8</td>\n      <td>21</td>\n      <td>4</td>\n      <td>11</td>\n      <td>12</td>\n      <td>26</td>\n      <td>12</td>\n      <td>27</td>\n      <td>7</td>\n      <td>10</td>\n    </tr>\n    <tr>\n      <th>3</th>\n      <td>4</td>\n      <td>30</td>\n      <td>13</td>\n      <td>12</td>\n      <td>28</td>\n      <td>31</td>\n      <td>32</td>\n      <td>8</td>\n      <td>4</td>\n      <td>28</td>\n      <td>...</td>\n      <td>8</td>\n      <td>21</td>\n      <td>4</td>\n      <td>11</td>\n      <td>12</td>\n      <td>26</td>\n      <td>11</td>\n      <td>27</td>\n      <td>7</td>\n      <td>10</td>\n    </tr>\n    <tr>\n      <th>4</th>\n      <td>4</td>\n      <td>30</td>\n      <td>13</td>\n      <td>12</td>\n      <td>28</td>\n      <td>31</td>\n      <td>32</td>\n      <td>8</td>\n      <td>4</td>\n      <td>28</td>\n      <td>...</td>\n      <td>8</td>\n      <td>21</td>\n      <td>4</td>\n      <td>11</td>\n      <td>12</td>\n      <td>26</td>\n      <td>11</td>\n      <td>27</td>\n      <td>7</td>\n      <td>10</td>\n    </tr>\n  </tbody>\n</table>\n<p>5 rows × 1398 columns</p>\n</div>"
     },
     "metadata": {},
     "execution_count": 19
    }
   ],
   "source": [
    "df_t1.head()"
   ]
  },
  {
   "source": [
    "### Construction variable à prédire Y : une station random à la date t+1 i.e. le 2 novembre\n",
    "\n",
    "On choisit aléatoirement la station numéro **213688169**, ce qui correspond à la station **Benjamin Godard - Victor Hugo** et qui dispose d'une capacité maximale de **35 vélibs**\n",
    "\n",
    "#### Information sur les stations avec la table `station_information` : \n",
    "- capacity : nombre de bornettes dans la station\n",
    "- lat : latitude de la station (au format WGS84)\n",
    "- lon : longitude de la station (au format WGS84)\n",
    "- name : nom de la station\n",
    "- station_id : identifiant unique associé à la station. Ce numéro identifie la station au sein du service Vélib’ Métropole"
   ],
   "cell_type": "markdown",
   "metadata": {}
  },
  {
   "cell_type": "code",
   "execution_count": 20,
   "metadata": {},
   "outputs": [],
   "source": [
    "import urllib.request\n",
    "import json\n",
    "from pandas.io.json import json_normalize"
   ]
  },
  {
   "source": [
    "request= urllib.request.Request('https://velib-metropole-opendata.smoove.pro/opendata/Velib_Metropole/station_information.json')\n",
    "response = urllib.request.urlopen(request)\n",
    "station_info = response.read()\n",
    "data = json.loads(station_info)\n",
    "df_station_info = json_normalize(data['data']['stations'])\n",
    "df_station_info = df_station_info.sort_values(by = 'capacity', ascending = False)\n",
    "df_station_info = df_station_info.reset_index()\n",
    "df_station_info.head()"
   ],
   "cell_type": "code",
   "metadata": {},
   "execution_count": 21,
   "outputs": [
    {
     "output_type": "execute_result",
     "data": {
      "text/plain": [
       "   index  station_id                                   name        lat  \\\n",
       "0    891   389788858                 Emeriau - Beaugrenelle  48.847912   \n",
       "1     52    85008390                   Grenelle - Dr Finlay  48.851315   \n",
       "2    482    76199110              Université Paris Dauphine  48.870708   \n",
       "3    796   100783424                     Censier - Santeuil  48.840659   \n",
       "4   1315    54000610  Jean de la Fontaine - Boulainvilliers  48.852648   \n",
       "\n",
       "        lon  capacity stationCode rental_methods  \n",
       "0  2.284306        74       15030   [CREDITCARD]  \n",
       "1  2.291950        71       15028   [CREDITCARD]  \n",
       "2  2.274866        70       16004   [CREDITCARD]  \n",
       "3  2.353752        69        5034   [CREDITCARD]  \n",
       "4  2.275866        68       16025   [CREDITCARD]  "
      ],
      "text/html": "<div>\n<style scoped>\n    .dataframe tbody tr th:only-of-type {\n        vertical-align: middle;\n    }\n\n    .dataframe tbody tr th {\n        vertical-align: top;\n    }\n\n    .dataframe thead th {\n        text-align: right;\n    }\n</style>\n<table border=\"1\" class=\"dataframe\">\n  <thead>\n    <tr style=\"text-align: right;\">\n      <th></th>\n      <th>index</th>\n      <th>station_id</th>\n      <th>name</th>\n      <th>lat</th>\n      <th>lon</th>\n      <th>capacity</th>\n      <th>stationCode</th>\n      <th>rental_methods</th>\n    </tr>\n  </thead>\n  <tbody>\n    <tr>\n      <th>0</th>\n      <td>891</td>\n      <td>389788858</td>\n      <td>Emeriau - Beaugrenelle</td>\n      <td>48.847912</td>\n      <td>2.284306</td>\n      <td>74</td>\n      <td>15030</td>\n      <td>[CREDITCARD]</td>\n    </tr>\n    <tr>\n      <th>1</th>\n      <td>52</td>\n      <td>85008390</td>\n      <td>Grenelle - Dr Finlay</td>\n      <td>48.851315</td>\n      <td>2.291950</td>\n      <td>71</td>\n      <td>15028</td>\n      <td>[CREDITCARD]</td>\n    </tr>\n    <tr>\n      <th>2</th>\n      <td>482</td>\n      <td>76199110</td>\n      <td>Université Paris Dauphine</td>\n      <td>48.870708</td>\n      <td>2.274866</td>\n      <td>70</td>\n      <td>16004</td>\n      <td>[CREDITCARD]</td>\n    </tr>\n    <tr>\n      <th>3</th>\n      <td>796</td>\n      <td>100783424</td>\n      <td>Censier - Santeuil</td>\n      <td>48.840659</td>\n      <td>2.353752</td>\n      <td>69</td>\n      <td>5034</td>\n      <td>[CREDITCARD]</td>\n    </tr>\n    <tr>\n      <th>4</th>\n      <td>1315</td>\n      <td>54000610</td>\n      <td>Jean de la Fontaine - Boulainvilliers</td>\n      <td>48.852648</td>\n      <td>2.275866</td>\n      <td>68</td>\n      <td>16025</td>\n      <td>[CREDITCARD]</td>\n    </tr>\n  </tbody>\n</table>\n</div>"
     },
     "metadata": {},
     "execution_count": 21
    }
   ]
  },
  {
   "cell_type": "code",
   "execution_count": 22,
   "metadata": {},
   "outputs": [
    {
     "output_type": "execute_result",
     "data": {
      "text/plain": [
       "     index  station_id                           name        lat       lon  \\\n",
       "441      0   213688169  Benjamin Godard - Victor Hugo  48.865983  2.275725   \n",
       "\n",
       "     capacity stationCode rental_methods  \n",
       "441        35       16107            NaN  "
      ],
      "text/html": "<div>\n<style scoped>\n    .dataframe tbody tr th:only-of-type {\n        vertical-align: middle;\n    }\n\n    .dataframe tbody tr th {\n        vertical-align: top;\n    }\n\n    .dataframe thead th {\n        text-align: right;\n    }\n</style>\n<table border=\"1\" class=\"dataframe\">\n  <thead>\n    <tr style=\"text-align: right;\">\n      <th></th>\n      <th>index</th>\n      <th>station_id</th>\n      <th>name</th>\n      <th>lat</th>\n      <th>lon</th>\n      <th>capacity</th>\n      <th>stationCode</th>\n      <th>rental_methods</th>\n    </tr>\n  </thead>\n  <tbody>\n    <tr>\n      <th>441</th>\n      <td>0</td>\n      <td>213688169</td>\n      <td>Benjamin Godard - Victor Hugo</td>\n      <td>48.865983</td>\n      <td>2.275725</td>\n      <td>35</td>\n      <td>16107</td>\n      <td>NaN</td>\n    </tr>\n  </tbody>\n</table>\n</div>"
     },
     "metadata": {},
     "execution_count": 22
    }
   ],
   "source": [
    "df_station_info[df_station_info['station_id'] == 213688169]"
   ]
  },
  {
   "source": [
    "### Création du df pour le ML"
   ],
   "cell_type": "markdown",
   "metadata": {}
  },
  {
   "cell_type": "code",
   "execution_count": 23,
   "metadata": {},
   "outputs": [
    {
     "output_type": "execute_result",
     "data": {
      "text/plain": [
       "   y\n",
       "0  8\n",
       "1  8\n",
       "2  8\n",
       "3  8\n",
       "4  8"
      ],
      "text/html": "<div>\n<style scoped>\n    .dataframe tbody tr th:only-of-type {\n        vertical-align: middle;\n    }\n\n    .dataframe tbody tr th {\n        vertical-align: top;\n    }\n\n    .dataframe thead th {\n        text-align: right;\n    }\n</style>\n<table border=\"1\" class=\"dataframe\">\n  <thead>\n    <tr style=\"text-align: right;\">\n      <th></th>\n      <th>y</th>\n    </tr>\n  </thead>\n  <tbody>\n    <tr>\n      <th>0</th>\n      <td>8</td>\n    </tr>\n    <tr>\n      <th>1</th>\n      <td>8</td>\n    </tr>\n    <tr>\n      <th>2</th>\n      <td>8</td>\n    </tr>\n    <tr>\n      <th>3</th>\n      <td>8</td>\n    </tr>\n    <tr>\n      <th>4</th>\n      <td>8</td>\n    </tr>\n  </tbody>\n</table>\n</div>"
     },
     "metadata": {},
     "execution_count": 23
    }
   ],
   "source": [
    "df_y = df_t2[['213688169']]\n",
    "df_y.columns = ['y']\n",
    "df_y.head()"
   ]
  },
  {
   "source": [
    "On ajoute cette colonne au dataframe de toutes les stations à la date t : "
   ],
   "cell_type": "markdown",
   "metadata": {}
  },
  {
   "cell_type": "code",
   "execution_count": 24,
   "metadata": {},
   "outputs": [
    {
     "output_type": "execute_result",
     "data": {
      "text/plain": [
       "    213688169 99950133 516709288 36255 37815204 100769544 85002689 54000559  \\\n",
       "0           6       30        13    13       28        31       32        8   \n",
       "1           5       30        13    13       28        31       32        8   \n",
       "2           5       30        13    13       28        31       32        8   \n",
       "3           4       30        13    12       28        31       32        8   \n",
       "4           4       30        13    12       28        31       32        8   \n",
       "..        ...      ...       ...   ...      ...       ...      ...      ...   \n",
       "281         8       30        12     2       16        28       28       13   \n",
       "282         8       30        12     2       16        28       28       13   \n",
       "283         8       30        12     2       16        28       28       13   \n",
       "284         8       30        12     2       16        28       28       13   \n",
       "285         8       30        12     2       16        28       28       13   \n",
       "\n",
       "    85043758 123095125  ... 54000627 15377776 84961467 54000629 27415004  \\\n",
       "0          4        28  ...       21        4       11       12       26   \n",
       "1          4        28  ...       21        4       11       12       26   \n",
       "2          4        28  ...       21        4       11       12       26   \n",
       "3          4        28  ...       21        4       11       12       26   \n",
       "4          4        28  ...       21        4       11       12       26   \n",
       "..       ...       ...  ...      ...      ...      ...      ...      ...   \n",
       "281        8        30  ...       19        4       24       15       13   \n",
       "282        8        30  ...       19        4       24       15       13   \n",
       "283        8        30  ...       19        4       24       15       13   \n",
       "284        8        30  ...       19        4       24       15       13   \n",
       "285        8        31  ...       19        4       24       15       13   \n",
       "\n",
       "    27415128 27414937 66507230 100227241  y  \n",
       "0         12       27        7        10  8  \n",
       "1         12       27        7        10  8  \n",
       "2         12       27        7        10  8  \n",
       "3         11       27        7        10  8  \n",
       "4         11       27        7        10  8  \n",
       "..       ...      ...      ...       ... ..  \n",
       "281       12       19       12        15  9  \n",
       "282       12       19       12        14  8  \n",
       "283       12       19       12        14  9  \n",
       "284       12       18       12        14  9  \n",
       "285       12       18       12        14  9  \n",
       "\n",
       "[286 rows x 1399 columns]"
      ],
      "text/html": "<div>\n<style scoped>\n    .dataframe tbody tr th:only-of-type {\n        vertical-align: middle;\n    }\n\n    .dataframe tbody tr th {\n        vertical-align: top;\n    }\n\n    .dataframe thead th {\n        text-align: right;\n    }\n</style>\n<table border=\"1\" class=\"dataframe\">\n  <thead>\n    <tr style=\"text-align: right;\">\n      <th></th>\n      <th>213688169</th>\n      <th>99950133</th>\n      <th>516709288</th>\n      <th>36255</th>\n      <th>37815204</th>\n      <th>100769544</th>\n      <th>85002689</th>\n      <th>54000559</th>\n      <th>85043758</th>\n      <th>123095125</th>\n      <th>...</th>\n      <th>54000627</th>\n      <th>15377776</th>\n      <th>84961467</th>\n      <th>54000629</th>\n      <th>27415004</th>\n      <th>27415128</th>\n      <th>27414937</th>\n      <th>66507230</th>\n      <th>100227241</th>\n      <th>y</th>\n    </tr>\n  </thead>\n  <tbody>\n    <tr>\n      <th>0</th>\n      <td>6</td>\n      <td>30</td>\n      <td>13</td>\n      <td>13</td>\n      <td>28</td>\n      <td>31</td>\n      <td>32</td>\n      <td>8</td>\n      <td>4</td>\n      <td>28</td>\n      <td>...</td>\n      <td>21</td>\n      <td>4</td>\n      <td>11</td>\n      <td>12</td>\n      <td>26</td>\n      <td>12</td>\n      <td>27</td>\n      <td>7</td>\n      <td>10</td>\n      <td>8</td>\n    </tr>\n    <tr>\n      <th>1</th>\n      <td>5</td>\n      <td>30</td>\n      <td>13</td>\n      <td>13</td>\n      <td>28</td>\n      <td>31</td>\n      <td>32</td>\n      <td>8</td>\n      <td>4</td>\n      <td>28</td>\n      <td>...</td>\n      <td>21</td>\n      <td>4</td>\n      <td>11</td>\n      <td>12</td>\n      <td>26</td>\n      <td>12</td>\n      <td>27</td>\n      <td>7</td>\n      <td>10</td>\n      <td>8</td>\n    </tr>\n    <tr>\n      <th>2</th>\n      <td>5</td>\n      <td>30</td>\n      <td>13</td>\n      <td>13</td>\n      <td>28</td>\n      <td>31</td>\n      <td>32</td>\n      <td>8</td>\n      <td>4</td>\n      <td>28</td>\n      <td>...</td>\n      <td>21</td>\n      <td>4</td>\n      <td>11</td>\n      <td>12</td>\n      <td>26</td>\n      <td>12</td>\n      <td>27</td>\n      <td>7</td>\n      <td>10</td>\n      <td>8</td>\n    </tr>\n    <tr>\n      <th>3</th>\n      <td>4</td>\n      <td>30</td>\n      <td>13</td>\n      <td>12</td>\n      <td>28</td>\n      <td>31</td>\n      <td>32</td>\n      <td>8</td>\n      <td>4</td>\n      <td>28</td>\n      <td>...</td>\n      <td>21</td>\n      <td>4</td>\n      <td>11</td>\n      <td>12</td>\n      <td>26</td>\n      <td>11</td>\n      <td>27</td>\n      <td>7</td>\n      <td>10</td>\n      <td>8</td>\n    </tr>\n    <tr>\n      <th>4</th>\n      <td>4</td>\n      <td>30</td>\n      <td>13</td>\n      <td>12</td>\n      <td>28</td>\n      <td>31</td>\n      <td>32</td>\n      <td>8</td>\n      <td>4</td>\n      <td>28</td>\n      <td>...</td>\n      <td>21</td>\n      <td>4</td>\n      <td>11</td>\n      <td>12</td>\n      <td>26</td>\n      <td>11</td>\n      <td>27</td>\n      <td>7</td>\n      <td>10</td>\n      <td>8</td>\n    </tr>\n    <tr>\n      <th>...</th>\n      <td>...</td>\n      <td>...</td>\n      <td>...</td>\n      <td>...</td>\n      <td>...</td>\n      <td>...</td>\n      <td>...</td>\n      <td>...</td>\n      <td>...</td>\n      <td>...</td>\n      <td>...</td>\n      <td>...</td>\n      <td>...</td>\n      <td>...</td>\n      <td>...</td>\n      <td>...</td>\n      <td>...</td>\n      <td>...</td>\n      <td>...</td>\n      <td>...</td>\n      <td>...</td>\n    </tr>\n    <tr>\n      <th>281</th>\n      <td>8</td>\n      <td>30</td>\n      <td>12</td>\n      <td>2</td>\n      <td>16</td>\n      <td>28</td>\n      <td>28</td>\n      <td>13</td>\n      <td>8</td>\n      <td>30</td>\n      <td>...</td>\n      <td>19</td>\n      <td>4</td>\n      <td>24</td>\n      <td>15</td>\n      <td>13</td>\n      <td>12</td>\n      <td>19</td>\n      <td>12</td>\n      <td>15</td>\n      <td>9</td>\n    </tr>\n    <tr>\n      <th>282</th>\n      <td>8</td>\n      <td>30</td>\n      <td>12</td>\n      <td>2</td>\n      <td>16</td>\n      <td>28</td>\n      <td>28</td>\n      <td>13</td>\n      <td>8</td>\n      <td>30</td>\n      <td>...</td>\n      <td>19</td>\n      <td>4</td>\n      <td>24</td>\n      <td>15</td>\n      <td>13</td>\n      <td>12</td>\n      <td>19</td>\n      <td>12</td>\n      <td>14</td>\n      <td>8</td>\n    </tr>\n    <tr>\n      <th>283</th>\n      <td>8</td>\n      <td>30</td>\n      <td>12</td>\n      <td>2</td>\n      <td>16</td>\n      <td>28</td>\n      <td>28</td>\n      <td>13</td>\n      <td>8</td>\n      <td>30</td>\n      <td>...</td>\n      <td>19</td>\n      <td>4</td>\n      <td>24</td>\n      <td>15</td>\n      <td>13</td>\n      <td>12</td>\n      <td>19</td>\n      <td>12</td>\n      <td>14</td>\n      <td>9</td>\n    </tr>\n    <tr>\n      <th>284</th>\n      <td>8</td>\n      <td>30</td>\n      <td>12</td>\n      <td>2</td>\n      <td>16</td>\n      <td>28</td>\n      <td>28</td>\n      <td>13</td>\n      <td>8</td>\n      <td>30</td>\n      <td>...</td>\n      <td>19</td>\n      <td>4</td>\n      <td>24</td>\n      <td>15</td>\n      <td>13</td>\n      <td>12</td>\n      <td>18</td>\n      <td>12</td>\n      <td>14</td>\n      <td>9</td>\n    </tr>\n    <tr>\n      <th>285</th>\n      <td>8</td>\n      <td>30</td>\n      <td>12</td>\n      <td>2</td>\n      <td>16</td>\n      <td>28</td>\n      <td>28</td>\n      <td>13</td>\n      <td>8</td>\n      <td>31</td>\n      <td>...</td>\n      <td>19</td>\n      <td>4</td>\n      <td>24</td>\n      <td>15</td>\n      <td>13</td>\n      <td>12</td>\n      <td>18</td>\n      <td>12</td>\n      <td>14</td>\n      <td>9</td>\n    </tr>\n  </tbody>\n</table>\n<p>286 rows × 1399 columns</p>\n</div>"
     },
     "metadata": {},
     "execution_count": 24
    }
   ],
   "source": [
    "df_ml = pd.concat([df_t1, df_y], axis = 1)\n",
    "df_ml"
   ]
  },
  {
   "source": [
    "### Sélection des features"
   ],
   "cell_type": "markdown",
   "metadata": {}
  },
  {
   "cell_type": "code",
   "execution_count": 25,
   "metadata": {},
   "outputs": [],
   "source": [
    "df_ml = df_ml.astype('float64')"
   ]
  },
  {
   "cell_type": "code",
   "execution_count": 26,
   "metadata": {},
   "outputs": [
    {
     "output_type": "execute_result",
     "data": {
      "text/plain": [
       "           213688169  99950133  516709288     36255  37815204  100769544  \\\n",
       "213688169   1.000000  0.180946  -0.029903 -0.270653 -0.357012  -0.258148   \n",
       "99950133    0.180946  1.000000   0.738871  0.583496  0.233941  -0.140385   \n",
       "516709288  -0.029903  0.738871   1.000000  0.719678  0.422147  -0.274146   \n",
       "36255      -0.270653  0.583496   0.719678  1.000000  0.277324   0.175037   \n",
       "37815204   -0.357012  0.233941   0.422147  0.277324  1.000000  -0.205415   \n",
       "...              ...       ...        ...       ...       ...        ...   \n",
       "27415128    0.022102 -0.303547  -0.320279 -0.607614  0.431948  -0.333889   \n",
       "27414937   -0.292475  0.553276   0.645915  0.904185  0.231951   0.194788   \n",
       "66507230    0.125049 -0.683817  -0.723503 -0.920466 -0.171470  -0.143010   \n",
       "100227241   0.328254 -0.356078  -0.499214 -0.753756 -0.202907  -0.214869   \n",
       "y           0.157214  0.472200   0.580020  0.287044  0.152608  -0.552218   \n",
       "\n",
       "           85002689  54000559  85043758  123095125  ...  54000627  15377776  \\\n",
       "213688169 -0.365987  0.273324  0.384876   0.106682  ... -0.381281 -0.419914   \n",
       "99950133   0.512620  0.072574 -0.491756   0.528778  ... -0.098404 -0.417694   \n",
       "516709288  0.677085 -0.164184 -0.601327   0.604564  ... -0.084724 -0.492212   \n",
       "36255      0.863245 -0.016605 -0.769908   0.483026  ...  0.388534 -0.040605   \n",
       "37815204   0.236450 -0.760486 -0.391186   0.204852  ...  0.073949 -0.256306   \n",
       "...             ...       ...       ...        ...  ...       ...       ...   \n",
       "27415128  -0.598943 -0.540620  0.474210  -0.101894  ... -0.317914 -0.185179   \n",
       "27414937   0.880574  0.038571 -0.776625   0.402418  ...  0.438887  0.010787   \n",
       "66507230  -0.815357 -0.094431  0.722509  -0.440557  ... -0.279026  0.113021   \n",
       "100227241 -0.763040  0.041567  0.512998  -0.336517  ... -0.310991  0.035677   \n",
       "y          0.363425 -0.206036 -0.093115   0.692784  ... -0.372100 -0.398853   \n",
       "\n",
       "           84961467  54000629  27415004  27415128  27414937  66507230  \\\n",
       "213688169  0.335322  0.246529 -0.366259  0.022102 -0.292475  0.125049   \n",
       "99950133  -0.454738 -0.632456  0.494729 -0.303547  0.553276 -0.683817   \n",
       "516709288 -0.784323 -0.698533  0.768792 -0.320279  0.645915 -0.723503   \n",
       "36255     -0.818509 -0.851621  0.687772 -0.607614  0.904185 -0.920466   \n",
       "37815204  -0.330000 -0.221910  0.763226  0.431948  0.231951 -0.171470   \n",
       "...             ...       ...       ...       ...       ...       ...   \n",
       "27415128   0.521242  0.520720 -0.068411  1.000000 -0.625361  0.627874   \n",
       "27414937  -0.780415 -0.810494  0.633764 -0.625361  1.000000 -0.863036   \n",
       "66507230   0.719594  0.810159 -0.573915  0.627874 -0.863036  1.000000   \n",
       "100227241  0.680801  0.642665 -0.567692  0.456922 -0.741260  0.691127   \n",
       "y         -0.370746 -0.465831  0.493329 -0.088278  0.258885 -0.268794   \n",
       "\n",
       "           100227241         y  \n",
       "213688169   0.328254  0.157214  \n",
       "99950133   -0.356078  0.472200  \n",
       "516709288  -0.499214  0.580020  \n",
       "36255      -0.753756  0.287044  \n",
       "37815204   -0.202907  0.152608  \n",
       "...              ...       ...  \n",
       "27415128    0.456922 -0.088278  \n",
       "27414937   -0.741260  0.258885  \n",
       "66507230    0.691127 -0.268794  \n",
       "100227241   1.000000 -0.233544  \n",
       "y          -0.233544  1.000000  \n",
       "\n",
       "[1399 rows x 1399 columns]"
      ],
      "text/html": "<div>\n<style scoped>\n    .dataframe tbody tr th:only-of-type {\n        vertical-align: middle;\n    }\n\n    .dataframe tbody tr th {\n        vertical-align: top;\n    }\n\n    .dataframe thead th {\n        text-align: right;\n    }\n</style>\n<table border=\"1\" class=\"dataframe\">\n  <thead>\n    <tr style=\"text-align: right;\">\n      <th></th>\n      <th>213688169</th>\n      <th>99950133</th>\n      <th>516709288</th>\n      <th>36255</th>\n      <th>37815204</th>\n      <th>100769544</th>\n      <th>85002689</th>\n      <th>54000559</th>\n      <th>85043758</th>\n      <th>123095125</th>\n      <th>...</th>\n      <th>54000627</th>\n      <th>15377776</th>\n      <th>84961467</th>\n      <th>54000629</th>\n      <th>27415004</th>\n      <th>27415128</th>\n      <th>27414937</th>\n      <th>66507230</th>\n      <th>100227241</th>\n      <th>y</th>\n    </tr>\n  </thead>\n  <tbody>\n    <tr>\n      <th>213688169</th>\n      <td>1.000000</td>\n      <td>0.180946</td>\n      <td>-0.029903</td>\n      <td>-0.270653</td>\n      <td>-0.357012</td>\n      <td>-0.258148</td>\n      <td>-0.365987</td>\n      <td>0.273324</td>\n      <td>0.384876</td>\n      <td>0.106682</td>\n      <td>...</td>\n      <td>-0.381281</td>\n      <td>-0.419914</td>\n      <td>0.335322</td>\n      <td>0.246529</td>\n      <td>-0.366259</td>\n      <td>0.022102</td>\n      <td>-0.292475</td>\n      <td>0.125049</td>\n      <td>0.328254</td>\n      <td>0.157214</td>\n    </tr>\n    <tr>\n      <th>99950133</th>\n      <td>0.180946</td>\n      <td>1.000000</td>\n      <td>0.738871</td>\n      <td>0.583496</td>\n      <td>0.233941</td>\n      <td>-0.140385</td>\n      <td>0.512620</td>\n      <td>0.072574</td>\n      <td>-0.491756</td>\n      <td>0.528778</td>\n      <td>...</td>\n      <td>-0.098404</td>\n      <td>-0.417694</td>\n      <td>-0.454738</td>\n      <td>-0.632456</td>\n      <td>0.494729</td>\n      <td>-0.303547</td>\n      <td>0.553276</td>\n      <td>-0.683817</td>\n      <td>-0.356078</td>\n      <td>0.472200</td>\n    </tr>\n    <tr>\n      <th>516709288</th>\n      <td>-0.029903</td>\n      <td>0.738871</td>\n      <td>1.000000</td>\n      <td>0.719678</td>\n      <td>0.422147</td>\n      <td>-0.274146</td>\n      <td>0.677085</td>\n      <td>-0.164184</td>\n      <td>-0.601327</td>\n      <td>0.604564</td>\n      <td>...</td>\n      <td>-0.084724</td>\n      <td>-0.492212</td>\n      <td>-0.784323</td>\n      <td>-0.698533</td>\n      <td>0.768792</td>\n      <td>-0.320279</td>\n      <td>0.645915</td>\n      <td>-0.723503</td>\n      <td>-0.499214</td>\n      <td>0.580020</td>\n    </tr>\n    <tr>\n      <th>36255</th>\n      <td>-0.270653</td>\n      <td>0.583496</td>\n      <td>0.719678</td>\n      <td>1.000000</td>\n      <td>0.277324</td>\n      <td>0.175037</td>\n      <td>0.863245</td>\n      <td>-0.016605</td>\n      <td>-0.769908</td>\n      <td>0.483026</td>\n      <td>...</td>\n      <td>0.388534</td>\n      <td>-0.040605</td>\n      <td>-0.818509</td>\n      <td>-0.851621</td>\n      <td>0.687772</td>\n      <td>-0.607614</td>\n      <td>0.904185</td>\n      <td>-0.920466</td>\n      <td>-0.753756</td>\n      <td>0.287044</td>\n    </tr>\n    <tr>\n      <th>37815204</th>\n      <td>-0.357012</td>\n      <td>0.233941</td>\n      <td>0.422147</td>\n      <td>0.277324</td>\n      <td>1.000000</td>\n      <td>-0.205415</td>\n      <td>0.236450</td>\n      <td>-0.760486</td>\n      <td>-0.391186</td>\n      <td>0.204852</td>\n      <td>...</td>\n      <td>0.073949</td>\n      <td>-0.256306</td>\n      <td>-0.330000</td>\n      <td>-0.221910</td>\n      <td>0.763226</td>\n      <td>0.431948</td>\n      <td>0.231951</td>\n      <td>-0.171470</td>\n      <td>-0.202907</td>\n      <td>0.152608</td>\n    </tr>\n    <tr>\n      <th>...</th>\n      <td>...</td>\n      <td>...</td>\n      <td>...</td>\n      <td>...</td>\n      <td>...</td>\n      <td>...</td>\n      <td>...</td>\n      <td>...</td>\n      <td>...</td>\n      <td>...</td>\n      <td>...</td>\n      <td>...</td>\n      <td>...</td>\n      <td>...</td>\n      <td>...</td>\n      <td>...</td>\n      <td>...</td>\n      <td>...</td>\n      <td>...</td>\n      <td>...</td>\n      <td>...</td>\n    </tr>\n    <tr>\n      <th>27415128</th>\n      <td>0.022102</td>\n      <td>-0.303547</td>\n      <td>-0.320279</td>\n      <td>-0.607614</td>\n      <td>0.431948</td>\n      <td>-0.333889</td>\n      <td>-0.598943</td>\n      <td>-0.540620</td>\n      <td>0.474210</td>\n      <td>-0.101894</td>\n      <td>...</td>\n      <td>-0.317914</td>\n      <td>-0.185179</td>\n      <td>0.521242</td>\n      <td>0.520720</td>\n      <td>-0.068411</td>\n      <td>1.000000</td>\n      <td>-0.625361</td>\n      <td>0.627874</td>\n      <td>0.456922</td>\n      <td>-0.088278</td>\n    </tr>\n    <tr>\n      <th>27414937</th>\n      <td>-0.292475</td>\n      <td>0.553276</td>\n      <td>0.645915</td>\n      <td>0.904185</td>\n      <td>0.231951</td>\n      <td>0.194788</td>\n      <td>0.880574</td>\n      <td>0.038571</td>\n      <td>-0.776625</td>\n      <td>0.402418</td>\n      <td>...</td>\n      <td>0.438887</td>\n      <td>0.010787</td>\n      <td>-0.780415</td>\n      <td>-0.810494</td>\n      <td>0.633764</td>\n      <td>-0.625361</td>\n      <td>1.000000</td>\n      <td>-0.863036</td>\n      <td>-0.741260</td>\n      <td>0.258885</td>\n    </tr>\n    <tr>\n      <th>66507230</th>\n      <td>0.125049</td>\n      <td>-0.683817</td>\n      <td>-0.723503</td>\n      <td>-0.920466</td>\n      <td>-0.171470</td>\n      <td>-0.143010</td>\n      <td>-0.815357</td>\n      <td>-0.094431</td>\n      <td>0.722509</td>\n      <td>-0.440557</td>\n      <td>...</td>\n      <td>-0.279026</td>\n      <td>0.113021</td>\n      <td>0.719594</td>\n      <td>0.810159</td>\n      <td>-0.573915</td>\n      <td>0.627874</td>\n      <td>-0.863036</td>\n      <td>1.000000</td>\n      <td>0.691127</td>\n      <td>-0.268794</td>\n    </tr>\n    <tr>\n      <th>100227241</th>\n      <td>0.328254</td>\n      <td>-0.356078</td>\n      <td>-0.499214</td>\n      <td>-0.753756</td>\n      <td>-0.202907</td>\n      <td>-0.214869</td>\n      <td>-0.763040</td>\n      <td>0.041567</td>\n      <td>0.512998</td>\n      <td>-0.336517</td>\n      <td>...</td>\n      <td>-0.310991</td>\n      <td>0.035677</td>\n      <td>0.680801</td>\n      <td>0.642665</td>\n      <td>-0.567692</td>\n      <td>0.456922</td>\n      <td>-0.741260</td>\n      <td>0.691127</td>\n      <td>1.000000</td>\n      <td>-0.233544</td>\n    </tr>\n    <tr>\n      <th>y</th>\n      <td>0.157214</td>\n      <td>0.472200</td>\n      <td>0.580020</td>\n      <td>0.287044</td>\n      <td>0.152608</td>\n      <td>-0.552218</td>\n      <td>0.363425</td>\n      <td>-0.206036</td>\n      <td>-0.093115</td>\n      <td>0.692784</td>\n      <td>...</td>\n      <td>-0.372100</td>\n      <td>-0.398853</td>\n      <td>-0.370746</td>\n      <td>-0.465831</td>\n      <td>0.493329</td>\n      <td>-0.088278</td>\n      <td>0.258885</td>\n      <td>-0.268794</td>\n      <td>-0.233544</td>\n      <td>1.000000</td>\n    </tr>\n  </tbody>\n</table>\n<p>1399 rows × 1399 columns</p>\n</div>"
     },
     "metadata": {},
     "execution_count": 26
    }
   ],
   "source": [
    "df_ml.corr()"
   ]
  },
  {
   "cell_type": "code",
   "execution_count": 27,
   "metadata": {},
   "outputs": [],
   "source": [
    "def choix_features(heatmap, target, seuil):\n",
    "    \"\"\"\n",
    "    heatmap : matrice de corrélation\n",
    "    target : variable à prédire (output)\n",
    "    seuil : seuil minimum à partir duquel on accepte une variable dans la modélisation (en valeur absolue)\n",
    "    Fonction qui renvoie la liste des features sélectionnées pour la modélisation\n",
    "    \"\"\"\n",
    "    features = []\n",
    "    variables = list(heatmap)\n",
    "    for i in range(len(heatmap)-1):\n",
    "        if abs(heatmap[target][i]) > seuil:\n",
    "            features.append(variables[i])\n",
    "    return features"
   ]
  },
  {
   "cell_type": "code",
   "execution_count": 28,
   "metadata": {},
   "outputs": [
    {
     "output_type": "execute_result",
     "data": {
      "text/plain": [
       "['123095125',\n",
       " '54000612',\n",
       " '88230992',\n",
       " '506455295',\n",
       " '101740379',\n",
       " '129088667',\n",
       " '1057228658',\n",
       " '210582921',\n",
       " '102290754',\n",
       " '54000569',\n",
       " '336511521',\n",
       " '27363489',\n",
       " '42603855',\n",
       " '27415466',\n",
       " '583171360',\n",
       " '82387816',\n",
       " '613737748',\n",
       " '245187072',\n",
       " '27415665',\n",
       " '1765749389',\n",
       " '213992316',\n",
       " '213694482',\n",
       " '35908',\n",
       " '210573120',\n",
       " '213688824',\n",
       " '1062223873',\n",
       " '568135465',\n",
       " '214102967',\n",
       " '473204291',\n",
       " '27399735',\n",
       " '129125489',\n",
       " '129077035',\n",
       " '35196898',\n",
       " '37521',\n",
       " '653129412',\n",
       " '254224239',\n",
       " '10968855',\n",
       " '27246227',\n",
       " '653059015',\n",
       " '27363137',\n",
       " '7304',\n",
       " '129042700',\n",
       " '120827885',\n",
       " '315525484',\n",
       " '249554935',\n",
       " '27363256',\n",
       " '129161858',\n",
       " '1036226943',\n",
       " '66505513',\n",
       " '41610121',\n",
       " '1599931563',\n",
       " '124390478',\n",
       " '392576677',\n",
       " '287096529',\n",
       " '38319086',\n",
       " '35147530',\n",
       " '96512532',\n",
       " '653125838',\n",
       " '1057179405',\n",
       " '653080383',\n",
       " '6295',\n",
       " '1057045129',\n",
       " '85155919',\n",
       " '369011098',\n",
       " '389788858',\n",
       " '653083263',\n",
       " '15212034',\n",
       " '1057730786',\n",
       " '210395439',\n",
       " '82336035',\n",
       " '1057737444',\n",
       " '285001735',\n",
       " '36391',\n",
       " '100934967',\n",
       " '76121343',\n",
       " '102307005',\n",
       " '39149651',\n",
       " '54000555',\n",
       " '653143563',\n",
       " '1057758764',\n",
       " '49341735',\n",
       " '1062882947',\n",
       " '82396562',\n",
       " '15153595',\n",
       " '471094898',\n",
       " '1074060095',\n",
       " '120564786',\n",
       " '1063053136',\n",
       " '35380305',\n",
       " '27414527',\n",
       " '653165196',\n",
       " '49424560',\n",
       " '1074390359',\n",
       " '39565873',\n",
       " '27363206',\n",
       " '66491390',\n",
       " '54000610',\n",
       " '125918662',\n",
       " '6497',\n",
       " '102748267',\n",
       " '102752610',\n",
       " '35816213',\n",
       " '11580442']"
      ]
     },
     "metadata": {},
     "execution_count": 28
    }
   ],
   "source": [
    "# On l'applique à notre jeu de données\n",
    "features = choix_features(df_ml.corr(),'y',0.6)\n",
    "features"
   ]
  },
  {
   "cell_type": "code",
   "execution_count": 29,
   "metadata": {},
   "outputs": [
    {
     "output_type": "execute_result",
     "data": {
      "text/plain": [
       "103"
      ]
     },
     "metadata": {},
     "execution_count": 29
    }
   ],
   "source": [
    "len(features)"
   ]
  },
  {
   "cell_type": "code",
   "execution_count": 30,
   "metadata": {},
   "outputs": [
    {
     "output_type": "execute_result",
     "data": {
      "text/plain": [
       "286"
      ]
     },
     "metadata": {},
     "execution_count": 30
    }
   ],
   "source": [
    "len(df_t1)"
   ]
  },
  {
   "source": [
    "### Régression linéaire"
   ],
   "cell_type": "markdown",
   "metadata": {}
  },
  {
   "cell_type": "code",
   "execution_count": 31,
   "metadata": {},
   "outputs": [],
   "source": [
    "X = df_ml.loc[:,features]\n",
    "Y = df_ml.loc[:,'y']\n",
    "\n",
    "X_train, X_test, y_train, y_test = train_test_split(X, Y, test_size=0.3)"
   ]
  },
  {
   "cell_type": "code",
   "execution_count": 32,
   "metadata": {},
   "outputs": [
    {
     "output_type": "stream",
     "name": "stdout",
     "text": [
      "0.8558961032361835\n"
     ]
    }
   ],
   "source": [
    "# Machine Learning : Régression linéaire simple\n",
    "regressor = LinearRegression()\n",
    "regressor.fit(X_train, y_train)\n",
    "y_prediction = regressor.predict(X_test)\n",
    "y_prediction = np.round(y_prediction)\n",
    "\n",
    "print(sqrt(mean_squared_error(y_test, y_prediction)))"
   ]
  },
  {
   "cell_type": "code",
   "execution_count": 33,
   "metadata": {},
   "outputs": [
    {
     "output_type": "execute_result",
     "data": {
      "text/plain": [
       "Text(0, 0.5, 'Nombre prédit de vélibs disponibles dans la station choisie')"
      ]
     },
     "metadata": {},
     "execution_count": 33
    },
    {
     "output_type": "display_data",
     "data": {
      "text/plain": "<Figure size 432x288 with 1 Axes>",
      "image/svg+xml": "<?xml version=\"1.0\" encoding=\"utf-8\" standalone=\"no\"?>\n<!DOCTYPE svg PUBLIC \"-//W3C//DTD SVG 1.1//EN\"\n  \"http://www.w3.org/Graphics/SVG/1.1/DTD/svg11.dtd\">\n<!-- Created with matplotlib (https://matplotlib.org/) -->\n<svg height=\"309.298437pt\" version=\"1.1\" viewBox=\"0 0 383.003125 309.298437\" width=\"383.003125pt\" xmlns=\"http://www.w3.org/2000/svg\" xmlns:xlink=\"http://www.w3.org/1999/xlink\">\n <defs>\n  <style type=\"text/css\">\n*{stroke-linecap:butt;stroke-linejoin:round;}\n  </style>\n </defs>\n <g id=\"figure_1\">\n  <g id=\"patch_1\">\n   <path d=\"M 0 309.298437 \nL 383.003125 309.298437 \nL 383.003125 0 \nL 0 0 \nz\n\" style=\"fill:none;\"/>\n  </g>\n  <g id=\"axes_1\">\n   <g id=\"patch_2\">\n    <path d=\"M 41.003125 263.369219 \nL 375.803125 263.369219 \nL 375.803125 45.929219 \nL 41.003125 45.929219 \nz\n\" style=\"fill:#ffffff;\"/>\n   </g>\n   <g id=\"PathCollection_1\">\n    <defs>\n     <path d=\"M 0 3 \nC 0.795609 3 1.55874 2.683901 2.12132 2.12132 \nC 2.683901 1.55874 3 0.795609 3 0 \nC 3 -0.795609 2.683901 -1.55874 2.12132 -2.12132 \nC 1.55874 -2.683901 0.795609 -3 0 -3 \nC -0.795609 -3 -1.55874 -2.683901 -2.12132 -2.12132 \nC -2.683901 -1.55874 -3 -0.795609 -3 0 \nC -3 0.795609 -2.683901 1.55874 -2.12132 2.12132 \nC -1.55874 2.683901 -0.795609 3 0 3 \nz\n\" id=\"mc102479bbc\" style=\"stroke:#1f77b4;\"/>\n    </defs>\n    <g clip-path=\"url(#pbcd507e130)\">\n     <use style=\"fill:#1f77b4;stroke:#1f77b4;\" x=\"299.712216\" xlink:href=\"#mc102479bbc\" y=\"75.580128\"/>\n     <use style=\"fill:#1f77b4;stroke:#1f77b4;\" x=\"360.584943\" xlink:href=\"#mc102479bbc\" y=\"75.580128\"/>\n     <use style=\"fill:#1f77b4;stroke:#1f77b4;\" x=\"299.712216\" xlink:href=\"#mc102479bbc\" y=\"95.347401\"/>\n     <use style=\"fill:#1f77b4;stroke:#1f77b4;\" x=\"86.65767\" xlink:href=\"#mc102479bbc\" y=\"213.951037\"/>\n     <use style=\"fill:#1f77b4;stroke:#1f77b4;\" x=\"330.14858\" xlink:href=\"#mc102479bbc\" y=\"75.580128\"/>\n     <use style=\"fill:#1f77b4;stroke:#1f77b4;\" x=\"177.966761\" xlink:href=\"#mc102479bbc\" y=\"194.183764\"/>\n     <use style=\"fill:#1f77b4;stroke:#1f77b4;\" x=\"330.14858\" xlink:href=\"#mc102479bbc\" y=\"75.580128\"/>\n     <use style=\"fill:#1f77b4;stroke:#1f77b4;\" x=\"299.712216\" xlink:href=\"#mc102479bbc\" y=\"115.114673\"/>\n     <use style=\"fill:#1f77b4;stroke:#1f77b4;\" x=\"238.839489\" xlink:href=\"#mc102479bbc\" y=\"154.649219\"/>\n     <use style=\"fill:#1f77b4;stroke:#1f77b4;\" x=\"177.966761\" xlink:href=\"#mc102479bbc\" y=\"174.416491\"/>\n     <use style=\"fill:#1f77b4;stroke:#1f77b4;\" x=\"299.712216\" xlink:href=\"#mc102479bbc\" y=\"115.114673\"/>\n     <use style=\"fill:#1f77b4;stroke:#1f77b4;\" x=\"86.65767\" xlink:href=\"#mc102479bbc\" y=\"233.71831\"/>\n     <use style=\"fill:#1f77b4;stroke:#1f77b4;\" x=\"238.839489\" xlink:href=\"#mc102479bbc\" y=\"154.649219\"/>\n     <use style=\"fill:#1f77b4;stroke:#1f77b4;\" x=\"299.712216\" xlink:href=\"#mc102479bbc\" y=\"95.347401\"/>\n     <use style=\"fill:#1f77b4;stroke:#1f77b4;\" x=\"330.14858\" xlink:href=\"#mc102479bbc\" y=\"75.580128\"/>\n     <use style=\"fill:#1f77b4;stroke:#1f77b4;\" x=\"56.221307\" xlink:href=\"#mc102479bbc\" y=\"213.951037\"/>\n     <use style=\"fill:#1f77b4;stroke:#1f77b4;\" x=\"299.712216\" xlink:href=\"#mc102479bbc\" y=\"95.347401\"/>\n     <use style=\"fill:#1f77b4;stroke:#1f77b4;\" x=\"330.14858\" xlink:href=\"#mc102479bbc\" y=\"55.812855\"/>\n     <use style=\"fill:#1f77b4;stroke:#1f77b4;\" x=\"330.14858\" xlink:href=\"#mc102479bbc\" y=\"75.580128\"/>\n     <use style=\"fill:#1f77b4;stroke:#1f77b4;\" x=\"330.14858\" xlink:href=\"#mc102479bbc\" y=\"75.580128\"/>\n     <use style=\"fill:#1f77b4;stroke:#1f77b4;\" x=\"86.65767\" xlink:href=\"#mc102479bbc\" y=\"213.951037\"/>\n     <use style=\"fill:#1f77b4;stroke:#1f77b4;\" x=\"269.275852\" xlink:href=\"#mc102479bbc\" y=\"154.649219\"/>\n     <use style=\"fill:#1f77b4;stroke:#1f77b4;\" x=\"299.712216\" xlink:href=\"#mc102479bbc\" y=\"75.580128\"/>\n     <use style=\"fill:#1f77b4;stroke:#1f77b4;\" x=\"269.275852\" xlink:href=\"#mc102479bbc\" y=\"115.114673\"/>\n     <use style=\"fill:#1f77b4;stroke:#1f77b4;\" x=\"238.839489\" xlink:href=\"#mc102479bbc\" y=\"115.114673\"/>\n     <use style=\"fill:#1f77b4;stroke:#1f77b4;\" x=\"330.14858\" xlink:href=\"#mc102479bbc\" y=\"75.580128\"/>\n     <use style=\"fill:#1f77b4;stroke:#1f77b4;\" x=\"299.712216\" xlink:href=\"#mc102479bbc\" y=\"95.347401\"/>\n     <use style=\"fill:#1f77b4;stroke:#1f77b4;\" x=\"177.966761\" xlink:href=\"#mc102479bbc\" y=\"213.951037\"/>\n     <use style=\"fill:#1f77b4;stroke:#1f77b4;\" x=\"299.712216\" xlink:href=\"#mc102479bbc\" y=\"95.347401\"/>\n     <use style=\"fill:#1f77b4;stroke:#1f77b4;\" x=\"299.712216\" xlink:href=\"#mc102479bbc\" y=\"95.347401\"/>\n     <use style=\"fill:#1f77b4;stroke:#1f77b4;\" x=\"147.530398\" xlink:href=\"#mc102479bbc\" y=\"194.183764\"/>\n     <use style=\"fill:#1f77b4;stroke:#1f77b4;\" x=\"299.712216\" xlink:href=\"#mc102479bbc\" y=\"75.580128\"/>\n     <use style=\"fill:#1f77b4;stroke:#1f77b4;\" x=\"269.275852\" xlink:href=\"#mc102479bbc\" y=\"95.347401\"/>\n     <use style=\"fill:#1f77b4;stroke:#1f77b4;\" x=\"147.530398\" xlink:href=\"#mc102479bbc\" y=\"194.183764\"/>\n     <use style=\"fill:#1f77b4;stroke:#1f77b4;\" x=\"299.712216\" xlink:href=\"#mc102479bbc\" y=\"95.347401\"/>\n     <use style=\"fill:#1f77b4;stroke:#1f77b4;\" x=\"299.712216\" xlink:href=\"#mc102479bbc\" y=\"95.347401\"/>\n     <use style=\"fill:#1f77b4;stroke:#1f77b4;\" x=\"147.530398\" xlink:href=\"#mc102479bbc\" y=\"194.183764\"/>\n     <use style=\"fill:#1f77b4;stroke:#1f77b4;\" x=\"330.14858\" xlink:href=\"#mc102479bbc\" y=\"75.580128\"/>\n     <use style=\"fill:#1f77b4;stroke:#1f77b4;\" x=\"117.094034\" xlink:href=\"#mc102479bbc\" y=\"213.951037\"/>\n     <use style=\"fill:#1f77b4;stroke:#1f77b4;\" x=\"177.966761\" xlink:href=\"#mc102479bbc\" y=\"194.183764\"/>\n     <use style=\"fill:#1f77b4;stroke:#1f77b4;\" x=\"360.584943\" xlink:href=\"#mc102479bbc\" y=\"75.580128\"/>\n     <use style=\"fill:#1f77b4;stroke:#1f77b4;\" x=\"330.14858\" xlink:href=\"#mc102479bbc\" y=\"75.580128\"/>\n     <use style=\"fill:#1f77b4;stroke:#1f77b4;\" x=\"299.712216\" xlink:href=\"#mc102479bbc\" y=\"95.347401\"/>\n     <use style=\"fill:#1f77b4;stroke:#1f77b4;\" x=\"299.712216\" xlink:href=\"#mc102479bbc\" y=\"95.347401\"/>\n     <use style=\"fill:#1f77b4;stroke:#1f77b4;\" x=\"330.14858\" xlink:href=\"#mc102479bbc\" y=\"95.347401\"/>\n     <use style=\"fill:#1f77b4;stroke:#1f77b4;\" x=\"208.403125\" xlink:href=\"#mc102479bbc\" y=\"115.114673\"/>\n     <use style=\"fill:#1f77b4;stroke:#1f77b4;\" x=\"299.712216\" xlink:href=\"#mc102479bbc\" y=\"95.347401\"/>\n     <use style=\"fill:#1f77b4;stroke:#1f77b4;\" x=\"299.712216\" xlink:href=\"#mc102479bbc\" y=\"95.347401\"/>\n     <use style=\"fill:#1f77b4;stroke:#1f77b4;\" x=\"330.14858\" xlink:href=\"#mc102479bbc\" y=\"75.580128\"/>\n     <use style=\"fill:#1f77b4;stroke:#1f77b4;\" x=\"299.712216\" xlink:href=\"#mc102479bbc\" y=\"95.347401\"/>\n     <use style=\"fill:#1f77b4;stroke:#1f77b4;\" x=\"299.712216\" xlink:href=\"#mc102479bbc\" y=\"75.580128\"/>\n     <use style=\"fill:#1f77b4;stroke:#1f77b4;\" x=\"269.275852\" xlink:href=\"#mc102479bbc\" y=\"55.812855\"/>\n     <use style=\"fill:#1f77b4;stroke:#1f77b4;\" x=\"299.712216\" xlink:href=\"#mc102479bbc\" y=\"95.347401\"/>\n     <use style=\"fill:#1f77b4;stroke:#1f77b4;\" x=\"299.712216\" xlink:href=\"#mc102479bbc\" y=\"95.347401\"/>\n     <use style=\"fill:#1f77b4;stroke:#1f77b4;\" x=\"299.712216\" xlink:href=\"#mc102479bbc\" y=\"134.881946\"/>\n     <use style=\"fill:#1f77b4;stroke:#1f77b4;\" x=\"330.14858\" xlink:href=\"#mc102479bbc\" y=\"75.580128\"/>\n     <use style=\"fill:#1f77b4;stroke:#1f77b4;\" x=\"299.712216\" xlink:href=\"#mc102479bbc\" y=\"95.347401\"/>\n     <use style=\"fill:#1f77b4;stroke:#1f77b4;\" x=\"330.14858\" xlink:href=\"#mc102479bbc\" y=\"75.580128\"/>\n     <use style=\"fill:#1f77b4;stroke:#1f77b4;\" x=\"330.14858\" xlink:href=\"#mc102479bbc\" y=\"55.812855\"/>\n     <use style=\"fill:#1f77b4;stroke:#1f77b4;\" x=\"86.65767\" xlink:href=\"#mc102479bbc\" y=\"253.485582\"/>\n     <use style=\"fill:#1f77b4;stroke:#1f77b4;\" x=\"177.966761\" xlink:href=\"#mc102479bbc\" y=\"174.416491\"/>\n     <use style=\"fill:#1f77b4;stroke:#1f77b4;\" x=\"299.712216\" xlink:href=\"#mc102479bbc\" y=\"95.347401\"/>\n     <use style=\"fill:#1f77b4;stroke:#1f77b4;\" x=\"299.712216\" xlink:href=\"#mc102479bbc\" y=\"95.347401\"/>\n     <use style=\"fill:#1f77b4;stroke:#1f77b4;\" x=\"177.966761\" xlink:href=\"#mc102479bbc\" y=\"154.649219\"/>\n     <use style=\"fill:#1f77b4;stroke:#1f77b4;\" x=\"147.530398\" xlink:href=\"#mc102479bbc\" y=\"213.951037\"/>\n     <use style=\"fill:#1f77b4;stroke:#1f77b4;\" x=\"299.712216\" xlink:href=\"#mc102479bbc\" y=\"95.347401\"/>\n     <use style=\"fill:#1f77b4;stroke:#1f77b4;\" x=\"299.712216\" xlink:href=\"#mc102479bbc\" y=\"95.347401\"/>\n     <use style=\"fill:#1f77b4;stroke:#1f77b4;\" x=\"299.712216\" xlink:href=\"#mc102479bbc\" y=\"95.347401\"/>\n     <use style=\"fill:#1f77b4;stroke:#1f77b4;\" x=\"238.839489\" xlink:href=\"#mc102479bbc\" y=\"115.114673\"/>\n     <use style=\"fill:#1f77b4;stroke:#1f77b4;\" x=\"360.584943\" xlink:href=\"#mc102479bbc\" y=\"95.347401\"/>\n     <use style=\"fill:#1f77b4;stroke:#1f77b4;\" x=\"330.14858\" xlink:href=\"#mc102479bbc\" y=\"75.580128\"/>\n     <use style=\"fill:#1f77b4;stroke:#1f77b4;\" x=\"360.584943\" xlink:href=\"#mc102479bbc\" y=\"75.580128\"/>\n     <use style=\"fill:#1f77b4;stroke:#1f77b4;\" x=\"299.712216\" xlink:href=\"#mc102479bbc\" y=\"95.347401\"/>\n     <use style=\"fill:#1f77b4;stroke:#1f77b4;\" x=\"299.712216\" xlink:href=\"#mc102479bbc\" y=\"75.580128\"/>\n     <use style=\"fill:#1f77b4;stroke:#1f77b4;\" x=\"299.712216\" xlink:href=\"#mc102479bbc\" y=\"95.347401\"/>\n     <use style=\"fill:#1f77b4;stroke:#1f77b4;\" x=\"299.712216\" xlink:href=\"#mc102479bbc\" y=\"95.347401\"/>\n     <use style=\"fill:#1f77b4;stroke:#1f77b4;\" x=\"269.275852\" xlink:href=\"#mc102479bbc\" y=\"134.881946\"/>\n     <use style=\"fill:#1f77b4;stroke:#1f77b4;\" x=\"330.14858\" xlink:href=\"#mc102479bbc\" y=\"75.580128\"/>\n     <use style=\"fill:#1f77b4;stroke:#1f77b4;\" x=\"330.14858\" xlink:href=\"#mc102479bbc\" y=\"55.812855\"/>\n     <use style=\"fill:#1f77b4;stroke:#1f77b4;\" x=\"330.14858\" xlink:href=\"#mc102479bbc\" y=\"75.580128\"/>\n     <use style=\"fill:#1f77b4;stroke:#1f77b4;\" x=\"299.712216\" xlink:href=\"#mc102479bbc\" y=\"75.580128\"/>\n     <use style=\"fill:#1f77b4;stroke:#1f77b4;\" x=\"299.712216\" xlink:href=\"#mc102479bbc\" y=\"95.347401\"/>\n     <use style=\"fill:#1f77b4;stroke:#1f77b4;\" x=\"299.712216\" xlink:href=\"#mc102479bbc\" y=\"95.347401\"/>\n     <use style=\"fill:#1f77b4;stroke:#1f77b4;\" x=\"330.14858\" xlink:href=\"#mc102479bbc\" y=\"75.580128\"/>\n     <use style=\"fill:#1f77b4;stroke:#1f77b4;\" x=\"299.712216\" xlink:href=\"#mc102479bbc\" y=\"115.114673\"/>\n     <use style=\"fill:#1f77b4;stroke:#1f77b4;\" x=\"208.403125\" xlink:href=\"#mc102479bbc\" y=\"134.881946\"/>\n    </g>\n   </g>\n   <g id=\"matplotlib.axis_1\">\n    <g id=\"xtick_1\">\n     <g id=\"line2d_1\">\n      <defs>\n       <path d=\"M 0 0 \nL 0 3.5 \n\" id=\"m5f9afbf389\" style=\"stroke:#000000;stroke-width:0.8;\"/>\n      </defs>\n      <g>\n       <use style=\"stroke:#000000;stroke-width:0.8;\" x=\"56.221307\" xlink:href=\"#m5f9afbf389\" y=\"263.369219\"/>\n      </g>\n     </g>\n     <g id=\"text_1\">\n      <!-- 0 -->\n      <defs>\n       <path d=\"M 31.78125 66.40625 \nQ 24.171875 66.40625 20.328125 58.90625 \nQ 16.5 51.421875 16.5 36.375 \nQ 16.5 21.390625 20.328125 13.890625 \nQ 24.171875 6.390625 31.78125 6.390625 \nQ 39.453125 6.390625 43.28125 13.890625 \nQ 47.125 21.390625 47.125 36.375 \nQ 47.125 51.421875 43.28125 58.90625 \nQ 39.453125 66.40625 31.78125 66.40625 \nz\nM 31.78125 74.21875 \nQ 44.046875 74.21875 50.515625 64.515625 \nQ 56.984375 54.828125 56.984375 36.375 \nQ 56.984375 17.96875 50.515625 8.265625 \nQ 44.046875 -1.421875 31.78125 -1.421875 \nQ 19.53125 -1.421875 13.0625 8.265625 \nQ 6.59375 17.96875 6.59375 36.375 \nQ 6.59375 54.828125 13.0625 64.515625 \nQ 19.53125 74.21875 31.78125 74.21875 \nz\n\" id=\"DejaVuSans-48\"/>\n      </defs>\n      <g transform=\"translate(53.040057 277.967656)scale(0.1 -0.1)\">\n       <use xlink:href=\"#DejaVuSans-48\"/>\n      </g>\n     </g>\n    </g>\n    <g id=\"xtick_2\">\n     <g id=\"line2d_2\">\n      <g>\n       <use style=\"stroke:#000000;stroke-width:0.8;\" x=\"117.094034\" xlink:href=\"#m5f9afbf389\" y=\"263.369219\"/>\n      </g>\n     </g>\n     <g id=\"text_2\">\n      <!-- 2 -->\n      <defs>\n       <path d=\"M 19.1875 8.296875 \nL 53.609375 8.296875 \nL 53.609375 0 \nL 7.328125 0 \nL 7.328125 8.296875 \nQ 12.9375 14.109375 22.625 23.890625 \nQ 32.328125 33.6875 34.8125 36.53125 \nQ 39.546875 41.84375 41.421875 45.53125 \nQ 43.3125 49.21875 43.3125 52.78125 \nQ 43.3125 58.59375 39.234375 62.25 \nQ 35.15625 65.921875 28.609375 65.921875 \nQ 23.96875 65.921875 18.8125 64.3125 \nQ 13.671875 62.703125 7.8125 59.421875 \nL 7.8125 69.390625 \nQ 13.765625 71.78125 18.9375 73 \nQ 24.125 74.21875 28.421875 74.21875 \nQ 39.75 74.21875 46.484375 68.546875 \nQ 53.21875 62.890625 53.21875 53.421875 \nQ 53.21875 48.921875 51.53125 44.890625 \nQ 49.859375 40.875 45.40625 35.40625 \nQ 44.1875 33.984375 37.640625 27.21875 \nQ 31.109375 20.453125 19.1875 8.296875 \nz\n\" id=\"DejaVuSans-50\"/>\n      </defs>\n      <g transform=\"translate(113.912784 277.967656)scale(0.1 -0.1)\">\n       <use xlink:href=\"#DejaVuSans-50\"/>\n      </g>\n     </g>\n    </g>\n    <g id=\"xtick_3\">\n     <g id=\"line2d_3\">\n      <g>\n       <use style=\"stroke:#000000;stroke-width:0.8;\" x=\"177.966761\" xlink:href=\"#m5f9afbf389\" y=\"263.369219\"/>\n      </g>\n     </g>\n     <g id=\"text_3\">\n      <!-- 4 -->\n      <defs>\n       <path d=\"M 37.796875 64.3125 \nL 12.890625 25.390625 \nL 37.796875 25.390625 \nz\nM 35.203125 72.90625 \nL 47.609375 72.90625 \nL 47.609375 25.390625 \nL 58.015625 25.390625 \nL 58.015625 17.1875 \nL 47.609375 17.1875 \nL 47.609375 0 \nL 37.796875 0 \nL 37.796875 17.1875 \nL 4.890625 17.1875 \nL 4.890625 26.703125 \nz\n\" id=\"DejaVuSans-52\"/>\n      </defs>\n      <g transform=\"translate(174.785511 277.967656)scale(0.1 -0.1)\">\n       <use xlink:href=\"#DejaVuSans-52\"/>\n      </g>\n     </g>\n    </g>\n    <g id=\"xtick_4\">\n     <g id=\"line2d_4\">\n      <g>\n       <use style=\"stroke:#000000;stroke-width:0.8;\" x=\"238.839489\" xlink:href=\"#m5f9afbf389\" y=\"263.369219\"/>\n      </g>\n     </g>\n     <g id=\"text_4\">\n      <!-- 6 -->\n      <defs>\n       <path d=\"M 33.015625 40.375 \nQ 26.375 40.375 22.484375 35.828125 \nQ 18.609375 31.296875 18.609375 23.390625 \nQ 18.609375 15.53125 22.484375 10.953125 \nQ 26.375 6.390625 33.015625 6.390625 \nQ 39.65625 6.390625 43.53125 10.953125 \nQ 47.40625 15.53125 47.40625 23.390625 \nQ 47.40625 31.296875 43.53125 35.828125 \nQ 39.65625 40.375 33.015625 40.375 \nz\nM 52.59375 71.296875 \nL 52.59375 62.3125 \nQ 48.875 64.0625 45.09375 64.984375 \nQ 41.3125 65.921875 37.59375 65.921875 \nQ 27.828125 65.921875 22.671875 59.328125 \nQ 17.53125 52.734375 16.796875 39.40625 \nQ 19.671875 43.65625 24.015625 45.921875 \nQ 28.375 48.1875 33.59375 48.1875 \nQ 44.578125 48.1875 50.953125 41.515625 \nQ 57.328125 34.859375 57.328125 23.390625 \nQ 57.328125 12.15625 50.6875 5.359375 \nQ 44.046875 -1.421875 33.015625 -1.421875 \nQ 20.359375 -1.421875 13.671875 8.265625 \nQ 6.984375 17.96875 6.984375 36.375 \nQ 6.984375 53.65625 15.1875 63.9375 \nQ 23.390625 74.21875 37.203125 74.21875 \nQ 40.921875 74.21875 44.703125 73.484375 \nQ 48.484375 72.75 52.59375 71.296875 \nz\n\" id=\"DejaVuSans-54\"/>\n      </defs>\n      <g transform=\"translate(235.658239 277.967656)scale(0.1 -0.1)\">\n       <use xlink:href=\"#DejaVuSans-54\"/>\n      </g>\n     </g>\n    </g>\n    <g id=\"xtick_5\">\n     <g id=\"line2d_5\">\n      <g>\n       <use style=\"stroke:#000000;stroke-width:0.8;\" x=\"299.712216\" xlink:href=\"#m5f9afbf389\" y=\"263.369219\"/>\n      </g>\n     </g>\n     <g id=\"text_5\">\n      <!-- 8 -->\n      <defs>\n       <path d=\"M 31.78125 34.625 \nQ 24.75 34.625 20.71875 30.859375 \nQ 16.703125 27.09375 16.703125 20.515625 \nQ 16.703125 13.921875 20.71875 10.15625 \nQ 24.75 6.390625 31.78125 6.390625 \nQ 38.8125 6.390625 42.859375 10.171875 \nQ 46.921875 13.96875 46.921875 20.515625 \nQ 46.921875 27.09375 42.890625 30.859375 \nQ 38.875 34.625 31.78125 34.625 \nz\nM 21.921875 38.8125 \nQ 15.578125 40.375 12.03125 44.71875 \nQ 8.5 49.078125 8.5 55.328125 \nQ 8.5 64.0625 14.71875 69.140625 \nQ 20.953125 74.21875 31.78125 74.21875 \nQ 42.671875 74.21875 48.875 69.140625 \nQ 55.078125 64.0625 55.078125 55.328125 \nQ 55.078125 49.078125 51.53125 44.71875 \nQ 48 40.375 41.703125 38.8125 \nQ 48.828125 37.15625 52.796875 32.3125 \nQ 56.78125 27.484375 56.78125 20.515625 \nQ 56.78125 9.90625 50.3125 4.234375 \nQ 43.84375 -1.421875 31.78125 -1.421875 \nQ 19.734375 -1.421875 13.25 4.234375 \nQ 6.78125 9.90625 6.78125 20.515625 \nQ 6.78125 27.484375 10.78125 32.3125 \nQ 14.796875 37.15625 21.921875 38.8125 \nz\nM 18.3125 54.390625 \nQ 18.3125 48.734375 21.84375 45.5625 \nQ 25.390625 42.390625 31.78125 42.390625 \nQ 38.140625 42.390625 41.71875 45.5625 \nQ 45.3125 48.734375 45.3125 54.390625 \nQ 45.3125 60.0625 41.71875 63.234375 \nQ 38.140625 66.40625 31.78125 66.40625 \nQ 25.390625 66.40625 21.84375 63.234375 \nQ 18.3125 60.0625 18.3125 54.390625 \nz\n\" id=\"DejaVuSans-56\"/>\n      </defs>\n      <g transform=\"translate(296.530966 277.967656)scale(0.1 -0.1)\">\n       <use xlink:href=\"#DejaVuSans-56\"/>\n      </g>\n     </g>\n    </g>\n    <g id=\"xtick_6\">\n     <g id=\"line2d_6\">\n      <g>\n       <use style=\"stroke:#000000;stroke-width:0.8;\" x=\"360.584943\" xlink:href=\"#m5f9afbf389\" y=\"263.369219\"/>\n      </g>\n     </g>\n     <g id=\"text_6\">\n      <!-- 10 -->\n      <defs>\n       <path d=\"M 12.40625 8.296875 \nL 28.515625 8.296875 \nL 28.515625 63.921875 \nL 10.984375 60.40625 \nL 10.984375 69.390625 \nL 28.421875 72.90625 \nL 38.28125 72.90625 \nL 38.28125 8.296875 \nL 54.390625 8.296875 \nL 54.390625 0 \nL 12.40625 0 \nz\n\" id=\"DejaVuSans-49\"/>\n      </defs>\n      <g transform=\"translate(354.222443 277.967656)scale(0.1 -0.1)\">\n       <use xlink:href=\"#DejaVuSans-49\"/>\n       <use x=\"63.623047\" xlink:href=\"#DejaVuSans-48\"/>\n      </g>\n     </g>\n    </g>\n    <g id=\"text_7\">\n     <!-- Nombre réel de vélibs disponibles -->\n     <defs>\n      <path d=\"M 9.8125 72.90625 \nL 23.09375 72.90625 \nL 55.421875 11.921875 \nL 55.421875 72.90625 \nL 64.984375 72.90625 \nL 64.984375 0 \nL 51.703125 0 \nL 19.390625 60.984375 \nL 19.390625 0 \nL 9.8125 0 \nz\n\" id=\"DejaVuSans-78\"/>\n      <path d=\"M 30.609375 48.390625 \nQ 23.390625 48.390625 19.1875 42.75 \nQ 14.984375 37.109375 14.984375 27.296875 \nQ 14.984375 17.484375 19.15625 11.84375 \nQ 23.34375 6.203125 30.609375 6.203125 \nQ 37.796875 6.203125 41.984375 11.859375 \nQ 46.1875 17.53125 46.1875 27.296875 \nQ 46.1875 37.015625 41.984375 42.703125 \nQ 37.796875 48.390625 30.609375 48.390625 \nz\nM 30.609375 56 \nQ 42.328125 56 49.015625 48.375 \nQ 55.71875 40.765625 55.71875 27.296875 \nQ 55.71875 13.875 49.015625 6.21875 \nQ 42.328125 -1.421875 30.609375 -1.421875 \nQ 18.84375 -1.421875 12.171875 6.21875 \nQ 5.515625 13.875 5.515625 27.296875 \nQ 5.515625 40.765625 12.171875 48.375 \nQ 18.84375 56 30.609375 56 \nz\n\" id=\"DejaVuSans-111\"/>\n      <path d=\"M 52 44.1875 \nQ 55.375 50.25 60.0625 53.125 \nQ 64.75 56 71.09375 56 \nQ 79.640625 56 84.28125 50.015625 \nQ 88.921875 44.046875 88.921875 33.015625 \nL 88.921875 0 \nL 79.890625 0 \nL 79.890625 32.71875 \nQ 79.890625 40.578125 77.09375 44.375 \nQ 74.3125 48.1875 68.609375 48.1875 \nQ 61.625 48.1875 57.5625 43.546875 \nQ 53.515625 38.921875 53.515625 30.90625 \nL 53.515625 0 \nL 44.484375 0 \nL 44.484375 32.71875 \nQ 44.484375 40.625 41.703125 44.40625 \nQ 38.921875 48.1875 33.109375 48.1875 \nQ 26.21875 48.1875 22.15625 43.53125 \nQ 18.109375 38.875 18.109375 30.90625 \nL 18.109375 0 \nL 9.078125 0 \nL 9.078125 54.6875 \nL 18.109375 54.6875 \nL 18.109375 46.1875 \nQ 21.1875 51.21875 25.484375 53.609375 \nQ 29.78125 56 35.6875 56 \nQ 41.65625 56 45.828125 52.96875 \nQ 50 49.953125 52 44.1875 \nz\n\" id=\"DejaVuSans-109\"/>\n      <path d=\"M 48.6875 27.296875 \nQ 48.6875 37.203125 44.609375 42.84375 \nQ 40.53125 48.484375 33.40625 48.484375 \nQ 26.265625 48.484375 22.1875 42.84375 \nQ 18.109375 37.203125 18.109375 27.296875 \nQ 18.109375 17.390625 22.1875 11.75 \nQ 26.265625 6.109375 33.40625 6.109375 \nQ 40.53125 6.109375 44.609375 11.75 \nQ 48.6875 17.390625 48.6875 27.296875 \nz\nM 18.109375 46.390625 \nQ 20.953125 51.265625 25.265625 53.625 \nQ 29.59375 56 35.59375 56 \nQ 45.5625 56 51.78125 48.09375 \nQ 58.015625 40.1875 58.015625 27.296875 \nQ 58.015625 14.40625 51.78125 6.484375 \nQ 45.5625 -1.421875 35.59375 -1.421875 \nQ 29.59375 -1.421875 25.265625 0.953125 \nQ 20.953125 3.328125 18.109375 8.203125 \nL 18.109375 0 \nL 9.078125 0 \nL 9.078125 75.984375 \nL 18.109375 75.984375 \nz\n\" id=\"DejaVuSans-98\"/>\n      <path d=\"M 41.109375 46.296875 \nQ 39.59375 47.171875 37.8125 47.578125 \nQ 36.03125 48 33.890625 48 \nQ 26.265625 48 22.1875 43.046875 \nQ 18.109375 38.09375 18.109375 28.8125 \nL 18.109375 0 \nL 9.078125 0 \nL 9.078125 54.6875 \nL 18.109375 54.6875 \nL 18.109375 46.1875 \nQ 20.953125 51.171875 25.484375 53.578125 \nQ 30.03125 56 36.53125 56 \nQ 37.453125 56 38.578125 55.875 \nQ 39.703125 55.765625 41.0625 55.515625 \nz\n\" id=\"DejaVuSans-114\"/>\n      <path d=\"M 56.203125 29.59375 \nL 56.203125 25.203125 \nL 14.890625 25.203125 \nQ 15.484375 15.921875 20.484375 11.0625 \nQ 25.484375 6.203125 34.421875 6.203125 \nQ 39.59375 6.203125 44.453125 7.46875 \nQ 49.3125 8.734375 54.109375 11.28125 \nL 54.109375 2.78125 \nQ 49.265625 0.734375 44.1875 -0.34375 \nQ 39.109375 -1.421875 33.890625 -1.421875 \nQ 20.796875 -1.421875 13.15625 6.1875 \nQ 5.515625 13.8125 5.515625 26.8125 \nQ 5.515625 40.234375 12.765625 48.109375 \nQ 20.015625 56 32.328125 56 \nQ 43.359375 56 49.78125 48.890625 \nQ 56.203125 41.796875 56.203125 29.59375 \nz\nM 47.21875 32.234375 \nQ 47.125 39.59375 43.09375 43.984375 \nQ 39.0625 48.390625 32.421875 48.390625 \nQ 24.90625 48.390625 20.390625 44.140625 \nQ 15.875 39.890625 15.1875 32.171875 \nz\n\" id=\"DejaVuSans-101\"/>\n      <path id=\"DejaVuSans-32\"/>\n      <path d=\"M 56.203125 29.59375 \nL 56.203125 25.203125 \nL 14.890625 25.203125 \nQ 15.484375 15.921875 20.484375 11.0625 \nQ 25.484375 6.203125 34.421875 6.203125 \nQ 39.59375 6.203125 44.453125 7.46875 \nQ 49.3125 8.734375 54.109375 11.28125 \nL 54.109375 2.78125 \nQ 49.265625 0.734375 44.1875 -0.34375 \nQ 39.109375 -1.421875 33.890625 -1.421875 \nQ 20.796875 -1.421875 13.15625 6.1875 \nQ 5.515625 13.8125 5.515625 26.8125 \nQ 5.515625 40.234375 12.765625 48.109375 \nQ 20.015625 56 32.328125 56 \nQ 43.359375 56 49.78125 48.890625 \nQ 56.203125 41.796875 56.203125 29.59375 \nz\nM 47.21875 32.234375 \nQ 47.125 39.59375 43.09375 43.984375 \nQ 39.0625 48.390625 32.421875 48.390625 \nQ 24.90625 48.390625 20.390625 44.140625 \nQ 15.875 39.890625 15.1875 32.171875 \nz\nM 38.53125 79.984375 \nL 48.25 79.984375 \nL 32.34375 61.625 \nL 24.859375 61.625 \nz\n\" id=\"DejaVuSans-233\"/>\n      <path d=\"M 9.421875 75.984375 \nL 18.40625 75.984375 \nL 18.40625 0 \nL 9.421875 0 \nz\n\" id=\"DejaVuSans-108\"/>\n      <path d=\"M 45.40625 46.390625 \nL 45.40625 75.984375 \nL 54.390625 75.984375 \nL 54.390625 0 \nL 45.40625 0 \nL 45.40625 8.203125 \nQ 42.578125 3.328125 38.25 0.953125 \nQ 33.9375 -1.421875 27.875 -1.421875 \nQ 17.96875 -1.421875 11.734375 6.484375 \nQ 5.515625 14.40625 5.515625 27.296875 \nQ 5.515625 40.1875 11.734375 48.09375 \nQ 17.96875 56 27.875 56 \nQ 33.9375 56 38.25 53.625 \nQ 42.578125 51.265625 45.40625 46.390625 \nz\nM 14.796875 27.296875 \nQ 14.796875 17.390625 18.875 11.75 \nQ 22.953125 6.109375 30.078125 6.109375 \nQ 37.203125 6.109375 41.296875 11.75 \nQ 45.40625 17.390625 45.40625 27.296875 \nQ 45.40625 37.203125 41.296875 42.84375 \nQ 37.203125 48.484375 30.078125 48.484375 \nQ 22.953125 48.484375 18.875 42.84375 \nQ 14.796875 37.203125 14.796875 27.296875 \nz\n\" id=\"DejaVuSans-100\"/>\n      <path d=\"M 2.984375 54.6875 \nL 12.5 54.6875 \nL 29.59375 8.796875 \nL 46.6875 54.6875 \nL 56.203125 54.6875 \nL 35.6875 0 \nL 23.484375 0 \nz\n\" id=\"DejaVuSans-118\"/>\n      <path d=\"M 9.421875 54.6875 \nL 18.40625 54.6875 \nL 18.40625 0 \nL 9.421875 0 \nz\nM 9.421875 75.984375 \nL 18.40625 75.984375 \nL 18.40625 64.59375 \nL 9.421875 64.59375 \nz\n\" id=\"DejaVuSans-105\"/>\n      <path d=\"M 44.28125 53.078125 \nL 44.28125 44.578125 \nQ 40.484375 46.53125 36.375 47.5 \nQ 32.28125 48.484375 27.875 48.484375 \nQ 21.1875 48.484375 17.84375 46.4375 \nQ 14.5 44.390625 14.5 40.28125 \nQ 14.5 37.15625 16.890625 35.375 \nQ 19.28125 33.59375 26.515625 31.984375 \nL 29.59375 31.296875 \nQ 39.15625 29.25 43.1875 25.515625 \nQ 47.21875 21.78125 47.21875 15.09375 \nQ 47.21875 7.46875 41.1875 3.015625 \nQ 35.15625 -1.421875 24.609375 -1.421875 \nQ 20.21875 -1.421875 15.453125 -0.5625 \nQ 10.6875 0.296875 5.421875 2 \nL 5.421875 11.28125 \nQ 10.40625 8.6875 15.234375 7.390625 \nQ 20.0625 6.109375 24.8125 6.109375 \nQ 31.15625 6.109375 34.5625 8.28125 \nQ 37.984375 10.453125 37.984375 14.40625 \nQ 37.984375 18.0625 35.515625 20.015625 \nQ 33.0625 21.96875 24.703125 23.78125 \nL 21.578125 24.515625 \nQ 13.234375 26.265625 9.515625 29.90625 \nQ 5.8125 33.546875 5.8125 39.890625 \nQ 5.8125 47.609375 11.28125 51.796875 \nQ 16.75 56 26.8125 56 \nQ 31.78125 56 36.171875 55.265625 \nQ 40.578125 54.546875 44.28125 53.078125 \nz\n\" id=\"DejaVuSans-115\"/>\n      <path d=\"M 18.109375 8.203125 \nL 18.109375 -20.796875 \nL 9.078125 -20.796875 \nL 9.078125 54.6875 \nL 18.109375 54.6875 \nL 18.109375 46.390625 \nQ 20.953125 51.265625 25.265625 53.625 \nQ 29.59375 56 35.59375 56 \nQ 45.5625 56 51.78125 48.09375 \nQ 58.015625 40.1875 58.015625 27.296875 \nQ 58.015625 14.40625 51.78125 6.484375 \nQ 45.5625 -1.421875 35.59375 -1.421875 \nQ 29.59375 -1.421875 25.265625 0.953125 \nQ 20.953125 3.328125 18.109375 8.203125 \nz\nM 48.6875 27.296875 \nQ 48.6875 37.203125 44.609375 42.84375 \nQ 40.53125 48.484375 33.40625 48.484375 \nQ 26.265625 48.484375 22.1875 42.84375 \nQ 18.109375 37.203125 18.109375 27.296875 \nQ 18.109375 17.390625 22.1875 11.75 \nQ 26.265625 6.109375 33.40625 6.109375 \nQ 40.53125 6.109375 44.609375 11.75 \nQ 48.6875 17.390625 48.6875 27.296875 \nz\n\" id=\"DejaVuSans-112\"/>\n      <path d=\"M 54.890625 33.015625 \nL 54.890625 0 \nL 45.90625 0 \nL 45.90625 32.71875 \nQ 45.90625 40.484375 42.875 44.328125 \nQ 39.84375 48.1875 33.796875 48.1875 \nQ 26.515625 48.1875 22.3125 43.546875 \nQ 18.109375 38.921875 18.109375 30.90625 \nL 18.109375 0 \nL 9.078125 0 \nL 9.078125 54.6875 \nL 18.109375 54.6875 \nL 18.109375 46.1875 \nQ 21.34375 51.125 25.703125 53.5625 \nQ 30.078125 56 35.796875 56 \nQ 45.21875 56 50.046875 50.171875 \nQ 54.890625 44.34375 54.890625 33.015625 \nz\n\" id=\"DejaVuSans-110\"/>\n     </defs>\n     <g transform=\"translate(123.65 292.045781)scale(0.1 -0.1)\">\n      <use xlink:href=\"#DejaVuSans-78\"/>\n      <use x=\"74.804688\" xlink:href=\"#DejaVuSans-111\"/>\n      <use x=\"135.986328\" xlink:href=\"#DejaVuSans-109\"/>\n      <use x=\"233.398438\" xlink:href=\"#DejaVuSans-98\"/>\n      <use x=\"296.875\" xlink:href=\"#DejaVuSans-114\"/>\n      <use x=\"335.738281\" xlink:href=\"#DejaVuSans-101\"/>\n      <use x=\"397.261719\" xlink:href=\"#DejaVuSans-32\"/>\n      <use x=\"429.048828\" xlink:href=\"#DejaVuSans-114\"/>\n      <use x=\"467.912109\" xlink:href=\"#DejaVuSans-233\"/>\n      <use x=\"529.435547\" xlink:href=\"#DejaVuSans-101\"/>\n      <use x=\"590.958984\" xlink:href=\"#DejaVuSans-108\"/>\n      <use x=\"618.742188\" xlink:href=\"#DejaVuSans-32\"/>\n      <use x=\"650.529297\" xlink:href=\"#DejaVuSans-100\"/>\n      <use x=\"714.005859\" xlink:href=\"#DejaVuSans-101\"/>\n      <use x=\"775.529297\" xlink:href=\"#DejaVuSans-32\"/>\n      <use x=\"807.316406\" xlink:href=\"#DejaVuSans-118\"/>\n      <use x=\"866.496094\" xlink:href=\"#DejaVuSans-233\"/>\n      <use x=\"928.019531\" xlink:href=\"#DejaVuSans-108\"/>\n      <use x=\"955.802734\" xlink:href=\"#DejaVuSans-105\"/>\n      <use x=\"983.585938\" xlink:href=\"#DejaVuSans-98\"/>\n      <use x=\"1047.0625\" xlink:href=\"#DejaVuSans-115\"/>\n      <use x=\"1099.162109\" xlink:href=\"#DejaVuSans-32\"/>\n      <use x=\"1130.949219\" xlink:href=\"#DejaVuSans-100\"/>\n      <use x=\"1194.425781\" xlink:href=\"#DejaVuSans-105\"/>\n      <use x=\"1222.208984\" xlink:href=\"#DejaVuSans-115\"/>\n      <use x=\"1274.308594\" xlink:href=\"#DejaVuSans-112\"/>\n      <use x=\"1337.785156\" xlink:href=\"#DejaVuSans-111\"/>\n      <use x=\"1398.966797\" xlink:href=\"#DejaVuSans-110\"/>\n      <use x=\"1462.345703\" xlink:href=\"#DejaVuSans-105\"/>\n      <use x=\"1490.128906\" xlink:href=\"#DejaVuSans-98\"/>\n      <use x=\"1553.605469\" xlink:href=\"#DejaVuSans-108\"/>\n      <use x=\"1581.388672\" xlink:href=\"#DejaVuSans-101\"/>\n      <use x=\"1642.912109\" xlink:href=\"#DejaVuSans-115\"/>\n     </g>\n    </g>\n   </g>\n   <g id=\"matplotlib.axis_2\">\n    <g id=\"ytick_1\">\n     <g id=\"line2d_7\">\n      <defs>\n       <path d=\"M 0 0 \nL -3.5 0 \n\" id=\"mb304025d47\" style=\"stroke:#000000;stroke-width:0.8;\"/>\n      </defs>\n      <g>\n       <use style=\"stroke:#000000;stroke-width:0.8;\" x=\"41.003125\" xlink:href=\"#mb304025d47\" y=\"253.485582\"/>\n      </g>\n     </g>\n     <g id=\"text_8\">\n      <!-- 0 -->\n      <g transform=\"translate(27.640625 257.284801)scale(0.1 -0.1)\">\n       <use xlink:href=\"#DejaVuSans-48\"/>\n      </g>\n     </g>\n    </g>\n    <g id=\"ytick_2\">\n     <g id=\"line2d_8\">\n      <g>\n       <use style=\"stroke:#000000;stroke-width:0.8;\" x=\"41.003125\" xlink:href=\"#mb304025d47\" y=\"213.951037\"/>\n      </g>\n     </g>\n     <g id=\"text_9\">\n      <!-- 2 -->\n      <g transform=\"translate(27.640625 217.750256)scale(0.1 -0.1)\">\n       <use xlink:href=\"#DejaVuSans-50\"/>\n      </g>\n     </g>\n    </g>\n    <g id=\"ytick_3\">\n     <g id=\"line2d_9\">\n      <g>\n       <use style=\"stroke:#000000;stroke-width:0.8;\" x=\"41.003125\" xlink:href=\"#mb304025d47\" y=\"174.416491\"/>\n      </g>\n     </g>\n     <g id=\"text_10\">\n      <!-- 4 -->\n      <g transform=\"translate(27.640625 178.21571)scale(0.1 -0.1)\">\n       <use xlink:href=\"#DejaVuSans-52\"/>\n      </g>\n     </g>\n    </g>\n    <g id=\"ytick_4\">\n     <g id=\"line2d_10\">\n      <g>\n       <use style=\"stroke:#000000;stroke-width:0.8;\" x=\"41.003125\" xlink:href=\"#mb304025d47\" y=\"134.881946\"/>\n      </g>\n     </g>\n     <g id=\"text_11\">\n      <!-- 6 -->\n      <g transform=\"translate(27.640625 138.681165)scale(0.1 -0.1)\">\n       <use xlink:href=\"#DejaVuSans-54\"/>\n      </g>\n     </g>\n    </g>\n    <g id=\"ytick_5\">\n     <g id=\"line2d_11\">\n      <g>\n       <use style=\"stroke:#000000;stroke-width:0.8;\" x=\"41.003125\" xlink:href=\"#mb304025d47\" y=\"95.347401\"/>\n      </g>\n     </g>\n     <g id=\"text_12\">\n      <!-- 8 -->\n      <g transform=\"translate(27.640625 99.146619)scale(0.1 -0.1)\">\n       <use xlink:href=\"#DejaVuSans-56\"/>\n      </g>\n     </g>\n    </g>\n    <g id=\"ytick_6\">\n     <g id=\"line2d_12\">\n      <g>\n       <use style=\"stroke:#000000;stroke-width:0.8;\" x=\"41.003125\" xlink:href=\"#mb304025d47\" y=\"55.812855\"/>\n      </g>\n     </g>\n     <g id=\"text_13\">\n      <!-- 10 -->\n      <g transform=\"translate(21.278125 59.612074)scale(0.1 -0.1)\">\n       <use xlink:href=\"#DejaVuSans-49\"/>\n       <use x=\"63.623047\" xlink:href=\"#DejaVuSans-48\"/>\n      </g>\n     </g>\n    </g>\n    <g id=\"text_14\">\n     <!-- Nombre prédit de vélibs disponibles dans la station choisie -->\n     <defs>\n      <path d=\"M 18.3125 70.21875 \nL 18.3125 54.6875 \nL 36.8125 54.6875 \nL 36.8125 47.703125 \nL 18.3125 47.703125 \nL 18.3125 18.015625 \nQ 18.3125 11.328125 20.140625 9.421875 \nQ 21.96875 7.515625 27.59375 7.515625 \nL 36.8125 7.515625 \nL 36.8125 0 \nL 27.59375 0 \nQ 17.1875 0 13.234375 3.875 \nQ 9.28125 7.765625 9.28125 18.015625 \nL 9.28125 47.703125 \nL 2.6875 47.703125 \nL 2.6875 54.6875 \nL 9.28125 54.6875 \nL 9.28125 70.21875 \nz\n\" id=\"DejaVuSans-116\"/>\n      <path d=\"M 34.28125 27.484375 \nQ 23.390625 27.484375 19.1875 25 \nQ 14.984375 22.515625 14.984375 16.5 \nQ 14.984375 11.71875 18.140625 8.90625 \nQ 21.296875 6.109375 26.703125 6.109375 \nQ 34.1875 6.109375 38.703125 11.40625 \nQ 43.21875 16.703125 43.21875 25.484375 \nL 43.21875 27.484375 \nz\nM 52.203125 31.203125 \nL 52.203125 0 \nL 43.21875 0 \nL 43.21875 8.296875 \nQ 40.140625 3.328125 35.546875 0.953125 \nQ 30.953125 -1.421875 24.3125 -1.421875 \nQ 15.921875 -1.421875 10.953125 3.296875 \nQ 6 8.015625 6 15.921875 \nQ 6 25.140625 12.171875 29.828125 \nQ 18.359375 34.515625 30.609375 34.515625 \nL 43.21875 34.515625 \nL 43.21875 35.40625 \nQ 43.21875 41.609375 39.140625 45 \nQ 35.0625 48.390625 27.6875 48.390625 \nQ 23 48.390625 18.546875 47.265625 \nQ 14.109375 46.140625 10.015625 43.890625 \nL 10.015625 52.203125 \nQ 14.9375 54.109375 19.578125 55.046875 \nQ 24.21875 56 28.609375 56 \nQ 40.484375 56 46.34375 49.84375 \nQ 52.203125 43.703125 52.203125 31.203125 \nz\n\" id=\"DejaVuSans-97\"/>\n      <path d=\"M 48.78125 52.59375 \nL 48.78125 44.1875 \nQ 44.96875 46.296875 41.140625 47.34375 \nQ 37.3125 48.390625 33.40625 48.390625 \nQ 24.65625 48.390625 19.8125 42.84375 \nQ 14.984375 37.3125 14.984375 27.296875 \nQ 14.984375 17.28125 19.8125 11.734375 \nQ 24.65625 6.203125 33.40625 6.203125 \nQ 37.3125 6.203125 41.140625 7.25 \nQ 44.96875 8.296875 48.78125 10.40625 \nL 48.78125 2.09375 \nQ 45.015625 0.34375 40.984375 -0.53125 \nQ 36.96875 -1.421875 32.421875 -1.421875 \nQ 20.0625 -1.421875 12.78125 6.34375 \nQ 5.515625 14.109375 5.515625 27.296875 \nQ 5.515625 40.671875 12.859375 48.328125 \nQ 20.21875 56 33.015625 56 \nQ 37.15625 56 41.109375 55.140625 \nQ 45.0625 54.296875 48.78125 52.59375 \nz\n\" id=\"DejaVuSans-99\"/>\n      <path d=\"M 54.890625 33.015625 \nL 54.890625 0 \nL 45.90625 0 \nL 45.90625 32.71875 \nQ 45.90625 40.484375 42.875 44.328125 \nQ 39.84375 48.1875 33.796875 48.1875 \nQ 26.515625 48.1875 22.3125 43.546875 \nQ 18.109375 38.921875 18.109375 30.90625 \nL 18.109375 0 \nL 9.078125 0 \nL 9.078125 75.984375 \nL 18.109375 75.984375 \nL 18.109375 46.1875 \nQ 21.34375 51.125 25.703125 53.5625 \nQ 30.078125 56 35.796875 56 \nQ 45.21875 56 50.046875 50.171875 \nQ 54.890625 44.34375 54.890625 33.015625 \nz\n\" id=\"DejaVuSans-104\"/>\n     </defs>\n     <g transform=\"translate(15.198438 302.098437)rotate(-90)scale(0.1 -0.1)\">\n      <use xlink:href=\"#DejaVuSans-78\"/>\n      <use x=\"74.804688\" xlink:href=\"#DejaVuSans-111\"/>\n      <use x=\"135.986328\" xlink:href=\"#DejaVuSans-109\"/>\n      <use x=\"233.398438\" xlink:href=\"#DejaVuSans-98\"/>\n      <use x=\"296.875\" xlink:href=\"#DejaVuSans-114\"/>\n      <use x=\"335.738281\" xlink:href=\"#DejaVuSans-101\"/>\n      <use x=\"397.261719\" xlink:href=\"#DejaVuSans-32\"/>\n      <use x=\"429.048828\" xlink:href=\"#DejaVuSans-112\"/>\n      <use x=\"492.525391\" xlink:href=\"#DejaVuSans-114\"/>\n      <use x=\"531.388672\" xlink:href=\"#DejaVuSans-233\"/>\n      <use x=\"592.912109\" xlink:href=\"#DejaVuSans-100\"/>\n      <use x=\"656.388672\" xlink:href=\"#DejaVuSans-105\"/>\n      <use x=\"684.171875\" xlink:href=\"#DejaVuSans-116\"/>\n      <use x=\"723.380859\" xlink:href=\"#DejaVuSans-32\"/>\n      <use x=\"755.167969\" xlink:href=\"#DejaVuSans-100\"/>\n      <use x=\"818.644531\" xlink:href=\"#DejaVuSans-101\"/>\n      <use x=\"880.167969\" xlink:href=\"#DejaVuSans-32\"/>\n      <use x=\"911.955078\" xlink:href=\"#DejaVuSans-118\"/>\n      <use x=\"971.134766\" xlink:href=\"#DejaVuSans-233\"/>\n      <use x=\"1032.658203\" xlink:href=\"#DejaVuSans-108\"/>\n      <use x=\"1060.441406\" xlink:href=\"#DejaVuSans-105\"/>\n      <use x=\"1088.224609\" xlink:href=\"#DejaVuSans-98\"/>\n      <use x=\"1151.701172\" xlink:href=\"#DejaVuSans-115\"/>\n      <use x=\"1203.800781\" xlink:href=\"#DejaVuSans-32\"/>\n      <use x=\"1235.587891\" xlink:href=\"#DejaVuSans-100\"/>\n      <use x=\"1299.064453\" xlink:href=\"#DejaVuSans-105\"/>\n      <use x=\"1326.847656\" xlink:href=\"#DejaVuSans-115\"/>\n      <use x=\"1378.947266\" xlink:href=\"#DejaVuSans-112\"/>\n      <use x=\"1442.423828\" xlink:href=\"#DejaVuSans-111\"/>\n      <use x=\"1503.605469\" xlink:href=\"#DejaVuSans-110\"/>\n      <use x=\"1566.984375\" xlink:href=\"#DejaVuSans-105\"/>\n      <use x=\"1594.767578\" xlink:href=\"#DejaVuSans-98\"/>\n      <use x=\"1658.244141\" xlink:href=\"#DejaVuSans-108\"/>\n      <use x=\"1686.027344\" xlink:href=\"#DejaVuSans-101\"/>\n      <use x=\"1747.550781\" xlink:href=\"#DejaVuSans-115\"/>\n      <use x=\"1799.650391\" xlink:href=\"#DejaVuSans-32\"/>\n      <use x=\"1831.4375\" xlink:href=\"#DejaVuSans-100\"/>\n      <use x=\"1894.914062\" xlink:href=\"#DejaVuSans-97\"/>\n      <use x=\"1956.193359\" xlink:href=\"#DejaVuSans-110\"/>\n      <use x=\"2019.572266\" xlink:href=\"#DejaVuSans-115\"/>\n      <use x=\"2071.671875\" xlink:href=\"#DejaVuSans-32\"/>\n      <use x=\"2103.458984\" xlink:href=\"#DejaVuSans-108\"/>\n      <use x=\"2131.242188\" xlink:href=\"#DejaVuSans-97\"/>\n      <use x=\"2192.521484\" xlink:href=\"#DejaVuSans-32\"/>\n      <use x=\"2224.308594\" xlink:href=\"#DejaVuSans-115\"/>\n      <use x=\"2276.408203\" xlink:href=\"#DejaVuSans-116\"/>\n      <use x=\"2315.617188\" xlink:href=\"#DejaVuSans-97\"/>\n      <use x=\"2376.896484\" xlink:href=\"#DejaVuSans-116\"/>\n      <use x=\"2416.105469\" xlink:href=\"#DejaVuSans-105\"/>\n      <use x=\"2443.888672\" xlink:href=\"#DejaVuSans-111\"/>\n      <use x=\"2505.070312\" xlink:href=\"#DejaVuSans-110\"/>\n      <use x=\"2568.449219\" xlink:href=\"#DejaVuSans-32\"/>\n      <use x=\"2600.236328\" xlink:href=\"#DejaVuSans-99\"/>\n      <use x=\"2655.216797\" xlink:href=\"#DejaVuSans-104\"/>\n      <use x=\"2718.595703\" xlink:href=\"#DejaVuSans-111\"/>\n      <use x=\"2779.777344\" xlink:href=\"#DejaVuSans-105\"/>\n      <use x=\"2807.560547\" xlink:href=\"#DejaVuSans-115\"/>\n      <use x=\"2859.660156\" xlink:href=\"#DejaVuSans-105\"/>\n      <use x=\"2887.443359\" xlink:href=\"#DejaVuSans-101\"/>\n     </g>\n    </g>\n   </g>\n   <g id=\"patch_3\">\n    <path d=\"M 41.003125 263.369219 \nL 41.003125 45.929219 \n\" style=\"fill:none;stroke:#000000;stroke-linecap:square;stroke-linejoin:miter;stroke-width:0.8;\"/>\n   </g>\n   <g id=\"patch_4\">\n    <path d=\"M 375.803125 263.369219 \nL 375.803125 45.929219 \n\" style=\"fill:none;stroke:#000000;stroke-linecap:square;stroke-linejoin:miter;stroke-width:0.8;\"/>\n   </g>\n   <g id=\"patch_5\">\n    <path d=\"M 41.003125 263.369219 \nL 375.803125 263.369219 \n\" style=\"fill:none;stroke:#000000;stroke-linecap:square;stroke-linejoin:miter;stroke-width:0.8;\"/>\n   </g>\n   <g id=\"patch_6\">\n    <path d=\"M 41.003125 45.929219 \nL 375.803125 45.929219 \n\" style=\"fill:none;stroke:#000000;stroke-linecap:square;stroke-linejoin:miter;stroke-width:0.8;\"/>\n   </g>\n   <g id=\"text_15\">\n    <!-- Prédiction avec régression linéaire -->\n    <defs>\n     <path d=\"M 19.671875 64.796875 \nL 19.671875 37.40625 \nL 32.078125 37.40625 \nQ 38.96875 37.40625 42.71875 40.96875 \nQ 46.484375 44.53125 46.484375 51.125 \nQ 46.484375 57.671875 42.71875 61.234375 \nQ 38.96875 64.796875 32.078125 64.796875 \nz\nM 9.8125 72.90625 \nL 32.078125 72.90625 \nQ 44.34375 72.90625 50.609375 67.359375 \nQ 56.890625 61.8125 56.890625 51.125 \nQ 56.890625 40.328125 50.609375 34.8125 \nQ 44.34375 29.296875 32.078125 29.296875 \nL 19.671875 29.296875 \nL 19.671875 0 \nL 9.8125 0 \nz\n\" id=\"DejaVuSans-80\"/>\n     <path d=\"M 45.40625 27.984375 \nQ 45.40625 37.75 41.375 43.109375 \nQ 37.359375 48.484375 30.078125 48.484375 \nQ 22.859375 48.484375 18.828125 43.109375 \nQ 14.796875 37.75 14.796875 27.984375 \nQ 14.796875 18.265625 18.828125 12.890625 \nQ 22.859375 7.515625 30.078125 7.515625 \nQ 37.359375 7.515625 41.375 12.890625 \nQ 45.40625 18.265625 45.40625 27.984375 \nz\nM 54.390625 6.78125 \nQ 54.390625 -7.171875 48.1875 -13.984375 \nQ 42 -20.796875 29.203125 -20.796875 \nQ 24.46875 -20.796875 20.265625 -20.09375 \nQ 16.0625 -19.390625 12.109375 -17.921875 \nL 12.109375 -9.1875 \nQ 16.0625 -11.328125 19.921875 -12.34375 \nQ 23.78125 -13.375 27.78125 -13.375 \nQ 36.625 -13.375 41.015625 -8.765625 \nQ 45.40625 -4.15625 45.40625 5.171875 \nL 45.40625 9.625 \nQ 42.625 4.78125 38.28125 2.390625 \nQ 33.9375 0 27.875 0 \nQ 17.828125 0 11.671875 7.65625 \nQ 5.515625 15.328125 5.515625 27.984375 \nQ 5.515625 40.671875 11.671875 48.328125 \nQ 17.828125 56 27.875 56 \nQ 33.9375 56 38.28125 53.609375 \nQ 42.625 51.21875 45.40625 46.390625 \nL 45.40625 54.6875 \nL 54.390625 54.6875 \nz\n\" id=\"DejaVuSans-103\"/>\n    </defs>\n    <g transform=\"translate(105.21625 39.929219)scale(0.12 -0.12)\">\n     <use xlink:href=\"#DejaVuSans-80\"/>\n     <use x=\"58.552734\" xlink:href=\"#DejaVuSans-114\"/>\n     <use x=\"97.416016\" xlink:href=\"#DejaVuSans-233\"/>\n     <use x=\"158.939453\" xlink:href=\"#DejaVuSans-100\"/>\n     <use x=\"222.416016\" xlink:href=\"#DejaVuSans-105\"/>\n     <use x=\"250.199219\" xlink:href=\"#DejaVuSans-99\"/>\n     <use x=\"305.179688\" xlink:href=\"#DejaVuSans-116\"/>\n     <use x=\"344.388672\" xlink:href=\"#DejaVuSans-105\"/>\n     <use x=\"372.171875\" xlink:href=\"#DejaVuSans-111\"/>\n     <use x=\"433.353516\" xlink:href=\"#DejaVuSans-110\"/>\n     <use x=\"496.732422\" xlink:href=\"#DejaVuSans-32\"/>\n     <use x=\"528.519531\" xlink:href=\"#DejaVuSans-97\"/>\n     <use x=\"589.798828\" xlink:href=\"#DejaVuSans-118\"/>\n     <use x=\"648.978516\" xlink:href=\"#DejaVuSans-101\"/>\n     <use x=\"710.501953\" xlink:href=\"#DejaVuSans-99\"/>\n     <use x=\"765.482422\" xlink:href=\"#DejaVuSans-32\"/>\n     <use x=\"797.269531\" xlink:href=\"#DejaVuSans-114\"/>\n     <use x=\"836.132812\" xlink:href=\"#DejaVuSans-233\"/>\n     <use x=\"897.65625\" xlink:href=\"#DejaVuSans-103\"/>\n     <use x=\"961.132812\" xlink:href=\"#DejaVuSans-114\"/>\n     <use x=\"999.996094\" xlink:href=\"#DejaVuSans-101\"/>\n     <use x=\"1061.519531\" xlink:href=\"#DejaVuSans-115\"/>\n     <use x=\"1113.619141\" xlink:href=\"#DejaVuSans-115\"/>\n     <use x=\"1165.71875\" xlink:href=\"#DejaVuSans-105\"/>\n     <use x=\"1193.501953\" xlink:href=\"#DejaVuSans-111\"/>\n     <use x=\"1254.683594\" xlink:href=\"#DejaVuSans-110\"/>\n     <use x=\"1318.0625\" xlink:href=\"#DejaVuSans-32\"/>\n     <use x=\"1349.849609\" xlink:href=\"#DejaVuSans-108\"/>\n     <use x=\"1377.632812\" xlink:href=\"#DejaVuSans-105\"/>\n     <use x=\"1405.416016\" xlink:href=\"#DejaVuSans-110\"/>\n     <use x=\"1468.794922\" xlink:href=\"#DejaVuSans-233\"/>\n     <use x=\"1530.318359\" xlink:href=\"#DejaVuSans-97\"/>\n     <use x=\"1591.597656\" xlink:href=\"#DejaVuSans-105\"/>\n     <use x=\"1619.380859\" xlink:href=\"#DejaVuSans-114\"/>\n     <use x=\"1658.244141\" xlink:href=\"#DejaVuSans-101\"/>\n    </g>\n   </g>\n  </g>\n </g>\n <defs>\n  <clipPath id=\"pbcd507e130\">\n   <rect height=\"217.44\" width=\"334.8\" x=\"41.003125\" y=\"45.929219\"/>\n  </clipPath>\n </defs>\n</svg>\n",
      "image/png": "[encoded data removed]"
     },
     "metadata": {
      "needs_background": "light"
     }
    }
   ],
   "source": [
    "plt.scatter(y_test,y_prediction)\n",
    "plt.title(\"Prédiction avec régression linéaire\")\n",
    "plt.xlabel(\"Nombre réel de vélibs disponibles\")\n",
    "plt.ylabel(\"Nombre prédit de vélibs disponibles dans la station choisie\")"
   ]
  },
  {
   "cell_type": "code",
   "execution_count": 34,
   "metadata": {},
   "outputs": [
    {
     "output_type": "execute_result",
     "data": {
      "text/plain": [
       "Text(0.5, 15.0, 'Nombre prédit')"
      ]
     },
     "metadata": {},
     "execution_count": 34
    },
    {
     "output_type": "display_data",
     "data": {
      "text/plain": "<Figure size 432x288 with 2 Axes>",
      "image/svg+xml": "<?xml version=\"1.0\" encoding=\"utf-8\" standalone=\"no\"?>\n<!DOCTYPE svg PUBLIC \"-//W3C//DTD SVG 1.1//EN\"\n  \"http://www.w3.org/Graphics/SVG/1.1/DTD/svg11.dtd\">\n<!-- Created with matplotlib (https://matplotlib.org/) -->\n<svg height=\"278.194375pt\" version=\"1.1\" viewBox=\"0 0 359.93325 278.194375\" width=\"359.93325pt\" xmlns=\"http://www.w3.org/2000/svg\" xmlns:xlink=\"http://www.w3.org/1999/xlink\">\n <defs>\n  <style type=\"text/css\">\n*{stroke-linecap:butt;stroke-linejoin:round;}\n  </style>\n </defs>\n <g id=\"figure_1\">\n  <g id=\"patch_1\">\n   <path d=\"M 0 278.194375 \nL 359.93325 278.194375 \nL 359.93325 0 \nL 0 0 \nz\n\" style=\"fill:none;\"/>\n  </g>\n  <g id=\"axes_1\">\n   <g id=\"patch_2\">\n    <path d=\"M 37.55625 240.238125 \nL 305.39625 240.238125 \nL 305.39625 22.798125 \nL 37.55625 22.798125 \nz\n\" style=\"fill:#ffffff;\"/>\n   </g>\n   <g id=\"QuadMesh_1\">\n    <path clip-path=\"url(#pa50694ff80)\" d=\"M 37.55625 31.858125 \nL 61.905341 31.858125 \nL 61.905341 49.978125 \nL 37.55625 49.978125 \nL 37.55625 31.858125 \n\" style=\"fill:#03051a;\"/>\n    <path clip-path=\"url(#pa50694ff80)\" d=\"M 61.905341 31.858125 \nL 86.254432 31.858125 \nL 86.254432 49.978125 \nL 61.905341 49.978125 \nL 61.905341 31.858125 \n\" style=\"fill:#03051a;\"/>\n    <path clip-path=\"url(#pa50694ff80)\" d=\"M 86.254432 31.858125 \nL 110.603523 31.858125 \nL 110.603523 49.978125 \nL 86.254432 49.978125 \nL 86.254432 31.858125 \n\" style=\"fill:#0e0b22;\"/>\n    <path clip-path=\"url(#pa50694ff80)\" d=\"M 110.603523 31.858125 \nL 134.952614 31.858125 \nL 134.952614 49.978125 \nL 110.603523 49.978125 \nL 110.603523 31.858125 \n\" style=\"fill:#03051a;\"/>\n    <path clip-path=\"url(#pa50694ff80)\" d=\"M 134.952614 31.858125 \nL 159.301705 31.858125 \nL 159.301705 49.978125 \nL 134.952614 49.978125 \nL 134.952614 31.858125 \n\" style=\"fill:#03051a;\"/>\n    <path clip-path=\"url(#pa50694ff80)\" d=\"M 159.301705 31.858125 \nL 183.650795 31.858125 \nL 183.650795 49.978125 \nL 159.301705 49.978125 \nL 159.301705 31.858125 \n\" style=\"fill:#03051a;\"/>\n    <path clip-path=\"url(#pa50694ff80)\" d=\"M 183.650795 31.858125 \nL 207.999886 31.858125 \nL 207.999886 49.978125 \nL 183.650795 49.978125 \nL 183.650795 31.858125 \n\" style=\"fill:#03051a;\"/>\n    <path clip-path=\"url(#pa50694ff80)\" d=\"M 207.999886 31.858125 \nL 232.348977 31.858125 \nL 232.348977 49.978125 \nL 207.999886 49.978125 \nL 207.999886 31.858125 \n\" style=\"fill:#03051a;\"/>\n    <path clip-path=\"url(#pa50694ff80)\" d=\"M 232.348977 31.858125 \nL 256.698068 31.858125 \nL 256.698068 49.978125 \nL 232.348977 49.978125 \nL 232.348977 31.858125 \n\" style=\"fill:#03051a;\"/>\n    <path clip-path=\"url(#pa50694ff80)\" d=\"M 256.698068 31.858125 \nL 281.047159 31.858125 \nL 281.047159 49.978125 \nL 256.698068 49.978125 \nL 256.698068 31.858125 \n\" style=\"fill:#03051a;\"/>\n    <path clip-path=\"url(#pa50694ff80)\" d=\"M 281.047159 31.858125 \nL 305.39625 31.858125 \nL 305.39625 49.978125 \nL 281.047159 49.978125 \nL 281.047159 31.858125 \n\" style=\"fill:#03051a;\"/>\n    <path clip-path=\"url(#pa50694ff80)\" d=\"M 37.55625 49.978125 \nL 61.905341 49.978125 \nL 61.905341 68.098125 \nL 37.55625 68.098125 \nL 37.55625 49.978125 \n\" style=\"fill:#0e0b22;\"/>\n    <path clip-path=\"url(#pa50694ff80)\" d=\"M 61.905341 49.978125 \nL 86.254432 49.978125 \nL 86.254432 68.098125 \nL 61.905341 68.098125 \nL 61.905341 49.978125 \n\" style=\"fill:#0e0b22;\"/>\n    <path clip-path=\"url(#pa50694ff80)\" d=\"M 86.254432 49.978125 \nL 110.603523 49.978125 \nL 110.603523 68.098125 \nL 86.254432 68.098125 \nL 86.254432 49.978125 \n\" style=\"fill:#1d112c;\"/>\n    <path clip-path=\"url(#pa50694ff80)\" d=\"M 110.603523 49.978125 \nL 134.952614 49.978125 \nL 134.952614 68.098125 \nL 110.603523 68.098125 \nL 110.603523 49.978125 \n\" style=\"fill:#03051a;\"/>\n    <path clip-path=\"url(#pa50694ff80)\" d=\"M 134.952614 49.978125 \nL 159.301705 49.978125 \nL 159.301705 68.098125 \nL 134.952614 68.098125 \nL 134.952614 49.978125 \n\" style=\"fill:#03051a;\"/>\n    <path clip-path=\"url(#pa50694ff80)\" d=\"M 159.301705 49.978125 \nL 183.650795 49.978125 \nL 183.650795 68.098125 \nL 159.301705 68.098125 \nL 159.301705 49.978125 \n\" style=\"fill:#03051a;\"/>\n    <path clip-path=\"url(#pa50694ff80)\" d=\"M 183.650795 49.978125 \nL 207.999886 49.978125 \nL 207.999886 68.098125 \nL 183.650795 68.098125 \nL 183.650795 49.978125 \n\" style=\"fill:#03051a;\"/>\n    <path clip-path=\"url(#pa50694ff80)\" d=\"M 207.999886 49.978125 \nL 232.348977 49.978125 \nL 232.348977 68.098125 \nL 207.999886 68.098125 \nL 207.999886 49.978125 \n\" style=\"fill:#03051a;\"/>\n    <path clip-path=\"url(#pa50694ff80)\" d=\"M 232.348977 49.978125 \nL 256.698068 49.978125 \nL 256.698068 68.098125 \nL 232.348977 68.098125 \nL 232.348977 49.978125 \n\" style=\"fill:#03051a;\"/>\n    <path clip-path=\"url(#pa50694ff80)\" d=\"M 256.698068 49.978125 \nL 281.047159 49.978125 \nL 281.047159 68.098125 \nL 256.698068 68.098125 \nL 256.698068 49.978125 \n\" style=\"fill:#03051a;\"/>\n    <path clip-path=\"url(#pa50694ff80)\" d=\"M 281.047159 49.978125 \nL 305.39625 49.978125 \nL 305.39625 68.098125 \nL 281.047159 68.098125 \nL 281.047159 49.978125 \n\" style=\"fill:#03051a;\"/>\n    <path clip-path=\"url(#pa50694ff80)\" d=\"M 37.55625 68.098125 \nL 61.905341 68.098125 \nL 61.905341 86.218125 \nL 37.55625 86.218125 \nL 37.55625 68.098125 \n\" style=\"fill:#03051a;\"/>\n    <path clip-path=\"url(#pa50694ff80)\" d=\"M 61.905341 68.098125 \nL 86.254432 68.098125 \nL 86.254432 86.218125 \nL 61.905341 86.218125 \nL 61.905341 68.098125 \n\" style=\"fill:#03051a;\"/>\n    <path clip-path=\"url(#pa50694ff80)\" d=\"M 86.254432 68.098125 \nL 110.603523 68.098125 \nL 110.603523 86.218125 \nL 86.254432 86.218125 \nL 86.254432 68.098125 \n\" style=\"fill:#0e0b22;\"/>\n    <path clip-path=\"url(#pa50694ff80)\" d=\"M 110.603523 68.098125 \nL 134.952614 68.098125 \nL 134.952614 86.218125 \nL 110.603523 86.218125 \nL 110.603523 68.098125 \n\" style=\"fill:#03051a;\"/>\n    <path clip-path=\"url(#pa50694ff80)\" d=\"M 134.952614 68.098125 \nL 159.301705 68.098125 \nL 159.301705 86.218125 \nL 134.952614 86.218125 \nL 134.952614 68.098125 \n\" style=\"fill:#03051a;\"/>\n    <path clip-path=\"url(#pa50694ff80)\" d=\"M 159.301705 68.098125 \nL 183.650795 68.098125 \nL 183.650795 86.218125 \nL 159.301705 86.218125 \nL 159.301705 68.098125 \n\" style=\"fill:#03051a;\"/>\n    <path clip-path=\"url(#pa50694ff80)\" d=\"M 183.650795 68.098125 \nL 207.999886 68.098125 \nL 207.999886 86.218125 \nL 183.650795 86.218125 \nL 183.650795 68.098125 \n\" style=\"fill:#03051a;\"/>\n    <path clip-path=\"url(#pa50694ff80)\" d=\"M 207.999886 68.098125 \nL 232.348977 68.098125 \nL 232.348977 86.218125 \nL 207.999886 86.218125 \nL 207.999886 68.098125 \n\" style=\"fill:#03051a;\"/>\n    <path clip-path=\"url(#pa50694ff80)\" d=\"M 232.348977 68.098125 \nL 256.698068 68.098125 \nL 256.698068 86.218125 \nL 232.348977 86.218125 \nL 232.348977 68.098125 \n\" style=\"fill:#03051a;\"/>\n    <path clip-path=\"url(#pa50694ff80)\" d=\"M 256.698068 68.098125 \nL 281.047159 68.098125 \nL 281.047159 86.218125 \nL 256.698068 86.218125 \nL 256.698068 68.098125 \n\" style=\"fill:#03051a;\"/>\n    <path clip-path=\"url(#pa50694ff80)\" d=\"M 281.047159 68.098125 \nL 305.39625 68.098125 \nL 305.39625 86.218125 \nL 281.047159 86.218125 \nL 281.047159 68.098125 \n\" style=\"fill:#03051a;\"/>\n    <path clip-path=\"url(#pa50694ff80)\" d=\"M 37.55625 86.218125 \nL 61.905341 86.218125 \nL 61.905341 104.338125 \nL 37.55625 104.338125 \nL 37.55625 86.218125 \n\" style=\"fill:#03051a;\"/>\n    <path clip-path=\"url(#pa50694ff80)\" d=\"M 61.905341 86.218125 \nL 86.254432 86.218125 \nL 86.254432 104.338125 \nL 61.905341 104.338125 \nL 61.905341 86.218125 \n\" style=\"fill:#03051a;\"/>\n    <path clip-path=\"url(#pa50694ff80)\" d=\"M 86.254432 86.218125 \nL 110.603523 86.218125 \nL 110.603523 104.338125 \nL 86.254432 104.338125 \nL 86.254432 86.218125 \n\" style=\"fill:#0e0b22;\"/>\n    <path clip-path=\"url(#pa50694ff80)\" d=\"M 110.603523 86.218125 \nL 134.952614 86.218125 \nL 134.952614 104.338125 \nL 110.603523 104.338125 \nL 110.603523 86.218125 \n\" style=\"fill:#2b1637;\"/>\n    <path clip-path=\"url(#pa50694ff80)\" d=\"M 134.952614 86.218125 \nL 159.301705 86.218125 \nL 159.301705 104.338125 \nL 134.952614 104.338125 \nL 134.952614 86.218125 \n\" style=\"fill:#03051a;\"/>\n    <path clip-path=\"url(#pa50694ff80)\" d=\"M 159.301705 86.218125 \nL 183.650795 86.218125 \nL 183.650795 104.338125 \nL 159.301705 104.338125 \nL 159.301705 86.218125 \n\" style=\"fill:#03051a;\"/>\n    <path clip-path=\"url(#pa50694ff80)\" d=\"M 183.650795 86.218125 \nL 207.999886 86.218125 \nL 207.999886 104.338125 \nL 183.650795 104.338125 \nL 183.650795 86.218125 \n\" style=\"fill:#03051a;\"/>\n    <path clip-path=\"url(#pa50694ff80)\" d=\"M 207.999886 86.218125 \nL 232.348977 86.218125 \nL 232.348977 104.338125 \nL 207.999886 104.338125 \nL 207.999886 86.218125 \n\" style=\"fill:#03051a;\"/>\n    <path clip-path=\"url(#pa50694ff80)\" d=\"M 232.348977 86.218125 \nL 256.698068 86.218125 \nL 256.698068 104.338125 \nL 232.348977 104.338125 \nL 232.348977 86.218125 \n\" style=\"fill:#03051a;\"/>\n    <path clip-path=\"url(#pa50694ff80)\" d=\"M 256.698068 86.218125 \nL 281.047159 86.218125 \nL 281.047159 104.338125 \nL 256.698068 104.338125 \nL 256.698068 86.218125 \n\" style=\"fill:#03051a;\"/>\n    <path clip-path=\"url(#pa50694ff80)\" d=\"M 281.047159 86.218125 \nL 305.39625 86.218125 \nL 305.39625 104.338125 \nL 281.047159 104.338125 \nL 281.047159 86.218125 \n\" style=\"fill:#03051a;\"/>\n    <path clip-path=\"url(#pa50694ff80)\" d=\"M 37.55625 104.338125 \nL 61.905341 104.338125 \nL 61.905341 122.458125 \nL 37.55625 122.458125 \nL 37.55625 104.338125 \n\" style=\"fill:#03051a;\"/>\n    <path clip-path=\"url(#pa50694ff80)\" d=\"M 61.905341 104.338125 \nL 86.254432 104.338125 \nL 86.254432 122.458125 \nL 61.905341 122.458125 \nL 61.905341 104.338125 \n\" style=\"fill:#03051a;\"/>\n    <path clip-path=\"url(#pa50694ff80)\" d=\"M 86.254432 104.338125 \nL 110.603523 104.338125 \nL 110.603523 122.458125 \nL 86.254432 122.458125 \nL 86.254432 104.338125 \n\" style=\"fill:#0e0b22;\"/>\n    <path clip-path=\"url(#pa50694ff80)\" d=\"M 110.603523 104.338125 \nL 134.952614 104.338125 \nL 134.952614 122.458125 \nL 110.603523 122.458125 \nL 110.603523 104.338125 \n\" style=\"fill:#1d112c;\"/>\n    <path clip-path=\"url(#pa50694ff80)\" d=\"M 134.952614 104.338125 \nL 159.301705 104.338125 \nL 159.301705 122.458125 \nL 134.952614 122.458125 \nL 134.952614 104.338125 \n\" style=\"fill:#1d112c;\"/>\n    <path clip-path=\"url(#pa50694ff80)\" d=\"M 159.301705 104.338125 \nL 183.650795 104.338125 \nL 183.650795 122.458125 \nL 159.301705 122.458125 \nL 159.301705 104.338125 \n\" style=\"fill:#0e0b22;\"/>\n    <path clip-path=\"url(#pa50694ff80)\" d=\"M 183.650795 104.338125 \nL 207.999886 104.338125 \nL 207.999886 122.458125 \nL 183.650795 122.458125 \nL 183.650795 104.338125 \n\" style=\"fill:#03051a;\"/>\n    <path clip-path=\"url(#pa50694ff80)\" d=\"M 207.999886 104.338125 \nL 232.348977 104.338125 \nL 232.348977 122.458125 \nL 207.999886 122.458125 \nL 207.999886 104.338125 \n\" style=\"fill:#03051a;\"/>\n    <path clip-path=\"url(#pa50694ff80)\" d=\"M 232.348977 104.338125 \nL 256.698068 104.338125 \nL 256.698068 122.458125 \nL 232.348977 122.458125 \nL 232.348977 104.338125 \n\" style=\"fill:#03051a;\"/>\n    <path clip-path=\"url(#pa50694ff80)\" d=\"M 256.698068 104.338125 \nL 281.047159 104.338125 \nL 281.047159 122.458125 \nL 256.698068 122.458125 \nL 256.698068 104.338125 \n\" style=\"fill:#03051a;\"/>\n    <path clip-path=\"url(#pa50694ff80)\" d=\"M 281.047159 104.338125 \nL 305.39625 104.338125 \nL 305.39625 122.458125 \nL 281.047159 122.458125 \nL 281.047159 104.338125 \n\" style=\"fill:#03051a;\"/>\n    <path clip-path=\"url(#pa50694ff80)\" d=\"M 37.55625 122.458125 \nL 61.905341 122.458125 \nL 61.905341 140.578125 \nL 37.55625 140.578125 \nL 37.55625 122.458125 \n\" style=\"fill:#03051a;\"/>\n    <path clip-path=\"url(#pa50694ff80)\" d=\"M 61.905341 122.458125 \nL 86.254432 122.458125 \nL 86.254432 140.578125 \nL 61.905341 140.578125 \nL 61.905341 122.458125 \n\" style=\"fill:#03051a;\"/>\n    <path clip-path=\"url(#pa50694ff80)\" d=\"M 86.254432 122.458125 \nL 110.603523 122.458125 \nL 110.603523 140.578125 \nL 86.254432 140.578125 \nL 86.254432 122.458125 \n\" style=\"fill:#03051a;\"/>\n    <path clip-path=\"url(#pa50694ff80)\" d=\"M 110.603523 122.458125 \nL 134.952614 122.458125 \nL 134.952614 140.578125 \nL 110.603523 140.578125 \nL 110.603523 122.458125 \n\" style=\"fill:#03051a;\"/>\n    <path clip-path=\"url(#pa50694ff80)\" d=\"M 134.952614 122.458125 \nL 159.301705 122.458125 \nL 159.301705 140.578125 \nL 134.952614 140.578125 \nL 134.952614 122.458125 \n\" style=\"fill:#03051a;\"/>\n    <path clip-path=\"url(#pa50694ff80)\" d=\"M 159.301705 122.458125 \nL 183.650795 122.458125 \nL 183.650795 140.578125 \nL 159.301705 140.578125 \nL 159.301705 122.458125 \n\" style=\"fill:#03051a;\"/>\n    <path clip-path=\"url(#pa50694ff80)\" d=\"M 183.650795 122.458125 \nL 207.999886 122.458125 \nL 207.999886 140.578125 \nL 183.650795 140.578125 \nL 183.650795 122.458125 \n\" style=\"fill:#0e0b22;\"/>\n    <path clip-path=\"url(#pa50694ff80)\" d=\"M 207.999886 122.458125 \nL 232.348977 122.458125 \nL 232.348977 140.578125 \nL 207.999886 140.578125 \nL 207.999886 122.458125 \n\" style=\"fill:#0e0b22;\"/>\n    <path clip-path=\"url(#pa50694ff80)\" d=\"M 232.348977 122.458125 \nL 256.698068 122.458125 \nL 256.698068 140.578125 \nL 232.348977 140.578125 \nL 232.348977 122.458125 \n\" style=\"fill:#03051a;\"/>\n    <path clip-path=\"url(#pa50694ff80)\" d=\"M 256.698068 122.458125 \nL 281.047159 122.458125 \nL 281.047159 140.578125 \nL 256.698068 140.578125 \nL 256.698068 122.458125 \n\" style=\"fill:#03051a;\"/>\n    <path clip-path=\"url(#pa50694ff80)\" d=\"M 281.047159 122.458125 \nL 305.39625 122.458125 \nL 305.39625 140.578125 \nL 281.047159 140.578125 \nL 281.047159 122.458125 \n\" style=\"fill:#03051a;\"/>\n    <path clip-path=\"url(#pa50694ff80)\" d=\"M 37.55625 140.578125 \nL 61.905341 140.578125 \nL 61.905341 158.698125 \nL 37.55625 158.698125 \nL 37.55625 140.578125 \n\" style=\"fill:#03051a;\"/>\n    <path clip-path=\"url(#pa50694ff80)\" d=\"M 61.905341 140.578125 \nL 86.254432 140.578125 \nL 86.254432 158.698125 \nL 61.905341 158.698125 \nL 61.905341 140.578125 \n\" style=\"fill:#03051a;\"/>\n    <path clip-path=\"url(#pa50694ff80)\" d=\"M 86.254432 140.578125 \nL 110.603523 140.578125 \nL 110.603523 158.698125 \nL 86.254432 158.698125 \nL 86.254432 140.578125 \n\" style=\"fill:#03051a;\"/>\n    <path clip-path=\"url(#pa50694ff80)\" d=\"M 110.603523 140.578125 \nL 134.952614 140.578125 \nL 134.952614 158.698125 \nL 110.603523 158.698125 \nL 110.603523 140.578125 \n\" style=\"fill:#03051a;\"/>\n    <path clip-path=\"url(#pa50694ff80)\" d=\"M 134.952614 140.578125 \nL 159.301705 140.578125 \nL 159.301705 158.698125 \nL 134.952614 158.698125 \nL 134.952614 140.578125 \n\" style=\"fill:#03051a;\"/>\n    <path clip-path=\"url(#pa50694ff80)\" d=\"M 159.301705 140.578125 \nL 183.650795 140.578125 \nL 183.650795 158.698125 \nL 159.301705 158.698125 \nL 159.301705 140.578125 \n\" style=\"fill:#1d112c;\"/>\n    <path clip-path=\"url(#pa50694ff80)\" d=\"M 183.650795 140.578125 \nL 207.999886 140.578125 \nL 207.999886 158.698125 \nL 183.650795 158.698125 \nL 183.650795 140.578125 \n\" style=\"fill:#03051a;\"/>\n    <path clip-path=\"url(#pa50694ff80)\" d=\"M 207.999886 140.578125 \nL 232.348977 140.578125 \nL 232.348977 158.698125 \nL 207.999886 158.698125 \nL 207.999886 140.578125 \n\" style=\"fill:#1d112c;\"/>\n    <path clip-path=\"url(#pa50694ff80)\" d=\"M 232.348977 140.578125 \nL 256.698068 140.578125 \nL 256.698068 158.698125 \nL 232.348977 158.698125 \nL 232.348977 140.578125 \n\" style=\"fill:#03051a;\"/>\n    <path clip-path=\"url(#pa50694ff80)\" d=\"M 256.698068 140.578125 \nL 281.047159 140.578125 \nL 281.047159 158.698125 \nL 256.698068 158.698125 \nL 256.698068 140.578125 \n\" style=\"fill:#03051a;\"/>\n    <path clip-path=\"url(#pa50694ff80)\" d=\"M 281.047159 140.578125 \nL 305.39625 140.578125 \nL 305.39625 158.698125 \nL 281.047159 158.698125 \nL 281.047159 140.578125 \n\" style=\"fill:#03051a;\"/>\n    <path clip-path=\"url(#pa50694ff80)\" d=\"M 37.55625 158.698125 \nL 61.905341 158.698125 \nL 61.905341 176.818125 \nL 37.55625 176.818125 \nL 37.55625 158.698125 \n\" style=\"fill:#03051a;\"/>\n    <path clip-path=\"url(#pa50694ff80)\" d=\"M 61.905341 158.698125 \nL 86.254432 158.698125 \nL 86.254432 176.818125 \nL 61.905341 176.818125 \nL 61.905341 158.698125 \n\" style=\"fill:#03051a;\"/>\n    <path clip-path=\"url(#pa50694ff80)\" d=\"M 86.254432 158.698125 \nL 110.603523 158.698125 \nL 110.603523 176.818125 \nL 86.254432 176.818125 \nL 86.254432 158.698125 \n\" style=\"fill:#03051a;\"/>\n    <path clip-path=\"url(#pa50694ff80)\" d=\"M 110.603523 158.698125 \nL 134.952614 158.698125 \nL 134.952614 176.818125 \nL 110.603523 176.818125 \nL 110.603523 158.698125 \n\" style=\"fill:#03051a;\"/>\n    <path clip-path=\"url(#pa50694ff80)\" d=\"M 134.952614 158.698125 \nL 159.301705 158.698125 \nL 159.301705 176.818125 \nL 134.952614 176.818125 \nL 134.952614 158.698125 \n\" style=\"fill:#03051a;\"/>\n    <path clip-path=\"url(#pa50694ff80)\" d=\"M 159.301705 158.698125 \nL 183.650795 158.698125 \nL 183.650795 176.818125 \nL 159.301705 176.818125 \nL 159.301705 158.698125 \n\" style=\"fill:#0e0b22;\"/>\n    <path clip-path=\"url(#pa50694ff80)\" d=\"M 183.650795 158.698125 \nL 207.999886 158.698125 \nL 207.999886 176.818125 \nL 183.650795 176.818125 \nL 183.650795 158.698125 \n\" style=\"fill:#0e0b22;\"/>\n    <path clip-path=\"url(#pa50694ff80)\" d=\"M 207.999886 158.698125 \nL 232.348977 158.698125 \nL 232.348977 176.818125 \nL 207.999886 176.818125 \nL 207.999886 158.698125 \n\" style=\"fill:#0e0b22;\"/>\n    <path clip-path=\"url(#pa50694ff80)\" d=\"M 232.348977 158.698125 \nL 256.698068 158.698125 \nL 256.698068 176.818125 \nL 232.348977 176.818125 \nL 232.348977 158.698125 \n\" style=\"fill:#0e0b22;\"/>\n    <path clip-path=\"url(#pa50694ff80)\" d=\"M 256.698068 158.698125 \nL 281.047159 158.698125 \nL 281.047159 176.818125 \nL 256.698068 176.818125 \nL 256.698068 158.698125 \n\" style=\"fill:#03051a;\"/>\n    <path clip-path=\"url(#pa50694ff80)\" d=\"M 281.047159 158.698125 \nL 305.39625 158.698125 \nL 305.39625 176.818125 \nL 281.047159 176.818125 \nL 281.047159 158.698125 \n\" style=\"fill:#0e0b22;\"/>\n    <path clip-path=\"url(#pa50694ff80)\" d=\"M 37.55625 176.818125 \nL 61.905341 176.818125 \nL 61.905341 194.938125 \nL 37.55625 194.938125 \nL 37.55625 176.818125 \n\" style=\"fill:#03051a;\"/>\n    <path clip-path=\"url(#pa50694ff80)\" d=\"M 61.905341 176.818125 \nL 86.254432 176.818125 \nL 86.254432 194.938125 \nL 61.905341 194.938125 \nL 61.905341 176.818125 \n\" style=\"fill:#03051a;\"/>\n    <path clip-path=\"url(#pa50694ff80)\" d=\"M 86.254432 176.818125 \nL 110.603523 176.818125 \nL 110.603523 194.938125 \nL 86.254432 194.938125 \nL 86.254432 176.818125 \n\" style=\"fill:#03051a;\"/>\n    <path clip-path=\"url(#pa50694ff80)\" d=\"M 110.603523 176.818125 \nL 134.952614 176.818125 \nL 134.952614 194.938125 \nL 110.603523 194.938125 \nL 110.603523 176.818125 \n\" style=\"fill:#03051a;\"/>\n    <path clip-path=\"url(#pa50694ff80)\" d=\"M 134.952614 176.818125 \nL 159.301705 176.818125 \nL 159.301705 194.938125 \nL 134.952614 194.938125 \nL 134.952614 176.818125 \n\" style=\"fill:#03051a;\"/>\n    <path clip-path=\"url(#pa50694ff80)\" d=\"M 159.301705 176.818125 \nL 183.650795 176.818125 \nL 183.650795 194.938125 \nL 159.301705 194.938125 \nL 159.301705 176.818125 \n\" style=\"fill:#03051a;\"/>\n    <path clip-path=\"url(#pa50694ff80)\" d=\"M 183.650795 176.818125 \nL 207.999886 176.818125 \nL 207.999886 194.938125 \nL 183.650795 194.938125 \nL 183.650795 176.818125 \n\" style=\"fill:#0e0b22;\"/>\n    <path clip-path=\"url(#pa50694ff80)\" d=\"M 207.999886 176.818125 \nL 232.348977 176.818125 \nL 232.348977 194.938125 \nL 207.999886 194.938125 \nL 207.999886 176.818125 \n\" style=\"fill:#2b1637;\"/>\n    <path clip-path=\"url(#pa50694ff80)\" d=\"M 232.348977 176.818125 \nL 256.698068 176.818125 \nL 256.698068 194.938125 \nL 232.348977 194.938125 \nL 232.348977 176.818125 \n\" style=\"fill:#faebdd;\"/>\n    <path clip-path=\"url(#pa50694ff80)\" d=\"M 256.698068 176.818125 \nL 281.047159 176.818125 \nL 281.047159 194.938125 \nL 256.698068 194.938125 \nL 256.698068 176.818125 \n\" style=\"fill:#591e50;\"/>\n    <path clip-path=\"url(#pa50694ff80)\" d=\"M 281.047159 176.818125 \nL 305.39625 176.818125 \nL 305.39625 194.938125 \nL 281.047159 194.938125 \nL 281.047159 176.818125 \n\" style=\"fill:#03051a;\"/>\n    <path clip-path=\"url(#pa50694ff80)\" d=\"M 37.55625 194.938125 \nL 61.905341 194.938125 \nL 61.905341 213.058125 \nL 37.55625 213.058125 \nL 37.55625 194.938125 \n\" style=\"fill:#03051a;\"/>\n    <path clip-path=\"url(#pa50694ff80)\" d=\"M 61.905341 194.938125 \nL 86.254432 194.938125 \nL 86.254432 213.058125 \nL 61.905341 213.058125 \nL 61.905341 194.938125 \n\" style=\"fill:#03051a;\"/>\n    <path clip-path=\"url(#pa50694ff80)\" d=\"M 86.254432 194.938125 \nL 110.603523 194.938125 \nL 110.603523 213.058125 \nL 86.254432 213.058125 \nL 86.254432 194.938125 \n\" style=\"fill:#03051a;\"/>\n    <path clip-path=\"url(#pa50694ff80)\" d=\"M 110.603523 194.938125 \nL 134.952614 194.938125 \nL 134.952614 213.058125 \nL 110.603523 213.058125 \nL 110.603523 194.938125 \n\" style=\"fill:#03051a;\"/>\n    <path clip-path=\"url(#pa50694ff80)\" d=\"M 134.952614 194.938125 \nL 159.301705 194.938125 \nL 159.301705 213.058125 \nL 134.952614 213.058125 \nL 134.952614 194.938125 \n\" style=\"fill:#03051a;\"/>\n    <path clip-path=\"url(#pa50694ff80)\" d=\"M 159.301705 194.938125 \nL 183.650795 194.938125 \nL 183.650795 213.058125 \nL 159.301705 213.058125 \nL 159.301705 194.938125 \n\" style=\"fill:#03051a;\"/>\n    <path clip-path=\"url(#pa50694ff80)\" d=\"M 183.650795 194.938125 \nL 207.999886 194.938125 \nL 207.999886 213.058125 \nL 183.650795 213.058125 \nL 183.650795 194.938125 \n\" style=\"fill:#03051a;\"/>\n    <path clip-path=\"url(#pa50694ff80)\" d=\"M 207.999886 194.938125 \nL 232.348977 194.938125 \nL 232.348977 213.058125 \nL 207.999886 213.058125 \nL 207.999886 194.938125 \n\" style=\"fill:#03051a;\"/>\n    <path clip-path=\"url(#pa50694ff80)\" d=\"M 232.348977 194.938125 \nL 256.698068 194.938125 \nL 256.698068 213.058125 \nL 232.348977 213.058125 \nL 232.348977 194.938125 \n\" style=\"fill:#0e0b22;\"/>\n    <path clip-path=\"url(#pa50694ff80)\" d=\"M 256.698068 194.938125 \nL 281.047159 194.938125 \nL 281.047159 213.058125 \nL 256.698068 213.058125 \nL 256.698068 194.938125 \n\" style=\"fill:#e23442;\"/>\n    <path clip-path=\"url(#pa50694ff80)\" d=\"M 281.047159 194.938125 \nL 305.39625 194.938125 \nL 305.39625 213.058125 \nL 281.047159 213.058125 \nL 281.047159 194.938125 \n\" style=\"fill:#2b1637;\"/>\n    <path clip-path=\"url(#pa50694ff80)\" d=\"M 37.55625 213.058125 \nL 61.905341 213.058125 \nL 61.905341 231.178125 \nL 37.55625 231.178125 \nL 37.55625 213.058125 \n\" style=\"fill:#03051a;\"/>\n    <path clip-path=\"url(#pa50694ff80)\" d=\"M 61.905341 213.058125 \nL 86.254432 213.058125 \nL 86.254432 231.178125 \nL 61.905341 231.178125 \nL 61.905341 213.058125 \n\" style=\"fill:#03051a;\"/>\n    <path clip-path=\"url(#pa50694ff80)\" d=\"M 86.254432 213.058125 \nL 110.603523 213.058125 \nL 110.603523 231.178125 \nL 86.254432 231.178125 \nL 86.254432 213.058125 \n\" style=\"fill:#03051a;\"/>\n    <path clip-path=\"url(#pa50694ff80)\" d=\"M 110.603523 213.058125 \nL 134.952614 213.058125 \nL 134.952614 231.178125 \nL 110.603523 231.178125 \nL 110.603523 213.058125 \n\" style=\"fill:#03051a;\"/>\n    <path clip-path=\"url(#pa50694ff80)\" d=\"M 134.952614 213.058125 \nL 159.301705 213.058125 \nL 159.301705 231.178125 \nL 134.952614 231.178125 \nL 134.952614 213.058125 \n\" style=\"fill:#03051a;\"/>\n    <path clip-path=\"url(#pa50694ff80)\" d=\"M 159.301705 213.058125 \nL 183.650795 213.058125 \nL 183.650795 231.178125 \nL 159.301705 231.178125 \nL 159.301705 213.058125 \n\" style=\"fill:#03051a;\"/>\n    <path clip-path=\"url(#pa50694ff80)\" d=\"M 183.650795 213.058125 \nL 207.999886 213.058125 \nL 207.999886 231.178125 \nL 183.650795 231.178125 \nL 183.650795 213.058125 \n\" style=\"fill:#03051a;\"/>\n    <path clip-path=\"url(#pa50694ff80)\" d=\"M 207.999886 213.058125 \nL 232.348977 213.058125 \nL 232.348977 231.178125 \nL 207.999886 231.178125 \nL 207.999886 213.058125 \n\" style=\"fill:#03051a;\"/>\n    <path clip-path=\"url(#pa50694ff80)\" d=\"M 232.348977 213.058125 \nL 256.698068 213.058125 \nL 256.698068 231.178125 \nL 232.348977 231.178125 \nL 232.348977 213.058125 \n\" style=\"fill:#0e0b22;\"/>\n    <path clip-path=\"url(#pa50694ff80)\" d=\"M 256.698068 213.058125 \nL 281.047159 213.058125 \nL 281.047159 231.178125 \nL 256.698068 231.178125 \nL 256.698068 213.058125 \n\" style=\"fill:#2b1637;\"/>\n    <path clip-path=\"url(#pa50694ff80)\" d=\"M 281.047159 213.058125 \nL 305.39625 213.058125 \nL 305.39625 231.178125 \nL 281.047159 231.178125 \nL 281.047159 213.058125 \n\" style=\"fill:#03051a;\"/>\n   </g>\n   <g id=\"matplotlib.axis_1\">\n    <g id=\"xtick_1\">\n     <g id=\"line2d_1\">\n      <defs>\n       <path d=\"M 0 0 \nL 0 3.5 \n\" id=\"m2b00434ee8\" style=\"stroke:#000000;stroke-width:0.8;\"/>\n      </defs>\n      <g>\n       <use style=\"stroke:#000000;stroke-width:0.8;\" x=\"49.730795\" xlink:href=\"#m2b00434ee8\" y=\"240.238125\"/>\n      </g>\n     </g>\n     <g id=\"text_1\">\n      <!-- 0.0 -->\n      <defs>\n       <path d=\"M 31.78125 66.40625 \nQ 24.171875 66.40625 20.328125 58.90625 \nQ 16.5 51.421875 16.5 36.375 \nQ 16.5 21.390625 20.328125 13.890625 \nQ 24.171875 6.390625 31.78125 6.390625 \nQ 39.453125 6.390625 43.28125 13.890625 \nQ 47.125 21.390625 47.125 36.375 \nQ 47.125 51.421875 43.28125 58.90625 \nQ 39.453125 66.40625 31.78125 66.40625 \nz\nM 31.78125 74.21875 \nQ 44.046875 74.21875 50.515625 64.515625 \nQ 56.984375 54.828125 56.984375 36.375 \nQ 56.984375 17.96875 50.515625 8.265625 \nQ 44.046875 -1.421875 31.78125 -1.421875 \nQ 19.53125 -1.421875 13.0625 8.265625 \nQ 6.59375 17.96875 6.59375 36.375 \nQ 6.59375 54.828125 13.0625 64.515625 \nQ 19.53125 74.21875 31.78125 74.21875 \nz\n\" id=\"DejaVuSans-48\"/>\n       <path d=\"M 10.6875 12.40625 \nL 21 12.40625 \nL 21 0 \nL 10.6875 0 \nz\n\" id=\"DejaVuSans-46\"/>\n      </defs>\n      <g transform=\"translate(41.779233 254.836562)scale(0.1 -0.1)\">\n       <use xlink:href=\"#DejaVuSans-48\"/>\n       <use x=\"63.623047\" xlink:href=\"#DejaVuSans-46\"/>\n       <use x=\"95.410156\" xlink:href=\"#DejaVuSans-48\"/>\n      </g>\n     </g>\n    </g>\n    <g id=\"xtick_2\">\n     <g id=\"line2d_2\">\n      <g>\n       <use style=\"stroke:#000000;stroke-width:0.8;\" x=\"74.079886\" xlink:href=\"#m2b00434ee8\" y=\"240.238125\"/>\n      </g>\n     </g>\n     <g id=\"text_2\">\n      <!-- 1.0 -->\n      <defs>\n       <path d=\"M 12.40625 8.296875 \nL 28.515625 8.296875 \nL 28.515625 63.921875 \nL 10.984375 60.40625 \nL 10.984375 69.390625 \nL 28.421875 72.90625 \nL 38.28125 72.90625 \nL 38.28125 8.296875 \nL 54.390625 8.296875 \nL 54.390625 0 \nL 12.40625 0 \nz\n\" id=\"DejaVuSans-49\"/>\n      </defs>\n      <g transform=\"translate(66.128324 254.836562)scale(0.1 -0.1)\">\n       <use xlink:href=\"#DejaVuSans-49\"/>\n       <use x=\"63.623047\" xlink:href=\"#DejaVuSans-46\"/>\n       <use x=\"95.410156\" xlink:href=\"#DejaVuSans-48\"/>\n      </g>\n     </g>\n    </g>\n    <g id=\"xtick_3\">\n     <g id=\"line2d_3\">\n      <g>\n       <use style=\"stroke:#000000;stroke-width:0.8;\" x=\"98.428977\" xlink:href=\"#m2b00434ee8\" y=\"240.238125\"/>\n      </g>\n     </g>\n     <g id=\"text_3\">\n      <!-- 2.0 -->\n      <defs>\n       <path d=\"M 19.1875 8.296875 \nL 53.609375 8.296875 \nL 53.609375 0 \nL 7.328125 0 \nL 7.328125 8.296875 \nQ 12.9375 14.109375 22.625 23.890625 \nQ 32.328125 33.6875 34.8125 36.53125 \nQ 39.546875 41.84375 41.421875 45.53125 \nQ 43.3125 49.21875 43.3125 52.78125 \nQ 43.3125 58.59375 39.234375 62.25 \nQ 35.15625 65.921875 28.609375 65.921875 \nQ 23.96875 65.921875 18.8125 64.3125 \nQ 13.671875 62.703125 7.8125 59.421875 \nL 7.8125 69.390625 \nQ 13.765625 71.78125 18.9375 73 \nQ 24.125 74.21875 28.421875 74.21875 \nQ 39.75 74.21875 46.484375 68.546875 \nQ 53.21875 62.890625 53.21875 53.421875 \nQ 53.21875 48.921875 51.53125 44.890625 \nQ 49.859375 40.875 45.40625 35.40625 \nQ 44.1875 33.984375 37.640625 27.21875 \nQ 31.109375 20.453125 19.1875 8.296875 \nz\n\" id=\"DejaVuSans-50\"/>\n      </defs>\n      <g transform=\"translate(90.477415 254.836562)scale(0.1 -0.1)\">\n       <use xlink:href=\"#DejaVuSans-50\"/>\n       <use x=\"63.623047\" xlink:href=\"#DejaVuSans-46\"/>\n       <use x=\"95.410156\" xlink:href=\"#DejaVuSans-48\"/>\n      </g>\n     </g>\n    </g>\n    <g id=\"xtick_4\">\n     <g id=\"line2d_4\">\n      <g>\n       <use style=\"stroke:#000000;stroke-width:0.8;\" x=\"122.778068\" xlink:href=\"#m2b00434ee8\" y=\"240.238125\"/>\n      </g>\n     </g>\n     <g id=\"text_4\">\n      <!-- 3.0 -->\n      <defs>\n       <path d=\"M 40.578125 39.3125 \nQ 47.65625 37.796875 51.625 33 \nQ 55.609375 28.21875 55.609375 21.1875 \nQ 55.609375 10.40625 48.1875 4.484375 \nQ 40.765625 -1.421875 27.09375 -1.421875 \nQ 22.515625 -1.421875 17.65625 -0.515625 \nQ 12.796875 0.390625 7.625 2.203125 \nL 7.625 11.71875 \nQ 11.71875 9.328125 16.59375 8.109375 \nQ 21.484375 6.890625 26.8125 6.890625 \nQ 36.078125 6.890625 40.9375 10.546875 \nQ 45.796875 14.203125 45.796875 21.1875 \nQ 45.796875 27.640625 41.28125 31.265625 \nQ 36.765625 34.90625 28.71875 34.90625 \nL 20.21875 34.90625 \nL 20.21875 43.015625 \nL 29.109375 43.015625 \nQ 36.375 43.015625 40.234375 45.921875 \nQ 44.09375 48.828125 44.09375 54.296875 \nQ 44.09375 59.90625 40.109375 62.90625 \nQ 36.140625 65.921875 28.71875 65.921875 \nQ 24.65625 65.921875 20.015625 65.03125 \nQ 15.375 64.15625 9.8125 62.3125 \nL 9.8125 71.09375 \nQ 15.4375 72.65625 20.34375 73.4375 \nQ 25.25 74.21875 29.59375 74.21875 \nQ 40.828125 74.21875 47.359375 69.109375 \nQ 53.90625 64.015625 53.90625 55.328125 \nQ 53.90625 49.265625 50.4375 45.09375 \nQ 46.96875 40.921875 40.578125 39.3125 \nz\n\" id=\"DejaVuSans-51\"/>\n      </defs>\n      <g transform=\"translate(114.826506 254.836562)scale(0.1 -0.1)\">\n       <use xlink:href=\"#DejaVuSans-51\"/>\n       <use x=\"63.623047\" xlink:href=\"#DejaVuSans-46\"/>\n       <use x=\"95.410156\" xlink:href=\"#DejaVuSans-48\"/>\n      </g>\n     </g>\n    </g>\n    <g id=\"xtick_5\">\n     <g id=\"line2d_5\">\n      <g>\n       <use style=\"stroke:#000000;stroke-width:0.8;\" x=\"147.127159\" xlink:href=\"#m2b00434ee8\" y=\"240.238125\"/>\n      </g>\n     </g>\n     <g id=\"text_5\">\n      <!-- 4.0 -->\n      <defs>\n       <path d=\"M 37.796875 64.3125 \nL 12.890625 25.390625 \nL 37.796875 25.390625 \nz\nM 35.203125 72.90625 \nL 47.609375 72.90625 \nL 47.609375 25.390625 \nL 58.015625 25.390625 \nL 58.015625 17.1875 \nL 47.609375 17.1875 \nL 47.609375 0 \nL 37.796875 0 \nL 37.796875 17.1875 \nL 4.890625 17.1875 \nL 4.890625 26.703125 \nz\n\" id=\"DejaVuSans-52\"/>\n      </defs>\n      <g transform=\"translate(139.175597 254.836562)scale(0.1 -0.1)\">\n       <use xlink:href=\"#DejaVuSans-52\"/>\n       <use x=\"63.623047\" xlink:href=\"#DejaVuSans-46\"/>\n       <use x=\"95.410156\" xlink:href=\"#DejaVuSans-48\"/>\n      </g>\n     </g>\n    </g>\n    <g id=\"xtick_6\">\n     <g id=\"line2d_6\">\n      <g>\n       <use style=\"stroke:#000000;stroke-width:0.8;\" x=\"171.47625\" xlink:href=\"#m2b00434ee8\" y=\"240.238125\"/>\n      </g>\n     </g>\n     <g id=\"text_6\">\n      <!-- 5.0 -->\n      <defs>\n       <path d=\"M 10.796875 72.90625 \nL 49.515625 72.90625 \nL 49.515625 64.59375 \nL 19.828125 64.59375 \nL 19.828125 46.734375 \nQ 21.96875 47.46875 24.109375 47.828125 \nQ 26.265625 48.1875 28.421875 48.1875 \nQ 40.625 48.1875 47.75 41.5 \nQ 54.890625 34.8125 54.890625 23.390625 \nQ 54.890625 11.625 47.5625 5.09375 \nQ 40.234375 -1.421875 26.90625 -1.421875 \nQ 22.3125 -1.421875 17.546875 -0.640625 \nQ 12.796875 0.140625 7.71875 1.703125 \nL 7.71875 11.625 \nQ 12.109375 9.234375 16.796875 8.0625 \nQ 21.484375 6.890625 26.703125 6.890625 \nQ 35.15625 6.890625 40.078125 11.328125 \nQ 45.015625 15.765625 45.015625 23.390625 \nQ 45.015625 31 40.078125 35.4375 \nQ 35.15625 39.890625 26.703125 39.890625 \nQ 22.75 39.890625 18.8125 39.015625 \nQ 14.890625 38.140625 10.796875 36.28125 \nz\n\" id=\"DejaVuSans-53\"/>\n      </defs>\n      <g transform=\"translate(163.524688 254.836562)scale(0.1 -0.1)\">\n       <use xlink:href=\"#DejaVuSans-53\"/>\n       <use x=\"63.623047\" xlink:href=\"#DejaVuSans-46\"/>\n       <use x=\"95.410156\" xlink:href=\"#DejaVuSans-48\"/>\n      </g>\n     </g>\n    </g>\n    <g id=\"xtick_7\">\n     <g id=\"line2d_7\">\n      <g>\n       <use style=\"stroke:#000000;stroke-width:0.8;\" x=\"195.825341\" xlink:href=\"#m2b00434ee8\" y=\"240.238125\"/>\n      </g>\n     </g>\n     <g id=\"text_7\">\n      <!-- 6.0 -->\n      <defs>\n       <path d=\"M 33.015625 40.375 \nQ 26.375 40.375 22.484375 35.828125 \nQ 18.609375 31.296875 18.609375 23.390625 \nQ 18.609375 15.53125 22.484375 10.953125 \nQ 26.375 6.390625 33.015625 6.390625 \nQ 39.65625 6.390625 43.53125 10.953125 \nQ 47.40625 15.53125 47.40625 23.390625 \nQ 47.40625 31.296875 43.53125 35.828125 \nQ 39.65625 40.375 33.015625 40.375 \nz\nM 52.59375 71.296875 \nL 52.59375 62.3125 \nQ 48.875 64.0625 45.09375 64.984375 \nQ 41.3125 65.921875 37.59375 65.921875 \nQ 27.828125 65.921875 22.671875 59.328125 \nQ 17.53125 52.734375 16.796875 39.40625 \nQ 19.671875 43.65625 24.015625 45.921875 \nQ 28.375 48.1875 33.59375 48.1875 \nQ 44.578125 48.1875 50.953125 41.515625 \nQ 57.328125 34.859375 57.328125 23.390625 \nQ 57.328125 12.15625 50.6875 5.359375 \nQ 44.046875 -1.421875 33.015625 -1.421875 \nQ 20.359375 -1.421875 13.671875 8.265625 \nQ 6.984375 17.96875 6.984375 36.375 \nQ 6.984375 53.65625 15.1875 63.9375 \nQ 23.390625 74.21875 37.203125 74.21875 \nQ 40.921875 74.21875 44.703125 73.484375 \nQ 48.484375 72.75 52.59375 71.296875 \nz\n\" id=\"DejaVuSans-54\"/>\n      </defs>\n      <g transform=\"translate(187.873778 254.836562)scale(0.1 -0.1)\">\n       <use xlink:href=\"#DejaVuSans-54\"/>\n       <use x=\"63.623047\" xlink:href=\"#DejaVuSans-46\"/>\n       <use x=\"95.410156\" xlink:href=\"#DejaVuSans-48\"/>\n      </g>\n     </g>\n    </g>\n    <g id=\"xtick_8\">\n     <g id=\"line2d_8\">\n      <g>\n       <use style=\"stroke:#000000;stroke-width:0.8;\" x=\"220.174432\" xlink:href=\"#m2b00434ee8\" y=\"240.238125\"/>\n      </g>\n     </g>\n     <g id=\"text_8\">\n      <!-- 7.0 -->\n      <defs>\n       <path d=\"M 8.203125 72.90625 \nL 55.078125 72.90625 \nL 55.078125 68.703125 \nL 28.609375 0 \nL 18.3125 0 \nL 43.21875 64.59375 \nL 8.203125 64.59375 \nz\n\" id=\"DejaVuSans-55\"/>\n      </defs>\n      <g transform=\"translate(212.222869 254.836562)scale(0.1 -0.1)\">\n       <use xlink:href=\"#DejaVuSans-55\"/>\n       <use x=\"63.623047\" xlink:href=\"#DejaVuSans-46\"/>\n       <use x=\"95.410156\" xlink:href=\"#DejaVuSans-48\"/>\n      </g>\n     </g>\n    </g>\n    <g id=\"xtick_9\">\n     <g id=\"line2d_9\">\n      <g>\n       <use style=\"stroke:#000000;stroke-width:0.8;\" x=\"244.523523\" xlink:href=\"#m2b00434ee8\" y=\"240.238125\"/>\n      </g>\n     </g>\n     <g id=\"text_9\">\n      <!-- 8.0 -->\n      <defs>\n       <path d=\"M 31.78125 34.625 \nQ 24.75 34.625 20.71875 30.859375 \nQ 16.703125 27.09375 16.703125 20.515625 \nQ 16.703125 13.921875 20.71875 10.15625 \nQ 24.75 6.390625 31.78125 6.390625 \nQ 38.8125 6.390625 42.859375 10.171875 \nQ 46.921875 13.96875 46.921875 20.515625 \nQ 46.921875 27.09375 42.890625 30.859375 \nQ 38.875 34.625 31.78125 34.625 \nz\nM 21.921875 38.8125 \nQ 15.578125 40.375 12.03125 44.71875 \nQ 8.5 49.078125 8.5 55.328125 \nQ 8.5 64.0625 14.71875 69.140625 \nQ 20.953125 74.21875 31.78125 74.21875 \nQ 42.671875 74.21875 48.875 69.140625 \nQ 55.078125 64.0625 55.078125 55.328125 \nQ 55.078125 49.078125 51.53125 44.71875 \nQ 48 40.375 41.703125 38.8125 \nQ 48.828125 37.15625 52.796875 32.3125 \nQ 56.78125 27.484375 56.78125 20.515625 \nQ 56.78125 9.90625 50.3125 4.234375 \nQ 43.84375 -1.421875 31.78125 -1.421875 \nQ 19.734375 -1.421875 13.25 4.234375 \nQ 6.78125 9.90625 6.78125 20.515625 \nQ 6.78125 27.484375 10.78125 32.3125 \nQ 14.796875 37.15625 21.921875 38.8125 \nz\nM 18.3125 54.390625 \nQ 18.3125 48.734375 21.84375 45.5625 \nQ 25.390625 42.390625 31.78125 42.390625 \nQ 38.140625 42.390625 41.71875 45.5625 \nQ 45.3125 48.734375 45.3125 54.390625 \nQ 45.3125 60.0625 41.71875 63.234375 \nQ 38.140625 66.40625 31.78125 66.40625 \nQ 25.390625 66.40625 21.84375 63.234375 \nQ 18.3125 60.0625 18.3125 54.390625 \nz\n\" id=\"DejaVuSans-56\"/>\n      </defs>\n      <g transform=\"translate(236.57196 254.836562)scale(0.1 -0.1)\">\n       <use xlink:href=\"#DejaVuSans-56\"/>\n       <use x=\"63.623047\" xlink:href=\"#DejaVuSans-46\"/>\n       <use x=\"95.410156\" xlink:href=\"#DejaVuSans-48\"/>\n      </g>\n     </g>\n    </g>\n    <g id=\"xtick_10\">\n     <g id=\"line2d_10\">\n      <g>\n       <use style=\"stroke:#000000;stroke-width:0.8;\" x=\"268.872614\" xlink:href=\"#m2b00434ee8\" y=\"240.238125\"/>\n      </g>\n     </g>\n     <g id=\"text_10\">\n      <!-- 9.0 -->\n      <defs>\n       <path d=\"M 10.984375 1.515625 \nL 10.984375 10.5 \nQ 14.703125 8.734375 18.5 7.8125 \nQ 22.3125 6.890625 25.984375 6.890625 \nQ 35.75 6.890625 40.890625 13.453125 \nQ 46.046875 20.015625 46.78125 33.40625 \nQ 43.953125 29.203125 39.59375 26.953125 \nQ 35.25 24.703125 29.984375 24.703125 \nQ 19.046875 24.703125 12.671875 31.3125 \nQ 6.296875 37.9375 6.296875 49.421875 \nQ 6.296875 60.640625 12.9375 67.421875 \nQ 19.578125 74.21875 30.609375 74.21875 \nQ 43.265625 74.21875 49.921875 64.515625 \nQ 56.59375 54.828125 56.59375 36.375 \nQ 56.59375 19.140625 48.40625 8.859375 \nQ 40.234375 -1.421875 26.421875 -1.421875 \nQ 22.703125 -1.421875 18.890625 -0.6875 \nQ 15.09375 0.046875 10.984375 1.515625 \nz\nM 30.609375 32.421875 \nQ 37.25 32.421875 41.125 36.953125 \nQ 45.015625 41.5 45.015625 49.421875 \nQ 45.015625 57.28125 41.125 61.84375 \nQ 37.25 66.40625 30.609375 66.40625 \nQ 23.96875 66.40625 20.09375 61.84375 \nQ 16.21875 57.28125 16.21875 49.421875 \nQ 16.21875 41.5 20.09375 36.953125 \nQ 23.96875 32.421875 30.609375 32.421875 \nz\n\" id=\"DejaVuSans-57\"/>\n      </defs>\n      <g transform=\"translate(260.921051 254.836562)scale(0.1 -0.1)\">\n       <use xlink:href=\"#DejaVuSans-57\"/>\n       <use x=\"63.623047\" xlink:href=\"#DejaVuSans-46\"/>\n       <use x=\"95.410156\" xlink:href=\"#DejaVuSans-48\"/>\n      </g>\n     </g>\n    </g>\n    <g id=\"xtick_11\">\n     <g id=\"line2d_11\">\n      <g>\n       <use style=\"stroke:#000000;stroke-width:0.8;\" x=\"293.221705\" xlink:href=\"#m2b00434ee8\" y=\"240.238125\"/>\n      </g>\n     </g>\n     <g id=\"text_11\">\n      <!-- 10.0 -->\n      <g transform=\"translate(282.088892 254.836562)scale(0.1 -0.1)\">\n       <use xlink:href=\"#DejaVuSans-49\"/>\n       <use x=\"63.623047\" xlink:href=\"#DejaVuSans-48\"/>\n       <use x=\"127.246094\" xlink:href=\"#DejaVuSans-46\"/>\n       <use x=\"159.033203\" xlink:href=\"#DejaVuSans-48\"/>\n      </g>\n     </g>\n    </g>\n    <g id=\"text_12\">\n     <!-- Nombre prédit -->\n     <defs>\n      <path d=\"M 9.8125 72.90625 \nL 23.09375 72.90625 \nL 55.421875 11.921875 \nL 55.421875 72.90625 \nL 64.984375 72.90625 \nL 64.984375 0 \nL 51.703125 0 \nL 19.390625 60.984375 \nL 19.390625 0 \nL 9.8125 0 \nz\n\" id=\"DejaVuSans-78\"/>\n      <path d=\"M 30.609375 48.390625 \nQ 23.390625 48.390625 19.1875 42.75 \nQ 14.984375 37.109375 14.984375 27.296875 \nQ 14.984375 17.484375 19.15625 11.84375 \nQ 23.34375 6.203125 30.609375 6.203125 \nQ 37.796875 6.203125 41.984375 11.859375 \nQ 46.1875 17.53125 46.1875 27.296875 \nQ 46.1875 37.015625 41.984375 42.703125 \nQ 37.796875 48.390625 30.609375 48.390625 \nz\nM 30.609375 56 \nQ 42.328125 56 49.015625 48.375 \nQ 55.71875 40.765625 55.71875 27.296875 \nQ 55.71875 13.875 49.015625 6.21875 \nQ 42.328125 -1.421875 30.609375 -1.421875 \nQ 18.84375 -1.421875 12.171875 6.21875 \nQ 5.515625 13.875 5.515625 27.296875 \nQ 5.515625 40.765625 12.171875 48.375 \nQ 18.84375 56 30.609375 56 \nz\n\" id=\"DejaVuSans-111\"/>\n      <path d=\"M 52 44.1875 \nQ 55.375 50.25 60.0625 53.125 \nQ 64.75 56 71.09375 56 \nQ 79.640625 56 84.28125 50.015625 \nQ 88.921875 44.046875 88.921875 33.015625 \nL 88.921875 0 \nL 79.890625 0 \nL 79.890625 32.71875 \nQ 79.890625 40.578125 77.09375 44.375 \nQ 74.3125 48.1875 68.609375 48.1875 \nQ 61.625 48.1875 57.5625 43.546875 \nQ 53.515625 38.921875 53.515625 30.90625 \nL 53.515625 0 \nL 44.484375 0 \nL 44.484375 32.71875 \nQ 44.484375 40.625 41.703125 44.40625 \nQ 38.921875 48.1875 33.109375 48.1875 \nQ 26.21875 48.1875 22.15625 43.53125 \nQ 18.109375 38.875 18.109375 30.90625 \nL 18.109375 0 \nL 9.078125 0 \nL 9.078125 54.6875 \nL 18.109375 54.6875 \nL 18.109375 46.1875 \nQ 21.1875 51.21875 25.484375 53.609375 \nQ 29.78125 56 35.6875 56 \nQ 41.65625 56 45.828125 52.96875 \nQ 50 49.953125 52 44.1875 \nz\n\" id=\"DejaVuSans-109\"/>\n      <path d=\"M 48.6875 27.296875 \nQ 48.6875 37.203125 44.609375 42.84375 \nQ 40.53125 48.484375 33.40625 48.484375 \nQ 26.265625 48.484375 22.1875 42.84375 \nQ 18.109375 37.203125 18.109375 27.296875 \nQ 18.109375 17.390625 22.1875 11.75 \nQ 26.265625 6.109375 33.40625 6.109375 \nQ 40.53125 6.109375 44.609375 11.75 \nQ 48.6875 17.390625 48.6875 27.296875 \nz\nM 18.109375 46.390625 \nQ 20.953125 51.265625 25.265625 53.625 \nQ 29.59375 56 35.59375 56 \nQ 45.5625 56 51.78125 48.09375 \nQ 58.015625 40.1875 58.015625 27.296875 \nQ 58.015625 14.40625 51.78125 6.484375 \nQ 45.5625 -1.421875 35.59375 -1.421875 \nQ 29.59375 -1.421875 25.265625 0.953125 \nQ 20.953125 3.328125 18.109375 8.203125 \nL 18.109375 0 \nL 9.078125 0 \nL 9.078125 75.984375 \nL 18.109375 75.984375 \nz\n\" id=\"DejaVuSans-98\"/>\n      <path d=\"M 41.109375 46.296875 \nQ 39.59375 47.171875 37.8125 47.578125 \nQ 36.03125 48 33.890625 48 \nQ 26.265625 48 22.1875 43.046875 \nQ 18.109375 38.09375 18.109375 28.8125 \nL 18.109375 0 \nL 9.078125 0 \nL 9.078125 54.6875 \nL 18.109375 54.6875 \nL 18.109375 46.1875 \nQ 20.953125 51.171875 25.484375 53.578125 \nQ 30.03125 56 36.53125 56 \nQ 37.453125 56 38.578125 55.875 \nQ 39.703125 55.765625 41.0625 55.515625 \nz\n\" id=\"DejaVuSans-114\"/>\n      <path d=\"M 56.203125 29.59375 \nL 56.203125 25.203125 \nL 14.890625 25.203125 \nQ 15.484375 15.921875 20.484375 11.0625 \nQ 25.484375 6.203125 34.421875 6.203125 \nQ 39.59375 6.203125 44.453125 7.46875 \nQ 49.3125 8.734375 54.109375 11.28125 \nL 54.109375 2.78125 \nQ 49.265625 0.734375 44.1875 -0.34375 \nQ 39.109375 -1.421875 33.890625 -1.421875 \nQ 20.796875 -1.421875 13.15625 6.1875 \nQ 5.515625 13.8125 5.515625 26.8125 \nQ 5.515625 40.234375 12.765625 48.109375 \nQ 20.015625 56 32.328125 56 \nQ 43.359375 56 49.78125 48.890625 \nQ 56.203125 41.796875 56.203125 29.59375 \nz\nM 47.21875 32.234375 \nQ 47.125 39.59375 43.09375 43.984375 \nQ 39.0625 48.390625 32.421875 48.390625 \nQ 24.90625 48.390625 20.390625 44.140625 \nQ 15.875 39.890625 15.1875 32.171875 \nz\n\" id=\"DejaVuSans-101\"/>\n      <path id=\"DejaVuSans-32\"/>\n      <path d=\"M 18.109375 8.203125 \nL 18.109375 -20.796875 \nL 9.078125 -20.796875 \nL 9.078125 54.6875 \nL 18.109375 54.6875 \nL 18.109375 46.390625 \nQ 20.953125 51.265625 25.265625 53.625 \nQ 29.59375 56 35.59375 56 \nQ 45.5625 56 51.78125 48.09375 \nQ 58.015625 40.1875 58.015625 27.296875 \nQ 58.015625 14.40625 51.78125 6.484375 \nQ 45.5625 -1.421875 35.59375 -1.421875 \nQ 29.59375 -1.421875 25.265625 0.953125 \nQ 20.953125 3.328125 18.109375 8.203125 \nz\nM 48.6875 27.296875 \nQ 48.6875 37.203125 44.609375 42.84375 \nQ 40.53125 48.484375 33.40625 48.484375 \nQ 26.265625 48.484375 22.1875 42.84375 \nQ 18.109375 37.203125 18.109375 27.296875 \nQ 18.109375 17.390625 22.1875 11.75 \nQ 26.265625 6.109375 33.40625 6.109375 \nQ 40.53125 6.109375 44.609375 11.75 \nQ 48.6875 17.390625 48.6875 27.296875 \nz\n\" id=\"DejaVuSans-112\"/>\n      <path d=\"M 56.203125 29.59375 \nL 56.203125 25.203125 \nL 14.890625 25.203125 \nQ 15.484375 15.921875 20.484375 11.0625 \nQ 25.484375 6.203125 34.421875 6.203125 \nQ 39.59375 6.203125 44.453125 7.46875 \nQ 49.3125 8.734375 54.109375 11.28125 \nL 54.109375 2.78125 \nQ 49.265625 0.734375 44.1875 -0.34375 \nQ 39.109375 -1.421875 33.890625 -1.421875 \nQ 20.796875 -1.421875 13.15625 6.1875 \nQ 5.515625 13.8125 5.515625 26.8125 \nQ 5.515625 40.234375 12.765625 48.109375 \nQ 20.015625 56 32.328125 56 \nQ 43.359375 56 49.78125 48.890625 \nQ 56.203125 41.796875 56.203125 29.59375 \nz\nM 47.21875 32.234375 \nQ 47.125 39.59375 43.09375 43.984375 \nQ 39.0625 48.390625 32.421875 48.390625 \nQ 24.90625 48.390625 20.390625 44.140625 \nQ 15.875 39.890625 15.1875 32.171875 \nz\nM 38.53125 79.984375 \nL 48.25 79.984375 \nL 32.34375 61.625 \nL 24.859375 61.625 \nz\n\" id=\"DejaVuSans-233\"/>\n      <path d=\"M 45.40625 46.390625 \nL 45.40625 75.984375 \nL 54.390625 75.984375 \nL 54.390625 0 \nL 45.40625 0 \nL 45.40625 8.203125 \nQ 42.578125 3.328125 38.25 0.953125 \nQ 33.9375 -1.421875 27.875 -1.421875 \nQ 17.96875 -1.421875 11.734375 6.484375 \nQ 5.515625 14.40625 5.515625 27.296875 \nQ 5.515625 40.1875 11.734375 48.09375 \nQ 17.96875 56 27.875 56 \nQ 33.9375 56 38.25 53.625 \nQ 42.578125 51.265625 45.40625 46.390625 \nz\nM 14.796875 27.296875 \nQ 14.796875 17.390625 18.875 11.75 \nQ 22.953125 6.109375 30.078125 6.109375 \nQ 37.203125 6.109375 41.296875 11.75 \nQ 45.40625 17.390625 45.40625 27.296875 \nQ 45.40625 37.203125 41.296875 42.84375 \nQ 37.203125 48.484375 30.078125 48.484375 \nQ 22.953125 48.484375 18.875 42.84375 \nQ 14.796875 37.203125 14.796875 27.296875 \nz\n\" id=\"DejaVuSans-100\"/>\n      <path d=\"M 9.421875 54.6875 \nL 18.40625 54.6875 \nL 18.40625 0 \nL 9.421875 0 \nz\nM 9.421875 75.984375 \nL 18.40625 75.984375 \nL 18.40625 64.59375 \nL 9.421875 64.59375 \nz\n\" id=\"DejaVuSans-105\"/>\n      <path d=\"M 18.3125 70.21875 \nL 18.3125 54.6875 \nL 36.8125 54.6875 \nL 36.8125 47.703125 \nL 18.3125 47.703125 \nL 18.3125 18.015625 \nQ 18.3125 11.328125 20.140625 9.421875 \nQ 21.96875 7.515625 27.59375 7.515625 \nL 36.8125 7.515625 \nL 36.8125 0 \nL 27.59375 0 \nQ 17.1875 0 13.234375 3.875 \nQ 9.28125 7.765625 9.28125 18.015625 \nL 9.28125 47.703125 \nL 2.6875 47.703125 \nL 2.6875 54.6875 \nL 9.28125 54.6875 \nL 9.28125 70.21875 \nz\n\" id=\"DejaVuSans-116\"/>\n     </defs>\n     <g transform=\"translate(135.305938 268.914687)scale(0.1 -0.1)\">\n      <use xlink:href=\"#DejaVuSans-78\"/>\n      <use x=\"74.804688\" xlink:href=\"#DejaVuSans-111\"/>\n      <use x=\"135.986328\" xlink:href=\"#DejaVuSans-109\"/>\n      <use x=\"233.398438\" xlink:href=\"#DejaVuSans-98\"/>\n      <use x=\"296.875\" xlink:href=\"#DejaVuSans-114\"/>\n      <use x=\"335.738281\" xlink:href=\"#DejaVuSans-101\"/>\n      <use x=\"397.261719\" xlink:href=\"#DejaVuSans-32\"/>\n      <use x=\"429.048828\" xlink:href=\"#DejaVuSans-112\"/>\n      <use x=\"492.525391\" xlink:href=\"#DejaVuSans-114\"/>\n      <use x=\"531.388672\" xlink:href=\"#DejaVuSans-233\"/>\n      <use x=\"592.912109\" xlink:href=\"#DejaVuSans-100\"/>\n      <use x=\"656.388672\" xlink:href=\"#DejaVuSans-105\"/>\n      <use x=\"684.171875\" xlink:href=\"#DejaVuSans-116\"/>\n     </g>\n    </g>\n   </g>\n   <g id=\"matplotlib.axis_2\">\n    <g id=\"ytick_1\">\n     <g id=\"line2d_12\">\n      <defs>\n       <path d=\"M 0 0 \nL -3.5 0 \n\" id=\"m77d6ee7e3d\" style=\"stroke:#000000;stroke-width:0.8;\"/>\n      </defs>\n      <g>\n       <use style=\"stroke:#000000;stroke-width:0.8;\" x=\"37.55625\" xlink:href=\"#m77d6ee7e3d\" y=\"40.918125\"/>\n      </g>\n     </g>\n     <g id=\"text_13\">\n      <!-- 0.0 -->\n      <g transform=\"translate(28.476563 53.022031)rotate(-90)scale(0.1 -0.1)\">\n       <use xlink:href=\"#DejaVuSans-48\"/>\n       <use x=\"63.623047\" xlink:href=\"#DejaVuSans-46\"/>\n       <use x=\"95.410156\" xlink:href=\"#DejaVuSans-48\"/>\n      </g>\n     </g>\n    </g>\n    <g id=\"ytick_2\">\n     <g id=\"line2d_13\">\n      <g>\n       <use style=\"stroke:#000000;stroke-width:0.8;\" x=\"37.55625\" xlink:href=\"#m77d6ee7e3d\" y=\"59.038125\"/>\n      </g>\n     </g>\n     <g id=\"text_14\">\n      <!-- 1.0 -->\n      <g transform=\"translate(28.476563 71.142031)rotate(-90)scale(0.1 -0.1)\">\n       <use xlink:href=\"#DejaVuSans-49\"/>\n       <use x=\"63.623047\" xlink:href=\"#DejaVuSans-46\"/>\n       <use x=\"95.410156\" xlink:href=\"#DejaVuSans-48\"/>\n      </g>\n     </g>\n    </g>\n    <g id=\"ytick_3\">\n     <g id=\"line2d_14\">\n      <g>\n       <use style=\"stroke:#000000;stroke-width:0.8;\" x=\"37.55625\" xlink:href=\"#m77d6ee7e3d\" y=\"77.158125\"/>\n      </g>\n     </g>\n     <g id=\"text_15\">\n      <!-- 2.0 -->\n      <g transform=\"translate(28.476563 89.262031)rotate(-90)scale(0.1 -0.1)\">\n       <use xlink:href=\"#DejaVuSans-50\"/>\n       <use x=\"63.623047\" xlink:href=\"#DejaVuSans-46\"/>\n       <use x=\"95.410156\" xlink:href=\"#DejaVuSans-48\"/>\n      </g>\n     </g>\n    </g>\n    <g id=\"ytick_4\">\n     <g id=\"line2d_15\">\n      <g>\n       <use style=\"stroke:#000000;stroke-width:0.8;\" x=\"37.55625\" xlink:href=\"#m77d6ee7e3d\" y=\"95.278125\"/>\n      </g>\n     </g>\n     <g id=\"text_16\">\n      <!-- 3.0 -->\n      <g transform=\"translate(28.476563 107.382031)rotate(-90)scale(0.1 -0.1)\">\n       <use xlink:href=\"#DejaVuSans-51\"/>\n       <use x=\"63.623047\" xlink:href=\"#DejaVuSans-46\"/>\n       <use x=\"95.410156\" xlink:href=\"#DejaVuSans-48\"/>\n      </g>\n     </g>\n    </g>\n    <g id=\"ytick_5\">\n     <g id=\"line2d_16\">\n      <g>\n       <use style=\"stroke:#000000;stroke-width:0.8;\" x=\"37.55625\" xlink:href=\"#m77d6ee7e3d\" y=\"113.398125\"/>\n      </g>\n     </g>\n     <g id=\"text_17\">\n      <!-- 4.0 -->\n      <g transform=\"translate(28.476563 125.502031)rotate(-90)scale(0.1 -0.1)\">\n       <use xlink:href=\"#DejaVuSans-52\"/>\n       <use x=\"63.623047\" xlink:href=\"#DejaVuSans-46\"/>\n       <use x=\"95.410156\" xlink:href=\"#DejaVuSans-48\"/>\n      </g>\n     </g>\n    </g>\n    <g id=\"ytick_6\">\n     <g id=\"line2d_17\">\n      <g>\n       <use style=\"stroke:#000000;stroke-width:0.8;\" x=\"37.55625\" xlink:href=\"#m77d6ee7e3d\" y=\"131.518125\"/>\n      </g>\n     </g>\n     <g id=\"text_18\">\n      <!-- 5.0 -->\n      <g transform=\"translate(28.476563 143.622031)rotate(-90)scale(0.1 -0.1)\">\n       <use xlink:href=\"#DejaVuSans-53\"/>\n       <use x=\"63.623047\" xlink:href=\"#DejaVuSans-46\"/>\n       <use x=\"95.410156\" xlink:href=\"#DejaVuSans-48\"/>\n      </g>\n     </g>\n    </g>\n    <g id=\"ytick_7\">\n     <g id=\"line2d_18\">\n      <g>\n       <use style=\"stroke:#000000;stroke-width:0.8;\" x=\"37.55625\" xlink:href=\"#m77d6ee7e3d\" y=\"149.638125\"/>\n      </g>\n     </g>\n     <g id=\"text_19\">\n      <!-- 6.0 -->\n      <g transform=\"translate(28.476563 161.742031)rotate(-90)scale(0.1 -0.1)\">\n       <use xlink:href=\"#DejaVuSans-54\"/>\n       <use x=\"63.623047\" xlink:href=\"#DejaVuSans-46\"/>\n       <use x=\"95.410156\" xlink:href=\"#DejaVuSans-48\"/>\n      </g>\n     </g>\n    </g>\n    <g id=\"ytick_8\">\n     <g id=\"line2d_19\">\n      <g>\n       <use style=\"stroke:#000000;stroke-width:0.8;\" x=\"37.55625\" xlink:href=\"#m77d6ee7e3d\" y=\"167.758125\"/>\n      </g>\n     </g>\n     <g id=\"text_20\">\n      <!-- 7.0 -->\n      <g transform=\"translate(28.476563 179.862031)rotate(-90)scale(0.1 -0.1)\">\n       <use xlink:href=\"#DejaVuSans-55\"/>\n       <use x=\"63.623047\" xlink:href=\"#DejaVuSans-46\"/>\n       <use x=\"95.410156\" xlink:href=\"#DejaVuSans-48\"/>\n      </g>\n     </g>\n    </g>\n    <g id=\"ytick_9\">\n     <g id=\"line2d_20\">\n      <g>\n       <use style=\"stroke:#000000;stroke-width:0.8;\" x=\"37.55625\" xlink:href=\"#m77d6ee7e3d\" y=\"185.878125\"/>\n      </g>\n     </g>\n     <g id=\"text_21\">\n      <!-- 8.0 -->\n      <g transform=\"translate(28.476563 197.982031)rotate(-90)scale(0.1 -0.1)\">\n       <use xlink:href=\"#DejaVuSans-56\"/>\n       <use x=\"63.623047\" xlink:href=\"#DejaVuSans-46\"/>\n       <use x=\"95.410156\" xlink:href=\"#DejaVuSans-48\"/>\n      </g>\n     </g>\n    </g>\n    <g id=\"ytick_10\">\n     <g id=\"line2d_21\">\n      <g>\n       <use style=\"stroke:#000000;stroke-width:0.8;\" x=\"37.55625\" xlink:href=\"#m77d6ee7e3d\" y=\"203.998125\"/>\n      </g>\n     </g>\n     <g id=\"text_22\">\n      <!-- 9.0 -->\n      <g transform=\"translate(28.476563 216.102031)rotate(-90)scale(0.1 -0.1)\">\n       <use xlink:href=\"#DejaVuSans-57\"/>\n       <use x=\"63.623047\" xlink:href=\"#DejaVuSans-46\"/>\n       <use x=\"95.410156\" xlink:href=\"#DejaVuSans-48\"/>\n      </g>\n     </g>\n    </g>\n    <g id=\"ytick_11\">\n     <g id=\"line2d_22\">\n      <g>\n       <use style=\"stroke:#000000;stroke-width:0.8;\" x=\"37.55625\" xlink:href=\"#m77d6ee7e3d\" y=\"222.118125\"/>\n      </g>\n     </g>\n     <g id=\"text_23\">\n      <!-- 10.0 -->\n      <g transform=\"translate(28.476563 240.584531)rotate(-90)scale(0.1 -0.1)\">\n       <use xlink:href=\"#DejaVuSans-49\"/>\n       <use x=\"63.623047\" xlink:href=\"#DejaVuSans-48\"/>\n       <use x=\"127.246094\" xlink:href=\"#DejaVuSans-46\"/>\n       <use x=\"159.033203\" xlink:href=\"#DejaVuSans-48\"/>\n      </g>\n     </g>\n    </g>\n    <g id=\"text_24\">\n     <!-- Nombre réel -->\n     <defs>\n      <path d=\"M 9.421875 75.984375 \nL 18.40625 75.984375 \nL 18.40625 0 \nL 9.421875 0 \nz\n\" id=\"DejaVuSans-108\"/>\n     </defs>\n     <g transform=\"translate(14.798438 162.456406)rotate(-90)scale(0.1 -0.1)\">\n      <use xlink:href=\"#DejaVuSans-78\"/>\n      <use x=\"74.804688\" xlink:href=\"#DejaVuSans-111\"/>\n      <use x=\"135.986328\" xlink:href=\"#DejaVuSans-109\"/>\n      <use x=\"233.398438\" xlink:href=\"#DejaVuSans-98\"/>\n      <use x=\"296.875\" xlink:href=\"#DejaVuSans-114\"/>\n      <use x=\"335.738281\" xlink:href=\"#DejaVuSans-101\"/>\n      <use x=\"397.261719\" xlink:href=\"#DejaVuSans-32\"/>\n      <use x=\"429.048828\" xlink:href=\"#DejaVuSans-114\"/>\n      <use x=\"467.912109\" xlink:href=\"#DejaVuSans-233\"/>\n      <use x=\"529.435547\" xlink:href=\"#DejaVuSans-101\"/>\n      <use x=\"590.958984\" xlink:href=\"#DejaVuSans-108\"/>\n     </g>\n    </g>\n   </g>\n   <g id=\"text_25\">\n    <!-- 0 -->\n    <g style=\"fill:#ffffff;\" transform=\"translate(46.549545 43.6775)scale(0.1 -0.1)\">\n     <use xlink:href=\"#DejaVuSans-48\"/>\n    </g>\n   </g>\n   <g id=\"text_26\">\n    <!-- 0 -->\n    <g style=\"fill:#ffffff;\" transform=\"translate(70.898636 43.6775)scale(0.1 -0.1)\">\n     <use xlink:href=\"#DejaVuSans-48\"/>\n    </g>\n   </g>\n   <g id=\"text_27\">\n    <!-- 1 -->\n    <g style=\"fill:#ffffff;\" transform=\"translate(95.247727 43.6775)scale(0.1 -0.1)\">\n     <use xlink:href=\"#DejaVuSans-49\"/>\n    </g>\n   </g>\n   <g id=\"text_28\">\n    <!-- 0 -->\n    <g style=\"fill:#ffffff;\" transform=\"translate(119.596818 43.6775)scale(0.1 -0.1)\">\n     <use xlink:href=\"#DejaVuSans-48\"/>\n    </g>\n   </g>\n   <g id=\"text_29\">\n    <!-- 0 -->\n    <g style=\"fill:#ffffff;\" transform=\"translate(143.945909 43.6775)scale(0.1 -0.1)\">\n     <use xlink:href=\"#DejaVuSans-48\"/>\n    </g>\n   </g>\n   <g id=\"text_30\">\n    <!-- 0 -->\n    <g style=\"fill:#ffffff;\" transform=\"translate(168.295 43.6775)scale(0.1 -0.1)\">\n     <use xlink:href=\"#DejaVuSans-48\"/>\n    </g>\n   </g>\n   <g id=\"text_31\">\n    <!-- 0 -->\n    <g style=\"fill:#ffffff;\" transform=\"translate(192.644091 43.6775)scale(0.1 -0.1)\">\n     <use xlink:href=\"#DejaVuSans-48\"/>\n    </g>\n   </g>\n   <g id=\"text_32\">\n    <!-- 0 -->\n    <g style=\"fill:#ffffff;\" transform=\"translate(216.993182 43.6775)scale(0.1 -0.1)\">\n     <use xlink:href=\"#DejaVuSans-48\"/>\n    </g>\n   </g>\n   <g id=\"text_33\">\n    <!-- 0 -->\n    <g style=\"fill:#ffffff;\" transform=\"translate(241.342273 43.6775)scale(0.1 -0.1)\">\n     <use xlink:href=\"#DejaVuSans-48\"/>\n    </g>\n   </g>\n   <g id=\"text_34\">\n    <!-- 0 -->\n    <g style=\"fill:#ffffff;\" transform=\"translate(265.691364 43.6775)scale(0.1 -0.1)\">\n     <use xlink:href=\"#DejaVuSans-48\"/>\n    </g>\n   </g>\n   <g id=\"text_35\">\n    <!-- 0 -->\n    <g style=\"fill:#ffffff;\" transform=\"translate(290.040455 43.6775)scale(0.1 -0.1)\">\n     <use xlink:href=\"#DejaVuSans-48\"/>\n    </g>\n   </g>\n   <g id=\"text_36\">\n    <!-- 1 -->\n    <g style=\"fill:#ffffff;\" transform=\"translate(46.549545 61.7975)scale(0.1 -0.1)\">\n     <use xlink:href=\"#DejaVuSans-49\"/>\n    </g>\n   </g>\n   <g id=\"text_37\">\n    <!-- 1 -->\n    <g style=\"fill:#ffffff;\" transform=\"translate(70.898636 61.7975)scale(0.1 -0.1)\">\n     <use xlink:href=\"#DejaVuSans-49\"/>\n    </g>\n   </g>\n   <g id=\"text_38\">\n    <!-- 2 -->\n    <g style=\"fill:#ffffff;\" transform=\"translate(95.247727 61.7975)scale(0.1 -0.1)\">\n     <use xlink:href=\"#DejaVuSans-50\"/>\n    </g>\n   </g>\n   <g id=\"text_39\">\n    <!-- 0 -->\n    <g style=\"fill:#ffffff;\" transform=\"translate(119.596818 61.7975)scale(0.1 -0.1)\">\n     <use xlink:href=\"#DejaVuSans-48\"/>\n    </g>\n   </g>\n   <g id=\"text_40\">\n    <!-- 0 -->\n    <g style=\"fill:#ffffff;\" transform=\"translate(143.945909 61.7975)scale(0.1 -0.1)\">\n     <use xlink:href=\"#DejaVuSans-48\"/>\n    </g>\n   </g>\n   <g id=\"text_41\">\n    <!-- 0 -->\n    <g style=\"fill:#ffffff;\" transform=\"translate(168.295 61.7975)scale(0.1 -0.1)\">\n     <use xlink:href=\"#DejaVuSans-48\"/>\n    </g>\n   </g>\n   <g id=\"text_42\">\n    <!-- 0 -->\n    <g style=\"fill:#ffffff;\" transform=\"translate(192.644091 61.7975)scale(0.1 -0.1)\">\n     <use xlink:href=\"#DejaVuSans-48\"/>\n    </g>\n   </g>\n   <g id=\"text_43\">\n    <!-- 0 -->\n    <g style=\"fill:#ffffff;\" transform=\"translate(216.993182 61.7975)scale(0.1 -0.1)\">\n     <use xlink:href=\"#DejaVuSans-48\"/>\n    </g>\n   </g>\n   <g id=\"text_44\">\n    <!-- 0 -->\n    <g style=\"fill:#ffffff;\" transform=\"translate(241.342273 61.7975)scale(0.1 -0.1)\">\n     <use xlink:href=\"#DejaVuSans-48\"/>\n    </g>\n   </g>\n   <g id=\"text_45\">\n    <!-- 0 -->\n    <g style=\"fill:#ffffff;\" transform=\"translate(265.691364 61.7975)scale(0.1 -0.1)\">\n     <use xlink:href=\"#DejaVuSans-48\"/>\n    </g>\n   </g>\n   <g id=\"text_46\">\n    <!-- 0 -->\n    <g style=\"fill:#ffffff;\" transform=\"translate(290.040455 61.7975)scale(0.1 -0.1)\">\n     <use xlink:href=\"#DejaVuSans-48\"/>\n    </g>\n   </g>\n   <g id=\"text_47\">\n    <!-- 0 -->\n    <g style=\"fill:#ffffff;\" transform=\"translate(46.549545 79.9175)scale(0.1 -0.1)\">\n     <use xlink:href=\"#DejaVuSans-48\"/>\n    </g>\n   </g>\n   <g id=\"text_48\">\n    <!-- 0 -->\n    <g style=\"fill:#ffffff;\" transform=\"translate(70.898636 79.9175)scale(0.1 -0.1)\">\n     <use xlink:href=\"#DejaVuSans-48\"/>\n    </g>\n   </g>\n   <g id=\"text_49\">\n    <!-- 1 -->\n    <g style=\"fill:#ffffff;\" transform=\"translate(95.247727 79.9175)scale(0.1 -0.1)\">\n     <use xlink:href=\"#DejaVuSans-49\"/>\n    </g>\n   </g>\n   <g id=\"text_50\">\n    <!-- 0 -->\n    <g style=\"fill:#ffffff;\" transform=\"translate(119.596818 79.9175)scale(0.1 -0.1)\">\n     <use xlink:href=\"#DejaVuSans-48\"/>\n    </g>\n   </g>\n   <g id=\"text_51\">\n    <!-- 0 -->\n    <g style=\"fill:#ffffff;\" transform=\"translate(143.945909 79.9175)scale(0.1 -0.1)\">\n     <use xlink:href=\"#DejaVuSans-48\"/>\n    </g>\n   </g>\n   <g id=\"text_52\">\n    <!-- 0 -->\n    <g style=\"fill:#ffffff;\" transform=\"translate(168.295 79.9175)scale(0.1 -0.1)\">\n     <use xlink:href=\"#DejaVuSans-48\"/>\n    </g>\n   </g>\n   <g id=\"text_53\">\n    <!-- 0 -->\n    <g style=\"fill:#ffffff;\" transform=\"translate(192.644091 79.9175)scale(0.1 -0.1)\">\n     <use xlink:href=\"#DejaVuSans-48\"/>\n    </g>\n   </g>\n   <g id=\"text_54\">\n    <!-- 0 -->\n    <g style=\"fill:#ffffff;\" transform=\"translate(216.993182 79.9175)scale(0.1 -0.1)\">\n     <use xlink:href=\"#DejaVuSans-48\"/>\n    </g>\n   </g>\n   <g id=\"text_55\">\n    <!-- 0 -->\n    <g style=\"fill:#ffffff;\" transform=\"translate(241.342273 79.9175)scale(0.1 -0.1)\">\n     <use xlink:href=\"#DejaVuSans-48\"/>\n    </g>\n   </g>\n   <g id=\"text_56\">\n    <!-- 0 -->\n    <g style=\"fill:#ffffff;\" transform=\"translate(265.691364 79.9175)scale(0.1 -0.1)\">\n     <use xlink:href=\"#DejaVuSans-48\"/>\n    </g>\n   </g>\n   <g id=\"text_57\">\n    <!-- 0 -->\n    <g style=\"fill:#ffffff;\" transform=\"translate(290.040455 79.9175)scale(0.1 -0.1)\">\n     <use xlink:href=\"#DejaVuSans-48\"/>\n    </g>\n   </g>\n   <g id=\"text_58\">\n    <!-- 0 -->\n    <g style=\"fill:#ffffff;\" transform=\"translate(46.549545 98.0375)scale(0.1 -0.1)\">\n     <use xlink:href=\"#DejaVuSans-48\"/>\n    </g>\n   </g>\n   <g id=\"text_59\">\n    <!-- 0 -->\n    <g style=\"fill:#ffffff;\" transform=\"translate(70.898636 98.0375)scale(0.1 -0.1)\">\n     <use xlink:href=\"#DejaVuSans-48\"/>\n    </g>\n   </g>\n   <g id=\"text_60\">\n    <!-- 1 -->\n    <g style=\"fill:#ffffff;\" transform=\"translate(95.247727 98.0375)scale(0.1 -0.1)\">\n     <use xlink:href=\"#DejaVuSans-49\"/>\n    </g>\n   </g>\n   <g id=\"text_61\">\n    <!-- 3 -->\n    <g style=\"fill:#ffffff;\" transform=\"translate(119.596818 98.0375)scale(0.1 -0.1)\">\n     <use xlink:href=\"#DejaVuSans-51\"/>\n    </g>\n   </g>\n   <g id=\"text_62\">\n    <!-- 0 -->\n    <g style=\"fill:#ffffff;\" transform=\"translate(143.945909 98.0375)scale(0.1 -0.1)\">\n     <use xlink:href=\"#DejaVuSans-48\"/>\n    </g>\n   </g>\n   <g id=\"text_63\">\n    <!-- 0 -->\n    <g style=\"fill:#ffffff;\" transform=\"translate(168.295 98.0375)scale(0.1 -0.1)\">\n     <use xlink:href=\"#DejaVuSans-48\"/>\n    </g>\n   </g>\n   <g id=\"text_64\">\n    <!-- 0 -->\n    <g style=\"fill:#ffffff;\" transform=\"translate(192.644091 98.0375)scale(0.1 -0.1)\">\n     <use xlink:href=\"#DejaVuSans-48\"/>\n    </g>\n   </g>\n   <g id=\"text_65\">\n    <!-- 0 -->\n    <g style=\"fill:#ffffff;\" transform=\"translate(216.993182 98.0375)scale(0.1 -0.1)\">\n     <use xlink:href=\"#DejaVuSans-48\"/>\n    </g>\n   </g>\n   <g id=\"text_66\">\n    <!-- 0 -->\n    <g style=\"fill:#ffffff;\" transform=\"translate(241.342273 98.0375)scale(0.1 -0.1)\">\n     <use xlink:href=\"#DejaVuSans-48\"/>\n    </g>\n   </g>\n   <g id=\"text_67\">\n    <!-- 0 -->\n    <g style=\"fill:#ffffff;\" transform=\"translate(265.691364 98.0375)scale(0.1 -0.1)\">\n     <use xlink:href=\"#DejaVuSans-48\"/>\n    </g>\n   </g>\n   <g id=\"text_68\">\n    <!-- 0 -->\n    <g style=\"fill:#ffffff;\" transform=\"translate(290.040455 98.0375)scale(0.1 -0.1)\">\n     <use xlink:href=\"#DejaVuSans-48\"/>\n    </g>\n   </g>\n   <g id=\"text_69\">\n    <!-- 0 -->\n    <g style=\"fill:#ffffff;\" transform=\"translate(46.549545 116.1575)scale(0.1 -0.1)\">\n     <use xlink:href=\"#DejaVuSans-48\"/>\n    </g>\n   </g>\n   <g id=\"text_70\">\n    <!-- 0 -->\n    <g style=\"fill:#ffffff;\" transform=\"translate(70.898636 116.1575)scale(0.1 -0.1)\">\n     <use xlink:href=\"#DejaVuSans-48\"/>\n    </g>\n   </g>\n   <g id=\"text_71\">\n    <!-- 1 -->\n    <g style=\"fill:#ffffff;\" transform=\"translate(95.247727 116.1575)scale(0.1 -0.1)\">\n     <use xlink:href=\"#DejaVuSans-49\"/>\n    </g>\n   </g>\n   <g id=\"text_72\">\n    <!-- 2 -->\n    <g style=\"fill:#ffffff;\" transform=\"translate(119.596818 116.1575)scale(0.1 -0.1)\">\n     <use xlink:href=\"#DejaVuSans-50\"/>\n    </g>\n   </g>\n   <g id=\"text_73\">\n    <!-- 2 -->\n    <g style=\"fill:#ffffff;\" transform=\"translate(143.945909 116.1575)scale(0.1 -0.1)\">\n     <use xlink:href=\"#DejaVuSans-50\"/>\n    </g>\n   </g>\n   <g id=\"text_74\">\n    <!-- 1 -->\n    <g style=\"fill:#ffffff;\" transform=\"translate(168.295 116.1575)scale(0.1 -0.1)\">\n     <use xlink:href=\"#DejaVuSans-49\"/>\n    </g>\n   </g>\n   <g id=\"text_75\">\n    <!-- 0 -->\n    <g style=\"fill:#ffffff;\" transform=\"translate(192.644091 116.1575)scale(0.1 -0.1)\">\n     <use xlink:href=\"#DejaVuSans-48\"/>\n    </g>\n   </g>\n   <g id=\"text_76\">\n    <!-- 0 -->\n    <g style=\"fill:#ffffff;\" transform=\"translate(216.993182 116.1575)scale(0.1 -0.1)\">\n     <use xlink:href=\"#DejaVuSans-48\"/>\n    </g>\n   </g>\n   <g id=\"text_77\">\n    <!-- 0 -->\n    <g style=\"fill:#ffffff;\" transform=\"translate(241.342273 116.1575)scale(0.1 -0.1)\">\n     <use xlink:href=\"#DejaVuSans-48\"/>\n    </g>\n   </g>\n   <g id=\"text_78\">\n    <!-- 0 -->\n    <g style=\"fill:#ffffff;\" transform=\"translate(265.691364 116.1575)scale(0.1 -0.1)\">\n     <use xlink:href=\"#DejaVuSans-48\"/>\n    </g>\n   </g>\n   <g id=\"text_79\">\n    <!-- 0 -->\n    <g style=\"fill:#ffffff;\" transform=\"translate(290.040455 116.1575)scale(0.1 -0.1)\">\n     <use xlink:href=\"#DejaVuSans-48\"/>\n    </g>\n   </g>\n   <g id=\"text_80\">\n    <!-- 0 -->\n    <g style=\"fill:#ffffff;\" transform=\"translate(46.549545 134.2775)scale(0.1 -0.1)\">\n     <use xlink:href=\"#DejaVuSans-48\"/>\n    </g>\n   </g>\n   <g id=\"text_81\">\n    <!-- 0 -->\n    <g style=\"fill:#ffffff;\" transform=\"translate(70.898636 134.2775)scale(0.1 -0.1)\">\n     <use xlink:href=\"#DejaVuSans-48\"/>\n    </g>\n   </g>\n   <g id=\"text_82\">\n    <!-- 0 -->\n    <g style=\"fill:#ffffff;\" transform=\"translate(95.247727 134.2775)scale(0.1 -0.1)\">\n     <use xlink:href=\"#DejaVuSans-48\"/>\n    </g>\n   </g>\n   <g id=\"text_83\">\n    <!-- 0 -->\n    <g style=\"fill:#ffffff;\" transform=\"translate(119.596818 134.2775)scale(0.1 -0.1)\">\n     <use xlink:href=\"#DejaVuSans-48\"/>\n    </g>\n   </g>\n   <g id=\"text_84\">\n    <!-- 0 -->\n    <g style=\"fill:#ffffff;\" transform=\"translate(143.945909 134.2775)scale(0.1 -0.1)\">\n     <use xlink:href=\"#DejaVuSans-48\"/>\n    </g>\n   </g>\n   <g id=\"text_85\">\n    <!-- 0 -->\n    <g style=\"fill:#ffffff;\" transform=\"translate(168.295 134.2775)scale(0.1 -0.1)\">\n     <use xlink:href=\"#DejaVuSans-48\"/>\n    </g>\n   </g>\n   <g id=\"text_86\">\n    <!-- 1 -->\n    <g style=\"fill:#ffffff;\" transform=\"translate(192.644091 134.2775)scale(0.1 -0.1)\">\n     <use xlink:href=\"#DejaVuSans-49\"/>\n    </g>\n   </g>\n   <g id=\"text_87\">\n    <!-- 1 -->\n    <g style=\"fill:#ffffff;\" transform=\"translate(216.993182 134.2775)scale(0.1 -0.1)\">\n     <use xlink:href=\"#DejaVuSans-49\"/>\n    </g>\n   </g>\n   <g id=\"text_88\">\n    <!-- 0 -->\n    <g style=\"fill:#ffffff;\" transform=\"translate(241.342273 134.2775)scale(0.1 -0.1)\">\n     <use xlink:href=\"#DejaVuSans-48\"/>\n    </g>\n   </g>\n   <g id=\"text_89\">\n    <!-- 0 -->\n    <g style=\"fill:#ffffff;\" transform=\"translate(265.691364 134.2775)scale(0.1 -0.1)\">\n     <use xlink:href=\"#DejaVuSans-48\"/>\n    </g>\n   </g>\n   <g id=\"text_90\">\n    <!-- 0 -->\n    <g style=\"fill:#ffffff;\" transform=\"translate(290.040455 134.2775)scale(0.1 -0.1)\">\n     <use xlink:href=\"#DejaVuSans-48\"/>\n    </g>\n   </g>\n   <g id=\"text_91\">\n    <!-- 0 -->\n    <g style=\"fill:#ffffff;\" transform=\"translate(46.549545 152.3975)scale(0.1 -0.1)\">\n     <use xlink:href=\"#DejaVuSans-48\"/>\n    </g>\n   </g>\n   <g id=\"text_92\">\n    <!-- 0 -->\n    <g style=\"fill:#ffffff;\" transform=\"translate(70.898636 152.3975)scale(0.1 -0.1)\">\n     <use xlink:href=\"#DejaVuSans-48\"/>\n    </g>\n   </g>\n   <g id=\"text_93\">\n    <!-- 0 -->\n    <g style=\"fill:#ffffff;\" transform=\"translate(95.247727 152.3975)scale(0.1 -0.1)\">\n     <use xlink:href=\"#DejaVuSans-48\"/>\n    </g>\n   </g>\n   <g id=\"text_94\">\n    <!-- 0 -->\n    <g style=\"fill:#ffffff;\" transform=\"translate(119.596818 152.3975)scale(0.1 -0.1)\">\n     <use xlink:href=\"#DejaVuSans-48\"/>\n    </g>\n   </g>\n   <g id=\"text_95\">\n    <!-- 0 -->\n    <g style=\"fill:#ffffff;\" transform=\"translate(143.945909 152.3975)scale(0.1 -0.1)\">\n     <use xlink:href=\"#DejaVuSans-48\"/>\n    </g>\n   </g>\n   <g id=\"text_96\">\n    <!-- 2 -->\n    <g style=\"fill:#ffffff;\" transform=\"translate(168.295 152.3975)scale(0.1 -0.1)\">\n     <use xlink:href=\"#DejaVuSans-50\"/>\n    </g>\n   </g>\n   <g id=\"text_97\">\n    <!-- 0 -->\n    <g style=\"fill:#ffffff;\" transform=\"translate(192.644091 152.3975)scale(0.1 -0.1)\">\n     <use xlink:href=\"#DejaVuSans-48\"/>\n    </g>\n   </g>\n   <g id=\"text_98\">\n    <!-- 2 -->\n    <g style=\"fill:#ffffff;\" transform=\"translate(216.993182 152.3975)scale(0.1 -0.1)\">\n     <use xlink:href=\"#DejaVuSans-50\"/>\n    </g>\n   </g>\n   <g id=\"text_99\">\n    <!-- 0 -->\n    <g style=\"fill:#ffffff;\" transform=\"translate(241.342273 152.3975)scale(0.1 -0.1)\">\n     <use xlink:href=\"#DejaVuSans-48\"/>\n    </g>\n   </g>\n   <g id=\"text_100\">\n    <!-- 0 -->\n    <g style=\"fill:#ffffff;\" transform=\"translate(265.691364 152.3975)scale(0.1 -0.1)\">\n     <use xlink:href=\"#DejaVuSans-48\"/>\n    </g>\n   </g>\n   <g id=\"text_101\">\n    <!-- 0 -->\n    <g style=\"fill:#ffffff;\" transform=\"translate(290.040455 152.3975)scale(0.1 -0.1)\">\n     <use xlink:href=\"#DejaVuSans-48\"/>\n    </g>\n   </g>\n   <g id=\"text_102\">\n    <!-- 0 -->\n    <g style=\"fill:#ffffff;\" transform=\"translate(46.549545 170.5175)scale(0.1 -0.1)\">\n     <use xlink:href=\"#DejaVuSans-48\"/>\n    </g>\n   </g>\n   <g id=\"text_103\">\n    <!-- 0 -->\n    <g style=\"fill:#ffffff;\" transform=\"translate(70.898636 170.5175)scale(0.1 -0.1)\">\n     <use xlink:href=\"#DejaVuSans-48\"/>\n    </g>\n   </g>\n   <g id=\"text_104\">\n    <!-- 0 -->\n    <g style=\"fill:#ffffff;\" transform=\"translate(95.247727 170.5175)scale(0.1 -0.1)\">\n     <use xlink:href=\"#DejaVuSans-48\"/>\n    </g>\n   </g>\n   <g id=\"text_105\">\n    <!-- 0 -->\n    <g style=\"fill:#ffffff;\" transform=\"translate(119.596818 170.5175)scale(0.1 -0.1)\">\n     <use xlink:href=\"#DejaVuSans-48\"/>\n    </g>\n   </g>\n   <g id=\"text_106\">\n    <!-- 0 -->\n    <g style=\"fill:#ffffff;\" transform=\"translate(143.945909 170.5175)scale(0.1 -0.1)\">\n     <use xlink:href=\"#DejaVuSans-48\"/>\n    </g>\n   </g>\n   <g id=\"text_107\">\n    <!-- 1 -->\n    <g style=\"fill:#ffffff;\" transform=\"translate(168.295 170.5175)scale(0.1 -0.1)\">\n     <use xlink:href=\"#DejaVuSans-49\"/>\n    </g>\n   </g>\n   <g id=\"text_108\">\n    <!-- 1 -->\n    <g style=\"fill:#ffffff;\" transform=\"translate(192.644091 170.5175)scale(0.1 -0.1)\">\n     <use xlink:href=\"#DejaVuSans-49\"/>\n    </g>\n   </g>\n   <g id=\"text_109\">\n    <!-- 1 -->\n    <g style=\"fill:#ffffff;\" transform=\"translate(216.993182 170.5175)scale(0.1 -0.1)\">\n     <use xlink:href=\"#DejaVuSans-49\"/>\n    </g>\n   </g>\n   <g id=\"text_110\">\n    <!-- 1 -->\n    <g style=\"fill:#ffffff;\" transform=\"translate(241.342273 170.5175)scale(0.1 -0.1)\">\n     <use xlink:href=\"#DejaVuSans-49\"/>\n    </g>\n   </g>\n   <g id=\"text_111\">\n    <!-- 0 -->\n    <g style=\"fill:#ffffff;\" transform=\"translate(265.691364 170.5175)scale(0.1 -0.1)\">\n     <use xlink:href=\"#DejaVuSans-48\"/>\n    </g>\n   </g>\n   <g id=\"text_112\">\n    <!-- 1 -->\n    <g style=\"fill:#ffffff;\" transform=\"translate(290.040455 170.5175)scale(0.1 -0.1)\">\n     <use xlink:href=\"#DejaVuSans-49\"/>\n    </g>\n   </g>\n   <g id=\"text_113\">\n    <!-- 0 -->\n    <g style=\"fill:#ffffff;\" transform=\"translate(46.549545 188.6375)scale(0.1 -0.1)\">\n     <use xlink:href=\"#DejaVuSans-48\"/>\n    </g>\n   </g>\n   <g id=\"text_114\">\n    <!-- 0 -->\n    <g style=\"fill:#ffffff;\" transform=\"translate(70.898636 188.6375)scale(0.1 -0.1)\">\n     <use xlink:href=\"#DejaVuSans-48\"/>\n    </g>\n   </g>\n   <g id=\"text_115\">\n    <!-- 0 -->\n    <g style=\"fill:#ffffff;\" transform=\"translate(95.247727 188.6375)scale(0.1 -0.1)\">\n     <use xlink:href=\"#DejaVuSans-48\"/>\n    </g>\n   </g>\n   <g id=\"text_116\">\n    <!-- 0 -->\n    <g style=\"fill:#ffffff;\" transform=\"translate(119.596818 188.6375)scale(0.1 -0.1)\">\n     <use xlink:href=\"#DejaVuSans-48\"/>\n    </g>\n   </g>\n   <g id=\"text_117\">\n    <!-- 0 -->\n    <g style=\"fill:#ffffff;\" transform=\"translate(143.945909 188.6375)scale(0.1 -0.1)\">\n     <use xlink:href=\"#DejaVuSans-48\"/>\n    </g>\n   </g>\n   <g id=\"text_118\">\n    <!-- 0 -->\n    <g style=\"fill:#ffffff;\" transform=\"translate(168.295 188.6375)scale(0.1 -0.1)\">\n     <use xlink:href=\"#DejaVuSans-48\"/>\n    </g>\n   </g>\n   <g id=\"text_119\">\n    <!-- 1 -->\n    <g style=\"fill:#ffffff;\" transform=\"translate(192.644091 188.6375)scale(0.1 -0.1)\">\n     <use xlink:href=\"#DejaVuSans-49\"/>\n    </g>\n   </g>\n   <g id=\"text_120\">\n    <!-- 3 -->\n    <g style=\"fill:#ffffff;\" transform=\"translate(216.993182 188.6375)scale(0.1 -0.1)\">\n     <use xlink:href=\"#DejaVuSans-51\"/>\n    </g>\n   </g>\n   <g id=\"text_121\">\n    <!-- 26 -->\n    <g style=\"fill:#262626;\" transform=\"translate(238.161023 188.6375)scale(0.1 -0.1)\">\n     <use xlink:href=\"#DejaVuSans-50\"/>\n     <use x=\"63.623047\" xlink:href=\"#DejaVuSans-54\"/>\n    </g>\n   </g>\n   <g id=\"text_122\">\n    <!-- 6 -->\n    <g style=\"fill:#ffffff;\" transform=\"translate(265.691364 188.6375)scale(0.1 -0.1)\">\n     <use xlink:href=\"#DejaVuSans-54\"/>\n    </g>\n   </g>\n   <g id=\"text_123\">\n    <!-- 0 -->\n    <g style=\"fill:#ffffff;\" transform=\"translate(290.040455 188.6375)scale(0.1 -0.1)\">\n     <use xlink:href=\"#DejaVuSans-48\"/>\n    </g>\n   </g>\n   <g id=\"text_124\">\n    <!-- 0 -->\n    <g style=\"fill:#ffffff;\" transform=\"translate(46.549545 206.7575)scale(0.1 -0.1)\">\n     <use xlink:href=\"#DejaVuSans-48\"/>\n    </g>\n   </g>\n   <g id=\"text_125\">\n    <!-- 0 -->\n    <g style=\"fill:#ffffff;\" transform=\"translate(70.898636 206.7575)scale(0.1 -0.1)\">\n     <use xlink:href=\"#DejaVuSans-48\"/>\n    </g>\n   </g>\n   <g id=\"text_126\">\n    <!-- 0 -->\n    <g style=\"fill:#ffffff;\" transform=\"translate(95.247727 206.7575)scale(0.1 -0.1)\">\n     <use xlink:href=\"#DejaVuSans-48\"/>\n    </g>\n   </g>\n   <g id=\"text_127\">\n    <!-- 0 -->\n    <g style=\"fill:#ffffff;\" transform=\"translate(119.596818 206.7575)scale(0.1 -0.1)\">\n     <use xlink:href=\"#DejaVuSans-48\"/>\n    </g>\n   </g>\n   <g id=\"text_128\">\n    <!-- 0 -->\n    <g style=\"fill:#ffffff;\" transform=\"translate(143.945909 206.7575)scale(0.1 -0.1)\">\n     <use xlink:href=\"#DejaVuSans-48\"/>\n    </g>\n   </g>\n   <g id=\"text_129\">\n    <!-- 0 -->\n    <g style=\"fill:#ffffff;\" transform=\"translate(168.295 206.7575)scale(0.1 -0.1)\">\n     <use xlink:href=\"#DejaVuSans-48\"/>\n    </g>\n   </g>\n   <g id=\"text_130\">\n    <!-- 0 -->\n    <g style=\"fill:#ffffff;\" transform=\"translate(192.644091 206.7575)scale(0.1 -0.1)\">\n     <use xlink:href=\"#DejaVuSans-48\"/>\n    </g>\n   </g>\n   <g id=\"text_131\">\n    <!-- 0 -->\n    <g style=\"fill:#ffffff;\" transform=\"translate(216.993182 206.7575)scale(0.1 -0.1)\">\n     <use xlink:href=\"#DejaVuSans-48\"/>\n    </g>\n   </g>\n   <g id=\"text_132\">\n    <!-- 1 -->\n    <g style=\"fill:#ffffff;\" transform=\"translate(241.342273 206.7575)scale(0.1 -0.1)\">\n     <use xlink:href=\"#DejaVuSans-49\"/>\n    </g>\n   </g>\n   <g id=\"text_133\">\n    <!-- 15 -->\n    <g style=\"fill:#ffffff;\" transform=\"translate(262.510114 206.7575)scale(0.1 -0.1)\">\n     <use xlink:href=\"#DejaVuSans-49\"/>\n     <use x=\"63.623047\" xlink:href=\"#DejaVuSans-53\"/>\n    </g>\n   </g>\n   <g id=\"text_134\">\n    <!-- 3 -->\n    <g style=\"fill:#ffffff;\" transform=\"translate(290.040455 206.7575)scale(0.1 -0.1)\">\n     <use xlink:href=\"#DejaVuSans-51\"/>\n    </g>\n   </g>\n   <g id=\"text_135\">\n    <!-- 0 -->\n    <g style=\"fill:#ffffff;\" transform=\"translate(46.549545 224.8775)scale(0.1 -0.1)\">\n     <use xlink:href=\"#DejaVuSans-48\"/>\n    </g>\n   </g>\n   <g id=\"text_136\">\n    <!-- 0 -->\n    <g style=\"fill:#ffffff;\" transform=\"translate(70.898636 224.8775)scale(0.1 -0.1)\">\n     <use xlink:href=\"#DejaVuSans-48\"/>\n    </g>\n   </g>\n   <g id=\"text_137\">\n    <!-- 0 -->\n    <g style=\"fill:#ffffff;\" transform=\"translate(95.247727 224.8775)scale(0.1 -0.1)\">\n     <use xlink:href=\"#DejaVuSans-48\"/>\n    </g>\n   </g>\n   <g id=\"text_138\">\n    <!-- 0 -->\n    <g style=\"fill:#ffffff;\" transform=\"translate(119.596818 224.8775)scale(0.1 -0.1)\">\n     <use xlink:href=\"#DejaVuSans-48\"/>\n    </g>\n   </g>\n   <g id=\"text_139\">\n    <!-- 0 -->\n    <g style=\"fill:#ffffff;\" transform=\"translate(143.945909 224.8775)scale(0.1 -0.1)\">\n     <use xlink:href=\"#DejaVuSans-48\"/>\n    </g>\n   </g>\n   <g id=\"text_140\">\n    <!-- 0 -->\n    <g style=\"fill:#ffffff;\" transform=\"translate(168.295 224.8775)scale(0.1 -0.1)\">\n     <use xlink:href=\"#DejaVuSans-48\"/>\n    </g>\n   </g>\n   <g id=\"text_141\">\n    <!-- 0 -->\n    <g style=\"fill:#ffffff;\" transform=\"translate(192.644091 224.8775)scale(0.1 -0.1)\">\n     <use xlink:href=\"#DejaVuSans-48\"/>\n    </g>\n   </g>\n   <g id=\"text_142\">\n    <!-- 0 -->\n    <g style=\"fill:#ffffff;\" transform=\"translate(216.993182 224.8775)scale(0.1 -0.1)\">\n     <use xlink:href=\"#DejaVuSans-48\"/>\n    </g>\n   </g>\n   <g id=\"text_143\">\n    <!-- 1 -->\n    <g style=\"fill:#ffffff;\" transform=\"translate(241.342273 224.8775)scale(0.1 -0.1)\">\n     <use xlink:href=\"#DejaVuSans-49\"/>\n    </g>\n   </g>\n   <g id=\"text_144\">\n    <!-- 3 -->\n    <g style=\"fill:#ffffff;\" transform=\"translate(265.691364 224.8775)scale(0.1 -0.1)\">\n     <use xlink:href=\"#DejaVuSans-51\"/>\n    </g>\n   </g>\n   <g id=\"text_145\">\n    <!-- 0 -->\n    <g style=\"fill:#ffffff;\" transform=\"translate(290.040455 224.8775)scale(0.1 -0.1)\">\n     <use xlink:href=\"#DejaVuSans-48\"/>\n    </g>\n   </g>\n   <g id=\"text_146\">\n    <!-- Matrice de confusion avec régression linéaire -->\n    <defs>\n     <path d=\"M 9.8125 72.90625 \nL 24.515625 72.90625 \nL 43.109375 23.296875 \nL 61.8125 72.90625 \nL 76.515625 72.90625 \nL 76.515625 0 \nL 66.890625 0 \nL 66.890625 64.015625 \nL 48.09375 14.015625 \nL 38.1875 14.015625 \nL 19.390625 64.015625 \nL 19.390625 0 \nL 9.8125 0 \nz\n\" id=\"DejaVuSans-77\"/>\n     <path d=\"M 34.28125 27.484375 \nQ 23.390625 27.484375 19.1875 25 \nQ 14.984375 22.515625 14.984375 16.5 \nQ 14.984375 11.71875 18.140625 8.90625 \nQ 21.296875 6.109375 26.703125 6.109375 \nQ 34.1875 6.109375 38.703125 11.40625 \nQ 43.21875 16.703125 43.21875 25.484375 \nL 43.21875 27.484375 \nz\nM 52.203125 31.203125 \nL 52.203125 0 \nL 43.21875 0 \nL 43.21875 8.296875 \nQ 40.140625 3.328125 35.546875 0.953125 \nQ 30.953125 -1.421875 24.3125 -1.421875 \nQ 15.921875 -1.421875 10.953125 3.296875 \nQ 6 8.015625 6 15.921875 \nQ 6 25.140625 12.171875 29.828125 \nQ 18.359375 34.515625 30.609375 34.515625 \nL 43.21875 34.515625 \nL 43.21875 35.40625 \nQ 43.21875 41.609375 39.140625 45 \nQ 35.0625 48.390625 27.6875 48.390625 \nQ 23 48.390625 18.546875 47.265625 \nQ 14.109375 46.140625 10.015625 43.890625 \nL 10.015625 52.203125 \nQ 14.9375 54.109375 19.578125 55.046875 \nQ 24.21875 56 28.609375 56 \nQ 40.484375 56 46.34375 49.84375 \nQ 52.203125 43.703125 52.203125 31.203125 \nz\n\" id=\"DejaVuSans-97\"/>\n     <path d=\"M 48.78125 52.59375 \nL 48.78125 44.1875 \nQ 44.96875 46.296875 41.140625 47.34375 \nQ 37.3125 48.390625 33.40625 48.390625 \nQ 24.65625 48.390625 19.8125 42.84375 \nQ 14.984375 37.3125 14.984375 27.296875 \nQ 14.984375 17.28125 19.8125 11.734375 \nQ 24.65625 6.203125 33.40625 6.203125 \nQ 37.3125 6.203125 41.140625 7.25 \nQ 44.96875 8.296875 48.78125 10.40625 \nL 48.78125 2.09375 \nQ 45.015625 0.34375 40.984375 -0.53125 \nQ 36.96875 -1.421875 32.421875 -1.421875 \nQ 20.0625 -1.421875 12.78125 6.34375 \nQ 5.515625 14.109375 5.515625 27.296875 \nQ 5.515625 40.671875 12.859375 48.328125 \nQ 20.21875 56 33.015625 56 \nQ 37.15625 56 41.109375 55.140625 \nQ 45.0625 54.296875 48.78125 52.59375 \nz\n\" id=\"DejaVuSans-99\"/>\n     <path d=\"M 54.890625 33.015625 \nL 54.890625 0 \nL 45.90625 0 \nL 45.90625 32.71875 \nQ 45.90625 40.484375 42.875 44.328125 \nQ 39.84375 48.1875 33.796875 48.1875 \nQ 26.515625 48.1875 22.3125 43.546875 \nQ 18.109375 38.921875 18.109375 30.90625 \nL 18.109375 0 \nL 9.078125 0 \nL 9.078125 54.6875 \nL 18.109375 54.6875 \nL 18.109375 46.1875 \nQ 21.34375 51.125 25.703125 53.5625 \nQ 30.078125 56 35.796875 56 \nQ 45.21875 56 50.046875 50.171875 \nQ 54.890625 44.34375 54.890625 33.015625 \nz\n\" id=\"DejaVuSans-110\"/>\n     <path d=\"M 37.109375 75.984375 \nL 37.109375 68.5 \nL 28.515625 68.5 \nQ 23.6875 68.5 21.796875 66.546875 \nQ 19.921875 64.59375 19.921875 59.515625 \nL 19.921875 54.6875 \nL 34.71875 54.6875 \nL 34.71875 47.703125 \nL 19.921875 47.703125 \nL 19.921875 0 \nL 10.890625 0 \nL 10.890625 47.703125 \nL 2.296875 47.703125 \nL 2.296875 54.6875 \nL 10.890625 54.6875 \nL 10.890625 58.5 \nQ 10.890625 67.625 15.140625 71.796875 \nQ 19.390625 75.984375 28.609375 75.984375 \nz\n\" id=\"DejaVuSans-102\"/>\n     <path d=\"M 8.5 21.578125 \nL 8.5 54.6875 \nL 17.484375 54.6875 \nL 17.484375 21.921875 \nQ 17.484375 14.15625 20.5 10.265625 \nQ 23.53125 6.390625 29.59375 6.390625 \nQ 36.859375 6.390625 41.078125 11.03125 \nQ 45.3125 15.671875 45.3125 23.6875 \nL 45.3125 54.6875 \nL 54.296875 54.6875 \nL 54.296875 0 \nL 45.3125 0 \nL 45.3125 8.40625 \nQ 42.046875 3.421875 37.71875 1 \nQ 33.40625 -1.421875 27.6875 -1.421875 \nQ 18.265625 -1.421875 13.375 4.4375 \nQ 8.5 10.296875 8.5 21.578125 \nz\nM 31.109375 56 \nz\n\" id=\"DejaVuSans-117\"/>\n     <path d=\"M 44.28125 53.078125 \nL 44.28125 44.578125 \nQ 40.484375 46.53125 36.375 47.5 \nQ 32.28125 48.484375 27.875 48.484375 \nQ 21.1875 48.484375 17.84375 46.4375 \nQ 14.5 44.390625 14.5 40.28125 \nQ 14.5 37.15625 16.890625 35.375 \nQ 19.28125 33.59375 26.515625 31.984375 \nL 29.59375 31.296875 \nQ 39.15625 29.25 43.1875 25.515625 \nQ 47.21875 21.78125 47.21875 15.09375 \nQ 47.21875 7.46875 41.1875 3.015625 \nQ 35.15625 -1.421875 24.609375 -1.421875 \nQ 20.21875 -1.421875 15.453125 -0.5625 \nQ 10.6875 0.296875 5.421875 2 \nL 5.421875 11.28125 \nQ 10.40625 8.6875 15.234375 7.390625 \nQ 20.0625 6.109375 24.8125 6.109375 \nQ 31.15625 6.109375 34.5625 8.28125 \nQ 37.984375 10.453125 37.984375 14.40625 \nQ 37.984375 18.0625 35.515625 20.015625 \nQ 33.0625 21.96875 24.703125 23.78125 \nL 21.578125 24.515625 \nQ 13.234375 26.265625 9.515625 29.90625 \nQ 5.8125 33.546875 5.8125 39.890625 \nQ 5.8125 47.609375 11.28125 51.796875 \nQ 16.75 56 26.8125 56 \nQ 31.78125 56 36.171875 55.265625 \nQ 40.578125 54.546875 44.28125 53.078125 \nz\n\" id=\"DejaVuSans-115\"/>\n     <path d=\"M 2.984375 54.6875 \nL 12.5 54.6875 \nL 29.59375 8.796875 \nL 46.6875 54.6875 \nL 56.203125 54.6875 \nL 35.6875 0 \nL 23.484375 0 \nz\n\" id=\"DejaVuSans-118\"/>\n     <path d=\"M 45.40625 27.984375 \nQ 45.40625 37.75 41.375 43.109375 \nQ 37.359375 48.484375 30.078125 48.484375 \nQ 22.859375 48.484375 18.828125 43.109375 \nQ 14.796875 37.75 14.796875 27.984375 \nQ 14.796875 18.265625 18.828125 12.890625 \nQ 22.859375 7.515625 30.078125 7.515625 \nQ 37.359375 7.515625 41.375 12.890625 \nQ 45.40625 18.265625 45.40625 27.984375 \nz\nM 54.390625 6.78125 \nQ 54.390625 -7.171875 48.1875 -13.984375 \nQ 42 -20.796875 29.203125 -20.796875 \nQ 24.46875 -20.796875 20.265625 -20.09375 \nQ 16.0625 -19.390625 12.109375 -17.921875 \nL 12.109375 -9.1875 \nQ 16.0625 -11.328125 19.921875 -12.34375 \nQ 23.78125 -13.375 27.78125 -13.375 \nQ 36.625 -13.375 41.015625 -8.765625 \nQ 45.40625 -4.15625 45.40625 5.171875 \nL 45.40625 9.625 \nQ 42.625 4.78125 38.28125 2.390625 \nQ 33.9375 0 27.875 0 \nQ 17.828125 0 11.671875 7.65625 \nQ 5.515625 15.328125 5.515625 27.984375 \nQ 5.515625 40.671875 11.671875 48.328125 \nQ 17.828125 56 27.875 56 \nQ 33.9375 56 38.28125 53.609375 \nQ 42.625 51.21875 45.40625 46.390625 \nL 45.40625 54.6875 \nL 54.390625 54.6875 \nz\n\" id=\"DejaVuSans-103\"/>\n    </defs>\n    <g transform=\"translate(35.494688 16.798125)scale(0.12 -0.12)\">\n     <use xlink:href=\"#DejaVuSans-77\"/>\n     <use x=\"86.279297\" xlink:href=\"#DejaVuSans-97\"/>\n     <use x=\"147.558594\" xlink:href=\"#DejaVuSans-116\"/>\n     <use x=\"186.767578\" xlink:href=\"#DejaVuSans-114\"/>\n     <use x=\"227.880859\" xlink:href=\"#DejaVuSans-105\"/>\n     <use x=\"255.664062\" xlink:href=\"#DejaVuSans-99\"/>\n     <use x=\"310.644531\" xlink:href=\"#DejaVuSans-101\"/>\n     <use x=\"372.167969\" xlink:href=\"#DejaVuSans-32\"/>\n     <use x=\"403.955078\" xlink:href=\"#DejaVuSans-100\"/>\n     <use x=\"467.431641\" xlink:href=\"#DejaVuSans-101\"/>\n     <use x=\"528.955078\" xlink:href=\"#DejaVuSans-32\"/>\n     <use x=\"560.742188\" xlink:href=\"#DejaVuSans-99\"/>\n     <use x=\"615.722656\" xlink:href=\"#DejaVuSans-111\"/>\n     <use x=\"676.904297\" xlink:href=\"#DejaVuSans-110\"/>\n     <use x=\"740.283203\" xlink:href=\"#DejaVuSans-102\"/>\n     <use x=\"775.488281\" xlink:href=\"#DejaVuSans-117\"/>\n     <use x=\"838.867188\" xlink:href=\"#DejaVuSans-115\"/>\n     <use x=\"890.966797\" xlink:href=\"#DejaVuSans-105\"/>\n     <use x=\"918.75\" xlink:href=\"#DejaVuSans-111\"/>\n     <use x=\"979.931641\" xlink:href=\"#DejaVuSans-110\"/>\n     <use x=\"1043.310547\" xlink:href=\"#DejaVuSans-32\"/>\n     <use x=\"1075.097656\" xlink:href=\"#DejaVuSans-97\"/>\n     <use x=\"1136.376953\" xlink:href=\"#DejaVuSans-118\"/>\n     <use x=\"1195.556641\" xlink:href=\"#DejaVuSans-101\"/>\n     <use x=\"1257.080078\" xlink:href=\"#DejaVuSans-99\"/>\n     <use x=\"1312.060547\" xlink:href=\"#DejaVuSans-32\"/>\n     <use x=\"1343.847656\" xlink:href=\"#DejaVuSans-114\"/>\n     <use x=\"1382.710938\" xlink:href=\"#DejaVuSans-233\"/>\n     <use x=\"1444.234375\" xlink:href=\"#DejaVuSans-103\"/>\n     <use x=\"1507.710938\" xlink:href=\"#DejaVuSans-114\"/>\n     <use x=\"1546.574219\" xlink:href=\"#DejaVuSans-101\"/>\n     <use x=\"1608.097656\" xlink:href=\"#DejaVuSans-115\"/>\n     <use x=\"1660.197266\" xlink:href=\"#DejaVuSans-115\"/>\n     <use x=\"1712.296875\" xlink:href=\"#DejaVuSans-105\"/>\n     <use x=\"1740.080078\" xlink:href=\"#DejaVuSans-111\"/>\n     <use x=\"1801.261719\" xlink:href=\"#DejaVuSans-110\"/>\n     <use x=\"1864.640625\" xlink:href=\"#DejaVuSans-32\"/>\n     <use x=\"1896.427734\" xlink:href=\"#DejaVuSans-108\"/>\n     <use x=\"1924.210938\" xlink:href=\"#DejaVuSans-105\"/>\n     <use x=\"1951.994141\" xlink:href=\"#DejaVuSans-110\"/>\n     <use x=\"2015.373047\" xlink:href=\"#DejaVuSans-233\"/>\n     <use x=\"2076.896484\" xlink:href=\"#DejaVuSans-97\"/>\n     <use x=\"2138.175781\" xlink:href=\"#DejaVuSans-105\"/>\n     <use x=\"2165.958984\" xlink:href=\"#DejaVuSans-114\"/>\n     <use x=\"2204.822266\" xlink:href=\"#DejaVuSans-101\"/>\n    </g>\n   </g>\n  </g>\n  <g id=\"axes_2\">\n   <g id=\"patch_3\">\n    <path clip-path=\"url(#pbd43ee7d4b)\" d=\"M 322.13625 240.238125 \nL 322.13625 239.38875 \nL 322.13625 23.6475 \nL 322.13625 22.798125 \nL 333.00825 22.798125 \nL 333.00825 23.6475 \nL 333.00825 239.38875 \nL 333.00825 240.238125 \nz\n\" style=\"fill:#ffffff;stroke:#ffffff;stroke-linejoin:miter;stroke-width:0.01;\"/>\n   </g>\n   <image height=\"217\" id=\"image4fb142bd73\" transform=\"scale(1 -1)translate(0 -217)\" width=\"11\" x=\"322\" xlink:href=\"data:image/png;base64,\niVBORw0KGgoAAAANSUhEUgAAAAsAAADZCAYAAAD2WsoCAAAABHNCSVQICAgIfAhkiAAAAVlJREFUaIHVmNsNw0AIBHmlifRfZ5wWmI+RsL9Xq2XgOJ1zPt8nlt9k5lZLxWE5d9ZeXFqBpRWIMiMaXgc9zqzdrCkEnUeDOIvD/8YCtTPIaGgxJtCI7j9zNrzNT2jspe7mJ+Lx7pS1VG03ioHa7Q2/iQ44t3cGSQyz3e/L7MVozbnWzwOZBhDD4ScxCA2vwLkRg7VbG6QrNLQY8+ytzTN4IwaikWFlhgVaMTp+wBmAFjMn2AXTRFxEjGJA57WW0gBbxiyQxVhroXMXGH7wqwCi82jUkAI1ziY64Fzgpp/QYnhi8ISNybkRA1wqtEDkTN6DWmYxBrhj2d8elBmKSWZSIItB/hJ7NJLQiN6/6cWmHOGc4A+H2m7ijM7g7Le52hRyYL0YiAbbdaiDFjomZqvgRoHIudHw38j8QhqZ2iBdoeFdE1aB2R/J2Rx+i3N6q+BGgezAIhpWgX8Q+yojYgoAGwAAAABJRU5ErkJggg==\" y=\"-23\"/>\n   <g id=\"matplotlib.axis_3\"/>\n   <g id=\"matplotlib.axis_4\">\n    <g id=\"ytick_12\">\n     <g id=\"line2d_23\">\n      <defs>\n       <path d=\"M 0 0 \nL 3.5 0 \n\" id=\"mcce33fdc30\" style=\"stroke:#000000;stroke-width:0.8;\"/>\n      </defs>\n      <g>\n       <use style=\"stroke:#000000;stroke-width:0.8;\" x=\"333.00825\" xlink:href=\"#mcce33fdc30\" y=\"240.238125\"/>\n      </g>\n     </g>\n     <g id=\"text_147\">\n      <!-- 0 -->\n      <g transform=\"translate(340.00825 244.037344)scale(0.1 -0.1)\">\n       <use xlink:href=\"#DejaVuSans-48\"/>\n      </g>\n     </g>\n    </g>\n    <g id=\"ytick_13\">\n     <g id=\"line2d_24\">\n      <g>\n       <use style=\"stroke:#000000;stroke-width:0.8;\" x=\"333.00825\" xlink:href=\"#mcce33fdc30\" y=\"198.42274\"/>\n      </g>\n     </g>\n     <g id=\"text_148\">\n      <!-- 5 -->\n      <g transform=\"translate(340.00825 202.221959)scale(0.1 -0.1)\">\n       <use xlink:href=\"#DejaVuSans-53\"/>\n      </g>\n     </g>\n    </g>\n    <g id=\"ytick_14\">\n     <g id=\"line2d_25\">\n      <g>\n       <use style=\"stroke:#000000;stroke-width:0.8;\" x=\"333.00825\" xlink:href=\"#mcce33fdc30\" y=\"156.607356\"/>\n      </g>\n     </g>\n     <g id=\"text_149\">\n      <!-- 10 -->\n      <g transform=\"translate(340.00825 160.406575)scale(0.1 -0.1)\">\n       <use xlink:href=\"#DejaVuSans-49\"/>\n       <use x=\"63.623047\" xlink:href=\"#DejaVuSans-48\"/>\n      </g>\n     </g>\n    </g>\n    <g id=\"ytick_15\">\n     <g id=\"line2d_26\">\n      <g>\n       <use style=\"stroke:#000000;stroke-width:0.8;\" x=\"333.00825\" xlink:href=\"#mcce33fdc30\" y=\"114.791971\"/>\n      </g>\n     </g>\n     <g id=\"text_150\">\n      <!-- 15 -->\n      <g transform=\"translate(340.00825 118.59119)scale(0.1 -0.1)\">\n       <use xlink:href=\"#DejaVuSans-49\"/>\n       <use x=\"63.623047\" xlink:href=\"#DejaVuSans-53\"/>\n      </g>\n     </g>\n    </g>\n    <g id=\"ytick_16\">\n     <g id=\"line2d_27\">\n      <g>\n       <use style=\"stroke:#000000;stroke-width:0.8;\" x=\"333.00825\" xlink:href=\"#mcce33fdc30\" y=\"72.976587\"/>\n      </g>\n     </g>\n     <g id=\"text_151\">\n      <!-- 20 -->\n      <g transform=\"translate(340.00825 76.775805)scale(0.1 -0.1)\">\n       <use xlink:href=\"#DejaVuSans-50\"/>\n       <use x=\"63.623047\" xlink:href=\"#DejaVuSans-48\"/>\n      </g>\n     </g>\n    </g>\n    <g id=\"ytick_17\">\n     <g id=\"line2d_28\">\n      <g>\n       <use style=\"stroke:#000000;stroke-width:0.8;\" x=\"333.00825\" xlink:href=\"#mcce33fdc30\" y=\"31.161202\"/>\n      </g>\n     </g>\n     <g id=\"text_152\">\n      <!-- 25 -->\n      <g transform=\"translate(340.00825 34.960421)scale(0.1 -0.1)\">\n       <use xlink:href=\"#DejaVuSans-50\"/>\n       <use x=\"63.623047\" xlink:href=\"#DejaVuSans-53\"/>\n      </g>\n     </g>\n    </g>\n   </g>\n   <g id=\"patch_4\">\n    <path d=\"M 322.13625 240.238125 \nL 322.13625 239.38875 \nL 322.13625 23.6475 \nL 322.13625 22.798125 \nL 333.00825 22.798125 \nL 333.00825 23.6475 \nL 333.00825 239.38875 \nL 333.00825 240.238125 \nz\n\" style=\"fill:none;\"/>\n   </g>\n  </g>\n </g>\n <defs>\n  <clipPath id=\"pa50694ff80\">\n   <rect height=\"217.44\" width=\"267.84\" x=\"37.55625\" y=\"22.798125\"/>\n  </clipPath>\n  <clipPath id=\"pbd43ee7d4b\">\n   <rect height=\"217.44\" width=\"10.872\" x=\"322.13625\" y=\"22.798125\"/>\n  </clipPath>\n </defs>\n</svg>\n",
      "image/png": "[encoded data removed]"
     },
     "metadata": {
      "needs_background": "light"
     }
    }
   ],
   "source": [
    "cm_regression = confusion_matrix(y_test,y_prediction)\n",
    "cm = pd.DataFrame(cm_regression, index = np.linspace(0,10,11), columns = np.linspace(0,10,11))\n",
    "ax = sns.heatmap(cm, annot=True)\n",
    "bottom, top = ax.get_ylim()\n",
    "ax.set_ylim(bottom + 0.5, top - 0.5)\n",
    "plt.title(\"Matrice de confusion avec régression linéaire\")\n",
    "plt.ylabel('Nombre réel')\n",
    "plt.xlabel('Nombre prédit')"
   ]
  },
  {
   "cell_type": "code",
   "execution_count": 35,
   "metadata": {},
   "outputs": [
    {
     "output_type": "execute_result",
     "data": {
      "text/plain": [
       "0.6678117959292779"
      ]
     },
     "metadata": {},
     "execution_count": 35
    }
   ],
   "source": [
    "precision_score(y_test, y_prediction, average = 'weighted')"
   ]
  },
  {
   "source": [
    "Précision du modèle de 0.67. En gros 2/3 des prédictions sont bonnes pour cette station vélib"
   ],
   "cell_type": "markdown",
   "metadata": {}
  },
  {
   "cell_type": "code",
   "execution_count": 36,
   "metadata": {},
   "outputs": [
    {
     "output_type": "execute_result",
     "data": {
      "text/plain": [
       "0.5697674418604651"
      ]
     },
     "metadata": {},
     "execution_count": 36
    }
   ],
   "source": [
    "recall_score(y_test, y_prediction, average = 'weighted')"
   ]
  },
  {
   "cell_type": "code",
   "execution_count": null,
   "metadata": {},
   "outputs": [],
   "source": []
  }
 ]
}